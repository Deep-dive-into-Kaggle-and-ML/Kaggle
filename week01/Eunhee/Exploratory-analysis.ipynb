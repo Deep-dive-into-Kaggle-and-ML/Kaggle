{
 "cells": [
  {
   "cell_type": "markdown",
   "id": "594d7fb7",
   "metadata": {},
   "source": [
    "## 분석에 필요한 모듈 임포트"
   ]
  },
  {
   "cell_type": "code",
   "execution_count": 1,
   "id": "40b642b7",
   "metadata": {
    "pycharm": {
     "name": "#%%\n"
    }
   },
   "outputs": [],
   "source": [
    "import pandas as pd\n",
    "import numpy as np\n",
    "import matplotlib.pyplot as plt\n",
    "import seaborn as sns\n",
    "\n",
    "from sklearn.utils import shuffle\n",
    "from sklearn.preprocessing import PolynomialFeatures\n",
    "from sklearn.preprocessing import StandardScaler\n",
    "from sklearn.feature_selection import VarianceThreshold\n",
    "from sklearn.feature_selection import SelectFromModel\n",
    "\n",
    "from sklearn.model_selection import StratifiedKFold\n",
    "from sklearn.model_selection import cross_val_score\n",
    "\n",
    "from lightgbm import LGBMClassifier\n",
    "from xgboost import XGBClassifier\n",
    "from sklearn.linear_model import LogisticRegression"
   ]
  },
  {
   "cell_type": "markdown",
   "source": [
    "`from sklearn.preprocessing import Imputer`의 경우 존재하지 않는 모듈이라는 오류가 떠서 제외하였습니다.\n",
    "\n",
    "## 데이터 로딩"
   ],
   "metadata": {
    "collapsed": false,
    "pycharm": {
     "name": "#%% md\n"
    }
   }
  },
  {
   "cell_type": "code",
   "execution_count": 2,
   "outputs": [],
   "source": [
    "trainset = pd.read_csv('../input/train.csv')\n",
    "testset = pd.read_csv('../input/test.csv')"
   ],
   "metadata": {
    "collapsed": false,
    "pycharm": {
     "name": "#%%\n"
    }
   }
  },
  {
   "cell_type": "markdown",
   "source": [
    "#### ✅ 절대 경로와 상대 경로\n",
    "- 절대 경로 : 어떠한 웹페이지나 파일이 가지고 있는 고유한 경로\n",
    "- 상대 경로 : '현재 위치한 곳을 기준' 으로 한 경로\n",
    "\n",
    "따라서, `trainset`과 `testset`의 경로는 절대 경로와 상대 경로 모두로도 사용할 수 있습니다. 위의 예시는 상대 경로를 사용한 것인데요.\n",
    "\n",
    "`Kaggle/week01/input` 에 `train.csv`와 `test.csv`가 존재하고, 현재 작업 중인 디렉토리는"
   ],
   "metadata": {
    "collapsed": false,
    "pycharm": {
     "name": "#%% md\n"
    }
   }
  },
  {
   "cell_type": "code",
   "execution_count": 3,
   "outputs": [
    {
     "data": {
      "text/plain": "'C:\\\\Users\\\\USER\\\\PycharmProjects\\\\Kaggle_local\\\\week01\\\\Eunhee'"
     },
     "execution_count": 3,
     "metadata": {},
     "output_type": "execute_result"
    }
   ],
   "source": [
    "import os\n",
    "os.getcwd()"
   ],
   "metadata": {
    "collapsed": false,
    "pycharm": {
     "name": "#%%\n"
    }
   }
  },
  {
   "cell_type": "markdown",
   "source": [
    "`Kaggle/week01/Eunhee`입니다. 즉, 현재 디렉토리에서 한 단계 상위 디렉토리로 이동한 다음, `input` 으로 이동해야 비로소 `train.csv`와 `test.csv`를 이용할 수 있는 것이죠.\n",
    "- / : 최상위 디렉토리로 이동\n",
    "- ./ : 현재 디렉토리를 의미\n",
    "- ../ : 한 단계 상위 디렉토리로 이동\n",
    "    - 예) 두 단계 상위 디렉토리로 이동 시 ../../\n",
    "\n",
    "자세한 설명은 [링크](https://88240.tistory.com/122) 의 글을 참고해 주세요.\n",
    "\n",
    "## 데이터에 대한 사전 이해\n",
    "- 몇 가지 **그룹**들이 정의되어 있고, 이러한 그룹에 속해 있는 특징들은 이름에 패턴을 포함(`ind`, `reg`, `car`, `calc`)합니다. **ind**는 individual, **reg**은 registration, **car**은 self-explanatory, **calc**은 calculated field 를 의미합니다.\n",
    "- 접미사 `bin`은 binary feature 에 대해 사용됩니다.\n",
    "- 접미사 `cat`은 categorical features 에 대해 사용됩니다.\n",
    "- `bin`이나 `cat`이 없는 특징들은 실수나 정수입니다.\n",
    "- 결측치는 `-1`으로 나타냅니다.\n",
    "- 예측의 관심은 `target` 컬럼입니다. 이것은 해당 보험자에 대한 보험금 청구가 접수되었는지 여부를 나타냅니다.\n",
    "- `id`는 데이터 인풋, 숫자형입니다."
   ],
   "metadata": {
    "collapsed": false
   }
  },
  {
   "cell_type": "code",
   "execution_count": 4,
   "outputs": [
    {
     "data": {
      "text/plain": "   id  target  ps_ind_01  ps_ind_02_cat  ps_ind_03  ps_ind_04_cat  \\\n0   7       0          2              2          5              1   \n1   9       0          1              1          7              0   \n2  13       0          5              4          9              1   \n3  16       0          0              1          2              0   \n4  17       0          0              2          0              1   \n\n   ps_ind_05_cat  ps_ind_06_bin  ps_ind_07_bin  ps_ind_08_bin  ...  \\\n0              0              0              1              0  ...   \n1              0              0              0              1  ...   \n2              0              0              0              1  ...   \n3              0              1              0              0  ...   \n4              0              1              0              0  ...   \n\n   ps_calc_11  ps_calc_12  ps_calc_13  ps_calc_14  ps_calc_15_bin  \\\n0           9           1           5           8               0   \n1           3           1           1           9               0   \n2           4           2           7           7               0   \n3           2           2           4           9               0   \n4           3           1           1           3               0   \n\n   ps_calc_16_bin  ps_calc_17_bin  ps_calc_18_bin  ps_calc_19_bin  \\\n0               1               1               0               0   \n1               1               1               0               1   \n2               1               1               0               1   \n3               0               0               0               0   \n4               0               0               1               1   \n\n   ps_calc_20_bin  \n0               1  \n1               0  \n2               0  \n3               0  \n4               0  \n\n[5 rows x 59 columns]",
      "text/html": "<div>\n<style scoped>\n    .dataframe tbody tr th:only-of-type {\n        vertical-align: middle;\n    }\n\n    .dataframe tbody tr th {\n        vertical-align: top;\n    }\n\n    .dataframe thead th {\n        text-align: right;\n    }\n</style>\n<table border=\"1\" class=\"dataframe\">\n  <thead>\n    <tr style=\"text-align: right;\">\n      <th></th>\n      <th>id</th>\n      <th>target</th>\n      <th>ps_ind_01</th>\n      <th>ps_ind_02_cat</th>\n      <th>ps_ind_03</th>\n      <th>ps_ind_04_cat</th>\n      <th>ps_ind_05_cat</th>\n      <th>ps_ind_06_bin</th>\n      <th>ps_ind_07_bin</th>\n      <th>ps_ind_08_bin</th>\n      <th>...</th>\n      <th>ps_calc_11</th>\n      <th>ps_calc_12</th>\n      <th>ps_calc_13</th>\n      <th>ps_calc_14</th>\n      <th>ps_calc_15_bin</th>\n      <th>ps_calc_16_bin</th>\n      <th>ps_calc_17_bin</th>\n      <th>ps_calc_18_bin</th>\n      <th>ps_calc_19_bin</th>\n      <th>ps_calc_20_bin</th>\n    </tr>\n  </thead>\n  <tbody>\n    <tr>\n      <th>0</th>\n      <td>7</td>\n      <td>0</td>\n      <td>2</td>\n      <td>2</td>\n      <td>5</td>\n      <td>1</td>\n      <td>0</td>\n      <td>0</td>\n      <td>1</td>\n      <td>0</td>\n      <td>...</td>\n      <td>9</td>\n      <td>1</td>\n      <td>5</td>\n      <td>8</td>\n      <td>0</td>\n      <td>1</td>\n      <td>1</td>\n      <td>0</td>\n      <td>0</td>\n      <td>1</td>\n    </tr>\n    <tr>\n      <th>1</th>\n      <td>9</td>\n      <td>0</td>\n      <td>1</td>\n      <td>1</td>\n      <td>7</td>\n      <td>0</td>\n      <td>0</td>\n      <td>0</td>\n      <td>0</td>\n      <td>1</td>\n      <td>...</td>\n      <td>3</td>\n      <td>1</td>\n      <td>1</td>\n      <td>9</td>\n      <td>0</td>\n      <td>1</td>\n      <td>1</td>\n      <td>0</td>\n      <td>1</td>\n      <td>0</td>\n    </tr>\n    <tr>\n      <th>2</th>\n      <td>13</td>\n      <td>0</td>\n      <td>5</td>\n      <td>4</td>\n      <td>9</td>\n      <td>1</td>\n      <td>0</td>\n      <td>0</td>\n      <td>0</td>\n      <td>1</td>\n      <td>...</td>\n      <td>4</td>\n      <td>2</td>\n      <td>7</td>\n      <td>7</td>\n      <td>0</td>\n      <td>1</td>\n      <td>1</td>\n      <td>0</td>\n      <td>1</td>\n      <td>0</td>\n    </tr>\n    <tr>\n      <th>3</th>\n      <td>16</td>\n      <td>0</td>\n      <td>0</td>\n      <td>1</td>\n      <td>2</td>\n      <td>0</td>\n      <td>0</td>\n      <td>1</td>\n      <td>0</td>\n      <td>0</td>\n      <td>...</td>\n      <td>2</td>\n      <td>2</td>\n      <td>4</td>\n      <td>9</td>\n      <td>0</td>\n      <td>0</td>\n      <td>0</td>\n      <td>0</td>\n      <td>0</td>\n      <td>0</td>\n    </tr>\n    <tr>\n      <th>4</th>\n      <td>17</td>\n      <td>0</td>\n      <td>0</td>\n      <td>2</td>\n      <td>0</td>\n      <td>1</td>\n      <td>0</td>\n      <td>1</td>\n      <td>0</td>\n      <td>0</td>\n      <td>...</td>\n      <td>3</td>\n      <td>1</td>\n      <td>1</td>\n      <td>3</td>\n      <td>0</td>\n      <td>0</td>\n      <td>0</td>\n      <td>1</td>\n      <td>1</td>\n      <td>0</td>\n    </tr>\n  </tbody>\n</table>\n<p>5 rows × 59 columns</p>\n</div>"
     },
     "execution_count": 4,
     "metadata": {},
     "output_type": "execute_result"
    }
   ],
   "source": [
    "trainset.head()"
   ],
   "metadata": {
    "collapsed": false,
    "pycharm": {
     "name": "#%%\n"
    }
   }
  },
  {
   "cell_type": "code",
   "execution_count": 5,
   "outputs": [
    {
     "name": "stdout",
     "output_type": "stream",
     "text": [
      "Train dataset (rows, cols) : (595212, 59) \n",
      "Test dataset (rows, cols) : (892816, 58)\n"
     ]
    }
   ],
   "source": [
    "print(\"Train dataset (rows, cols) :\", trainset.shape, \"\\nTest dataset (rows, cols) :\", testset.shape)"
   ],
   "metadata": {
    "collapsed": false,
    "pycharm": {
     "name": "#%%\n"
    }
   }
  },
  {
   "cell_type": "markdown",
   "source": [
    "training set 에는 59개의 컬럼이 있는데, test set 에는 58개의 컬럼이 있습니다. 이는 `target` 컬럼이 test set 에는 존재하지 않기 때문인데요. 파이썬의 `set` 자료형과 차집합 원리를 이용하여 쉽게 확인할 수 있씁니다."
   ],
   "metadata": {
    "collapsed": false
   }
  },
  {
   "cell_type": "code",
   "execution_count": 6,
   "outputs": [
    {
     "name": "stdout",
     "output_type": "stream",
     "text": [
      "Columns in train and not in test dataset : {'target'}\n"
     ]
    }
   ],
   "source": [
    "print(\"Columns in train and not in test dataset :\", set(trainset.columns)-set(testset.columns))"
   ],
   "metadata": {
    "collapsed": false,
    "pycharm": {
     "name": "#%%\n"
    }
   }
  },
  {
   "cell_type": "markdown",
   "source": [
    "## 메타데이터\n",
    "- use : input, ID, target\n",
    "- type : nominal, interval, ordinal, binary\n",
    "- preserve : True, False\n",
    "- dataType : int, float, char\n",
    "- category : ind, reg, car,calc"
   ],
   "metadata": {
    "collapsed": false
   }
  },
  {
   "cell_type": "code",
   "execution_count": 7,
   "outputs": [
    {
     "data": {
      "text/plain": "                   use         type  preserve    dtype      category\nvarname                                                             \nid                  id  categorical     False    int64          none\ntarget          target       binary      True    int64          none\nps_ind_01        input       binary      True    int64    individual\nps_ind_02_cat    input  categorical      True    int64    individual\nps_ind_03        input  categorical      True    int64    individual\nps_ind_04_cat    input  categorical      True    int64    individual\nps_ind_05_cat    input  categorical      True    int64    individual\nps_ind_06_bin    input       binary      True    int64    individual\nps_ind_07_bin    input       binary      True    int64    individual\nps_ind_08_bin    input       binary      True    int64    individual\nps_ind_09_bin    input       binary      True    int64    individual\nps_ind_10_bin    input       binary      True    int64    individual\nps_ind_11_bin    input       binary      True    int64    individual\nps_ind_12_bin    input       binary      True    int64    individual\nps_ind_13_bin    input       binary      True    int64    individual\nps_ind_14        input       binary      True    int64    individual\nps_ind_15        input       binary      True    int64    individual\nps_ind_16_bin    input       binary      True    int64    individual\nps_ind_17_bin    input       binary      True    int64    individual\nps_ind_18_bin    input       binary      True    int64    individual\nps_reg_01        input         real      True  float64  registration\nps_reg_02        input         real      True  float64  registration\nps_reg_03        input         real      True  float64  registration\nps_car_01_cat    input  categorical      True    int64           car\nps_car_02_cat    input  categorical      True    int64           car\nps_car_03_cat    input  categorical      True    int64           car\nps_car_04_cat    input  categorical      True    int64           car\nps_car_05_cat    input  categorical      True    int64           car\nps_car_06_cat    input  categorical      True    int64           car\nps_car_07_cat    input  categorical      True    int64           car\nps_car_08_cat    input  categorical      True    int64           car\nps_car_09_cat    input  categorical      True    int64           car\nps_car_10_cat    input  categorical      True    int64           car\nps_car_11_cat    input  categorical      True    int64           car\nps_car_11        input  categorical      True    int64           car\nps_car_12        input         real      True  float64           car\nps_car_13        input         real      True  float64           car\nps_car_14        input         real      True  float64           car\nps_car_15        input         real      True  float64           car\nps_calc_01       input         real      True  float64    calculated\nps_calc_02       input         real      True  float64    calculated\nps_calc_03       input         real      True  float64    calculated\nps_calc_04       input         real      True    int64    calculated\nps_calc_05       input         real      True    int64    calculated\nps_calc_06       input         real      True    int64    calculated\nps_calc_07       input         real      True    int64    calculated\nps_calc_08       input         real      True    int64    calculated\nps_calc_09       input         real      True    int64    calculated\nps_calc_10       input         real      True    int64    calculated\nps_calc_11       input         real      True    int64    calculated\nps_calc_12       input         real      True    int64    calculated\nps_calc_13       input         real      True    int64    calculated\nps_calc_14       input         real      True    int64    calculated\nps_calc_15_bin   input       binary      True    int64    calculated\nps_calc_16_bin   input       binary      True    int64    calculated\nps_calc_17_bin   input       binary      True    int64    calculated\nps_calc_18_bin   input       binary      True    int64    calculated\nps_calc_19_bin   input       binary      True    int64    calculated\nps_calc_20_bin   input       binary      True    int64    calculated",
      "text/html": "<div>\n<style scoped>\n    .dataframe tbody tr th:only-of-type {\n        vertical-align: middle;\n    }\n\n    .dataframe tbody tr th {\n        vertical-align: top;\n    }\n\n    .dataframe thead th {\n        text-align: right;\n    }\n</style>\n<table border=\"1\" class=\"dataframe\">\n  <thead>\n    <tr style=\"text-align: right;\">\n      <th></th>\n      <th>use</th>\n      <th>type</th>\n      <th>preserve</th>\n      <th>dtype</th>\n      <th>category</th>\n    </tr>\n    <tr>\n      <th>varname</th>\n      <th></th>\n      <th></th>\n      <th></th>\n      <th></th>\n      <th></th>\n    </tr>\n  </thead>\n  <tbody>\n    <tr>\n      <th>id</th>\n      <td>id</td>\n      <td>categorical</td>\n      <td>False</td>\n      <td>int64</td>\n      <td>none</td>\n    </tr>\n    <tr>\n      <th>target</th>\n      <td>target</td>\n      <td>binary</td>\n      <td>True</td>\n      <td>int64</td>\n      <td>none</td>\n    </tr>\n    <tr>\n      <th>ps_ind_01</th>\n      <td>input</td>\n      <td>binary</td>\n      <td>True</td>\n      <td>int64</td>\n      <td>individual</td>\n    </tr>\n    <tr>\n      <th>ps_ind_02_cat</th>\n      <td>input</td>\n      <td>categorical</td>\n      <td>True</td>\n      <td>int64</td>\n      <td>individual</td>\n    </tr>\n    <tr>\n      <th>ps_ind_03</th>\n      <td>input</td>\n      <td>categorical</td>\n      <td>True</td>\n      <td>int64</td>\n      <td>individual</td>\n    </tr>\n    <tr>\n      <th>ps_ind_04_cat</th>\n      <td>input</td>\n      <td>categorical</td>\n      <td>True</td>\n      <td>int64</td>\n      <td>individual</td>\n    </tr>\n    <tr>\n      <th>ps_ind_05_cat</th>\n      <td>input</td>\n      <td>categorical</td>\n      <td>True</td>\n      <td>int64</td>\n      <td>individual</td>\n    </tr>\n    <tr>\n      <th>ps_ind_06_bin</th>\n      <td>input</td>\n      <td>binary</td>\n      <td>True</td>\n      <td>int64</td>\n      <td>individual</td>\n    </tr>\n    <tr>\n      <th>ps_ind_07_bin</th>\n      <td>input</td>\n      <td>binary</td>\n      <td>True</td>\n      <td>int64</td>\n      <td>individual</td>\n    </tr>\n    <tr>\n      <th>ps_ind_08_bin</th>\n      <td>input</td>\n      <td>binary</td>\n      <td>True</td>\n      <td>int64</td>\n      <td>individual</td>\n    </tr>\n    <tr>\n      <th>ps_ind_09_bin</th>\n      <td>input</td>\n      <td>binary</td>\n      <td>True</td>\n      <td>int64</td>\n      <td>individual</td>\n    </tr>\n    <tr>\n      <th>ps_ind_10_bin</th>\n      <td>input</td>\n      <td>binary</td>\n      <td>True</td>\n      <td>int64</td>\n      <td>individual</td>\n    </tr>\n    <tr>\n      <th>ps_ind_11_bin</th>\n      <td>input</td>\n      <td>binary</td>\n      <td>True</td>\n      <td>int64</td>\n      <td>individual</td>\n    </tr>\n    <tr>\n      <th>ps_ind_12_bin</th>\n      <td>input</td>\n      <td>binary</td>\n      <td>True</td>\n      <td>int64</td>\n      <td>individual</td>\n    </tr>\n    <tr>\n      <th>ps_ind_13_bin</th>\n      <td>input</td>\n      <td>binary</td>\n      <td>True</td>\n      <td>int64</td>\n      <td>individual</td>\n    </tr>\n    <tr>\n      <th>ps_ind_14</th>\n      <td>input</td>\n      <td>binary</td>\n      <td>True</td>\n      <td>int64</td>\n      <td>individual</td>\n    </tr>\n    <tr>\n      <th>ps_ind_15</th>\n      <td>input</td>\n      <td>binary</td>\n      <td>True</td>\n      <td>int64</td>\n      <td>individual</td>\n    </tr>\n    <tr>\n      <th>ps_ind_16_bin</th>\n      <td>input</td>\n      <td>binary</td>\n      <td>True</td>\n      <td>int64</td>\n      <td>individual</td>\n    </tr>\n    <tr>\n      <th>ps_ind_17_bin</th>\n      <td>input</td>\n      <td>binary</td>\n      <td>True</td>\n      <td>int64</td>\n      <td>individual</td>\n    </tr>\n    <tr>\n      <th>ps_ind_18_bin</th>\n      <td>input</td>\n      <td>binary</td>\n      <td>True</td>\n      <td>int64</td>\n      <td>individual</td>\n    </tr>\n    <tr>\n      <th>ps_reg_01</th>\n      <td>input</td>\n      <td>real</td>\n      <td>True</td>\n      <td>float64</td>\n      <td>registration</td>\n    </tr>\n    <tr>\n      <th>ps_reg_02</th>\n      <td>input</td>\n      <td>real</td>\n      <td>True</td>\n      <td>float64</td>\n      <td>registration</td>\n    </tr>\n    <tr>\n      <th>ps_reg_03</th>\n      <td>input</td>\n      <td>real</td>\n      <td>True</td>\n      <td>float64</td>\n      <td>registration</td>\n    </tr>\n    <tr>\n      <th>ps_car_01_cat</th>\n      <td>input</td>\n      <td>categorical</td>\n      <td>True</td>\n      <td>int64</td>\n      <td>car</td>\n    </tr>\n    <tr>\n      <th>ps_car_02_cat</th>\n      <td>input</td>\n      <td>categorical</td>\n      <td>True</td>\n      <td>int64</td>\n      <td>car</td>\n    </tr>\n    <tr>\n      <th>ps_car_03_cat</th>\n      <td>input</td>\n      <td>categorical</td>\n      <td>True</td>\n      <td>int64</td>\n      <td>car</td>\n    </tr>\n    <tr>\n      <th>ps_car_04_cat</th>\n      <td>input</td>\n      <td>categorical</td>\n      <td>True</td>\n      <td>int64</td>\n      <td>car</td>\n    </tr>\n    <tr>\n      <th>ps_car_05_cat</th>\n      <td>input</td>\n      <td>categorical</td>\n      <td>True</td>\n      <td>int64</td>\n      <td>car</td>\n    </tr>\n    <tr>\n      <th>ps_car_06_cat</th>\n      <td>input</td>\n      <td>categorical</td>\n      <td>True</td>\n      <td>int64</td>\n      <td>car</td>\n    </tr>\n    <tr>\n      <th>ps_car_07_cat</th>\n      <td>input</td>\n      <td>categorical</td>\n      <td>True</td>\n      <td>int64</td>\n      <td>car</td>\n    </tr>\n    <tr>\n      <th>ps_car_08_cat</th>\n      <td>input</td>\n      <td>categorical</td>\n      <td>True</td>\n      <td>int64</td>\n      <td>car</td>\n    </tr>\n    <tr>\n      <th>ps_car_09_cat</th>\n      <td>input</td>\n      <td>categorical</td>\n      <td>True</td>\n      <td>int64</td>\n      <td>car</td>\n    </tr>\n    <tr>\n      <th>ps_car_10_cat</th>\n      <td>input</td>\n      <td>categorical</td>\n      <td>True</td>\n      <td>int64</td>\n      <td>car</td>\n    </tr>\n    <tr>\n      <th>ps_car_11_cat</th>\n      <td>input</td>\n      <td>categorical</td>\n      <td>True</td>\n      <td>int64</td>\n      <td>car</td>\n    </tr>\n    <tr>\n      <th>ps_car_11</th>\n      <td>input</td>\n      <td>categorical</td>\n      <td>True</td>\n      <td>int64</td>\n      <td>car</td>\n    </tr>\n    <tr>\n      <th>ps_car_12</th>\n      <td>input</td>\n      <td>real</td>\n      <td>True</td>\n      <td>float64</td>\n      <td>car</td>\n    </tr>\n    <tr>\n      <th>ps_car_13</th>\n      <td>input</td>\n      <td>real</td>\n      <td>True</td>\n      <td>float64</td>\n      <td>car</td>\n    </tr>\n    <tr>\n      <th>ps_car_14</th>\n      <td>input</td>\n      <td>real</td>\n      <td>True</td>\n      <td>float64</td>\n      <td>car</td>\n    </tr>\n    <tr>\n      <th>ps_car_15</th>\n      <td>input</td>\n      <td>real</td>\n      <td>True</td>\n      <td>float64</td>\n      <td>car</td>\n    </tr>\n    <tr>\n      <th>ps_calc_01</th>\n      <td>input</td>\n      <td>real</td>\n      <td>True</td>\n      <td>float64</td>\n      <td>calculated</td>\n    </tr>\n    <tr>\n      <th>ps_calc_02</th>\n      <td>input</td>\n      <td>real</td>\n      <td>True</td>\n      <td>float64</td>\n      <td>calculated</td>\n    </tr>\n    <tr>\n      <th>ps_calc_03</th>\n      <td>input</td>\n      <td>real</td>\n      <td>True</td>\n      <td>float64</td>\n      <td>calculated</td>\n    </tr>\n    <tr>\n      <th>ps_calc_04</th>\n      <td>input</td>\n      <td>real</td>\n      <td>True</td>\n      <td>int64</td>\n      <td>calculated</td>\n    </tr>\n    <tr>\n      <th>ps_calc_05</th>\n      <td>input</td>\n      <td>real</td>\n      <td>True</td>\n      <td>int64</td>\n      <td>calculated</td>\n    </tr>\n    <tr>\n      <th>ps_calc_06</th>\n      <td>input</td>\n      <td>real</td>\n      <td>True</td>\n      <td>int64</td>\n      <td>calculated</td>\n    </tr>\n    <tr>\n      <th>ps_calc_07</th>\n      <td>input</td>\n      <td>real</td>\n      <td>True</td>\n      <td>int64</td>\n      <td>calculated</td>\n    </tr>\n    <tr>\n      <th>ps_calc_08</th>\n      <td>input</td>\n      <td>real</td>\n      <td>True</td>\n      <td>int64</td>\n      <td>calculated</td>\n    </tr>\n    <tr>\n      <th>ps_calc_09</th>\n      <td>input</td>\n      <td>real</td>\n      <td>True</td>\n      <td>int64</td>\n      <td>calculated</td>\n    </tr>\n    <tr>\n      <th>ps_calc_10</th>\n      <td>input</td>\n      <td>real</td>\n      <td>True</td>\n      <td>int64</td>\n      <td>calculated</td>\n    </tr>\n    <tr>\n      <th>ps_calc_11</th>\n      <td>input</td>\n      <td>real</td>\n      <td>True</td>\n      <td>int64</td>\n      <td>calculated</td>\n    </tr>\n    <tr>\n      <th>ps_calc_12</th>\n      <td>input</td>\n      <td>real</td>\n      <td>True</td>\n      <td>int64</td>\n      <td>calculated</td>\n    </tr>\n    <tr>\n      <th>ps_calc_13</th>\n      <td>input</td>\n      <td>real</td>\n      <td>True</td>\n      <td>int64</td>\n      <td>calculated</td>\n    </tr>\n    <tr>\n      <th>ps_calc_14</th>\n      <td>input</td>\n      <td>real</td>\n      <td>True</td>\n      <td>int64</td>\n      <td>calculated</td>\n    </tr>\n    <tr>\n      <th>ps_calc_15_bin</th>\n      <td>input</td>\n      <td>binary</td>\n      <td>True</td>\n      <td>int64</td>\n      <td>calculated</td>\n    </tr>\n    <tr>\n      <th>ps_calc_16_bin</th>\n      <td>input</td>\n      <td>binary</td>\n      <td>True</td>\n      <td>int64</td>\n      <td>calculated</td>\n    </tr>\n    <tr>\n      <th>ps_calc_17_bin</th>\n      <td>input</td>\n      <td>binary</td>\n      <td>True</td>\n      <td>int64</td>\n      <td>calculated</td>\n    </tr>\n    <tr>\n      <th>ps_calc_18_bin</th>\n      <td>input</td>\n      <td>binary</td>\n      <td>True</td>\n      <td>int64</td>\n      <td>calculated</td>\n    </tr>\n    <tr>\n      <th>ps_calc_19_bin</th>\n      <td>input</td>\n      <td>binary</td>\n      <td>True</td>\n      <td>int64</td>\n      <td>calculated</td>\n    </tr>\n    <tr>\n      <th>ps_calc_20_bin</th>\n      <td>input</td>\n      <td>binary</td>\n      <td>True</td>\n      <td>int64</td>\n      <td>calculated</td>\n    </tr>\n  </tbody>\n</table>\n</div>"
     },
     "execution_count": 7,
     "metadata": {},
     "output_type": "execute_result"
    }
   ],
   "source": [
    "data = []\n",
    "for feature in trainset.columns:\n",
    "    if feature == 'target':\n",
    "        use = 'target'\n",
    "    elif feature == 'id':\n",
    "        use = 'id'\n",
    "    else:\n",
    "        use = 'input'\n",
    "\n",
    "    if 'bin' in feature or feature == 'target':\n",
    "        type = 'binary'\n",
    "    elif 'cat' in feature or feature == 'id':\n",
    "        type = 'categorical'\n",
    "    elif trainset[feature].dtype == float or isinstance(trainset[feature].dtype, float):\n",
    "        type = 'real'\n",
    "    elif trainset[feature].dtype == int:\n",
    "        type == 'integer'\n",
    "\n",
    "    preserve = True\n",
    "    if feature == 'id':\n",
    "        preserve = False\n",
    "\n",
    "    dtype = trainset[feature].dtype\n",
    "\n",
    "    category = 'none'\n",
    "    if 'ind' in feature:\n",
    "        category = 'individual'\n",
    "    elif 'reg' in feature:\n",
    "        category = 'registration'\n",
    "    elif 'car' in feature:\n",
    "        category = 'car'\n",
    "    elif 'calc' in feature:\n",
    "        category = 'calculated'\n",
    "\n",
    "    feature_dictionary = {\n",
    "        'varname' : feature,\n",
    "        'use' : use,\n",
    "        'type' : type,\n",
    "        'preserve' : preserve,\n",
    "        'dtype' : dtype,\n",
    "        'category' : category\n",
    "    }\n",
    "    data.append(feature_dictionary)\n",
    "\n",
    "metadata = pd.DataFrame(data, columns=['varname', 'use', 'type', 'preserve', 'dtype', 'category'])\n",
    "metadata.set_index('varname', inplace=True)\n",
    "metadata"
   ],
   "metadata": {
    "collapsed": false,
    "pycharm": {
     "name": "#%%\n"
    }
   }
  },
  {
   "cell_type": "markdown",
   "source": [
    "모든 범주형 변수들을 가져옵니다."
   ],
   "metadata": {
    "collapsed": false
   }
  },
  {
   "cell_type": "code",
   "execution_count": 8,
   "outputs": [
    {
     "data": {
      "text/plain": "Index(['ps_ind_02_cat', 'ps_ind_03', 'ps_ind_04_cat', 'ps_ind_05_cat',\n       'ps_car_01_cat', 'ps_car_02_cat', 'ps_car_03_cat', 'ps_car_04_cat',\n       'ps_car_05_cat', 'ps_car_06_cat', 'ps_car_07_cat', 'ps_car_08_cat',\n       'ps_car_09_cat', 'ps_car_10_cat', 'ps_car_11_cat', 'ps_car_11'],\n      dtype='object', name='varname')"
     },
     "execution_count": 8,
     "metadata": {},
     "output_type": "execute_result"
    }
   ],
   "source": [
    "metadata[(metadata.type == 'categorical') & (metadata.preserve)].index"
   ],
   "metadata": {
    "collapsed": false,
    "pycharm": {
     "name": "#%%\n"
    }
   }
  },
  {
   "cell_type": "markdown",
   "source": [
    "주어진 카테고리를 기준으로 분류합니다."
   ],
   "metadata": {
    "collapsed": false
   }
  },
  {
   "cell_type": "code",
   "execution_count": 9,
   "outputs": [
    {
     "data": {
      "text/plain": "       category  count\n0    calculated     20\n1           car     16\n2    individual     18\n3          none      2\n4  registration      3",
      "text/html": "<div>\n<style scoped>\n    .dataframe tbody tr th:only-of-type {\n        vertical-align: middle;\n    }\n\n    .dataframe tbody tr th {\n        vertical-align: top;\n    }\n\n    .dataframe thead th {\n        text-align: right;\n    }\n</style>\n<table border=\"1\" class=\"dataframe\">\n  <thead>\n    <tr style=\"text-align: right;\">\n      <th></th>\n      <th>category</th>\n      <th>count</th>\n    </tr>\n  </thead>\n  <tbody>\n    <tr>\n      <th>0</th>\n      <td>calculated</td>\n      <td>20</td>\n    </tr>\n    <tr>\n      <th>1</th>\n      <td>car</td>\n      <td>16</td>\n    </tr>\n    <tr>\n      <th>2</th>\n      <td>individual</td>\n      <td>18</td>\n    </tr>\n    <tr>\n      <th>3</th>\n      <td>none</td>\n      <td>2</td>\n    </tr>\n    <tr>\n      <th>4</th>\n      <td>registration</td>\n      <td>3</td>\n    </tr>\n  </tbody>\n</table>\n</div>"
     },
     "execution_count": 9,
     "metadata": {},
     "output_type": "execute_result"
    }
   ],
   "source": [
    "pd.DataFrame({'count' : metadata.groupby(['category'])['category'].size()}).reset_index()"
   ],
   "metadata": {
    "collapsed": false,
    "pycharm": {
     "name": "#%%\n"
    }
   }
  },
  {
   "cell_type": "markdown",
   "source": [
    "그 다음에는 이를 type을 기준으로 분류합니다."
   ],
   "metadata": {
    "collapsed": false,
    "pycharm": {
     "name": "#%% md\n"
    }
   }
  },
  {
   "cell_type": "code",
   "execution_count": 10,
   "outputs": [
    {
     "data": {
      "text/plain": "      use         type  count\n0      id  categorical      1\n1   input       binary     20\n2   input  categorical     16\n3   input         real     21\n4  target       binary      1",
      "text/html": "<div>\n<style scoped>\n    .dataframe tbody tr th:only-of-type {\n        vertical-align: middle;\n    }\n\n    .dataframe tbody tr th {\n        vertical-align: top;\n    }\n\n    .dataframe thead th {\n        text-align: right;\n    }\n</style>\n<table border=\"1\" class=\"dataframe\">\n  <thead>\n    <tr style=\"text-align: right;\">\n      <th></th>\n      <th>use</th>\n      <th>type</th>\n      <th>count</th>\n    </tr>\n  </thead>\n  <tbody>\n    <tr>\n      <th>0</th>\n      <td>id</td>\n      <td>categorical</td>\n      <td>1</td>\n    </tr>\n    <tr>\n      <th>1</th>\n      <td>input</td>\n      <td>binary</td>\n      <td>20</td>\n    </tr>\n    <tr>\n      <th>2</th>\n      <td>input</td>\n      <td>categorical</td>\n      <td>16</td>\n    </tr>\n    <tr>\n      <th>3</th>\n      <td>input</td>\n      <td>real</td>\n      <td>21</td>\n    </tr>\n    <tr>\n      <th>4</th>\n      <td>target</td>\n      <td>binary</td>\n      <td>1</td>\n    </tr>\n  </tbody>\n</table>\n</div>"
     },
     "execution_count": 10,
     "metadata": {},
     "output_type": "execute_result"
    }
   ],
   "source": [
    "pd.DataFrame({'count' : metadata.groupby(['use', 'type'])['use'].size()}).reset_index()"
   ],
   "metadata": {
    "collapsed": false,
    "pycharm": {
     "name": "#%%\n"
    }
   }
  },
  {
   "cell_type": "markdown",
   "source": [
    "## 데이터 분석과 통계\n",
    "### 타깃 변수"
   ],
   "metadata": {
    "collapsed": false,
    "pycharm": {
     "name": "#%% md\n"
    }
   }
  },
  {
   "cell_type": "code",
   "execution_count": 20,
   "outputs": [
    {
     "data": {
      "text/plain": "<Figure size 432x288 with 0 Axes>"
     },
     "metadata": {},
     "output_type": "display_data"
    },
    {
     "data": {
      "text/plain": "<Figure size 432x432 with 1 Axes>",
      "image/png": "[encoded data removed]"
     },
     "metadata": {
      "needs_background": "light"
     },
     "output_type": "display_data"
    }
   ],
   "source": [
    "plt.figure()\n",
    "fig, ax = plt.subplots(figsize=(6,6))\n",
    "x = trainset['target'].value_counts().index.values\n",
    "y = trainset[\"target\"].value_counts().values\n",
    "\n",
    "sns.barplot(ax=ax, x=x, y=y)\n",
    "plt.ylabel('Number of values', fontsize=12)\n",
    "plt.xlabel('Target value', fontsize=12)\n",
    "plt.tick_params(axis='both', which='major', labelsize=12)\n",
    "plt.show()"
   ],
   "metadata": {
    "collapsed": false,
    "pycharm": {
     "name": "#%%\n"
    }
   }
  },
  {
   "cell_type": "markdown",
   "source": [
    "-`.value_counts()` : 컬럼/Series 의 unique value 들을 count 해주는 함수로, unique value 들과 count 들을 리턴합니다.\n",
    "- `x` : `target`의 분류, 즉 0 또는 1\n",
    "- `y` : `target`의 분류별 개수, 예를 들어 0에는 몇 개, 1에는 몇 개\n",
    "- `plt.tick_params` : 눈금 스타일을 적용하는 함수, 이 설정은 x축&y축 모두에 적용하고, major 눈금으로!\n",
    "\n",
    "## 실제 feature 들"
   ],
   "metadata": {
    "collapsed": false,
    "pycharm": {
     "name": "#%% md\n"
    }
   }
  },
  {
   "cell_type": "markdown",
   "source": [
    "`metadata.type`이 `real`이고, `metadata.preserve`가 `True`인 변수들을 찾습니다."
   ],
   "metadata": {
    "collapsed": false,
    "pycharm": {
     "name": "#%% md\n"
    }
   }
  },
  {
   "cell_type": "code",
   "execution_count": 34,
   "outputs": [
    {
     "data": {
      "text/plain": "varname      ps_reg_01     ps_reg_02     ps_reg_03 ps_car_12 ps_car_13  \\\nuse              input         input         input     input     input   \ntype              real          real          real      real      real   \npreserve          True          True          True      True      True   \ndtype          float64       float64       float64   float64   float64   \ncategory  registration  registration  registration       car       car   \n\nvarname  ps_car_14 ps_car_15  ps_calc_01  ps_calc_02  ps_calc_03  ...  \\\nuse          input     input       input       input       input  ...   \ntype          real      real        real        real        real  ...   \npreserve      True      True        True        True        True  ...   \ndtype      float64   float64     float64     float64     float64  ...   \ncategory       car       car  calculated  calculated  calculated  ...   \n\nvarname   ps_calc_05  ps_calc_06  ps_calc_07  ps_calc_08  ps_calc_09  \\\nuse            input       input       input       input       input   \ntype            real        real        real        real        real   \npreserve        True        True        True        True        True   \ndtype          int64       int64       int64       int64       int64   \ncategory  calculated  calculated  calculated  calculated  calculated   \n\nvarname   ps_calc_10  ps_calc_11  ps_calc_12  ps_calc_13  ps_calc_14  \nuse            input       input       input       input       input  \ntype            real        real        real        real        real  \npreserve        True        True        True        True        True  \ndtype          int64       int64       int64       int64       int64  \ncategory  calculated  calculated  calculated  calculated  calculated  \n\n[5 rows x 21 columns]",
      "text/html": "<div>\n<style scoped>\n    .dataframe tbody tr th:only-of-type {\n        vertical-align: middle;\n    }\n\n    .dataframe tbody tr th {\n        vertical-align: top;\n    }\n\n    .dataframe thead th {\n        text-align: right;\n    }\n</style>\n<table border=\"1\" class=\"dataframe\">\n  <thead>\n    <tr style=\"text-align: right;\">\n      <th>varname</th>\n      <th>ps_reg_01</th>\n      <th>ps_reg_02</th>\n      <th>ps_reg_03</th>\n      <th>ps_car_12</th>\n      <th>ps_car_13</th>\n      <th>ps_car_14</th>\n      <th>ps_car_15</th>\n      <th>ps_calc_01</th>\n      <th>ps_calc_02</th>\n      <th>ps_calc_03</th>\n      <th>...</th>\n      <th>ps_calc_05</th>\n      <th>ps_calc_06</th>\n      <th>ps_calc_07</th>\n      <th>ps_calc_08</th>\n      <th>ps_calc_09</th>\n      <th>ps_calc_10</th>\n      <th>ps_calc_11</th>\n      <th>ps_calc_12</th>\n      <th>ps_calc_13</th>\n      <th>ps_calc_14</th>\n    </tr>\n  </thead>\n  <tbody>\n    <tr>\n      <th>use</th>\n      <td>input</td>\n      <td>input</td>\n      <td>input</td>\n      <td>input</td>\n      <td>input</td>\n      <td>input</td>\n      <td>input</td>\n      <td>input</td>\n      <td>input</td>\n      <td>input</td>\n      <td>...</td>\n      <td>input</td>\n      <td>input</td>\n      <td>input</td>\n      <td>input</td>\n      <td>input</td>\n      <td>input</td>\n      <td>input</td>\n      <td>input</td>\n      <td>input</td>\n      <td>input</td>\n    </tr>\n    <tr>\n      <th>type</th>\n      <td>real</td>\n      <td>real</td>\n      <td>real</td>\n      <td>real</td>\n      <td>real</td>\n      <td>real</td>\n      <td>real</td>\n      <td>real</td>\n      <td>real</td>\n      <td>real</td>\n      <td>...</td>\n      <td>real</td>\n      <td>real</td>\n      <td>real</td>\n      <td>real</td>\n      <td>real</td>\n      <td>real</td>\n      <td>real</td>\n      <td>real</td>\n      <td>real</td>\n      <td>real</td>\n    </tr>\n    <tr>\n      <th>preserve</th>\n      <td>True</td>\n      <td>True</td>\n      <td>True</td>\n      <td>True</td>\n      <td>True</td>\n      <td>True</td>\n      <td>True</td>\n      <td>True</td>\n      <td>True</td>\n      <td>True</td>\n      <td>...</td>\n      <td>True</td>\n      <td>True</td>\n      <td>True</td>\n      <td>True</td>\n      <td>True</td>\n      <td>True</td>\n      <td>True</td>\n      <td>True</td>\n      <td>True</td>\n      <td>True</td>\n    </tr>\n    <tr>\n      <th>dtype</th>\n      <td>float64</td>\n      <td>float64</td>\n      <td>float64</td>\n      <td>float64</td>\n      <td>float64</td>\n      <td>float64</td>\n      <td>float64</td>\n      <td>float64</td>\n      <td>float64</td>\n      <td>float64</td>\n      <td>...</td>\n      <td>int64</td>\n      <td>int64</td>\n      <td>int64</td>\n      <td>int64</td>\n      <td>int64</td>\n      <td>int64</td>\n      <td>int64</td>\n      <td>int64</td>\n      <td>int64</td>\n      <td>int64</td>\n    </tr>\n    <tr>\n      <th>category</th>\n      <td>registration</td>\n      <td>registration</td>\n      <td>registration</td>\n      <td>car</td>\n      <td>car</td>\n      <td>car</td>\n      <td>car</td>\n      <td>calculated</td>\n      <td>calculated</td>\n      <td>calculated</td>\n      <td>...</td>\n      <td>calculated</td>\n      <td>calculated</td>\n      <td>calculated</td>\n      <td>calculated</td>\n      <td>calculated</td>\n      <td>calculated</td>\n      <td>calculated</td>\n      <td>calculated</td>\n      <td>calculated</td>\n      <td>calculated</td>\n    </tr>\n  </tbody>\n</table>\n<p>5 rows × 21 columns</p>\n</div>"
     },
     "execution_count": 34,
     "metadata": {},
     "output_type": "execute_result"
    }
   ],
   "source": [
    "metadata[(metadata.type == 'real') & (metadata.preserve)].T"
   ],
   "metadata": {
    "collapsed": false,
    "pycharm": {
     "name": "#%%\n"
    }
   }
  },
  {
   "cell_type": "code",
   "execution_count": 37,
   "outputs": [
    {
     "data": {
      "text/plain": "           ps_reg_01      ps_reg_02      ps_reg_03      ps_car_12  \\\ncount  595212.000000  595212.000000  595212.000000  595212.000000   \nmean        0.610991       0.439184       0.551102       0.379945   \nstd         0.287643       0.404264       0.793506       0.058327   \nmin         0.000000       0.000000      -1.000000      -1.000000   \n25%         0.400000       0.200000       0.525000       0.316228   \n50%         0.700000       0.300000       0.720677       0.374166   \n75%         0.900000       0.600000       1.000000       0.400000   \nmax         0.900000       1.800000       4.037945       1.264911   \n\n           ps_car_13      ps_car_14      ps_car_15     ps_calc_01  \\\ncount  595212.000000  595212.000000  595212.000000  595212.000000   \nmean        0.813265       0.276256       3.065899       0.449756   \nstd         0.224588       0.357154       0.731366       0.287198   \nmin         0.250619      -1.000000       0.000000       0.000000   \n25%         0.670867       0.333167       2.828427       0.200000   \n50%         0.765811       0.368782       3.316625       0.500000   \n75%         0.906190       0.396485       3.605551       0.700000   \nmax         3.720626       0.636396       3.741657       0.900000   \n\n          ps_calc_02     ps_calc_03  ...     ps_calc_05     ps_calc_06  \\\ncount  595212.000000  595212.000000  ...  595212.000000  595212.000000   \nmean        0.449589       0.449849  ...       1.885886       7.689445   \nstd         0.286893       0.287153  ...       1.134927       1.334312   \nmin         0.000000       0.000000  ...       0.000000       0.000000   \n25%         0.200000       0.200000  ...       1.000000       7.000000   \n50%         0.400000       0.500000  ...       2.000000       8.000000   \n75%         0.700000       0.700000  ...       3.000000       9.000000   \nmax         0.900000       0.900000  ...       6.000000      10.000000   \n\n          ps_calc_07     ps_calc_08     ps_calc_09     ps_calc_10  \\\ncount  595212.000000  595212.000000  595212.000000  595212.000000   \nmean        3.005823       9.225904       2.339034       8.433590   \nstd         1.414564       1.459672       1.246949       2.904597   \nmin         0.000000       2.000000       0.000000       0.000000   \n25%         2.000000       8.000000       1.000000       6.000000   \n50%         3.000000       9.000000       2.000000       8.000000   \n75%         4.000000      10.000000       3.000000      10.000000   \nmax         9.000000      12.000000       7.000000      25.000000   \n\n          ps_calc_11     ps_calc_12     ps_calc_13     ps_calc_14  \ncount  595212.000000  595212.000000  595212.000000  595212.000000  \nmean        5.441382       1.441918       2.872288       7.539026  \nstd         2.332871       1.202963       1.694887       2.746652  \nmin         0.000000       0.000000       0.000000       0.000000  \n25%         4.000000       1.000000       2.000000       6.000000  \n50%         5.000000       1.000000       3.000000       7.000000  \n75%         7.000000       2.000000       4.000000       9.000000  \nmax        19.000000      10.000000      13.000000      23.000000  \n\n[8 rows x 21 columns]",
      "text/html": "<div>\n<style scoped>\n    .dataframe tbody tr th:only-of-type {\n        vertical-align: middle;\n    }\n\n    .dataframe tbody tr th {\n        vertical-align: top;\n    }\n\n    .dataframe thead th {\n        text-align: right;\n    }\n</style>\n<table border=\"1\" class=\"dataframe\">\n  <thead>\n    <tr style=\"text-align: right;\">\n      <th></th>\n      <th>ps_reg_01</th>\n      <th>ps_reg_02</th>\n      <th>ps_reg_03</th>\n      <th>ps_car_12</th>\n      <th>ps_car_13</th>\n      <th>ps_car_14</th>\n      <th>ps_car_15</th>\n      <th>ps_calc_01</th>\n      <th>ps_calc_02</th>\n      <th>ps_calc_03</th>\n      <th>...</th>\n      <th>ps_calc_05</th>\n      <th>ps_calc_06</th>\n      <th>ps_calc_07</th>\n      <th>ps_calc_08</th>\n      <th>ps_calc_09</th>\n      <th>ps_calc_10</th>\n      <th>ps_calc_11</th>\n      <th>ps_calc_12</th>\n      <th>ps_calc_13</th>\n      <th>ps_calc_14</th>\n    </tr>\n  </thead>\n  <tbody>\n    <tr>\n      <th>count</th>\n      <td>595212.000000</td>\n      <td>595212.000000</td>\n      <td>595212.000000</td>\n      <td>595212.000000</td>\n      <td>595212.000000</td>\n      <td>595212.000000</td>\n      <td>595212.000000</td>\n      <td>595212.000000</td>\n      <td>595212.000000</td>\n      <td>595212.000000</td>\n      <td>...</td>\n      <td>595212.000000</td>\n      <td>595212.000000</td>\n      <td>595212.000000</td>\n      <td>595212.000000</td>\n      <td>595212.000000</td>\n      <td>595212.000000</td>\n      <td>595212.000000</td>\n      <td>595212.000000</td>\n      <td>595212.000000</td>\n      <td>595212.000000</td>\n    </tr>\n    <tr>\n      <th>mean</th>\n      <td>0.610991</td>\n      <td>0.439184</td>\n      <td>0.551102</td>\n      <td>0.379945</td>\n      <td>0.813265</td>\n      <td>0.276256</td>\n      <td>3.065899</td>\n      <td>0.449756</td>\n      <td>0.449589</td>\n      <td>0.449849</td>\n      <td>...</td>\n      <td>1.885886</td>\n      <td>7.689445</td>\n      <td>3.005823</td>\n      <td>9.225904</td>\n      <td>2.339034</td>\n      <td>8.433590</td>\n      <td>5.441382</td>\n      <td>1.441918</td>\n      <td>2.872288</td>\n      <td>7.539026</td>\n    </tr>\n    <tr>\n      <th>std</th>\n      <td>0.287643</td>\n      <td>0.404264</td>\n      <td>0.793506</td>\n      <td>0.058327</td>\n      <td>0.224588</td>\n      <td>0.357154</td>\n      <td>0.731366</td>\n      <td>0.287198</td>\n      <td>0.286893</td>\n      <td>0.287153</td>\n      <td>...</td>\n      <td>1.134927</td>\n      <td>1.334312</td>\n      <td>1.414564</td>\n      <td>1.459672</td>\n      <td>1.246949</td>\n      <td>2.904597</td>\n      <td>2.332871</td>\n      <td>1.202963</td>\n      <td>1.694887</td>\n      <td>2.746652</td>\n    </tr>\n    <tr>\n      <th>min</th>\n      <td>0.000000</td>\n      <td>0.000000</td>\n      <td>-1.000000</td>\n      <td>-1.000000</td>\n      <td>0.250619</td>\n      <td>-1.000000</td>\n      <td>0.000000</td>\n      <td>0.000000</td>\n      <td>0.000000</td>\n      <td>0.000000</td>\n      <td>...</td>\n      <td>0.000000</td>\n      <td>0.000000</td>\n      <td>0.000000</td>\n      <td>2.000000</td>\n      <td>0.000000</td>\n      <td>0.000000</td>\n      <td>0.000000</td>\n      <td>0.000000</td>\n      <td>0.000000</td>\n      <td>0.000000</td>\n    </tr>\n    <tr>\n      <th>25%</th>\n      <td>0.400000</td>\n      <td>0.200000</td>\n      <td>0.525000</td>\n      <td>0.316228</td>\n      <td>0.670867</td>\n      <td>0.333167</td>\n      <td>2.828427</td>\n      <td>0.200000</td>\n      <td>0.200000</td>\n      <td>0.200000</td>\n      <td>...</td>\n      <td>1.000000</td>\n      <td>7.000000</td>\n      <td>2.000000</td>\n      <td>8.000000</td>\n      <td>1.000000</td>\n      <td>6.000000</td>\n      <td>4.000000</td>\n      <td>1.000000</td>\n      <td>2.000000</td>\n      <td>6.000000</td>\n    </tr>\n    <tr>\n      <th>50%</th>\n      <td>0.700000</td>\n      <td>0.300000</td>\n      <td>0.720677</td>\n      <td>0.374166</td>\n      <td>0.765811</td>\n      <td>0.368782</td>\n      <td>3.316625</td>\n      <td>0.500000</td>\n      <td>0.400000</td>\n      <td>0.500000</td>\n      <td>...</td>\n      <td>2.000000</td>\n      <td>8.000000</td>\n      <td>3.000000</td>\n      <td>9.000000</td>\n      <td>2.000000</td>\n      <td>8.000000</td>\n      <td>5.000000</td>\n      <td>1.000000</td>\n      <td>3.000000</td>\n      <td>7.000000</td>\n    </tr>\n    <tr>\n      <th>75%</th>\n      <td>0.900000</td>\n      <td>0.600000</td>\n      <td>1.000000</td>\n      <td>0.400000</td>\n      <td>0.906190</td>\n      <td>0.396485</td>\n      <td>3.605551</td>\n      <td>0.700000</td>\n      <td>0.700000</td>\n      <td>0.700000</td>\n      <td>...</td>\n      <td>3.000000</td>\n      <td>9.000000</td>\n      <td>4.000000</td>\n      <td>10.000000</td>\n      <td>3.000000</td>\n      <td>10.000000</td>\n      <td>7.000000</td>\n      <td>2.000000</td>\n      <td>4.000000</td>\n      <td>9.000000</td>\n    </tr>\n    <tr>\n      <th>max</th>\n      <td>0.900000</td>\n      <td>1.800000</td>\n      <td>4.037945</td>\n      <td>1.264911</td>\n      <td>3.720626</td>\n      <td>0.636396</td>\n      <td>3.741657</td>\n      <td>0.900000</td>\n      <td>0.900000</td>\n      <td>0.900000</td>\n      <td>...</td>\n      <td>6.000000</td>\n      <td>10.000000</td>\n      <td>9.000000</td>\n      <td>12.000000</td>\n      <td>7.000000</td>\n      <td>25.000000</td>\n      <td>19.000000</td>\n      <td>10.000000</td>\n      <td>13.000000</td>\n      <td>23.000000</td>\n    </tr>\n  </tbody>\n</table>\n<p>8 rows × 21 columns</p>\n</div>"
     },
     "execution_count": 37,
     "metadata": {},
     "output_type": "execute_result"
    }
   ],
   "source": [
    "variable = metadata[(metadata.type == 'real') & (metadata.preserve)].index\n",
    "trainset[variable].describe()"
   ],
   "metadata": {
    "collapsed": false,
    "pycharm": {
     "name": "#%%\n"
    }
   }
  },
  {
   "cell_type": "markdown",
   "source": [
    "이러한 변수들을 `trainset`에서 골라내었습니다."
   ],
   "metadata": {
    "collapsed": false,
    "pycharm": {
     "name": "#%% md\n"
    }
   }
  },
  {
   "cell_type": "code",
   "execution_count": 45,
   "outputs": [
    {
     "data": {
      "text/plain": "0    16.00\n1    10.00\n2    10.00\n3    14.00\n4     9.99\n5    19.89\n6    10.00\n7    19.98\n8    16.00\n9    20.00\nName: ps_car_12, dtype: float64"
     },
     "execution_count": 45,
     "metadata": {},
     "output_type": "execute_result"
    }
   ],
   "source": [
    "(pow(trainset['ps_car_12']*10, 2)).head(10)"
   ],
   "metadata": {
    "collapsed": false,
    "pycharm": {
     "name": "#%%\n"
    }
   }
  },
  {
   "cell_type": "code",
   "execution_count": 46,
   "outputs": [
    {
     "data": {
      "text/plain": "0    13.0\n1     6.0\n2    11.0\n3     4.0\n4     4.0\n5     9.0\n6    10.0\n7    11.0\n8     8.0\n9    13.0\nName: ps_car_15, dtype: float64"
     },
     "execution_count": 46,
     "metadata": {},
     "output_type": "execute_result"
    }
   ],
   "source": [
    "(pow(trainset['ps_car_15'], 2)).head(10)"
   ],
   "metadata": {
    "collapsed": false,
    "pycharm": {
     "name": "#%%\n"
    }
   }
  },
  {
   "cell_type": "markdown",
   "source": [
    "### 결측치가 있는 feature 들\n",
    "`ps_reg_o3`, `ps_car_12`, `ps_car_14`가 결측치를 가지고 있다고 합니다만 실행해 보니 모든 컬럼에서 결측치를 확인할 수 없었습니다."
   ],
   "metadata": {
    "collapsed": false,
    "pycharm": {
     "name": "#%% md\n"
    }
   }
  },
  {
   "cell_type": "code",
   "execution_count": 52,
   "outputs": [
    {
     "data": {
      "text/plain": "0"
     },
     "execution_count": 52,
     "metadata": {},
     "output_type": "execute_result"
    }
   ],
   "source": [
    "trainset.isnull().sum().sum()"
   ],
   "metadata": {
    "collapsed": false,
    "pycharm": {
     "name": "#%%\n"
    }
   }
  },
  {
   "cell_type": "markdown",
   "source": [
    "### Registration feature 들\n",
    "`ps_reg_01`과 `ps_reg_02`은 분모가 10인 (0.1, 0.2 처럼) 분수 형태의 값들을 가지는 변수입니다.\n",
    "### Car feature 들\n",
    "`ps_car_12`는 10을 곱하여 제곱하면 자연수에 근접하며, `ps_car_15`는 제곱하면 자연수가 되는 특징이 있습니다."
   ],
   "metadata": {
    "collapsed": false,
    "pycharm": {
     "name": "#%% md\n"
    }
   }
  },
  {
   "cell_type": "code",
   "execution_count": 57,
   "outputs": [
    {
     "data": {
      "text/plain": "<Figure size 402.375x360 with 6 Axes>",
      "image/png": "[encoded data removed]"
     },
     "metadata": {
      "needs_background": "light"
     },
     "output_type": "display_data"
    }
   ],
   "source": [
    "sample = trainset.sample(frac=0.05)\n",
    "var = ['ps_car_12', 'ps_car_15', 'target']\n",
    "sample = sample[var]\n",
    "sns.pairplot(sample, hue='target', palette='Set1', diag_kind='kde')\n",
    "plt.show()"
   ],
   "metadata": {
    "collapsed": false,
    "pycharm": {
     "name": "#%%\n"
    }
   }
  },
  {
   "cell_type": "markdown",
   "source": [
    "- `sns.pairplot` : `sample`을 가지고 그림을 그리고, `target`을 색깔 기준으로 삼습니다, 색상은 `Set1`에 사전 지정된 색깔을 사용하며 대각선에는 커널 밀도 추정 곡선을 볼 수 있게(`kde`) 합니다.\n",
    "> 커널 밀도 추정 곡선 : non-parametric 밀도추정 방법 중 하나로서 커널함수(kernel function)를 이용하여 히스토그램 방법의 문제점을 개선한 방법"
   ],
   "metadata": {
    "collapsed": false,
    "pycharm": {
     "name": "#%% md\n"
    }
   }
  }
 ],
 "metadata": {
  "kernelspec": {
   "display_name": "Python 3",
   "language": "python",
   "name": "python3"
  },
  "language_info": {
   "codemirror_mode": {
    "name": "ipython",
    "version": 3
   },
   "file_extension": ".py",
   "mimetype": "text/x-python",
   "name": "python",
   "nbconvert_exporter": "python",
   "pygments_lexer": "ipython3",
   "version": "3.8.8"
  }
 },
 "nbformat": 4,
 "nbformat_minor": 5
}