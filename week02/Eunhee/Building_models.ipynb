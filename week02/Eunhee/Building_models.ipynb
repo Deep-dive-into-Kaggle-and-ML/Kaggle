{
 "cells": [
  {
   "cell_type": "markdown",
   "metadata": {
    "collapsed": true,
    "pycharm": {
     "name": "#%% md\n"
    }
   },
   "source": [
    "## 모듈 임포트"
   ]
  },
  {
   "cell_type": "code",
   "source": [
    "import pandas as pd\n",
    "import matplotlib.pyplot as plt\n",
    "import seaborn as sns\n",
    "import numpy as np\n",
    "import warnings\n",
    "from datetime import datetime\n",
    "import calendar\n",
    "from math import sin, cos, sqrt, atan2, radians\n",
    "from folium import FeatureGroup, LayerControl, Map, Marker\n",
    "from folium.plugins import HeatMap\n",
    "import matplotlib.dates as mdates\n",
    "import matplotlib as mpl\n",
    "from datetime import timedelta\n",
    "import datetime as dt\n",
    "warnings.filterwarnings('ignore')\n",
    "pd.set_option('display.max_colwidth', -1)\n",
    "plt.style.use('fivethirtyeight')\n",
    "import folium\n",
    "from sklearn.cluster import KMeans\n",
    "from sklearn import preprocessing\n",
    "from sklearn.model_selection import train_test_split\n",
    "from sklearn.impute import SimpleImputer\n",
    "from sklearn import linear_model\n",
    "from sklearn.metrics import mean_squared_error\n",
    "from sklearn.ensemble import RandomForestRegressor\n",
    "import pickle"
   ],
   "metadata": {
    "collapsed": false,
    "pycharm": {
     "name": "#%%\n"
    }
   },
   "execution_count": 55,
   "outputs": []
  },
  {
   "cell_type": "markdown",
   "source": [
    "## Feature Engineering"
   ],
   "metadata": {
    "collapsed": false,
    "pycharm": {
     "name": "#%% md\n"
    }
   }
  },
  {
   "cell_type": "code",
   "execution_count": 56,
   "outputs": [],
   "source": [
    "train = pd.read_csv('../input/train.csv')\n",
    "test = pd.read_csv('../input/test.csv')"
   ],
   "metadata": {
    "collapsed": false,
    "pycharm": {
     "name": "#%%\n"
    }
   }
  },
  {
   "cell_type": "code",
   "execution_count": 57,
   "outputs": [],
   "source": [
    "train['pickup_datetime'] = pd.to_datetime(train['pickup_datetime'], format='%Y-%m-%d %H:%M:%S')\n",
    "train['dropoff_datetime'] = pd.to_datetime(train['dropoff_datetime'], format='%Y-%m-%d %H:%M:%S')\n",
    "\n",
    "train['pickup_date'] = train['pickup_datetime'].dt.date\n",
    "train['pickup_day'] = train['pickup_datetime'].apply(lambda x:x.day)\n",
    "train['pickup_hour'] = train['pickup_datetime'].apply(lambda x:x.hour)\n",
    "train['pickup_day_of_week'] = train['pickup_datetime'].apply(lambda x:calendar.day_name[x.weekday()])\n",
    "train['dropoff_date'] = train['dropoff_datetime'].dt.date\n",
    "train['dropoff_day'] = train['dropoff_datetime'].apply(lambda x:x.day)\n",
    "train['dropoff_hour'] = train['dropoff_datetime'].apply(lambda x:x.hour)\n",
    "train['dropoff_day_of_week'] = train['dropoff_datetime'].apply(lambda x:calendar.day_name[x.weekday()])"
   ],
   "metadata": {
    "collapsed": false,
    "pycharm": {
     "name": "#%%\n"
    }
   }
  },
  {
   "cell_type": "code",
   "execution_count": 58,
   "outputs": [],
   "source": [
    "train['pickup_latitude_round3'] = train['pickup_latitude'].apply(lambda x:round(x,3))\n",
    "train['pickup_longitude_round3'] = train['pickup_longitude'].apply(lambda x:round(x,3))\n",
    "train['dropoff_latitude_round3'] = train['dropoff_latitude'].apply(lambda x:round(x,3))\n",
    "train['dropoff_longitude_round3'] = train['dropoff_longitude'].apply(lambda x:round(x,3))"
   ],
   "metadata": {
    "collapsed": false,
    "pycharm": {
     "name": "#%%\n"
    }
   }
  },
  {
   "cell_type": "code",
   "execution_count": 59,
   "outputs": [],
   "source": [
    "def calculateDistance(row):\n",
    "    R = 6373.0 # 지구 반지름의 대략적인 길이\n",
    "    pickup_lat = radians(row['pickup_latitude'])\n",
    "    pickup_lon = radians(row['pickup_longitude'])\n",
    "    dropoff_lat = radians(row['dropoff_latitude'])\n",
    "    dropoff_lon = radians(row['dropoff_longitude'])\n",
    "    dlon = dropoff_lon - pickup_lon\n",
    "    dlat = dropoff_lat - pickup_lat\n",
    "    a = sin(dlat / 2)**2 + cos(pickup_lat) * cos(dropoff_lat) * sin(dlon / 2)**2\n",
    "    c = 2 * atan2(sqrt(a), sqrt(1-a))\n",
    "    distance = R * c\n",
    "    return distance\n",
    "\n",
    "train['trip_distance'] = train.apply(lambda row:calculateDistance(row), axis=1)\n",
    "train['trip_duration_in_hour'] = train['trip_duration'].apply(lambda x:x/3600)"
   ],
   "metadata": {
    "collapsed": false,
    "pycharm": {
     "name": "#%%\n"
    }
   }
  },
  {
   "cell_type": "code",
   "execution_count": 60,
   "outputs": [],
   "source": [
    "def calculateBearing(lat1,lng1,lat2,lng2):\n",
    "    R = 6371\n",
    "    lng_delta_rad = np.radians(lng2 - lng1)\n",
    "    lat1, lng1, lat2, lng2 = map(np.radians, (lat1, lng1, lat2, lng2))\n",
    "    y = np.sin(lng_delta_rad) * np.cos(lat2)\n",
    "    x = np.cos(lat1) * np.sin(lat2) - np.sin(lat1) * np.cos(lat2) * np.cos(lng_delta_rad)\n",
    "    return np.degrees(np.arctan2(y, x))\n",
    "\n",
    "train['bearing']=train.apply(lambda row:calculateBearing(row['pickup_latitude_round3'],row['pickup_longitude_round3'],row['dropoff_latitude_round3'],row['dropoff_longitude_round3']),axis=1)"
   ],
   "metadata": {
    "collapsed": false,
    "pycharm": {
     "name": "#%%\n"
    }
   }
  },
  {
   "cell_type": "code",
   "execution_count": 61,
   "outputs": [],
   "source": [
    "coords = np.vstack((train[['pickup_latitude', 'pickup_longitude']].values,\n",
    "                    train[['dropoff_latitude', 'dropoff_longitude']].values,\n",
    "                    test[['pickup_latitude', 'pickup_longitude']].values,\n",
    "                    test[['dropoff_latitude', 'dropoff_longitude']].values))\n",
    "kmeans = KMeans(n_clusters=8, random_state=0).fit(coords)\n",
    "train.loc[:, 'pickup_neighbourhood'] = kmeans.predict(train[['pickup_latitude', 'pickup_longitude']])\n",
    "train.loc[:, 'dropoff_neighbourhood'] = kmeans.predict(train[['dropoff_latitude', 'dropoff_longitude']])"
   ],
   "metadata": {
    "collapsed": false,
    "pycharm": {
     "name": "#%%\n"
    }
   }
  },
  {
   "cell_type": "code",
   "execution_count": 62,
   "outputs": [],
   "source": [
    "train['avg_speed_kph']=train['trip_distance']/train['trip_duration_in_hour']"
   ],
   "metadata": {
    "collapsed": false,
    "pycharm": {
     "name": "#%%\n"
    }
   }
  },
  {
   "cell_type": "code",
   "execution_count": 63,
   "outputs": [],
   "source": [
    "test['pickup_datetime']=pd.to_datetime(test['pickup_datetime'],format='%Y-%m-%d %H:%M:%S')\n",
    "test['pickup_date']= test['pickup_datetime'].dt.date\n",
    "test['pickup_day']=test['pickup_datetime'].apply(lambda x:x.day)\n",
    "test['pickup_hour']=test['pickup_datetime'].apply(lambda x:x.hour)\n",
    "test['pickup_day_of_week']=test['pickup_datetime'].apply(lambda x:calendar.day_name[x.weekday()])\n",
    "test['pickup_latitude_round3']=test['pickup_latitude'].apply(lambda x:round(x,3))\n",
    "test['pickup_longitude_round3']=test['pickup_longitude'].apply(lambda x:round(x,3))\n",
    "test['dropoff_latitude_round3']=test['dropoff_latitude'].apply(lambda x:round(x,3))\n",
    "test['dropoff_longitude_round3']=test['dropoff_longitude'].apply(lambda x:round(x,3))\n",
    "test['trip_distance']=test.apply(lambda row:calculateDistance(row),axis=1)\n",
    "test['bearing']=test.apply(lambda row:calculateBearing(row['pickup_latitude_round3'],row['pickup_longitude_round3'],row['dropoff_latitude_round3'],row['dropoff_longitude_round3']),axis=1)\n",
    "test.loc[:, 'pickup_neighbourhood'] = kmeans.predict(test[['pickup_latitude', 'pickup_longitude']])\n",
    "test.loc[:, 'dropoff_neighbourhood'] = kmeans.predict(test[['dropoff_latitude', 'dropoff_longitude']])"
   ],
   "metadata": {
    "collapsed": false,
    "pycharm": {
     "name": "#%%\n"
    }
   }
  },
  {
   "cell_type": "code",
   "execution_count": 64,
   "outputs": [],
   "source": [
    "drop_cols=['avg_speed_kph','trip_duration_in_hour','dropoff_date','dropoff_day','dropoff_hour','dropoff_day_of_week','dropoff_datetime','pickup_latitude','pickup_longitude','dropoff_latitude','dropoff_longitude']\n",
    "training=train.drop(drop_cols,axis=1)\n",
    "testing=test.drop(['pickup_latitude','pickup_longitude','dropoff_latitude','dropoff_longitude'],axis=1)"
   ],
   "metadata": {
    "collapsed": false,
    "pycharm": {
     "name": "#%%\n"
    }
   }
  },
  {
   "cell_type": "code",
   "execution_count": 65,
   "outputs": [],
   "source": [
    "training['log_trip_duration']=training['trip_duration'].apply(lambda x:np.log(x))\n",
    "training.drop(['trip_duration'],axis=1,inplace=True)"
   ],
   "metadata": {
    "collapsed": false,
    "pycharm": {
     "name": "#%%\n"
    }
   }
  },
  {
   "cell_type": "markdown",
   "source": [
    "### 라벨 인코딩"
   ],
   "metadata": {
    "collapsed": false,
    "pycharm": {
     "name": "#%% md\n"
    }
   }
  },
  {
   "cell_type": "code",
   "execution_count": 66,
   "outputs": [],
   "source": [
    "def encodeDays(day_of_week):\n",
    "    day_dict = {'Sunday':0, 'Monday':1, 'Tuesday':2, 'Wednesday':3, 'Thursday':4, 'Friday':5, 'Saturday':6}\n",
    "    return day_dict[day_of_week]"
   ],
   "metadata": {
    "collapsed": false,
    "pycharm": {
     "name": "#%%\n"
    }
   }
  },
  {
   "cell_type": "code",
   "execution_count": 67,
   "outputs": [],
   "source": [
    "training['pickup_day_of_week'] = training['pickup_day_of_week'].apply(lambda x:encodeDays(x))\n",
    "testing['pickup_day_of_week'] = testing['pickup_day_of_week'].apply(lambda x:encodeDays((x)))"
   ],
   "metadata": {
    "collapsed": false,
    "pycharm": {
     "name": "#%%\n"
    }
   }
  },
  {
   "cell_type": "code",
   "execution_count": 68,
   "outputs": [],
   "source": [
    "training.to_csv(\"input_training.csv\", index=False)\n",
    "testing.to_csv(\"input_testing.csv\", index=False)"
   ],
   "metadata": {
    "collapsed": false,
    "pycharm": {
     "name": "#%%\n"
    }
   }
  },
  {
   "cell_type": "code",
   "execution_count": 69,
   "outputs": [],
   "source": [
    "def LabelEncoding(train_df,test_df,max_levels=2):\n",
    "    for col in train_df:\n",
    "        if train_df[col].dtype == 'object':\n",
    "            if len(list(train_df[col].unique())) <= max_levels:\n",
    "                le = preprocessing.LabelEncoder()\n",
    "                le.fit(train_df[col])\n",
    "                train_df[col]=le.transform(train_df[col])\n",
    "                test_df[col]=le.transform(test_df[col])\n",
    "    return [train_df,test_df]\n",
    "\n",
    "\n",
    "def readInputAndEncode(input_path,train_file,test_file,target_column):\n",
    "    training=pd.read_csv(input_path+train_file)\n",
    "    testing=pd.read_csv(input_path+test_file)\n",
    "\n",
    "    training,testing=LabelEncoding(training,testing)\n",
    "\n",
    "    #print(\"Training Data Shape after Encoding \",training.shape)\n",
    "    #print(\"Testing Data Shape after Encoding \",testing.shape)\n",
    "    #Check if all train columns are there in test data. If not add the column to test data and replace it with zero\n",
    "    train_cols=training.columns.tolist()\n",
    "    test_cols=testing.columns.tolist()\n",
    "    col_in_train_not_test=set(train_cols)-set(test_cols)\n",
    "    for col in col_in_train_not_test:\n",
    "        if col!=target_column:\n",
    "            testing[col]=0\n",
    "    col_in_test_not_train=set(test_cols)-set(train_cols)\n",
    "    for col in col_in_test_not_train:\n",
    "        training[col]=0\n",
    "    print(\"Training Data Shape after Processing \",training.shape)\n",
    "    print(\"Testing Data Shape after Processing \",testing.shape)\n",
    "    return [training,testing]"
   ],
   "metadata": {
    "collapsed": false,
    "pycharm": {
     "name": "#%%\n"
    }
   }
  },
  {
   "cell_type": "code",
   "execution_count": 70,
   "outputs": [
    {
     "name": "stdout",
     "output_type": "stream",
     "text": [
      "Training Data Shape after Processing  (1458644, 18)\n",
      "Testing Data Shape after Processing  (625134, 17)\n"
     ]
    }
   ],
   "source": [
    "train,test=readInputAndEncode(\"\",'input_training.csv','input_testing.csv','log_trip_duration')\n",
    "train.drop(['pickup_date'],axis=1,inplace=True)\n",
    "test.drop(['pickup_date'],axis=1,inplace=True)\n",
    "train.drop(['pickup_datetime'],axis=1,inplace=True)\n",
    "test.drop(['pickup_datetime'],axis=1,inplace=True)\n",
    "test_id=test['id']\n",
    "train.drop(['id'],axis=1,inplace=True)\n",
    "test.drop(['id'],axis=1,inplace=True)"
   ],
   "metadata": {
    "collapsed": false,
    "pycharm": {
     "name": "#%%\n"
    }
   }
  },
  {
   "cell_type": "code",
   "execution_count": 71,
   "outputs": [],
   "source": [
    "def GetFeaturesAndSplit(train,test,target,imputing_strategy='median',split=0.25,imputation=True):\n",
    "    labels=np.array(train[target])\n",
    "    training=train.drop(target, axis = 1)\n",
    "    training = np.array(training)\n",
    "    testing=np.array(test)\n",
    "    if imputation==True:\n",
    "        imputer=Imputer(strategy=imputing_strategy,missing_values=np.nan)\n",
    "        imputer.fit(training)\n",
    "        training=imputer.transform(training)\n",
    "        testing=imputer.transform(testing)\n",
    "    train_features, validation_features, train_labels, validation_labels = train_test_split(training, labels, test_size = split, random_state = 42)\n",
    "    return [train_features,validation_features,train_labels,validation_labels,testing]"
   ],
   "metadata": {
    "collapsed": false,
    "pycharm": {
     "name": "#%%\n"
    }
   }
  },
  {
   "cell_type": "code",
   "execution_count": 72,
   "outputs": [],
   "source": [
    "train_features,validation_features,train_labels,validation_labels,testing=GetFeaturesAndSplit(train,test,'log_trip_duration',imputation=False)"
   ],
   "metadata": {
    "collapsed": false,
    "pycharm": {
     "name": "#%%\n"
    }
   }
  },
  {
   "cell_type": "markdown",
   "source": [
    "## 선형 회귀 모형 적용"
   ],
   "metadata": {
    "collapsed": false,
    "pycharm": {
     "name": "#%% md\n"
    }
   }
  },
  {
   "cell_type": "code",
   "execution_count": 74,
   "outputs": [
    {
     "data": {
      "text/plain": "LinearRegression()"
     },
     "execution_count": 74,
     "metadata": {},
     "output_type": "execute_result"
    }
   ],
   "source": [
    "lm = linear_model.LinearRegression()\n",
    "lm.fit(train_features, train_labels)"
   ],
   "metadata": {
    "collapsed": false,
    "pycharm": {
     "name": "#%%\n"
    }
   }
  },
  {
   "cell_type": "code",
   "execution_count": 75,
   "outputs": [],
   "source": [
    "valid_pred = lm.predict(validation_features)"
   ],
   "metadata": {
    "collapsed": false,
    "pycharm": {
     "name": "#%%\n"
    }
   }
  },
  {
   "cell_type": "code",
   "execution_count": 76,
   "outputs": [
    {
     "name": "stdout",
     "output_type": "stream",
     "text": [
      "Root Mean Squared Error for Linear Regression (log scale)  0.4031176249688166\n"
     ]
    }
   ],
   "source": [
    "rmse = mean_squared_error(validation_labels, valid_pred)\n",
    "print(\"Root Mean Squared Error for Linear Regression (log scale) \", rmse)"
   ],
   "metadata": {
    "collapsed": false,
    "pycharm": {
     "name": "#%%\n"
    }
   }
  },
  {
   "cell_type": "markdown",
   "source": [
    "## Random Forest 회귀 모형 적용"
   ],
   "metadata": {
    "collapsed": false,
    "pycharm": {
     "name": "#%% md\n"
    }
   }
  },
  {
   "cell_type": "code",
   "execution_count": 77,
   "outputs": [],
   "source": [
    "rf = RandomForestRegressor(n_estimators=100, random_state=42)"
   ],
   "metadata": {
    "collapsed": false,
    "pycharm": {
     "name": "#%%\n"
    }
   }
  },
  {
   "cell_type": "code",
   "execution_count": null,
   "outputs": [],
   "source": [
    "rf.fit(train_features, train_labels)"
   ],
   "metadata": {
    "collapsed": false,
    "pycharm": {
     "name": "#%%\n"
    }
   }
  },
  {
   "cell_type": "code",
   "execution_count": null,
   "outputs": [],
   "source": [
    "valid_pred_rf = rf.predict(bootstrap=True, criterion='mse',\n",
    "                           max_depth=None, max_features='auto', max_leaf_nodes=None,\n",
    "                           min_impurity_decrease=0.0, min_impurity_split=None,\n",
    "                           min_samples_leaf=1, min_samples_split=2,\n",
    "                           min_weight_fraction_leaf=0.0, n_estimators=100, n_jobs=1,\n",
    "                           oob_score=False, random_state=42, verbose=0, warm_start=False)"
   ],
   "metadata": {
    "collapsed": false,
    "pycharm": {
     "name": "#%%\n"
    }
   }
  },
  {
   "cell_type": "code",
   "execution_count": null,
   "outputs": [],
   "source": [
    "valid_pred_rf = rf.predict(validation_features)\n",
    "rmse = mean_squared_error(validation_labels, valid_pred_rf)\n",
    "print(\"Root Mean Squared Error for Random Forest \", rmse)"
   ],
   "metadata": {
    "collapsed": false,
    "pycharm": {
     "name": "#%%\n"
    }
   }
  }
 ],
 "metadata": {
  "kernelspec": {
   "display_name": "Python 3",
   "language": "python",
   "name": "python3"
  },
  "language_info": {
   "codemirror_mode": {
    "name": "ipython",
    "version": 2
   },
   "file_extension": ".py",
   "mimetype": "text/x-python",
   "name": "python",
   "nbconvert_exporter": "python",
   "pygments_lexer": "ipython2",
   "version": "2.7.6"
  }
 },
 "nbformat": 4,
 "nbformat_minor": 0
}