{
 "cells": [
  {
   "cell_type": "markdown",
   "source": [
    "## 필요한 모듈 임포트"
   ],
   "metadata": {
    "collapsed": false,
    "pycharm": {
     "name": "#%% md\n"
    }
   }
  },
  {
   "cell_type": "code",
   "execution_count": 3,
   "metadata": {
    "collapsed": true
   },
   "outputs": [],
   "source": [
    "import pandas as pd\n",
    "import matplotlib.pyplot as plt\n",
    "import seaborn as sns\n",
    "import numpy as np\n",
    "import warnings\n",
    "from datetime import datetime\n",
    "import calendar\n",
    "from math import sin, cos, sqrt, atan2, radians\n",
    "from folium import FeatureGroup, LayerControl, Map, Marker\n",
    "from folium.plugins import HeatMap\n",
    "import matplotlib.dates as mdates\n",
    "import matplotlib as mpl\n",
    "from datetime import timedelta\n",
    "import datetime as dt\n",
    "warnings.filterwarnings('ignore')\n",
    "pd.set_option('display.max_colwidth', -1)\n",
    "plt.style.use('fivethirtyeight')\n",
    "import folium\n",
    "from sklearn.cluster import KMeans\n",
    "from sklearn import preprocessing\n",
    "from sklearn.model_selection import train_test_split\n",
    "from sklearn.impute import SimpleImputer\n",
    "from sklearn import linear_model\n",
    "from sklearn.metrics import mean_squared_error\n",
    "from sklearn.ensemble import RandomForestRegressor\n",
    "import pickle"
   ]
  },
  {
   "cell_type": "markdown",
   "source": [
    "`from sklearn.preprocessing import Imputer` 실행 시 오류가 발생한다. Imputer를 불러오기 위해서는 `sklearn.impute`를 사용해 `SimpleImputer`를 불러오면 된다.\n",
    "([링크](https://scikit-learn.org/stable/modules/generated/sklearn.impute.SimpleImputer.html?highlight=simpleimputer#sklearn.impute.SimpleImputer))"
   ],
   "metadata": {
    "collapsed": false,
    "pycharm": {
     "name": "#%% md\n"
    }
   }
  },
  {
   "cell_type": "code",
   "execution_count": 12,
   "outputs": [
    {
     "data": {
      "text/plain": "(625134, 9)"
     },
     "execution_count": 12,
     "metadata": {},
     "output_type": "execute_result"
    }
   ],
   "source": [
    "train = pd.read_csv('../input/train.csv')\n",
    "test = pd.read_csv('../input/test.csv')\n",
    "test.shape"
   ],
   "metadata": {
    "collapsed": false,
    "pycharm": {
     "name": "#%%\n"
    }
   }
  },
  {
   "cell_type": "markdown",
   "source": [
    "## 데이터 클리닝\n",
    "### 결측치 확인"
   ],
   "metadata": {
    "collapsed": false,
    "pycharm": {
     "name": "#%% md\n"
    }
   }
  },
  {
   "cell_type": "code",
   "execution_count": null,
   "outputs": [],
   "source": [
    "train[pd.isnull(train)].sum()"
   ],
   "metadata": {
    "collapsed": false,
    "pycharm": {
     "name": "#%%\n"
    }
   }
  },
  {
   "cell_type": "markdown",
   "source": [
    "결측치는 존재하지 않는다.\n",
    "### 시계열 데이터 타입 변경"
   ],
   "metadata": {
    "collapsed": false
   }
  },
  {
   "cell_type": "code",
   "execution_count": 13,
   "outputs": [
    {
     "name": "stdout",
     "output_type": "stream",
     "text": [
      "<class 'pandas.core.frame.DataFrame'>\n",
      "RangeIndex: 1458644 entries, 0 to 1458643\n",
      "Data columns (total 11 columns):\n",
      " #   Column              Non-Null Count    Dtype  \n",
      "---  ------              --------------    -----  \n",
      " 0   id                  1458644 non-null  object \n",
      " 1   vendor_id           1458644 non-null  int64  \n",
      " 2   pickup_datetime     1458644 non-null  object \n",
      " 3   dropoff_datetime    1458644 non-null  object \n",
      " 4   passenger_count     1458644 non-null  int64  \n",
      " 5   pickup_longitude    1458644 non-null  float64\n",
      " 6   pickup_latitude     1458644 non-null  float64\n",
      " 7   dropoff_longitude   1458644 non-null  float64\n",
      " 8   dropoff_latitude    1458644 non-null  float64\n",
      " 9   store_and_fwd_flag  1458644 non-null  object \n",
      " 10  trip_duration       1458644 non-null  int64  \n",
      "dtypes: float64(4), int64(3), object(4)\n",
      "memory usage: 122.4+ MB\n"
     ]
    }
   ],
   "source": [
    "train.info()"
   ],
   "metadata": {
    "collapsed": false,
    "pycharm": {
     "name": "#%%\n"
    }
   }
  },
  {
   "cell_type": "code",
   "execution_count": 14,
   "outputs": [
    {
     "data": {
      "text/plain": "0    2016-03-14 17:24:55\n1    2016-06-12 00:43:35\n2    2016-01-19 11:35:24\n3    2016-04-06 19:32:31\n4    2016-03-26 13:30:55\nName: pickup_datetime, dtype: object"
     },
     "execution_count": 14,
     "metadata": {},
     "output_type": "execute_result"
    }
   ],
   "source": [
    "train['pickup_datetime'].head()"
   ],
   "metadata": {
    "collapsed": false,
    "pycharm": {
     "name": "#%%\n"
    }
   }
  },
  {
   "cell_type": "markdown",
   "source": [
    "`pickup_datetime`, `dropoff_datetime` 변수는 시계열 데이터처럼 보이지만, 실제 데이터 타입은 `float64`이다. 따라서 이를 시계열 데이터 타입으로 변경해 준다."
   ],
   "metadata": {
    "collapsed": false,
    "pycharm": {
     "name": "#%% md\n"
    }
   }
  },
  {
   "cell_type": "code",
   "execution_count": 16,
   "outputs": [
    {
     "name": "stdout",
     "output_type": "stream",
     "text": [
      "<class 'pandas.core.frame.DataFrame'>\n",
      "RangeIndex: 1458644 entries, 0 to 1458643\n",
      "Data columns (total 11 columns):\n",
      " #   Column              Non-Null Count    Dtype         \n",
      "---  ------              --------------    -----         \n",
      " 0   id                  1458644 non-null  object        \n",
      " 1   vendor_id           1458644 non-null  int64         \n",
      " 2   pickup_datetime     1458644 non-null  datetime64[ns]\n",
      " 3   dropoff_datetime    1458644 non-null  datetime64[ns]\n",
      " 4   passenger_count     1458644 non-null  int64         \n",
      " 5   pickup_longitude    1458644 non-null  float64       \n",
      " 6   pickup_latitude     1458644 non-null  float64       \n",
      " 7   dropoff_longitude   1458644 non-null  float64       \n",
      " 8   dropoff_latitude    1458644 non-null  float64       \n",
      " 9   store_and_fwd_flag  1458644 non-null  object        \n",
      " 10  trip_duration       1458644 non-null  int64         \n",
      "dtypes: datetime64[ns](2), float64(4), int64(3), object(2)\n",
      "memory usage: 122.4+ MB\n"
     ]
    }
   ],
   "source": [
    "train['pickup_datetime'] = pd.to_datetime(train['pickup_datetime'], format='%Y-%m-%d %H:%M:%S')\n",
    "train['dropoff_datetime'] = pd.to_datetime(train['dropoff_datetime'], format='%Y-%m-%d %H:%M:%S')\n",
    "train.info()"
   ],
   "metadata": {
    "collapsed": false,
    "pycharm": {
     "name": "#%%\n"
    }
   }
  },
  {
   "cell_type": "markdown",
   "source": [
    "`pickup_datetime`과 `dropoff_datetime`의 데이터 타입이 `datetime64`로 변경된 것을 확인할 수 있다.\n",
    "### 시계열 범위 확인"
   ],
   "metadata": {
    "collapsed": false,
    "pycharm": {
     "name": "#%% md\n"
    }
   }
  },
  {
   "cell_type": "code",
   "execution_count": 18,
   "outputs": [
    {
     "name": "stdout",
     "output_type": "stream",
     "text": [
      "Min pickup time: 2016-01-01 00:00:17\n",
      "Max pickup time: 2016-06-30 23:59:39\n"
     ]
    }
   ],
   "source": [
    "print(\"Min pickup time:\", min(train['pickup_datetime']))\n",
    "print(\"Max pickup time:\", max(train['pickup_datetime']))"
   ],
   "metadata": {
    "collapsed": false,
    "pycharm": {
     "name": "#%%\n"
    }
   }
  },
  {
   "cell_type": "markdown",
   "source": [
    "2016년 1월부터 2016년 6월까지의 데이터임을 확인할 수 있다.\n",
    "### 시계열 데이터에서 일자(YYYY-MM-DD), 일, 시간, 요일 분리"
   ],
   "metadata": {
    "collapsed": false,
    "pycharm": {
     "name": "#%% md\n"
    }
   }
  },
  {
   "cell_type": "code",
   "execution_count": 19,
   "outputs": [],
   "source": [
    "train['pickup_date'] = train['pickup_datetime'].dt.date\n",
    "train['pickup_day'] = train['pickup_datetime'].apply(lambda x:x.day)\n",
    "train['pickup_hour'] = train['pickup_datetime'].apply(lambda x:x.hour)\n",
    "train['pickup_day_of_week'] = train['pickup_datetime'].apply(lambda x:calendar.day_name[x.weekday()])\n",
    "train['dropoff_date'] = train['dropoff_datetime'].dt.date\n",
    "train['dropoff_day'] = train['dropoff_datetime'].apply(lambda x:x.day)\n",
    "train['dropoff_hour'] = train['dropoff_datetime'].apply(lambda x:x.hour)\n",
    "train['dropoff_day_of_week'] = train['dropoff_datetime'].apply(lambda x:calendar.day_name[x.weekday()])"
   ],
   "metadata": {
    "collapsed": false,
    "pycharm": {
     "name": "#%%\n"
    }
   }
  },
  {
   "cell_type": "markdown",
   "source": [
    "### 일부 변수를 소수점 셋째 자리까지만 표현"
   ],
   "metadata": {
    "collapsed": false,
    "pycharm": {
     "name": "#%% md\n"
    }
   }
  },
  {
   "cell_type": "code",
   "execution_count": 26,
   "outputs": [
    {
     "data": {
      "text/plain": "          id  vendor_id     pickup_datetime    dropoff_datetime  \\\n0  id2875421  2         2016-03-14 17:24:55 2016-03-14 17:32:30   \n1  id2377394  1         2016-06-12 00:43:35 2016-06-12 00:54:38   \n2  id3858529  2         2016-01-19 11:35:24 2016-01-19 12:10:48   \n3  id3504673  2         2016-04-06 19:32:31 2016-04-06 19:39:40   \n4  id2181028  2         2016-03-26 13:30:55 2016-03-26 13:38:10   \n\n   passenger_count  pickup_longitude  pickup_latitude  dropoff_longitude  \\\n0  1               -73.982155         40.767937       -73.964630           \n1  1               -73.980415         40.738564       -73.999481           \n2  1               -73.979027         40.763939       -74.005333           \n3  1               -74.010040         40.719971       -74.012268           \n4  1               -73.973053         40.793209       -73.972923           \n\n   dropoff_latitude store_and_fwd_flag  ...  pickup_hour pickup_day_of_week  \\\n0  40.765602         N                  ...  17           Monday              \n1  40.731152         N                  ...  0            Sunday              \n2  40.710087         N                  ...  11           Tuesday             \n3  40.706718         N                  ...  19           Wednesday           \n4  40.782520         N                  ...  13           Saturday            \n\n   dropoff_date  dropoff_day dropoff_hour dropoff_day_of_week  \\\n0  2016-03-14    14           17           Monday               \n1  2016-06-12    12           0            Sunday               \n2  2016-01-19    19           12           Tuesday              \n3  2016-04-06    6            19           Wednesday            \n4  2016-03-26    26           13           Saturday             \n\n   pickup_latitude_round3  pickup_longitude_round3 dropoff_latitude_round3  \\\n0  40.768                 -73.982                   40.766                   \n1  40.739                 -73.980                   40.731                   \n2  40.764                 -73.979                   40.710                   \n3  40.720                 -74.010                   40.707                   \n4  40.793                 -73.973                   40.783                   \n\n   dropoff_longitude_round3  \n0 -73.965                    \n1 -73.999                    \n2 -74.005                    \n3 -74.012                    \n4 -73.973                    \n\n[5 rows x 23 columns]",
      "text/html": "<div>\n<style scoped>\n    .dataframe tbody tr th:only-of-type {\n        vertical-align: middle;\n    }\n\n    .dataframe tbody tr th {\n        vertical-align: top;\n    }\n\n    .dataframe thead th {\n        text-align: right;\n    }\n</style>\n<table border=\"1\" class=\"dataframe\">\n  <thead>\n    <tr style=\"text-align: right;\">\n      <th></th>\n      <th>id</th>\n      <th>vendor_id</th>\n      <th>pickup_datetime</th>\n      <th>dropoff_datetime</th>\n      <th>passenger_count</th>\n      <th>pickup_longitude</th>\n      <th>pickup_latitude</th>\n      <th>dropoff_longitude</th>\n      <th>dropoff_latitude</th>\n      <th>store_and_fwd_flag</th>\n      <th>...</th>\n      <th>pickup_hour</th>\n      <th>pickup_day_of_week</th>\n      <th>dropoff_date</th>\n      <th>dropoff_day</th>\n      <th>dropoff_hour</th>\n      <th>dropoff_day_of_week</th>\n      <th>pickup_latitude_round3</th>\n      <th>pickup_longitude_round3</th>\n      <th>dropoff_latitude_round3</th>\n      <th>dropoff_longitude_round3</th>\n    </tr>\n  </thead>\n  <tbody>\n    <tr>\n      <th>0</th>\n      <td>id2875421</td>\n      <td>2</td>\n      <td>2016-03-14 17:24:55</td>\n      <td>2016-03-14 17:32:30</td>\n      <td>1</td>\n      <td>-73.982155</td>\n      <td>40.767937</td>\n      <td>-73.964630</td>\n      <td>40.765602</td>\n      <td>N</td>\n      <td>...</td>\n      <td>17</td>\n      <td>Monday</td>\n      <td>2016-03-14</td>\n      <td>14</td>\n      <td>17</td>\n      <td>Monday</td>\n      <td>40.768</td>\n      <td>-73.982</td>\n      <td>40.766</td>\n      <td>-73.965</td>\n    </tr>\n    <tr>\n      <th>1</th>\n      <td>id2377394</td>\n      <td>1</td>\n      <td>2016-06-12 00:43:35</td>\n      <td>2016-06-12 00:54:38</td>\n      <td>1</td>\n      <td>-73.980415</td>\n      <td>40.738564</td>\n      <td>-73.999481</td>\n      <td>40.731152</td>\n      <td>N</td>\n      <td>...</td>\n      <td>0</td>\n      <td>Sunday</td>\n      <td>2016-06-12</td>\n      <td>12</td>\n      <td>0</td>\n      <td>Sunday</td>\n      <td>40.739</td>\n      <td>-73.980</td>\n      <td>40.731</td>\n      <td>-73.999</td>\n    </tr>\n    <tr>\n      <th>2</th>\n      <td>id3858529</td>\n      <td>2</td>\n      <td>2016-01-19 11:35:24</td>\n      <td>2016-01-19 12:10:48</td>\n      <td>1</td>\n      <td>-73.979027</td>\n      <td>40.763939</td>\n      <td>-74.005333</td>\n      <td>40.710087</td>\n      <td>N</td>\n      <td>...</td>\n      <td>11</td>\n      <td>Tuesday</td>\n      <td>2016-01-19</td>\n      <td>19</td>\n      <td>12</td>\n      <td>Tuesday</td>\n      <td>40.764</td>\n      <td>-73.979</td>\n      <td>40.710</td>\n      <td>-74.005</td>\n    </tr>\n    <tr>\n      <th>3</th>\n      <td>id3504673</td>\n      <td>2</td>\n      <td>2016-04-06 19:32:31</td>\n      <td>2016-04-06 19:39:40</td>\n      <td>1</td>\n      <td>-74.010040</td>\n      <td>40.719971</td>\n      <td>-74.012268</td>\n      <td>40.706718</td>\n      <td>N</td>\n      <td>...</td>\n      <td>19</td>\n      <td>Wednesday</td>\n      <td>2016-04-06</td>\n      <td>6</td>\n      <td>19</td>\n      <td>Wednesday</td>\n      <td>40.720</td>\n      <td>-74.010</td>\n      <td>40.707</td>\n      <td>-74.012</td>\n    </tr>\n    <tr>\n      <th>4</th>\n      <td>id2181028</td>\n      <td>2</td>\n      <td>2016-03-26 13:30:55</td>\n      <td>2016-03-26 13:38:10</td>\n      <td>1</td>\n      <td>-73.973053</td>\n      <td>40.793209</td>\n      <td>-73.972923</td>\n      <td>40.782520</td>\n      <td>N</td>\n      <td>...</td>\n      <td>13</td>\n      <td>Saturday</td>\n      <td>2016-03-26</td>\n      <td>26</td>\n      <td>13</td>\n      <td>Saturday</td>\n      <td>40.793</td>\n      <td>-73.973</td>\n      <td>40.783</td>\n      <td>-73.973</td>\n    </tr>\n  </tbody>\n</table>\n<p>5 rows × 23 columns</p>\n</div>"
     },
     "execution_count": 26,
     "metadata": {},
     "output_type": "execute_result"
    }
   ],
   "source": [
    "train['pickup_latitude_round3'] = train['pickup_latitude'].apply(lambda x:round(x,3))\n",
    "train['pickup_longitude_round3'] = train['pickup_longitude'].apply(lambda x:round(x,3))\n",
    "train['dropoff_latitude_round3'] = train['dropoff_latitude'].apply(lambda x:round(x,3))\n",
    "train['dropoff_longitude_round3'] = train['dropoff_longitude'].apply(lambda x:round(x,3))\n",
    "\n",
    "train.head()"
   ],
   "metadata": {
    "collapsed": false,
    "pycharm": {
     "name": "#%%\n"
    }
   }
  },
  {
   "cell_type": "markdown",
   "source": [
    "### 위도와 경도 정보를 바탕으로 거리 계산\n",
    "하버사인 거리(Haversine distance)를 이용"
   ],
   "metadata": {
    "collapsed": false,
    "pycharm": {
     "name": "#%% md\n"
    }
   }
  },
  {
   "cell_type": "code",
   "execution_count": 28,
   "outputs": [
    {
     "data": {
      "text/plain": "          id  vendor_id     pickup_datetime    dropoff_datetime  \\\n0  id2875421  2         2016-03-14 17:24:55 2016-03-14 17:32:30   \n1  id2377394  1         2016-06-12 00:43:35 2016-06-12 00:54:38   \n2  id3858529  2         2016-01-19 11:35:24 2016-01-19 12:10:48   \n3  id3504673  2         2016-04-06 19:32:31 2016-04-06 19:39:40   \n4  id2181028  2         2016-03-26 13:30:55 2016-03-26 13:38:10   \n\n   passenger_count  pickup_longitude  pickup_latitude  dropoff_longitude  \\\n0  1               -73.982155         40.767937       -73.964630           \n1  1               -73.980415         40.738564       -73.999481           \n2  1               -73.979027         40.763939       -74.005333           \n3  1               -74.010040         40.719971       -74.012268           \n4  1               -73.973053         40.793209       -73.972923           \n\n   dropoff_latitude store_and_fwd_flag  ...  pickup_day_of_week dropoff_date  \\\n0  40.765602         N                  ...  Monday              2016-03-14    \n1  40.731152         N                  ...  Sunday              2016-06-12    \n2  40.710087         N                  ...  Tuesday             2016-01-19    \n3  40.706718         N                  ...  Wednesday           2016-04-06    \n4  40.782520         N                  ...  Saturday            2016-03-26    \n\n   dropoff_day  dropoff_hour dropoff_day_of_week pickup_latitude_round3  \\\n0  14           17            Monday              40.768                  \n1  12           0             Sunday              40.739                  \n2  19           12            Tuesday             40.764                  \n3  6            19            Wednesday           40.720                  \n4  26           13            Saturday            40.793                  \n\n   pickup_longitude_round3  dropoff_latitude_round3 dropoff_longitude_round3  \\\n0 -73.982                   40.766                  -73.965                    \n1 -73.980                   40.731                  -73.999                    \n2 -73.979                   40.710                  -74.005                    \n3 -74.010                   40.707                  -74.012                    \n4 -73.973                   40.783                  -73.973                    \n\n   trip_distance  \n0  6030.946284    \n1  6033.947389    \n2  6033.633016    \n3  6038.299921    \n4  6028.186880    \n\n[5 rows x 24 columns]",
      "text/html": "<div>\n<style scoped>\n    .dataframe tbody tr th:only-of-type {\n        vertical-align: middle;\n    }\n\n    .dataframe tbody tr th {\n        vertical-align: top;\n    }\n\n    .dataframe thead th {\n        text-align: right;\n    }\n</style>\n<table border=\"1\" class=\"dataframe\">\n  <thead>\n    <tr style=\"text-align: right;\">\n      <th></th>\n      <th>id</th>\n      <th>vendor_id</th>\n      <th>pickup_datetime</th>\n      <th>dropoff_datetime</th>\n      <th>passenger_count</th>\n      <th>pickup_longitude</th>\n      <th>pickup_latitude</th>\n      <th>dropoff_longitude</th>\n      <th>dropoff_latitude</th>\n      <th>store_and_fwd_flag</th>\n      <th>...</th>\n      <th>pickup_day_of_week</th>\n      <th>dropoff_date</th>\n      <th>dropoff_day</th>\n      <th>dropoff_hour</th>\n      <th>dropoff_day_of_week</th>\n      <th>pickup_latitude_round3</th>\n      <th>pickup_longitude_round3</th>\n      <th>dropoff_latitude_round3</th>\n      <th>dropoff_longitude_round3</th>\n      <th>trip_distance</th>\n    </tr>\n  </thead>\n  <tbody>\n    <tr>\n      <th>0</th>\n      <td>id2875421</td>\n      <td>2</td>\n      <td>2016-03-14 17:24:55</td>\n      <td>2016-03-14 17:32:30</td>\n      <td>1</td>\n      <td>-73.982155</td>\n      <td>40.767937</td>\n      <td>-73.964630</td>\n      <td>40.765602</td>\n      <td>N</td>\n      <td>...</td>\n      <td>Monday</td>\n      <td>2016-03-14</td>\n      <td>14</td>\n      <td>17</td>\n      <td>Monday</td>\n      <td>40.768</td>\n      <td>-73.982</td>\n      <td>40.766</td>\n      <td>-73.965</td>\n      <td>6030.946284</td>\n    </tr>\n    <tr>\n      <th>1</th>\n      <td>id2377394</td>\n      <td>1</td>\n      <td>2016-06-12 00:43:35</td>\n      <td>2016-06-12 00:54:38</td>\n      <td>1</td>\n      <td>-73.980415</td>\n      <td>40.738564</td>\n      <td>-73.999481</td>\n      <td>40.731152</td>\n      <td>N</td>\n      <td>...</td>\n      <td>Sunday</td>\n      <td>2016-06-12</td>\n      <td>12</td>\n      <td>0</td>\n      <td>Sunday</td>\n      <td>40.739</td>\n      <td>-73.980</td>\n      <td>40.731</td>\n      <td>-73.999</td>\n      <td>6033.947389</td>\n    </tr>\n    <tr>\n      <th>2</th>\n      <td>id3858529</td>\n      <td>2</td>\n      <td>2016-01-19 11:35:24</td>\n      <td>2016-01-19 12:10:48</td>\n      <td>1</td>\n      <td>-73.979027</td>\n      <td>40.763939</td>\n      <td>-74.005333</td>\n      <td>40.710087</td>\n      <td>N</td>\n      <td>...</td>\n      <td>Tuesday</td>\n      <td>2016-01-19</td>\n      <td>19</td>\n      <td>12</td>\n      <td>Tuesday</td>\n      <td>40.764</td>\n      <td>-73.979</td>\n      <td>40.710</td>\n      <td>-74.005</td>\n      <td>6033.633016</td>\n    </tr>\n    <tr>\n      <th>3</th>\n      <td>id3504673</td>\n      <td>2</td>\n      <td>2016-04-06 19:32:31</td>\n      <td>2016-04-06 19:39:40</td>\n      <td>1</td>\n      <td>-74.010040</td>\n      <td>40.719971</td>\n      <td>-74.012268</td>\n      <td>40.706718</td>\n      <td>N</td>\n      <td>...</td>\n      <td>Wednesday</td>\n      <td>2016-04-06</td>\n      <td>6</td>\n      <td>19</td>\n      <td>Wednesday</td>\n      <td>40.720</td>\n      <td>-74.010</td>\n      <td>40.707</td>\n      <td>-74.012</td>\n      <td>6038.299921</td>\n    </tr>\n    <tr>\n      <th>4</th>\n      <td>id2181028</td>\n      <td>2</td>\n      <td>2016-03-26 13:30:55</td>\n      <td>2016-03-26 13:38:10</td>\n      <td>1</td>\n      <td>-73.973053</td>\n      <td>40.793209</td>\n      <td>-73.972923</td>\n      <td>40.782520</td>\n      <td>N</td>\n      <td>...</td>\n      <td>Saturday</td>\n      <td>2016-03-26</td>\n      <td>26</td>\n      <td>13</td>\n      <td>Saturday</td>\n      <td>40.793</td>\n      <td>-73.973</td>\n      <td>40.783</td>\n      <td>-73.973</td>\n      <td>6028.186880</td>\n    </tr>\n  </tbody>\n</table>\n<p>5 rows × 24 columns</p>\n</div>"
     },
     "execution_count": 28,
     "metadata": {},
     "output_type": "execute_result"
    }
   ],
   "source": [
    "def calculateDistance(row):\n",
    "    R = 6373.0 # 지구 반지름의 대략적인 길이\n",
    "    pickup_lat = radians(row['pickup_latitude'])\n",
    "    pickup_lon = radians(row['pickup_longitude'])\n",
    "    dropoff_lat = radians(row['dropoff_latitude'])\n",
    "    dropoff_lon = radians(row['dropoff_longitude'])\n",
    "    dlon = dropoff_lon = pickup_lon\n",
    "    dlat = dropoff_lat - pickup_lat\n",
    "    a = sin(dlat / 2)**2 + cos(pickup_lat) * cos(dropoff_lat) * sin(dlon / 2)**2\n",
    "    c = 2 * atan2(sqrt(a), sqrt(1-a))\n",
    "    distance = R * c\n",
    "    return distance\n",
    "\n",
    "train['trip_distance'] = train.apply(lambda row:calculateDistance(row), axis=1)\n",
    "train.head()"
   ],
   "metadata": {
    "collapsed": false,
    "pycharm": {
     "name": "#%%\n"
    }
   }
  },
  {
   "cell_type": "markdown",
   "source": [
    "### 주행 시간을 시간 단위로 변환"
   ],
   "metadata": {
    "collapsed": false,
    "pycharm": {
     "name": "#%% md\n"
    }
   }
  },
  {
   "cell_type": "code",
   "execution_count": 29,
   "outputs": [
    {
     "data": {
      "text/plain": "          id  vendor_id     pickup_datetime    dropoff_datetime  \\\n0  id2875421  2         2016-03-14 17:24:55 2016-03-14 17:32:30   \n1  id2377394  1         2016-06-12 00:43:35 2016-06-12 00:54:38   \n2  id3858529  2         2016-01-19 11:35:24 2016-01-19 12:10:48   \n3  id3504673  2         2016-04-06 19:32:31 2016-04-06 19:39:40   \n4  id2181028  2         2016-03-26 13:30:55 2016-03-26 13:38:10   \n\n   passenger_count  pickup_longitude  pickup_latitude  dropoff_longitude  \\\n0  1               -73.982155         40.767937       -73.964630           \n1  1               -73.980415         40.738564       -73.999481           \n2  1               -73.979027         40.763939       -74.005333           \n3  1               -74.010040         40.719971       -74.012268           \n4  1               -73.973053         40.793209       -73.972923           \n\n   dropoff_latitude store_and_fwd_flag  ...  dropoff_date dropoff_day  \\\n0  40.765602         N                  ...  2016-03-14    14           \n1  40.731152         N                  ...  2016-06-12    12           \n2  40.710087         N                  ...  2016-01-19    19           \n3  40.706718         N                  ...  2016-04-06    6            \n4  40.782520         N                  ...  2016-03-26    26           \n\n   dropoff_hour  dropoff_day_of_week pickup_latitude_round3  \\\n0  17            Monday               40.768                  \n1  0             Sunday               40.739                  \n2  12            Tuesday              40.764                  \n3  19            Wednesday            40.720                  \n4  13            Saturday             40.793                  \n\n  pickup_longitude_round3  dropoff_latitude_round3  dropoff_longitude_round3  \\\n0 -73.982                  40.766                  -73.965                     \n1 -73.980                  40.731                  -73.999                     \n2 -73.979                  40.710                  -74.005                     \n3 -74.010                  40.707                  -74.012                     \n4 -73.973                  40.783                  -73.973                     \n\n  trip_distance  trip_duration_in_hour  \n0  6030.946284   0.126389               \n1  6033.947389   0.184167               \n2  6033.633016   0.590000               \n3  6038.299921   0.119167               \n4  6028.186880   0.120833               \n\n[5 rows x 25 columns]",
      "text/html": "<div>\n<style scoped>\n    .dataframe tbody tr th:only-of-type {\n        vertical-align: middle;\n    }\n\n    .dataframe tbody tr th {\n        vertical-align: top;\n    }\n\n    .dataframe thead th {\n        text-align: right;\n    }\n</style>\n<table border=\"1\" class=\"dataframe\">\n  <thead>\n    <tr style=\"text-align: right;\">\n      <th></th>\n      <th>id</th>\n      <th>vendor_id</th>\n      <th>pickup_datetime</th>\n      <th>dropoff_datetime</th>\n      <th>passenger_count</th>\n      <th>pickup_longitude</th>\n      <th>pickup_latitude</th>\n      <th>dropoff_longitude</th>\n      <th>dropoff_latitude</th>\n      <th>store_and_fwd_flag</th>\n      <th>...</th>\n      <th>dropoff_date</th>\n      <th>dropoff_day</th>\n      <th>dropoff_hour</th>\n      <th>dropoff_day_of_week</th>\n      <th>pickup_latitude_round3</th>\n      <th>pickup_longitude_round3</th>\n      <th>dropoff_latitude_round3</th>\n      <th>dropoff_longitude_round3</th>\n      <th>trip_distance</th>\n      <th>trip_duration_in_hour</th>\n    </tr>\n  </thead>\n  <tbody>\n    <tr>\n      <th>0</th>\n      <td>id2875421</td>\n      <td>2</td>\n      <td>2016-03-14 17:24:55</td>\n      <td>2016-03-14 17:32:30</td>\n      <td>1</td>\n      <td>-73.982155</td>\n      <td>40.767937</td>\n      <td>-73.964630</td>\n      <td>40.765602</td>\n      <td>N</td>\n      <td>...</td>\n      <td>2016-03-14</td>\n      <td>14</td>\n      <td>17</td>\n      <td>Monday</td>\n      <td>40.768</td>\n      <td>-73.982</td>\n      <td>40.766</td>\n      <td>-73.965</td>\n      <td>6030.946284</td>\n      <td>0.126389</td>\n    </tr>\n    <tr>\n      <th>1</th>\n      <td>id2377394</td>\n      <td>1</td>\n      <td>2016-06-12 00:43:35</td>\n      <td>2016-06-12 00:54:38</td>\n      <td>1</td>\n      <td>-73.980415</td>\n      <td>40.738564</td>\n      <td>-73.999481</td>\n      <td>40.731152</td>\n      <td>N</td>\n      <td>...</td>\n      <td>2016-06-12</td>\n      <td>12</td>\n      <td>0</td>\n      <td>Sunday</td>\n      <td>40.739</td>\n      <td>-73.980</td>\n      <td>40.731</td>\n      <td>-73.999</td>\n      <td>6033.947389</td>\n      <td>0.184167</td>\n    </tr>\n    <tr>\n      <th>2</th>\n      <td>id3858529</td>\n      <td>2</td>\n      <td>2016-01-19 11:35:24</td>\n      <td>2016-01-19 12:10:48</td>\n      <td>1</td>\n      <td>-73.979027</td>\n      <td>40.763939</td>\n      <td>-74.005333</td>\n      <td>40.710087</td>\n      <td>N</td>\n      <td>...</td>\n      <td>2016-01-19</td>\n      <td>19</td>\n      <td>12</td>\n      <td>Tuesday</td>\n      <td>40.764</td>\n      <td>-73.979</td>\n      <td>40.710</td>\n      <td>-74.005</td>\n      <td>6033.633016</td>\n      <td>0.590000</td>\n    </tr>\n    <tr>\n      <th>3</th>\n      <td>id3504673</td>\n      <td>2</td>\n      <td>2016-04-06 19:32:31</td>\n      <td>2016-04-06 19:39:40</td>\n      <td>1</td>\n      <td>-74.010040</td>\n      <td>40.719971</td>\n      <td>-74.012268</td>\n      <td>40.706718</td>\n      <td>N</td>\n      <td>...</td>\n      <td>2016-04-06</td>\n      <td>6</td>\n      <td>19</td>\n      <td>Wednesday</td>\n      <td>40.720</td>\n      <td>-74.010</td>\n      <td>40.707</td>\n      <td>-74.012</td>\n      <td>6038.299921</td>\n      <td>0.119167</td>\n    </tr>\n    <tr>\n      <th>4</th>\n      <td>id2181028</td>\n      <td>2</td>\n      <td>2016-03-26 13:30:55</td>\n      <td>2016-03-26 13:38:10</td>\n      <td>1</td>\n      <td>-73.973053</td>\n      <td>40.793209</td>\n      <td>-73.972923</td>\n      <td>40.782520</td>\n      <td>N</td>\n      <td>...</td>\n      <td>2016-03-26</td>\n      <td>26</td>\n      <td>13</td>\n      <td>Saturday</td>\n      <td>40.793</td>\n      <td>-73.973</td>\n      <td>40.783</td>\n      <td>-73.973</td>\n      <td>6028.186880</td>\n      <td>0.120833</td>\n    </tr>\n  </tbody>\n</table>\n<p>5 rows × 25 columns</p>\n</div>"
     },
     "execution_count": 29,
     "metadata": {},
     "output_type": "execute_result"
    }
   ],
   "source": [
    "train['trip_duration_in_hour'] = train['trip_duration'].apply(lambda x:x/3600)\n",
    "train.head()"
   ],
   "metadata": {
    "collapsed": false,
    "pycharm": {
     "name": "#%%\n"
    }
   }
  }
 ],
 "metadata": {
  "kernelspec": {
   "display_name": "Python 3",
   "language": "python",
   "name": "python3"
  },
  "language_info": {
   "codemirror_mode": {
    "name": "ipython",
    "version": 2
   },
   "file_extension": ".py",
   "mimetype": "text/x-python",
   "name": "python",
   "nbconvert_exporter": "python",
   "pygments_lexer": "ipython2",
   "version": "2.7.6"
  }
 },
 "nbformat": 4,
 "nbformat_minor": 0
}