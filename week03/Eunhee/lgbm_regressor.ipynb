{
 "cells": [
  {
   "cell_type": "markdown",
   "metadata": {},
   "source": [
    "# 필요한 모듈 임포트"
   ]
  },
  {
   "cell_type": "code",
   "execution_count": 1,
   "metadata": {
    "ExecuteTime": {
     "end_time": "2021-11-20T05:11:06.543445Z",
     "start_time": "2021-11-20T05:11:06.532435Z"
    }
   },
   "outputs": [],
   "source": [
    "import pandas as pd\n",
    "import lightgbm as lgb\n",
    "import warnings\n",
    "warnings.filterwarnings('ignore')\n",
    "pd.set_option('display.max_colwidth', -1)\n",
    "from sklearn import preprocessing\n",
    "from sklearn.model_selection import train_test_split\n",
    "from sklearn.model_selection import GridSearchCV"
   ]
  },
  {
   "cell_type": "markdown",
   "metadata": {},
   "source": [
    "# 데이터 불러오기"
   ]
  },
  {
   "cell_type": "code",
   "execution_count": 2,
   "metadata": {
    "ExecuteTime": {
     "end_time": "2021-11-20T05:11:12.132828Z",
     "start_time": "2021-11-20T05:11:09.393522Z"
    },
    "pycharm": {
     "name": "#%%\n"
    }
   },
   "outputs": [],
   "source": [
    "train = pd.read_csv('../../week02/Eunhee/input_training.csv')\n",
    "test = pd.read_csv('../../week02/Eunhee/input_testing.csv')"
   ]
  },
  {
   "cell_type": "markdown",
   "metadata": {},
   "source": [
    "# 라벨 인코딩"
   ]
  },
  {
   "cell_type": "code",
   "execution_count": 3,
   "metadata": {
    "ExecuteTime": {
     "end_time": "2021-11-20T05:15:32.201723Z",
     "start_time": "2021-11-20T05:15:32.186551Z"
    },
    "pycharm": {
     "name": "#%%\n"
    }
   },
   "outputs": [],
   "source": [
    "def LabelEncoding(train_df,test_df,max_levels=2):\n",
    "    for col in train_df:\n",
    "        if train_df[col].dtype == 'object':\n",
    "            if len(list(train_df[col].unique())) <= max_levels:\n",
    "                le = preprocessing.LabelEncoder()\n",
    "                le.fit(train_df[col])\n",
    "                train_df[col]=le.transform(train_df[col])\n",
    "                test_df[col]=le.transform(test_df[col])\n",
    "    return [train_df,test_df]\n",
    "\n",
    "def readInputAndEncode(input_path,train_file,test_file,target_column):\n",
    "    training=pd.read_csv(input_path+train_file)\n",
    "    testing=pd.read_csv(input_path+test_file)\n",
    "\n",
    "    training,testing=LabelEncoding(training,testing)\n",
    "\n",
    "    #print(\"Training Data Shape after Encoding \",training.shape)\n",
    "    #print(\"Testing Data Shape after Encoding \",testing.shape)\n",
    "    #Check if all train columns are there in test data. If not add the column to test data and replace it with zero\n",
    "    train_cols=training.columns.tolist()\n",
    "    test_cols=testing.columns.tolist()\n",
    "    col_in_train_not_test=set(train_cols)-set(test_cols)\n",
    "    for col in col_in_train_not_test:\n",
    "        if col!=target_column:\n",
    "            testing[col]=0\n",
    "    col_in_test_not_train=set(test_cols)-set(train_cols)\n",
    "    for col in col_in_test_not_train:\n",
    "        training[col]=0\n",
    "    print(\"Training Data Shape after Processing \",training.shape)\n",
    "    print(\"Testing Data Shape after Processing \",testing.shape)\n",
    "    return [training,testing]"
   ]
  },
  {
   "cell_type": "markdown",
   "metadata": {},
   "source": [
    "# 분석에 필요없는 컬럼 삭제하기"
   ]
  },
  {
   "cell_type": "code",
   "execution_count": 4,
   "metadata": {
    "ExecuteTime": {
     "end_time": "2021-11-20T05:15:38.305569Z",
     "start_time": "2021-11-20T05:15:34.376998Z"
    },
    "pycharm": {
     "name": "#%%\n"
    }
   },
   "outputs": [
    {
     "name": "stdout",
     "output_type": "stream",
     "text": [
      "Training Data Shape after Processing  (1458644, 18)\n",
      "Testing Data Shape after Processing  (625134, 17)\n"
     ]
    }
   ],
   "source": [
    "train,test=readInputAndEncode(\"../../week02/Eunhee/\",'input_training.csv','input_testing.csv','log_trip_duration')\n",
    "train.drop(['pickup_date'],axis=1,inplace=True)\n",
    "test.drop(['pickup_date'],axis=1,inplace=True)\n",
    "train.drop(['pickup_datetime'],axis=1,inplace=True)\n",
    "test.drop(['pickup_datetime'],axis=1,inplace=True)\n",
    "test_id=test['id']\n",
    "train.drop(['id'],axis=1,inplace=True)\n",
    "test.drop(['id'],axis=1,inplace=True)\n",
    "train.drop(['vendor_id'], axis=1, inplace=True)\n",
    "test.drop(['vendor_id'], axis=1, inplace=True)"
   ]
  },
  {
   "cell_type": "markdown",
   "metadata": {},
   "source": [
    "## 범주형 변수화"
   ]
  },
  {
   "cell_type": "code",
   "execution_count": 5,
   "metadata": {
    "ExecuteTime": {
     "end_time": "2021-11-20T05:18:41.226017Z",
     "start_time": "2021-11-20T05:18:41.135933Z"
    },
    "pycharm": {
     "name": "#%%\n"
    }
   },
   "outputs": [],
   "source": [
    "train['store_and_fwd_flag'] = train['store_and_fwd_flag'].astype('category')\n",
    "train['pickup_neighbourhood'] = train['pickup_neighbourhood'].astype('category')\n",
    "train['dropoff_neighbourhood'] = train['dropoff_neighbourhood'].astype('category')\n",
    "\n",
    "test['store_and_fwd_flag'] = test['store_and_fwd_flag'].astype('category')\n",
    "test['pickup_neighbourhood'] = test['pickup_neighbourhood'].astype('category')\n",
    "test['dropoff_neighbourhood'] = test['dropoff_neighbourhood'].astype('category')"
   ]
  },
  {
   "cell_type": "code",
   "execution_count": 6,
   "metadata": {
    "ExecuteTime": {
     "end_time": "2021-11-20T05:19:18.191201Z",
     "start_time": "2021-11-20T05:19:18.134632Z"
    }
   },
   "outputs": [
    {
     "name": "stdout",
     "output_type": "stream",
     "text": [
      "<class 'pandas.core.frame.DataFrame'>\n",
      "RangeIndex: 1458644 entries, 0 to 1458643\n",
      "Data columns (total 14 columns):\n",
      " #   Column                    Non-Null Count    Dtype   \n",
      "---  ------                    --------------    -----   \n",
      " 0   passenger_count           1458644 non-null  int64   \n",
      " 1   store_and_fwd_flag        1458644 non-null  category\n",
      " 2   pickup_day                1458644 non-null  int64   \n",
      " 3   pickup_hour               1458644 non-null  int64   \n",
      " 4   pickup_day_of_week        1458644 non-null  int64   \n",
      " 5   pickup_latitude_round3    1458644 non-null  float64 \n",
      " 6   pickup_longitude_round3   1458644 non-null  float64 \n",
      " 7   dropoff_latitude_round3   1458644 non-null  float64 \n",
      " 8   dropoff_longitude_round3  1458644 non-null  float64 \n",
      " 9   trip_distance             1458644 non-null  float64 \n",
      " 10  bearing                   1458644 non-null  float64 \n",
      " 11  pickup_neighbourhood      1458644 non-null  category\n",
      " 12  dropoff_neighbourhood     1458644 non-null  category\n",
      " 13  log_trip_duration         1458644 non-null  float64 \n",
      "dtypes: category(3), float64(7), int64(4)\n",
      "memory usage: 126.6 MB\n",
      "<class 'pandas.core.frame.DataFrame'>\n",
      "RangeIndex: 625134 entries, 0 to 625133\n",
      "Data columns (total 13 columns):\n",
      " #   Column                    Non-Null Count   Dtype   \n",
      "---  ------                    --------------   -----   \n",
      " 0   passenger_count           625134 non-null  int64   \n",
      " 1   store_and_fwd_flag        625134 non-null  category\n",
      " 2   pickup_day                625134 non-null  int64   \n",
      " 3   pickup_hour               625134 non-null  int64   \n",
      " 4   pickup_day_of_week        625134 non-null  int64   \n",
      " 5   pickup_latitude_round3    625134 non-null  float64 \n",
      " 6   pickup_longitude_round3   625134 non-null  float64 \n",
      " 7   dropoff_latitude_round3   625134 non-null  float64 \n",
      " 8   dropoff_longitude_round3  625134 non-null  float64 \n",
      " 9   trip_distance             625134 non-null  float64 \n",
      " 10  bearing                   625134 non-null  float64 \n",
      " 11  pickup_neighbourhood      625134 non-null  category\n",
      " 12  dropoff_neighbourhood     625134 non-null  category\n",
      "dtypes: category(3), float64(6), int64(4)\n",
      "memory usage: 49.5 MB\n"
     ]
    }
   ],
   "source": [
    "train.info()\n",
    "test.info()"
   ]
  },
  {
   "cell_type": "code",
   "execution_count": 7,
   "metadata": {
    "ExecuteTime": {
     "end_time": "2021-11-20T05:25:21.540893Z",
     "start_time": "2021-11-20T05:25:21.245625Z"
    },
    "scrolled": true
   },
   "outputs": [
    {
     "data": {
      "text/plain": "<pandas.io.formats.style.Styler at 0x2a4bc9a7370>",
      "text/html": "<style type=\"text/css\">\n#T_4cc6f_row0_col0, #T_4cc6f_row1_col1, #T_4cc6f_row2_col2, #T_4cc6f_row3_col3, #T_4cc6f_row4_col4, #T_4cc6f_row5_col5, #T_4cc6f_row6_col6, #T_4cc6f_row7_col7, #T_4cc6f_row8_col8, #T_4cc6f_row9_col9, #T_4cc6f_row10_col10 {\n  background-color: #023858;\n  color: #f1f1f1;\n}\n#T_4cc6f_row0_col1, #T_4cc6f_row3_col0, #T_4cc6f_row3_col1 {\n  background-color: #fef6fa;\n  color: #000000;\n}\n#T_4cc6f_row0_col2, #T_4cc6f_row0_col3 {\n  background-color: #fbf3f9;\n  color: #000000;\n}\n#T_4cc6f_row0_col4, #T_4cc6f_row1_col4, #T_4cc6f_row9_col6 {\n  background-color: #e2dfee;\n  color: #000000;\n}\n#T_4cc6f_row0_col5, #T_4cc6f_row3_col9, #T_4cc6f_row8_col9 {\n  background-color: #efe9f3;\n  color: #000000;\n}\n#T_4cc6f_row0_col6, #T_4cc6f_row9_col10 {\n  background-color: #ede7f2;\n  color: #000000;\n}\n#T_4cc6f_row0_col7, #T_4cc6f_row1_col2, #T_4cc6f_row1_col7, #T_4cc6f_row4_col3, #T_4cc6f_row9_col3 {\n  background-color: #fcf4fa;\n  color: #000000;\n}\n#T_4cc6f_row0_col8, #T_4cc6f_row2_col4 {\n  background-color: #e0dded;\n  color: #000000;\n}\n#T_4cc6f_row0_col9, #T_4cc6f_row1_col5, #T_4cc6f_row1_col9, #T_4cc6f_row10_col9 {\n  background-color: #f0eaf4;\n  color: #000000;\n}\n#T_4cc6f_row0_col10, #T_4cc6f_row6_col7 {\n  background-color: #e8e4f0;\n  color: #000000;\n}\n#T_4cc6f_row1_col0, #T_4cc6f_row2_col1, #T_4cc6f_row4_col9, #T_4cc6f_row5_col0, #T_4cc6f_row5_col1, #T_4cc6f_row5_col3, #T_4cc6f_row7_col0, #T_4cc6f_row7_col1, #T_4cc6f_row8_col2, #T_4cc6f_row9_col0, #T_4cc6f_row9_col1 {\n  background-color: #fef6fb;\n  color: #000000;\n}\n#T_4cc6f_row1_col3, #T_4cc6f_row10_col0 {\n  background-color: #fbf4f9;\n  color: #000000;\n}\n#T_4cc6f_row1_col6, #T_4cc6f_row3_col6 {\n  background-color: #ede8f3;\n  color: #000000;\n}\n#T_4cc6f_row1_col8 {\n  background-color: #e0deed;\n  color: #000000;\n}\n#T_4cc6f_row1_col10, #T_4cc6f_row2_col6, #T_4cc6f_row4_col7 {\n  background-color: #eae6f1;\n  color: #000000;\n}\n#T_4cc6f_row2_col0, #T_4cc6f_row3_col7, #T_4cc6f_row6_col3, #T_4cc6f_row6_col10, #T_4cc6f_row7_col3, #T_4cc6f_row8_col0, #T_4cc6f_row8_col1, #T_4cc6f_row10_col1, #T_4cc6f_row10_col6 {\n  background-color: #fdf5fa;\n  color: #000000;\n}\n#T_4cc6f_row2_col3, #T_4cc6f_row10_col3 {\n  background-color: #f8f1f8;\n  color: #000000;\n}\n#T_4cc6f_row2_col5 {\n  background-color: #eee8f3;\n  color: #000000;\n}\n#T_4cc6f_row2_col7, #T_4cc6f_row4_col0, #T_4cc6f_row4_col1, #T_4cc6f_row4_col8, #T_4cc6f_row4_col10, #T_4cc6f_row5_col9, #T_4cc6f_row6_col0, #T_4cc6f_row6_col1, #T_4cc6f_row7_col2, #T_4cc6f_row8_col3, #T_4cc6f_row8_col4, #T_4cc6f_row8_col6, #T_4cc6f_row9_col2, #T_4cc6f_row9_col5 {\n  background-color: #fff7fb;\n  color: #000000;\n}\n#T_4cc6f_row2_col8 {\n  background-color: #e4e1ef;\n  color: #000000;\n}\n#T_4cc6f_row2_col9, #T_4cc6f_row3_col5 {\n  background-color: #f2ecf5;\n  color: #000000;\n}\n#T_4cc6f_row2_col10 {\n  background-color: #e5e1ef;\n  color: #000000;\n}\n#T_4cc6f_row3_col2 {\n  background-color: #f9f2f8;\n  color: #000000;\n}\n#T_4cc6f_row3_col4, #T_4cc6f_row9_col8 {\n  background-color: #e1dfed;\n  color: #000000;\n}\n#T_4cc6f_row3_col8, #T_4cc6f_row8_col7 {\n  background-color: #e6e2ef;\n  color: #000000;\n}\n#T_4cc6f_row3_col10, #T_4cc6f_row6_col9 {\n  background-color: #e7e3f0;\n  color: #000000;\n}\n#T_4cc6f_row4_col2, #T_4cc6f_row5_col2 {\n  background-color: #faf3f9;\n  color: #000000;\n}\n#T_4cc6f_row4_col5 {\n  background-color: #ece7f2;\n  color: #000000;\n}\n#T_4cc6f_row4_col6 {\n  background-color: #589ec8;\n  color: #f1f1f1;\n}\n#T_4cc6f_row5_col4, #T_4cc6f_row6_col5 {\n  background-color: #dddbec;\n  color: #000000;\n}\n#T_4cc6f_row5_col6 {\n  background-color: #d9d8ea;\n  color: #000000;\n}\n#T_4cc6f_row5_col7 {\n  background-color: #0569a5;\n  color: #f1f1f1;\n}\n#T_4cc6f_row5_col8 {\n  background-color: #a1bbda;\n  color: #000000;\n}\n#T_4cc6f_row5_col10 {\n  background-color: #d7d6e9;\n  color: #000000;\n}\n#T_4cc6f_row6_col2 {\n  background-color: #faf2f8;\n  color: #000000;\n}\n#T_4cc6f_row6_col4 {\n  background-color: #4c99c5;\n  color: #f1f1f1;\n}\n#T_4cc6f_row6_col8, #T_4cc6f_row10_col4 {\n  background-color: #f7f0f7;\n  color: #000000;\n}\n#T_4cc6f_row7_col4 {\n  background-color: #cacee5;\n  color: #000000;\n}\n#T_4cc6f_row7_col5 {\n  background-color: #0566a0;\n  color: #f1f1f1;\n}\n#T_4cc6f_row7_col6 {\n  background-color: #d4d4e8;\n  color: #000000;\n}\n#T_4cc6f_row7_col8 {\n  background-color: #c5cce3;\n  color: #000000;\n}\n#T_4cc6f_row7_col9 {\n  background-color: #cdd0e5;\n  color: #000000;\n}\n#T_4cc6f_row7_col10, #T_4cc6f_row9_col7 {\n  background-color: #dedcec;\n  color: #000000;\n}\n#T_4cc6f_row8_col5 {\n  background-color: #b3c3de;\n  color: #000000;\n}\n#T_4cc6f_row8_col10 {\n  background-color: #358fc0;\n  color: #f1f1f1;\n}\n#T_4cc6f_row9_col4 {\n  background-color: #f3edf5;\n  color: #000000;\n}\n#T_4cc6f_row10_col2 {\n  background-color: #f6eff7;\n  color: #000000;\n}\n#T_4cc6f_row10_col5 {\n  background-color: #dad9ea;\n  color: #000000;\n}\n#T_4cc6f_row10_col7 {\n  background-color: #f1ebf5;\n  color: #000000;\n}\n#T_4cc6f_row10_col8 {\n  background-color: #2d8abd;\n  color: #f1f1f1;\n}\n</style>\n<table id=\"T_4cc6f_\">\n  <thead>\n    <tr>\n      <th class=\"blank level0\" >&nbsp;</th>\n      <th class=\"col_heading level0 col0\" >passenger_count</th>\n      <th class=\"col_heading level0 col1\" >pickup_day</th>\n      <th class=\"col_heading level0 col2\" >pickup_hour</th>\n      <th class=\"col_heading level0 col3\" >pickup_day_of_week</th>\n      <th class=\"col_heading level0 col4\" >pickup_latitude_round3</th>\n      <th class=\"col_heading level0 col5\" >pickup_longitude_round3</th>\n      <th class=\"col_heading level0 col6\" >dropoff_latitude_round3</th>\n      <th class=\"col_heading level0 col7\" >dropoff_longitude_round3</th>\n      <th class=\"col_heading level0 col8\" >trip_distance</th>\n      <th class=\"col_heading level0 col9\" >bearing</th>\n      <th class=\"col_heading level0 col10\" >log_trip_duration</th>\n    </tr>\n  </thead>\n  <tbody>\n    <tr>\n      <th id=\"T_4cc6f_level0_row0\" class=\"row_heading level0 row0\" >passenger_count</th>\n      <td id=\"T_4cc6f_row0_col0\" class=\"data row0 col0\" >1.000000</td>\n      <td id=\"T_4cc6f_row0_col1\" class=\"data row0 col1\" >0.002014</td>\n      <td id=\"T_4cc6f_row0_col2\" class=\"data row0 col2\" >0.009101</td>\n      <td id=\"T_4cc6f_row0_col3\" class=\"data row0 col3\" >0.005948</td>\n      <td id=\"T_4cc6f_row0_col4\" class=\"data row0 col4\" >-0.005112</td>\n      <td id=\"T_4cc6f_row0_col5\" class=\"data row0 col5\" >0.002167</td>\n      <td id=\"T_4cc6f_row0_col6\" class=\"data row0 col6\" >-0.002760</td>\n      <td id=\"T_4cc6f_row0_col7\" class=\"data row0 col7\" >-0.000340</td>\n      <td id=\"T_4cc6f_row0_col8\" class=\"data row0 col8\" >0.010306</td>\n      <td id=\"T_4cc6f_row0_col9\" class=\"data row0 col9\" >-0.000651</td>\n      <td id=\"T_4cc6f_row0_col10\" class=\"data row0 col10\" >0.021124</td>\n    </tr>\n    <tr>\n      <th id=\"T_4cc6f_level0_row1\" class=\"row_heading level0 row1\" >pickup_day</th>\n      <td id=\"T_4cc6f_row1_col0\" class=\"data row1 col0\" >0.002014</td>\n      <td id=\"T_4cc6f_row1_col1\" class=\"data row1 col1\" >1.000000</td>\n      <td id=\"T_4cc6f_row1_col2\" class=\"data row1 col2\" >0.000414</td>\n      <td id=\"T_4cc6f_row1_col3\" class=\"data row1 col3\" >0.002893</td>\n      <td id=\"T_4cc6f_row1_col4\" class=\"data row1 col4\" >-0.006493</td>\n      <td id=\"T_4cc6f_row1_col5\" class=\"data row1 col5\" >-0.000871</td>\n      <td id=\"T_4cc6f_row1_col6\" class=\"data row1 col6\" >-0.005562</td>\n      <td id=\"T_4cc6f_row1_col7\" class=\"data row1 col7\" >-0.000456</td>\n      <td id=\"T_4cc6f_row1_col8\" class=\"data row1 col8\" >0.005982</td>\n      <td id=\"T_4cc6f_row1_col9\" class=\"data row1 col9\" >-0.000226</td>\n      <td id=\"T_4cc6f_row1_col10\" class=\"data row1 col10\" >0.010385</td>\n    </tr>\n    <tr>\n      <th id=\"T_4cc6f_level0_row2\" class=\"row_heading level0 row2\" >pickup_hour</th>\n      <td id=\"T_4cc6f_row2_col0\" class=\"data row2 col0\" >0.009101</td>\n      <td id=\"T_4cc6f_row2_col1\" class=\"data row2 col1\" >0.000414</td>\n      <td id=\"T_4cc6f_row2_col2\" class=\"data row2 col2\" >1.000000</td>\n      <td id=\"T_4cc6f_row2_col3\" class=\"data row2 col3\" >0.021308</td>\n      <td id=\"T_4cc6f_row2_col4\" class=\"data row2 col4\" >0.010639</td>\n      <td id=\"T_4cc6f_row2_col5\" class=\"data row2 col5\" >0.010150</td>\n      <td id=\"T_4cc6f_row2_col6\" class=\"data row2 col6\" >0.013633</td>\n      <td id=\"T_4cc6f_row2_col7\" class=\"data row2 col7\" >-0.022454</td>\n      <td id=\"T_4cc6f_row2_col8\" class=\"data row2 col8\" >-0.015813</td>\n      <td id=\"T_4cc6f_row2_col9\" class=\"data row2 col9\" >-0.021959</td>\n      <td id=\"T_4cc6f_row2_col10\" class=\"data row2 col10\" >0.039107</td>\n    </tr>\n    <tr>\n      <th id=\"T_4cc6f_level0_row3\" class=\"row_heading level0 row3\" >pickup_day_of_week</th>\n      <td id=\"T_4cc6f_row3_col0\" class=\"data row3 col0\" >0.005948</td>\n      <td id=\"T_4cc6f_row3_col1\" class=\"data row3 col1\" >0.002893</td>\n      <td id=\"T_4cc6f_row3_col2\" class=\"data row3 col2\" >0.021308</td>\n      <td id=\"T_4cc6f_row3_col3\" class=\"data row3 col3\" >1.000000</td>\n      <td id=\"T_4cc6f_row3_col4\" class=\"data row3 col4\" >-0.000947</td>\n      <td id=\"T_4cc6f_row3_col5\" class=\"data row3 col5\" >-0.017992</td>\n      <td id=\"T_4cc6f_row3_col6\" class=\"data row3 col6\" >-0.006674</td>\n      <td id=\"T_4cc6f_row3_col7\" class=\"data row3 col7\" >-0.008958</td>\n      <td id=\"T_4cc6f_row3_col8\" class=\"data row3 col8\" >-0.022942</td>\n      <td id=\"T_4cc6f_row3_col9\" class=\"data row3 col9\" >0.000621</td>\n      <td id=\"T_4cc6f_row3_col10\" class=\"data row3 col10\" >0.025439</td>\n    </tr>\n    <tr>\n      <th id=\"T_4cc6f_level0_row4\" class=\"row_heading level0 row4\" >pickup_latitude_round3</th>\n      <td id=\"T_4cc6f_row4_col0\" class=\"data row4 col0\" >-0.005112</td>\n      <td id=\"T_4cc6f_row4_col1\" class=\"data row4 col1\" >-0.006493</td>\n      <td id=\"T_4cc6f_row4_col2\" class=\"data row4 col2\" >0.010639</td>\n      <td id=\"T_4cc6f_row4_col3\" class=\"data row4 col3\" >-0.000947</td>\n      <td id=\"T_4cc6f_row4_col4\" class=\"data row4 col4\" >1.000000</td>\n      <td id=\"T_4cc6f_row4_col5\" class=\"data row4 col5\" >0.022823</td>\n      <td id=\"T_4cc6f_row4_col6\" class=\"data row4 col6\" >0.494087</td>\n      <td id=\"T_4cc6f_row4_col7\" class=\"data row4 col7\" >0.114941</td>\n      <td id=\"T_4cc6f_row4_col8\" class=\"data row4 col8\" >-0.210145</td>\n      <td id=\"T_4cc6f_row4_col9\" class=\"data row4 col9\" >-0.111362</td>\n      <td id=\"T_4cc6f_row4_col10\" class=\"data row4 col10\" >-0.144064</td>\n    </tr>\n    <tr>\n      <th id=\"T_4cc6f_level0_row5\" class=\"row_heading level0 row5\" >pickup_longitude_round3</th>\n      <td id=\"T_4cc6f_row5_col0\" class=\"data row5 col0\" >0.002167</td>\n      <td id=\"T_4cc6f_row5_col1\" class=\"data row5 col1\" >-0.000871</td>\n      <td id=\"T_4cc6f_row5_col2\" class=\"data row5 col2\" >0.010150</td>\n      <td id=\"T_4cc6f_row5_col3\" class=\"data row5 col3\" >-0.017992</td>\n      <td id=\"T_4cc6f_row5_col4\" class=\"data row5 col4\" >0.022823</td>\n      <td id=\"T_4cc6f_row5_col5\" class=\"data row5 col5\" >1.000000</td>\n      <td id=\"T_4cc6f_row5_col6\" class=\"data row5 col6\" >0.100219</td>\n      <td id=\"T_4cc6f_row5_col7\" class=\"data row5 col7\" >0.783599</td>\n      <td id=\"T_4cc6f_row5_col8\" class=\"data row5 col8\" >0.259735</td>\n      <td id=\"T_4cc6f_row5_col9\" class=\"data row5 col9\" >-0.117929</td>\n      <td id=\"T_4cc6f_row5_col10\" class=\"data row5 col10\" >0.110324</td>\n    </tr>\n    <tr>\n      <th id=\"T_4cc6f_level0_row6\" class=\"row_heading level0 row6\" >dropoff_latitude_round3</th>\n      <td id=\"T_4cc6f_row6_col0\" class=\"data row6 col0\" >-0.002760</td>\n      <td id=\"T_4cc6f_row6_col1\" class=\"data row6 col1\" >-0.005562</td>\n      <td id=\"T_4cc6f_row6_col2\" class=\"data row6 col2\" >0.013633</td>\n      <td id=\"T_4cc6f_row6_col3\" class=\"data row6 col3\" >-0.006674</td>\n      <td id=\"T_4cc6f_row6_col4\" class=\"data row6 col4\" >0.494087</td>\n      <td id=\"T_4cc6f_row6_col5\" class=\"data row6 col5\" >0.100219</td>\n      <td id=\"T_4cc6f_row6_col6\" class=\"data row6 col6\" >1.000000</td>\n      <td id=\"T_4cc6f_row6_col7\" class=\"data row6 col7\" >0.124836</td>\n      <td id=\"T_4cc6f_row6_col8\" class=\"data row6 col8\" >-0.142139</td>\n      <td id=\"T_4cc6f_row6_col9\" class=\"data row6 col9\" >0.049923</td>\n      <td id=\"T_4cc6f_row6_col10\" class=\"data row6 col10\" >-0.123296</td>\n    </tr>\n    <tr>\n      <th id=\"T_4cc6f_level0_row7\" class=\"row_heading level0 row7\" >dropoff_longitude_round3</th>\n      <td id=\"T_4cc6f_row7_col0\" class=\"data row7 col0\" >-0.000340</td>\n      <td id=\"T_4cc6f_row7_col1\" class=\"data row7 col1\" >-0.000456</td>\n      <td id=\"T_4cc6f_row7_col2\" class=\"data row7 col2\" >-0.022454</td>\n      <td id=\"T_4cc6f_row7_col3\" class=\"data row7 col3\" >-0.008958</td>\n      <td id=\"T_4cc6f_row7_col4\" class=\"data row7 col4\" >0.114941</td>\n      <td id=\"T_4cc6f_row7_col5\" class=\"data row7 col5\" >0.783599</td>\n      <td id=\"T_4cc6f_row7_col6\" class=\"data row7 col6\" >0.124836</td>\n      <td id=\"T_4cc6f_row7_col7\" class=\"data row7 col7\" >1.000000</td>\n      <td id=\"T_4cc6f_row7_col8\" class=\"data row7 col8\" >0.134047</td>\n      <td id=\"T_4cc6f_row7_col9\" class=\"data row7 col9\" >0.170872</td>\n      <td id=\"T_4cc6f_row7_col10\" class=\"data row7 col10\" >0.071418</td>\n    </tr>\n    <tr>\n      <th id=\"T_4cc6f_level0_row8\" class=\"row_heading level0 row8\" >trip_distance</th>\n      <td id=\"T_4cc6f_row8_col0\" class=\"data row8 col0\" >0.010306</td>\n      <td id=\"T_4cc6f_row8_col1\" class=\"data row8 col1\" >0.005982</td>\n      <td id=\"T_4cc6f_row8_col2\" class=\"data row8 col2\" >-0.015813</td>\n      <td id=\"T_4cc6f_row8_col3\" class=\"data row8 col3\" >-0.022942</td>\n      <td id=\"T_4cc6f_row8_col4\" class=\"data row8 col4\" >-0.210145</td>\n      <td id=\"T_4cc6f_row8_col5\" class=\"data row8 col5\" >0.259735</td>\n      <td id=\"T_4cc6f_row8_col6\" class=\"data row8 col6\" >-0.142139</td>\n      <td id=\"T_4cc6f_row8_col7\" class=\"data row8 col7\" >0.134047</td>\n      <td id=\"T_4cc6f_row8_col8\" class=\"data row8 col8\" >1.000000</td>\n      <td id=\"T_4cc6f_row8_col9\" class=\"data row8 col9\" >-0.000019</td>\n      <td id=\"T_4cc6f_row8_col10\" class=\"data row8 col10\" >0.572128</td>\n    </tr>\n    <tr>\n      <th id=\"T_4cc6f_level0_row9\" class=\"row_heading level0 row9\" >bearing</th>\n      <td id=\"T_4cc6f_row9_col0\" class=\"data row9 col0\" >-0.000651</td>\n      <td id=\"T_4cc6f_row9_col1\" class=\"data row9 col1\" >-0.000226</td>\n      <td id=\"T_4cc6f_row9_col2\" class=\"data row9 col2\" >-0.021959</td>\n      <td id=\"T_4cc6f_row9_col3\" class=\"data row9 col3\" >0.000621</td>\n      <td id=\"T_4cc6f_row9_col4\" class=\"data row9 col4\" >-0.111362</td>\n      <td id=\"T_4cc6f_row9_col5\" class=\"data row9 col5\" >-0.117929</td>\n      <td id=\"T_4cc6f_row9_col6\" class=\"data row9 col6\" >0.049923</td>\n      <td id=\"T_4cc6f_row9_col7\" class=\"data row9 col7\" >0.170872</td>\n      <td id=\"T_4cc6f_row9_col8\" class=\"data row9 col8\" >-0.000019</td>\n      <td id=\"T_4cc6f_row9_col9\" class=\"data row9 col9\" >1.000000</td>\n      <td id=\"T_4cc6f_row9_col10\" class=\"data row9 col10\" >-0.004829</td>\n    </tr>\n    <tr>\n      <th id=\"T_4cc6f_level0_row10\" class=\"row_heading level0 row10\" >log_trip_duration</th>\n      <td id=\"T_4cc6f_row10_col0\" class=\"data row10 col0\" >0.021124</td>\n      <td id=\"T_4cc6f_row10_col1\" class=\"data row10 col1\" >0.010385</td>\n      <td id=\"T_4cc6f_row10_col2\" class=\"data row10 col2\" >0.039107</td>\n      <td id=\"T_4cc6f_row10_col3\" class=\"data row10 col3\" >0.025439</td>\n      <td id=\"T_4cc6f_row10_col4\" class=\"data row10 col4\" >-0.144064</td>\n      <td id=\"T_4cc6f_row10_col5\" class=\"data row10 col5\" >0.110324</td>\n      <td id=\"T_4cc6f_row10_col6\" class=\"data row10 col6\" >-0.123296</td>\n      <td id=\"T_4cc6f_row10_col7\" class=\"data row10 col7\" >0.071418</td>\n      <td id=\"T_4cc6f_row10_col8\" class=\"data row10 col8\" >0.572128</td>\n      <td id=\"T_4cc6f_row10_col9\" class=\"data row10 col9\" >-0.004829</td>\n      <td id=\"T_4cc6f_row10_col10\" class=\"data row10 col10\" >1.000000</td>\n    </tr>\n  </tbody>\n</table>\n"
     },
     "execution_count": 7,
     "metadata": {},
     "output_type": "execute_result"
    }
   ],
   "source": [
    "train.corr().style.background_gradient()"
   ]
  },
  {
   "cell_type": "markdown",
   "metadata": {},
   "source": [
    "승하차의 위도간 상관관계는 약 0.49, 경도간 상관관계는 약 0.78으로 택시는 비슷한 경도에서 남북을 오가는 경향이 있는 것으로 보인다."
   ]
  },
  {
   "cell_type": "markdown",
   "metadata": {},
   "source": [
    "# Train set과 test set 분리하기"
   ]
  },
  {
   "cell_type": "code",
   "execution_count": 8,
   "metadata": {
    "pycharm": {
     "name": "#%%\n"
    }
   },
   "outputs": [],
   "source": [
    "raw_x = train[['passenger_count','store_and_fwd_flag','pickup_day','pickup_hour','pickup_day_of_week','pickup_latitude_round3','pickup_longitude_round3','dropoff_latitude_round3','dropoff_longitude_round3','trip_distance','bearing','pickup_neighbourhood','dropoff_neighbourhood']]\n",
    "raw_y = train[['log_trip_duration']]"
   ]
  },
  {
   "cell_type": "code",
   "execution_count": 9,
   "metadata": {
    "pycharm": {
     "name": "#%%\n"
    }
   },
   "outputs": [],
   "source": [
    "train_x,test_x, train_y, test_y = train_test_split(raw_x, raw_y, test_size=0.2, random_state=42)"
   ]
  },
  {
   "cell_type": "markdown",
   "metadata": {},
   "source": [
    "# LGBM regressor + GridSearchCV"
   ]
  },
  {
   "cell_type": "code",
   "execution_count": 10,
   "metadata": {
    "pycharm": {
     "name": "#%%\n"
    }
   },
   "outputs": [
    {
     "name": "stdout",
     "output_type": "stream",
     "text": [
      "best parameters :  {'learning_rate': 0.1, 'max_depth': 20, 'n_estimators': 100, 'num_iterations': 2000, 'num_leaves': 40, 'objective': 'regression'}\n",
      "best score :  -0.2422678823911808\n"
     ]
    }
   ],
   "source": [
    "model_lgb = lgb.LGBMRegressor()\n",
    "parameters = {'n_estimators':[100,200,300,400,500,600],\n",
    "              'objective':['regression'],\n",
    "              'learning_rate':[0.01,0.05,0.1],\n",
    "              'max_depth':[8,10,12,14,16,18,20,22],\n",
    "              'num_leaves':[7,15,20,30,40],\n",
    "              'num_iterations':[1000,1500,2000]}\n",
    "grid_lgb = GridSearchCV(model_lgb, param_grid=parameters, cv=3, scoring='neg_mean_absolute_error', refit=True)\n",
    "grid_lgb.fit(train_x, train_y)\n",
    "# em = grid_lgb.best_estimator_\n",
    "# pred = em.predict(test_x)\n",
    "# accuracy_score(test_y, pred)"
   ]
  },
  {
   "cell_type": "code",
   "execution_count": 12,
   "outputs": [
    {
     "name": "stdout",
     "output_type": "stream",
     "text": [
      "best parameters :  {'learning_rate': 0.1, 'max_depth': 20, 'n_estimators': 100, 'num_iterations': 2000, 'num_leaves': 40, 'objective': 'regression'}\n",
      "mean absolute error :  0.2422678823911808\n"
     ]
    }
   ],
   "source": [
    "print('best parameters : ', grid_lgb.best_params_)\n",
    "print('mean absolute error : ', -grid_lgb.best_score_)"
   ],
   "metadata": {
    "collapsed": false,
    "pycharm": {
     "name": "#%%\n"
    }
   }
  }
 ],
 "metadata": {
  "hide_input": false,
  "kernelspec": {
   "display_name": "Python 3 (ipykernel)",
   "language": "python",
   "name": "python3"
  },
  "language_info": {
   "codemirror_mode": {
    "name": "ipython",
    "version": 3
   },
   "file_extension": ".py",
   "mimetype": "text/x-python",
   "name": "python",
   "nbconvert_exporter": "python",
   "pygments_lexer": "ipython3",
   "version": "3.9.7"
  },
  "toc": {
   "base_numbering": 1,
   "nav_menu": {},
   "number_sections": true,
   "sideBar": true,
   "skip_h1_title": false,
   "title_cell": "Table of Contents",
   "title_sidebar": "Contents",
   "toc_cell": false,
   "toc_position": {},
   "toc_section_display": true,
   "toc_window_display": false
  },
  "varInspector": {
   "cols": {
    "lenName": 16,
    "lenType": 16,
    "lenVar": 40
   },
   "kernels_config": {
    "python": {
     "delete_cmd_postfix": "",
     "delete_cmd_prefix": "del ",
     "library": "var_list.py",
     "varRefreshCmd": "print(var_dic_list())"
    },
    "r": {
     "delete_cmd_postfix": ") ",
     "delete_cmd_prefix": "rm(",
     "library": "var_list.r",
     "varRefreshCmd": "cat(var_dic_list()) "
    }
   },
   "types_to_exclude": [
    "module",
    "function",
    "builtin_function_or_method",
    "instance",
    "_Feature"
   ],
   "window_display": false
  }
 },
 "nbformat": 4,
 "nbformat_minor": 1
}