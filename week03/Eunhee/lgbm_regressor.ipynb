{
 "cells": [
  {
   "cell_type": "code",
   "execution_count": 1,
   "metadata": {
    "collapsed": true
   },
   "outputs": [],
   "source": [
    "import pandas as pd\n",
    "import lightgbm as lgb\n",
    "import warnings\n",
    "import matplotlib.pyplot as plt\n",
    "warnings.filterwarnings('ignore')\n",
    "pd.set_option('display.max_colwidth', -1)\n",
    "from sklearn import preprocessing\n",
    "from sklearn.model_selection import train_test_split\n",
    "from lightgbm import plot_importance"
   ]
  },
  {
   "cell_type": "code",
   "execution_count": 2,
   "outputs": [],
   "source": [
    "train = pd.read_csv('../../week02/Eunhee/input_training.csv')\n",
    "test = pd.read_csv('../../week02/Eunhee/input_testing.csv')"
   ],
   "metadata": {
    "collapsed": false,
    "pycharm": {
     "name": "#%%\n"
    }
   }
  },
  {
   "cell_type": "code",
   "execution_count": 3,
   "outputs": [],
   "source": [
    "def LabelEncoding(train_df,test_df,max_levels=2):\n",
    "    for col in train_df:\n",
    "        if train_df[col].dtype == 'object':\n",
    "            if len(list(train_df[col].unique())) <= max_levels:\n",
    "                le = preprocessing.LabelEncoder()\n",
    "                le.fit(train_df[col])\n",
    "                train_df[col]=le.transform(train_df[col])\n",
    "                test_df[col]=le.transform(test_df[col])\n",
    "    return [train_df,test_df]\n",
    "def readInputAndEncode(input_path,train_file,test_file,target_column):\n",
    "    training=pd.read_csv(input_path+train_file)\n",
    "    testing=pd.read_csv(input_path+test_file)\n",
    "\n",
    "    training,testing=LabelEncoding(training,testing)\n",
    "\n",
    "    #print(\"Training Data Shape after Encoding \",training.shape)\n",
    "    #print(\"Testing Data Shape after Encoding \",testing.shape)\n",
    "    #Check if all train columns are there in test data. If not add the column to test data and replace it with zero\n",
    "    train_cols=training.columns.tolist()\n",
    "    test_cols=testing.columns.tolist()\n",
    "    col_in_train_not_test=set(train_cols)-set(test_cols)\n",
    "    for col in col_in_train_not_test:\n",
    "        if col!=target_column:\n",
    "            testing[col]=0\n",
    "    col_in_test_not_train=set(test_cols)-set(train_cols)\n",
    "    for col in col_in_test_not_train:\n",
    "        training[col]=0\n",
    "    print(\"Training Data Shape after Processing \",training.shape)\n",
    "    print(\"Testing Data Shape after Processing \",testing.shape)\n",
    "    return [training,testing]"
   ],
   "metadata": {
    "collapsed": false,
    "pycharm": {
     "name": "#%%\n"
    }
   }
  },
  {
   "cell_type": "code",
   "execution_count": 4,
   "outputs": [
    {
     "name": "stdout",
     "output_type": "stream",
     "text": [
      "Training Data Shape after Processing  (1458644, 18)\n",
      "Testing Data Shape after Processing  (625134, 17)\n"
     ]
    }
   ],
   "source": [
    "train,test=readInputAndEncode(\"../../week02/Eunhee/\",'input_training.csv','input_testing.csv','log_trip_duration')\n",
    "train.drop(['pickup_date'],axis=1,inplace=True)\n",
    "test.drop(['pickup_date'],axis=1,inplace=True)\n",
    "train.drop(['pickup_datetime'],axis=1,inplace=True)\n",
    "test.drop(['pickup_datetime'],axis=1,inplace=True)\n",
    "test_id=test['id']\n",
    "train.drop(['id'],axis=1,inplace=True)\n",
    "test.drop(['id'],axis=1,inplace=True)\n",
    "train.drop(['vendor_id'], axis=1, inplace=True)\n",
    "test.drop(['vendor_id'], axis=1, inplace=True)"
   ],
   "metadata": {
    "collapsed": false,
    "pycharm": {
     "name": "#%%\n"
    }
   }
  },
  {
   "cell_type": "code",
   "execution_count": 5,
   "outputs": [],
   "source": [
    "train['store_and_fwd_flag'] = train['store_and_fwd_flag'].astype('category')\n",
    "train['pickup_neighbourhood'] = train['pickup_neighbourhood'].astype('category')\n",
    "train['dropoff_neighbourhood'] = train['dropoff_neighbourhood'].astype('category')\n",
    "\n",
    "test['store_and_fwd_flag'] = test['store_and_fwd_flag'].astype('category')\n",
    "test['pickup_neighbourhood'] = test['pickup_neighbourhood'].astype('category')\n",
    "test['dropoff_neighbourhood'] = test['dropoff_neighbourhood'].astype('category')"
   ],
   "metadata": {
    "collapsed": false,
    "pycharm": {
     "name": "#%%\n"
    }
   }
  },
  {
   "cell_type": "code",
   "execution_count": 6,
   "outputs": [],
   "source": [
    "raw_x = train[['passenger_count','store_and_fwd_flag','pickup_day','pickup_hour','pickup_day_of_week','pickup_latitude_round3','pickup_longitude_round3','dropoff_latitude_round3','dropoff_longitude_round3','trip_distance','bearing','pickup_neighbourhood','dropoff_neighbourhood']]\n",
    "raw_y = train[['log_trip_duration']]"
   ],
   "metadata": {
    "collapsed": false,
    "pycharm": {
     "name": "#%%\n"
    }
   }
  },
  {
   "cell_type": "code",
   "execution_count": 7,
   "outputs": [],
   "source": [
    "train_x,test_x, train_y, test_y = train_test_split(raw_x, raw_y, test_size=0.2, random_state=42)"
   ],
   "metadata": {
    "collapsed": false,
    "pycharm": {
     "name": "#%%\n"
    }
   }
  },
  {
   "cell_type": "code",
   "execution_count": 8,
   "outputs": [],
   "source": [
    "model_lgb = lgb.LGBMRegressor(n_estimators=400, objective='regression', learning_rate=0.05, max_depth=25,\n",
    "                              num_leaves=1000, num_iterations=200)"
   ],
   "metadata": {
    "collapsed": false,
    "pycharm": {
     "name": "#%%\n"
    }
   }
  },
  {
   "cell_type": "code",
   "execution_count": 9,
   "outputs": [
    {
     "data": {
      "text/plain": "LGBMRegressor(learning_rate=0.05, max_depth=25, n_estimators=400,\n              num_iterations=200, num_leaves=1000, objective='regression')"
     },
     "execution_count": 9,
     "metadata": {},
     "output_type": "execute_result"
    }
   ],
   "source": [
    "model_lgb.fit(train_x, train_y)"
   ],
   "metadata": {
    "collapsed": false,
    "pycharm": {
     "name": "#%%\n"
    }
   }
  },
  {
   "cell_type": "code",
   "execution_count": 10,
   "outputs": [],
   "source": [
    "pred_lgb = model_lgb.predict(test_x)"
   ],
   "metadata": {
    "collapsed": false,
    "pycharm": {
     "name": "#%%\n"
    }
   }
  },
  {
   "cell_type": "code",
   "execution_count": 11,
   "outputs": [
    {
     "data": {
      "text/plain": "0.756955995457591"
     },
     "execution_count": 11,
     "metadata": {},
     "output_type": "execute_result"
    }
   ],
   "source": [
    "model_lgb.score(test_x, test_y)"
   ],
   "metadata": {
    "collapsed": false,
    "pycharm": {
     "name": "#%%\n"
    }
   }
  },
  {
   "cell_type": "code",
   "execution_count": 12,
   "outputs": [
    {
     "data": {
      "text/plain": "0.8118287764152644"
     },
     "execution_count": 12,
     "metadata": {},
     "output_type": "execute_result"
    }
   ],
   "source": [
    "model_lgb.score(train_x, train_y)"
   ],
   "metadata": {
    "collapsed": false,
    "pycharm": {
     "name": "#%%\n"
    }
   }
  },
  {
   "cell_type": "code",
   "execution_count": 13,
   "outputs": [
    {
     "data": {
      "text/plain": "<AxesSubplot:title={'center':'Feature importance'}, xlabel='Feature importance', ylabel='Features'>"
     },
     "execution_count": 13,
     "metadata": {},
     "output_type": "execute_result"
    },
    {
     "data": {
      "text/plain": "<Figure size 432x432 with 1 Axes>",
      "image/png": "[encoded data removed]"
     },
     "metadata": {
      "needs_background": "light"
     },
     "output_type": "display_data"
    }
   ],
   "source": [
    "%matplotlib inline\n",
    "f, ax = plt.subplots(figsize=(6,6))\n",
    "plot_importance(model_lgb, max_num_features=len(train_x.columns), ax=ax)"
   ],
   "metadata": {
    "collapsed": false,
    "pycharm": {
     "name": "#%%\n"
    }
   }
  }
 ],
 "metadata": {
  "kernelspec": {
   "display_name": "Python 3",
   "language": "python",
   "name": "python3"
  },
  "language_info": {
   "codemirror_mode": {
    "name": "ipython",
    "version": 2
   },
   "file_extension": ".py",
   "mimetype": "text/x-python",
   "name": "python",
   "nbconvert_exporter": "python",
   "pygments_lexer": "ipython2",
   "version": "2.7.6"
  }
 },
 "nbformat": 4,
 "nbformat_minor": 0
}