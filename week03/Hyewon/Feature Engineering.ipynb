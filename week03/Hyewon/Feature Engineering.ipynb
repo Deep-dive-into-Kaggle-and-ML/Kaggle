{
 "cells": [
  {
   "cell_type": "markdown",
   "metadata": {},
   "source": [
    "# Feature Engineering for NYC taxi trip duration data\n"
   ]
  },
  {
   "cell_type": "code",
   "execution_count": 1,
   "metadata": {
    "_cell_guid": "b1076dfc-b9ad-4769-8c92-a6c4dae69d19",
    "_uuid": "8f2839f25d086af736a60e9eeb907d3b93b6e0e5",
    "execution": {
     "iopub.execute_input": "2021-11-16T11:36:47.543538Z",
     "iopub.status.busy": "2021-11-16T11:36:47.543122Z",
     "iopub.status.idle": "2021-11-16T11:36:47.629767Z",
     "shell.execute_reply": "2021-11-16T11:36:47.628720Z",
     "shell.execute_reply.started": "2021-11-16T11:36:47.543500Z"
    }
   },
   "outputs": [],
   "source": [
    "import pandas as pd\n",
    "import seaborn as sns\n",
    "import numpy as np\n",
    "import matplotlib.pyplot as plt\n",
    "import warnings\n",
    "warnings.filterwarnings('ignore')\n",
    "from math import sin, cos, sqrt, atan2, radians\n",
    "from sklearn.cluster import KMeans, DBSCAN\n",
    "from sklearn.model_selection import KFold, StratifiedKFold, train_test_split\n",
    "from sklearn.decomposition import PCA\n",
    "from lightgbm import LGBMRegressor"
   ]
  },
  {
   "cell_type": "code",
   "execution_count": 2,
   "metadata": {
    "execution": {
     "iopub.execute_input": "2021-11-16T11:11:52.406376Z",
     "iopub.status.busy": "2021-11-16T11:11:52.405730Z",
     "iopub.status.idle": "2021-11-16T11:12:03.199418Z",
     "shell.execute_reply": "2021-11-16T11:12:03.198424Z",
     "shell.execute_reply.started": "2021-11-16T11:11:52.406329Z"
    }
   },
   "outputs": [
    {
     "name": "stdout",
     "output_type": "stream",
     "text": [
      "Train set (1458644, 11)\n",
      "Test set (625134, 9)\n"
     ]
    }
   ],
   "source": [
    "train = pd.read_csv('train.csv')\n",
    "test = pd.read_csv('test.csv')\n",
    "\n",
    "print('Train set', train.shape)\n",
    "print('Test set', test.shape)"
   ]
  },
  {
   "cell_type": "markdown",
   "metadata": {},
   "source": [
    "## Feature Engineering"
   ]
  },
  {
   "cell_type": "markdown",
   "metadata": {},
   "source": [
    "### Target variable의 로그 변환"
   ]
  },
  {
   "cell_type": "code",
   "execution_count": 3,
   "metadata": {
    "execution": {
     "iopub.execute_input": "2021-11-16T11:13:16.478822Z",
     "iopub.status.busy": "2021-11-16T11:13:16.478539Z",
     "iopub.status.idle": "2021-11-16T11:13:16.526014Z",
     "shell.execute_reply": "2021-11-16T11:13:16.525193Z",
     "shell.execute_reply.started": "2021-11-16T11:13:16.478791Z"
    }
   },
   "outputs": [],
   "source": [
    "# trip_duration is highly skewed --> log transformation\n",
    "train['log_trip_duration'] = np.log1p(train['trip_duration'])"
   ]
  },
  {
   "cell_type": "markdown",
   "metadata": {},
   "source": [
    "## Feature Extraction 함수들 정의\n",
    "1. Time 관련 feature 생성\n",
    "2. 택시 이동 거리 계산\n",
    "3. 택시 이동 방향"
   ]
  },
  {
   "cell_type": "code",
   "execution_count": 4,
   "metadata": {
    "execution": {
     "iopub.execute_input": "2021-11-16T11:13:17.813322Z",
     "iopub.status.busy": "2021-11-16T11:13:17.812890Z",
     "iopub.status.idle": "2021-11-16T11:17:04.825618Z",
     "shell.execute_reply": "2021-11-16T11:17:04.824826Z",
     "shell.execute_reply.started": "2021-11-16T11:13:17.813292Z"
    }
   },
   "outputs": [],
   "source": [
    "def time_feats(dataset):\n",
    "    dataset['pickup_datetime'] = pd.to_datetime(dataset['pickup_datetime'])\n",
    "    #dataset['dropoff_datetime'] = pd.to_datetime(dataset['dropoff_datetime'])\n",
    "\n",
    "    dataset['pickup_hour'] = dataset['pickup_datetime'].dt.hour\n",
    "    #dataset['dropoff_hour'] = dataset['dropoff_datetime'].dt.hour\n",
    "    dataset['pickup_weekday'] = dataset['pickup_datetime'].dt.weekday\n",
    "    #dataset['dropoff_weekday'] = dataset['dropoff_datetime'].dt.weekday\n",
    "    return dataset\n",
    "\n",
    "train = time_feats(train)\n",
    "test = time_feats(test)\n",
    "\n",
    "# trip distance\n",
    "def calculateDistance(row):\n",
    "    R = 6373.0 # approximate radius of earth in km\n",
    "    pickup_lat = radians(row['pickup_latitude'])\n",
    "    pickup_lon = radians(row['pickup_longitude'])\n",
    "    dropoff_lat = radians(row['dropoff_latitude'])\n",
    "    dropoff_lon = radians(row['dropoff_longitude'])\n",
    "    dlon = dropoff_lon - pickup_lon\n",
    "    dlat = dropoff_lat - pickup_lat\n",
    "    a = sin(dlat / 2)**2 + cos(pickup_lat) * cos(dropoff_lat) * sin(dlon / 2)**2\n",
    "    c = 2 * atan2(sqrt(a), sqrt(1 - a))\n",
    "    distance = R * c\n",
    "    return distance\n",
    "\n",
    "train['trip_distance'] = train.apply(lambda x: calculateDistance(x), axis = 1)\n",
    "test['trip_distance'] = test.apply(lambda x: calculateDistance(x), axis = 1)\n",
    "\n",
    "# speed\n",
    "train['avg_speed'] = train['trip_distance']/train['trip_duration']\n",
    "\n",
    "# direction of travel\n",
    "def calculateBearing(lat1,lng1,lat2,lng2):\n",
    "    R = 6371 \n",
    "    lng_delta_rad = np.radians(lng2 - lng1)\n",
    "    lat1, lng1, lat2, lng2 = map(np.radians, (lat1, lng1, lat2, lng2))\n",
    "    y = np.sin(lng_delta_rad) * np.cos(lat2)\n",
    "    x = np.cos(lat1) * np.sin(lat2) - np.sin(lat1) * np.cos(lat2) * np.cos(lng_delta_rad)\n",
    "    return np.degrees(np.arctan2(y, x))\n",
    "\n",
    "train['bearing'] = train.apply(lambda row:calculateBearing(row['pickup_latitude'],row['pickup_longitude'],\n",
    "                                                         row['dropoff_latitude'],row['dropoff_longitude']),axis=1)\n",
    "test['bearing'] = test.apply(lambda row:calculateBearing(row['pickup_latitude'],row['pickup_longitude'],\n",
    "                                                         row['dropoff_latitude'],row['dropoff_longitude']),axis=1)"
   ]
  },
  {
   "cell_type": "code",
   "execution_count": 5,
   "metadata": {
    "execution": {
     "iopub.execute_input": "2021-11-16T11:17:04.842365Z",
     "iopub.status.busy": "2021-11-16T11:17:04.842099Z",
     "iopub.status.idle": "2021-11-16T11:17:05.132111Z",
     "shell.execute_reply": "2021-11-16T11:17:05.131276Z",
     "shell.execute_reply.started": "2021-11-16T11:17:04.842335Z"
    }
   },
   "outputs": [],
   "source": [
    "# remove outliers \n",
    "train = train[train['trip_duration'] < 1500000]"
   ]
  },
  {
   "cell_type": "markdown",
   "metadata": {},
   "source": [
    "### Train vs Test set\n",
    "모델링 전, train과 test set이 어떻게 다른지, 혹은 비슷한지를 비교하기 위해 간단한 시각화를 통해 살펴본다.\n",
    "1. Datetime\n",
    " - Train과 test set의 날짜(date)별 택시 사용량 분포를 보면 각 데이터셋을 구성하는 날짜가 완벽하게 동일하고, 그 분포 또한 거의 비슷하므로 train과 test set은 랜덤하게 선택되었다는 것을 확인할 수 있음\n",
    "2. Location\n",
    " - Train과 test set의 location data(longitude, latitude)분포를 확인했을 때, 지역 분포가 거의 동일함을 확인\n",
    "\n",
    "<br>\n",
    "따라서, feature extraction을 할 때 전체 데이터셋(train, test set)을 이용하면 된다. "
   ]
  },
  {
   "cell_type": "code",
   "execution_count": 6,
   "metadata": {
    "execution": {
     "iopub.execute_input": "2021-11-16T11:17:05.134146Z",
     "iopub.status.busy": "2021-11-16T11:17:05.133896Z",
     "iopub.status.idle": "2021-11-16T11:17:07.239781Z",
     "shell.execute_reply": "2021-11-16T11:17:07.238875Z",
     "shell.execute_reply.started": "2021-11-16T11:17:05.134116Z"
    },
    "jupyter": {
     "source_hidden": true
    }
   },
   "outputs": [
    {
     "data": {
      "image/png": "[encoded data removed]",
      "text/plain": [
       "<Figure size 576x432 with 1 Axes>"
      ]
     },
     "metadata": {
      "needs_background": "light"
     },
     "output_type": "display_data"
    }
   ],
   "source": [
    "train['pickup_date'] = train['pickup_datetime'].dt.date\n",
    "test['pickup_date'] = test['pickup_datetime'].dt.date\n",
    "\n",
    "plt.figure(figsize = (8, 6))\n",
    "plt.subplot(1, 1, 1)\n",
    "plt.plot(train.groupby(['pickup_date'])['id'].count(), marker = 'o', markersize = 2, label = 'Train')\n",
    "plt.plot(test.groupby(['pickup_date'])['id'].count(), marker = 'o', markersize = 2, label = 'Test')\n",
    "plt.title('Train vs Test dates', fontsize = 15, fontweight = 'bold')\n",
    "plt.legend()\n",
    "plt.show()"
   ]
  },
  {
   "cell_type": "code",
   "execution_count": 7,
   "metadata": {
    "execution": {
     "iopub.execute_input": "2021-11-16T11:17:07.241626Z",
     "iopub.status.busy": "2021-11-16T11:17:07.241146Z",
     "iopub.status.idle": "2021-11-16T11:17:07.559045Z",
     "shell.execute_reply": "2021-11-16T11:17:07.558061Z",
     "shell.execute_reply.started": "2021-11-16T11:17:07.241585Z"
    },
    "jupyter": {
     "source_hidden": true
    }
   },
   "outputs": [
    {
     "data": {
      "image/png": "[encoded data removed]",
      "text/plain": [
       "<Figure size 432x288 with 2 Axes>"
      ]
     },
     "metadata": {
      "needs_background": "light"
     },
     "output_type": "display_data"
    }
   ],
   "source": [
    "fig, ax = plt.subplots(ncols=2, sharex=True, sharey=True)\n",
    "ax[0].scatter(train['pickup_longitude'].values[:1000], train['pickup_latitude'].values[:1000],  color = 'green', s = 1)\n",
    "ax[1].scatter(test['pickup_longitude'].values[:1000], test['pickup_latitude'].values[:1000], color = 'red', s = 1)\n",
    "city_long_border = (-74.03, -73.75)\n",
    "city_lat_border = (40.63, 40.85)\n",
    "plt.ylim(city_lat_border)\n",
    "plt.xlim(city_long_border)\n",
    "ax[0].set_title('Train')\n",
    "ax[1].set_title('Test')\n",
    "plt.show()"
   ]
  },
  {
   "cell_type": "markdown",
   "metadata": {},
   "source": [
    "### KMeans를 이용한 location data 클러스터링"
   ]
  },
  {
   "cell_type": "code",
   "execution_count": 8,
   "metadata": {
    "execution": {
     "iopub.execute_input": "2021-11-16T11:17:07.560778Z",
     "iopub.status.busy": "2021-11-16T11:17:07.560475Z",
     "iopub.status.idle": "2021-11-16T11:17:43.577567Z",
     "shell.execute_reply": "2021-11-16T11:17:43.576505Z",
     "shell.execute_reply.started": "2021-11-16T11:17:07.560737Z"
    }
   },
   "outputs": [],
   "source": [
    "# cluster pickup and dropoff locations: KMeans\n",
    "coords = np.vstack((train[['pickup_latitude', 'pickup_longitude']].values,\n",
    "                    train[['dropoff_latitude', 'dropoff_longitude']].values,\n",
    "                    test[['pickup_latitude', 'pickup_longitude']].values,\n",
    "                    test[['dropoff_latitude', 'dropoff_longitude']].values))\n",
    "\n",
    "kmeans = KMeans(n_clusters = 8, init = 'k-means++')\n",
    "kmeans.fit(coords)\n",
    "\n",
    "train['pickup_cluster'] = kmeans.predict(train[['pickup_latitude', 'pickup_longitude']])\n",
    "train['dropoff_cluster'] = kmeans.predict(train[['dropoff_latitude', 'dropoff_longitude']])\n",
    "test['pickup_cluster'] = kmeans.predict(test[['pickup_latitude', 'pickup_longitude']])\n",
    "test['dropoff_cluster'] = kmeans.predict(test[['dropoff_latitude', 'dropoff_longitude']])"
   ]
  },
  {
   "cell_type": "markdown",
   "metadata": {},
   "source": [
    "### PCA로 location data 다르게 표현하기\n",
    "PCA를 하는 이유는 location data의 variance를 최대한 반영하고, orthogonal한 변수들(components)을 생성하기 위함이다. 아래 그래프를 보면, 방향만 달라지고 location data의 shape은 잘 유지하는 것을 확인할 수 있다."
   ]
  },
  {
   "cell_type": "code",
   "execution_count": 9,
   "metadata": {
    "execution": {
     "iopub.execute_input": "2021-11-16T11:20:05.780699Z",
     "iopub.status.busy": "2021-11-16T11:20:05.780329Z",
     "iopub.status.idle": "2021-11-16T11:20:06.735743Z",
     "shell.execute_reply": "2021-11-16T11:20:06.734649Z",
     "shell.execute_reply.started": "2021-11-16T11:20:05.780655Z"
    }
   },
   "outputs": [],
   "source": [
    "# PCA for location data\n",
    "pca = PCA(n_components = 2).fit(coords)\n",
    "\n",
    "train['pickup_pca0'] = pca.transform(train[['pickup_latitude', 'pickup_longitude']])[:, 0]\n",
    "train['pickup_pca1'] = pca.transform(train[['pickup_latitude', 'pickup_longitude']])[:, 1]\n",
    "train['dropoff_pca0'] = pca.transform(train[['dropoff_latitude', 'dropoff_longitude']])[:, 0]\n",
    "train['dropoff_pca1'] = pca.transform(train[['dropoff_latitude', 'dropoff_longitude']])[:, 1]\n",
    "\n",
    "test['pickup_pca0'] = pca.transform(test[['pickup_latitude', 'pickup_longitude']])[:, 0]\n",
    "test['pickup_pca1'] = pca.transform(test[['pickup_latitude', 'pickup_longitude']])[:, 1]\n",
    "test['dropoff_pca0'] = pca.transform(test[['dropoff_latitude', 'dropoff_longitude']])[:, 0]\n",
    "test['dropoff_pca1'] = pca.transform(test[['dropoff_latitude', 'dropoff_longitude']])[:, 1]"
   ]
  },
  {
   "cell_type": "code",
   "execution_count": 10,
   "metadata": {
    "execution": {
     "iopub.execute_input": "2021-11-16T11:57:34.613427Z",
     "iopub.status.busy": "2021-11-16T11:57:34.613066Z",
     "iopub.status.idle": "2021-11-16T11:57:35.173769Z",
     "shell.execute_reply": "2021-11-16T11:57:35.172315Z",
     "shell.execute_reply.started": "2021-11-16T11:57:34.613371Z"
    }
   },
   "outputs": [
    {
     "data": {
      "image/png": "[encoded data removed]",
      "text/plain": [
       "<Figure size 432x288 with 2 Axes>"
      ]
     },
     "metadata": {
      "needs_background": "light"
     },
     "output_type": "display_data"
    }
   ],
   "source": [
    "fig, ax = plt.subplots(ncols=2, sharex=True, sharey=True)\n",
    "ax[0].scatter(train['pickup_longitude'].values[:1000], train['pickup_latitude'].values[:1000],  color = 'green', s = 1)\n",
    "ax[1].scatter(train['pickup_pca0'].values[:1000], train['pickup_pca1'].values[:1000], color = 'red', s = 1)\n",
    "city_long_border = (-74.03, -73.75)\n",
    "city_lat_border = (40.63, 40.85)\n",
    "plt.ylim(city_lat_border)\n",
    "plt.xlim(city_long_border)\n",
    "ax[0].set_title('Train')\n",
    "ax[1].set_title('Test')\n",
    "plt.show()"
   ]
  },
  {
   "cell_type": "markdown",
   "metadata": {},
   "source": [
    "### Feature Aggregation\n",
    "Pickup, dropoff 클러스터, pickup 시간, 요일에 따라 trip duration과 average speed를 모델 feature로 구성하기 위해 aggregation을 진행한다."
   ]
  },
  {
   "cell_type": "code",
   "execution_count": 11,
   "metadata": {
    "execution": {
     "iopub.execute_input": "2021-11-16T11:20:13.082943Z",
     "iopub.status.busy": "2021-11-16T11:20:13.082645Z",
     "iopub.status.idle": "2021-11-16T11:20:17.354785Z",
     "shell.execute_reply": "2021-11-16T11:20:17.353615Z",
     "shell.execute_reply.started": "2021-11-16T11:20:13.082912Z"
    }
   },
   "outputs": [],
   "source": [
    "# add aggregated features\n",
    "agg_cols = ['pickup_cluster', 'dropoff_cluster', 'pickup_hour', 'pickup_weekday']\n",
    "\n",
    "for col in agg_cols:\n",
    "    gp = train.groupby(col).mean()[['log_trip_duration', 'avg_speed']]\n",
    "    gp.columns = ['%s_gp_%s' % (col2, col) for col2 in gp.columns]\n",
    "    train = pd.merge(train, gp, how = 'left', left_on = col, right_index = True)\n",
    "    test = pd.merge(test, gp, how = 'left', left_on = col, right_index = True)"
   ]
  },
  {
   "cell_type": "markdown",
   "metadata": {},
   "source": [
    "추가적으로, 전체 택스 루트 중 각 pickup과 dropoff 클러스터 조합에 해당하는 택시 사용량과 평균 속도를 feature로 추가한다."
   ]
  },
  {
   "cell_type": "code",
   "execution_count": 12,
   "metadata": {
    "execution": {
     "iopub.execute_input": "2021-11-16T11:22:30.058157Z",
     "iopub.status.busy": "2021-11-16T11:22:30.057744Z",
     "iopub.status.idle": "2021-11-16T11:22:32.087152Z",
     "shell.execute_reply": "2021-11-16T11:22:32.086326Z",
     "shell.execute_reply.started": "2021-11-16T11:22:30.058113Z"
    }
   },
   "outputs": [],
   "source": [
    "cluster_comb = ['pickup_cluster', 'dropoff_cluster']\n",
    "cluster_speed = train.groupby(cluster_comb).mean()[['avg_speed']].reset_index()\n",
    "cluster_cnt = train.groupby(cluster_comb).count()[['id']].reset_index()\n",
    "cluster_duration = train.groupby(cluster_comb).mean()[['log_trip_duration']].reset_index()\n",
    "cluster = pd.merge(cluster_speed, cluster_cnt, on = cluster_comb)\n",
    "cluster.columns = cluster_comb + ['avg_speed_%s' % '_'.join(cluster_comb), 'cnt_%s' %  '_'.join(cluster_comb)]\n",
    "\n",
    "train = pd.merge(train, cluster, how='left', on = cluster_comb)\n",
    "test = pd.merge(test, cluster, how='left', on = cluster_comb)"
   ]
  },
  {
   "cell_type": "code",
   "execution_count": 13,
   "metadata": {
    "execution": {
     "iopub.execute_input": "2021-11-16T11:47:21.510437Z",
     "iopub.status.busy": "2021-11-16T11:47:21.509549Z",
     "iopub.status.idle": "2021-11-16T11:47:21.521830Z",
     "shell.execute_reply": "2021-11-16T11:47:21.520729Z",
     "shell.execute_reply.started": "2021-11-16T11:47:21.510376Z"
    }
   },
   "outputs": [
    {
     "data": {
      "text/html": [
       "<div>\n",
       "<style scoped>\n",
       "    .dataframe tbody tr th:only-of-type {\n",
       "        vertical-align: middle;\n",
       "    }\n",
       "\n",
       "    .dataframe tbody tr th {\n",
       "        vertical-align: top;\n",
       "    }\n",
       "\n",
       "    .dataframe thead th {\n",
       "        text-align: right;\n",
       "    }\n",
       "</style>\n",
       "<table border=\"1\" class=\"dataframe\">\n",
       "  <thead>\n",
       "    <tr style=\"text-align: right;\">\n",
       "      <th></th>\n",
       "      <th>pickup_cluster</th>\n",
       "      <th>dropoff_cluster</th>\n",
       "      <th>avg_speed_pickup_cluster_dropoff_cluster</th>\n",
       "      <th>cnt_pickup_cluster_dropoff_cluster</th>\n",
       "    </tr>\n",
       "  </thead>\n",
       "  <tbody>\n",
       "    <tr>\n",
       "      <th>0</th>\n",
       "      <td>0</td>\n",
       "      <td>0</td>\n",
       "      <td>0.004052</td>\n",
       "      <td>181119</td>\n",
       "    </tr>\n",
       "    <tr>\n",
       "      <th>1</th>\n",
       "      <td>0</td>\n",
       "      <td>1</td>\n",
       "      <td>0.005579</td>\n",
       "      <td>21678</td>\n",
       "    </tr>\n",
       "    <tr>\n",
       "      <th>2</th>\n",
       "      <td>0</td>\n",
       "      <td>3</td>\n",
       "      <td>0.010327</td>\n",
       "      <td>2194</td>\n",
       "    </tr>\n",
       "    <tr>\n",
       "      <th>3</th>\n",
       "      <td>0</td>\n",
       "      <td>4</td>\n",
       "      <td>0.005747</td>\n",
       "      <td>8262</td>\n",
       "    </tr>\n",
       "    <tr>\n",
       "      <th>4</th>\n",
       "      <td>0</td>\n",
       "      <td>5</td>\n",
       "      <td>0.003707</td>\n",
       "      <td>108307</td>\n",
       "    </tr>\n",
       "  </tbody>\n",
       "</table>\n",
       "</div>"
      ],
      "text/plain": [
       "   pickup_cluster  dropoff_cluster  avg_speed_pickup_cluster_dropoff_cluster  \\\n",
       "0               0                0                                  0.004052   \n",
       "1               0                1                                  0.005579   \n",
       "2               0                3                                  0.010327   \n",
       "3               0                4                                  0.005747   \n",
       "4               0                5                                  0.003707   \n",
       "\n",
       "   cnt_pickup_cluster_dropoff_cluster  \n",
       "0                              181119  \n",
       "1                               21678  \n",
       "2                                2194  \n",
       "3                                8262  \n",
       "4                              108307  "
      ]
     },
     "execution_count": 13,
     "metadata": {},
     "output_type": "execute_result"
    }
   ],
   "source": [
    "cluster.head(5)"
   ]
  },
  {
   "cell_type": "code",
   "execution_count": 14,
   "metadata": {
    "execution": {
     "iopub.execute_input": "2021-11-16T11:25:43.074616Z",
     "iopub.status.busy": "2021-11-16T11:25:43.073986Z",
     "iopub.status.idle": "2021-11-16T11:25:43.466487Z",
     "shell.execute_reply": "2021-11-16T11:25:43.465447Z",
     "shell.execute_reply.started": "2021-11-16T11:25:43.074560Z"
    }
   },
   "outputs": [
    {
     "ename": "KeyError",
     "evalue": "\"['dropoff_date'] not found in axis\"",
     "output_type": "error",
     "traceback": [
      "\u001b[1;31m---------------------------------------------------------------------------\u001b[0m",
      "\u001b[1;31mKeyError\u001b[0m                                  Traceback (most recent call last)",
      "\u001b[1;32m<ipython-input-14-5e5702a0b725>\u001b[0m in \u001b[0;36m<module>\u001b[1;34m\u001b[0m\n\u001b[1;32m----> 1\u001b[1;33m train.drop(['id', 'pickup_longitude', 'pickup_latitude', 'dropoff_longitude', 'dropoff_latitude', \n\u001b[0m\u001b[0;32m      2\u001b[0m             \u001b[1;34m'pickup_datetime'\u001b[0m\u001b[1;33m,\u001b[0m \u001b[1;34m'dropoff_datetime'\u001b[0m\u001b[1;33m,\u001b[0m \u001b[1;34m'pickup_date'\u001b[0m\u001b[1;33m,\u001b[0m \u001b[1;34m'dropoff_date'\u001b[0m\u001b[1;33m,\u001b[0m\u001b[1;33m\u001b[0m\u001b[1;33m\u001b[0m\u001b[0m\n\u001b[0;32m      3\u001b[0m             'log_trip_duration', 'avg_speed'], axis = 1, inplace = True)\n\u001b[0;32m      4\u001b[0m \u001b[0mtest\u001b[0m\u001b[1;33m.\u001b[0m\u001b[0mdrop\u001b[0m\u001b[1;33m(\u001b[0m\u001b[1;33m[\u001b[0m\u001b[1;34m'id'\u001b[0m\u001b[1;33m,\u001b[0m \u001b[1;34m'pickup_longitude'\u001b[0m\u001b[1;33m,\u001b[0m \u001b[1;34m'pickup_latitude'\u001b[0m\u001b[1;33m,\u001b[0m \u001b[1;34m'dropoff_longitude'\u001b[0m\u001b[1;33m,\u001b[0m \u001b[1;34m'dropoff_latitude'\u001b[0m\u001b[1;33m,\u001b[0m \u001b[1;34m'pickup_datetime'\u001b[0m\u001b[1;33m,\u001b[0m \u001b[1;34m'pickup_date'\u001b[0m\u001b[1;33m]\u001b[0m\u001b[1;33m,\u001b[0m \u001b[0maxis\u001b[0m \u001b[1;33m=\u001b[0m \u001b[1;36m1\u001b[0m\u001b[1;33m,\u001b[0m \u001b[0minplace\u001b[0m \u001b[1;33m=\u001b[0m \u001b[1;32mTrue\u001b[0m\u001b[1;33m)\u001b[0m\u001b[1;33m\u001b[0m\u001b[1;33m\u001b[0m\u001b[0m\n\u001b[0;32m      5\u001b[0m \u001b[1;33m\u001b[0m\u001b[0m\n",
      "\u001b[1;32m~\\anaconda3\\lib\\site-packages\\pandas\\core\\frame.py\u001b[0m in \u001b[0;36mdrop\u001b[1;34m(self, labels, axis, index, columns, level, inplace, errors)\u001b[0m\n\u001b[0;32m   4161\u001b[0m                 \u001b[0mweight\u001b[0m  \u001b[1;36m1.0\u001b[0m     \u001b[1;36m0.8\u001b[0m\u001b[1;33m\u001b[0m\u001b[1;33m\u001b[0m\u001b[0m\n\u001b[0;32m   4162\u001b[0m         \"\"\"\n\u001b[1;32m-> 4163\u001b[1;33m         return super().drop(\n\u001b[0m\u001b[0;32m   4164\u001b[0m             \u001b[0mlabels\u001b[0m\u001b[1;33m=\u001b[0m\u001b[0mlabels\u001b[0m\u001b[1;33m,\u001b[0m\u001b[1;33m\u001b[0m\u001b[1;33m\u001b[0m\u001b[0m\n\u001b[0;32m   4165\u001b[0m             \u001b[0maxis\u001b[0m\u001b[1;33m=\u001b[0m\u001b[0maxis\u001b[0m\u001b[1;33m,\u001b[0m\u001b[1;33m\u001b[0m\u001b[1;33m\u001b[0m\u001b[0m\n",
      "\u001b[1;32m~\\anaconda3\\lib\\site-packages\\pandas\\core\\generic.py\u001b[0m in \u001b[0;36mdrop\u001b[1;34m(self, labels, axis, index, columns, level, inplace, errors)\u001b[0m\n\u001b[0;32m   3885\u001b[0m         \u001b[1;32mfor\u001b[0m \u001b[0maxis\u001b[0m\u001b[1;33m,\u001b[0m \u001b[0mlabels\u001b[0m \u001b[1;32min\u001b[0m \u001b[0maxes\u001b[0m\u001b[1;33m.\u001b[0m\u001b[0mitems\u001b[0m\u001b[1;33m(\u001b[0m\u001b[1;33m)\u001b[0m\u001b[1;33m:\u001b[0m\u001b[1;33m\u001b[0m\u001b[1;33m\u001b[0m\u001b[0m\n\u001b[0;32m   3886\u001b[0m             \u001b[1;32mif\u001b[0m \u001b[0mlabels\u001b[0m \u001b[1;32mis\u001b[0m \u001b[1;32mnot\u001b[0m \u001b[1;32mNone\u001b[0m\u001b[1;33m:\u001b[0m\u001b[1;33m\u001b[0m\u001b[1;33m\u001b[0m\u001b[0m\n\u001b[1;32m-> 3887\u001b[1;33m                 \u001b[0mobj\u001b[0m \u001b[1;33m=\u001b[0m \u001b[0mobj\u001b[0m\u001b[1;33m.\u001b[0m\u001b[0m_drop_axis\u001b[0m\u001b[1;33m(\u001b[0m\u001b[0mlabels\u001b[0m\u001b[1;33m,\u001b[0m \u001b[0maxis\u001b[0m\u001b[1;33m,\u001b[0m \u001b[0mlevel\u001b[0m\u001b[1;33m=\u001b[0m\u001b[0mlevel\u001b[0m\u001b[1;33m,\u001b[0m \u001b[0merrors\u001b[0m\u001b[1;33m=\u001b[0m\u001b[0merrors\u001b[0m\u001b[1;33m)\u001b[0m\u001b[1;33m\u001b[0m\u001b[1;33m\u001b[0m\u001b[0m\n\u001b[0m\u001b[0;32m   3888\u001b[0m \u001b[1;33m\u001b[0m\u001b[0m\n\u001b[0;32m   3889\u001b[0m         \u001b[1;32mif\u001b[0m \u001b[0minplace\u001b[0m\u001b[1;33m:\u001b[0m\u001b[1;33m\u001b[0m\u001b[1;33m\u001b[0m\u001b[0m\n",
      "\u001b[1;32m~\\anaconda3\\lib\\site-packages\\pandas\\core\\generic.py\u001b[0m in \u001b[0;36m_drop_axis\u001b[1;34m(self, labels, axis, level, errors)\u001b[0m\n\u001b[0;32m   3919\u001b[0m                 \u001b[0mnew_axis\u001b[0m \u001b[1;33m=\u001b[0m \u001b[0maxis\u001b[0m\u001b[1;33m.\u001b[0m\u001b[0mdrop\u001b[0m\u001b[1;33m(\u001b[0m\u001b[0mlabels\u001b[0m\u001b[1;33m,\u001b[0m \u001b[0mlevel\u001b[0m\u001b[1;33m=\u001b[0m\u001b[0mlevel\u001b[0m\u001b[1;33m,\u001b[0m \u001b[0merrors\u001b[0m\u001b[1;33m=\u001b[0m\u001b[0merrors\u001b[0m\u001b[1;33m)\u001b[0m\u001b[1;33m\u001b[0m\u001b[1;33m\u001b[0m\u001b[0m\n\u001b[0;32m   3920\u001b[0m             \u001b[1;32melse\u001b[0m\u001b[1;33m:\u001b[0m\u001b[1;33m\u001b[0m\u001b[1;33m\u001b[0m\u001b[0m\n\u001b[1;32m-> 3921\u001b[1;33m                 \u001b[0mnew_axis\u001b[0m \u001b[1;33m=\u001b[0m \u001b[0maxis\u001b[0m\u001b[1;33m.\u001b[0m\u001b[0mdrop\u001b[0m\u001b[1;33m(\u001b[0m\u001b[0mlabels\u001b[0m\u001b[1;33m,\u001b[0m \u001b[0merrors\u001b[0m\u001b[1;33m=\u001b[0m\u001b[0merrors\u001b[0m\u001b[1;33m)\u001b[0m\u001b[1;33m\u001b[0m\u001b[1;33m\u001b[0m\u001b[0m\n\u001b[0m\u001b[0;32m   3922\u001b[0m             \u001b[0mresult\u001b[0m \u001b[1;33m=\u001b[0m \u001b[0mself\u001b[0m\u001b[1;33m.\u001b[0m\u001b[0mreindex\u001b[0m\u001b[1;33m(\u001b[0m\u001b[1;33m**\u001b[0m\u001b[1;33m{\u001b[0m\u001b[0maxis_name\u001b[0m\u001b[1;33m:\u001b[0m \u001b[0mnew_axis\u001b[0m\u001b[1;33m}\u001b[0m\u001b[1;33m)\u001b[0m\u001b[1;33m\u001b[0m\u001b[1;33m\u001b[0m\u001b[0m\n\u001b[0;32m   3923\u001b[0m \u001b[1;33m\u001b[0m\u001b[0m\n",
      "\u001b[1;32m~\\anaconda3\\lib\\site-packages\\pandas\\core\\indexes\\base.py\u001b[0m in \u001b[0;36mdrop\u001b[1;34m(self, labels, errors)\u001b[0m\n\u001b[0;32m   5280\u001b[0m         \u001b[1;32mif\u001b[0m \u001b[0mmask\u001b[0m\u001b[1;33m.\u001b[0m\u001b[0many\u001b[0m\u001b[1;33m(\u001b[0m\u001b[1;33m)\u001b[0m\u001b[1;33m:\u001b[0m\u001b[1;33m\u001b[0m\u001b[1;33m\u001b[0m\u001b[0m\n\u001b[0;32m   5281\u001b[0m             \u001b[1;32mif\u001b[0m \u001b[0merrors\u001b[0m \u001b[1;33m!=\u001b[0m \u001b[1;34m\"ignore\"\u001b[0m\u001b[1;33m:\u001b[0m\u001b[1;33m\u001b[0m\u001b[1;33m\u001b[0m\u001b[0m\n\u001b[1;32m-> 5282\u001b[1;33m                 \u001b[1;32mraise\u001b[0m \u001b[0mKeyError\u001b[0m\u001b[1;33m(\u001b[0m\u001b[1;34mf\"{labels[mask]} not found in axis\"\u001b[0m\u001b[1;33m)\u001b[0m\u001b[1;33m\u001b[0m\u001b[1;33m\u001b[0m\u001b[0m\n\u001b[0m\u001b[0;32m   5283\u001b[0m             \u001b[0mindexer\u001b[0m \u001b[1;33m=\u001b[0m \u001b[0mindexer\u001b[0m\u001b[1;33m[\u001b[0m\u001b[1;33m~\u001b[0m\u001b[0mmask\u001b[0m\u001b[1;33m]\u001b[0m\u001b[1;33m\u001b[0m\u001b[1;33m\u001b[0m\u001b[0m\n\u001b[0;32m   5284\u001b[0m         \u001b[1;32mreturn\u001b[0m \u001b[0mself\u001b[0m\u001b[1;33m.\u001b[0m\u001b[0mdelete\u001b[0m\u001b[1;33m(\u001b[0m\u001b[0mindexer\u001b[0m\u001b[1;33m)\u001b[0m\u001b[1;33m\u001b[0m\u001b[1;33m\u001b[0m\u001b[0m\n",
      "\u001b[1;31mKeyError\u001b[0m: \"['dropoff_date'] not found in axis\""
     ]
    }
   ],
   "source": [
    "train.drop(['id', 'pickup_longitude', 'pickup_latitude', 'dropoff_longitude', 'dropoff_latitude', \n",
    "            'pickup_datetime', 'dropoff_datetime', 'pickup_date', 'dropoff_date',\n",
    "            'log_trip_duration', 'avg_speed'], axis = 1, inplace = True)\n",
    "test.drop(['id', 'pickup_longitude', 'pickup_latitude', 'dropoff_longitude', 'dropoff_latitude', 'pickup_datetime', 'pickup_date'], axis = 1, inplace = True)\n",
    "\n",
    "print(train.shape)\n",
    "print(test.shape)"
   ]
  },
  {
   "cell_type": "markdown",
   "metadata": {},
   "source": [
    "### Correlation heatmap\n",
    "변수 간 correlation을 한 눈에 확인하기 위해 correlation heatmap을 그린다. 몇몇 변수들 간에 강한 상관관계가 보이기 때문에 일반선형회귀(Simple linear regression)은 적절하지 않다. \n",
    "\n",
    "--> 따라서 변수 간 상관관계를 고려하지 않아도 되는 Tree 계열의 regression 방법을 사용한다."
   ]
  },
  {
   "cell_type": "code",
   "execution_count": null,
   "metadata": {
    "execution": {
     "iopub.execute_input": "2021-11-16T11:26:32.476583Z",
     "iopub.status.busy": "2021-11-16T11:26:32.476261Z",
     "iopub.status.idle": "2021-11-16T11:26:37.756266Z",
     "shell.execute_reply": "2021-11-16T11:26:37.755612Z",
     "shell.execute_reply.started": "2021-11-16T11:26:32.476549Z"
    }
   },
   "outputs": [],
   "source": [
    "plt.figure(figsize = (12, 10))\n",
    "sns.heatmap(train.corr(), cmap = 'coolwarm', fmt = '.2f', annot = True, vmin = -1, vmax = 1)\n",
    "plt.title('Correlation Heatmap', fontsize = 15, fontweight = 'bold')\n",
    "plt.show()"
   ]
  },
  {
   "cell_type": "code",
   "execution_count": null,
   "metadata": {
    "execution": {
     "iopub.execute_input": "2021-11-16T11:28:04.451896Z",
     "iopub.status.busy": "2021-11-16T11:28:04.451580Z",
     "iopub.status.idle": "2021-11-16T11:28:06.097720Z",
     "shell.execute_reply": "2021-11-16T11:28:06.096804Z",
     "shell.execute_reply.started": "2021-11-16T11:28:04.451862Z"
    }
   },
   "outputs": [],
   "source": [
    "# categorical variables with object categories\n",
    "train = pd.get_dummies(train)\n",
    "test = pd.get_dummies(test)"
   ]
  }
 ],
 "metadata": {
  "kernelspec": {
   "display_name": "Python 3",
   "language": "python",
   "name": "python3"
  },
  "language_info": {
   "codemirror_mode": {
    "name": "ipython",
    "version": 3
   },
   "file_extension": ".py",
   "mimetype": "text/x-python",
   "name": "python",
   "nbconvert_exporter": "python",
   "pygments_lexer": "ipython3",
   "version": "3.8.5"
  }
 },
 "nbformat": 4,
 "nbformat_minor": 4
}
