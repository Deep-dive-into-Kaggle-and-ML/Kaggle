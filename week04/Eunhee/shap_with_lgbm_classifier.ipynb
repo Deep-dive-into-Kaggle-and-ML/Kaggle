{
 "cells": [
  {
   "cell_type": "markdown",
   "metadata": {
    "collapsed": true
   },
   "source": [
    "🤔 \"어떤 가구가 사회 보장 지원 제도를 가장 먼저 받아야 할까?\"\n",
    "    \n",
    "라틴 아메리카에서는 수입의 질을 평가하기 위해 **P**roxy **M**eans **T**est, 줄여서 PMT를 수행한다. 기관은 가족의 관찰 가능한 가정 속성(벽이나 천장의 재료, 가정에서 발견되는 자산)을 고려하여 분류하고, 사회 보장 지원 제도의 필요 수준을 예측하는 모델을 사용한다.\n",
    "\n",
    "# 목표\n",
    "주어진 `Id`에 대해 `Target`의 class를 예측하기"
   ]
  },
  {
   "cell_type": "markdown",
   "metadata": {},
   "source": [
    "# 필요한 모듈 임포트"
   ]
  },
  {
   "cell_type": "code",
   "execution_count": 1,
   "metadata": {
    "ExecuteTime": {
     "end_time": "2021-11-26T12:03:51.527615Z",
     "start_time": "2021-11-26T12:03:48.894365Z"
    },
    "scrolled": true
   },
   "outputs": [],
   "source": [
    "import pandas as pd\n",
    "import numpy as np\n",
    "\n",
    "import seaborn as sns\n",
    "import matplotlib.pyplot as plt\n",
    "\n",
    "sns.set(font_scale=2.2)\n",
    "plt.style.use('seaborn')\n",
    "\n",
    "from sklearn.preprocessing import LabelEncoder, MinMaxScaler, StandardScaler, OneHotEncoder\n",
    "from sklearn.model_selection import StratifiedKFold, train_test_split, ShuffleSplit\n",
    "from sklearn.metrics import f1_score\n",
    "import itertools\n",
    "import lightgbm as lgb\n",
    "import xgboost as xgb\n",
    "from xgboost import XGBClassifier\n",
    "import shap\n",
    "from tqdm import tqdm\n",
    "import featuretools as ft\n",
    "import warnings \n",
    "warnings.filterwarnings('ignore')\n",
    "import time"
   ]
  },
  {
   "cell_type": "markdown",
   "metadata": {},
   "source": [
    "# 데이터 확인"
   ]
  },
  {
   "cell_type": "code",
   "execution_count": 2,
   "metadata": {
    "ExecuteTime": {
     "end_time": "2021-11-26T12:03:51.702722Z",
     "start_time": "2021-11-26T12:03:51.527615Z"
    },
    "scrolled": true
   },
   "outputs": [],
   "source": [
    "train = pd.read_csv('../../week04/Eunhee/input/train.csv')\n",
    "test = pd.read_csv('../../week04/Eunhee/input/test.csv')"
   ]
  },
  {
   "cell_type": "code",
   "execution_count": 3,
   "metadata": {
    "ExecuteTime": {
     "end_time": "2021-11-26T12:03:51.718425Z",
     "start_time": "2021-11-26T12:03:51.703724Z"
    }
   },
   "outputs": [
    {
     "name": "stdout",
     "output_type": "stream",
     "text": [
      "(9557, 143)\n",
      "(23856, 142)\n"
     ]
    }
   ],
   "source": [
    "print(train.shape)\n",
    "print(test.shape)"
   ]
  },
  {
   "cell_type": "markdown",
   "metadata": {},
   "source": [
    "## Target 변수의 분포 확인하기"
   ]
  },
  {
   "cell_type": "code",
   "execution_count": 4,
   "metadata": {
    "ExecuteTime": {
     "end_time": "2021-11-26T12:03:51.813517Z",
     "start_time": "2021-11-26T12:03:51.719426Z"
    },
    "scrolled": true
   },
   "outputs": [
    {
     "data": {
      "text/plain": [
       "Text(0.5, 1.0, 'Distribtion of income levels')"
      ]
     },
     "execution_count": 4,
     "metadata": {},
     "output_type": "execute_result"
    },
    {
     "data": {
      "image/png": "[encoded data removed]",
      "text/plain": [
       "<Figure size 576x396 with 1 Axes>"
      ]
     },
     "metadata": {},
     "output_type": "display_data"
    }
   ],
   "source": [
    "sns.countplot(x='Target', data=train)\n",
    "plt.title('Distribtion of income levels', fontsize=15)"
   ]
  },
  {
   "cell_type": "markdown",
   "metadata": {},
   "source": [
    "수입 수준은 ordinal variable로, 각각 다음을 나타낸다.\n",
    "- 1 : 극빈곤\n",
    "- 2 : 중간 수준의 빈곤\n",
    "- 3 : 취약 가구\n",
    "- 4 : 취약하지 않은 가구"
   ]
  },
  {
   "cell_type": "code",
   "execution_count": 5,
   "metadata": {
    "ExecuteTime": {
     "end_time": "2021-11-26T12:03:51.829532Z",
     "start_time": "2021-11-26T12:03:51.814519Z"
    }
   },
   "outputs": [
    {
     "name": "stdout",
     "output_type": "stream",
     "text": [
      "Target 1 (extreme poverty) : 7.90%\n",
      "Target 2 (moderate poverty) : 16.71%\n",
      "Target 3 (vulnerable households) : 12.65%\n",
      "Target 4 (non vulnerable households) : 62.74%\n"
     ]
    }
   ],
   "source": [
    "print(\"Target 1 (extreme poverty) : %.2f\" %(sum(train['Target'] == 1) / len(train['Target']) * 100) + \"%\")\n",
    "print(\"Target 2 (moderate poverty) : %.2f\" %(sum(train['Target'] == 2) / len(train['Target']) * 100) + \"%\")\n",
    "print(\"Target 3 (vulnerable households) : %.2f\" %(sum(train['Target'] == 3) / len(train['Target']) * 100) + \"%\")\n",
    "print(\"Target 4 (non vulnerable households) : %.2f\" %(sum(train['Target'] == 4) / len(train['Target']) * 100) + \"%\")"
   ]
  },
  {
   "cell_type": "markdown",
   "metadata": {
    "ExecuteTime": {
     "end_time": "2021-11-26T01:14:54.306337Z",
     "start_time": "2021-11-26T01:14:54.291922Z"
    }
   },
   "source": [
    "## 결측치 확인"
   ]
  },
  {
   "cell_type": "code",
   "execution_count": 6,
   "metadata": {
    "ExecuteTime": {
     "end_time": "2021-11-26T12:03:51.844545Z",
     "start_time": "2021-11-26T12:03:51.830532Z"
    }
   },
   "outputs": [
    {
     "data": {
      "text/plain": [
       "rez_esc      7928\n",
       "v18q1        7342\n",
       "v2a1         6860\n",
       "SQBmeaned       5\n",
       "meaneduc        5\n",
       "dtype: int64"
      ]
     },
     "execution_count": 6,
     "metadata": {},
     "output_type": "execute_result"
    }
   ],
   "source": [
    "train.isnull().sum().sort_values(ascending=False).head(5)"
   ]
  },
  {
   "cell_type": "code",
   "execution_count": 7,
   "metadata": {
    "ExecuteTime": {
     "end_time": "2021-11-26T12:03:51.860560Z",
     "start_time": "2021-11-26T12:03:51.845547Z"
    }
   },
   "outputs": [
    {
     "data": {
      "text/plain": [
       "rez_esc      19653\n",
       "v18q1        18126\n",
       "v2a1         17403\n",
       "meaneduc        31\n",
       "SQBmeaned       31\n",
       "dtype: int64"
      ]
     },
     "execution_count": 7,
     "metadata": {},
     "output_type": "execute_result"
    }
   ],
   "source": [
    "test.isnull().sum().sort_values(ascending=False).head(5)"
   ]
  },
  {
   "cell_type": "code",
   "execution_count": 8,
   "metadata": {
    "ExecuteTime": {
     "end_time": "2021-11-26T12:03:51.892589Z",
     "start_time": "2021-11-26T12:03:51.861562Z"
    }
   },
   "outputs": [],
   "source": [
    "# if education is \"yes\" and person is head of household, fill with escolari\n",
    "train.loc[(train['edjefa'] == \"yes\") & (train['parentesco1'] == 1), \"edjefa\"] = train.loc[(train['edjefa'] == \"yes\") & (train['parentesco1'] == 1), \"escolari\"]\n",
    "train.loc[(train['edjefe'] == \"yes\") & (train['parentesco1'] == 1), \"edjefe\"] = train.loc[(train['edjefe'] == \"yes\") & (train['parentesco1'] == 1), \"escolari\"]\n",
    "\n",
    "test.loc[(test['edjefa'] == \"yes\") & (test['parentesco1'] == 1), \"edjefa\"] = test.loc[(test['edjefa'] == \"yes\") & (test['parentesco1'] == 1), \"escolari\"]\n",
    "test.loc[(test['edjefe'] == \"yes\") & (test['parentesco1'] == 1), \"edjefe\"] = test.loc[(test['edjefe'] == \"yes\") & (test['parentesco1'] == 1), \"escolari\"]\n",
    "\n",
    "# this field is supposed to be interaction between gender and escolari, but it isn't clear what \"yes\" means, let's fill it with 4\n",
    "train.loc[train['edjefa'] == \"yes\", \"edjefa\"] = 4\n",
    "train.loc[train['edjefe'] == \"yes\", \"edjefe\"] = 4\n",
    "\n",
    "test.loc[test['edjefa'] == \"yes\", \"edjefa\"] = 4\n",
    "test.loc[test['edjefe'] == \"yes\", \"edjefe\"] = 4\n",
    "\n",
    "# create feature with max education of either head of household\n",
    "train['edjef'] = np.max(train[['edjefa','edjefe']], axis=1)\n",
    "test['edjef'] = np.max(test[['edjefa','edjefe']], axis=1)\n",
    "\n",
    "# fix some inconsistencies in the data - some rows indicate both that the household does and does not have a toilet, \n",
    "# if there is no water we'll assume they do not\n",
    "train.loc[(train.v14a ==  1) & (train.sanitario1 ==  1) & (train.abastaguano == 0), \"v14a\"] = 0\n",
    "train.loc[(train.v14a ==  1) & (train.sanitario1 ==  1) & (train.abastaguano == 0), \"sanitario1\"] = 0\n",
    "\n",
    "test.loc[(test.v14a ==  1) & (test.sanitario1 ==  1) & (test.abastaguano == 0), \"v14a\"] = 0\n",
    "test.loc[(test.v14a ==  1) & (test.sanitario1 ==  1) & (test.abastaguano == 0), \"sanitario1\"] = 0"
   ]
  },
  {
   "cell_type": "markdown",
   "metadata": {},
   "source": [
    "- `rez_esc` : Years behind in school"
   ]
  },
  {
   "cell_type": "code",
   "execution_count": 9,
   "metadata": {
    "ExecuteTime": {
     "end_time": "2021-11-26T12:03:51.908592Z",
     "start_time": "2021-11-26T12:03:51.893590Z"
    }
   },
   "outputs": [],
   "source": [
    "train['rez_esc'].fillna(0, inplace=True)\n",
    "test['rez_esc'].fillna(0, inplace=True)"
   ]
  },
  {
   "cell_type": "markdown",
   "metadata": {
    "ExecuteTime": {
     "end_time": "2021-11-26T03:42:23.910377Z",
     "start_time": "2021-11-26T03:42:23.898366Z"
    }
   },
   "source": [
    "- `SQBmeaned` : Square of the mean years of education of adults (>= 18) in the household"
   ]
  },
  {
   "cell_type": "code",
   "execution_count": 10,
   "metadata": {
    "ExecuteTime": {
     "end_time": "2021-11-26T12:03:51.924599Z",
     "start_time": "2021-11-26T12:03:51.908592Z"
    }
   },
   "outputs": [],
   "source": [
    "train['SQBmeaned'].fillna(0, inplace=True)\n",
    "test['SQBmeaned'].fillna(0, inplace=True)"
   ]
  },
  {
   "cell_type": "markdown",
   "metadata": {},
   "source": [
    "- `meaneduc` : Average years of education for adults (+18)"
   ]
  },
  {
   "cell_type": "code",
   "execution_count": 11,
   "metadata": {
    "ExecuteTime": {
     "end_time": "2021-11-26T12:03:51.940617Z",
     "start_time": "2021-11-26T12:03:51.924599Z"
    }
   },
   "outputs": [],
   "source": [
    "train['meaneduc'].fillna(0, inplace=True)\n",
    "test['meaneduc'].fillna(0, inplace=True)"
   ]
  },
  {
   "cell_type": "markdown",
   "metadata": {},
   "source": [
    "- `v18q1` : Number of tablets household owns"
   ]
  },
  {
   "cell_type": "code",
   "execution_count": 12,
   "metadata": {
    "ExecuteTime": {
     "end_time": "2021-11-26T12:03:51.956629Z",
     "start_time": "2021-11-26T12:03:51.941617Z"
    }
   },
   "outputs": [],
   "source": [
    "train['v18q1'].fillna(0, inplace=True)\n",
    "test['v18q1'].fillna(0, inplace=True)"
   ]
  },
  {
   "cell_type": "markdown",
   "metadata": {},
   "source": [
    "- `v2a1` : Monthly rent payment"
   ]
  },
  {
   "cell_type": "code",
   "execution_count": 13,
   "metadata": {
    "ExecuteTime": {
     "end_time": "2021-11-26T12:03:52.325027Z",
     "start_time": "2021-11-26T12:03:51.957630Z"
    }
   },
   "outputs": [
    {
     "data": {
      "image/png": "[encoded data removed]",
      "text/plain": [
       "<Figure size 576x396 with 1 Axes>"
      ]
     },
     "metadata": {},
     "output_type": "display_data"
    }
   ],
   "source": [
    "sns.kdeplot(train.loc[train['tipovivi3'] == 1, 'v2a1'], label='Monthly rent payment of household(rented=1)')\n",
    "sns.kdeplot(train.loc[train['tipovivi3'] == 0, 'v2a1'], label='Monthly rent payment of household(rented=0)')\n",
    "plt.xscale('log')\n",
    "plt.xlabel('')\n",
    "plt.legend()\n",
    "plt.show()"
   ]
  },
  {
   "cell_type": "code",
   "execution_count": 14,
   "metadata": {
    "ExecuteTime": {
     "end_time": "2021-11-26T12:03:52.341039Z",
     "start_time": "2021-11-26T12:03:52.326028Z"
    }
   },
   "outputs": [],
   "source": [
    "train['v2a1'].fillna(0, inplace=True)\n",
    "test['v2a1'].fillna(0, inplace=True)"
   ]
  },
  {
   "cell_type": "markdown",
   "metadata": {},
   "source": [
    "# Feature engineering"
   ]
  },
  {
   "cell_type": "markdown",
   "metadata": {},
   "source": [
    "## Object features"
   ]
  },
  {
   "cell_type": "markdown",
   "metadata": {},
   "source": [
    "**dependency** : dependency rate"
   ]
  },
  {
   "cell_type": "code",
   "execution_count": 15,
   "metadata": {
    "ExecuteTime": {
     "end_time": "2021-11-26T12:03:52.357048Z",
     "start_time": "2021-11-26T12:03:52.342041Z"
    }
   },
   "outputs": [],
   "source": [
    "features_object = [col for col in train.columns if train[col].dtype == 'object']"
   ]
  },
  {
   "cell_type": "code",
   "execution_count": 16,
   "metadata": {
    "ExecuteTime": {
     "end_time": "2021-11-26T12:03:52.373052Z",
     "start_time": "2021-11-26T12:03:52.358048Z"
    }
   },
   "outputs": [
    {
     "data": {
      "text/plain": [
       "['Id', 'idhogar', 'dependency', 'edjefe', 'edjefa']"
      ]
     },
     "execution_count": 16,
     "metadata": {},
     "output_type": "execute_result"
    }
   ],
   "source": [
    "features_object"
   ]
  },
  {
   "cell_type": "code",
   "execution_count": 17,
   "metadata": {
    "ExecuteTime": {
     "end_time": "2021-11-26T12:03:52.389067Z",
     "start_time": "2021-11-26T12:03:52.374054Z"
    }
   },
   "outputs": [
    {
     "data": {
      "text/plain": [
       "0     no\n",
       "1      8\n",
       "2      8\n",
       "3    yes\n",
       "4    yes\n",
       "Name: dependency, dtype: object"
      ]
     },
     "execution_count": 17,
     "metadata": {},
     "output_type": "execute_result"
    }
   ],
   "source": [
    "train['dependency'].head()"
   ]
  },
  {
   "cell_type": "code",
   "execution_count": 18,
   "metadata": {
    "ExecuteTime": {
     "end_time": "2021-11-26T12:03:52.405081Z",
     "start_time": "2021-11-26T12:03:52.390069Z"
    }
   },
   "outputs": [
    {
     "data": {
      "text/plain": [
       "0     0.0\n",
       "1    64.0\n",
       "2    64.0\n",
       "3     1.0\n",
       "4     1.0\n",
       "Name: SQBdependency, dtype: float64"
      ]
     },
     "execution_count": 18,
     "metadata": {},
     "output_type": "execute_result"
    }
   ],
   "source": [
    "train['SQBdependency'].head()"
   ]
  },
  {
   "cell_type": "markdown",
   "metadata": {},
   "source": [
    "몇몇 `dependency`가 `NA`이기 때문에, `SQBdependency`의 제곱근값으로 대체한다."
   ]
  },
  {
   "cell_type": "code",
   "execution_count": 19,
   "metadata": {
    "ExecuteTime": {
     "end_time": "2021-11-26T12:03:52.421096Z",
     "start_time": "2021-11-26T12:03:52.406084Z"
    }
   },
   "outputs": [],
   "source": [
    "train['dependency'] = np.sqrt(train['SQBdependency'])\n",
    "test['dependency'] = np.sqrt(test['SQBdependency'])"
   ]
  },
  {
   "cell_type": "markdown",
   "metadata": {},
   "source": [
    "**edjefe** : years of education of male head of household (yes → 1, no → 0 으로 대체)"
   ]
  },
  {
   "cell_type": "code",
   "execution_count": 20,
   "metadata": {
    "ExecuteTime": {
     "end_time": "2021-11-26T12:03:52.437005Z",
     "start_time": "2021-11-26T12:03:52.422096Z"
    }
   },
   "outputs": [],
   "source": [
    "def replace_edjefe(x):\n",
    "    if x == 'yes':\n",
    "        return 1\n",
    "    elif x == 'no':\n",
    "        return 0\n",
    "    else:\n",
    "        return x\n",
    "\n",
    "train['edjefe'] = train['edjefe'].apply(replace_edjefe).astype(float)\n",
    "test['edjefe'] = test['edjefe'].apply(replace_edjefe).astype(float)"
   ]
  },
  {
   "cell_type": "markdown",
   "metadata": {},
   "source": [
    "**edjefa** : years of education of female head of household (yes → 1, no → 0 으로 대체)"
   ]
  },
  {
   "cell_type": "code",
   "execution_count": 21,
   "metadata": {
    "ExecuteTime": {
     "end_time": "2021-11-26T12:03:52.452019Z",
     "start_time": "2021-11-26T12:03:52.438006Z"
    }
   },
   "outputs": [],
   "source": [
    "def replace_edjefa(x):\n",
    "    if x == 'yes':\n",
    "        return 1\n",
    "    elif x == 'no':\n",
    "        return 0\n",
    "    else:\n",
    "        return x\n",
    "\n",
    "train['edjefa'] = train['edjefa'].apply(replace_edjefa).astype(float)\n",
    "test['edjefa'] = test['edjefa'].apply(replace_edjefa).astype(float)"
   ]
  },
  {
   "cell_type": "markdown",
   "metadata": {},
   "source": [
    "**edjef** : max education of either head(male or female) of household"
   ]
  },
  {
   "cell_type": "code",
   "execution_count": 22,
   "metadata": {
    "ExecuteTime": {
     "end_time": "2021-11-26T12:03:52.467035Z",
     "start_time": "2021-11-26T12:03:52.453020Z"
    }
   },
   "outputs": [],
   "source": [
    "train['edjef'] = np.max(train[['edjefa', 'edjefe']], axis=1)\n",
    "test['edjef'] = np.max(test[['edjefa', 'edjefe']], axis=1)"
   ]
  },
  {
   "cell_type": "markdown",
   "metadata": {
    "ExecuteTime": {
     "end_time": "2021-11-26T07:14:16.810703Z",
     "start_time": "2021-11-26T07:14:16.801695Z"
    }
   },
   "source": [
    "**roof and electricity**"
   ]
  },
  {
   "cell_type": "code",
   "execution_count": 23,
   "metadata": {
    "ExecuteTime": {
     "end_time": "2021-11-26T12:03:52.895366Z",
     "start_time": "2021-11-26T12:03:52.467035Z"
    }
   },
   "outputs": [],
   "source": [
    "train['roof_waste_material'] = np.nan\n",
    "test['roof_waste_material'] = np.nan\n",
    "train['electricity_other'] = np.nan\n",
    "test['electricity_other'] = np.nan\n",
    "\n",
    "def fill_roof_exception(x):\n",
    "    if (x['techozinc'] == 0) and (x['techoentrepiso'] == 0) and (x['techocane'] == 0) and (x['techootro'] == 0):\n",
    "        return 1\n",
    "    else:\n",
    "        return 0\n",
    "    \n",
    "def fill_no_electricity(x):\n",
    "    if (x['public'] == 0) and (x['planpri'] == 0) and (x['noelec'] == 0) and (x['coopele'] == 0):\n",
    "        return 1\n",
    "    else:\n",
    "        return 0\n",
    "\n",
    "train['roof_waste_material'] = train.apply(lambda x : fill_roof_exception(x),axis=1)\n",
    "test['roof_waste_material'] = test.apply(lambda x : fill_roof_exception(x),axis=1)\n",
    "train['electricity_other'] = train.apply(lambda x : fill_no_electricity(x),axis=1)\n",
    "test['electricity_other'] = test.apply(lambda x : fill_no_electricity(x),axis=1)"
   ]
  },
  {
   "cell_type": "markdown",
   "metadata": {},
   "source": [
    "## Extract category features"
   ]
  },
  {
   "cell_type": "code",
   "execution_count": 24,
   "metadata": {
    "ExecuteTime": {
     "end_time": "2021-11-26T12:03:52.940396Z",
     "start_time": "2021-11-26T12:03:52.896368Z"
    }
   },
   "outputs": [],
   "source": [
    "binary_cat_featuers = [col for col in train.columns if train[col].value_counts().shape[0] == 2]"
   ]
  },
  {
   "cell_type": "code",
   "execution_count": 25,
   "metadata": {
    "ExecuteTime": {
     "end_time": "2021-11-26T12:03:52.955410Z",
     "start_time": "2021-11-26T12:03:52.941397Z"
    }
   },
   "outputs": [
    {
     "name": "stdout",
     "output_type": "stream",
     "text": [
      "There are 103 category featurs\n"
     ]
    }
   ],
   "source": [
    "print('There are %.f category featurs' %(len(binary_cat_featuers)))"
   ]
  },
  {
   "cell_type": "markdown",
   "metadata": {
    "ExecuteTime": {
     "end_time": "2021-11-26T07:32:20.863810Z",
     "start_time": "2021-11-26T07:32:20.859815Z"
    }
   },
   "source": [
    "## Make new features using continous features"
   ]
  },
  {
   "cell_type": "code",
   "execution_count": 26,
   "metadata": {
    "ExecuteTime": {
     "end_time": "2021-11-26T12:03:52.970424Z",
     "start_time": "2021-11-26T12:03:52.955410Z"
    }
   },
   "outputs": [],
   "source": [
    "continuous_features = [col for col in train.columns if col not in binary_cat_featuers]\n",
    "continuous_features = [col for col in continuous_features if col not in features_object]\n",
    "continuous_features = [col for col in continuous_features if col not in ['Id', 'Target', 'idhogar']]"
   ]
  },
  {
   "cell_type": "code",
   "execution_count": 27,
   "metadata": {
    "ExecuteTime": {
     "end_time": "2021-11-26T12:03:52.985437Z",
     "start_time": "2021-11-26T12:03:52.972425Z"
    }
   },
   "outputs": [
    {
     "name": "stdout",
     "output_type": "stream",
     "text": [
      "There are 37 continuous featurs\n"
     ]
    }
   ],
   "source": [
    "print('There are %.f continuous featurs' %(len(continuous_features)))"
   ]
  },
  {
   "cell_type": "markdown",
   "metadata": {},
   "source": [
    "- `hhsize` : household size\n",
    "- `tamhog` : size of the household\n",
    "\n",
    "설명상 둘은 같은 것을 지칭하므로, `tamhog`을 drop한다."
   ]
  },
  {
   "cell_type": "code",
   "execution_count": 28,
   "metadata": {
    "ExecuteTime": {
     "end_time": "2021-11-26T12:03:53.016509Z",
     "start_time": "2021-11-26T12:03:52.986438Z"
    }
   },
   "outputs": [],
   "source": [
    "train.drop('tamhog', axis=1, inplace=True)\n",
    "test.drop('tamhog', axis=1, inplace=True)"
   ]
  },
  {
   "cell_type": "markdown",
   "metadata": {},
   "source": [
    "**Family features**"
   ]
  },
  {
   "cell_type": "markdown",
   "metadata": {},
   "source": [
    "🤔 `hogar_total`과 `r4t3`의 차이는 무엇일까?"
   ]
  },
  {
   "cell_type": "code",
   "execution_count": 29,
   "metadata": {
    "ExecuteTime": {
     "end_time": "2021-11-26T12:03:53.032486Z",
     "start_time": "2021-11-26T12:03:53.016509Z"
    }
   },
   "outputs": [
    {
     "data": {
      "text/plain": [
       "99.49775034006487"
      ]
     },
     "execution_count": 29,
     "metadata": {},
     "output_type": "execute_result"
    }
   ],
   "source": [
    "sum(train['hogar_total'] == train['r4t3']) / len(train) * 100"
   ]
  },
  {
   "cell_type": "markdown",
   "metadata": {},
   "source": [
    "**Family size features**"
   ]
  },
  {
   "cell_type": "markdown",
   "metadata": {},
   "source": [
    "- `hogar_adul` : Number of adults in household\n",
    "- `hogar_mayor` : # of individuals 65+ in the household\n",
    "- `hogar_nin` : Number of children 0 to 19 in household\n",
    "- `hogar_total` : # of total individuals in the household\n",
    "- `r4h1` : Males younger than 12 years of age\n",
    "- `r4h2` : Males 12 years of age and older\n",
    "- `r4h3` : Total males in the household\n",
    "- `r4m1` : Females younger than 12 years of age\n",
    "- `r4m2` : Females 12 years of age and older\n",
    "- `r4m3` : Total females in the household\n",
    "- `r4t1` : persons younger than 12 years of age\n",
    "- `r4t2` : persons 12 years of age and older\n",
    "- `r4t3` : Total persons in the household"
   ]
  },
  {
   "cell_type": "code",
   "execution_count": 30,
   "metadata": {
    "ExecuteTime": {
     "end_time": "2021-11-26T12:03:53.048650Z",
     "start_time": "2021-11-26T12:03:53.033485Z"
    }
   },
   "outputs": [],
   "source": [
    "train['adult'] = train['hogar_adul'] - train['hogar_mayor']\n",
    "\n",
    "train['dependency_count'] = train['hogar_nin'] + train['hogar_mayor']\n",
    "train['dependency'] = train['dependency_count'] / train['adult']\n",
    "\n",
    "train['child_percent'] = train['hogar_nin'] / train['hogar_total']\n",
    "train['elder_percent'] = train['hogar_mayor'] / train['hogar_total']\n",
    "train['adult_percent'] = train['hogar_adul'] / train['hogar_total']\n",
    "\n",
    "train['males_younger_12_years_percent'] = train['r4h1'] / train['hogar_total']\n",
    "train['males_older_12_years_percent'] = train['r4h2'] / train['hogar_total']\n",
    "train['males_percent'] = train['r4h3'] / train['hogar_total']\n",
    "\n",
    "train['females_younger_12_years_percent'] = train['r4m1'] / train['hogar_total']\n",
    "train['females_older_12_years_percent'] = train['r4m2'] / train['hogar_total']\n",
    "train['females_percent'] = train['r4m3'] / train['hogar_total']\n",
    "\n",
    "train['persons_younger_12_years_percent'] = train['r4t1'] / train['hogar_total']\n",
    "train['persons_older_12_years_percent'] = train['r4t2'] / train['hogar_total']\n",
    "train['persons_percent'] = train['r4t3'] / train['hogar_total']"
   ]
  },
  {
   "cell_type": "code",
   "execution_count": 31,
   "metadata": {
    "ExecuteTime": {
     "end_time": "2021-11-26T12:03:53.063628Z",
     "start_time": "2021-11-26T12:03:53.049616Z"
    }
   },
   "outputs": [],
   "source": [
    "test['adult'] = test['hogar_adul'] - test['hogar_mayor']\n",
    "\n",
    "test['dependency_count'] = test['hogar_nin'] + test['hogar_mayor']\n",
    "test['dependency'] = test['dependency_count'] / test['adult']\n",
    "\n",
    "test['child_percent'] = test['hogar_nin'] / test['hogar_total']\n",
    "test['elder_percent'] = test['hogar_mayor'] / test['hogar_total']\n",
    "test['adult_percent'] = test['hogar_adul'] / test['hogar_total']\n",
    "\n",
    "test['males_younger_12_years_percent'] = test['r4h1'] / test['hogar_total']\n",
    "test['males_older_12_years_percent'] = test['r4h2'] / test['hogar_total']\n",
    "test['males_percent'] = train['r4h3'] / test['hogar_total']\n",
    "\n",
    "test['females_younger_12_years_percent'] = test['r4m1'] / test['hogar_total']\n",
    "test['females_older_12_years_percent'] = test['r4m2'] / test['hogar_total']\n",
    "test['females_percent'] = test['r4m3'] / test['hogar_total']\n",
    "\n",
    "test['persons_younger_12_years_percent'] = test['r4t1'] / test['hogar_total']\n",
    "test['persons_older_12_years_percent'] = test['r4t2'] / test['hogar_total']\n",
    "test['persons_percent'] = test['r4t3'] / test['hogar_total']"
   ]
  },
  {
   "cell_type": "code",
   "execution_count": 32,
   "metadata": {
    "ExecuteTime": {
     "end_time": "2021-11-26T12:03:53.079670Z",
     "start_time": "2021-11-26T12:03:53.064630Z"
    }
   },
   "outputs": [],
   "source": [
    "train['males_younger_12_years_in_household_size'] = train['r4h1'] / train['hhsize']\n",
    "train['males_older_12_years_in_household_size'] = train['r4h2'] / train['hhsize']\n",
    "train['males_in_household_size'] = train['r4h3'] / train['hhsize']\n",
    "train['females_younger_12_years_in_household_size'] = train['r4m1'] / train['hhsize']\n",
    "train['females_older_12_years_in_household_size'] = train['r4m2'] / train['hhsize']\n",
    "train['females_in_household_size'] = train['r4m3'] / train['hogar_total']\n",
    "train['persons_younger_12_years_in_household_size'] = train['r4t1'] / train['hhsize']\n",
    "train['persons_older_12_years_in_household_size'] = train['r4t2'] / train['hhsize']\n",
    "train['persons_in_household_size'] = train['r4t3'] / train['hhsize']"
   ]
  },
  {
   "cell_type": "code",
   "execution_count": 33,
   "metadata": {
    "ExecuteTime": {
     "end_time": "2021-11-26T12:03:53.094693Z",
     "start_time": "2021-11-26T12:03:53.079670Z"
    }
   },
   "outputs": [],
   "source": [
    "test['males_younger_12_years_in_household_size'] = test['r4h1'] / test['hhsize']\n",
    "test['males_older_12_years_in_household_size'] = test['r4h2'] / test['hhsize']\n",
    "test['males_in_household_size'] = test['r4h3'] / test['hhsize']\n",
    "test['females_younger_12_years_in_household_size'] = test['r4m1'] / test['hhsize']\n",
    "test['females_older_12_years_in_household_size'] = test['r4m2'] / test['hhsize']\n",
    "test['females_in_household_size'] = test['r4m3'] / test['hogar_total']\n",
    "test['persons_younger_12_years_in_household_size'] = test['r4t1'] / test['hhsize']\n",
    "test['persons_older_12_years_in_household_size'] = test['r4t2'] / test['hhsize']\n",
    "test['persons_in_household_size'] = test['r4t3'] / test['hhsize']"
   ]
  },
  {
   "cell_type": "code",
   "execution_count": 34,
   "metadata": {
    "ExecuteTime": {
     "end_time": "2021-11-26T12:03:53.110673Z",
     "start_time": "2021-11-26T12:03:53.095661Z"
    }
   },
   "outputs": [],
   "source": [
    "train['overcrowding_room_and_bedroom'] = (train['hacdor'] + train['hacapo'])/2\n",
    "test['overcrowding_room_and_bedroom'] = (test['hacdor'] + test['hacapo'])/2"
   ]
  },
  {
   "cell_type": "markdown",
   "metadata": {},
   "source": [
    "- `escolari` : years of schooling"
   ]
  },
  {
   "cell_type": "code",
   "execution_count": 35,
   "metadata": {
    "ExecuteTime": {
     "end_time": "2021-11-26T12:03:53.126691Z",
     "start_time": "2021-11-26T12:03:53.111674Z"
    }
   },
   "outputs": [],
   "source": [
    "train['escolari_age'] = train['escolari'] / train['age']\n",
    "test['escolari_age'] = test['escolari'] / test['age']\n",
    "\n",
    "train['age_12_19'] = train['hogar_nin'] - train['r4t1']\n",
    "test['age_12_19'] = test['hogar_nin'] - test['r4t1']  "
   ]
  },
  {
   "cell_type": "markdown",
   "metadata": {},
   "source": [
    "- `v18q1` : number of tablets household owns\n",
    "- `v2a1` : Monthly rent payment"
   ]
  },
  {
   "cell_type": "code",
   "execution_count": 36,
   "metadata": {
    "ExecuteTime": {
     "end_time": "2021-11-26T12:03:53.142709Z",
     "start_time": "2021-11-26T12:03:53.127691Z"
    }
   },
   "outputs": [],
   "source": [
    "train['phones-per-capita'] = train['qmobilephone'] / train['tamviv']\n",
    "train['tablets-per-capita'] = train['v18q1'] / train['tamviv']\n",
    "train['rooms-per-capita'] = train['rooms'] / train['tamviv']\n",
    "train['rent-per-capita'] = train['v2a1'] / train['tamviv']"
   ]
  },
  {
   "cell_type": "code",
   "execution_count": 37,
   "metadata": {
    "ExecuteTime": {
     "end_time": "2021-11-26T12:03:53.157912Z",
     "start_time": "2021-11-26T12:03:53.142709Z"
    }
   },
   "outputs": [],
   "source": [
    "test['phones-per-capita'] = test['qmobilephone'] / test['tamviv']\n",
    "test['tablets-per-capita'] = test['v18q1'] / test['tamviv']\n",
    "test['rooms-per-capita'] = test['rooms'] / test['tamviv']\n",
    "test['rent-per-capita'] = test['v2a1'] / test['tamviv']"
   ]
  },
  {
   "cell_type": "markdown",
   "metadata": {
    "ExecuteTime": {
     "end_time": "2021-11-26T10:58:32.225919Z",
     "start_time": "2021-11-26T10:58:32.217919Z"
    }
   },
   "source": [
    "**Room per family features**"
   ]
  },
  {
   "cell_type": "code",
   "execution_count": 38,
   "metadata": {
    "ExecuteTime": {
     "end_time": "2021-11-26T12:03:53.172740Z",
     "start_time": "2021-11-26T12:03:53.158727Z"
    }
   },
   "outputs": [],
   "source": [
    "family_size_features = ['adult', 'hogar_adul', 'hogar_mayor', 'hogar_nin', 'hogar_total', 'r4h1', \n",
    "                        'r4h2', 'r4h3', 'r4m1', 'r4m2', 'r4m3', 'r4t1', 'r4t2', 'r4t3', 'hhsize']\n",
    "new_feats = []\n",
    "for col in family_size_features:\n",
    "    new_col_name = 'new_{}_per{}'.format('v2a1', col)\n",
    "    new_feats.append(new_col_name)\n",
    "    train[new_col_name] = train['v2a1'] / train[col]\n",
    "    test[new_col_name] = test['v2a1'] / test[col]"
   ]
  },
  {
   "cell_type": "markdown",
   "metadata": {},
   "source": [
    "비율 feature은 무한의 값을 가질 수 있는데, 이런 값들은 `NaN`으로 만든 뒤, 0으로 채워질 수 있도록 한다."
   ]
  },
  {
   "cell_type": "code",
   "execution_count": 39,
   "metadata": {
    "ExecuteTime": {
     "end_time": "2021-11-26T12:03:53.187754Z",
     "start_time": "2021-11-26T12:03:53.173741Z"
    }
   },
   "outputs": [],
   "source": [
    "for col in new_feats:\n",
    "    train[col].replace([np.inf], np.nan, inplace=True)\n",
    "    train[col].fillna(0, inplace=True)\n",
    "    test[col].replace([np.inf], np.nan, inplace=True)\n",
    "    test[col].fillna(0, inplace=True)"
   ]
  },
  {
   "cell_type": "markdown",
   "metadata": {},
   "source": [
    "**Room per family features**"
   ]
  },
  {
   "cell_type": "code",
   "execution_count": 40,
   "metadata": {
    "ExecuteTime": {
     "end_time": "2021-11-26T12:03:53.202767Z",
     "start_time": "2021-11-26T12:03:53.188755Z"
    }
   },
   "outputs": [],
   "source": [
    "new_feats = []\n",
    "for col in family_size_features:\n",
    "    new_col_name = 'new_{}_per_{}'.format('rooms', col)\n",
    "    new_feats.append(new_col_name)\n",
    "    train[new_col_name] = train['rooms'] / train[col]\n",
    "    test[new_col_name] = test['rooms'] / test[col]"
   ]
  },
  {
   "cell_type": "code",
   "execution_count": 41,
   "metadata": {
    "ExecuteTime": {
     "end_time": "2021-11-26T12:03:53.218782Z",
     "start_time": "2021-11-26T12:03:53.203768Z"
    }
   },
   "outputs": [],
   "source": [
    "for col in new_feats:\n",
    "    train[col].replace([np.inf], np.nan, inplace=True)\n",
    "    train[col].fillna(0, inplace=True)\n",
    "    test[col].replace([np.inf], np.nan, inplace=True)\n",
    "    test[col].fillna(0, inplace=True)"
   ]
  },
  {
   "cell_type": "markdown",
   "metadata": {},
   "source": [
    "**Bedroom per family features**"
   ]
  },
  {
   "cell_type": "code",
   "execution_count": 42,
   "metadata": {
    "ExecuteTime": {
     "end_time": "2021-11-26T12:03:53.233799Z",
     "start_time": "2021-11-26T12:03:53.218782Z"
    }
   },
   "outputs": [],
   "source": [
    "new_feats = []\n",
    "for col in family_size_features:\n",
    "    new_col_name = 'new_{}_per_{}'.format('bedrooms', col)\n",
    "    new_feats.append(new_col_name)\n",
    "    train[new_col_name] = train['bedrooms'] / train[col]\n",
    "    test[new_col_name] = test['bedrooms'] / test[col]"
   ]
  },
  {
   "cell_type": "code",
   "execution_count": 43,
   "metadata": {
    "ExecuteTime": {
     "end_time": "2021-11-26T12:03:53.249813Z",
     "start_time": "2021-11-26T12:03:53.233799Z"
    }
   },
   "outputs": [],
   "source": [
    "for col in new_feats:\n",
    "    train[col].replace([np.inf], np.nan, inplace=True)\n",
    "    train[col].fillna(0, inplace=True)\n",
    "    test[col].replace([np.inf], np.nan, inplace=True)\n",
    "    test[col].fillna(0, inplace=True)"
   ]
  },
  {
   "cell_type": "markdown",
   "metadata": {
    "ExecuteTime": {
     "end_time": "2021-11-26T11:11:30.444256Z",
     "start_time": "2021-11-26T11:11:30.438251Z"
    }
   },
   "source": [
    "**Tablet per family features**"
   ]
  },
  {
   "cell_type": "code",
   "execution_count": 44,
   "metadata": {
    "ExecuteTime": {
     "end_time": "2021-11-26T12:03:53.280841Z",
     "start_time": "2021-11-26T12:03:53.250814Z"
    }
   },
   "outputs": [],
   "source": [
    "new_feats = []\n",
    "for col in family_size_features:\n",
    "    new_col_name = 'new_{}_per_{}'.format('v18q1', col)\n",
    "    new_feats.append(new_col_name)\n",
    "    train[new_col_name] = train['v18q1'] / train[col]\n",
    "    test[new_col_name] = test['v18q1'] / test[col]\n",
    "\n",
    "for col in new_feats:\n",
    "    train[col].replace([np.inf], np.nan, inplace=True)\n",
    "    train[col].fillna(0, inplace=True)\n",
    "    \n",
    "    test[col].replace([np.inf], np.nan, inplace=True)\n",
    "    test[col].fillna(0, inplace=True)"
   ]
  },
  {
   "cell_type": "markdown",
   "metadata": {},
   "source": [
    "**Phone per family features**"
   ]
  },
  {
   "cell_type": "code",
   "execution_count": 45,
   "metadata": {
    "ExecuteTime": {
     "end_time": "2021-11-26T12:03:53.312871Z",
     "start_time": "2021-11-26T12:03:53.281843Z"
    }
   },
   "outputs": [],
   "source": [
    "new_feats = []\n",
    "for col in family_size_features:\n",
    "    new_col_name = 'new_{}_per_{}'.format('qmobilephone', col)\n",
    "    new_feats.append(new_col_name)\n",
    "    train[new_col_name] = train['qmobilephone'] / train[col]\n",
    "    test[new_col_name] = test['qmobilephone'] / test[col]\n",
    "\n",
    "for col in new_feats:\n",
    "    train[col].replace([np.inf], np.nan, inplace=True)\n",
    "    train[col].fillna(0, inplace=True)\n",
    "    \n",
    "    test[col].replace([np.inf], np.nan, inplace=True)\n",
    "    test[col].fillna(0, inplace=True)"
   ]
  },
  {
   "cell_type": "markdown",
   "metadata": {},
   "source": [
    "**Years behind in school per family features**"
   ]
  },
  {
   "cell_type": "code",
   "execution_count": 46,
   "metadata": {
    "ExecuteTime": {
     "end_time": "2021-11-26T12:03:53.344900Z",
     "start_time": "2021-11-26T12:03:53.313872Z"
    }
   },
   "outputs": [],
   "source": [
    "new_feats = []\n",
    "for col in family_size_features:\n",
    "    new_col_name = 'new_{}_per_{}'.format('rez_esc', col)\n",
    "    new_feats.append(new_col_name)\n",
    "    train[new_col_name] = train['rez_esc'] / train[col]\n",
    "    test[new_col_name] = test['rez_esc'] / test[col]\n",
    "\n",
    "for col in new_feats:\n",
    "    train[col].replace([np.inf], np.nan, inplace=True)\n",
    "    train[col].fillna(0, inplace=True)\n",
    "    \n",
    "    test[col].replace([np.inf], np.nan, inplace=True)\n",
    "    test[col].fillna(0, inplace=True)"
   ]
  },
  {
   "cell_type": "code",
   "execution_count": 47,
   "metadata": {
    "ExecuteTime": {
     "end_time": "2021-11-26T12:03:53.360925Z",
     "start_time": "2021-11-26T12:03:53.345901Z"
    }
   },
   "outputs": [],
   "source": [
    "train['rez_esc_age'] = train['rez_esc'] / train['age']\n",
    "train['rez_esc_escolari'] = train['rez_esc'] / train['escolari']\n",
    "\n",
    "test['rez_esc_age'] = test['rez_esc'] / test['age']\n",
    "test['rez_esc_escolari'] = test['rez_esc'] / test['escolari']"
   ]
  },
  {
   "cell_type": "markdown",
   "metadata": {},
   "source": [
    "**Rich features**\n",
    "- 부자일 수록 더 많은 휴대전화와 태블릿을 소유할 것이다"
   ]
  },
  {
   "cell_type": "code",
   "execution_count": 48,
   "metadata": {
    "ExecuteTime": {
     "end_time": "2021-11-26T12:03:53.376935Z",
     "start_time": "2021-11-26T12:03:53.361926Z"
    }
   },
   "outputs": [],
   "source": [
    "train['tablet_x_qmobilephone'] = train['v18q1'] * train['qmobilephone']\n",
    "test['tablet_x_qmobilephone'] = test['v18q1'] * test['qmobilephone']"
   ]
  },
  {
   "cell_type": "markdown",
   "metadata": {},
   "source": [
    "- wall, roof, floor\n",
    "    - `epared1` : =1 if walls are bad\n",
    "    - `epared2` : =2 if walls are regular\n",
    "    - `epared3` : =3 if walls are good\n",
    "    - `etecho1` : =1 if the roof are bad\n",
    "    - `etecho2` : =2 if the roof are regular\n",
    "    - `etecho3` : =3 if the roof are good\n",
    "    - `eviv1` : =1 if the floor are bad\n",
    "    - `eviv2` : =2 if the floor are regular\n",
    "    - `eviv3` : =3 if the floor are good"
   ]
  },
  {
   "cell_type": "code",
   "execution_count": 49,
   "metadata": {
    "ExecuteTime": {
     "end_time": "2021-11-26T12:03:53.408964Z",
     "start_time": "2021-11-26T12:03:53.377935Z"
    }
   },
   "outputs": [],
   "source": [
    "# Wall and roof\n",
    "for col1 in ['epared1', 'epared2', 'epared3']:\n",
    "    for col2 in ['etecho1', 'etecho2', 'etecho3']:\n",
    "        new_col_name = 'new_{}_x_{}'.format(col1, col2)\n",
    "        train[new_col_name] = train[col1] * train[col2]\n",
    "        test[new_col_name] = test[col1] * test[col2]\n",
    "\n",
    "# Wall and floor\n",
    "for col1 in ['epared1', 'epared2', 'epared3']:\n",
    "    for col2 in ['eviv1', 'eviv2', 'eviv3']:\n",
    "        new_col_name = 'new_{}_x_{}'.format(col1, col2)\n",
    "        train[new_col_name] = train[col1] * train[col2]\n",
    "        test[new_col_name] = test[col1] * test[col2]\n",
    "\n",
    "# Roof and floor\n",
    "for col1 in ['etecho1', 'etecho2', 'etecho3']:\n",
    "    for col2 in ['eviv1', 'eviv2', 'eviv3']:\n",
    "        new_col_name = 'new_{}_x_{}'.format(col1, col2)\n",
    "        train[new_col_name] = train[col1] * train[col2]\n",
    "        test[new_col_name] = test[col1] * test[col2]"
   ]
  },
  {
   "cell_type": "code",
   "execution_count": 50,
   "metadata": {
    "ExecuteTime": {
     "end_time": "2021-11-26T12:03:53.440993Z",
     "start_time": "2021-11-26T12:03:53.409965Z"
    }
   },
   "outputs": [],
   "source": [
    "for col1 in ['epared1', 'epared2', 'epared3']:\n",
    "    for col2 in ['etecho1', 'etecho2', 'etecho3']:\n",
    "        for col3 in ['eviv1', 'eviv2', 'eviv3']:\n",
    "            new_col_name = 'new_{}_x_{}_x_{}'.format(col1, col2, col3)\n",
    "            train[new_col_name] = train[col1] * train[col2] * train[col3]\n",
    "            test[new_col_name] = test[col1] * test[col2] * test[col3]"
   ]
  },
  {
   "cell_type": "markdown",
   "metadata": {},
   "source": [
    "- 전기, 에너지 feature를 에너지 feature로 합치기"
   ]
  },
  {
   "cell_type": "code",
   "execution_count": 51,
   "metadata": {
    "ExecuteTime": {
     "end_time": "2021-11-26T12:03:53.457008Z",
     "start_time": "2021-11-26T12:03:53.440993Z"
    }
   },
   "outputs": [],
   "source": [
    "for col1 in ['public', 'planpri', 'noelec', 'coopele']:\n",
    "    for col2 in ['energcocinar1', 'energcocinar2', 'energcocinar3', 'energcocinar4']:\n",
    "        new_col_name = 'new_{}_x_{}'.format(col1, col2)\n",
    "        train[new_col_name] = train[col1] * train[col2]\n",
    "        test[new_col_name] = test[col1] * test[col2]"
   ]
  },
  {
   "cell_type": "markdown",
   "metadata": {},
   "source": [
    "- 화장실, 쓰레기 처리 feature를 기타 인프라 feature로 합치기"
   ]
  },
  {
   "cell_type": "code",
   "execution_count": 52,
   "metadata": {
    "ExecuteTime": {
     "end_time": "2021-11-26T12:03:53.489036Z",
     "start_time": "2021-11-26T12:03:53.458008Z"
    }
   },
   "outputs": [],
   "source": [
    "for col1 in ['sanitario1', 'sanitario2', 'sanitario3', 'sanitario5', 'sanitario6']:\n",
    "    for col2 in ['elimbasu1', 'elimbasu2', 'elimbasu3', 'elimbasu4', 'elimbasu5', 'elimbasu6']:\n",
    "        new_col_name = 'new_{}_x_{}'.format(col1, col2)\n",
    "        train[new_col_name] = train[col1] * train[col2]\n",
    "        test[new_col_name] = test[col1] * test[col2]"
   ]
  },
  {
   "cell_type": "markdown",
   "metadata": {},
   "source": [
    "- 화장실, 수도 공급 feature를 water feature로 합치기"
   ]
  },
  {
   "cell_type": "code",
   "execution_count": 53,
   "metadata": {
    "ExecuteTime": {
     "end_time": "2021-11-26T12:03:53.505051Z",
     "start_time": "2021-11-26T12:03:53.490038Z"
    }
   },
   "outputs": [],
   "source": [
    "for col1 in ['abastaguadentro', 'abastaguafuera', 'abastaguano']:\n",
    "    for col2 in ['sanitario1', 'sanitario2', 'sanitario3', 'sanitario5', 'sanitario6']:\n",
    "        new_col_name = 'new_{}_x_{}'.format(col1, col2)\n",
    "        train[new_col_name] = train[col1] * train[col2]\n",
    "        test[new_col_name] = test[col1] * test[col2]"
   ]
  },
  {
   "cell_type": "markdown",
   "metadata": {
    "ExecuteTime": {
     "end_time": "2021-11-26T11:32:30.403036Z",
     "start_time": "2021-11-26T11:32:30.398032Z"
    }
   },
   "source": [
    "- 교육, 지역(area) feature를 교육 지역 feature로 합치기"
   ]
  },
  {
   "cell_type": "code",
   "execution_count": 54,
   "metadata": {
    "ExecuteTime": {
     "end_time": "2021-11-26T12:03:53.521065Z",
     "start_time": "2021-11-26T12:03:53.506052Z"
    }
   },
   "outputs": [],
   "source": [
    "for col1 in ['area1', 'area2']:\n",
    "    for col2 in ['instlevel1', 'instlevel2', 'instlevel3', 'instlevel4', 'instlevel5', 'instlevel6', 'instlevel7', 'instlevel8', 'instlevel9']:\n",
    "        new_col_name = 'new_{}_x_{}'.format(col1, col2)\n",
    "        train[new_col_name] = train[col1] * train[col2]\n",
    "        test[new_col_name] = test[col1] * test[col2]"
   ]
  },
  {
   "cell_type": "markdown",
   "metadata": {},
   "source": [
    "- 구역(region), 교육 feature를 합치기"
   ]
  },
  {
   "cell_type": "code",
   "execution_count": 55,
   "metadata": {
    "ExecuteTime": {
     "end_time": "2021-11-26T12:03:53.569110Z",
     "start_time": "2021-11-26T12:03:53.522067Z"
    }
   },
   "outputs": [],
   "source": [
    "for col1 in ['lugar1', 'lugar2', 'lugar3', 'lugar4', 'lugar5', 'lugar6']:\n",
    "    for col2 in ['instlevel1', 'instlevel2', 'instlevel3', 'instlevel4', 'instlevel5', 'instlevel6', 'instlevel7', 'instlevel8', 'instlevel9']:\n",
    "        new_col_name = 'new_{}_x_{}'.format(col1, col2)\n",
    "        train[new_col_name] = train[col1] * train[col2]\n",
    "        test[new_col_name] = test[col1] * test[col2]"
   ]
  },
  {
   "cell_type": "markdown",
   "metadata": {},
   "source": [
    "- 텔레비전, 휴대전화, 컴퓨터, 태블릿, 냉장고 feature를 전자제품 feature로 합치기"
   ]
  },
  {
   "cell_type": "code",
   "execution_count": 56,
   "metadata": {
    "ExecuteTime": {
     "end_time": "2021-11-26T12:03:53.584706Z",
     "start_time": "2021-11-26T12:03:53.570110Z"
    }
   },
   "outputs": [],
   "source": [
    "train['electronics'] = train['computer'] * train['mobilephone'] * train['television'] * train['v18q'] * train['refrig']\n",
    "test['electronics'] = test['computer'] * test['mobilephone'] * test['television'] * test['v18q'] * test['refrig']\n",
    "\n",
    "train['no_appliances'] = train['refrig'] + train['computer'] + train['television'] + train['mobilephone']\n",
    "test['no_appliances'] = test['refrig'] + test['computer'] + test['television'] + test['mobilephone']"
   ]
  },
  {
   "cell_type": "markdown",
   "metadata": {},
   "source": [
    "- roof, floor, wall의 재료 feature들 합치기"
   ]
  },
  {
   "cell_type": "code",
   "execution_count": 57,
   "metadata": {
    "ExecuteTime": {
     "end_time": "2021-11-26T12:03:53.824913Z",
     "start_time": "2021-11-26T12:03:53.585707Z"
    }
   },
   "outputs": [],
   "source": [
    "for col1 in ['paredblolad', 'paredzocalo', 'paredpreb', 'pareddes', 'paredmad', 'paredzinc', 'paredfibras', 'paredother']:\n",
    "    for col2 in ['pisomoscer', 'pisocemento', 'pisoother', 'pisonatur', 'pisonotiene', 'pisomadera']:\n",
    "        new_col_name = 'new_{}_x_{}'.format(col1, col2)\n",
    "        train[new_col_name] = train[col1] * train[col2]\n",
    "        test[new_col_name] = test[col1] * test[col2]\n",
    "\n",
    "for col1 in ['pisomoscer', 'pisocemento', 'pisoother', 'pisonatur', 'pisonotiene', 'pisomadera']:\n",
    "    for col1 in ['techozinc', 'techoentrepiso', 'techocane', 'techootro']:\n",
    "        new_col_name = 'new_{}_x_{}'.format(col1, col2)\n",
    "        train[new_col_name] = train[col1] * train[col2]\n",
    "        test[new_col_name] = test[col1] * test[col2]\n",
    "        \n",
    "for col1 in ['paredblolad', 'paredzocalo', 'paredpreb', 'pareddes', 'paredmad', 'paredzinc', 'paredfibras', 'paredother']:\n",
    "    for col2 in ['techozinc', 'techoentrepiso', 'techocane', 'techootro']:\n",
    "        new_col_name = 'new_{}_x_{}'.format(col1, col2)\n",
    "        train[new_col_name] = train[col1] * train[col2]\n",
    "        test[new_col_name] = test[col1] * test[col2]        \n",
    "        \n",
    "for col1 in ['paredblolad', 'paredzocalo', 'paredpreb', 'pareddes', 'paredmad', 'paredzinc', 'paredfibras', 'paredother']:\n",
    "    for col2 in ['pisomoscer', 'pisocemento', 'pisoother', 'pisonatur', 'pisonotiene', 'pisomadera']:\n",
    "        for col3 in ['techozinc', 'techoentrepiso', 'techocane', 'techootro']:\n",
    "            new_col_name = 'new_{}_x_{}_x_{}'.format(col1, col2, col3)\n",
    "            train[new_col_name] = train[col1] * train[col2] * train[col3]\n",
    "            test[new_col_name] = test[col1] * test[col2] * train[col3]"
   ]
  },
  {
   "cell_type": "markdown",
   "metadata": {
    "ExecuteTime": {
     "end_time": "2021-11-26T11:40:25.724943Z",
     "start_time": "2021-11-26T11:40:25.715935Z"
    }
   },
   "source": [
    "## 하나의 값만 가지고 있는 feature들 삭제"
   ]
  },
  {
   "cell_type": "code",
   "execution_count": 58,
   "metadata": {
    "ExecuteTime": {
     "end_time": "2021-11-26T12:03:54.144945Z",
     "start_time": "2021-11-26T12:03:53.825914Z"
    }
   },
   "outputs": [],
   "source": [
    "cols_with_only_one_values = []\n",
    "for col in train.columns:\n",
    "    if col == 'Target':\n",
    "        continue\n",
    "    if train[col].value_counts().shape[0] == 1 or test[col].value_counts().shape[0] == 1:\n",
    "        #print(col)\n",
    "        cols_with_only_one_values.append(col)"
   ]
  },
  {
   "cell_type": "code",
   "execution_count": 59,
   "metadata": {
    "ExecuteTime": {
     "end_time": "2021-11-26T12:03:54.160940Z",
     "start_time": "2021-11-26T12:03:54.145947Z"
    }
   },
   "outputs": [
    {
     "data": {
      "text/plain": [
       "217"
      ]
     },
     "execution_count": 59,
     "metadata": {},
     "output_type": "execute_result"
    }
   ],
   "source": [
    "len(cols_with_only_one_values)"
   ]
  },
  {
   "cell_type": "code",
   "execution_count": 60,
   "metadata": {
    "ExecuteTime": {
     "end_time": "2021-11-26T12:03:54.304534Z",
     "start_time": "2021-11-26T12:03:54.160940Z"
    }
   },
   "outputs": [],
   "source": [
    "train.drop(cols_with_only_one_values, axis=1, inplace=True)\n",
    "test.drop(cols_with_only_one_values, axis=1, inplace=True)"
   ]
  },
  {
   "cell_type": "markdown",
   "metadata": {},
   "source": [
    "Train set과 test set이 같은 feature들을 가지고 있는지 확인한다."
   ]
  },
  {
   "cell_type": "code",
   "execution_count": 61,
   "metadata": {
    "ExecuteTime": {
     "end_time": "2021-11-26T12:03:54.320144Z",
     "start_time": "2021-11-26T12:03:54.305536Z"
    }
   },
   "outputs": [
    {
     "data": {
      "text/plain": [
       "True"
      ]
     },
     "execution_count": 61,
     "metadata": {},
     "output_type": "execute_result"
    }
   ],
   "source": [
    "[col for col in train.columns if col != 'Target'] == [col for col in test.columns]"
   ]
  },
  {
   "cell_type": "markdown",
   "metadata": {},
   "source": [
    "## `idhogar`를 기준으로 변수 집계하기"
   ]
  },
  {
   "cell_type": "code",
   "execution_count": 62,
   "metadata": {
    "ExecuteTime": {
     "end_time": "2021-11-26T12:03:54.335159Z",
     "start_time": "2021-11-26T12:03:54.321146Z"
    }
   },
   "outputs": [],
   "source": [
    "def max_min(x):\n",
    "    return x.max() - x.min()"
   ]
  },
  {
   "cell_type": "code",
   "execution_count": 63,
   "metadata": {
    "ExecuteTime": {
     "end_time": "2021-11-26T12:04:01.006844Z",
     "start_time": "2021-11-26T12:03:54.336162Z"
    }
   },
   "outputs": [
    {
     "name": "stderr",
     "output_type": "stream",
     "text": [
      "100%|██████████| 15/15 [00:06<00:00,  2.25it/s]"
     ]
    },
    {
     "name": "stdout",
     "output_type": "stream",
     "text": [
      "new aggregate train set has 2988 rows, and 105 features\n",
      "new aggregate test set has 7352 rows, and 105 features\n"
     ]
    },
    {
     "name": "stderr",
     "output_type": "stream",
     "text": [
      "\n"
     ]
    }
   ],
   "source": [
    "agg_train = pd.DataFrame()\n",
    "agg_test = pd.DataFrame()\n",
    "\n",
    "for item in tqdm(family_size_features):\n",
    "    for i, function in enumerate(['mean', 'std', 'min', 'max', 'sum', 'count', max_min]):\n",
    "        group_train = train[item].groupby(train['idhogar']).agg(function)\n",
    "        group_test = test[item].groupby(test['idhogar']).agg(function)\n",
    "        if i == 6:\n",
    "            new_col = item + '_new_' + 'max_min'\n",
    "        else:\n",
    "            new_col = item + '_new_' + function\n",
    "        agg_train[new_col] = group_train\n",
    "        agg_test[new_col] = group_test\n",
    "\n",
    "\n",
    "print('new aggregate train set has {} rows, and {} features'.format(agg_train.shape[0], agg_train.shape[1]))\n",
    "print('new aggregate test set has {} rows, and {} features'.format(agg_test.shape[0], agg_test.shape[1]))"
   ]
  },
  {
   "cell_type": "code",
   "execution_count": 64,
   "metadata": {
    "ExecuteTime": {
     "end_time": "2021-11-26T12:04:01.534344Z",
     "start_time": "2021-11-26T12:04:01.007844Z"
    }
   },
   "outputs": [
    {
     "name": "stderr",
     "output_type": "stream",
     "text": [
      "100%|██████████| 47/47 [00:00<00:00, 91.35it/s]"
     ]
    },
    {
     "name": "stdout",
     "output_type": "stream",
     "text": [
      "new aggregate train set has 2988 rows, and 199 features\n",
      "new aggregate test set has 7352 rows, and 199 features\n"
     ]
    },
    {
     "name": "stderr",
     "output_type": "stream",
     "text": [
      "\n"
     ]
    }
   ],
   "source": [
    "aggr_list = ['rez_esc', 'dis', 'male', 'female', \n",
    "                  'estadocivil1', 'estadocivil2', 'estadocivil3', 'estadocivil4', 'estadocivil5', 'estadocivil6', 'estadocivil7', \n",
    "                  'parentesco2', 'parentesco3', 'parentesco4', 'parentesco5', 'parentesco6', 'parentesco7', 'parentesco8', 'parentesco9', 'parentesco10', \n",
    "                  'parentesco11', 'parentesco12',\n",
    "                  'instlevel1', 'instlevel2', 'instlevel3', 'instlevel4', 'instlevel5', 'instlevel6', 'instlevel7', 'instlevel8', 'instlevel9',\n",
    "                 'epared1', 'epared2', 'epared3', 'etecho1', 'etecho2', 'etecho3', 'eviv1', 'eviv2', 'eviv3', 'refrig', 'television', 'mobilephone',\n",
    "            'area1', 'area2', 'v18q', 'edjef']\n",
    "\n",
    "\n",
    "for item in tqdm(aggr_list):\n",
    "    for function in ['count', 'sum']:\n",
    "        group_train = train[item].groupby(train['idhogar']).agg(function)\n",
    "        group_test = test[item].groupby(test['idhogar']).agg(function)\n",
    "        new_col = item + '_new1_' + function\n",
    "        agg_train[new_col] = group_train\n",
    "        agg_test[new_col] = group_test\n",
    "\n",
    "print('new aggregate train set has {} rows, and {} features'.format(agg_train.shape[0], agg_train.shape[1]))\n",
    "print('new aggregate test set has {} rows, and {} features'.format(agg_test.shape[0], agg_test.shape[1]))"
   ]
  },
  {
   "cell_type": "code",
   "execution_count": 65,
   "metadata": {
    "ExecuteTime": {
     "end_time": "2021-11-26T12:04:05.841258Z",
     "start_time": "2021-11-26T12:04:01.535344Z"
    }
   },
   "outputs": [
    {
     "name": "stderr",
     "output_type": "stream",
     "text": [
      "100%|██████████| 9/9 [00:04<00:00,  2.10it/s]"
     ]
    },
    {
     "name": "stdout",
     "output_type": "stream",
     "text": [
      "new aggregate train set has 2988 rows, and 208 features\n",
      "new aggregate test set has 7352 rows, and 208 features\n"
     ]
    },
    {
     "name": "stderr",
     "output_type": "stream",
     "text": [
      "\n"
     ]
    }
   ],
   "source": [
    "aggr_list = ['escolari', 'age', 'escolari_age', 'dependency', 'bedrooms', 'overcrowding', 'rooms', 'qmobilephone', 'v18q1']\n",
    "\n",
    "for item in tqdm(aggr_list):\n",
    "    for function in ['mean','std','min','max','sum', 'count', max_min]:\n",
    "        group_train = train[item].groupby(train['idhogar']).agg(function)\n",
    "        group_test = test[item].groupby(test['idhogar']).agg(function)\n",
    "        if i == 6:\n",
    "            new_col = item + '_new2_' + 'max_min'\n",
    "        else:\n",
    "            new_col = item + '_new2_' + function\n",
    "        agg_train[new_col] = group_train\n",
    "        agg_test[new_col] = group_test\n",
    "\n",
    "print('new aggregate train set has {} rows, and {} features'.format(agg_train.shape[0], agg_train.shape[1]))\n",
    "print('new aggregate test set has {} rows, and {} features'.format(agg_test.shape[0], agg_test.shape[1]))"
   ]
  },
  {
   "cell_type": "code",
   "execution_count": 66,
   "metadata": {
    "ExecuteTime": {
     "end_time": "2021-11-26T12:04:06.894226Z",
     "start_time": "2021-11-26T12:04:05.842259Z"
    }
   },
   "outputs": [
    {
     "name": "stdout",
     "output_type": "stream",
     "text": [
      "train shape: (9557, 724) test shape: (23856, 723)\n"
     ]
    }
   ],
   "source": [
    "agg_train = agg_train.reset_index()\n",
    "agg_test = agg_test.reset_index()\n",
    "\n",
    "train_agg = pd.merge(train, agg_train, on='idhogar')\n",
    "test = pd.merge(test, agg_test, on='idhogar')\n",
    "\n",
    "#fill all na as 0\n",
    "train_agg.fillna(0, inplace=True)\n",
    "test.fillna(0, inplace=True)\n",
    "\n",
    "print('train shape:', train_agg.shape, 'test shape:', test.shape)"
   ]
  },
  {
   "cell_type": "code",
   "execution_count": 67,
   "metadata": {
    "ExecuteTime": {
     "end_time": "2021-11-26T12:04:57.271179Z",
     "start_time": "2021-11-26T12:04:45.220418Z"
    }
   },
   "outputs": [
    {
     "name": "stdout",
     "output_type": "stream",
     "text": [
      "train shape: (9557, 1006) test shape: (23856, 1005)\n"
     ]
    }
   ],
   "source": [
    "aggr_list = ['rez_esc', 'dis', 'male', 'female', \n",
    "                  'estadocivil1', 'estadocivil2', 'estadocivil3', 'estadocivil4', 'estadocivil5', 'estadocivil6', 'estadocivil7', \n",
    "                  'parentesco2', 'parentesco3', 'parentesco4', 'parentesco5', 'parentesco6', 'parentesco7', 'parentesco8', 'parentesco9', 'parentesco10', \n",
    "                  'parentesco11', 'parentesco12',\n",
    "                  'instlevel1', 'instlevel2', 'instlevel3', 'instlevel4', 'instlevel5', 'instlevel6', 'instlevel7', 'instlevel8', 'instlevel9',\n",
    "                 'epared1', 'epared2', 'epared3', 'etecho1', 'etecho2', 'etecho3', 'eviv1', 'eviv2', 'eviv3', 'refrig', 'television', 'mobilephone',\n",
    "            'area1', 'area2', 'v18q', 'edjef']\n",
    "    \n",
    "for lugar in ['lugar1', 'lugar2', 'lugar3', 'lugar4', 'lugar5', 'lugar6']:\n",
    "    group_train = train[[lugar, 'idhogar'] + aggr_list].groupby([lugar, 'idhogar']).sum().reset_index()\n",
    "    group_train.columns = [lugar, 'idhogar'] + ['new3_{}_idhogar_{}'.format(lugar, col) for col in group_train][2:]\n",
    "\n",
    "    group_test = test[[lugar, 'idhogar'] + aggr_list].groupby([lugar, 'idhogar']).sum().reset_index()\n",
    "    group_test.columns = [lugar, 'idhogar'] + ['new3_{}_idhogar_{}'.format(lugar, col) for col in group_test][2:]\n",
    "\n",
    "    train_agg = pd.merge(train_agg, group_train, on=[lugar, 'idhogar'])\n",
    "    test = pd.merge(test, group_test, on=[lugar, 'idhogar'])\n",
    "    \n",
    "print('train shape:', train_agg.shape, 'test shape:', test.shape)"
   ]
  },
  {
   "cell_type": "code",
   "execution_count": 68,
   "metadata": {
    "ExecuteTime": {
     "end_time": "2021-11-26T12:06:26.226808Z",
     "start_time": "2021-11-26T12:06:07.484308Z"
    }
   },
   "outputs": [
    {
     "name": "stdout",
     "output_type": "stream",
     "text": [
      "train shape: (9557, 1288) test shape: (23856, 1287)\n"
     ]
    }
   ],
   "source": [
    "aggr_list = ['rez_esc', 'dis', 'male', 'female', \n",
    "                  'estadocivil1', 'estadocivil2', 'estadocivil3', 'estadocivil4', 'estadocivil5', 'estadocivil6', 'estadocivil7', \n",
    "                  'parentesco2', 'parentesco3', 'parentesco4', 'parentesco5', 'parentesco6', 'parentesco7', 'parentesco8', 'parentesco9', 'parentesco10', \n",
    "                  'parentesco11', 'parentesco12',\n",
    "                  'instlevel1', 'instlevel2', 'instlevel3', 'instlevel4', 'instlevel5', 'instlevel6', 'instlevel7', 'instlevel8', 'instlevel9',\n",
    "                 'epared1', 'epared2', 'epared3', 'etecho1', 'etecho2', 'etecho3', 'eviv1', 'eviv2', 'eviv3', 'refrig', 'television', 'mobilephone',\n",
    "            'area1', 'area2', 'v18q', 'edjef']\n",
    "    \n",
    "for lugar in ['lugar1', 'lugar2', 'lugar3', 'lugar4', 'lugar5', 'lugar6']:\n",
    "    group_train = train[[lugar, 'idhogar'] + aggr_list].groupby([lugar, 'idhogar']).sum().reset_index()\n",
    "    group_train.columns = [lugar, 'idhogar'] + ['new4_{}_idhogar_{}'.format(lugar, col) for col in group_train][2:]\n",
    "\n",
    "    group_test = test[[lugar, 'idhogar'] + aggr_list].groupby([lugar, 'idhogar']).sum().reset_index()\n",
    "    group_test.columns = [lugar, 'idhogar'] + ['new4_{}_idhogar_{}'.format(lugar, col) for col in group_test][2:]\n",
    "\n",
    "    train_agg = pd.merge(train_agg, group_train, on=[lugar, 'idhogar'])\n",
    "    test = pd.merge(test, group_test, on=[lugar, 'idhogar'])\n",
    "    \n",
    "print('train shape:', train_agg.shape, 'test shape:', test.shape)"
   ]
  },
  {
   "cell_type": "code",
   "execution_count": 69,
   "metadata": {
    "ExecuteTime": {
     "end_time": "2021-11-26T12:13:52.852648Z",
     "start_time": "2021-11-26T12:06:33.634827Z"
    }
   },
   "outputs": [
    {
     "name": "stderr",
     "output_type": "stream",
     "text": [
      "100%|██████████| 7/7 [07:19<00:00, 62.74s/it]"
     ]
    },
    {
     "name": "stdout",
     "output_type": "stream",
     "text": [
      "train shape: (9557, 3262) test shape: (23856, 3261)\n"
     ]
    },
    {
     "name": "stderr",
     "output_type": "stream",
     "text": [
      "\n"
     ]
    }
   ],
   "source": [
    "cols_nums = ['age', 'meaneduc', 'dependency', \n",
    "             'hogar_nin', 'hogar_adul', 'hogar_mayor', 'hogar_total',\n",
    "             'bedrooms', 'overcrowding']\n",
    "\n",
    "for function in tqdm(['mean','std','min','max','sum', 'count', max_min]):\n",
    "    for lugar in ['lugar1', 'lugar2', 'lugar3', 'lugar4', 'lugar5', 'lugar6']:\n",
    "        group_train = train[[lugar, 'idhogar'] + aggr_list].groupby([lugar, 'idhogar']).agg(function).reset_index()\n",
    "        group_train.columns = [lugar, 'idhogar'] + ['new5_{}_idhogar_{}_{}'.format(lugar, col, function) for col in group_train][2:]\n",
    "\n",
    "        group_test = test[[lugar, 'idhogar'] + aggr_list].groupby([lugar, 'idhogar']).agg(function).reset_index()\n",
    "        group_test.columns = [lugar, 'idhogar'] + ['new5_{}_idhogar_{}_{}'.format(lugar, col, function) for col in group_test][2:]\n",
    "\n",
    "        train_agg = pd.merge(train_agg, group_train, on=[lugar, 'idhogar'])\n",
    "        test = pd.merge(test, group_test, on=[lugar, 'idhogar'])\n",
    "        \n",
    "print('train shape:', train_agg.shape, 'test shape:', test.shape)"
   ]
  },
  {
   "cell_type": "code",
   "execution_count": 71,
   "metadata": {
    "ExecuteTime": {
     "end_time": "2021-11-26T12:14:15.856365Z",
     "start_time": "2021-11-26T12:14:15.673199Z"
    }
   },
   "outputs": [],
   "source": [
    "train = train_agg.query('parentesco1==1')"
   ]
  },
  {
   "cell_type": "code",
   "execution_count": 74,
   "metadata": {
    "ExecuteTime": {
     "end_time": "2021-11-26T12:15:24.619411Z",
     "start_time": "2021-11-26T12:15:24.614407Z"
    }
   },
   "outputs": [],
   "source": [
    "train['dependency'].replace(np.inf, 0, inplace=True)\n",
    "test['dependency'].replace(np.inf, 0, inplace=True)"
   ]
  },
  {
   "cell_type": "code",
   "execution_count": 75,
   "metadata": {
    "ExecuteTime": {
     "end_time": "2021-11-26T12:16:11.906622Z",
     "start_time": "2021-11-26T12:15:35.697170Z"
    }
   },
   "outputs": [],
   "source": [
    "submission = test[['Id']]\n",
    "\n",
    "#Remove useless feature to reduce dimension\n",
    "train.drop(columns=['idhogar','Id', 'agesq', 'hogar_adul', 'SQBescolari', 'SQBage', 'SQBhogar_total', 'SQBedjefe', 'SQBhogar_nin', 'SQBovercrowding', 'SQBdependency', 'SQBmeaned'], inplace=True)\n",
    "test.drop(columns=['idhogar','Id',  'agesq', 'hogar_adul', 'SQBescolari', 'SQBage', 'SQBhogar_total', 'SQBedjefe', 'SQBhogar_nin', 'SQBovercrowding', 'SQBdependency', 'SQBmeaned'], inplace=True)\n",
    "\n",
    "correlation = train.corr()\n",
    "correlation = correlation['Target'].sort_values(ascending=False)"
   ]
  },
  {
   "cell_type": "code",
   "execution_count": 77,
   "metadata": {
    "ExecuteTime": {
     "end_time": "2021-11-26T12:17:10.087914Z",
     "start_time": "2021-11-26T12:17:10.072901Z"
    }
   },
   "outputs": [
    {
     "name": "stdout",
     "output_type": "stream",
     "text": [
      "final data size :  (2973, 3250) (23856, 3249)\n"
     ]
    }
   ],
   "source": [
    "print('final data size : ', train.shape, test.shape)"
   ]
  },
  {
   "cell_type": "code",
   "execution_count": 81,
   "metadata": {
    "ExecuteTime": {
     "end_time": "2021-11-26T12:20:08.257615Z",
     "start_time": "2021-11-26T12:20:08.254612Z"
    }
   },
   "outputs": [
    {
     "name": "stdout",
     "output_type": "stream",
     "text": [
      "The most 20 positive feature : \n",
      " Target                            1.000000\n",
      "new5_lugar3_idhogar_edjef_max     0.334254\n",
      "new5_lugar2_idhogar_edjef_max     0.334254\n",
      "new5_lugar5_idhogar_edjef_max     0.334254\n",
      "new5_lugar4_idhogar_edjef_max     0.334254\n",
      "new5_lugar6_idhogar_edjef_max     0.334254\n",
      "new5_lugar1_idhogar_edjef_max     0.334254\n",
      "new5_lugar2_idhogar_edjef_mean    0.333873\n",
      "new5_lugar4_idhogar_edjef_mean    0.333873\n",
      "new5_lugar3_idhogar_edjef_mean    0.333873\n",
      "new5_lugar1_idhogar_edjef_mean    0.333873\n",
      "new5_lugar5_idhogar_edjef_mean    0.333873\n",
      "new5_lugar6_idhogar_edjef_mean    0.333873\n",
      "new5_lugar3_idhogar_edjef_min     0.333791\n",
      "new5_lugar4_idhogar_edjef_min     0.333791\n",
      "new5_lugar5_idhogar_edjef_min     0.333791\n",
      "new5_lugar6_idhogar_edjef_min     0.333791\n",
      "edjef                             0.333791\n",
      "new5_lugar2_idhogar_edjef_min     0.333791\n",
      "new5_lugar1_idhogar_edjef_min     0.333791\n",
      "Name: Target, dtype: float64\n"
     ]
    }
   ],
   "source": [
    "print(f'The most 20 positive feature : \\n {correlation.head(20)}')"
   ]
  },
  {
   "cell_type": "code",
   "execution_count": 86,
   "metadata": {
    "ExecuteTime": {
     "end_time": "2021-11-26T12:21:37.080931Z",
     "start_time": "2021-11-26T12:21:37.070922Z"
    }
   },
   "outputs": [
    {
     "name": "stdout",
     "output_type": "stream",
     "text": [
      "The most 20 positive feature : \n",
      " new5_lugar5_idhogar_television_<function max_min at 0x000001B7004D4820>    NaN\n",
      "new5_lugar5_idhogar_mobilephone_<function max_min at 0x000001B7004D4820>   NaN\n",
      "new5_lugar5_idhogar_area1_<function max_min at 0x000001B7004D4820>         NaN\n",
      "new5_lugar5_idhogar_area2_<function max_min at 0x000001B7004D4820>         NaN\n",
      "new5_lugar5_idhogar_v18q_<function max_min at 0x000001B7004D4820>          NaN\n",
      "new5_lugar6_idhogar_epared1_<function max_min at 0x000001B7004D4820>       NaN\n",
      "new5_lugar6_idhogar_epared2_<function max_min at 0x000001B7004D4820>       NaN\n",
      "new5_lugar6_idhogar_epared3_<function max_min at 0x000001B7004D4820>       NaN\n",
      "new5_lugar6_idhogar_etecho1_<function max_min at 0x000001B7004D4820>       NaN\n",
      "new5_lugar6_idhogar_etecho2_<function max_min at 0x000001B7004D4820>       NaN\n",
      "new5_lugar6_idhogar_etecho3_<function max_min at 0x000001B7004D4820>       NaN\n",
      "new5_lugar6_idhogar_eviv1_<function max_min at 0x000001B7004D4820>         NaN\n",
      "new5_lugar6_idhogar_eviv2_<function max_min at 0x000001B7004D4820>         NaN\n",
      "new5_lugar6_idhogar_eviv3_<function max_min at 0x000001B7004D4820>         NaN\n",
      "new5_lugar6_idhogar_refrig_<function max_min at 0x000001B7004D4820>        NaN\n",
      "new5_lugar6_idhogar_television_<function max_min at 0x000001B7004D4820>    NaN\n",
      "new5_lugar6_idhogar_mobilephone_<function max_min at 0x000001B7004D4820>   NaN\n",
      "new5_lugar6_idhogar_area1_<function max_min at 0x000001B7004D4820>         NaN\n",
      "new5_lugar6_idhogar_area2_<function max_min at 0x000001B7004D4820>         NaN\n",
      "new5_lugar6_idhogar_v18q_<function max_min at 0x000001B7004D4820>          NaN\n",
      "Name: Target, dtype: float64\n"
     ]
    }
   ],
   "source": [
    "print(f'The most 20 positive feature : \\n {correlation.tail(20)}')"
   ]
  }
 ],
 "metadata": {
  "hide_input": false,
  "kernelspec": {
   "display_name": "Python 3 (ipykernel)",
   "language": "python",
   "name": "python3"
  },
  "language_info": {
   "codemirror_mode": {
    "name": "ipython",
    "version": 3
   },
   "file_extension": ".py",
   "mimetype": "text/x-python",
   "name": "python",
   "nbconvert_exporter": "python",
   "pygments_lexer": "ipython3",
   "version": "3.9.7"
  },
  "toc": {
   "base_numbering": 1,
   "nav_menu": {},
   "number_sections": true,
   "sideBar": true,
   "skip_h1_title": false,
   "title_cell": "Table of Contents",
   "title_sidebar": "Contents",
   "toc_cell": false,
   "toc_position": {},
   "toc_section_display": true,
   "toc_window_display": false
  },
  "varInspector": {
   "cols": {
    "lenName": 16,
    "lenType": 16,
    "lenVar": 40
   },
   "kernels_config": {
    "python": {
     "delete_cmd_postfix": "",
     "delete_cmd_prefix": "del ",
     "library": "var_list.py",
     "varRefreshCmd": "print(var_dic_list())"
    },
    "r": {
     "delete_cmd_postfix": ") ",
     "delete_cmd_prefix": "rm(",
     "library": "var_list.r",
     "varRefreshCmd": "cat(var_dic_list()) "
    }
   },
   "types_to_exclude": [
    "module",
    "function",
    "builtin_function_or_method",
    "instance",
    "_Feature"
   ],
   "window_display": false
  }
 },
 "nbformat": 4,
 "nbformat_minor": 1
}
