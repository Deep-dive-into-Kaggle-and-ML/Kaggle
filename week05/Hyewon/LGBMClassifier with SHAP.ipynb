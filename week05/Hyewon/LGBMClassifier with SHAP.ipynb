{
 "cells": [
  {
   "cell_type": "code",
   "execution_count": 2,
   "metadata": {
    "_cell_guid": "b1076dfc-b9ad-4769-8c92-a6c4dae69d19",
    "_uuid": "8f2839f25d086af736a60e9eeb907d3b93b6e0e5"
   },
   "outputs": [],
   "source": [
    "import pandas as pd\n",
    "import numpy as np\n",
    "\n",
    "import seaborn as sns\n",
    "import matplotlib.pyplot as plt\n",
    "\n",
    "sns.set(font_scale=2.2)\n",
    "plt.style.use('seaborn')\n",
    "\n",
    "from sklearn.preprocessing import LabelEncoder, MinMaxScaler, StandardScaler, OneHotEncoder\n",
    "from sklearn.model_selection import StratifiedKFold, train_test_split, ShuffleSplit\n",
    "from sklearn.metrics import f1_score\n",
    "import itertools\n",
    "import lightgbm as lgb\n",
    "import xgboost as xgb\n",
    "from xgboost import XGBClassifier\n",
    "import shap\n",
    "from tqdm import tqdm\n",
    "#import featuretools as ft\n",
    "import warnings \n",
    "warnings.filterwarnings('ignore')\n",
    "import time"
   ]
  },
  {
   "cell_type": "markdown",
   "metadata": {
    "_uuid": "da0c2dd917069d712ebf552c0a636d3085a8a93e"
   },
   "source": [
    "# 1. Check datasets"
   ]
  },
  {
   "cell_type": "markdown",
   "metadata": {
    "_uuid": "d62fec9476338b5bd9238d0ef0b1eede68d64172"
   },
   "source": [
    "## 1.1 Read dataset"
   ]
  },
  {
   "cell_type": "code",
   "execution_count": 3,
   "metadata": {
    "_uuid": "f7c77f102b5e10e76e3e49a6027271cb3e776b2a"
   },
   "outputs": [],
   "source": [
    "df_train = pd.read_csv('train.csv')\n",
    "df_test = pd.read_csv('test.csv')"
   ]
  },
  {
   "cell_type": "code",
   "execution_count": 4,
   "metadata": {
    "_uuid": "51c5dd9205fee608be90dc89faa6a9d7efc84a07"
   },
   "outputs": [
    {
     "name": "stdout",
     "output_type": "stream",
     "text": [
      "df_train shape: (9557, 143)    df_test shape:  (23856, 142)\n"
     ]
    }
   ],
   "source": [
    "print('df_train shape:', df_train.shape, '  ', 'df_test shape: ', df_test.shape)"
   ]
  },
  {
   "cell_type": "code",
   "execution_count": 5,
   "metadata": {
    "_uuid": "959cb5a1e6fb528e4260e9514b6c017203f5077a"
   },
   "outputs": [
    {
     "data": {
      "text/html": [
       "<div>\n",
       "<style scoped>\n",
       "    .dataframe tbody tr th:only-of-type {\n",
       "        vertical-align: middle;\n",
       "    }\n",
       "\n",
       "    .dataframe tbody tr th {\n",
       "        vertical-align: top;\n",
       "    }\n",
       "\n",
       "    .dataframe thead th {\n",
       "        text-align: right;\n",
       "    }\n",
       "</style>\n",
       "<table border=\"1\" class=\"dataframe\">\n",
       "  <thead>\n",
       "    <tr style=\"text-align: right;\">\n",
       "      <th></th>\n",
       "      <th>Id</th>\n",
       "      <th>v2a1</th>\n",
       "      <th>hacdor</th>\n",
       "      <th>rooms</th>\n",
       "      <th>hacapo</th>\n",
       "      <th>v14a</th>\n",
       "      <th>refrig</th>\n",
       "      <th>v18q</th>\n",
       "      <th>v18q1</th>\n",
       "      <th>r4h1</th>\n",
       "      <th>...</th>\n",
       "      <th>SQBescolari</th>\n",
       "      <th>SQBage</th>\n",
       "      <th>SQBhogar_total</th>\n",
       "      <th>SQBedjefe</th>\n",
       "      <th>SQBhogar_nin</th>\n",
       "      <th>SQBovercrowding</th>\n",
       "      <th>SQBdependency</th>\n",
       "      <th>SQBmeaned</th>\n",
       "      <th>agesq</th>\n",
       "      <th>Target</th>\n",
       "    </tr>\n",
       "  </thead>\n",
       "  <tbody>\n",
       "    <tr>\n",
       "      <th>0</th>\n",
       "      <td>ID_279628684</td>\n",
       "      <td>190000.0</td>\n",
       "      <td>0</td>\n",
       "      <td>3</td>\n",
       "      <td>0</td>\n",
       "      <td>1</td>\n",
       "      <td>1</td>\n",
       "      <td>0</td>\n",
       "      <td>NaN</td>\n",
       "      <td>0</td>\n",
       "      <td>...</td>\n",
       "      <td>100</td>\n",
       "      <td>1849</td>\n",
       "      <td>1</td>\n",
       "      <td>100</td>\n",
       "      <td>0</td>\n",
       "      <td>1.000000</td>\n",
       "      <td>0.0</td>\n",
       "      <td>100.0</td>\n",
       "      <td>1849</td>\n",
       "      <td>4</td>\n",
       "    </tr>\n",
       "    <tr>\n",
       "      <th>1</th>\n",
       "      <td>ID_f29eb3ddd</td>\n",
       "      <td>135000.0</td>\n",
       "      <td>0</td>\n",
       "      <td>4</td>\n",
       "      <td>0</td>\n",
       "      <td>1</td>\n",
       "      <td>1</td>\n",
       "      <td>1</td>\n",
       "      <td>1.0</td>\n",
       "      <td>0</td>\n",
       "      <td>...</td>\n",
       "      <td>144</td>\n",
       "      <td>4489</td>\n",
       "      <td>1</td>\n",
       "      <td>144</td>\n",
       "      <td>0</td>\n",
       "      <td>1.000000</td>\n",
       "      <td>64.0</td>\n",
       "      <td>144.0</td>\n",
       "      <td>4489</td>\n",
       "      <td>4</td>\n",
       "    </tr>\n",
       "    <tr>\n",
       "      <th>2</th>\n",
       "      <td>ID_68de51c94</td>\n",
       "      <td>NaN</td>\n",
       "      <td>0</td>\n",
       "      <td>8</td>\n",
       "      <td>0</td>\n",
       "      <td>1</td>\n",
       "      <td>1</td>\n",
       "      <td>0</td>\n",
       "      <td>NaN</td>\n",
       "      <td>0</td>\n",
       "      <td>...</td>\n",
       "      <td>121</td>\n",
       "      <td>8464</td>\n",
       "      <td>1</td>\n",
       "      <td>0</td>\n",
       "      <td>0</td>\n",
       "      <td>0.250000</td>\n",
       "      <td>64.0</td>\n",
       "      <td>121.0</td>\n",
       "      <td>8464</td>\n",
       "      <td>4</td>\n",
       "    </tr>\n",
       "    <tr>\n",
       "      <th>3</th>\n",
       "      <td>ID_d671db89c</td>\n",
       "      <td>180000.0</td>\n",
       "      <td>0</td>\n",
       "      <td>5</td>\n",
       "      <td>0</td>\n",
       "      <td>1</td>\n",
       "      <td>1</td>\n",
       "      <td>1</td>\n",
       "      <td>1.0</td>\n",
       "      <td>0</td>\n",
       "      <td>...</td>\n",
       "      <td>81</td>\n",
       "      <td>289</td>\n",
       "      <td>16</td>\n",
       "      <td>121</td>\n",
       "      <td>4</td>\n",
       "      <td>1.777778</td>\n",
       "      <td>1.0</td>\n",
       "      <td>121.0</td>\n",
       "      <td>289</td>\n",
       "      <td>4</td>\n",
       "    </tr>\n",
       "    <tr>\n",
       "      <th>4</th>\n",
       "      <td>ID_d56d6f5f5</td>\n",
       "      <td>180000.0</td>\n",
       "      <td>0</td>\n",
       "      <td>5</td>\n",
       "      <td>0</td>\n",
       "      <td>1</td>\n",
       "      <td>1</td>\n",
       "      <td>1</td>\n",
       "      <td>1.0</td>\n",
       "      <td>0</td>\n",
       "      <td>...</td>\n",
       "      <td>121</td>\n",
       "      <td>1369</td>\n",
       "      <td>16</td>\n",
       "      <td>121</td>\n",
       "      <td>4</td>\n",
       "      <td>1.777778</td>\n",
       "      <td>1.0</td>\n",
       "      <td>121.0</td>\n",
       "      <td>1369</td>\n",
       "      <td>4</td>\n",
       "    </tr>\n",
       "  </tbody>\n",
       "</table>\n",
       "<p>5 rows × 143 columns</p>\n",
       "</div>"
      ],
      "text/plain": [
       "             Id      v2a1  hacdor  rooms  hacapo  v14a  refrig  v18q  v18q1  \\\n",
       "0  ID_279628684  190000.0       0      3       0     1       1     0    NaN   \n",
       "1  ID_f29eb3ddd  135000.0       0      4       0     1       1     1    1.0   \n",
       "2  ID_68de51c94       NaN       0      8       0     1       1     0    NaN   \n",
       "3  ID_d671db89c  180000.0       0      5       0     1       1     1    1.0   \n",
       "4  ID_d56d6f5f5  180000.0       0      5       0     1       1     1    1.0   \n",
       "\n",
       "   r4h1  ...  SQBescolari  SQBage  SQBhogar_total  SQBedjefe  SQBhogar_nin  \\\n",
       "0     0  ...          100    1849               1        100             0   \n",
       "1     0  ...          144    4489               1        144             0   \n",
       "2     0  ...          121    8464               1          0             0   \n",
       "3     0  ...           81     289              16        121             4   \n",
       "4     0  ...          121    1369              16        121             4   \n",
       "\n",
       "   SQBovercrowding  SQBdependency  SQBmeaned  agesq  Target  \n",
       "0         1.000000            0.0      100.0   1849       4  \n",
       "1         1.000000           64.0      144.0   4489       4  \n",
       "2         0.250000           64.0      121.0   8464       4  \n",
       "3         1.777778            1.0      121.0    289       4  \n",
       "4         1.777778            1.0      121.0   1369       4  \n",
       "\n",
       "[5 rows x 143 columns]"
      ]
     },
     "execution_count": 5,
     "metadata": {},
     "output_type": "execute_result"
    }
   ],
   "source": [
    "df_train.head()"
   ]
  },
  {
   "cell_type": "code",
   "execution_count": 6,
   "metadata": {
    "_uuid": "14d4a2ed4c13b02a7be164a61443232cdfff3fb4"
   },
   "outputs": [
    {
     "data": {
      "text/html": [
       "<div>\n",
       "<style scoped>\n",
       "    .dataframe tbody tr th:only-of-type {\n",
       "        vertical-align: middle;\n",
       "    }\n",
       "\n",
       "    .dataframe tbody tr th {\n",
       "        vertical-align: top;\n",
       "    }\n",
       "\n",
       "    .dataframe thead th {\n",
       "        text-align: right;\n",
       "    }\n",
       "</style>\n",
       "<table border=\"1\" class=\"dataframe\">\n",
       "  <thead>\n",
       "    <tr style=\"text-align: right;\">\n",
       "      <th></th>\n",
       "      <th>Id</th>\n",
       "      <th>v2a1</th>\n",
       "      <th>hacdor</th>\n",
       "      <th>rooms</th>\n",
       "      <th>hacapo</th>\n",
       "      <th>v14a</th>\n",
       "      <th>refrig</th>\n",
       "      <th>v18q</th>\n",
       "      <th>v18q1</th>\n",
       "      <th>r4h1</th>\n",
       "      <th>...</th>\n",
       "      <th>age</th>\n",
       "      <th>SQBescolari</th>\n",
       "      <th>SQBage</th>\n",
       "      <th>SQBhogar_total</th>\n",
       "      <th>SQBedjefe</th>\n",
       "      <th>SQBhogar_nin</th>\n",
       "      <th>SQBovercrowding</th>\n",
       "      <th>SQBdependency</th>\n",
       "      <th>SQBmeaned</th>\n",
       "      <th>agesq</th>\n",
       "    </tr>\n",
       "  </thead>\n",
       "  <tbody>\n",
       "    <tr>\n",
       "      <th>0</th>\n",
       "      <td>ID_2f6873615</td>\n",
       "      <td>NaN</td>\n",
       "      <td>0</td>\n",
       "      <td>5</td>\n",
       "      <td>0</td>\n",
       "      <td>1</td>\n",
       "      <td>1</td>\n",
       "      <td>0</td>\n",
       "      <td>NaN</td>\n",
       "      <td>1</td>\n",
       "      <td>...</td>\n",
       "      <td>4</td>\n",
       "      <td>0</td>\n",
       "      <td>16</td>\n",
       "      <td>9</td>\n",
       "      <td>0</td>\n",
       "      <td>1</td>\n",
       "      <td>2.25</td>\n",
       "      <td>0.25</td>\n",
       "      <td>272.25</td>\n",
       "      <td>16</td>\n",
       "    </tr>\n",
       "    <tr>\n",
       "      <th>1</th>\n",
       "      <td>ID_1c78846d2</td>\n",
       "      <td>NaN</td>\n",
       "      <td>0</td>\n",
       "      <td>5</td>\n",
       "      <td>0</td>\n",
       "      <td>1</td>\n",
       "      <td>1</td>\n",
       "      <td>0</td>\n",
       "      <td>NaN</td>\n",
       "      <td>1</td>\n",
       "      <td>...</td>\n",
       "      <td>41</td>\n",
       "      <td>256</td>\n",
       "      <td>1681</td>\n",
       "      <td>9</td>\n",
       "      <td>0</td>\n",
       "      <td>1</td>\n",
       "      <td>2.25</td>\n",
       "      <td>0.25</td>\n",
       "      <td>272.25</td>\n",
       "      <td>1681</td>\n",
       "    </tr>\n",
       "    <tr>\n",
       "      <th>2</th>\n",
       "      <td>ID_e5442cf6a</td>\n",
       "      <td>NaN</td>\n",
       "      <td>0</td>\n",
       "      <td>5</td>\n",
       "      <td>0</td>\n",
       "      <td>1</td>\n",
       "      <td>1</td>\n",
       "      <td>0</td>\n",
       "      <td>NaN</td>\n",
       "      <td>1</td>\n",
       "      <td>...</td>\n",
       "      <td>41</td>\n",
       "      <td>289</td>\n",
       "      <td>1681</td>\n",
       "      <td>9</td>\n",
       "      <td>0</td>\n",
       "      <td>1</td>\n",
       "      <td>2.25</td>\n",
       "      <td>0.25</td>\n",
       "      <td>272.25</td>\n",
       "      <td>1681</td>\n",
       "    </tr>\n",
       "    <tr>\n",
       "      <th>3</th>\n",
       "      <td>ID_a8db26a79</td>\n",
       "      <td>NaN</td>\n",
       "      <td>0</td>\n",
       "      <td>14</td>\n",
       "      <td>0</td>\n",
       "      <td>1</td>\n",
       "      <td>1</td>\n",
       "      <td>1</td>\n",
       "      <td>1.0</td>\n",
       "      <td>0</td>\n",
       "      <td>...</td>\n",
       "      <td>59</td>\n",
       "      <td>256</td>\n",
       "      <td>3481</td>\n",
       "      <td>1</td>\n",
       "      <td>256</td>\n",
       "      <td>0</td>\n",
       "      <td>1.00</td>\n",
       "      <td>0.00</td>\n",
       "      <td>256.00</td>\n",
       "      <td>3481</td>\n",
       "    </tr>\n",
       "    <tr>\n",
       "      <th>4</th>\n",
       "      <td>ID_a62966799</td>\n",
       "      <td>175000.0</td>\n",
       "      <td>0</td>\n",
       "      <td>4</td>\n",
       "      <td>0</td>\n",
       "      <td>1</td>\n",
       "      <td>1</td>\n",
       "      <td>1</td>\n",
       "      <td>1.0</td>\n",
       "      <td>0</td>\n",
       "      <td>...</td>\n",
       "      <td>18</td>\n",
       "      <td>121</td>\n",
       "      <td>324</td>\n",
       "      <td>1</td>\n",
       "      <td>0</td>\n",
       "      <td>1</td>\n",
       "      <td>0.25</td>\n",
       "      <td>64.00</td>\n",
       "      <td>NaN</td>\n",
       "      <td>324</td>\n",
       "    </tr>\n",
       "  </tbody>\n",
       "</table>\n",
       "<p>5 rows × 142 columns</p>\n",
       "</div>"
      ],
      "text/plain": [
       "             Id      v2a1  hacdor  rooms  hacapo  v14a  refrig  v18q  v18q1  \\\n",
       "0  ID_2f6873615       NaN       0      5       0     1       1     0    NaN   \n",
       "1  ID_1c78846d2       NaN       0      5       0     1       1     0    NaN   \n",
       "2  ID_e5442cf6a       NaN       0      5       0     1       1     0    NaN   \n",
       "3  ID_a8db26a79       NaN       0     14       0     1       1     1    1.0   \n",
       "4  ID_a62966799  175000.0       0      4       0     1       1     1    1.0   \n",
       "\n",
       "   r4h1  ...  age  SQBescolari  SQBage  SQBhogar_total  SQBedjefe  \\\n",
       "0     1  ...    4            0      16               9          0   \n",
       "1     1  ...   41          256    1681               9          0   \n",
       "2     1  ...   41          289    1681               9          0   \n",
       "3     0  ...   59          256    3481               1        256   \n",
       "4     0  ...   18          121     324               1          0   \n",
       "\n",
       "   SQBhogar_nin  SQBovercrowding  SQBdependency  SQBmeaned  agesq  \n",
       "0             1             2.25           0.25     272.25     16  \n",
       "1             1             2.25           0.25     272.25   1681  \n",
       "2             1             2.25           0.25     272.25   1681  \n",
       "3             0             1.00           0.00     256.00   3481  \n",
       "4             1             0.25          64.00        NaN    324  \n",
       "\n",
       "[5 rows x 142 columns]"
      ]
     },
     "execution_count": 6,
     "metadata": {},
     "output_type": "execute_result"
    }
   ],
   "source": [
    "df_test.head()"
   ]
  },
  {
   "cell_type": "markdown",
   "metadata": {
    "_uuid": "e7068c40ca5ab2493cdc7379f6f7da1856a8d7d1"
   },
   "source": [
    "## 1.2 Make description df"
   ]
  },
  {
   "cell_type": "code",
   "execution_count": 7,
   "metadata": {
    "_kg_hide-input": true,
    "_uuid": "ed6d0f1837d5d8077db467067525f93c560db587"
   },
   "outputs": [],
   "source": [
    "description = [\n",
    "(\"v2a1\",\" Monthly rent payment\"),\n",
    "(\"hacdor\",\" =1 Overcrowding by bedrooms\"),\n",
    "(\"rooms\",\"  number of all rooms in the house\"),\n",
    "(\"hacapo\",\" =1 Overcrowding by rooms\"),\n",
    "(\"v14a\",\" =1 has toilet in the household\"),\n",
    "(\"refrig\",\" =1 if the household has refrigerator\"),\n",
    "(\"v18q\",\" owns a tablet\"),\n",
    "(\"v18q1\",\" number of tablets household owns\"),\n",
    "(\"r4h1\",\" Males younger than 12 years of age\"),\n",
    "(\"r4h2\",\" Males 12 years of age and older\"),\n",
    "(\"r4h3\",\" Total males in the household\"),\n",
    "(\"r4m1\",\" Females younger than 12 years of age\"),\n",
    "(\"r4m2\",\" Females 12 years of age and older\"),\n",
    "(\"r4m3\",\" Total females in the household\"),\n",
    "(\"r4t1\",\" persons younger than 12 years of age\"),\n",
    "(\"r4t2\",\" persons 12 years of age and older\"),\n",
    "(\"r4t3\",\" Total persons in the household\"),\n",
    "(\"tamhog\",\" size of the household\"),\n",
    "(\"tamviv\",\" number of persons living in the household\"),\n",
    "(\"escolari\",\" years of schooling\"),\n",
    "(\"rez_esc\",\" Years behind in school\"),\n",
    "(\"hhsize\",\" household size\"),\n",
    "(\"paredblolad\",\" =1 if predominant material on the outside wall is block or brick\"),\n",
    "(\"paredzocalo\",\" =1 if predominant material on the outside wall is socket (wood, zinc or absbesto\"),\n",
    "(\"paredpreb\",\" =1 if predominant material on the outside wall is prefabricated or cement\"),\n",
    "(\"pareddes\",\" =1 if predominant material on the outside wall is waste material\"),\n",
    "(\"paredmad\",\" =1 if predominant material on the outside wall is wood\"),\n",
    "(\"paredzinc\",\" =1 if predominant material on the outside wall is zink\"),\n",
    "(\"paredfibras\",\" =1 if predominant material on the outside wall is natural fibers\"),\n",
    "(\"paredother\",\" =1 if predominant material on the outside wall is other\"),\n",
    "(\"pisomoscer\",\" =1 if predominant material on the floor is mosaic ceramic   terrazo\"),\n",
    "(\"pisocemento\",\" =1 if predominant material on the floor is cement\"),\n",
    "(\"pisoother\",\" =1 if predominant material on the floor is other\"),\n",
    "(\"pisonatur\",\" =1 if predominant material on the floor is  natural material\"),\n",
    "(\"pisonotiene\",\" =1 if no floor at the household\"),\n",
    "(\"pisomadera\",\" =1 if predominant material on the floor is wood\"),\n",
    "(\"techozinc\",\" =1 if predominant material on the roof is metal foil or zink\"),\n",
    "(\"techoentrepiso\",\" =1 if predominant material on the roof is fiber cement,   mezzanine \"),\n",
    "(\"techocane\",\" =1 if predominant material on the roof is natural fibers\"),\n",
    "(\"techootro\",\" =1 if predominant material on the roof is other\"),\n",
    "(\"cielorazo\",\" =1 if the house has ceiling\"),\n",
    "(\"abastaguadentro\",\" =1 if water provision inside the dwelling\"),\n",
    "(\"abastaguafuera\",\" =1 if water provision outside the dwelling\"),\n",
    "(\"abastaguano\",\" =1 if no water provision\"),\n",
    "(\"public\",\" =1 electricity from CNFL,  ICE, ESPH/JASEC\"),\n",
    "(\"planpri\",\" =1 electricity from private plant\"),\n",
    "(\"noelec\",\" =1 no electricity in the dwelling\"),\n",
    "(\"coopele\",\" =1 electricity from cooperative\"),\n",
    "(\"sanitario1\",\" =1 no toilet in the dwelling\"),\n",
    "(\"sanitario2\",\" =1 toilet connected to sewer or cesspool\"),\n",
    "(\"sanitario3\",\" =1 toilet connected to  septic tank\"),\n",
    "(\"sanitario5\",\" =1 toilet connected to black hole or letrine\"),\n",
    "(\"sanitario6\",\" =1 toilet connected to other system\"),\n",
    "(\"energcocinar1\",\" =1 no main source of energy used for cooking (no kitchen)\"),\n",
    "(\"energcocinar2\",\" =1 main source of energy used for cooking electricity\"),\n",
    "(\"energcocinar3\",\" =1 main source of energy used for cooking gas\"),\n",
    "(\"energcocinar4\",\" =1 main source of energy used for cooking wood charcoal\"),\n",
    "(\"elimbasu1\",\" =1 if rubbish disposal mainly by tanker truck\"),\n",
    "(\"elimbasu2\",\" =1 if rubbish disposal mainly by botan hollow or buried\"),\n",
    "(\"elimbasu3\",\" =1 if rubbish disposal mainly by burning\"),\n",
    "(\"elimbasu4\",\" =1 if rubbish disposal mainly by throwing in an unoccupied space\"),\n",
    "(\"elimbasu5\",\" =1 if rubbish disposal mainly by throwing in river,   creek or sea\"),\n",
    "(\"elimbasu6\",\" =1 if rubbish disposal mainly other\"),\n",
    "(\"epared1\",\" =1 if walls are bad\"),\n",
    "(\"epared2\",\" =1 if walls are regular\"),\n",
    "(\"epared3\",\" =1 if walls are good\"),\n",
    "(\"etecho1\",\" =1 if roof are bad\"),\n",
    "(\"etecho2\",\" =1 if roof are regular\"),\n",
    "(\"etecho3\",\" =1 if roof are good\"),\n",
    "(\"eviv1\",\" =1 if floor are bad\"),\n",
    "(\"eviv2\",\" =1 if floor are regular\"),\n",
    "(\"eviv3\",\" =1 if floor are good\"),\n",
    "(\"dis\",\" =1 if disable person\"),\n",
    "(\"male\",\" =1 if male\"),\n",
    "(\"female\",\" =1 if female\"),\n",
    "(\"estadocivil1\",\" =1 if less than 10 years old\"),\n",
    "(\"estadocivil2\",\" =1 if free or coupled uunion\"),\n",
    "(\"estadocivil3\",\" =1 if married\"),\n",
    "(\"estadocivil4\",\" =1 if divorced\"),\n",
    "(\"estadocivil5\",\" =1 if separated\"),\n",
    "(\"estadocivil6\",\" =1 if widow/er\"),\n",
    "(\"estadocivil7\",\" =1 if single\"),\n",
    "(\"parentesco1\",\" =1 if household head\"),\n",
    "(\"parentesco2\",\" =1 if spouse/partner\"),\n",
    "(\"parentesco3\",\" =1 if son/doughter\"),\n",
    "(\"parentesco4\",\" =1 if stepson/doughter\"),\n",
    "(\"parentesco5\",\" =1 if son/doughter in law\"),\n",
    "(\"parentesco6\",\" =1 if grandson/doughter\"),\n",
    "(\"parentesco7\",\" =1 if mother/father\"),\n",
    "(\"parentesco8\",\" =1 if father/mother in law\"),\n",
    "(\"parentesco9\",\" =1 if brother/sister\"),\n",
    "(\"parentesco10\",\" =1 if brother/sister in law\"),\n",
    "(\"parentesco11\",\" =1 if other family member\"),\n",
    "(\"parentesco12\",\" =1 if other non family member\"),\n",
    "(\"idhogar\",\" Household level identifier\"),\n",
    "(\"hogar_nin\",\" Number of children 0 to 19 in household\"),\n",
    "(\"hogar_adul\",\" Number of adults in household\"),\n",
    "(\"hogar_mayor\",\" # of individuals 65+ in the household\"),\n",
    "(\"hogar_total\",\" # of total individuals in the household\"),\n",
    "(\"dependency\",\" Dependency rate\"),\n",
    "(\"edjefe\",\" years of education of male head of household\"),\n",
    "(\"edjefa\",\" years of education of female head of household\"),\n",
    "(\"meaneduc\",\"average years of education for adults (18+)\"),\n",
    "(\"instlevel1\",\" =1 no level of education\"),\n",
    "(\"instlevel2\",\" =1 incomplete primary\"),\n",
    "(\"instlevel3\",\" =1 complete primary\"),\n",
    "(\"instlevel4\",\" =1 incomplete academic secondary level\"),\n",
    "(\"instlevel5\",\" =1 complete academic secondary level\"),\n",
    "(\"instlevel6\",\" =1 incomplete technical secondary level\"),\n",
    "(\"instlevel7\",\" =1 complete technical secondary level\"),\n",
    "(\"instlevel8\",\" =1 undergraduate and higher education\"),\n",
    "(\"instlevel9\",\" =1 postgraduate higher education\"),\n",
    "(\"bedrooms\",\" number of bedrooms\"),\n",
    "(\"overcrowding\",\" # persons per room\"),\n",
    "(\"tipovivi1\",\" =1 own and fully paid house\"),\n",
    "(\"tipovivi2\",\" =1 own,   paying in installments\"),\n",
    "(\"tipovivi3\",\" =1 rented\"),\n",
    "(\"tipovivi4\",\" =1 precarious\"),\n",
    "(\"tipovivi5\",\" =1 other(assigned\"),\n",
    "(\"computer\",\" =1 if the household has notebook or desktop computer,   borrowed)\"),\n",
    "(\"television\",\" =1 if the household has TV\"),\n",
    "(\"mobilephone\",\" =1 if mobile phone\"),\n",
    "(\"qmobilephone\",\" # of mobile phones\"),\n",
    "(\"lugar1\",\" =1 region Central\"),\n",
    "(\"lugar2\",\" =1 region Chorotega\"),\n",
    "(\"lugar3\",\" =1 region PacÃƒÂ­fico central\"),\n",
    "(\"lugar4\",\" =1 region Brunca\"),\n",
    "(\"lugar5\",\" =1 region Huetar AtlÃƒÂ¡ntica\"),\n",
    "(\"lugar6\",\" =1 region Huetar Norte\"),\n",
    "(\"area1\",\" =1 zona urbana\"),\n",
    "(\"area2\",\" =2 zona rural\"),\n",
    "(\"age\",\" Age in years\"),\n",
    "(\"SQBescolari\",\" escolari squared\"),\n",
    "(\"SQBage\",\" age squared\"),\n",
    "(\"SQBhogar_total\",\" hogar_total squared\"),\n",
    "(\"SQBedjefe\",\" edjefe squared\"),\n",
    "(\"SQBhogar_nin\",\" hogar_nin squared\"),\n",
    "(\"SQBovercrowding\",\" overcrowding squared\"),\n",
    "(\"SQBdependency\",\" dependency squared\"),\n",
    "(\"SQBmeaned\",\" meaned squared\"),\n",
    "(\"agesq\",\" Age squared\"),]\n",
    "\n",
    "description = pd.DataFrame(description, columns=['varname', 'description'])"
   ]
  },
  {
   "cell_type": "code",
   "execution_count": 8,
   "metadata": {
    "_uuid": "f77544a2816dd03612a5cd72008821d896bb9fb7",
    "scrolled": true
   },
   "outputs": [
    {
     "data": {
      "text/html": [
       "<div>\n",
       "<style scoped>\n",
       "    .dataframe tbody tr th:only-of-type {\n",
       "        vertical-align: middle;\n",
       "    }\n",
       "\n",
       "    .dataframe tbody tr th {\n",
       "        vertical-align: top;\n",
       "    }\n",
       "\n",
       "    .dataframe thead th {\n",
       "        text-align: right;\n",
       "    }\n",
       "</style>\n",
       "<table border=\"1\" class=\"dataframe\">\n",
       "  <thead>\n",
       "    <tr style=\"text-align: right;\">\n",
       "      <th></th>\n",
       "      <th>varname</th>\n",
       "      <th>description</th>\n",
       "    </tr>\n",
       "  </thead>\n",
       "  <tbody>\n",
       "    <tr>\n",
       "      <th>0</th>\n",
       "      <td>v2a1</td>\n",
       "      <td>Monthly rent payment</td>\n",
       "    </tr>\n",
       "    <tr>\n",
       "      <th>1</th>\n",
       "      <td>hacdor</td>\n",
       "      <td>=1 Overcrowding by bedrooms</td>\n",
       "    </tr>\n",
       "    <tr>\n",
       "      <th>2</th>\n",
       "      <td>rooms</td>\n",
       "      <td>number of all rooms in the house</td>\n",
       "    </tr>\n",
       "    <tr>\n",
       "      <th>3</th>\n",
       "      <td>hacapo</td>\n",
       "      <td>=1 Overcrowding by rooms</td>\n",
       "    </tr>\n",
       "    <tr>\n",
       "      <th>4</th>\n",
       "      <td>v14a</td>\n",
       "      <td>=1 has toilet in the household</td>\n",
       "    </tr>\n",
       "    <tr>\n",
       "      <th>...</th>\n",
       "      <td>...</td>\n",
       "      <td>...</td>\n",
       "    </tr>\n",
       "    <tr>\n",
       "      <th>136</th>\n",
       "      <td>SQBhogar_nin</td>\n",
       "      <td>hogar_nin squared</td>\n",
       "    </tr>\n",
       "    <tr>\n",
       "      <th>137</th>\n",
       "      <td>SQBovercrowding</td>\n",
       "      <td>overcrowding squared</td>\n",
       "    </tr>\n",
       "    <tr>\n",
       "      <th>138</th>\n",
       "      <td>SQBdependency</td>\n",
       "      <td>dependency squared</td>\n",
       "    </tr>\n",
       "    <tr>\n",
       "      <th>139</th>\n",
       "      <td>SQBmeaned</td>\n",
       "      <td>meaned squared</td>\n",
       "    </tr>\n",
       "    <tr>\n",
       "      <th>140</th>\n",
       "      <td>agesq</td>\n",
       "      <td>Age squared</td>\n",
       "    </tr>\n",
       "  </tbody>\n",
       "</table>\n",
       "<p>141 rows × 2 columns</p>\n",
       "</div>"
      ],
      "text/plain": [
       "             varname                         description\n",
       "0               v2a1                Monthly rent payment\n",
       "1             hacdor         =1 Overcrowding by bedrooms\n",
       "2              rooms    number of all rooms in the house\n",
       "3             hacapo            =1 Overcrowding by rooms\n",
       "4               v14a      =1 has toilet in the household\n",
       "..               ...                                 ...\n",
       "136     SQBhogar_nin                   hogar_nin squared\n",
       "137  SQBovercrowding                overcrowding squared\n",
       "138    SQBdependency                  dependency squared\n",
       "139        SQBmeaned                      meaned squared\n",
       "140            agesq                         Age squared\n",
       "\n",
       "[141 rows x 2 columns]"
      ]
     },
     "execution_count": 8,
     "metadata": {},
     "output_type": "execute_result"
    }
   ],
   "source": [
    "description"
   ]
  },
  {
   "cell_type": "markdown",
   "metadata": {
    "_uuid": "eb86cfc0f9a39d2a18d8d49d559c6ef2dcbbeb7f"
   },
   "source": [
    "## 1.3 Check null data"
   ]
  },
  {
   "cell_type": "code",
   "execution_count": 9,
   "metadata": {
    "_uuid": "36bf2f52050d81eff74c993b9294cb8618d9415a"
   },
   "outputs": [
    {
     "data": {
      "text/html": [
       "<div>\n",
       "<style scoped>\n",
       "    .dataframe tbody tr th:only-of-type {\n",
       "        vertical-align: middle;\n",
       "    }\n",
       "\n",
       "    .dataframe tbody tr th {\n",
       "        vertical-align: top;\n",
       "    }\n",
       "\n",
       "    .dataframe thead th {\n",
       "        text-align: right;\n",
       "    }\n",
       "</style>\n",
       "<table border=\"1\" class=\"dataframe\">\n",
       "  <thead>\n",
       "    <tr style=\"text-align: right;\">\n",
       "      <th></th>\n",
       "      <th>Total</th>\n",
       "      <th>Percent</th>\n",
       "    </tr>\n",
       "  </thead>\n",
       "  <tbody>\n",
       "    <tr>\n",
       "      <th>rez_esc</th>\n",
       "      <td>7928</td>\n",
       "      <td>82.954902</td>\n",
       "    </tr>\n",
       "    <tr>\n",
       "      <th>v18q1</th>\n",
       "      <td>7342</td>\n",
       "      <td>76.823271</td>\n",
       "    </tr>\n",
       "    <tr>\n",
       "      <th>v2a1</th>\n",
       "      <td>6860</td>\n",
       "      <td>71.779847</td>\n",
       "    </tr>\n",
       "    <tr>\n",
       "      <th>meaneduc</th>\n",
       "      <td>5</td>\n",
       "      <td>0.052318</td>\n",
       "    </tr>\n",
       "    <tr>\n",
       "      <th>SQBmeaned</th>\n",
       "      <td>5</td>\n",
       "      <td>0.052318</td>\n",
       "    </tr>\n",
       "    <tr>\n",
       "      <th>techozinc</th>\n",
       "      <td>0</td>\n",
       "      <td>0.000000</td>\n",
       "    </tr>\n",
       "    <tr>\n",
       "      <th>techoentrepiso</th>\n",
       "      <td>0</td>\n",
       "      <td>0.000000</td>\n",
       "    </tr>\n",
       "    <tr>\n",
       "      <th>techocane</th>\n",
       "      <td>0</td>\n",
       "      <td>0.000000</td>\n",
       "    </tr>\n",
       "    <tr>\n",
       "      <th>techootro</th>\n",
       "      <td>0</td>\n",
       "      <td>0.000000</td>\n",
       "    </tr>\n",
       "    <tr>\n",
       "      <th>cielorazo</th>\n",
       "      <td>0</td>\n",
       "      <td>0.000000</td>\n",
       "    </tr>\n",
       "    <tr>\n",
       "      <th>abastaguadentro</th>\n",
       "      <td>0</td>\n",
       "      <td>0.000000</td>\n",
       "    </tr>\n",
       "    <tr>\n",
       "      <th>sanitario3</th>\n",
       "      <td>0</td>\n",
       "      <td>0.000000</td>\n",
       "    </tr>\n",
       "    <tr>\n",
       "      <th>abastaguafuera</th>\n",
       "      <td>0</td>\n",
       "      <td>0.000000</td>\n",
       "    </tr>\n",
       "    <tr>\n",
       "      <th>abastaguano</th>\n",
       "      <td>0</td>\n",
       "      <td>0.000000</td>\n",
       "    </tr>\n",
       "    <tr>\n",
       "      <th>public</th>\n",
       "      <td>0</td>\n",
       "      <td>0.000000</td>\n",
       "    </tr>\n",
       "    <tr>\n",
       "      <th>planpri</th>\n",
       "      <td>0</td>\n",
       "      <td>0.000000</td>\n",
       "    </tr>\n",
       "    <tr>\n",
       "      <th>noelec</th>\n",
       "      <td>0</td>\n",
       "      <td>0.000000</td>\n",
       "    </tr>\n",
       "    <tr>\n",
       "      <th>coopele</th>\n",
       "      <td>0</td>\n",
       "      <td>0.000000</td>\n",
       "    </tr>\n",
       "    <tr>\n",
       "      <th>sanitario1</th>\n",
       "      <td>0</td>\n",
       "      <td>0.000000</td>\n",
       "    </tr>\n",
       "    <tr>\n",
       "      <th>sanitario2</th>\n",
       "      <td>0</td>\n",
       "      <td>0.000000</td>\n",
       "    </tr>\n",
       "  </tbody>\n",
       "</table>\n",
       "</div>"
      ],
      "text/plain": [
       "                 Total    Percent\n",
       "rez_esc           7928  82.954902\n",
       "v18q1             7342  76.823271\n",
       "v2a1              6860  71.779847\n",
       "meaneduc             5   0.052318\n",
       "SQBmeaned            5   0.052318\n",
       "techozinc            0   0.000000\n",
       "techoentrepiso       0   0.000000\n",
       "techocane            0   0.000000\n",
       "techootro            0   0.000000\n",
       "cielorazo            0   0.000000\n",
       "abastaguadentro      0   0.000000\n",
       "sanitario3           0   0.000000\n",
       "abastaguafuera       0   0.000000\n",
       "abastaguano          0   0.000000\n",
       "public               0   0.000000\n",
       "planpri              0   0.000000\n",
       "noelec               0   0.000000\n",
       "coopele              0   0.000000\n",
       "sanitario1           0   0.000000\n",
       "sanitario2           0   0.000000"
      ]
     },
     "execution_count": 9,
     "metadata": {},
     "output_type": "execute_result"
    }
   ],
   "source": [
    "total = df_train.isnull().sum().sort_values(ascending=False)\n",
    "percent = 100 * (df_train.isnull().sum() / df_train.isnull().count()).sort_values(ascending=False)\n",
    "missing_df = pd.concat([total, percent], axis=1, keys=['Total', 'Percent'])\n",
    "\n",
    "missing_df.head(20)"
   ]
  },
  {
   "cell_type": "markdown",
   "metadata": {
    "_uuid": "509bbb24b15a3dc8fa6a69bdfd14de313b64ae27"
   },
   "source": [
    "## 1.4 Filll missing values"
   ]
  },
  {
   "cell_type": "markdown",
   "metadata": {
    "_uuid": "fa651eecfb831a687227a6702f3e2a8858ca2361"
   },
   "source": [
    "- Below cell is from this kernel. https://www.kaggle.com/skooch/lgbm-w-random-split-2"
   ]
  },
  {
   "cell_type": "code",
   "execution_count": 10,
   "metadata": {
    "_uuid": "0c79c0249a4815ae829bbb1af0f59ac393576683"
   },
   "outputs": [],
   "source": [
    "# if education is \"yes\" and person is head of household, fill with escolari\n",
    "df_train.loc[(df_train['edjefa'] == \"yes\") & (df_train['parentesco1'] == 1), \"edjefa\"] = df_train.loc[(df_train['edjefa'] == \"yes\") & (df_train['parentesco1'] == 1), \"escolari\"]\n",
    "df_train.loc[(df_train['edjefe'] == \"yes\") & (df_train['parentesco1'] == 1), \"edjefe\"] = df_train.loc[(df_train['edjefe'] == \"yes\") & (df_train['parentesco1'] == 1), \"escolari\"]\n",
    "\n",
    "df_test.loc[(df_test['edjefa'] == \"yes\") & (df_test['parentesco1'] == 1), \"edjefa\"] = df_test.loc[(df_test['edjefa'] == \"yes\") & (df_test['parentesco1'] == 1), \"escolari\"]\n",
    "df_test.loc[(df_test['edjefe'] == \"yes\") & (df_test['parentesco1'] == 1), \"edjefe\"] = df_test.loc[(df_test['edjefe'] == \"yes\") & (df_test['parentesco1'] == 1), \"escolari\"]\n",
    "\n",
    "# this field is supposed to be interaction between gender and escolari, but it isn't clear what \"yes\" means, let's fill it with 4\n",
    "df_train.loc[df_train['edjefa'] == \"yes\", \"edjefa\"] = 4\n",
    "df_train.loc[df_train['edjefe'] == \"yes\", \"edjefe\"] = 4\n",
    "\n",
    "df_test.loc[df_test['edjefa'] == \"yes\", \"edjefa\"] = 4\n",
    "df_test.loc[df_test['edjefe'] == \"yes\", \"edjefe\"] = 4\n",
    "\n",
    "# create feature with max education of either head of household\n",
    "df_train['edjef'] = np.max(df_train[['edjefa','edjefe']], axis=1)\n",
    "df_test['edjef'] = np.max(df_test[['edjefa','edjefe']], axis=1)\n",
    "\n",
    "# fix some inconsistencies in the data - some rows indicate both that the household does and does not have a toilet, \n",
    "# if there is no water we'll assume they do not\n",
    "df_train.loc[(df_train.v14a ==  1) & (df_train.sanitario1 ==  1) & (df_train.abastaguano == 0), \"v14a\"] = 0\n",
    "df_train.loc[(df_train.v14a ==  1) & (df_train.sanitario1 ==  1) & (df_train.abastaguano == 0), \"sanitario1\"] = 0\n",
    "\n",
    "df_test.loc[(df_test.v14a ==  1) & (df_test.sanitario1 ==  1) & (df_test.abastaguano == 0), \"v14a\"] = 0\n",
    "df_test.loc[(df_test.v14a ==  1) & (df_test.sanitario1 ==  1) & (df_test.abastaguano == 0), \"sanitario1\"] = 0"
   ]
  },
  {
   "cell_type": "markdown",
   "metadata": {
    "_uuid": "200a76acc1cd22e7726fa9c97d5340ae353d0f07"
   },
   "source": [
    "### rez_esz, SQBmeaned\n",
    "- rez_esc : Years behind in school -> filled with 0\n",
    "- SQBmeaned : square of the mean years of education of adults (>=18) in the household\n",
    "agesq, Age squared -> same with rez_esc -> filled with 0"
   ]
  },
  {
   "cell_type": "code",
   "execution_count": 11,
   "metadata": {
    "_uuid": "127dba2fefd3af6fd04630d9f1946377c3669fca"
   },
   "outputs": [],
   "source": [
    "df_train['rez_esc'].fillna(0, inplace=True)\n",
    "df_test['rez_esc'].fillna(0, inplace=True)"
   ]
  },
  {
   "cell_type": "code",
   "execution_count": 12,
   "metadata": {
    "_uuid": "a5aaa0a807b0bdfbd721742fa490d50077eb254b"
   },
   "outputs": [],
   "source": [
    "df_train['SQBmeaned'].fillna(0, inplace=True)\n",
    "df_test['SQBmeaned'].fillna(0, inplace=True)"
   ]
  },
  {
   "cell_type": "markdown",
   "metadata": {
    "_uuid": "a4a4b7edde6a907f8689ebc9c9084196dad7aee6"
   },
   "source": [
    "### meaneduc\n",
    "- meaneduc: average years of education for adults (18+) -> filled with 0"
   ]
  },
  {
   "cell_type": "code",
   "execution_count": 13,
   "metadata": {
    "_uuid": "a16e61ef3f2cca22fc16b52a8bae02f06b86ecb6"
   },
   "outputs": [],
   "source": [
    "df_train['meaneduc'].fillna(0, inplace=True)\n",
    "df_test['meaneduc'].fillna(0, inplace=True)"
   ]
  },
  {
   "cell_type": "markdown",
   "metadata": {
    "_uuid": "7aa115c1ad3131ee08d25f2f70a29feede9172b4"
   },
   "source": [
    "### v18q1"
   ]
  },
  {
   "cell_type": "markdown",
   "metadata": {
    "_uuid": "600b5f04fd584c3e8b6924292548d40e8f41155c"
   },
   "source": [
    "- v18q1: number of tablets household owns -> if v18q(Do you own a tablet?)  == 1, there are some values. If not, only NaN values in v18q1. See below 3 cells."
   ]
  },
  {
   "cell_type": "code",
   "execution_count": 14,
   "metadata": {
    "_uuid": "dc4dcb27b06e6edcf58d0e164b67c056239939e0"
   },
   "outputs": [
    {
     "data": {
      "text/plain": [
       "0    7342\n",
       "1    2215\n",
       "Name: v18q, dtype: int64"
      ]
     },
     "execution_count": 14,
     "metadata": {},
     "output_type": "execute_result"
    }
   ],
   "source": [
    "df_train['v18q'].value_counts()"
   ]
  },
  {
   "cell_type": "markdown",
   "metadata": {
    "_uuid": "31dd039e17ec249a681c0f9a7259d55d8d21dae0"
   },
   "source": [
    "- v18q1: number of tablets household owns -> if v18q  == 1, there are some values. If not, only NaN values there. See below two cells."
   ]
  },
  {
   "cell_type": "code",
   "execution_count": 15,
   "metadata": {
    "_uuid": "8369998ea4a764a7e1ec93ec020e80a07721f386"
   },
   "outputs": [
    {
     "data": {
      "text/plain": [
       "1.0    1586\n",
       "2.0     444\n",
       "3.0     129\n",
       "4.0      37\n",
       "5.0      13\n",
       "6.0       6\n",
       "Name: v18q1, dtype: int64"
      ]
     },
     "execution_count": 15,
     "metadata": {},
     "output_type": "execute_result"
    }
   ],
   "source": [
    "df_train.loc[df_train['v18q'] == 1, 'v18q1'].value_counts()"
   ]
  },
  {
   "cell_type": "code",
   "execution_count": 16,
   "metadata": {
    "_uuid": "1af5623dc1c128f4f9f9902255c42ffd2e48da8f"
   },
   "outputs": [
    {
     "data": {
      "text/plain": [
       "Series([], Name: v18q1, dtype: int64)"
      ]
     },
     "execution_count": 16,
     "metadata": {},
     "output_type": "execute_result"
    }
   ],
   "source": [
    "df_train.loc[df_train['v18q'] == 0, 'v18q1'].value_counts()"
   ]
  },
  {
   "cell_type": "code",
   "execution_count": 17,
   "metadata": {
    "_uuid": "97be2ff581a3e1a28a47c7636476bc04ad05e30f"
   },
   "outputs": [],
   "source": [
    "df_train['v18q1'].fillna(0, inplace=True)\n",
    "df_test['v18q1'].fillna(0, inplace=True)"
   ]
  },
  {
   "cell_type": "markdown",
   "metadata": {
    "_uuid": "092e8fd58e055c60fd7ff93bb36d33f976cf878e"
   },
   "source": [
    "- v2a1: number of tablets household owns -> if tipovivi3(rented?)  == 1, there are some values. If not, there are also some values.\n",
    "- NaN value could be replaced by 0."
   ]
  },
  {
   "cell_type": "code",
   "execution_count": 18,
   "metadata": {
    "_uuid": "32ccf926a9ae978a69066c4e92eabb594ac0a934",
    "scrolled": true
   },
   "outputs": [
    {
     "data": {
      "text/plain": [
       "0    7821\n",
       "1    1736\n",
       "Name: tipovivi3, dtype: int64"
      ]
     },
     "execution_count": 18,
     "metadata": {},
     "output_type": "execute_result"
    }
   ],
   "source": [
    "df_train['tipovivi3'].value_counts()"
   ]
  },
  {
   "cell_type": "code",
   "execution_count": 19,
   "metadata": {
    "_uuid": "4ac878b73107bc2a3fc899e3a6f08814d7e09461",
    "scrolled": true
   },
   "outputs": [
    {
     "data": {
      "image/png": "[encoded data removed]",
      "text/plain": [
       "<Figure size 576x396 with 1 Axes>"
      ]
     },
     "metadata": {},
     "output_type": "display_data"
    }
   ],
   "source": [
    "sns.kdeplot(df_train.loc[df_train['tipovivi3'] == 1, 'v2a1'], label='Monthly rent payment of household(rented=1)')\n",
    "sns.kdeplot(df_train.loc[df_train['tipovivi3'] == 0, 'v2a1'], label='Monthly rent payment of household(rented=0)')\n",
    "plt.xscale('log')\n",
    "plt.show()"
   ]
  },
  {
   "cell_type": "code",
   "execution_count": 20,
   "metadata": {
    "_uuid": "b33114c2780547e5b2a20c099e1d3aba2dcafead"
   },
   "outputs": [],
   "source": [
    "df_train['v2a1'].fillna(0, inplace=True)\n",
    "df_test['v2a1'].fillna(0, inplace=True)"
   ]
  },
  {
   "cell_type": "code",
   "execution_count": 21,
   "metadata": {
    "_uuid": "bac22efd261f35c249e261a613ac8ed840248675"
   },
   "outputs": [
    {
     "data": {
      "text/html": [
       "<div>\n",
       "<style scoped>\n",
       "    .dataframe tbody tr th:only-of-type {\n",
       "        vertical-align: middle;\n",
       "    }\n",
       "\n",
       "    .dataframe tbody tr th {\n",
       "        vertical-align: top;\n",
       "    }\n",
       "\n",
       "    .dataframe thead th {\n",
       "        text-align: right;\n",
       "    }\n",
       "</style>\n",
       "<table border=\"1\" class=\"dataframe\">\n",
       "  <thead>\n",
       "    <tr style=\"text-align: right;\">\n",
       "      <th></th>\n",
       "      <th>Total</th>\n",
       "      <th>Percent</th>\n",
       "    </tr>\n",
       "  </thead>\n",
       "  <tbody>\n",
       "    <tr>\n",
       "      <th>edjef</th>\n",
       "      <td>9557</td>\n",
       "      <td>100.0</td>\n",
       "    </tr>\n",
       "    <tr>\n",
       "      <th>Target</th>\n",
       "      <td>0</td>\n",
       "      <td>0.0</td>\n",
       "    </tr>\n",
       "    <tr>\n",
       "      <th>sanitario3</th>\n",
       "      <td>0</td>\n",
       "      <td>0.0</td>\n",
       "    </tr>\n",
       "    <tr>\n",
       "      <th>sanitario2</th>\n",
       "      <td>0</td>\n",
       "      <td>0.0</td>\n",
       "    </tr>\n",
       "    <tr>\n",
       "      <th>sanitario1</th>\n",
       "      <td>0</td>\n",
       "      <td>0.0</td>\n",
       "    </tr>\n",
       "    <tr>\n",
       "      <th>coopele</th>\n",
       "      <td>0</td>\n",
       "      <td>0.0</td>\n",
       "    </tr>\n",
       "    <tr>\n",
       "      <th>noelec</th>\n",
       "      <td>0</td>\n",
       "      <td>0.0</td>\n",
       "    </tr>\n",
       "    <tr>\n",
       "      <th>planpri</th>\n",
       "      <td>0</td>\n",
       "      <td>0.0</td>\n",
       "    </tr>\n",
       "    <tr>\n",
       "      <th>public</th>\n",
       "      <td>0</td>\n",
       "      <td>0.0</td>\n",
       "    </tr>\n",
       "    <tr>\n",
       "      <th>abastaguano</th>\n",
       "      <td>0</td>\n",
       "      <td>0.0</td>\n",
       "    </tr>\n",
       "    <tr>\n",
       "      <th>abastaguafuera</th>\n",
       "      <td>0</td>\n",
       "      <td>0.0</td>\n",
       "    </tr>\n",
       "    <tr>\n",
       "      <th>abastaguadentro</th>\n",
       "      <td>0</td>\n",
       "      <td>0.0</td>\n",
       "    </tr>\n",
       "    <tr>\n",
       "      <th>cielorazo</th>\n",
       "      <td>0</td>\n",
       "      <td>0.0</td>\n",
       "    </tr>\n",
       "    <tr>\n",
       "      <th>techootro</th>\n",
       "      <td>0</td>\n",
       "      <td>0.0</td>\n",
       "    </tr>\n",
       "    <tr>\n",
       "      <th>techocane</th>\n",
       "      <td>0</td>\n",
       "      <td>0.0</td>\n",
       "    </tr>\n",
       "    <tr>\n",
       "      <th>techoentrepiso</th>\n",
       "      <td>0</td>\n",
       "      <td>0.0</td>\n",
       "    </tr>\n",
       "    <tr>\n",
       "      <th>techozinc</th>\n",
       "      <td>0</td>\n",
       "      <td>0.0</td>\n",
       "    </tr>\n",
       "    <tr>\n",
       "      <th>sanitario5</th>\n",
       "      <td>0</td>\n",
       "      <td>0.0</td>\n",
       "    </tr>\n",
       "    <tr>\n",
       "      <th>sanitario6</th>\n",
       "      <td>0</td>\n",
       "      <td>0.0</td>\n",
       "    </tr>\n",
       "    <tr>\n",
       "      <th>energcocinar1</th>\n",
       "      <td>0</td>\n",
       "      <td>0.0</td>\n",
       "    </tr>\n",
       "  </tbody>\n",
       "</table>\n",
       "</div>"
      ],
      "text/plain": [
       "                 Total  Percent\n",
       "edjef             9557    100.0\n",
       "Target               0      0.0\n",
       "sanitario3           0      0.0\n",
       "sanitario2           0      0.0\n",
       "sanitario1           0      0.0\n",
       "coopele              0      0.0\n",
       "noelec               0      0.0\n",
       "planpri              0      0.0\n",
       "public               0      0.0\n",
       "abastaguano          0      0.0\n",
       "abastaguafuera       0      0.0\n",
       "abastaguadentro      0      0.0\n",
       "cielorazo            0      0.0\n",
       "techootro            0      0.0\n",
       "techocane            0      0.0\n",
       "techoentrepiso       0      0.0\n",
       "techozinc            0      0.0\n",
       "sanitario5           0      0.0\n",
       "sanitario6           0      0.0\n",
       "energcocinar1        0      0.0"
      ]
     },
     "execution_count": 21,
     "metadata": {},
     "output_type": "execute_result"
    }
   ],
   "source": [
    "total = df_train.isnull().sum().sort_values(ascending=False)\n",
    "percent = 100 * (df_train.isnull().sum() / df_train.isnull().count()).sort_values(ascending=False)\n",
    "missing_df = pd.concat([total, percent], axis=1, keys=['Total', 'Percent'])\n",
    "\n",
    "missing_df.head(20)"
   ]
  },
  {
   "cell_type": "code",
   "execution_count": 22,
   "metadata": {
    "_uuid": "bb1719d91bf48298ee014e014eb62278f5faf66d"
   },
   "outputs": [
    {
     "data": {
      "text/html": [
       "<div>\n",
       "<style scoped>\n",
       "    .dataframe tbody tr th:only-of-type {\n",
       "        vertical-align: middle;\n",
       "    }\n",
       "\n",
       "    .dataframe tbody tr th {\n",
       "        vertical-align: top;\n",
       "    }\n",
       "\n",
       "    .dataframe thead th {\n",
       "        text-align: right;\n",
       "    }\n",
       "</style>\n",
       "<table border=\"1\" class=\"dataframe\">\n",
       "  <thead>\n",
       "    <tr style=\"text-align: right;\">\n",
       "      <th></th>\n",
       "      <th>Total</th>\n",
       "      <th>Percent</th>\n",
       "    </tr>\n",
       "  </thead>\n",
       "  <tbody>\n",
       "    <tr>\n",
       "      <th>edjef</th>\n",
       "      <td>23856</td>\n",
       "      <td>100.0</td>\n",
       "    </tr>\n",
       "    <tr>\n",
       "      <th>abastaguano</th>\n",
       "      <td>0</td>\n",
       "      <td>0.0</td>\n",
       "    </tr>\n",
       "    <tr>\n",
       "      <th>sanitario2</th>\n",
       "      <td>0</td>\n",
       "      <td>0.0</td>\n",
       "    </tr>\n",
       "    <tr>\n",
       "      <th>sanitario1</th>\n",
       "      <td>0</td>\n",
       "      <td>0.0</td>\n",
       "    </tr>\n",
       "    <tr>\n",
       "      <th>coopele</th>\n",
       "      <td>0</td>\n",
       "      <td>0.0</td>\n",
       "    </tr>\n",
       "    <tr>\n",
       "      <th>noelec</th>\n",
       "      <td>0</td>\n",
       "      <td>0.0</td>\n",
       "    </tr>\n",
       "    <tr>\n",
       "      <th>planpri</th>\n",
       "      <td>0</td>\n",
       "      <td>0.0</td>\n",
       "    </tr>\n",
       "    <tr>\n",
       "      <th>public</th>\n",
       "      <td>0</td>\n",
       "      <td>0.0</td>\n",
       "    </tr>\n",
       "    <tr>\n",
       "      <th>abastaguafuera</th>\n",
       "      <td>0</td>\n",
       "      <td>0.0</td>\n",
       "    </tr>\n",
       "    <tr>\n",
       "      <th>sanitario5</th>\n",
       "      <td>0</td>\n",
       "      <td>0.0</td>\n",
       "    </tr>\n",
       "    <tr>\n",
       "      <th>abastaguadentro</th>\n",
       "      <td>0</td>\n",
       "      <td>0.0</td>\n",
       "    </tr>\n",
       "    <tr>\n",
       "      <th>cielorazo</th>\n",
       "      <td>0</td>\n",
       "      <td>0.0</td>\n",
       "    </tr>\n",
       "    <tr>\n",
       "      <th>techootro</th>\n",
       "      <td>0</td>\n",
       "      <td>0.0</td>\n",
       "    </tr>\n",
       "    <tr>\n",
       "      <th>techocane</th>\n",
       "      <td>0</td>\n",
       "      <td>0.0</td>\n",
       "    </tr>\n",
       "    <tr>\n",
       "      <th>techoentrepiso</th>\n",
       "      <td>0</td>\n",
       "      <td>0.0</td>\n",
       "    </tr>\n",
       "    <tr>\n",
       "      <th>techozinc</th>\n",
       "      <td>0</td>\n",
       "      <td>0.0</td>\n",
       "    </tr>\n",
       "    <tr>\n",
       "      <th>sanitario3</th>\n",
       "      <td>0</td>\n",
       "      <td>0.0</td>\n",
       "    </tr>\n",
       "    <tr>\n",
       "      <th>sanitario6</th>\n",
       "      <td>0</td>\n",
       "      <td>0.0</td>\n",
       "    </tr>\n",
       "    <tr>\n",
       "      <th>pisonotiene</th>\n",
       "      <td>0</td>\n",
       "      <td>0.0</td>\n",
       "    </tr>\n",
       "    <tr>\n",
       "      <th>elimbasu5</th>\n",
       "      <td>0</td>\n",
       "      <td>0.0</td>\n",
       "    </tr>\n",
       "  </tbody>\n",
       "</table>\n",
       "</div>"
      ],
      "text/plain": [
       "                 Total  Percent\n",
       "edjef            23856    100.0\n",
       "abastaguano          0      0.0\n",
       "sanitario2           0      0.0\n",
       "sanitario1           0      0.0\n",
       "coopele              0      0.0\n",
       "noelec               0      0.0\n",
       "planpri              0      0.0\n",
       "public               0      0.0\n",
       "abastaguafuera       0      0.0\n",
       "sanitario5           0      0.0\n",
       "abastaguadentro      0      0.0\n",
       "cielorazo            0      0.0\n",
       "techootro            0      0.0\n",
       "techocane            0      0.0\n",
       "techoentrepiso       0      0.0\n",
       "techozinc            0      0.0\n",
       "sanitario3           0      0.0\n",
       "sanitario6           0      0.0\n",
       "pisonotiene          0      0.0\n",
       "elimbasu5            0      0.0"
      ]
     },
     "execution_count": 22,
     "metadata": {},
     "output_type": "execute_result"
    }
   ],
   "source": [
    "total = df_test.isnull().sum().sort_values(ascending=False)\n",
    "percent = 100 * (df_test.isnull().sum() / df_test.isnull().count()).sort_values(ascending=False)\n",
    "missing_df = pd.concat([total, percent], axis=1, keys=['Total', 'Percent'])\n",
    "\n",
    "missing_df.head(20)"
   ]
  },
  {
   "cell_type": "markdown",
   "metadata": {
    "_uuid": "2a3a99f2719bbf382bb672b43b0c92f588ac4861"
   },
   "source": [
    "### For now, there are no NaN values."
   ]
  },
  {
   "cell_type": "markdown",
   "metadata": {
    "_uuid": "34047b73af01f9f447ae8949c53f5d002fca68eb"
   },
   "source": [
    "# 2. Feature engineering"
   ]
  },
  {
   "cell_type": "markdown",
   "metadata": {
    "_uuid": "1c99f77f2e7bac40b2a4e2304c63fbcce3093576"
   },
   "source": [
    "## 2.1 Object features"
   ]
  },
  {
   "cell_type": "code",
   "execution_count": 23,
   "metadata": {
    "_uuid": "51f880f4f9046dc528a207935bc35a325162917a"
   },
   "outputs": [],
   "source": [
    "features_object = [col for col in df_train.columns if df_train[col].dtype == 'object']"
   ]
  },
  {
   "cell_type": "code",
   "execution_count": 24,
   "metadata": {
    "_uuid": "1ba93d17efb955c9076160b5c8e526cd8ee81942"
   },
   "outputs": [
    {
     "data": {
      "text/plain": [
       "['Id', 'idhogar', 'dependency', 'edjefe', 'edjefa']"
      ]
     },
     "execution_count": 24,
     "metadata": {},
     "output_type": "execute_result"
    }
   ],
   "source": [
    "features_object"
   ]
  },
  {
   "cell_type": "markdown",
   "metadata": {
    "_uuid": "b2e20d63e4d89d273e2cbe987e9aed52ade4b2b1"
   },
   "source": [
    "### dependecy"
   ]
  },
  {
   "cell_type": "code",
   "execution_count": 25,
   "metadata": {
    "_uuid": "8a067efcf3850a0e2673f0346430a1fda9fff92b",
    "scrolled": true
   },
   "outputs": [],
   "source": [
    "# some dependencies are Na, fill those with the square root of the square\n",
    "df_train['dependency'] = np.sqrt(df_train['SQBdependency'])\n",
    "df_test['dependency'] = np.sqrt(df_test['SQBdependency'])"
   ]
  },
  {
   "cell_type": "markdown",
   "metadata": {
    "_uuid": "c300c4453bbec936b18ec3e86e6524cf520184d1"
   },
   "source": [
    "### edjefe\n",
    "- edjefe, years of education of male head of household, based on the interaction of escolari (years of education), head of household and gender, yes=1 and no=0\n",
    "- replace yes -> 1 and no -> 0"
   ]
  },
  {
   "cell_type": "code",
   "execution_count": 26,
   "metadata": {
    "_uuid": "446ce42d405cb1869062383117ebfa463749969c"
   },
   "outputs": [],
   "source": [
    "def replace_edjefe(x):\n",
    "    if x == 'yes':\n",
    "        return 1\n",
    "    elif x == 'no':\n",
    "        return 0\n",
    "    else:\n",
    "        return x\n",
    "\n",
    "df_train['edjefe'] = df_train['edjefe'].apply(replace_edjefe).astype(float)\n",
    "df_test['edjefe'] = df_test['edjefe'].apply(replace_edjefe).astype(float)"
   ]
  },
  {
   "cell_type": "markdown",
   "metadata": {
    "_uuid": "9470bff2cd416af6190e57632126c7c12e376050"
   },
   "source": [
    "### edjefa"
   ]
  },
  {
   "cell_type": "markdown",
   "metadata": {
    "_uuid": "450cc5abdfe849b70c3500628efd67f04fece758"
   },
   "source": [
    "- edjefa, years of education of female head of household, based on the interaction of escolari (years of education), head of household and gender, yes=1 and no=0\n",
    "- replace yes -> 1 and no -> 0"
   ]
  },
  {
   "cell_type": "code",
   "execution_count": 27,
   "metadata": {
    "_uuid": "f7b42773d15495ffb1f3dd035b00074439cb8f66"
   },
   "outputs": [],
   "source": [
    "def replace_edjefa(x):\n",
    "    if x == 'yes':\n",
    "        return 1\n",
    "    elif x == 'no':\n",
    "        return 0\n",
    "    else:\n",
    "        return x\n",
    "\n",
    "df_train['edjefa'] = df_train['edjefa'].apply(replace_edjefa).astype(float)\n",
    "df_test['edjefa'] = df_test['edjefa'].apply(replace_edjefa).astype(float)"
   ]
  },
  {
   "cell_type": "code",
   "execution_count": 28,
   "metadata": {
    "_uuid": "8861fe2bde9e657f4a6989a6f3c453eed6ed0a0b"
   },
   "outputs": [],
   "source": [
    "# create feature with max education of either head of household\n",
    "df_train['edjef'] = np.max(df_train[['edjefa','edjefe']], axis=1)\n",
    "df_test['edjef'] = np.max(df_test[['edjefa','edjefe']], axis=1)"
   ]
  },
  {
   "cell_type": "markdown",
   "metadata": {
    "_uuid": "5c550735bdfb9f17560b1b33421b40d4990d6905"
   },
   "source": [
    "## roof and electricity\n",
    "- I refered to https://www.kaggle.com/mineshjethva/exploratory-data-analysis-lightgbm. Thanks!"
   ]
  },
  {
   "cell_type": "code",
   "execution_count": 29,
   "metadata": {
    "_uuid": "c48f57d758c07fd47ec4c530e778eeada8976a7d"
   },
   "outputs": [],
   "source": [
    "df_train['roof_waste_material'] = np.nan\n",
    "df_test['roof_waste_material'] = np.nan\n",
    "df_train['electricity_other'] = np.nan\n",
    "df_test['electricity_other'] = np.nan\n",
    "\n",
    "def fill_roof_exception(x):\n",
    "    if (x['techozinc'] == 0) and (x['techoentrepiso'] == 0) and (x['techocane'] == 0) and (x['techootro'] == 0):\n",
    "        return 1\n",
    "    else:\n",
    "        return 0\n",
    "    \n",
    "def fill_no_electricity(x):\n",
    "    if (x['public'] == 0) and (x['planpri'] == 0) and (x['noelec'] == 0) and (x['coopele'] == 0):\n",
    "        return 1\n",
    "    else:\n",
    "        return 0\n",
    "\n",
    "df_train['roof_waste_material'] = df_train.apply(lambda x : fill_roof_exception(x),axis=1)\n",
    "df_test['roof_waste_material'] = df_test.apply(lambda x : fill_roof_exception(x),axis=1)\n",
    "df_train['electricity_other'] = df_train.apply(lambda x : fill_no_electricity(x),axis=1)\n",
    "df_test['electricity_other'] = df_test.apply(lambda x : fill_no_electricity(x),axis=1)"
   ]
  },
  {
   "cell_type": "markdown",
   "metadata": {
    "_uuid": "9c913c59f17a28c5414c1e6d18ec8c98f5b09a13"
   },
   "source": [
    "## 2.2 Extract cat features\n",
    "- According to data scription, there are many binary category features."
   ]
  },
  {
   "cell_type": "code",
   "execution_count": 30,
   "metadata": {
    "_uuid": "a20579541c69fdbef62329df3ffd115bd1fb2c1f"
   },
   "outputs": [],
   "source": [
    "binary_cat_features = [col for col in df_train.columns if df_train[col].value_counts().shape[0] == 2]"
   ]
  },
  {
   "cell_type": "markdown",
   "metadata": {
    "_uuid": "62d933626a1eb27eee31722a174ceeb1f5260506"
   },
   "source": [
    "## 2.3 Make new features using continuous feature"
   ]
  },
  {
   "cell_type": "code",
   "execution_count": 31,
   "metadata": {
    "_uuid": "0a06da54bb9640b8c2d0b20c182371a8dc4d7bb3"
   },
   "outputs": [],
   "source": [
    "continuous_features = [col for col in df_train.columns if col not in binary_cat_features]\n",
    "continuous_features = [col for col in continuous_features if col not in features_object]\n",
    "continuous_features = [col for col in continuous_features if col not in ['Id', 'Target', 'idhogar']]"
   ]
  },
  {
   "cell_type": "code",
   "execution_count": 32,
   "metadata": {
    "_uuid": "2361e957db8bd5697aa3f14087a17bf48bfcdc6c"
   },
   "outputs": [
    {
     "name": "stdout",
     "output_type": "stream",
     "text": [
      "There are 37 continuous features\n",
      "v2a1: [' Monthly rent payment']\n",
      "rooms: ['  number of all rooms in the house']\n",
      "v18q1: [' number of tablets household owns']\n",
      "r4h1: [' Males younger than 12 years of age']\n",
      "r4h2: [' Males 12 years of age and older']\n",
      "r4h3: [' Total males in the household']\n",
      "r4m1: [' Females younger than 12 years of age']\n",
      "r4m2: [' Females 12 years of age and older']\n",
      "r4m3: [' Total females in the household']\n",
      "r4t1: [' persons younger than 12 years of age']\n",
      "r4t2: [' persons 12 years of age and older']\n",
      "r4t3: [' Total persons in the household']\n",
      "tamhog: [' size of the household']\n",
      "tamviv: [' number of persons living in the household']\n",
      "escolari: [' years of schooling']\n",
      "rez_esc: [' Years behind in school']\n",
      "hhsize: [' household size']\n",
      "elimbasu5: [' =1 if rubbish disposal mainly by throwing in river,   creek or sea']\n",
      "hogar_nin: [' Number of children 0 to 19 in household']\n",
      "hogar_adul: [' Number of adults in household']\n",
      "hogar_mayor: [' # of individuals 65+ in the household']\n",
      "hogar_total: [' # of total individuals in the household']\n",
      "meaneduc: ['average years of education for adults (18+)']\n",
      "bedrooms: [' number of bedrooms']\n",
      "overcrowding: [' # persons per room']\n",
      "qmobilephone: [' # of mobile phones']\n",
      "age: [' Age in years']\n",
      "SQBescolari: [' escolari squared']\n",
      "SQBage: [' age squared']\n",
      "SQBhogar_total: [' hogar_total squared']\n",
      "SQBedjefe: [' edjefe squared']\n",
      "SQBhogar_nin: [' hogar_nin squared']\n",
      "SQBovercrowding: [' overcrowding squared']\n",
      "SQBdependency: [' dependency squared']\n",
      "SQBmeaned: [' meaned squared']\n",
      "agesq: [' Age squared']\n",
      "edjef: []\n"
     ]
    }
   ],
   "source": [
    "print('There are {} continuous features'.format(len(continuous_features)))\n",
    "for col in continuous_features:\n",
    "    print('{}: {}'.format(col, description.loc[description['varname'] == col, 'description'].values))"
   ]
  },
  {
   "cell_type": "markdown",
   "metadata": {
    "_uuid": "a39897f86c6502c2467beaf824373870b94d51bf"
   },
   "source": [
    "- hhsize : household size\n",
    "- tamhog : size of the household\n",
    "\n",
    "What is different?"
   ]
  },
  {
   "cell_type": "markdown",
   "metadata": {
    "_uuid": "0c63dadb664a2ea3c7fc3de989545100ef27570e"
   },
   "source": [
    "- As you can see, the meaning of two features are same but the exact number are different. Are they different?\n",
    "- I don't know.  For now, I decided to drop one feature 'tamhog'."
   ]
  },
  {
   "cell_type": "code",
   "execution_count": 33,
   "metadata": {
    "_uuid": "3a34ab43e55dfbf649925dccb77c1528652ea744"
   },
   "outputs": [
    {
     "data": {
      "text/plain": [
       "6.0     2792\n",
       "11.0    1150\n",
       "9.0      723\n",
       "8.0      474\n",
       "15.0     473\n",
       "3.0      459\n",
       "0.0      435\n",
       "7.0      413\n",
       "4.0      400\n",
       "5.0      398\n",
       "14.0     328\n",
       "17.0     278\n",
       "2.0      278\n",
       "16.0     247\n",
       "10.0     207\n",
       "12.0     185\n",
       "13.0     155\n",
       "1.0       65\n",
       "21.0      48\n",
       "18.0      22\n",
       "19.0      18\n",
       "20.0       9\n",
       "Name: edjef, dtype: int64"
      ]
     },
     "execution_count": 33,
     "metadata": {},
     "output_type": "execute_result"
    }
   ],
   "source": [
    "df_train['edjef'].value_counts()"
   ]
  },
  {
   "cell_type": "code",
   "execution_count": 34,
   "metadata": {
    "_uuid": "9dfb6abf3157d7ea9e50c13cb9d6f146e6bb9a1e"
   },
   "outputs": [],
   "source": [
    "df_train.drop('tamhog', axis=1, inplace=True)\n",
    "df_test.drop('tamhog', axis=1, inplace=True)"
   ]
  },
  {
   "cell_type": "markdown",
   "metadata": {
    "_uuid": "5958951d4b32d910b5735e1d67fa53e3bca9cf26"
   },
   "source": [
    "### Squared features"
   ]
  },
  {
   "cell_type": "markdown",
   "metadata": {
    "_uuid": "3ccfcc7b0ebc083e8f478623640c8a3b3ffab5e8"
   },
   "source": [
    "-  There are many squared features. Actually, tree models like lightgbm don't need them. But at this kernel, I want to use lightgbm as feature filter model and set entity- embedding as classfier. So Let's keep them."
   ]
  },
  {
   "cell_type": "markdown",
   "metadata": {
    "_uuid": "7c030d812b81f5cabe9ba520fc936c7f6fa4f16b"
   },
   "source": [
    "### Family features\n",
    "- hogar_nin, hogar_adul, hogar_mayor, hogar_total, r4h1, r4h2, r4h3, r4m1, r4m2, r4m3, r4t1, r4t2, r4t3, tmbhog, tamvid, rez_esc, escolari"
   ]
  },
  {
   "cell_type": "markdown",
   "metadata": {
    "_uuid": "fb2fb6e49e524210213c34a48eab18ba9dac74e7"
   },
   "source": [
    "- Family size features (substract, ratio)"
   ]
  },
  {
   "cell_type": "code",
   "execution_count": 35,
   "metadata": {
    "_uuid": "43241b2ae7c0e3aefab06fbe4f8496ef666f365e"
   },
   "outputs": [],
   "source": [
    "df_train['adult'] = df_train['hogar_adul'] - df_train['hogar_mayor']\n",
    "df_train['dependency_count'] = df_train['hogar_nin'] + df_train['hogar_mayor']\n",
    "df_train['dependency'] = df_train['dependency_count'] / df_train['adult']\n",
    "df_train['child_percent'] = df_train['hogar_nin'] / df_train['hogar_total']\n",
    "df_train['elder_percent'] = df_train['hogar_mayor'] / df_train['hogar_total']\n",
    "df_train['adult_percent'] = df_train['hogar_adul'] / df_train['hogar_total']\n",
    "df_train['males_younger_12_years_percent'] = df_train['r4h1'] / df_train['hogar_total']\n",
    "df_train['males_older_12_years_percent'] = df_train['r4h2'] / df_train['hogar_total']\n",
    "df_train['males_percent'] = df_train['r4h3'] / df_train['hogar_total']\n",
    "df_train['females_younger_12_years_percent'] = df_train['r4m1'] / df_train['hogar_total']\n",
    "df_train['females_older_12_years_percent'] = df_train['r4m2'] / df_train['hogar_total']\n",
    "df_train['females_percent'] = df_train['r4m3'] / df_train['hogar_total']\n",
    "df_train['persons_younger_12_years_percent'] = df_train['r4t1'] / df_train['hogar_total']\n",
    "df_train['persons_older_12_years_percent'] = df_train['r4t2'] / df_train['hogar_total']\n",
    "df_train['persons_percent'] = df_train['r4t3'] / df_train['hogar_total']"
   ]
  },
  {
   "cell_type": "code",
   "execution_count": 36,
   "metadata": {
    "_uuid": "c4b3e88987e3810303007f158e8671b7463922be"
   },
   "outputs": [],
   "source": [
    "df_test['adult'] = df_test['hogar_adul'] - df_test['hogar_mayor']\n",
    "df_test['dependency_count'] = df_test['hogar_nin'] + df_test['hogar_mayor']\n",
    "df_test['dependency'] = df_test['dependency_count'] / df_test['adult']\n",
    "df_test['child_percent'] = df_test['hogar_nin'] / df_test['hogar_total']\n",
    "df_test['elder_percent'] = df_test['hogar_mayor'] / df_test['hogar_total']\n",
    "df_test['adult_percent'] = df_test['hogar_adul'] / df_test['hogar_total']\n",
    "df_test['males_younger_12_years_percent'] = df_test['r4h1'] / df_test['hogar_total']\n",
    "df_test['males_older_12_years_percent'] = df_test['r4h2'] / df_test['hogar_total']\n",
    "df_test['males_percent'] = df_test['r4h3'] / df_test['hogar_total']\n",
    "df_test['females_younger_12_years_percent'] = df_test['r4m1'] / df_test['hogar_total']\n",
    "df_test['females_older_12_years_percent'] = df_test['r4m2'] / df_test['hogar_total']\n",
    "df_test['females_percent'] = df_test['r4m3'] / df_test['hogar_total']\n",
    "df_test['persons_younger_12_years_percent'] = df_test['r4t1'] / df_test['hogar_total']\n",
    "df_test['persons_older_12_years_percent'] = df_test['r4t2'] / df_test['hogar_total']\n",
    "df_test['persons_percent'] = df_test['r4t3'] / df_test['hogar_total']"
   ]
  },
  {
   "cell_type": "code",
   "execution_count": 37,
   "metadata": {
    "_uuid": "bc1b3be9be5f6193bd716d109f88236fc6b2e824"
   },
   "outputs": [],
   "source": [
    "df_train['males_younger_12_years_in_household_size'] = df_train['r4h1'] / df_train['hhsize']\n",
    "df_train['males_older_12_years_in_household_size'] = df_train['r4h2'] / df_train['hhsize']\n",
    "df_train['males_in_household_size'] = df_train['r4h3'] / df_train['hhsize']\n",
    "df_train['females_younger_12_years_in_household_size'] = df_train['r4m1'] / df_train['hhsize']\n",
    "df_train['females_older_12_years_in_household_size'] = df_train['r4m2'] / df_train['hhsize']\n",
    "df_train['females_in_household_size'] = df_train['r4m3'] / df_train['hogar_total']\n",
    "df_train['persons_younger_12_years_in_household_size'] = df_train['r4t1'] / df_train['hhsize']\n",
    "df_train['persons_older_12_years_in_household_size'] = df_train['r4t2'] / df_train['hhsize']\n",
    "df_train['persons_in_household_size'] = df_train['r4t3'] / df_train['hhsize']"
   ]
  },
  {
   "cell_type": "code",
   "execution_count": 38,
   "metadata": {
    "_uuid": "ad7e56aa99bbc7c6aeaae9d203e41f05a044999b"
   },
   "outputs": [],
   "source": [
    "df_test['males_younger_12_years_in_household_size'] = df_test['r4h1'] / df_test['hhsize']\n",
    "df_test['males_older_12_years_in_household_size'] = df_test['r4h2'] / df_test['hhsize']\n",
    "df_test['males_in_household_size'] = df_test['r4h3'] / df_test['hhsize']\n",
    "df_test['females_younger_12_years_in_household_size'] = df_test['r4m1'] / df_test['hhsize']\n",
    "df_test['females_older_12_years_in_household_size'] = df_test['r4m2'] / df_test['hhsize']\n",
    "df_test['females_in_household_size'] = df_test['r4m3'] / df_test['hogar_total']\n",
    "df_test['persons_younger_12_years_in_household_size'] = df_test['r4t1'] / df_test['hhsize']\n",
    "df_test['persons_older_12_years_in_household_size'] = df_test['r4t2'] / df_test['hhsize']\n",
    "df_test['persons_in_household_size'] = df_test['r4t3'] / df_test['hhsize']"
   ]
  },
  {
   "cell_type": "code",
   "execution_count": 39,
   "metadata": {
    "_uuid": "fa2654cecf992480b6fc09e94102b407c561a93d"
   },
   "outputs": [],
   "source": [
    "df_train['overcrowding_room_and_bedroom'] = (df_train['hacdor'] + df_train['hacapo'])/2\n",
    "df_test['overcrowding_room_and_bedroom'] = (df_test['hacdor'] + df_test['hacapo'])/2"
   ]
  },
  {
   "cell_type": "code",
   "execution_count": 40,
   "metadata": {
    "_uuid": "388604d788a438b1125a6581dcc128fe89d1a2e9"
   },
   "outputs": [],
   "source": [
    "df_train['escolari_age'] = df_train['escolari']/df_train['age']\n",
    "df_test['escolari_age'] = df_test['escolari']/df_test['age']\n",
    "\n",
    "df_train['age_12_19'] = df_train['hogar_nin'] - df_train['r4t1']\n",
    "df_test['age_12_19'] = df_test['hogar_nin'] - df_test['r4t1']  "
   ]
  },
  {
   "cell_type": "code",
   "execution_count": 41,
   "metadata": {
    "_uuid": "692040a446fa5c6967c2b0ca508c8f23b567970a"
   },
   "outputs": [],
   "source": [
    "df_train['phones-per-capita'] = df_train['qmobilephone'] / df_train['tamviv']\n",
    "df_train['tablets-per-capita'] = df_train['v18q1'] / df_train['tamviv']\n",
    "df_train['rooms-per-capita'] = df_train['rooms'] / df_train['tamviv']\n",
    "df_train['rent-per-capita'] = df_train['v2a1'] / df_train['tamviv']"
   ]
  },
  {
   "cell_type": "code",
   "execution_count": 42,
   "metadata": {
    "_uuid": "04f8fedf12565739f1aad4eac1f323f430e792df"
   },
   "outputs": [],
   "source": [
    "df_test['phones-per-capita'] = df_test['qmobilephone'] / df_test['tamviv']\n",
    "df_test['tablets-per-capita'] = df_test['v18q1'] / df_test['tamviv']\n",
    "df_test['rooms-per-capita'] = df_test['rooms'] / df_test['tamviv']\n",
    "df_test['rent-per-capita'] = df_test['v2a1'] / df_test['tamviv']"
   ]
  },
  {
   "cell_type": "markdown",
   "metadata": {
    "_uuid": "5380565ca49b33018e420469901a41a8aa9e54a0"
   },
   "source": [
    "- You can see that \"Total persons in the household\" !=  \"# of total individuals in the household\". \n",
    "- Somewhat weired. But for now I will keep it. "
   ]
  },
  {
   "cell_type": "code",
   "execution_count": 43,
   "metadata": {
    "_uuid": "7c7d8a46b40b1647eb0abbe3a008778b16a480a0"
   },
   "outputs": [
    {
     "data": {
      "text/plain": [
       "9509"
      ]
     },
     "execution_count": 43,
     "metadata": {},
     "output_type": "execute_result"
    }
   ],
   "source": [
    "(df_train['hogar_total'] == df_train['r4t3']).sum()"
   ]
  },
  {
   "cell_type": "markdown",
   "metadata": {
    "_uuid": "88dcef80788a229d81ef03a71f6f8801e35e0b87"
   },
   "source": [
    "### Rent per  family features"
   ]
  },
  {
   "cell_type": "markdown",
   "metadata": {
    "_uuid": "7f58dff0b4155c5d7367f4a8831764858c5e55c5"
   },
   "source": [
    "- I will reduce the number of features using shap, so let's generate many features!! Hope catch some fortune features :)"
   ]
  },
  {
   "cell_type": "code",
   "execution_count": 44,
   "metadata": {
    "_uuid": "47b46ffaaaca67bdca60361a5c5c56966793bda4"
   },
   "outputs": [],
   "source": [
    "family_size_features = ['adult', 'hogar_adul', 'hogar_mayor', 'hogar_nin', 'hogar_total', 'r4h1', \n",
    "                        'r4h2', 'r4h3', 'r4m1', 'r4m2', 'r4m3', 'r4t1', 'r4t2', 'r4t3', 'hhsize']\n",
    "new_feats = []\n",
    "for col in family_size_features:\n",
    "    new_col_name = 'new_{}_per_{}'.format('v2a1', col)\n",
    "    new_feats.append(new_col_name)\n",
    "    df_train[new_col_name] = df_train['v2a1'] / df_train[col]\n",
    "    df_test[new_col_name] = df_test['v2a1'] / df_test[col]"
   ]
  },
  {
   "cell_type": "markdown",
   "metadata": {
    "_uuid": "07d60af1a3a620f6f6e05c96f23625758b1e6e61"
   },
   "source": [
    "- Ratio feature can have infinite values. So Let them be filled with 0"
   ]
  },
  {
   "cell_type": "code",
   "execution_count": 45,
   "metadata": {
    "_uuid": "3a88293e44ccd48ea2b748a459f0176692b90678"
   },
   "outputs": [],
   "source": [
    "for col in new_feats:\n",
    "    df_train[col].replace([np.inf], np.nan, inplace=True)\n",
    "    df_train[col].fillna(0, inplace=True)\n",
    "    \n",
    "    df_test[col].replace([np.inf], np.nan, inplace=True)\n",
    "    df_test[col].fillna(0, inplace=True)"
   ]
  },
  {
   "cell_type": "markdown",
   "metadata": {
    "_uuid": "b8a13813518255466844c9eec8f886ff952d2904"
   },
   "source": [
    "### Room per family features"
   ]
  },
  {
   "cell_type": "code",
   "execution_count": 46,
   "metadata": {
    "_uuid": "5d8cf393ff925a773c6bcfc2e580571402fe40d6"
   },
   "outputs": [],
   "source": [
    "new_feats = []\n",
    "for col in family_size_features:\n",
    "    new_col_name = 'new_{}_per_{}'.format('rooms', col)\n",
    "    new_feats.append(new_col_name)\n",
    "    df_train[new_col_name] = df_train['rooms'] / df_train[col]\n",
    "    df_test[new_col_name] = df_test['rooms'] / df_test[col]\n",
    "\n",
    "for col in new_feats:\n",
    "    df_train[col].replace([np.inf], np.nan, inplace=True)\n",
    "    df_train[col].fillna(0, inplace=True)\n",
    "    \n",
    "    df_test[col].replace([np.inf], np.nan, inplace=True)\n",
    "    df_test[col].fillna(0, inplace=True)"
   ]
  },
  {
   "cell_type": "markdown",
   "metadata": {
    "_uuid": "8996ecc0399297daf4deec25e47bdbd8160ac7fe"
   },
   "source": [
    "### BedRoom per family features"
   ]
  },
  {
   "cell_type": "code",
   "execution_count": 47,
   "metadata": {
    "_uuid": "d9f49890f68d69f15ae8d7b415de5467c4e56e4a"
   },
   "outputs": [],
   "source": [
    "new_feats = []\n",
    "for col in family_size_features:\n",
    "    new_col_name = 'new_{}_per_{}'.format('bedrooms', col)\n",
    "    new_feats.append(new_col_name)\n",
    "    df_train[new_col_name] = df_train['bedrooms'] / df_train[col]\n",
    "    df_test[new_col_name] = df_test['bedrooms'] / df_test[col]\n",
    "\n",
    "for col in new_feats:\n",
    "    df_train[col].replace([np.inf], np.nan, inplace=True)\n",
    "    df_train[col].fillna(0, inplace=True)\n",
    "    \n",
    "    df_test[col].replace([np.inf], np.nan, inplace=True)\n",
    "    df_test[col].fillna(0, inplace=True)"
   ]
  },
  {
   "cell_type": "code",
   "execution_count": 48,
   "metadata": {
    "_uuid": "9aeb114529f877b728484dfdc0b60c6d69209127"
   },
   "outputs": [
    {
     "name": "stdout",
     "output_type": "stream",
     "text": [
      "(9557, 220) (23856, 219)\n"
     ]
    }
   ],
   "source": [
    "print(df_train.shape, df_test.shape) # To check the same number of features between train and test (target is there in train)"
   ]
  },
  {
   "cell_type": "markdown",
   "metadata": {
    "_uuid": "aa67229c4b620b697e552dd83bc6b29451e9275a"
   },
   "source": [
    "### Tabulet per family features"
   ]
  },
  {
   "cell_type": "code",
   "execution_count": 49,
   "metadata": {
    "_uuid": "42fbeb4d81b8f63b94fcf27f3284ae0ea0a6eeb0"
   },
   "outputs": [],
   "source": [
    "new_feats = []\n",
    "for col in family_size_features:\n",
    "    new_col_name = 'new_{}_per_{}'.format('v18q1', col)\n",
    "    new_feats.append(new_col_name)\n",
    "    df_train[new_col_name] = df_train['v18q1'] / df_train[col]\n",
    "    df_test[new_col_name] = df_test['v18q1'] / df_test[col]\n",
    "\n",
    "for col in new_feats:\n",
    "    df_train[col].replace([np.inf], np.nan, inplace=True)\n",
    "    df_train[col].fillna(0, inplace=True)\n",
    "    \n",
    "    df_test[col].replace([np.inf], np.nan, inplace=True)\n",
    "    df_test[col].fillna(0, inplace=True)"
   ]
  },
  {
   "cell_type": "markdown",
   "metadata": {
    "_uuid": "8a296e1a764b682daf24775835e6abede1ffaf1f"
   },
   "source": [
    "### phone per family features"
   ]
  },
  {
   "cell_type": "code",
   "execution_count": 50,
   "metadata": {
    "_uuid": "99592bf467959b6219965ae3705f473f952c7c8a"
   },
   "outputs": [],
   "source": [
    "new_feats = []\n",
    "for col in family_size_features:\n",
    "    new_col_name = 'new_{}_per_{}'.format('qmobilephone', col)\n",
    "    new_feats.append(new_col_name)\n",
    "    df_train[new_col_name] = df_train['qmobilephone'] / df_train[col]\n",
    "    df_test[new_col_name] = df_test['qmobilephone'] / df_test[col]\n",
    "\n",
    "for col in new_feats:\n",
    "    df_train[col].replace([np.inf], np.nan, inplace=True)\n",
    "    df_train[col].fillna(0, inplace=True)\n",
    "    \n",
    "    df_test[col].replace([np.inf], np.nan, inplace=True)\n",
    "    df_test[col].fillna(0, inplace=True)"
   ]
  },
  {
   "cell_type": "markdown",
   "metadata": {
    "_uuid": "8ed9c9918d19dd3f7b797be2c5d76713903f62e2"
   },
   "source": [
    "### rez_esc(Years behind in school)  per family features "
   ]
  },
  {
   "cell_type": "code",
   "execution_count": 51,
   "metadata": {
    "_uuid": "e6fa57417a86cbd1c4c5e9c5eb402fab4fef68e7"
   },
   "outputs": [],
   "source": [
    "new_feats = []\n",
    "for col in family_size_features:\n",
    "    new_col_name = 'new_{}_per_{}'.format('rez_esc', col)\n",
    "    new_feats.append(new_col_name)\n",
    "    df_train[new_col_name] = df_train['rez_esc'] / df_train[col]\n",
    "    df_test[new_col_name] = df_test['rez_esc'] / df_test[col]\n",
    "\n",
    "for col in new_feats:\n",
    "    df_train[col].replace([np.inf], np.nan, inplace=True)\n",
    "    df_train[col].fillna(0, inplace=True)\n",
    "    \n",
    "    df_test[col].replace([np.inf], np.nan, inplace=True)\n",
    "    df_test[col].fillna(0, inplace=True)"
   ]
  },
  {
   "cell_type": "code",
   "execution_count": 52,
   "metadata": {
    "_uuid": "5b9a3329657fe1a0733fed743d1e959e7fb7971e"
   },
   "outputs": [],
   "source": [
    "df_train['rez_esc_age'] = df_train['rez_esc'] / df_train['age']\n",
    "df_train['rez_esc_escolari'] = df_train['rez_esc'] / df_train['escolari']\n",
    "\n",
    "df_test['rez_esc_age'] = df_test['rez_esc'] / df_test['age']\n",
    "df_test['rez_esc_escolari'] = df_test['rez_esc'] / df_test['escolari']"
   ]
  },
  {
   "cell_type": "markdown",
   "metadata": {
    "_uuid": "f21ffecaa311df3251930151f3e60950c57139a0"
   },
   "source": [
    "### Rich features\n",
    "- I think the more richer, the larger number of phones and tabulet"
   ]
  },
  {
   "cell_type": "code",
   "execution_count": 53,
   "metadata": {
    "_uuid": "40d80e5f548c2861b28f385a7af41eb37d5124b5"
   },
   "outputs": [],
   "source": [
    "df_train['tabulet_x_qmobilephone'] = df_train['v18q1'] * df_train['qmobilephone']\n",
    "df_test['tabulet_x_qmobilephone'] = df_test['v18q1'] * df_test['qmobilephone']"
   ]
  },
  {
   "cell_type": "markdown",
   "metadata": {
    "_uuid": "497b11ff192c7230568d79a32818922c9de5bf6c"
   },
   "source": [
    "- wall, roof, floor may be key factor.\n",
    "- Let's multiply each of them. Becuase they are binary cat features, so mulitification of each features generates new categorical features"
   ]
  },
  {
   "cell_type": "code",
   "execution_count": 54,
   "metadata": {
    "_uuid": "4b1da678fe03bcc328aae5806f0472fc46c88bd8"
   },
   "outputs": [],
   "source": [
    "# wall and roof\n",
    "for col1 in ['epared1', 'epared2', 'epared3']:\n",
    "    for col2 in ['etecho1', 'etecho2', 'etecho3']:\n",
    "        new_col_name = 'new_{}_x_{}'.format(col1, col2)\n",
    "        df_train[new_col_name] = df_train[col1] * df_train[col2]\n",
    "        df_test[new_col_name] = df_test[col1] * df_test[col2]\n",
    "        \n",
    "# wall and floor\n",
    "for col1 in ['epared1', 'epared2', 'epared3']:\n",
    "    for col2 in ['eviv1', 'eviv2', 'eviv3']:\n",
    "        new_col_name = 'new_{}_x_{}'.format(col1, col2)\n",
    "        df_train[new_col_name] = df_train[col1] * df_train[col2]\n",
    "        df_test[new_col_name] = df_test[col1] * df_test[col2]\n",
    "\n",
    "# roof and floor\n",
    "for col1 in ['etecho1', 'etecho2', 'etecho3']:\n",
    "    for col2 in ['eviv1', 'eviv2', 'eviv3']:\n",
    "        new_col_name = 'new_{}_x_{}'.format(col1, col2)\n",
    "        df_train[new_col_name] = df_train[col1] * df_train[col2]\n",
    "        df_test[new_col_name] = df_test[col1] * df_test[col2]"
   ]
  },
  {
   "cell_type": "markdown",
   "metadata": {
    "_uuid": "e9085c19e1bc0f3909db69a2de83727fb5a9e1eb"
   },
   "source": [
    "- combination using three features"
   ]
  },
  {
   "cell_type": "code",
   "execution_count": 55,
   "metadata": {
    "_uuid": "10acc48210fa36d6cf294732222d5650f0fb9dd8"
   },
   "outputs": [],
   "source": [
    "for col1 in ['epared1', 'epared2', 'epared3']:\n",
    "    for col2 in ['etecho1', 'etecho2', 'etecho3']:\n",
    "        for col3 in ['eviv1', 'eviv2', 'eviv3']:\n",
    "            new_col_name = 'new_{}_x_{}_x_{}'.format(col1, col2, col3)\n",
    "            df_train[new_col_name] = df_train[col1] * df_train[col2] * df_train[col3]\n",
    "            df_test[new_col_name] = df_test[col1] * df_test[col2] * df_train[col3]"
   ]
  },
  {
   "cell_type": "code",
   "execution_count": 56,
   "metadata": {
    "_uuid": "29987d9c3baaa375a35d5eae4b244f4d7bd10efc"
   },
   "outputs": [
    {
     "name": "stdout",
     "output_type": "stream",
     "text": [
      "(9557, 322) (23856, 321)\n"
     ]
    }
   ],
   "source": [
    "print(df_train.shape, df_test.shape)"
   ]
  },
  {
   "cell_type": "markdown",
   "metadata": {
    "_uuid": "92c51e8598ea7221ee7ed3b93465be613569944b"
   },
   "source": [
    "- I want to mix electricity and energy features -> energy features"
   ]
  },
  {
   "cell_type": "code",
   "execution_count": 57,
   "metadata": {
    "_uuid": "b8ce3b259249a4b4947fcf7d42773d3b855967f7"
   },
   "outputs": [],
   "source": [
    "for col1 in ['public', 'planpri', 'noelec', 'coopele']:\n",
    "    for col2 in ['energcocinar1', 'energcocinar2', 'energcocinar3', 'energcocinar4']:\n",
    "        new_col_name = 'new_{}_x_{}'.format(col1, col2)\n",
    "        df_train[new_col_name] = df_train[col1] * df_train[col2]\n",
    "        df_test[new_col_name] = df_test[col1] * df_test[col2]"
   ]
  },
  {
   "cell_type": "markdown",
   "metadata": {
    "_uuid": "1395cc67ed470303114a43c1cc0b5907cadb8c4d"
   },
   "source": [
    "- I want to mix toilet and rubbish disposal features -> other_infra features"
   ]
  },
  {
   "cell_type": "code",
   "execution_count": 58,
   "metadata": {
    "_uuid": "fcede16a4d1da244cb829b67e0abc1977b5e0d4d"
   },
   "outputs": [],
   "source": [
    "for col1 in ['sanitario1', 'sanitario2', 'sanitario3', 'sanitario5', 'sanitario6']:\n",
    "    for col2 in ['elimbasu1', 'elimbasu2', 'elimbasu3', 'elimbasu4', 'elimbasu5', 'elimbasu6']:\n",
    "        new_col_name = 'new_{}_x_{}'.format(col1, col2)\n",
    "        df_train[new_col_name] = df_train[col1] * df_train[col2]\n",
    "        df_test[new_col_name] = df_test[col1] * df_test[col2]"
   ]
  },
  {
   "cell_type": "markdown",
   "metadata": {
    "_uuid": "ee29d4326b959fafcabb82d7b8a86e4a3c819548"
   },
   "source": [
    "- I want to mix toilet and water provision features -> water features"
   ]
  },
  {
   "cell_type": "code",
   "execution_count": 59,
   "metadata": {
    "_uuid": "9f539e6d25f9eafb37190fed3a278f4cfd92af3e"
   },
   "outputs": [],
   "source": [
    "for col1 in ['abastaguadentro', 'abastaguafuera', 'abastaguano']:\n",
    "    for col2 in ['sanitario1', 'sanitario2', 'sanitario3', 'sanitario5', 'sanitario6']:\n",
    "        new_col_name = 'new_{}_x_{}'.format(col1, col2)\n",
    "        df_train[new_col_name] = df_train[col1] * df_train[col2]\n",
    "        df_test[new_col_name] = df_test[col1] * df_test[col2]"
   ]
  },
  {
   "cell_type": "code",
   "execution_count": 60,
   "metadata": {
    "_uuid": "1bfe5a24ad2775593b9ac193c2e5d2df34409a4d"
   },
   "outputs": [
    {
     "name": "stdout",
     "output_type": "stream",
     "text": [
      "(9557, 383) (23856, 382)\n"
     ]
    }
   ],
   "source": [
    "print(df_train.shape, df_test.shape)"
   ]
  },
  {
   "cell_type": "markdown",
   "metadata": {
    "_uuid": "e9a662850fae45b7841e44b6975b3c567b64c6bb"
   },
   "source": [
    "- I want mix education and area features -> education_zone_features"
   ]
  },
  {
   "cell_type": "code",
   "execution_count": 61,
   "metadata": {
    "_uuid": "a8815d3f93460c0a3fa2f21c4e3d0f3db9e8e714"
   },
   "outputs": [],
   "source": [
    "for col1 in ['area1', 'area2']:\n",
    "    for col2 in ['instlevel1', 'instlevel2', 'instlevel3', 'instlevel4', 'instlevel5', 'instlevel6', 'instlevel7', 'instlevel8', 'instlevel9']:\n",
    "        new_col_name = 'new_{}_x_{}'.format(col1, col2)\n",
    "        df_train[new_col_name] = df_train[col1] * df_train[col2]\n",
    "        df_test[new_col_name] = df_test[col1] * df_test[col2]"
   ]
  },
  {
   "cell_type": "markdown",
   "metadata": {
    "_uuid": "11f50d3234faf68fd28501f11cb38f181ef7001b"
   },
   "source": [
    "- Mix region and education"
   ]
  },
  {
   "cell_type": "code",
   "execution_count": 62,
   "metadata": {
    "_uuid": "abf8ef60e2f3ad77d78329a96b68b728969c37ab"
   },
   "outputs": [],
   "source": [
    "for col1 in ['lugar1', 'lugar2', 'lugar3', 'lugar4', 'lugar5', 'lugar6']:\n",
    "    for col2 in ['instlevel1', 'instlevel2', 'instlevel3', 'instlevel4', 'instlevel5', 'instlevel6', 'instlevel7', 'instlevel8', 'instlevel9']:\n",
    "        new_col_name = 'new_{}_x_{}'.format(col1, col2)\n",
    "        df_train[new_col_name] = df_train[col1] * df_train[col2]\n",
    "        df_test[new_col_name] = df_test[col1] * df_test[col2]"
   ]
  },
  {
   "cell_type": "code",
   "execution_count": 63,
   "metadata": {
    "_uuid": "6afffae902157da07565806da902eada635e86c8"
   },
   "outputs": [
    {
     "name": "stdout",
     "output_type": "stream",
     "text": [
      "(9557, 455) (23856, 454)\n"
     ]
    }
   ],
   "source": [
    "print(df_train.shape, df_test.shape)"
   ]
  },
  {
   "cell_type": "markdown",
   "metadata": {
    "_uuid": "d5fd48e31c759584522282cea8c7c01be8dde430"
   },
   "source": [
    "- Multiply television / mobilephone / computer / tabulet / refrigerator -> electornics features"
   ]
  },
  {
   "cell_type": "code",
   "execution_count": 64,
   "metadata": {
    "_uuid": "2f2b4b02509471c2ee2edbffb5b0f8415e2d9f32"
   },
   "outputs": [],
   "source": [
    "df_train['electronics'] = df_train['computer'] * df_train['mobilephone'] * df_train['television'] * df_train['v18q'] * df_train['refrig']\n",
    "df_test['electronics'] = df_test['computer'] * df_test['mobilephone'] * df_test['television'] * df_test['v18q'] * df_test['refrig']\n",
    "\n",
    "df_train['no_appliances'] = df_train['refrig'] + df_train['computer'] + df_train['television'] + df_train['mobilephone']\n",
    "df_test['no_appliances'] = df_test['refrig'] + df_test['computer'] + df_test['television'] + df_test['mobilephone']"
   ]
  },
  {
   "cell_type": "markdown",
   "metadata": {
    "_uuid": "55bf2544aa4a56d1fa0d3b8d47a7ddba73d3e9e5"
   },
   "source": [
    "- Mix wall material of roof, floor, wall"
   ]
  },
  {
   "cell_type": "code",
   "execution_count": 65,
   "metadata": {
    "_uuid": "aef35c2d709fa6e165f55916a5c781a18faf8751"
   },
   "outputs": [],
   "source": [
    "for col1 in ['paredblolad', 'paredzocalo', 'paredpreb', 'pareddes', 'paredmad', 'paredzinc', 'paredfibras', 'paredother']:\n",
    "    for col2 in ['pisomoscer', 'pisocemento', 'pisoother', 'pisonatur', 'pisonotiene', 'pisomadera']:\n",
    "        new_col_name = 'new_{}_x_{}'.format(col1, col2)\n",
    "        df_train[new_col_name] = df_train[col1] * df_train[col2]\n",
    "        df_test[new_col_name] = df_test[col1] * df_test[col2]\n",
    "\n",
    "for col1 in ['pisomoscer', 'pisocemento', 'pisoother', 'pisonatur', 'pisonotiene', 'pisomadera']:\n",
    "    for col1 in ['techozinc', 'techoentrepiso', 'techocane', 'techootro']:\n",
    "        new_col_name = 'new_{}_x_{}'.format(col1, col2)\n",
    "        df_train[new_col_name] = df_train[col1] * df_train[col2]\n",
    "        df_test[new_col_name] = df_test[col1] * df_test[col2]\n",
    "        \n",
    "for col1 in ['paredblolad', 'paredzocalo', 'paredpreb', 'pareddes', 'paredmad', 'paredzinc', 'paredfibras', 'paredother']:\n",
    "    for col2 in ['techozinc', 'techoentrepiso', 'techocane', 'techootro']:\n",
    "        new_col_name = 'new_{}_x_{}'.format(col1, col2)\n",
    "        df_train[new_col_name] = df_train[col1] * df_train[col2]\n",
    "        df_test[new_col_name] = df_test[col1] * df_test[col2]        \n",
    "        \n",
    "for col1 in ['paredblolad', 'paredzocalo', 'paredpreb', 'pareddes', 'paredmad', 'paredzinc', 'paredfibras', 'paredother']:\n",
    "    for col2 in ['pisomoscer', 'pisocemento', 'pisoother', 'pisonatur', 'pisonotiene', 'pisomadera']:\n",
    "        for col3 in ['techozinc', 'techoentrepiso', 'techocane', 'techootro']:\n",
    "            new_col_name = 'new_{}_x_{}_x_{}'.format(col1, col2, col3)\n",
    "            df_train[new_col_name] = df_train[col1] * df_train[col2] * df_train[col3]\n",
    "            df_test[new_col_name] = df_test[col1] * df_test[col2] * df_train[col3]"
   ]
  },
  {
   "cell_type": "code",
   "execution_count": 66,
   "metadata": {
    "_uuid": "35be9d556f0c0ffb16ecdb7c15d1181309e0c7e6"
   },
   "outputs": [
    {
     "name": "stdout",
     "output_type": "stream",
     "text": [
      "(9557, 733) (23856, 732)\n"
     ]
    }
   ],
   "source": [
    "print(df_train.shape, df_test.shape)"
   ]
  },
  {
   "cell_type": "markdown",
   "metadata": {
    "_uuid": "cbc7495d9cc86871d7e3318bfa81575b985ea4bc"
   },
   "source": [
    "- Wow! without any aggreation features, we hvae 446 features for now. Actually mixing the materials of walls make thousands of features. I don't want to do that because of computational costs!"
   ]
  },
  {
   "cell_type": "markdown",
   "metadata": {
    "_uuid": "a473a83424be54e6658544f5b0456618cf0e912f"
   },
   "source": [
    "### Remove feature with only one value"
   ]
  },
  {
   "cell_type": "code",
   "execution_count": 67,
   "metadata": {
    "_uuid": "12605c0a589e7e6c11ef46b773aae56ca4bb8b83",
    "scrolled": true
   },
   "outputs": [
    {
     "name": "stdout",
     "output_type": "stream",
     "text": [
      "elimbasu5\n",
      "new_planpri_x_energcocinar1\n",
      "new_planpri_x_energcocinar2\n",
      "new_planpri_x_energcocinar3\n",
      "new_planpri_x_energcocinar4\n",
      "new_noelec_x_energcocinar2\n",
      "new_sanitario1_x_elimbasu4\n",
      "new_sanitario1_x_elimbasu5\n",
      "new_sanitario1_x_elimbasu6\n",
      "new_sanitario2_x_elimbasu4\n",
      "new_sanitario2_x_elimbasu5\n",
      "new_sanitario2_x_elimbasu6\n",
      "new_sanitario3_x_elimbasu5\n",
      "new_sanitario5_x_elimbasu4\n",
      "new_sanitario5_x_elimbasu5\n",
      "new_sanitario5_x_elimbasu6\n",
      "new_sanitario6_x_elimbasu2\n",
      "new_sanitario6_x_elimbasu4\n",
      "new_sanitario6_x_elimbasu5\n",
      "new_sanitario6_x_elimbasu6\n",
      "new_abastaguafuera_x_sanitario6\n",
      "new_abastaguano_x_sanitario2\n",
      "new_abastaguano_x_sanitario6\n",
      "new_paredblolad_x_pisonatur\n",
      "new_paredblolad_x_pisonotiene\n",
      "new_paredzocalo_x_pisoother\n",
      "new_paredzocalo_x_pisonatur\n",
      "new_paredpreb_x_pisonatur\n",
      "new_pareddes_x_pisoother\n",
      "new_pareddes_x_pisonatur\n",
      "new_paredmad_x_pisoother\n",
      "new_paredmad_x_pisonatur\n",
      "new_paredzinc_x_pisoother\n",
      "new_paredzinc_x_pisonatur\n",
      "new_paredfibras_x_pisoother\n",
      "new_paredfibras_x_pisonatur\n",
      "new_paredfibras_x_pisonotiene\n",
      "new_paredfibras_x_pisomadera\n",
      "new_paredother_x_pisoother\n",
      "new_paredother_x_pisonatur\n",
      "new_paredother_x_pisonotiene\n",
      "new_paredother_x_pisomadera\n",
      "new_techocane_x_pisomadera\n",
      "new_techootro_x_pisomadera\n",
      "new_paredzocalo_x_techoentrepiso\n",
      "new_paredzocalo_x_techocane\n",
      "new_paredzocalo_x_techootro\n",
      "new_paredpreb_x_techootro\n",
      "new_pareddes_x_techoentrepiso\n",
      "new_pareddes_x_techocane\n",
      "new_pareddes_x_techootro\n",
      "new_paredmad_x_techocane\n",
      "new_paredmad_x_techootro\n",
      "new_paredzinc_x_techoentrepiso\n",
      "new_paredzinc_x_techocane\n",
      "new_paredzinc_x_techootro\n",
      "new_paredfibras_x_techoentrepiso\n",
      "new_paredfibras_x_techootro\n",
      "new_paredother_x_techoentrepiso\n",
      "new_paredother_x_techocane\n",
      "new_paredother_x_techootro\n",
      "new_paredblolad_x_pisocemento_x_techocane\n",
      "new_paredblolad_x_pisocemento_x_techootro\n",
      "new_paredblolad_x_pisoother_x_techoentrepiso\n",
      "new_paredblolad_x_pisoother_x_techocane\n",
      "new_paredblolad_x_pisoother_x_techootro\n",
      "new_paredblolad_x_pisonatur_x_techozinc\n",
      "new_paredblolad_x_pisonatur_x_techoentrepiso\n",
      "new_paredblolad_x_pisonatur_x_techocane\n",
      "new_paredblolad_x_pisonatur_x_techootro\n",
      "new_paredblolad_x_pisonotiene_x_techozinc\n",
      "new_paredblolad_x_pisonotiene_x_techoentrepiso\n",
      "new_paredblolad_x_pisonotiene_x_techocane\n",
      "new_paredblolad_x_pisonotiene_x_techootro\n",
      "new_paredblolad_x_pisomadera_x_techocane\n",
      "new_paredblolad_x_pisomadera_x_techootro\n",
      "new_paredzocalo_x_pisomoscer_x_techoentrepiso\n",
      "new_paredzocalo_x_pisomoscer_x_techocane\n",
      "new_paredzocalo_x_pisomoscer_x_techootro\n",
      "new_paredzocalo_x_pisocemento_x_techoentrepiso\n",
      "new_paredzocalo_x_pisocemento_x_techocane\n",
      "new_paredzocalo_x_pisocemento_x_techootro\n",
      "new_paredzocalo_x_pisoother_x_techozinc\n",
      "new_paredzocalo_x_pisoother_x_techoentrepiso\n",
      "new_paredzocalo_x_pisoother_x_techocane\n",
      "new_paredzocalo_x_pisoother_x_techootro\n",
      "new_paredzocalo_x_pisonatur_x_techozinc\n",
      "new_paredzocalo_x_pisonatur_x_techoentrepiso\n",
      "new_paredzocalo_x_pisonatur_x_techocane\n",
      "new_paredzocalo_x_pisonatur_x_techootro\n",
      "new_paredzocalo_x_pisonotiene_x_techoentrepiso\n",
      "new_paredzocalo_x_pisonotiene_x_techocane\n",
      "new_paredzocalo_x_pisonotiene_x_techootro\n",
      "new_paredzocalo_x_pisomadera_x_techoentrepiso\n",
      "new_paredzocalo_x_pisomadera_x_techocane\n",
      "new_paredzocalo_x_pisomadera_x_techootro\n",
      "new_paredpreb_x_pisocemento_x_techoentrepiso\n",
      "new_paredpreb_x_pisocemento_x_techocane\n",
      "new_paredpreb_x_pisocemento_x_techootro\n",
      "new_paredpreb_x_pisoother_x_techoentrepiso\n",
      "new_paredpreb_x_pisoother_x_techocane\n",
      "new_paredpreb_x_pisoother_x_techootro\n",
      "new_paredpreb_x_pisonatur_x_techozinc\n",
      "new_paredpreb_x_pisonatur_x_techoentrepiso\n",
      "new_paredpreb_x_pisonatur_x_techocane\n",
      "new_paredpreb_x_pisonatur_x_techootro\n",
      "new_paredpreb_x_pisonotiene_x_techozinc\n",
      "new_paredpreb_x_pisonotiene_x_techoentrepiso\n",
      "new_paredpreb_x_pisonotiene_x_techocane\n",
      "new_paredpreb_x_pisonotiene_x_techootro\n",
      "new_paredpreb_x_pisomadera_x_techoentrepiso\n",
      "new_paredpreb_x_pisomadera_x_techocane\n",
      "new_paredpreb_x_pisomadera_x_techootro\n",
      "new_pareddes_x_pisomoscer_x_techozinc\n",
      "new_pareddes_x_pisomoscer_x_techoentrepiso\n",
      "new_pareddes_x_pisomoscer_x_techocane\n",
      "new_pareddes_x_pisomoscer_x_techootro\n",
      "new_pareddes_x_pisocemento_x_techoentrepiso\n",
      "new_pareddes_x_pisocemento_x_techocane\n",
      "new_pareddes_x_pisocemento_x_techootro\n",
      "new_pareddes_x_pisoother_x_techozinc\n",
      "new_pareddes_x_pisoother_x_techoentrepiso\n",
      "new_pareddes_x_pisoother_x_techocane\n",
      "new_pareddes_x_pisoother_x_techootro\n",
      "new_pareddes_x_pisonatur_x_techozinc\n",
      "new_pareddes_x_pisonatur_x_techoentrepiso\n",
      "new_pareddes_x_pisonatur_x_techocane\n",
      "new_pareddes_x_pisonatur_x_techootro\n",
      "new_pareddes_x_pisonotiene_x_techoentrepiso\n",
      "new_pareddes_x_pisonotiene_x_techocane\n",
      "new_pareddes_x_pisonotiene_x_techootro\n",
      "new_pareddes_x_pisomadera_x_techozinc\n",
      "new_pareddes_x_pisomadera_x_techoentrepiso\n",
      "new_pareddes_x_pisomadera_x_techocane\n",
      "new_pareddes_x_pisomadera_x_techootro\n",
      "new_paredmad_x_pisomoscer_x_techocane\n",
      "new_paredmad_x_pisomoscer_x_techootro\n",
      "new_paredmad_x_pisocemento_x_techoentrepiso\n",
      "new_paredmad_x_pisocemento_x_techocane\n",
      "new_paredmad_x_pisocemento_x_techootro\n",
      "new_paredmad_x_pisoother_x_techozinc\n",
      "new_paredmad_x_pisoother_x_techoentrepiso\n",
      "new_paredmad_x_pisoother_x_techocane\n",
      "new_paredmad_x_pisoother_x_techootro\n",
      "new_paredmad_x_pisonatur_x_techozinc\n",
      "new_paredmad_x_pisonatur_x_techoentrepiso\n",
      "new_paredmad_x_pisonatur_x_techocane\n",
      "new_paredmad_x_pisonatur_x_techootro\n",
      "new_paredmad_x_pisonotiene_x_techoentrepiso\n",
      "new_paredmad_x_pisonotiene_x_techocane\n",
      "new_paredmad_x_pisonotiene_x_techootro\n",
      "new_paredmad_x_pisomadera_x_techocane\n",
      "new_paredzinc_x_pisomoscer_x_techoentrepiso\n",
      "new_paredzinc_x_pisomoscer_x_techocane\n",
      "new_paredzinc_x_pisomoscer_x_techootro\n",
      "new_paredzinc_x_pisocemento_x_techoentrepiso\n",
      "new_paredzinc_x_pisocemento_x_techocane\n",
      "new_paredzinc_x_pisocemento_x_techootro\n",
      "new_paredzinc_x_pisoother_x_techozinc\n",
      "new_paredzinc_x_pisoother_x_techoentrepiso\n",
      "new_paredzinc_x_pisoother_x_techocane\n",
      "new_paredzinc_x_pisoother_x_techootro\n",
      "new_paredzinc_x_pisonatur_x_techozinc\n",
      "new_paredzinc_x_pisonatur_x_techoentrepiso\n",
      "new_paredzinc_x_pisonatur_x_techocane\n",
      "new_paredzinc_x_pisonatur_x_techootro\n",
      "new_paredzinc_x_pisonotiene_x_techoentrepiso\n",
      "new_paredzinc_x_pisonotiene_x_techocane\n",
      "new_paredzinc_x_pisonotiene_x_techootro\n",
      "new_paredzinc_x_pisomadera_x_techoentrepiso\n",
      "new_paredzinc_x_pisomadera_x_techocane\n",
      "new_paredzinc_x_pisomadera_x_techootro\n",
      "new_paredfibras_x_pisomoscer_x_techoentrepiso\n",
      "new_paredfibras_x_pisomoscer_x_techocane\n",
      "new_paredfibras_x_pisomoscer_x_techootro\n",
      "new_paredfibras_x_pisocemento_x_techoentrepiso\n",
      "new_paredfibras_x_pisocemento_x_techocane\n",
      "new_paredfibras_x_pisocemento_x_techootro\n",
      "new_paredfibras_x_pisoother_x_techozinc\n",
      "new_paredfibras_x_pisoother_x_techoentrepiso\n",
      "new_paredfibras_x_pisoother_x_techocane\n",
      "new_paredfibras_x_pisoother_x_techootro\n",
      "new_paredfibras_x_pisonatur_x_techozinc\n",
      "new_paredfibras_x_pisonatur_x_techoentrepiso\n",
      "new_paredfibras_x_pisonatur_x_techocane\n",
      "new_paredfibras_x_pisonatur_x_techootro\n",
      "new_paredfibras_x_pisonotiene_x_techozinc\n",
      "new_paredfibras_x_pisonotiene_x_techoentrepiso\n",
      "new_paredfibras_x_pisonotiene_x_techocane\n",
      "new_paredfibras_x_pisonotiene_x_techootro\n",
      "new_paredfibras_x_pisomadera_x_techozinc\n",
      "new_paredfibras_x_pisomadera_x_techoentrepiso\n",
      "new_paredfibras_x_pisomadera_x_techocane\n",
      "new_paredfibras_x_pisomadera_x_techootro\n",
      "new_paredother_x_pisomoscer_x_techozinc\n",
      "new_paredother_x_pisomoscer_x_techoentrepiso\n",
      "new_paredother_x_pisomoscer_x_techocane\n",
      "new_paredother_x_pisomoscer_x_techootro\n",
      "new_paredother_x_pisocemento_x_techoentrepiso\n",
      "new_paredother_x_pisocemento_x_techocane\n",
      "new_paredother_x_pisocemento_x_techootro\n",
      "new_paredother_x_pisoother_x_techozinc\n",
      "new_paredother_x_pisoother_x_techoentrepiso\n",
      "new_paredother_x_pisoother_x_techocane\n",
      "new_paredother_x_pisoother_x_techootro\n",
      "new_paredother_x_pisonatur_x_techozinc\n",
      "new_paredother_x_pisonatur_x_techoentrepiso\n",
      "new_paredother_x_pisonatur_x_techocane\n",
      "new_paredother_x_pisonatur_x_techootro\n",
      "new_paredother_x_pisonotiene_x_techozinc\n",
      "new_paredother_x_pisonotiene_x_techoentrepiso\n",
      "new_paredother_x_pisonotiene_x_techocane\n",
      "new_paredother_x_pisonotiene_x_techootro\n",
      "new_paredother_x_pisomadera_x_techozinc\n",
      "new_paredother_x_pisomadera_x_techoentrepiso\n",
      "new_paredother_x_pisomadera_x_techocane\n",
      "new_paredother_x_pisomadera_x_techootro\n"
     ]
    }
   ],
   "source": [
    "cols_with_only_one_value = []\n",
    "for col in df_train.columns:\n",
    "    if col == 'Target':\n",
    "        continue\n",
    "    if df_train[col].value_counts().shape[0] == 1 or df_test[col].value_counts().shape[0] == 1:\n",
    "        print(col)\n",
    "        cols_with_only_one_value.append(col)"
   ]
  },
  {
   "cell_type": "markdown",
   "metadata": {
    "_uuid": "23753ad58e2e62a3f871cc9889c754ec88f1b96e"
   },
   "source": [
    "- Let's remove them!"
   ]
  },
  {
   "cell_type": "code",
   "execution_count": 68,
   "metadata": {
    "_uuid": "f3d31d3ad469fe2213a6922c5750b14e4cfe51c9"
   },
   "outputs": [],
   "source": [
    "df_train.drop(cols_with_only_one_value, axis=1, inplace=True)\n",
    "df_test.drop(cols_with_only_one_value, axis=1, inplace=True)"
   ]
  },
  {
   "cell_type": "markdown",
   "metadata": {
    "_uuid": "03e1cab1ae9813c3be513ef6742772a7ba4832b7"
   },
   "source": [
    "### Check whether both train and test have same features"
   ]
  },
  {
   "cell_type": "code",
   "execution_count": 69,
   "metadata": {
    "_uuid": "cd8c72abba1599ade2e25b545beaf98cd975dda8"
   },
   "outputs": [],
   "source": [
    "cols_train = np.array(sorted([col for col in df_train.columns if col != 'Target']))\n",
    "cols_test = np.array(sorted(df_test.columns))"
   ]
  },
  {
   "cell_type": "code",
   "execution_count": 70,
   "metadata": {
    "_uuid": "14a667fb496fe8126bb83eddd805877c458f3306",
    "scrolled": true
   },
   "outputs": [
    {
     "data": {
      "text/plain": [
       "True"
      ]
     },
     "execution_count": 70,
     "metadata": {},
     "output_type": "execute_result"
    }
   ],
   "source": [
    "(cols_train == cols_test).sum() == len(cols_train)"
   ]
  },
  {
   "cell_type": "markdown",
   "metadata": {
    "_uuid": "1780b7a94a7a4b045e06329a0457b6698009bc37"
   },
   "source": [
    "- Good, Let's move!"
   ]
  },
  {
   "cell_type": "markdown",
   "metadata": {
    "_uuid": "7d01fd327a73ac9976674b289104c0b78f52611c"
   },
   "source": [
    "## 2.4 aggregation features"
   ]
  },
  {
   "cell_type": "markdown",
   "metadata": {
    "_uuid": "b5ae6da7d977d5ed6c25ff8ebce98177f96c9f02"
   },
   "source": [
    "- In this competition, each samples are member of spectific household(idhogar). So let's aggregate based on 'idhogar' values."
   ]
  },
  {
   "cell_type": "markdown",
   "metadata": {
    "_uuid": "78b7f8c2f9974b2afa1bbcf936ec0c32d02a9f74"
   },
   "source": [
    "### Aggregation for family features"
   ]
  },
  {
   "cell_type": "code",
   "execution_count": 71,
   "metadata": {
    "_uuid": "d1b38092ef5ba6a4f04014576cd7d52e9e2e2e57"
   },
   "outputs": [],
   "source": [
    "def max_min(x):\n",
    "    return x.max() - x.min()"
   ]
  },
  {
   "cell_type": "code",
   "execution_count": 72,
   "metadata": {
    "_uuid": "349938aac2a7507c11c33d02300a1a62ccd37afd"
   },
   "outputs": [
    {
     "name": "stderr",
     "output_type": "stream",
     "text": [
      "100%|██████████████████████████████████████████████████████████████████████████████████| 15/15 [00:05<00:00,  2.76it/s]"
     ]
    },
    {
     "name": "stdout",
     "output_type": "stream",
     "text": [
      "new aggregate train set has 2988 rows, and 105 features\n",
      "new aggregate test set has 7352 rows, and 105 features\n"
     ]
    },
    {
     "name": "stderr",
     "output_type": "stream",
     "text": [
      "\n"
     ]
    }
   ],
   "source": [
    "agg_train = pd.DataFrame()\n",
    "agg_test = pd.DataFrame()\n",
    "\n",
    "for item in tqdm(family_size_features):\n",
    "    for i, function in enumerate(['mean','std','min','max','sum', 'count', max_min]):\n",
    "        group_train = df_train[item].groupby(df_train['idhogar']).agg(function)\n",
    "        group_test = df_test[item].groupby(df_test['idhogar']).agg(function)\n",
    "        if i == 6:\n",
    "            new_col = item + '_new_' + 'max_min'\n",
    "        else:\n",
    "            new_col = item + '_new_' + function\n",
    "        agg_train[new_col] = group_train\n",
    "        agg_test[new_col] = group_test\n",
    "\n",
    "print('new aggregate train set has {} rows, and {} features'.format(agg_train.shape[0], agg_train.shape[1]))\n",
    "print('new aggregate test set has {} rows, and {} features'.format(agg_test.shape[0], agg_test.shape[1]))"
   ]
  },
  {
   "cell_type": "code",
   "execution_count": 73,
   "metadata": {
    "_uuid": "d6d6661f9c917a21eb7c17d257d26ea65a9f63bb"
   },
   "outputs": [
    {
     "name": "stderr",
     "output_type": "stream",
     "text": [
      "100%|██████████████████████████████████████████████████████████████████████████████████| 47/47 [00:00<00:00, 71.65it/s]"
     ]
    },
    {
     "name": "stdout",
     "output_type": "stream",
     "text": [
      "new aggregate train set has 2988 rows, and 199 features\n",
      "new aggregate test set has 7352 rows, and 199 features\n"
     ]
    },
    {
     "name": "stderr",
     "output_type": "stream",
     "text": [
      "\n"
     ]
    }
   ],
   "source": [
    "aggr_list = ['rez_esc', 'dis', 'male', 'female', \n",
    "                  'estadocivil1', 'estadocivil2', 'estadocivil3', 'estadocivil4', 'estadocivil5', 'estadocivil6', 'estadocivil7', \n",
    "                  'parentesco2', 'parentesco3', 'parentesco4', 'parentesco5', 'parentesco6', 'parentesco7', 'parentesco8', 'parentesco9', 'parentesco10', \n",
    "                  'parentesco11', 'parentesco12',\n",
    "                  'instlevel1', 'instlevel2', 'instlevel3', 'instlevel4', 'instlevel5', 'instlevel6', 'instlevel7', 'instlevel8', 'instlevel9',\n",
    "                 'epared1', 'epared2', 'epared3', 'etecho1', 'etecho2', 'etecho3', 'eviv1', 'eviv2', 'eviv3', 'refrig', 'television', 'mobilephone',\n",
    "            'area1', 'area2', 'v18q', 'edjef']\n",
    "\n",
    "\n",
    "\n",
    "for item in tqdm(aggr_list):\n",
    "    for function in ['count', 'sum']:\n",
    "        group_train = df_train[item].groupby(df_train['idhogar']).agg(function)\n",
    "        group_test = df_test[item].groupby(df_test['idhogar']).agg(function)\n",
    "        new_col = item + '_new1_' + function\n",
    "        agg_train[new_col] = group_train\n",
    "        agg_test[new_col] = group_test\n",
    "print('new aggregate train set has {} rows, and {} features'.format(agg_train.shape[0], agg_train.shape[1]))\n",
    "print('new aggregate test set has {} rows, and {} features'.format(agg_test.shape[0], agg_test.shape[1]))"
   ]
  },
  {
   "cell_type": "code",
   "execution_count": 74,
   "metadata": {
    "_uuid": "d6d6661f9c917a21eb7c17d257d26ea65a9f63bb",
    "scrolled": true
   },
   "outputs": [
    {
     "name": "stderr",
     "output_type": "stream",
     "text": [
      "100%|████████████████████████████████████████████████████████████████████████████████████| 9/9 [00:03<00:00,  2.62it/s]"
     ]
    },
    {
     "name": "stdout",
     "output_type": "stream",
     "text": [
      "new aggregate train set has 2988 rows, and 208 features\n",
      "new aggregate test set has 7352 rows, and 208 features\n"
     ]
    },
    {
     "name": "stderr",
     "output_type": "stream",
     "text": [
      "\n"
     ]
    }
   ],
   "source": [
    "aggr_list = ['escolari', 'age', 'escolari_age', 'dependency', 'bedrooms', 'overcrowding', 'rooms', 'qmobilephone', 'v18q1']\n",
    "\n",
    "for item in tqdm(aggr_list):\n",
    "    for function in ['mean','std','min','max','sum', 'count', max_min]:\n",
    "        group_train = df_train[item].groupby(df_train['idhogar']).agg(function)\n",
    "        group_test = df_test[item].groupby(df_test['idhogar']).agg(function)\n",
    "        if i == 6:\n",
    "            new_col = item + '_new2_' + 'max_min'\n",
    "        else:\n",
    "            new_col = item + '_new2_' + function\n",
    "        agg_train[new_col] = group_train\n",
    "        agg_test[new_col] = group_test\n",
    "\n",
    "print('new aggregate train set has {} rows, and {} features'.format(agg_train.shape[0], agg_train.shape[1]))\n",
    "print('new aggregate test set has {} rows, and {} features'.format(agg_test.shape[0], agg_test.shape[1]))"
   ]
  },
  {
   "cell_type": "code",
   "execution_count": 75,
   "metadata": {
    "_uuid": "1b9ad7e9a41c693eb7ec8d052f4b258816ac70c6"
   },
   "outputs": [
    {
     "name": "stdout",
     "output_type": "stream",
     "text": [
      "train shape: (9557, 724) test shape: (23856, 723)\n"
     ]
    }
   ],
   "source": [
    "agg_test = agg_test.reset_index()\n",
    "agg_train = agg_train.reset_index()\n",
    "\n",
    "train_agg = pd.merge(df_train, agg_train, on='idhogar')\n",
    "test = pd.merge(df_test, agg_test, on='idhogar')\n",
    "\n",
    "#fill all na as 0\n",
    "train_agg.fillna(value=0, inplace=True)\n",
    "test.fillna(value=0, inplace=True)\n",
    "\n",
    "print('train shape:', train_agg.shape, 'test shape:', test.shape)"
   ]
  },
  {
   "cell_type": "code",
   "execution_count": 76,
   "metadata": {
    "_uuid": "85d435ab69c9e66a70c43d517b65e3c2ce1d6787"
   },
   "outputs": [
    {
     "name": "stdout",
     "output_type": "stream",
     "text": [
      "train shape: (9557, 1006) test shape: (23856, 1005)\n"
     ]
    }
   ],
   "source": [
    "aggr_list = ['rez_esc', 'dis', 'male', 'female', \n",
    "                  'estadocivil1', 'estadocivil2', 'estadocivil3', 'estadocivil4', 'estadocivil5', 'estadocivil6', 'estadocivil7', \n",
    "                  'parentesco2', 'parentesco3', 'parentesco4', 'parentesco5', 'parentesco6', 'parentesco7', 'parentesco8', 'parentesco9', 'parentesco10', \n",
    "                  'parentesco11', 'parentesco12',\n",
    "                  'instlevel1', 'instlevel2', 'instlevel3', 'instlevel4', 'instlevel5', 'instlevel6', 'instlevel7', 'instlevel8', 'instlevel9',\n",
    "                 'epared1', 'epared2', 'epared3', 'etecho1', 'etecho2', 'etecho3', 'eviv1', 'eviv2', 'eviv3', 'refrig', 'television', 'mobilephone',\n",
    "            'area1', 'area2', 'v18q', 'edjef']\n",
    "    \n",
    "for lugar in ['lugar1', 'lugar2', 'lugar3', 'lugar4', 'lugar5', 'lugar6']:\n",
    "    group_train = df_train[[lugar, 'idhogar'] + aggr_list].groupby([lugar, 'idhogar']).sum().reset_index()\n",
    "    group_train.columns = [lugar, 'idhogar'] + ['new3_{}_idhogar_{}'.format(lugar, col) for col in group_train][2:]\n",
    "\n",
    "    group_test = df_test[[lugar, 'idhogar'] + aggr_list].groupby([lugar, 'idhogar']).sum().reset_index()\n",
    "    group_test.columns = [lugar, 'idhogar'] + ['new3_{}_idhogar_{}'.format(lugar, col) for col in group_test][2:]\n",
    "\n",
    "    train_agg = pd.merge(train_agg, group_train, on=[lugar, 'idhogar'])\n",
    "    test = pd.merge(test, group_test, on=[lugar, 'idhogar'])\n",
    "    \n",
    "print('train shape:', train_agg.shape, 'test shape:', test.shape)"
   ]
  },
  {
   "cell_type": "code",
   "execution_count": 77,
   "metadata": {
    "_uuid": "c5c7c179865cfe3ba17e12573f32d2b6368556b7"
   },
   "outputs": [
    {
     "name": "stdout",
     "output_type": "stream",
     "text": [
      "train shape: (9557, 1288) test shape: (23856, 1287)\n"
     ]
    }
   ],
   "source": [
    "aggr_list = ['rez_esc', 'dis', 'male', 'female', \n",
    "                  'estadocivil1', 'estadocivil2', 'estadocivil3', 'estadocivil4', 'estadocivil5', 'estadocivil6', 'estadocivil7', \n",
    "                  'parentesco2', 'parentesco3', 'parentesco4', 'parentesco5', 'parentesco6', 'parentesco7', 'parentesco8', 'parentesco9', 'parentesco10', \n",
    "                  'parentesco11', 'parentesco12',\n",
    "                  'instlevel1', 'instlevel2', 'instlevel3', 'instlevel4', 'instlevel5', 'instlevel6', 'instlevel7', 'instlevel8', 'instlevel9',\n",
    "                 'epared1', 'epared2', 'epared3', 'etecho1', 'etecho2', 'etecho3', 'eviv1', 'eviv2', 'eviv3', 'refrig', 'television', 'mobilephone',\n",
    "            'area1', 'area2', 'v18q', 'edjef']\n",
    "    \n",
    "for lugar in ['lugar1', 'lugar2', 'lugar3', 'lugar4', 'lugar5', 'lugar6']:\n",
    "    group_train = df_train[[lugar, 'idhogar'] + aggr_list].groupby([lugar, 'idhogar']).sum().reset_index()\n",
    "    group_train.columns = [lugar, 'idhogar'] + ['new4_{}_idhogar_{}'.format(lugar, col) for col in group_train][2:]\n",
    "\n",
    "    group_test = df_test[[lugar, 'idhogar'] + aggr_list].groupby([lugar, 'idhogar']).sum().reset_index()\n",
    "    group_test.columns = [lugar, 'idhogar'] + ['new4_{}_idhogar_{}'.format(lugar, col) for col in group_test][2:]\n",
    "\n",
    "    train_agg = pd.merge(train_agg, group_train, on=[lugar, 'idhogar'])\n",
    "    test = pd.merge(test, group_test, on=[lugar, 'idhogar'])\n",
    "    \n",
    "print('train shape:', train_agg.shape, 'test shape:', test.shape)"
   ]
  },
  {
   "cell_type": "code",
   "execution_count": 78,
   "metadata": {
    "_uuid": "e0d680ef504ff85dbd4028b24f878b558f04dda4"
   },
   "outputs": [
    {
     "name": "stderr",
     "output_type": "stream",
     "text": [
      "100%|████████████████████████████████████████████████████████████████████████████████████| 7/7 [01:44<00:00, 14.93s/it]"
     ]
    },
    {
     "name": "stdout",
     "output_type": "stream",
     "text": [
      "train shape: (9557, 3262) test shape: (23856, 3261)\n"
     ]
    },
    {
     "name": "stderr",
     "output_type": "stream",
     "text": [
      "\n"
     ]
    }
   ],
   "source": [
    "cols_nums = ['age', 'meaneduc', 'dependency', \n",
    "             'hogar_nin', 'hogar_adul', 'hogar_mayor', 'hogar_total',\n",
    "             'bedrooms', 'overcrowding']\n",
    "\n",
    "for function in tqdm(['mean','std','min','max','sum', 'count', max_min]):\n",
    "    for lugar in ['lugar1', 'lugar2', 'lugar3', 'lugar4', 'lugar5', 'lugar6']:\n",
    "        group_train = df_train[[lugar, 'idhogar'] + aggr_list].groupby([lugar, 'idhogar']).agg(function).reset_index()\n",
    "        group_train.columns = [lugar, 'idhogar'] + ['new5_{}_idhogar_{}_{}'.format(lugar, col, function) for col in group_train][2:]\n",
    "\n",
    "        group_test = df_test[[lugar, 'idhogar'] + aggr_list].groupby([lugar, 'idhogar']).agg(function).reset_index()\n",
    "        group_test.columns = [lugar, 'idhogar'] + ['new5_{}_idhogar_{}_{}'.format(lugar, col, function) for col in group_test][2:]\n",
    "\n",
    "        train_agg = pd.merge(train_agg, group_train, on=[lugar, 'idhogar'])\n",
    "        test = pd.merge(test, group_test, on=[lugar, 'idhogar'])\n",
    "        \n",
    "print('train shape:', train_agg.shape, 'test shape:', test.shape)"
   ]
  },
  {
   "cell_type": "markdown",
   "metadata": {
    "_uuid": "ec083636e239f6e342054617758b7cebb38aaaa9"
   },
   "source": [
    "- According to data descriptions,ONLY the heads of household are used in scoring. /\n",
    "- All household members are included in test + the sample submission, but only heads of households are scored."
   ]
  },
  {
   "cell_type": "code",
   "execution_count": 79,
   "metadata": {
    "_uuid": "b9877a0b1e1f68c367bb6e2e8eea50be0353f059"
   },
   "outputs": [],
   "source": [
    "# household 단위로 \n",
    "train = train_agg.query('parentesco1==1')"
   ]
  },
  {
   "cell_type": "code",
   "execution_count": 80,
   "metadata": {
    "_uuid": "29e995d062793b059a297e17630b1dc4d1e01b66"
   },
   "outputs": [],
   "source": [
    "train['dependency'].replace(np.inf, 0, inplace=True)\n",
    "test['dependency'].replace(np.inf, 0, inplace=True)"
   ]
  },
  {
   "cell_type": "code",
   "execution_count": 81,
   "metadata": {
    "_uuid": "ba7fdcf02e24e46bdc94e81ef8318ea4d32e1b79"
   },
   "outputs": [],
   "source": [
    "submission = test[['Id']]\n",
    "\n",
    "#Remove useless feature to reduce dimension\n",
    "train.drop(columns=['idhogar','Id', 'agesq', 'hogar_adul', 'SQBescolari', 'SQBage', 'SQBhogar_total', 'SQBedjefe', 'SQBhogar_nin', 'SQBovercrowding', 'SQBdependency', 'SQBmeaned'], inplace=True)\n",
    "test.drop(columns=['idhogar','Id',  'agesq', 'hogar_adul', 'SQBescolari', 'SQBage', 'SQBhogar_total', 'SQBedjefe', 'SQBhogar_nin', 'SQBovercrowding', 'SQBdependency', 'SQBmeaned'], inplace=True)\n",
    "\n",
    "correlation = train.corr()\n",
    "correlation = correlation['Target'].sort_values(ascending=False)"
   ]
  },
  {
   "cell_type": "code",
   "execution_count": 82,
   "metadata": {
    "_uuid": "7f2a676b4df4c10a25bf9c9a2dc8211bd6d8d6f0"
   },
   "outputs": [
    {
     "name": "stdout",
     "output_type": "stream",
     "text": [
      "final_data size (2973, 3250) (23856, 3249)\n"
     ]
    }
   ],
   "source": [
    "print('final_data size', train.shape, test.shape)"
   ]
  },
  {
   "cell_type": "code",
   "execution_count": 83,
   "metadata": {
    "_uuid": "c24f7a0a70b4d251a17351e0cc41def69afe5f73"
   },
   "outputs": [
    {
     "name": "stdout",
     "output_type": "stream",
     "text": [
      "The most 20 positive feature: \n",
      "Target                                1.000000\n",
      "new5_lugar5_idhogar_edjef_max         0.334254\n",
      "new5_lugar1_idhogar_edjef_max         0.334254\n",
      "new5_lugar6_idhogar_edjef_max         0.334254\n",
      "new5_lugar2_idhogar_edjef_max         0.334254\n",
      "new5_lugar4_idhogar_edjef_max         0.334254\n",
      "new5_lugar3_idhogar_edjef_max         0.334254\n",
      "new5_lugar2_idhogar_edjef_mean        0.333873\n",
      "new5_lugar4_idhogar_edjef_mean        0.333873\n",
      "new5_lugar5_idhogar_edjef_mean        0.333873\n",
      "new5_lugar3_idhogar_edjef_mean        0.333873\n",
      "new5_lugar1_idhogar_edjef_mean        0.333873\n",
      "new5_lugar6_idhogar_edjef_mean        0.333873\n",
      "new5_lugar2_idhogar_edjef_min         0.333791\n",
      "edjef                                 0.333791\n",
      "new5_lugar5_idhogar_edjef_min         0.333791\n",
      "new5_lugar6_idhogar_edjef_min         0.333791\n",
      "new5_lugar1_idhogar_edjef_min         0.333791\n",
      "new5_lugar4_idhogar_edjef_min         0.333791\n",
      "new5_lugar3_idhogar_edjef_min         0.333791\n",
      "escolari                              0.333791\n",
      "meaneduc                              0.331489\n",
      "new5_lugar1_idhogar_instlevel8_max    0.317815\n",
      "new5_lugar2_idhogar_instlevel8_max    0.317815\n",
      "new5_lugar5_idhogar_instlevel8_max    0.317815\n",
      "new5_lugar3_idhogar_instlevel8_max    0.317815\n",
      "new5_lugar4_idhogar_instlevel8_max    0.317815\n",
      "new5_lugar6_idhogar_instlevel8_max    0.317815\n",
      "phones-per-capita                     0.299026\n",
      "new5_lugar5_idhogar_instlevel8_std    0.298251\n",
      "new5_lugar3_idhogar_instlevel8_std    0.298251\n",
      "new5_lugar1_idhogar_instlevel8_std    0.298251\n",
      "new5_lugar2_idhogar_instlevel8_std    0.298251\n",
      "new5_lugar6_idhogar_instlevel8_std    0.298251\n",
      "new5_lugar4_idhogar_instlevel8_std    0.298251\n",
      "new_epared3_x_eviv3                   0.298196\n",
      "cielorazo                             0.295249\n",
      "new4_lugar5_idhogar_instlevel8        0.294277\n",
      "new5_lugar5_idhogar_instlevel8_sum    0.294277\n",
      "new5_lugar1_idhogar_instlevel8_sum    0.294277\n",
      "Name: Target, dtype: float64\n"
     ]
    }
   ],
   "source": [
    "print(f'The most 20 positive feature: \\n{correlation.head(40)}')"
   ]
  },
  {
   "cell_type": "code",
   "execution_count": 84,
   "metadata": {
    "_uuid": "d50492937dbaa48170d409afc43a6f919f458564"
   },
   "outputs": [
    {
     "name": "stdout",
     "output_type": "stream",
     "text": [
      "The most 20 negative feature: \n",
      "new5_lugar5_idhogar_television_<function max_min at 0x00000224ECB6C280>    NaN\n",
      "new5_lugar5_idhogar_mobilephone_<function max_min at 0x00000224ECB6C280>   NaN\n",
      "new5_lugar5_idhogar_area1_<function max_min at 0x00000224ECB6C280>         NaN\n",
      "new5_lugar5_idhogar_area2_<function max_min at 0x00000224ECB6C280>         NaN\n",
      "new5_lugar5_idhogar_v18q_<function max_min at 0x00000224ECB6C280>          NaN\n",
      "new5_lugar6_idhogar_epared1_<function max_min at 0x00000224ECB6C280>       NaN\n",
      "new5_lugar6_idhogar_epared2_<function max_min at 0x00000224ECB6C280>       NaN\n",
      "new5_lugar6_idhogar_epared3_<function max_min at 0x00000224ECB6C280>       NaN\n",
      "new5_lugar6_idhogar_etecho1_<function max_min at 0x00000224ECB6C280>       NaN\n",
      "new5_lugar6_idhogar_etecho2_<function max_min at 0x00000224ECB6C280>       NaN\n",
      "new5_lugar6_idhogar_etecho3_<function max_min at 0x00000224ECB6C280>       NaN\n",
      "new5_lugar6_idhogar_eviv1_<function max_min at 0x00000224ECB6C280>         NaN\n",
      "new5_lugar6_idhogar_eviv2_<function max_min at 0x00000224ECB6C280>         NaN\n",
      "new5_lugar6_idhogar_eviv3_<function max_min at 0x00000224ECB6C280>         NaN\n",
      "new5_lugar6_idhogar_refrig_<function max_min at 0x00000224ECB6C280>        NaN\n",
      "new5_lugar6_idhogar_television_<function max_min at 0x00000224ECB6C280>    NaN\n",
      "new5_lugar6_idhogar_mobilephone_<function max_min at 0x00000224ECB6C280>   NaN\n",
      "new5_lugar6_idhogar_area1_<function max_min at 0x00000224ECB6C280>         NaN\n",
      "new5_lugar6_idhogar_area2_<function max_min at 0x00000224ECB6C280>         NaN\n",
      "new5_lugar6_idhogar_v18q_<function max_min at 0x00000224ECB6C280>          NaN\n",
      "Name: Target, dtype: float64\n"
     ]
    }
   ],
   "source": [
    "print(f'The most 20 negative feature: \\n{correlation.tail(20)}')"
   ]
  },
  {
   "cell_type": "markdown",
   "metadata": {
    "_uuid": "4864b38bd88ff7a1bdbe26248b2ae5fabb6ff88a"
   },
   "source": [
    "# 4. Feature Selection: SHAP\n",
    " 1. Stratified KFold를 이용해 각 폴드마다 LGBMClassifier 학습 후 얻은 feature importance, shap values 저장\n",
    " 2. 각 폴드에서 얻은 shap_values의 평균 계산"
   ]
  },
  {
   "cell_type": "code",
   "execution_count": 85,
   "metadata": {
    "_uuid": "db72dde4644b5fab5e0008e14d40966b29d3e915"
   },
   "outputs": [],
   "source": [
    "binary_cat_features = [col for col in train.columns if train[col].value_counts().shape[0] == 2]\n",
    "object_features = ['edjefe', 'edjefa']\n",
    "\n",
    "categorical_feats = binary_cat_features + object_features"
   ]
  },
  {
   "cell_type": "code",
   "execution_count": 86,
   "metadata": {
    "_uuid": "cd3ec115e47f66998976c9e76354955bccf6b3c7"
   },
   "outputs": [],
   "source": [
    "def evaluate_macroF1_lgb(truth, predictions):  \n",
    "    # this follows the discussion in https://github.com/Microsoft/LightGBM/issues/1483\n",
    "    pred_labels = predictions.reshape(len(np.unique(truth)),-1).argmax(axis=0)\n",
    "    f1 = f1_score(truth, pred_labels, average='macro')\n",
    "    return ('macroF1', f1, True) "
   ]
  },
  {
   "cell_type": "code",
   "execution_count": 87,
   "metadata": {
    "_uuid": "e241e9802fb5973d597c20ac2479be0cedf10e01"
   },
   "outputs": [],
   "source": [
    "y = train['Target']\n",
    "train.drop(columns=['Target'], inplace=True)"
   ]
  },
  {
   "cell_type": "code",
   "execution_count": 96,
   "metadata": {},
   "outputs": [],
   "source": [
    "def extract_good_features_using_shap_LGB(params, SEED):\n",
    "    clf = lgb.LGBMClassifier(objective = 'multiclass',\n",
    "                             random_state = 0,\n",
    "                             max_depth = params['max_depth'],\n",
    "                             learning_rate = params['learning_rate'],  \n",
    "                             silent = True, \n",
    "                             metric = 'multi_logloss',\n",
    "                             n_jobs = -1, n_estimators = 10000, \n",
    "                             class_weight = 'balanced',\n",
    "                             colsample_bytree = params['colsample_bytree'], \n",
    "                             min_split_gain= params['min_split_gain'], \n",
    "                             bagging_freq = params['bagging_freq'],\n",
    "                             min_child_weight = params['min_child_weight'],\n",
    "                             num_leaves = params['num_leaves'], \n",
    "                             subsample = params['subsample'],\n",
    "                             reg_alpha = params['reg_alpha'],\n",
    "                             reg_lambda = params['reg_lambda'],\n",
    "                             num_class=len(np.unique(y)),\n",
    "                             bagging_seed=SEED,\n",
    "                             seed=SEED,\n",
    "                            )\n",
    "    \n",
    "    kfold = 5\n",
    "    kf = StratifiedKFold(n_splits = kfold, shuffle = True)\n",
    "    feat_imp_df = pd.DataFrame()\n",
    "    \n",
    "    for i, (train_idx, val_idx) in enumerate(kf.split(train, y)):\n",
    "        print('='*30, '{} of {} folds'.format(i+1, kfold), '='*30)\n",
    "        start = time.time()\n",
    "        X_train, X_val = train.iloc[train_idx], train.iloc[val_idx]\n",
    "        y_train, y_val = y.iloc[train_idx], y.iloc[val_idx]\n",
    "        clf.fit(X_train, y_train, eval_set = [(X_train, y_train), (X_val, y_val)], eval_metric = evaluate_macroF1_lgb,\n",
    "               categorical_feature = categorical_feats, early_stopping_rounds = 500, verbose = 500)\n",
    "        \n",
    "        shap_values = shap.TreeExplainer(clf.booster_).shap_values(X_train)\n",
    "        fold_imp_df = pd.DataFrame()\n",
    "        fold_imp_df['feature'] = X_train.columns\n",
    "        fold_imp_df['shap_values'] = abs(np.array(shap_values)[:, :].mean(1).mean(0)) # ?\n",
    "        fold_imp_df['feat_imp'] = clf.feature_importances_\n",
    "        feat_imp_df = pd.concat([feat_imp_df, fold_imp_df])\n",
    "        \n",
    "    feat_imp_df_shap = feat_imp_df.groupby('feature').mean().sort_values('shap_values', ascending = False).reset_index()\n",
    "    \n",
    "    return feat_imp_df_shap"
   ]
  },
  {
   "cell_type": "code",
   "execution_count": 97,
   "metadata": {},
   "outputs": [
    {
     "name": "stdout",
     "output_type": "stream",
     "text": [
      "######################################## 1 of 50 iterations ########################################\n",
      "============================== 1 of 5 folds ==============================\n",
      "[LightGBM] [Warning] seed is set=0, random_state=0 will be ignored. Current value: seed=0\n",
      "[LightGBM] [Warning] bagging_freq is set=4, subsample_freq=0 will be ignored. Current value: bagging_freq=4\n",
      "Training until validation scores don't improve for 500 rounds\n",
      "[500]\ttraining's multi_logloss: 1.06318\ttraining's macroF1: 0.514405\tvalid_1's multi_logloss: 1.06835\tvalid_1's macroF1: 0.399001\n",
      "[1000]\ttraining's multi_logloss: 0.984728\ttraining's macroF1: 0.549673\tvalid_1's multi_logloss: 1.05365\tvalid_1's macroF1: 0.423003\n",
      "[1500]\ttraining's multi_logloss: 0.933302\ttraining's macroF1: 0.583448\tvalid_1's multi_logloss: 1.04712\tvalid_1's macroF1: 0.419469\n",
      "Early stopping, best iteration is:\n",
      "[1006]\ttraining's multi_logloss: 0.984133\ttraining's macroF1: 0.549572\tvalid_1's multi_logloss: 1.05294\tvalid_1's macroF1: 0.428634\n",
      "============================== 2 of 5 folds ==============================\n",
      "[LightGBM] [Warning] seed is set=0, random_state=0 will be ignored. Current value: seed=0\n",
      "[LightGBM] [Warning] bagging_freq is set=4, subsample_freq=0 will be ignored. Current value: bagging_freq=4\n",
      "Training until validation scores don't improve for 500 rounds\n",
      "[500]\ttraining's multi_logloss: 1.06606\ttraining's macroF1: 0.514421\tvalid_1's multi_logloss: 1.07905\tvalid_1's macroF1: 0.376168\n",
      "Early stopping, best iteration is:\n",
      "[35]\ttraining's multi_logloss: 1.31916\ttraining's macroF1: 0.431603\tvalid_1's multi_logloss: 1.29364\tvalid_1's macroF1: 0.393377\n",
      "============================== 3 of 5 folds ==============================\n",
      "[LightGBM] [Warning] seed is set=0, random_state=0 will be ignored. Current value: seed=0\n",
      "[LightGBM] [Warning] bagging_freq is set=4, subsample_freq=0 will be ignored. Current value: bagging_freq=4\n",
      "Training until validation scores don't improve for 500 rounds\n",
      "[500]\ttraining's multi_logloss: 1.07902\ttraining's macroF1: 0.512775\tvalid_1's multi_logloss: 1.05865\tvalid_1's macroF1: 0.431144\n",
      "[1000]\ttraining's multi_logloss: 1.00048\ttraining's macroF1: 0.550224\tvalid_1's multi_logloss: 1.0401\tvalid_1's macroF1: 0.431777\n",
      "Early stopping, best iteration is:\n",
      "[671]\ttraining's multi_logloss: 1.04724\ttraining's macroF1: 0.527983\tvalid_1's multi_logloss: 1.0469\tvalid_1's macroF1: 0.448373\n",
      "============================== 4 of 5 folds ==============================\n",
      "[LightGBM] [Warning] seed is set=0, random_state=0 will be ignored. Current value: seed=0\n",
      "[LightGBM] [Warning] bagging_freq is set=4, subsample_freq=0 will be ignored. Current value: bagging_freq=4\n",
      "Training until validation scores don't improve for 500 rounds\n",
      "[500]\ttraining's multi_logloss: 1.05596\ttraining's macroF1: 0.512136\tvalid_1's multi_logloss: 1.0983\tvalid_1's macroF1: 0.372954\n",
      "[1000]\ttraining's multi_logloss: 0.978451\ttraining's macroF1: 0.553629\tvalid_1's multi_logloss: 1.08094\tvalid_1's macroF1: 0.394654\n",
      "Early stopping, best iteration is:\n",
      "[986]\ttraining's multi_logloss: 0.980065\ttraining's macroF1: 0.554538\tvalid_1's multi_logloss: 1.08062\tvalid_1's macroF1: 0.398335\n",
      "============================== 5 of 5 folds ==============================\n",
      "[LightGBM] [Warning] seed is set=0, random_state=0 will be ignored. Current value: seed=0\n",
      "[LightGBM] [Warning] bagging_freq is set=4, subsample_freq=0 will be ignored. Current value: bagging_freq=4\n",
      "Training until validation scores don't improve for 500 rounds\n",
      "[500]\ttraining's multi_logloss: 1.06517\ttraining's macroF1: 0.514715\tvalid_1's multi_logloss: 1.06736\tvalid_1's macroF1: 0.425131\n",
      "[1000]\ttraining's multi_logloss: 0.982243\ttraining's macroF1: 0.544016\tvalid_1's multi_logloss: 1.06007\tvalid_1's macroF1: 0.410654\n",
      "Early stopping, best iteration is:\n",
      "[779]\ttraining's multi_logloss: 1.01309\ttraining's macroF1: 0.531463\tvalid_1's multi_logloss: 1.06226\tvalid_1's macroF1: 0.433054\n",
      "######################################## 2 of 50 iterations ########################################\n",
      "============================== 1 of 5 folds ==============================\n",
      "[LightGBM] [Warning] seed is set=1, random_state=0 will be ignored. Current value: seed=1\n",
      "[LightGBM] [Warning] bagging_freq is set=3, subsample_freq=0 will be ignored. Current value: bagging_freq=3\n",
      "Training until validation scores don't improve for 500 rounds\n",
      "[500]\ttraining's multi_logloss: 1.15199\ttraining's macroF1: 0.48156\tvalid_1's multi_logloss: 1.08254\tvalid_1's macroF1: 0.441099\n",
      "[1000]\ttraining's multi_logloss: 1.07665\ttraining's macroF1: 0.503747\tvalid_1's multi_logloss: 1.02963\tvalid_1's macroF1: 0.452033\n",
      "Early stopping, best iteration is:\n",
      "[879]\ttraining's multi_logloss: 1.09057\ttraining's macroF1: 0.498053\tvalid_1's multi_logloss: 1.03706\tvalid_1's macroF1: 0.462738\n",
      "============================== 2 of 5 folds ==============================\n",
      "[LightGBM] [Warning] seed is set=1, random_state=0 will be ignored. Current value: seed=1\n",
      "[LightGBM] [Warning] bagging_freq is set=3, subsample_freq=0 will be ignored. Current value: bagging_freq=3\n",
      "Training until validation scores don't improve for 500 rounds\n",
      "[500]\ttraining's multi_logloss: 1.14762\ttraining's macroF1: 0.4791\tvalid_1's multi_logloss: 1.12611\tvalid_1's macroF1: 0.379796\n",
      "Early stopping, best iteration is:\n",
      "[400]\ttraining's multi_logloss: 1.17275\ttraining's macroF1: 0.468797\tvalid_1's multi_logloss: 1.14541\tvalid_1's macroF1: 0.392258\n",
      "============================== 3 of 5 folds ==============================\n",
      "[LightGBM] [Warning] seed is set=1, random_state=0 will be ignored. Current value: seed=1\n",
      "[LightGBM] [Warning] bagging_freq is set=3, subsample_freq=0 will be ignored. Current value: bagging_freq=3\n",
      "Training until validation scores don't improve for 500 rounds\n",
      "[500]\ttraining's multi_logloss: 1.13817\ttraining's macroF1: 0.481929\tvalid_1's multi_logloss: 1.15816\tvalid_1's macroF1: 0.349545\n",
      "Early stopping, best iteration is:\n",
      "[173]\ttraining's multi_logloss: 1.25546\ttraining's macroF1: 0.451165\tvalid_1's multi_logloss: 1.24467\tvalid_1's macroF1: 0.367919\n",
      "============================== 4 of 5 folds ==============================\n",
      "[LightGBM] [Warning] seed is set=1, random_state=0 will be ignored. Current value: seed=1\n",
      "[LightGBM] [Warning] bagging_freq is set=3, subsample_freq=0 will be ignored. Current value: bagging_freq=3\n",
      "Training until validation scores don't improve for 500 rounds\n",
      "[500]\ttraining's multi_logloss: 1.14046\ttraining's macroF1: 0.487036\tvalid_1's multi_logloss: 1.12512\tvalid_1's macroF1: 0.360246\n",
      "[1000]\ttraining's multi_logloss: 1.05871\ttraining's macroF1: 0.523601\tvalid_1's multi_logloss: 1.08866\tvalid_1's macroF1: 0.362798\n",
      "Early stopping, best iteration is:\n",
      "[589]\ttraining's multi_logloss: 1.12078\ttraining's macroF1: 0.498373\tvalid_1's multi_logloss: 1.1144\tvalid_1's macroF1: 0.370404\n",
      "============================== 5 of 5 folds ==============================\n",
      "[LightGBM] [Warning] seed is set=1, random_state=0 will be ignored. Current value: seed=1\n",
      "[LightGBM] [Warning] bagging_freq is set=3, subsample_freq=0 will be ignored. Current value: bagging_freq=3\n",
      "Training until validation scores don't improve for 500 rounds\n",
      "[500]\ttraining's multi_logloss: 1.15325\ttraining's macroF1: 0.463985\tvalid_1's multi_logloss: 1.10248\tvalid_1's macroF1: 0.423318\n",
      "Early stopping, best iteration is:\n",
      "[30]\ttraining's multi_logloss: 1.35761\ttraining's macroF1: 0.41674\tvalid_1's multi_logloss: 1.3407\tvalid_1's macroF1: 0.435032\n",
      "######################################## 3 of 50 iterations ########################################\n",
      "============================== 1 of 5 folds ==============================\n",
      "[LightGBM] [Warning] seed is set=2, random_state=0 will be ignored. Current value: seed=2\n",
      "[LightGBM] [Warning] bagging_freq is set=3, subsample_freq=0 will be ignored. Current value: bagging_freq=3\n",
      "Training until validation scores don't improve for 500 rounds\n",
      "[500]\ttraining's multi_logloss: 1.00623\ttraining's macroF1: 0.540614\tvalid_1's multi_logloss: 1.04448\tvalid_1's macroF1: 0.435291\n",
      "[1000]\ttraining's multi_logloss: 0.917269\ttraining's macroF1: 0.585333\tvalid_1's multi_logloss: 1.03643\tvalid_1's macroF1: 0.409074\n",
      "Early stopping, best iteration is:\n",
      "[500]\ttraining's multi_logloss: 1.00623\ttraining's macroF1: 0.540614\tvalid_1's multi_logloss: 1.04448\tvalid_1's macroF1: 0.435291\n"
     ]
    },
    {
     "name": "stdout",
     "output_type": "stream",
     "text": [
      "============================== 2 of 5 folds ==============================\n",
      "[LightGBM] [Warning] seed is set=2, random_state=0 will be ignored. Current value: seed=2\n",
      "[LightGBM] [Warning] bagging_freq is set=3, subsample_freq=0 will be ignored. Current value: bagging_freq=3\n",
      "Training until validation scores don't improve for 500 rounds\n",
      "[500]\ttraining's multi_logloss: 1.01261\ttraining's macroF1: 0.535175\tvalid_1's multi_logloss: 1.04021\tvalid_1's macroF1: 0.411517\n",
      "Early stopping, best iteration is:\n",
      "[399]\ttraining's multi_logloss: 1.03811\ttraining's macroF1: 0.515184\tvalid_1's multi_logloss: 1.04708\tvalid_1's macroF1: 0.421002\n",
      "============================== 3 of 5 folds ==============================\n",
      "[LightGBM] [Warning] seed is set=2, random_state=0 will be ignored. Current value: seed=2\n",
      "[LightGBM] [Warning] bagging_freq is set=3, subsample_freq=0 will be ignored. Current value: bagging_freq=3\n",
      "Training until validation scores don't improve for 500 rounds\n",
      "[500]\ttraining's multi_logloss: 1.00487\ttraining's macroF1: 0.548817\tvalid_1's multi_logloss: 1.06436\tvalid_1's macroF1: 0.368409\n",
      "[1000]\ttraining's multi_logloss: 0.916999\ttraining's macroF1: 0.59273\tvalid_1's multi_logloss: 1.05738\tvalid_1's macroF1: 0.383355\n",
      "[1500]\ttraining's multi_logloss: 0.859985\ttraining's macroF1: 0.618856\tvalid_1's multi_logloss: 1.05512\tvalid_1's macroF1: 0.38773\n",
      "Early stopping, best iteration is:\n",
      "[1467]\ttraining's multi_logloss: 0.863078\ttraining's macroF1: 0.617775\tvalid_1's multi_logloss: 1.05451\tvalid_1's macroF1: 0.38362\n",
      "============================== 4 of 5 folds ==============================\n",
      "[LightGBM] [Warning] seed is set=2, random_state=0 will be ignored. Current value: seed=2\n",
      "[LightGBM] [Warning] bagging_freq is set=3, subsample_freq=0 will be ignored. Current value: bagging_freq=3\n",
      "Training until validation scores don't improve for 500 rounds\n",
      "[500]\ttraining's multi_logloss: 1.0039\ttraining's macroF1: 0.533362\tvalid_1's multi_logloss: 1.116\tvalid_1's macroF1: 0.412171\n",
      "[1000]\ttraining's multi_logloss: 0.91705\ttraining's macroF1: 0.581501\tvalid_1's multi_logloss: 1.11519\tvalid_1's macroF1: 0.405321\n",
      "Early stopping, best iteration is:\n",
      "[574]\ttraining's multi_logloss: 0.987566\ttraining's macroF1: 0.538395\tvalid_1's multi_logloss: 1.11512\tvalid_1's macroF1: 0.412957\n",
      "============================== 5 of 5 folds ==============================\n",
      "[LightGBM] [Warning] seed is set=2, random_state=0 will be ignored. Current value: seed=2\n",
      "[LightGBM] [Warning] bagging_freq is set=3, subsample_freq=0 will be ignored. Current value: bagging_freq=3\n",
      "Training until validation scores don't improve for 500 rounds\n",
      "[500]\ttraining's multi_logloss: 1.00383\ttraining's macroF1: 0.541176\tvalid_1's multi_logloss: 1.09938\tvalid_1's macroF1: 0.395337\n",
      "Early stopping, best iteration is:\n",
      "[169]\ttraining's multi_logloss: 1.1199\ttraining's macroF1: 0.477681\tvalid_1's multi_logloss: 1.13155\tvalid_1's macroF1: 0.405202\n",
      "######################################## 4 of 50 iterations ########################################\n",
      "============================== 1 of 5 folds ==============================\n",
      "[LightGBM] [Warning] seed is set=3, random_state=0 will be ignored. Current value: seed=3\n",
      "[LightGBM] [Warning] bagging_freq is set=1, subsample_freq=0 will be ignored. Current value: bagging_freq=1\n",
      "Training until validation scores don't improve for 500 rounds\n",
      "[500]\ttraining's multi_logloss: 1.21401\ttraining's macroF1: 0.450267\tvalid_1's multi_logloss: 1.14992\tvalid_1's macroF1: 0.405273\n",
      "[1000]\ttraining's multi_logloss: 1.14764\ttraining's macroF1: 0.47097\tvalid_1's multi_logloss: 1.09092\tvalid_1's macroF1: 0.411673\n",
      "Early stopping, best iteration is:\n",
      "[839]\ttraining's multi_logloss: 1.16429\ttraining's macroF1: 0.469585\tvalid_1's multi_logloss: 1.1032\tvalid_1's macroF1: 0.420714\n",
      "============================== 2 of 5 folds ==============================\n",
      "[LightGBM] [Warning] seed is set=3, random_state=0 will be ignored. Current value: seed=3\n",
      "[LightGBM] [Warning] bagging_freq is set=1, subsample_freq=0 will be ignored. Current value: bagging_freq=1\n",
      "Training until validation scores don't improve for 500 rounds\n",
      "[500]\ttraining's multi_logloss: 1.21006\ttraining's macroF1: 0.446019\tvalid_1's multi_logloss: 1.14041\tvalid_1's macroF1: 0.386718\n",
      "[1000]\ttraining's multi_logloss: 1.14364\ttraining's macroF1: 0.468947\tvalid_1's multi_logloss: 1.07945\tvalid_1's macroF1: 0.411848\n",
      "[1500]\ttraining's multi_logloss: 1.10571\ttraining's macroF1: 0.483131\tvalid_1's multi_logloss: 1.05919\tvalid_1's macroF1: 0.423697\n",
      "Early stopping, best iteration is:\n",
      "[1172]\ttraining's multi_logloss: 1.12878\ttraining's macroF1: 0.47432\tvalid_1's multi_logloss: 1.07005\tvalid_1's macroF1: 0.429807\n",
      "============================== 3 of 5 folds ==============================\n",
      "[LightGBM] [Warning] seed is set=3, random_state=0 will be ignored. Current value: seed=3\n",
      "[LightGBM] [Warning] bagging_freq is set=1, subsample_freq=0 will be ignored. Current value: bagging_freq=1\n",
      "Training until validation scores don't improve for 500 rounds\n",
      "[500]\ttraining's multi_logloss: 1.19665\ttraining's macroF1: 0.460241\tvalid_1's multi_logloss: 1.16732\tvalid_1's macroF1: 0.369536\n",
      "Early stopping, best iteration is:\n",
      "[171]\ttraining's multi_logloss: 1.29523\ttraining's macroF1: 0.44691\tvalid_1's multi_logloss: 1.27457\tvalid_1's macroF1: 0.389038\n",
      "============================== 4 of 5 folds ==============================\n",
      "[LightGBM] [Warning] seed is set=3, random_state=0 will be ignored. Current value: seed=3\n",
      "[LightGBM] [Warning] bagging_freq is set=1, subsample_freq=0 will be ignored. Current value: bagging_freq=1\n",
      "Training until validation scores don't improve for 500 rounds\n",
      "[500]\ttraining's multi_logloss: 1.19796\ttraining's macroF1: 0.452585\tvalid_1's multi_logloss: 1.1767\tvalid_1's macroF1: 0.360145\n",
      "Early stopping, best iteration is:\n",
      "[393]\ttraining's multi_logloss: 1.2223\ttraining's macroF1: 0.452397\tvalid_1's multi_logloss: 1.20106\tvalid_1's macroF1: 0.37811\n",
      "============================== 5 of 5 folds ==============================\n",
      "[LightGBM] [Warning] seed is set=3, random_state=0 will be ignored. Current value: seed=3\n",
      "[LightGBM] [Warning] bagging_freq is set=1, subsample_freq=0 will be ignored. Current value: bagging_freq=1\n",
      "Training until validation scores don't improve for 500 rounds\n",
      "[500]\ttraining's multi_logloss: 1.1992\ttraining's macroF1: 0.462409\tvalid_1's multi_logloss: 1.15571\tvalid_1's macroF1: 0.380782\n",
      "Early stopping, best iteration is:\n",
      "[328]\ttraining's multi_logloss: 1.24453\ttraining's macroF1: 0.455751\tvalid_1's multi_logloss: 1.20417\tvalid_1's macroF1: 0.388697\n",
      "######################################## 5 of 50 iterations ########################################\n",
      "============================== 1 of 5 folds ==============================\n",
      "[LightGBM] [Warning] seed is set=4, random_state=0 will be ignored. Current value: seed=4\n",
      "[LightGBM] [Warning] bagging_freq is set=2, subsample_freq=0 will be ignored. Current value: bagging_freq=2\n",
      "Training until validation scores don't improve for 500 rounds\n",
      "[500]\ttraining's multi_logloss: 1.13675\ttraining's macroF1: 0.451377\tvalid_1's multi_logloss: 1.0945\tvalid_1's macroF1: 0.394175\n",
      "Early stopping, best iteration is:\n",
      "[100]\ttraining's multi_logloss: 1.24458\ttraining's macroF1: 0.426631\tvalid_1's multi_logloss: 1.18339\tvalid_1's macroF1: 0.421235\n",
      "============================== 2 of 5 folds ==============================\n",
      "[LightGBM] [Warning] seed is set=4, random_state=0 will be ignored. Current value: seed=4\n",
      "[LightGBM] [Warning] bagging_freq is set=2, subsample_freq=0 will be ignored. Current value: bagging_freq=2\n",
      "Training until validation scores don't improve for 500 rounds\n",
      "[500]\ttraining's multi_logloss: 1.1304\ttraining's macroF1: 0.468128\tvalid_1's multi_logloss: 1.0967\tvalid_1's macroF1: 0.37408\n",
      "Early stopping, best iteration is:\n",
      "[91]\ttraining's multi_logloss: 1.24744\ttraining's macroF1: 0.442129\tvalid_1's multi_logloss: 1.1954\tvalid_1's macroF1: 0.388031\n",
      "============================== 3 of 5 folds ==============================\n",
      "[LightGBM] [Warning] seed is set=4, random_state=0 will be ignored. Current value: seed=4\n",
      "[LightGBM] [Warning] bagging_freq is set=2, subsample_freq=0 will be ignored. Current value: bagging_freq=2\n",
      "Training until validation scores don't improve for 500 rounds\n"
     ]
    },
    {
     "name": "stdout",
     "output_type": "stream",
     "text": [
      "[500]\ttraining's multi_logloss: 1.14287\ttraining's macroF1: 0.454774\tvalid_1's multi_logloss: 1.06284\tvalid_1's macroF1: 0.422318\n",
      "[1000]\ttraining's multi_logloss: 1.09948\ttraining's macroF1: 0.483998\tvalid_1's multi_logloss: 1.05426\tvalid_1's macroF1: 0.420568\n",
      "Early stopping, best iteration is:\n",
      "[712]\ttraining's multi_logloss: 1.12086\ttraining's macroF1: 0.476138\tvalid_1's multi_logloss: 1.05376\tvalid_1's macroF1: 0.432934\n",
      "============================== 4 of 5 folds ==============================\n",
      "[LightGBM] [Warning] seed is set=4, random_state=0 will be ignored. Current value: seed=4\n",
      "[LightGBM] [Warning] bagging_freq is set=2, subsample_freq=0 will be ignored. Current value: bagging_freq=2\n",
      "Training until validation scores don't improve for 500 rounds\n",
      "[500]\ttraining's multi_logloss: 1.13874\ttraining's macroF1: 0.457185\tvalid_1's multi_logloss: 1.10194\tvalid_1's macroF1: 0.40254\n",
      "[1000]\ttraining's multi_logloss: 1.0988\ttraining's macroF1: 0.477926\tvalid_1's multi_logloss: 1.08864\tvalid_1's macroF1: 0.401483\n",
      "Early stopping, best iteration is:\n",
      "[805]\ttraining's multi_logloss: 1.11166\ttraining's macroF1: 0.468561\tvalid_1's multi_logloss: 1.09231\tvalid_1's macroF1: 0.426667\n",
      "============================== 5 of 5 folds ==============================\n",
      "[LightGBM] [Warning] seed is set=4, random_state=0 will be ignored. Current value: seed=4\n",
      "[LightGBM] [Warning] bagging_freq is set=2, subsample_freq=0 will be ignored. Current value: bagging_freq=2\n",
      "Training until validation scores don't improve for 500 rounds\n",
      "[500]\ttraining's multi_logloss: 1.13156\ttraining's macroF1: 0.469317\tvalid_1's multi_logloss: 1.13617\tvalid_1's macroF1: 0.356863\n",
      "[1000]\ttraining's multi_logloss: 1.09124\ttraining's macroF1: 0.484963\tvalid_1's multi_logloss: 1.13245\tvalid_1's macroF1: 0.37023\n",
      "Early stopping, best iteration is:\n",
      "[856]\ttraining's multi_logloss: 1.10083\ttraining's macroF1: 0.48082\tvalid_1's multi_logloss: 1.13529\tvalid_1's macroF1: 0.379961\n",
      "######################################## 6 of 50 iterations ########################################\n",
      "============================== 1 of 5 folds ==============================\n",
      "[LightGBM] [Warning] seed is set=5, random_state=0 will be ignored. Current value: seed=5\n",
      "[LightGBM] [Warning] bagging_freq is set=4, subsample_freq=0 will be ignored. Current value: bagging_freq=4\n",
      "Training until validation scores don't improve for 500 rounds\n",
      "[500]\ttraining's multi_logloss: 0.936792\ttraining's macroF1: 0.590144\tvalid_1's multi_logloss: 1.01659\tvalid_1's macroF1: 0.397941\n",
      "[1000]\ttraining's multi_logloss: 0.818273\ttraining's macroF1: 0.650283\tvalid_1's multi_logloss: 1.00702\tvalid_1's macroF1: 0.400015\n",
      "[1500]\ttraining's multi_logloss: 0.740094\ttraining's macroF1: 0.6925\tvalid_1's multi_logloss: 1.00039\tvalid_1's macroF1: 0.415624\n",
      "Early stopping, best iteration is:\n",
      "[1436]\ttraining's multi_logloss: 0.748853\ttraining's macroF1: 0.689443\tvalid_1's multi_logloss: 0.999195\tvalid_1's macroF1: 0.416179\n",
      "============================== 2 of 5 folds ==============================\n",
      "[LightGBM] [Warning] seed is set=5, random_state=0 will be ignored. Current value: seed=5\n",
      "[LightGBM] [Warning] bagging_freq is set=4, subsample_freq=0 will be ignored. Current value: bagging_freq=4\n",
      "Training until validation scores don't improve for 500 rounds\n",
      "[500]\ttraining's multi_logloss: 0.935127\ttraining's macroF1: 0.583677\tvalid_1's multi_logloss: 1.08824\tvalid_1's macroF1: 0.374523\n",
      "Early stopping, best iteration is:\n",
      "[203]\ttraining's multi_logloss: 1.06573\ttraining's macroF1: 0.534415\tvalid_1's multi_logloss: 1.10207\tvalid_1's macroF1: 0.391515\n",
      "============================== 3 of 5 folds ==============================\n",
      "[LightGBM] [Warning] seed is set=5, random_state=0 will be ignored. Current value: seed=5\n",
      "[LightGBM] [Warning] bagging_freq is set=4, subsample_freq=0 will be ignored. Current value: bagging_freq=4\n",
      "Training until validation scores don't improve for 500 rounds\n",
      "[500]\ttraining's multi_logloss: 0.9409\ttraining's macroF1: 0.586064\tvalid_1's multi_logloss: 1.03315\tvalid_1's macroF1: 0.419741\n",
      "[1000]\ttraining's multi_logloss: 0.824205\ttraining's macroF1: 0.64446\tvalid_1's multi_logloss: 1.02538\tvalid_1's macroF1: 0.414486\n",
      "Early stopping, best iteration is:\n",
      "[719]\ttraining's multi_logloss: 0.881814\ttraining's macroF1: 0.616283\tvalid_1's multi_logloss: 1.03174\tvalid_1's macroF1: 0.425282\n",
      "============================== 4 of 5 folds ==============================\n",
      "[LightGBM] [Warning] seed is set=5, random_state=0 will be ignored. Current value: seed=5\n",
      "[LightGBM] [Warning] bagging_freq is set=4, subsample_freq=0 will be ignored. Current value: bagging_freq=4\n",
      "Training until validation scores don't improve for 500 rounds\n",
      "[500]\ttraining's multi_logloss: 0.943321\ttraining's macroF1: 0.584925\tvalid_1's multi_logloss: 1.03638\tvalid_1's macroF1: 0.414689\n",
      "Early stopping, best iteration is:\n",
      "[146]\ttraining's multi_logloss: 1.12203\ttraining's macroF1: 0.518801\tvalid_1's multi_logloss: 1.08759\tvalid_1's macroF1: 0.448174\n",
      "============================== 5 of 5 folds ==============================\n",
      "[LightGBM] [Warning] seed is set=5, random_state=0 will be ignored. Current value: seed=5\n",
      "[LightGBM] [Warning] bagging_freq is set=4, subsample_freq=0 will be ignored. Current value: bagging_freq=4\n",
      "Training until validation scores don't improve for 500 rounds\n",
      "[500]\ttraining's multi_logloss: 0.939159\ttraining's macroF1: 0.604524\tvalid_1's multi_logloss: 1.05615\tvalid_1's macroF1: 0.406656\n",
      "Early stopping, best iteration is:\n",
      "[271]\ttraining's multi_logloss: 1.02998\ttraining's macroF1: 0.554579\tvalid_1's multi_logloss: 1.06423\tvalid_1's macroF1: 0.430848\n",
      "######################################## 7 of 50 iterations ########################################\n",
      "============================== 1 of 5 folds ==============================\n",
      "[LightGBM] [Warning] seed is set=6, random_state=0 will be ignored. Current value: seed=6\n",
      "[LightGBM] [Warning] bagging_freq is set=1, subsample_freq=0 will be ignored. Current value: bagging_freq=1\n",
      "Training until validation scores don't improve for 500 rounds\n",
      "[500]\ttraining's multi_logloss: 1.36736\ttraining's macroF1: 0.421144\tvalid_1's multi_logloss: 1.36048\tvalid_1's macroF1: 0.358164\n",
      "[1000]\ttraining's multi_logloss: 1.34971\ttraining's macroF1: 0.42541\tvalid_1's multi_logloss: 1.33754\tvalid_1's macroF1: 0.371853\n",
      "[1500]\ttraining's multi_logloss: 1.33334\ttraining's macroF1: 0.429614\tvalid_1's multi_logloss: 1.31703\tvalid_1's macroF1: 0.367529\n",
      "Early stopping, best iteration is:\n",
      "[1010]\ttraining's multi_logloss: 1.34935\ttraining's macroF1: 0.424889\tvalid_1's multi_logloss: 1.33708\tvalid_1's macroF1: 0.374268\n",
      "============================== 2 of 5 folds ==============================\n",
      "[LightGBM] [Warning] seed is set=6, random_state=0 will be ignored. Current value: seed=6\n",
      "[LightGBM] [Warning] bagging_freq is set=1, subsample_freq=0 will be ignored. Current value: bagging_freq=1\n",
      "Training until validation scores don't improve for 500 rounds\n",
      "[500]\ttraining's multi_logloss: 1.36695\ttraining's macroF1: 0.413969\tvalid_1's multi_logloss: 1.35957\tvalid_1's macroF1: 0.326329\n",
      "Early stopping, best iteration is:\n",
      "[53]\ttraining's multi_logloss: 1.38413\ttraining's macroF1: 0.410515\tvalid_1's multi_logloss: 1.38325\tvalid_1's macroF1: 0.334203\n",
      "============================== 3 of 5 folds ==============================\n",
      "[LightGBM] [Warning] seed is set=6, random_state=0 will be ignored. Current value: seed=6\n",
      "[LightGBM] [Warning] bagging_freq is set=1, subsample_freq=0 will be ignored. Current value: bagging_freq=1\n",
      "Training until validation scores don't improve for 500 rounds\n",
      "[500]\ttraining's multi_logloss: 1.36846\ttraining's macroF1: 0.396335\tvalid_1's multi_logloss: 1.35882\tvalid_1's macroF1: 0.373987\n",
      "Early stopping, best iteration is:\n",
      "[41]\ttraining's multi_logloss: 1.38474\ttraining's macroF1: 0.386241\tvalid_1's multi_logloss: 1.38386\tvalid_1's macroF1: 0.395163\n",
      "============================== 4 of 5 folds ==============================\n",
      "[LightGBM] [Warning] seed is set=6, random_state=0 will be ignored. Current value: seed=6\n",
      "[LightGBM] [Warning] bagging_freq is set=1, subsample_freq=0 will be ignored. Current value: bagging_freq=1\n",
      "Training until validation scores don't improve for 500 rounds\n",
      "[500]\ttraining's multi_logloss: 1.36715\ttraining's macroF1: 0.406887\tvalid_1's multi_logloss: 1.36122\tvalid_1's macroF1: 0.330739\n"
     ]
    },
    {
     "name": "stdout",
     "output_type": "stream",
     "text": [
      "Early stopping, best iteration is:\n",
      "[471]\ttraining's multi_logloss: 1.36821\ttraining's macroF1: 0.406112\tvalid_1's multi_logloss: 1.3626\tvalid_1's macroF1: 0.335408\n",
      "============================== 5 of 5 folds ==============================\n",
      "[LightGBM] [Warning] seed is set=6, random_state=0 will be ignored. Current value: seed=6\n",
      "[LightGBM] [Warning] bagging_freq is set=1, subsample_freq=0 will be ignored. Current value: bagging_freq=1\n",
      "Training until validation scores don't improve for 500 rounds\n",
      "[500]\ttraining's multi_logloss: 1.36762\ttraining's macroF1: 0.398438\tvalid_1's multi_logloss: 1.35916\tvalid_1's macroF1: 0.36919\n",
      "Early stopping, best iteration is:\n",
      "[3]\ttraining's multi_logloss: 1.38617\ttraining's macroF1: 0.396797\tvalid_1's multi_logloss: 1.38612\tvalid_1's macroF1: 0.393852\n",
      "######################################## 8 of 50 iterations ########################################\n",
      "============================== 1 of 5 folds ==============================\n",
      "[LightGBM] [Warning] seed is set=7, random_state=0 will be ignored. Current value: seed=7\n",
      "[LightGBM] [Warning] bagging_freq is set=2, subsample_freq=0 will be ignored. Current value: bagging_freq=2\n",
      "Training until validation scores don't improve for 500 rounds\n",
      "[500]\ttraining's multi_logloss: 0.831116\ttraining's macroF1: 0.649132\tvalid_1's multi_logloss: 1.01722\tvalid_1's macroF1: 0.395311\n",
      "Early stopping, best iteration is:\n",
      "[191]\ttraining's multi_logloss: 1.00221\ttraining's macroF1: 0.559373\tvalid_1's multi_logloss: 1.04453\tvalid_1's macroF1: 0.418945\n",
      "============================== 2 of 5 folds ==============================\n",
      "[LightGBM] [Warning] seed is set=7, random_state=0 will be ignored. Current value: seed=7\n",
      "[LightGBM] [Warning] bagging_freq is set=2, subsample_freq=0 will be ignored. Current value: bagging_freq=2\n",
      "Training until validation scores don't improve for 500 rounds\n",
      "[500]\ttraining's multi_logloss: 0.829798\ttraining's macroF1: 0.649593\tvalid_1's multi_logloss: 1.06659\tvalid_1's macroF1: 0.396439\n",
      "[1000]\ttraining's multi_logloss: 0.685435\ttraining's macroF1: 0.723983\tvalid_1's multi_logloss: 1.05348\tvalid_1's macroF1: 0.393435\n",
      "Early stopping, best iteration is:\n",
      "[537]\ttraining's multi_logloss: 0.816391\ttraining's macroF1: 0.659057\tvalid_1's multi_logloss: 1.06451\tvalid_1's macroF1: 0.402223\n",
      "============================== 3 of 5 folds ==============================\n",
      "[LightGBM] [Warning] seed is set=7, random_state=0 will be ignored. Current value: seed=7\n",
      "[LightGBM] [Warning] bagging_freq is set=2, subsample_freq=0 will be ignored. Current value: bagging_freq=2\n",
      "Training until validation scores don't improve for 500 rounds\n",
      "[500]\ttraining's multi_logloss: 0.818264\ttraining's macroF1: 0.655881\tvalid_1's multi_logloss: 0.987484\tvalid_1's macroF1: 0.435279\n",
      "Early stopping, best iteration is:\n",
      "[388]\ttraining's multi_logloss: 0.866855\ttraining's macroF1: 0.632303\tvalid_1's multi_logloss: 0.990701\tvalid_1's macroF1: 0.450623\n",
      "============================== 4 of 5 folds ==============================\n",
      "[LightGBM] [Warning] seed is set=7, random_state=0 will be ignored. Current value: seed=7\n",
      "[LightGBM] [Warning] bagging_freq is set=2, subsample_freq=0 will be ignored. Current value: bagging_freq=2\n",
      "Training until validation scores don't improve for 500 rounds\n",
      "[500]\ttraining's multi_logloss: 0.826193\ttraining's macroF1: 0.655212\tvalid_1's multi_logloss: 1.02064\tvalid_1's macroF1: 0.40541\n",
      "Early stopping, best iteration is:\n",
      "[244]\ttraining's multi_logloss: 0.958483\ttraining's macroF1: 0.590652\tvalid_1's multi_logloss: 1.03583\tvalid_1's macroF1: 0.422909\n",
      "============================== 5 of 5 folds ==============================\n",
      "[LightGBM] [Warning] seed is set=7, random_state=0 will be ignored. Current value: seed=7\n",
      "[LightGBM] [Warning] bagging_freq is set=2, subsample_freq=0 will be ignored. Current value: bagging_freq=2\n",
      "Training until validation scores don't improve for 500 rounds\n",
      "[500]\ttraining's multi_logloss: 0.829011\ttraining's macroF1: 0.654986\tvalid_1's multi_logloss: 1.03101\tvalid_1's macroF1: 0.395303\n",
      "Early stopping, best iteration is:\n",
      "[320]\ttraining's multi_logloss: 0.912943\ttraining's macroF1: 0.609879\tvalid_1's multi_logloss: 1.03892\tvalid_1's macroF1: 0.419063\n",
      "######################################## 9 of 50 iterations ########################################\n",
      "============================== 1 of 5 folds ==============================\n",
      "[LightGBM] [Warning] seed is set=8, random_state=0 will be ignored. Current value: seed=8\n",
      "[LightGBM] [Warning] bagging_freq is set=2, subsample_freq=0 will be ignored. Current value: bagging_freq=2\n",
      "Training until validation scores don't improve for 500 rounds\n",
      "[500]\ttraining's multi_logloss: 0.624468\ttraining's macroF1: 0.771925\tvalid_1's multi_logloss: 0.973911\tvalid_1's macroF1: 0.410118\n",
      "Early stopping, best iteration is:\n",
      "[258]\ttraining's multi_logloss: 0.787961\ttraining's macroF1: 0.702141\tvalid_1's multi_logloss: 0.983691\tvalid_1's macroF1: 0.427316\n",
      "============================== 2 of 5 folds ==============================\n",
      "[LightGBM] [Warning] seed is set=8, random_state=0 will be ignored. Current value: seed=8\n",
      "[LightGBM] [Warning] bagging_freq is set=2, subsample_freq=0 will be ignored. Current value: bagging_freq=2\n",
      "Training until validation scores don't improve for 500 rounds\n",
      "[500]\ttraining's multi_logloss: 0.617986\ttraining's macroF1: 0.771609\tvalid_1's multi_logloss: 1.03479\tvalid_1's macroF1: 0.399976\n",
      "[1000]\ttraining's multi_logloss: 0.454379\ttraining's macroF1: 0.838127\tvalid_1's multi_logloss: 1.03563\tvalid_1's macroF1: 0.394398\n",
      "Early stopping, best iteration is:\n",
      "[698]\ttraining's multi_logloss: 0.53678\ttraining's macroF1: 0.813067\tvalid_1's multi_logloss: 1.0298\tvalid_1's macroF1: 0.400203\n",
      "============================== 3 of 5 folds ==============================\n",
      "[LightGBM] [Warning] seed is set=8, random_state=0 will be ignored. Current value: seed=8\n",
      "[LightGBM] [Warning] bagging_freq is set=2, subsample_freq=0 will be ignored. Current value: bagging_freq=2\n",
      "Training until validation scores don't improve for 500 rounds\n",
      "[500]\ttraining's multi_logloss: 0.623163\ttraining's macroF1: 0.764877\tvalid_1's multi_logloss: 1.02156\tvalid_1's macroF1: 0.393899\n",
      "Early stopping, best iteration is:\n",
      "[246]\ttraining's multi_logloss: 0.79515\ttraining's macroF1: 0.693621\tvalid_1's multi_logloss: 1.01685\tvalid_1's macroF1: 0.416491\n",
      "============================== 4 of 5 folds ==============================\n",
      "[LightGBM] [Warning] seed is set=8, random_state=0 will be ignored. Current value: seed=8\n",
      "[LightGBM] [Warning] bagging_freq is set=2, subsample_freq=0 will be ignored. Current value: bagging_freq=2\n",
      "Training until validation scores don't improve for 500 rounds\n",
      "[500]\ttraining's multi_logloss: 0.63318\ttraining's macroF1: 0.765369\tvalid_1's multi_logloss: 1.0078\tvalid_1's macroF1: 0.403882\n",
      "Early stopping, best iteration is:\n",
      "[81]\ttraining's multi_logloss: 1.0438\ttraining's macroF1: 0.589627\tvalid_1's multi_logloss: 1.08475\tvalid_1's macroF1: 0.419215\n",
      "============================== 5 of 5 folds ==============================\n",
      "[LightGBM] [Warning] seed is set=8, random_state=0 will be ignored. Current value: seed=8\n",
      "[LightGBM] [Warning] bagging_freq is set=2, subsample_freq=0 will be ignored. Current value: bagging_freq=2\n",
      "Training until validation scores don't improve for 500 rounds\n",
      "[500]\ttraining's multi_logloss: 0.625265\ttraining's macroF1: 0.777947\tvalid_1's multi_logloss: 0.976047\tvalid_1's macroF1: 0.412645\n",
      "Early stopping, best iteration is:\n",
      "[189]\ttraining's multi_logloss: 0.863538\ttraining's macroF1: 0.679113\tvalid_1's multi_logloss: 1.00298\tvalid_1's macroF1: 0.452754\n",
      "######################################## 10 of 50 iterations ########################################\n",
      "============================== 1 of 5 folds ==============================\n",
      "[LightGBM] [Warning] seed is set=9, random_state=0 will be ignored. Current value: seed=9\n",
      "[LightGBM] [Warning] bagging_freq is set=4, subsample_freq=0 will be ignored. Current value: bagging_freq=4\n",
      "Training until validation scores don't improve for 500 rounds\n",
      "[500]\ttraining's multi_logloss: 1.0286\ttraining's macroF1: 0.52744\tvalid_1's multi_logloss: 1.09111\tvalid_1's macroF1: 0.408608\n",
      "[1000]\ttraining's multi_logloss: 0.950354\ttraining's macroF1: 0.560582\tvalid_1's multi_logloss: 1.09043\tvalid_1's macroF1: 0.408781\n"
     ]
    },
    {
     "name": "stdout",
     "output_type": "stream",
     "text": [
      "[1500]\ttraining's multi_logloss: 0.895211\ttraining's macroF1: 0.59315\tvalid_1's multi_logloss: 1.0959\tvalid_1's macroF1: 0.414213\n",
      "Early stopping, best iteration is:\n",
      "[1020]\ttraining's multi_logloss: 0.947583\ttraining's macroF1: 0.563689\tvalid_1's multi_logloss: 1.09102\tvalid_1's macroF1: 0.424585\n",
      "============================== 2 of 5 folds ==============================\n",
      "[LightGBM] [Warning] seed is set=9, random_state=0 will be ignored. Current value: seed=9\n",
      "[LightGBM] [Warning] bagging_freq is set=4, subsample_freq=0 will be ignored. Current value: bagging_freq=4\n",
      "Training until validation scores don't improve for 500 rounds\n",
      "[500]\ttraining's multi_logloss: 1.02806\ttraining's macroF1: 0.534207\tvalid_1's multi_logloss: 1.07278\tvalid_1's macroF1: 0.404866\n",
      "Early stopping, best iteration is:\n",
      "[351]\ttraining's multi_logloss: 1.06457\ttraining's macroF1: 0.513722\tvalid_1's multi_logloss: 1.07195\tvalid_1's macroF1: 0.42414\n",
      "============================== 3 of 5 folds ==============================\n",
      "[LightGBM] [Warning] seed is set=9, random_state=0 will be ignored. Current value: seed=9\n",
      "[LightGBM] [Warning] bagging_freq is set=4, subsample_freq=0 will be ignored. Current value: bagging_freq=4\n",
      "Training until validation scores don't improve for 500 rounds\n",
      "[500]\ttraining's multi_logloss: 1.03914\ttraining's macroF1: 0.516184\tvalid_1's multi_logloss: 1.07451\tvalid_1's macroF1: 0.424237\n",
      "[1000]\ttraining's multi_logloss: 0.960298\ttraining's macroF1: 0.564614\tvalid_1's multi_logloss: 1.06881\tvalid_1's macroF1: 0.410348\n",
      "Early stopping, best iteration is:\n",
      "[526]\ttraining's multi_logloss: 1.0342\ttraining's macroF1: 0.525314\tvalid_1's multi_logloss: 1.0708\tvalid_1's macroF1: 0.431444\n",
      "============================== 4 of 5 folds ==============================\n",
      "[LightGBM] [Warning] seed is set=9, random_state=0 will be ignored. Current value: seed=9\n",
      "[LightGBM] [Warning] bagging_freq is set=4, subsample_freq=0 will be ignored. Current value: bagging_freq=4\n",
      "Training until validation scores don't improve for 500 rounds\n",
      "[500]\ttraining's multi_logloss: 1.02978\ttraining's macroF1: 0.525915\tvalid_1's multi_logloss: 1.10607\tvalid_1's macroF1: 0.355839\n",
      "Early stopping, best iteration is:\n",
      "[206]\ttraining's multi_logloss: 1.11747\ttraining's macroF1: 0.494181\tvalid_1's multi_logloss: 1.12151\tvalid_1's macroF1: 0.381223\n",
      "============================== 5 of 5 folds ==============================\n",
      "[LightGBM] [Warning] seed is set=9, random_state=0 will be ignored. Current value: seed=9\n",
      "[LightGBM] [Warning] bagging_freq is set=4, subsample_freq=0 will be ignored. Current value: bagging_freq=4\n",
      "Training until validation scores don't improve for 500 rounds\n",
      "[500]\ttraining's multi_logloss: 1.05201\ttraining's macroF1: 0.516028\tvalid_1's multi_logloss: 1.01319\tvalid_1's macroF1: 0.428516\n",
      "Early stopping, best iteration is:\n",
      "[57]\ttraining's multi_logloss: 1.25809\ttraining's macroF1: 0.432563\tvalid_1's multi_logloss: 1.18274\tvalid_1's macroF1: 0.456644\n",
      "######################################## 11 of 50 iterations ########################################\n",
      "============================== 1 of 5 folds ==============================\n",
      "[LightGBM] [Warning] seed is set=10, random_state=0 will be ignored. Current value: seed=10\n",
      "[LightGBM] [Warning] bagging_freq is set=2, subsample_freq=0 will be ignored. Current value: bagging_freq=2\n",
      "Training until validation scores don't improve for 500 rounds\n",
      "[500]\ttraining's multi_logloss: 0.747934\ttraining's macroF1: 0.703755\tvalid_1's multi_logloss: 1.01033\tvalid_1's macroF1: 0.387178\n",
      "Early stopping, best iteration is:\n",
      "[240]\ttraining's multi_logloss: 0.902621\ttraining's macroF1: 0.635882\tvalid_1's multi_logloss: 1.02431\tvalid_1's macroF1: 0.428499\n",
      "============================== 2 of 5 folds ==============================\n",
      "[LightGBM] [Warning] seed is set=10, random_state=0 will be ignored. Current value: seed=10\n",
      "[LightGBM] [Warning] bagging_freq is set=2, subsample_freq=0 will be ignored. Current value: bagging_freq=2\n",
      "Training until validation scores don't improve for 500 rounds\n",
      "[500]\ttraining's multi_logloss: 0.75585\ttraining's macroF1: 0.696286\tvalid_1's multi_logloss: 0.984039\tvalid_1's macroF1: 0.426298\n",
      "Early stopping, best iteration is:\n",
      "[316]\ttraining's multi_logloss: 0.856757\ttraining's macroF1: 0.641519\tvalid_1's multi_logloss: 0.994215\tvalid_1's macroF1: 0.426673\n",
      "============================== 3 of 5 folds ==============================\n",
      "[LightGBM] [Warning] seed is set=10, random_state=0 will be ignored. Current value: seed=10\n",
      "[LightGBM] [Warning] bagging_freq is set=2, subsample_freq=0 will be ignored. Current value: bagging_freq=2\n",
      "Training until validation scores don't improve for 500 rounds\n",
      "[500]\ttraining's multi_logloss: 0.764633\ttraining's macroF1: 0.697065\tvalid_1's multi_logloss: 0.984862\tvalid_1's macroF1: 0.419138\n",
      "[1000]\ttraining's multi_logloss: 0.599777\ttraining's macroF1: 0.773905\tvalid_1's multi_logloss: 0.968526\tvalid_1's macroF1: 0.431477\n",
      "Early stopping, best iteration is:\n",
      "[791]\ttraining's multi_logloss: 0.654134\ttraining's macroF1: 0.751051\tvalid_1's multi_logloss: 0.971372\tvalid_1's macroF1: 0.434765\n",
      "============================== 4 of 5 folds ==============================\n",
      "[LightGBM] [Warning] seed is set=10, random_state=0 will be ignored. Current value: seed=10\n",
      "[LightGBM] [Warning] bagging_freq is set=2, subsample_freq=0 will be ignored. Current value: bagging_freq=2\n",
      "Training until validation scores don't improve for 500 rounds\n",
      "[500]\ttraining's multi_logloss: 0.755857\ttraining's macroF1: 0.703144\tvalid_1's multi_logloss: 1.03862\tvalid_1's macroF1: 0.386207\n",
      "Early stopping, best iteration is:\n",
      "[24]\ttraining's multi_logloss: 1.26566\ttraining's macroF1: 0.497112\tvalid_1's multi_logloss: 1.244\tvalid_1's macroF1: 0.42843\n",
      "============================== 5 of 5 folds ==============================\n",
      "[LightGBM] [Warning] seed is set=10, random_state=0 will be ignored. Current value: seed=10\n",
      "[LightGBM] [Warning] bagging_freq is set=2, subsample_freq=0 will be ignored. Current value: bagging_freq=2\n",
      "Training until validation scores don't improve for 500 rounds\n",
      "[500]\ttraining's multi_logloss: 0.738942\ttraining's macroF1: 0.704304\tvalid_1's multi_logloss: 1.03888\tvalid_1's macroF1: 0.388056\n",
      "Early stopping, best iteration is:\n",
      "[17]\ttraining's multi_logloss: 1.28791\ttraining's macroF1: 0.514325\tvalid_1's multi_logloss: 1.27401\tvalid_1's macroF1: 0.401086\n",
      "######################################## 12 of 50 iterations ########################################\n",
      "============================== 1 of 5 folds ==============================\n",
      "[LightGBM] [Warning] seed is set=11, random_state=0 will be ignored. Current value: seed=11\n",
      "[LightGBM] [Warning] bagging_freq is set=3, subsample_freq=0 will be ignored. Current value: bagging_freq=3\n",
      "Training until validation scores don't improve for 500 rounds\n",
      "[500]\ttraining's multi_logloss: 1.38442\ttraining's macroF1: 0.389657\tvalid_1's multi_logloss: 1.38342\tvalid_1's macroF1: 0.319108\n",
      "Early stopping, best iteration is:\n",
      "[32]\ttraining's multi_logloss: 1.38617\ttraining's macroF1: 0.395806\tvalid_1's multi_logloss: 1.38611\tvalid_1's macroF1: 0.349127\n",
      "============================== 2 of 5 folds ==============================\n",
      "[LightGBM] [Warning] seed is set=11, random_state=0 will be ignored. Current value: seed=11\n",
      "[LightGBM] [Warning] bagging_freq is set=3, subsample_freq=0 will be ignored. Current value: bagging_freq=3\n",
      "Training until validation scores don't improve for 500 rounds\n",
      "[500]\ttraining's multi_logloss: 1.38453\ttraining's macroF1: 0.391673\tvalid_1's multi_logloss: 1.38377\tvalid_1's macroF1: 0.331411\n",
      "Early stopping, best iteration is:\n",
      "[8]\ttraining's multi_logloss: 1.38627\ttraining's macroF1: 0.398052\tvalid_1's multi_logloss: 1.38626\tvalid_1's macroF1: 0.364726\n",
      "============================== 3 of 5 folds ==============================\n",
      "[LightGBM] [Warning] seed is set=11, random_state=0 will be ignored. Current value: seed=11\n",
      "[LightGBM] [Warning] bagging_freq is set=3, subsample_freq=0 will be ignored. Current value: bagging_freq=3\n",
      "Training until validation scores don't improve for 500 rounds\n",
      "[500]\ttraining's multi_logloss: 1.38457\ttraining's macroF1: 0.392804\tvalid_1's multi_logloss: 1.38371\tvalid_1's macroF1: 0.378081\n",
      "Early stopping, best iteration is:\n",
      "[131]\ttraining's multi_logloss: 1.38584\ttraining's macroF1: 0.387056\tvalid_1's multi_logloss: 1.38561\tvalid_1's macroF1: 0.397812\n"
     ]
    },
    {
     "name": "stdout",
     "output_type": "stream",
     "text": [
      "============================== 4 of 5 folds ==============================\n",
      "[LightGBM] [Warning] seed is set=11, random_state=0 will be ignored. Current value: seed=11\n",
      "[LightGBM] [Warning] bagging_freq is set=3, subsample_freq=0 will be ignored. Current value: bagging_freq=3\n",
      "Training until validation scores don't improve for 500 rounds\n",
      "[500]\ttraining's multi_logloss: 1.38455\ttraining's macroF1: 0.379298\tvalid_1's multi_logloss: 1.38343\tvalid_1's macroF1: 0.367962\n",
      "Early stopping, best iteration is:\n",
      "[75]\ttraining's multi_logloss: 1.38603\ttraining's macroF1: 0.384633\tvalid_1's multi_logloss: 1.38587\tvalid_1's macroF1: 0.39711\n",
      "============================== 5 of 5 folds ==============================\n",
      "[LightGBM] [Warning] seed is set=11, random_state=0 will be ignored. Current value: seed=11\n",
      "[LightGBM] [Warning] bagging_freq is set=3, subsample_freq=0 will be ignored. Current value: bagging_freq=3\n",
      "Training until validation scores don't improve for 500 rounds\n",
      "[500]\ttraining's multi_logloss: 1.3844\ttraining's macroF1: 0.392907\tvalid_1's multi_logloss: 1.38384\tvalid_1's macroF1: 0.312031\n",
      "Early stopping, best iteration is:\n",
      "[3]\ttraining's multi_logloss: 1.38628\ttraining's macroF1: 0.359621\tvalid_1's multi_logloss: 1.38628\tvalid_1's macroF1: 0.334288\n",
      "######################################## 13 of 50 iterations ########################################\n",
      "============================== 1 of 5 folds ==============================\n",
      "[LightGBM] [Warning] seed is set=12, random_state=0 will be ignored. Current value: seed=12\n",
      "[LightGBM] [Warning] bagging_freq is set=2, subsample_freq=0 will be ignored. Current value: bagging_freq=2\n",
      "Training until validation scores don't improve for 500 rounds\n",
      "[500]\ttraining's multi_logloss: 1.20229\ttraining's macroF1: 0.453289\tvalid_1's multi_logloss: 1.16899\tvalid_1's macroF1: 0.36924\n",
      "Early stopping, best iteration is:\n",
      "[462]\ttraining's multi_logloss: 1.211\ttraining's macroF1: 0.452009\tvalid_1's multi_logloss: 1.17674\tvalid_1's macroF1: 0.375203\n",
      "============================== 2 of 5 folds ==============================\n",
      "[LightGBM] [Warning] seed is set=12, random_state=0 will be ignored. Current value: seed=12\n",
      "[LightGBM] [Warning] bagging_freq is set=2, subsample_freq=0 will be ignored. Current value: bagging_freq=2\n",
      "Training until validation scores don't improve for 500 rounds\n",
      "[500]\ttraining's multi_logloss: 1.20166\ttraining's macroF1: 0.475404\tvalid_1's multi_logloss: 1.17915\tvalid_1's macroF1: 0.375525\n",
      "[1000]\ttraining's multi_logloss: 1.12675\ttraining's macroF1: 0.489881\tvalid_1's multi_logloss: 1.1234\tvalid_1's macroF1: 0.377902\n",
      "Early stopping, best iteration is:\n",
      "[679]\ttraining's multi_logloss: 1.16913\ttraining's macroF1: 0.482597\tvalid_1's multi_logloss: 1.15165\tvalid_1's macroF1: 0.388612\n",
      "============================== 3 of 5 folds ==============================\n",
      "[LightGBM] [Warning] seed is set=12, random_state=0 will be ignored. Current value: seed=12\n",
      "[LightGBM] [Warning] bagging_freq is set=2, subsample_freq=0 will be ignored. Current value: bagging_freq=2\n",
      "Training until validation scores don't improve for 500 rounds\n",
      "[500]\ttraining's multi_logloss: 1.21375\ttraining's macroF1: 0.463342\tvalid_1's multi_logloss: 1.16715\tvalid_1's macroF1: 0.42505\n",
      "Early stopping, best iteration is:\n",
      "[418]\ttraining's multi_logloss: 1.23209\ttraining's macroF1: 0.458014\tvalid_1's multi_logloss: 1.18632\tvalid_1's macroF1: 0.433\n",
      "============================== 4 of 5 folds ==============================\n",
      "[LightGBM] [Warning] seed is set=12, random_state=0 will be ignored. Current value: seed=12\n",
      "[LightGBM] [Warning] bagging_freq is set=2, subsample_freq=0 will be ignored. Current value: bagging_freq=2\n",
      "Training until validation scores don't improve for 500 rounds\n",
      "[500]\ttraining's multi_logloss: 1.20125\ttraining's macroF1: 0.465296\tvalid_1's multi_logloss: 1.17341\tvalid_1's macroF1: 0.362394\n",
      "[1000]\ttraining's multi_logloss: 1.12353\ttraining's macroF1: 0.492479\tvalid_1's multi_logloss: 1.11591\tvalid_1's macroF1: 0.386147\n",
      "[1500]\ttraining's multi_logloss: 1.07742\ttraining's macroF1: 0.510266\tvalid_1's multi_logloss: 1.09291\tvalid_1's macroF1: 0.398631\n",
      "[2000]\ttraining's multi_logloss: 1.04488\ttraining's macroF1: 0.522685\tvalid_1's multi_logloss: 1.08091\tvalid_1's macroF1: 0.405516\n",
      "Early stopping, best iteration is:\n",
      "[1875]\ttraining's multi_logloss: 1.05199\ttraining's macroF1: 0.521421\tvalid_1's multi_logloss: 1.08291\tvalid_1's macroF1: 0.409864\n",
      "============================== 5 of 5 folds ==============================\n",
      "[LightGBM] [Warning] seed is set=12, random_state=0 will be ignored. Current value: seed=12\n",
      "[LightGBM] [Warning] bagging_freq is set=2, subsample_freq=0 will be ignored. Current value: bagging_freq=2\n",
      "Training until validation scores don't improve for 500 rounds\n",
      "[500]\ttraining's multi_logloss: 1.20853\ttraining's macroF1: 0.452579\tvalid_1's multi_logloss: 1.14868\tvalid_1's macroF1: 0.375178\n",
      "Early stopping, best iteration is:\n",
      "[4]\ttraining's multi_logloss: 1.38377\ttraining's macroF1: 0.407368\tvalid_1's multi_logloss: 1.38215\tvalid_1's macroF1: 0.389848\n",
      "######################################## 14 of 50 iterations ########################################\n",
      "============================== 1 of 5 folds ==============================\n",
      "[LightGBM] [Warning] seed is set=13, random_state=0 will be ignored. Current value: seed=13\n",
      "[LightGBM] [Warning] bagging_freq is set=2, subsample_freq=0 will be ignored. Current value: bagging_freq=2\n",
      "Training until validation scores don't improve for 500 rounds\n",
      "[500]\ttraining's multi_logloss: 0.583692\ttraining's macroF1: 0.779686\tvalid_1's multi_logloss: 1.03473\tvalid_1's macroF1: 0.396343\n",
      "Early stopping, best iteration is:\n",
      "[278]\ttraining's multi_logloss: 0.729829\ttraining's macroF1: 0.708265\tvalid_1's multi_logloss: 1.03982\tvalid_1's macroF1: 0.412617\n",
      "============================== 2 of 5 folds ==============================\n",
      "[LightGBM] [Warning] seed is set=13, random_state=0 will be ignored. Current value: seed=13\n",
      "[LightGBM] [Warning] bagging_freq is set=2, subsample_freq=0 will be ignored. Current value: bagging_freq=2\n",
      "Training until validation scores don't improve for 500 rounds\n",
      "[500]\ttraining's multi_logloss: 0.588432\ttraining's macroF1: 0.781792\tvalid_1's multi_logloss: 1.0178\tvalid_1's macroF1: 0.43409\n",
      "[1000]\ttraining's multi_logloss: 0.430238\ttraining's macroF1: 0.852092\tvalid_1's multi_logloss: 1.01537\tvalid_1's macroF1: 0.414287\n",
      "Early stopping, best iteration is:\n",
      "[629]\ttraining's multi_logloss: 0.533368\ttraining's macroF1: 0.804841\tvalid_1's multi_logloss: 1.01472\tvalid_1's macroF1: 0.440653\n",
      "============================== 3 of 5 folds ==============================\n",
      "[LightGBM] [Warning] seed is set=13, random_state=0 will be ignored. Current value: seed=13\n",
      "[LightGBM] [Warning] bagging_freq is set=2, subsample_freq=0 will be ignored. Current value: bagging_freq=2\n",
      "Training until validation scores don't improve for 500 rounds\n",
      "[500]\ttraining's multi_logloss: 0.58671\ttraining's macroF1: 0.782873\tvalid_1's multi_logloss: 0.985935\tvalid_1's macroF1: 0.405729\n",
      "[1000]\ttraining's multi_logloss: 0.428223\ttraining's macroF1: 0.844866\tvalid_1's multi_logloss: 0.982313\tvalid_1's macroF1: 0.418545\n",
      "Early stopping, best iteration is:\n",
      "[936]\ttraining's multi_logloss: 0.441734\ttraining's macroF1: 0.839161\tvalid_1's multi_logloss: 0.982256\tvalid_1's macroF1: 0.425999\n",
      "============================== 4 of 5 folds ==============================\n",
      "[LightGBM] [Warning] seed is set=13, random_state=0 will be ignored. Current value: seed=13\n",
      "[LightGBM] [Warning] bagging_freq is set=2, subsample_freq=0 will be ignored. Current value: bagging_freq=2\n",
      "Training until validation scores don't improve for 500 rounds\n",
      "[500]\ttraining's multi_logloss: 0.592139\ttraining's macroF1: 0.786987\tvalid_1's multi_logloss: 1.00084\tvalid_1's macroF1: 0.423042\n",
      "Early stopping, best iteration is:\n",
      "[291]\ttraining's multi_logloss: 0.728748\ttraining's macroF1: 0.728803\tvalid_1's multi_logloss: 1.01328\tvalid_1's macroF1: 0.439056\n",
      "============================== 5 of 5 folds ==============================\n",
      "[LightGBM] [Warning] seed is set=13, random_state=0 will be ignored. Current value: seed=13\n",
      "[LightGBM] [Warning] bagging_freq is set=2, subsample_freq=0 will be ignored. Current value: bagging_freq=2\n"
     ]
    },
    {
     "name": "stdout",
     "output_type": "stream",
     "text": [
      "Training until validation scores don't improve for 500 rounds\n",
      "[500]\ttraining's multi_logloss: 0.600678\ttraining's macroF1: 0.774828\tvalid_1's multi_logloss: 0.97253\tvalid_1's macroF1: 0.420216\n",
      "[1000]\ttraining's multi_logloss: 0.441578\ttraining's macroF1: 0.838241\tvalid_1's multi_logloss: 0.952896\tvalid_1's macroF1: 0.437882\n",
      "[1500]\ttraining's multi_logloss: 0.365879\ttraining's macroF1: 0.868983\tvalid_1's multi_logloss: 0.946868\tvalid_1's macroF1: 0.440291\n",
      "[2000]\ttraining's multi_logloss: 0.321926\ttraining's macroF1: 0.887995\tvalid_1's multi_logloss: 0.949541\tvalid_1's macroF1: 0.441492\n",
      "Early stopping, best iteration is:\n",
      "[1536]\ttraining's multi_logloss: 0.361914\ttraining's macroF1: 0.870471\tvalid_1's multi_logloss: 0.945738\tvalid_1's macroF1: 0.443517\n",
      "######################################## 15 of 50 iterations ########################################\n",
      "============================== 1 of 5 folds ==============================\n",
      "[LightGBM] [Warning] seed is set=14, random_state=0 will be ignored. Current value: seed=14\n",
      "[LightGBM] [Warning] bagging_freq is set=3, subsample_freq=0 will be ignored. Current value: bagging_freq=3\n",
      "Training until validation scores don't improve for 500 rounds\n",
      "[500]\ttraining's multi_logloss: 0.932373\ttraining's macroF1: 0.598304\tvalid_1's multi_logloss: 1.06004\tvalid_1's macroF1: 0.400806\n",
      "Early stopping, best iteration is:\n",
      "[175]\ttraining's multi_logloss: 1.07188\ttraining's macroF1: 0.515653\tvalid_1's multi_logloss: 1.07295\tvalid_1's macroF1: 0.435538\n",
      "============================== 2 of 5 folds ==============================\n",
      "[LightGBM] [Warning] seed is set=14, random_state=0 will be ignored. Current value: seed=14\n",
      "[LightGBM] [Warning] bagging_freq is set=3, subsample_freq=0 will be ignored. Current value: bagging_freq=3\n",
      "Training until validation scores don't improve for 500 rounds\n",
      "[500]\ttraining's multi_logloss: 0.917435\ttraining's macroF1: 0.592184\tvalid_1's multi_logloss: 1.05087\tvalid_1's macroF1: 0.411013\n",
      "Early stopping, best iteration is:\n",
      "[427]\ttraining's multi_logloss: 0.940327\ttraining's macroF1: 0.575808\tvalid_1's multi_logloss: 1.0521\tvalid_1's macroF1: 0.418789\n",
      "============================== 3 of 5 folds ==============================\n",
      "[LightGBM] [Warning] seed is set=14, random_state=0 will be ignored. Current value: seed=14\n",
      "[LightGBM] [Warning] bagging_freq is set=3, subsample_freq=0 will be ignored. Current value: bagging_freq=3\n",
      "Training until validation scores don't improve for 500 rounds\n",
      "[500]\ttraining's multi_logloss: 0.905098\ttraining's macroF1: 0.591329\tvalid_1's multi_logloss: 1.06998\tvalid_1's macroF1: 0.351947\n",
      "Early stopping, best iteration is:\n",
      "[110]\ttraining's multi_logloss: 1.10769\ttraining's macroF1: 0.50911\tvalid_1's multi_logloss: 1.10126\tvalid_1's macroF1: 0.396219\n",
      "============================== 4 of 5 folds ==============================\n",
      "[LightGBM] [Warning] seed is set=14, random_state=0 will be ignored. Current value: seed=14\n",
      "[LightGBM] [Warning] bagging_freq is set=3, subsample_freq=0 will be ignored. Current value: bagging_freq=3\n",
      "Training until validation scores don't improve for 500 rounds\n",
      "[500]\ttraining's multi_logloss: 0.914988\ttraining's macroF1: 0.586095\tvalid_1's multi_logloss: 1.03495\tvalid_1's macroF1: 0.395499\n",
      "Early stopping, best iteration is:\n",
      "[135]\ttraining's multi_logloss: 1.09109\ttraining's macroF1: 0.514888\tvalid_1's multi_logloss: 1.062\tvalid_1's macroF1: 0.429542\n",
      "============================== 5 of 5 folds ==============================\n",
      "[LightGBM] [Warning] seed is set=14, random_state=0 will be ignored. Current value: seed=14\n",
      "[LightGBM] [Warning] bagging_freq is set=3, subsample_freq=0 will be ignored. Current value: bagging_freq=3\n",
      "Training until validation scores don't improve for 500 rounds\n",
      "[500]\ttraining's multi_logloss: 0.930705\ttraining's macroF1: 0.584757\tvalid_1's multi_logloss: 1.02092\tvalid_1's macroF1: 0.433569\n",
      "Early stopping, best iteration is:\n",
      "[42]\ttraining's multi_logloss: 1.2421\ttraining's macroF1: 0.472953\tvalid_1's multi_logloss: 1.18702\tvalid_1's macroF1: 0.455442\n",
      "######################################## 16 of 50 iterations ########################################\n",
      "============================== 1 of 5 folds ==============================\n",
      "[LightGBM] [Warning] seed is set=15, random_state=0 will be ignored. Current value: seed=15\n",
      "[LightGBM] [Warning] bagging_freq is set=2, subsample_freq=0 will be ignored. Current value: bagging_freq=2\n",
      "Training until validation scores don't improve for 500 rounds\n",
      "[500]\ttraining's multi_logloss: 1.09382\ttraining's macroF1: 0.536147\tvalid_1's multi_logloss: 1.0874\tvalid_1's macroF1: 0.392778\n",
      "[1000]\ttraining's multi_logloss: 0.982686\ttraining's macroF1: 0.576522\tvalid_1's multi_logloss: 1.04066\tvalid_1's macroF1: 0.380858\n",
      "Early stopping, best iteration is:\n",
      "[573]\ttraining's multi_logloss: 1.07227\ttraining's macroF1: 0.54488\tvalid_1's multi_logloss: 1.07606\tvalid_1's macroF1: 0.402215\n",
      "============================== 2 of 5 folds ==============================\n",
      "[LightGBM] [Warning] seed is set=15, random_state=0 will be ignored. Current value: seed=15\n",
      "[LightGBM] [Warning] bagging_freq is set=2, subsample_freq=0 will be ignored. Current value: bagging_freq=2\n",
      "Training until validation scores don't improve for 500 rounds\n",
      "[500]\ttraining's multi_logloss: 1.09902\ttraining's macroF1: 0.538901\tvalid_1's multi_logloss: 1.09913\tvalid_1's macroF1: 0.403272\n",
      "[1000]\ttraining's multi_logloss: 0.987885\ttraining's macroF1: 0.587984\tvalid_1's multi_logloss: 1.04931\tvalid_1's macroF1: 0.41171\n",
      "[1500]\ttraining's multi_logloss: 0.919104\ttraining's macroF1: 0.616538\tvalid_1's multi_logloss: 1.04\tvalid_1's macroF1: 0.417386\n",
      "Early stopping, best iteration is:\n",
      "[1026]\ttraining's multi_logloss: 0.983652\ttraining's macroF1: 0.587611\tvalid_1's multi_logloss: 1.04841\tvalid_1's macroF1: 0.423267\n",
      "============================== 3 of 5 folds ==============================\n",
      "[LightGBM] [Warning] seed is set=15, random_state=0 will be ignored. Current value: seed=15\n",
      "[LightGBM] [Warning] bagging_freq is set=2, subsample_freq=0 will be ignored. Current value: bagging_freq=2\n",
      "Training until validation scores don't improve for 500 rounds\n",
      "[500]\ttraining's multi_logloss: 1.09055\ttraining's macroF1: 0.521659\tvalid_1's multi_logloss: 1.12472\tvalid_1's macroF1: 0.387244\n",
      "Early stopping, best iteration is:\n",
      "[301]\ttraining's multi_logloss: 1.16449\ttraining's macroF1: 0.498925\tvalid_1's multi_logloss: 1.16951\tvalid_1's macroF1: 0.393613\n",
      "============================== 4 of 5 folds ==============================\n",
      "[LightGBM] [Warning] seed is set=15, random_state=0 will be ignored. Current value: seed=15\n",
      "[LightGBM] [Warning] bagging_freq is set=2, subsample_freq=0 will be ignored. Current value: bagging_freq=2\n",
      "Training until validation scores don't improve for 500 rounds\n",
      "[500]\ttraining's multi_logloss: 1.09282\ttraining's macroF1: 0.528933\tvalid_1's multi_logloss: 1.1277\tvalid_1's macroF1: 0.390717\n",
      "Early stopping, best iteration is:\n",
      "[152]\ttraining's multi_logloss: 1.25131\ttraining's macroF1: 0.487501\tvalid_1's multi_logloss: 1.24113\tvalid_1's macroF1: 0.411684\n",
      "============================== 5 of 5 folds ==============================\n",
      "[LightGBM] [Warning] seed is set=15, random_state=0 will be ignored. Current value: seed=15\n",
      "[LightGBM] [Warning] bagging_freq is set=2, subsample_freq=0 will be ignored. Current value: bagging_freq=2\n",
      "Training until validation scores don't improve for 500 rounds\n",
      "[500]\ttraining's multi_logloss: 1.09865\ttraining's macroF1: 0.521732\tvalid_1's multi_logloss: 1.07816\tvalid_1's macroF1: 0.430985\n",
      "[1000]\ttraining's multi_logloss: 0.989583\ttraining's macroF1: 0.571737\tvalid_1's multi_logloss: 1.02631\tvalid_1's macroF1: 0.430393\n",
      "Early stopping, best iteration is:\n",
      "[932]\ttraining's multi_logloss: 1.00082\ttraining's macroF1: 0.567641\tvalid_1's multi_logloss: 1.02961\tvalid_1's macroF1: 0.442276\n",
      "######################################## 17 of 50 iterations ########################################\n",
      "============================== 1 of 5 folds ==============================\n",
      "[LightGBM] [Warning] seed is set=16, random_state=0 will be ignored. Current value: seed=16\n",
      "[LightGBM] [Warning] bagging_freq is set=2, subsample_freq=0 will be ignored. Current value: bagging_freq=2\n",
      "Training until validation scores don't improve for 500 rounds\n"
     ]
    },
    {
     "name": "stdout",
     "output_type": "stream",
     "text": [
      "[500]\ttraining's multi_logloss: 1.13046\ttraining's macroF1: 0.475114\tvalid_1's multi_logloss: 1.06028\tvalid_1's macroF1: 0.428424\n",
      "[1000]\ttraining's multi_logloss: 1.07284\ttraining's macroF1: 0.497816\tvalid_1's multi_logloss: 1.0403\tvalid_1's macroF1: 0.427714\n",
      "Early stopping, best iteration is:\n",
      "[626]\ttraining's multi_logloss: 1.11218\ttraining's macroF1: 0.481313\tvalid_1's multi_logloss: 1.05076\tvalid_1's macroF1: 0.442018\n",
      "============================== 2 of 5 folds ==============================\n",
      "[LightGBM] [Warning] seed is set=16, random_state=0 will be ignored. Current value: seed=16\n",
      "[LightGBM] [Warning] bagging_freq is set=2, subsample_freq=0 will be ignored. Current value: bagging_freq=2\n",
      "Training until validation scores don't improve for 500 rounds\n",
      "[500]\ttraining's multi_logloss: 1.12968\ttraining's macroF1: 0.481739\tvalid_1's multi_logloss: 1.08656\tvalid_1's macroF1: 0.406541\n",
      "[1000]\ttraining's multi_logloss: 1.06989\ttraining's macroF1: 0.516995\tvalid_1's multi_logloss: 1.07603\tvalid_1's macroF1: 0.412156\n",
      "[1500]\ttraining's multi_logloss: 1.0321\ttraining's macroF1: 0.530807\tvalid_1's multi_logloss: 1.07309\tvalid_1's macroF1: 0.406154\n",
      "Early stopping, best iteration is:\n",
      "[1400]\ttraining's multi_logloss: 1.0387\ttraining's macroF1: 0.531541\tvalid_1's multi_logloss: 1.07431\tvalid_1's macroF1: 0.421232\n",
      "============================== 3 of 5 folds ==============================\n",
      "[LightGBM] [Warning] seed is set=16, random_state=0 will be ignored. Current value: seed=16\n",
      "[LightGBM] [Warning] bagging_freq is set=2, subsample_freq=0 will be ignored. Current value: bagging_freq=2\n",
      "Training until validation scores don't improve for 500 rounds\n",
      "[500]\ttraining's multi_logloss: 1.11874\ttraining's macroF1: 0.479277\tvalid_1's multi_logloss: 1.11777\tvalid_1's macroF1: 0.363182\n",
      "Early stopping, best iteration is:\n",
      "[148]\ttraining's multi_logloss: 1.23244\ttraining's macroF1: 0.44522\tvalid_1's multi_logloss: 1.19942\tvalid_1's macroF1: 0.38595\n",
      "============================== 4 of 5 folds ==============================\n",
      "[LightGBM] [Warning] seed is set=16, random_state=0 will be ignored. Current value: seed=16\n",
      "[LightGBM] [Warning] bagging_freq is set=2, subsample_freq=0 will be ignored. Current value: bagging_freq=2\n",
      "Training until validation scores don't improve for 500 rounds\n",
      "[500]\ttraining's multi_logloss: 1.11742\ttraining's macroF1: 0.475066\tvalid_1's multi_logloss: 1.11044\tvalid_1's macroF1: 0.386318\n",
      "[1000]\ttraining's multi_logloss: 1.06085\ttraining's macroF1: 0.493695\tvalid_1's multi_logloss: 1.09774\tvalid_1's macroF1: 0.400392\n",
      "[1500]\ttraining's multi_logloss: 1.0237\ttraining's macroF1: 0.515838\tvalid_1's multi_logloss: 1.09374\tvalid_1's macroF1: 0.39764\n",
      "Early stopping, best iteration is:\n",
      "[1024]\ttraining's multi_logloss: 1.05877\ttraining's macroF1: 0.496966\tvalid_1's multi_logloss: 1.09583\tvalid_1's macroF1: 0.405828\n",
      "============================== 5 of 5 folds ==============================\n",
      "[LightGBM] [Warning] seed is set=16, random_state=0 will be ignored. Current value: seed=16\n",
      "[LightGBM] [Warning] bagging_freq is set=2, subsample_freq=0 will be ignored. Current value: bagging_freq=2\n",
      "Training until validation scores don't improve for 500 rounds\n",
      "[500]\ttraining's multi_logloss: 1.11821\ttraining's macroF1: 0.483862\tvalid_1's multi_logloss: 1.09259\tvalid_1's macroF1: 0.388408\n",
      "Early stopping, best iteration is:\n",
      "[1]\ttraining's multi_logloss: 1.38472\ttraining's macroF1: 0.361048\tvalid_1's multi_logloss: 1.38377\tvalid_1's macroF1: 0.39937\n",
      "######################################## 18 of 50 iterations ########################################\n",
      "============================== 1 of 5 folds ==============================\n",
      "[LightGBM] [Warning] seed is set=17, random_state=0 will be ignored. Current value: seed=17\n",
      "[LightGBM] [Warning] bagging_freq is set=3, subsample_freq=0 will be ignored. Current value: bagging_freq=3\n",
      "Training until validation scores don't improve for 500 rounds\n",
      "[500]\ttraining's multi_logloss: 1.05905\ttraining's macroF1: 0.512704\tvalid_1's multi_logloss: 1.10439\tvalid_1's macroF1: 0.367957\n",
      "Early stopping, best iteration is:\n",
      "[29]\ttraining's multi_logloss: 1.30821\ttraining's macroF1: 0.430184\tvalid_1's multi_logloss: 1.28167\tvalid_1's macroF1: 0.389159\n",
      "============================== 2 of 5 folds ==============================\n",
      "[LightGBM] [Warning] seed is set=17, random_state=0 will be ignored. Current value: seed=17\n",
      "[LightGBM] [Warning] bagging_freq is set=3, subsample_freq=0 will be ignored. Current value: bagging_freq=3\n",
      "Training until validation scores don't improve for 500 rounds\n",
      "[500]\ttraining's multi_logloss: 1.04067\ttraining's macroF1: 0.508946\tvalid_1's multi_logloss: 1.10287\tvalid_1's macroF1: 0.36727\n",
      "Early stopping, best iteration is:\n",
      "[237]\ttraining's multi_logloss: 1.10827\ttraining's macroF1: 0.471524\tvalid_1's multi_logloss: 1.10534\tvalid_1's macroF1: 0.394279\n",
      "============================== 3 of 5 folds ==============================\n",
      "[LightGBM] [Warning] seed is set=17, random_state=0 will be ignored. Current value: seed=17\n",
      "[LightGBM] [Warning] bagging_freq is set=3, subsample_freq=0 will be ignored. Current value: bagging_freq=3\n",
      "Training until validation scores don't improve for 500 rounds\n",
      "[500]\ttraining's multi_logloss: 1.06075\ttraining's macroF1: 0.507655\tvalid_1's multi_logloss: 1.09636\tvalid_1's macroF1: 0.387601\n",
      "Early stopping, best iteration is:\n",
      "[486]\ttraining's multi_logloss: 1.06336\ttraining's macroF1: 0.504866\tvalid_1's multi_logloss: 1.09516\tvalid_1's macroF1: 0.390459\n",
      "============================== 4 of 5 folds ==============================\n",
      "[LightGBM] [Warning] seed is set=17, random_state=0 will be ignored. Current value: seed=17\n",
      "[LightGBM] [Warning] bagging_freq is set=3, subsample_freq=0 will be ignored. Current value: bagging_freq=3\n",
      "Training until validation scores don't improve for 500 rounds\n",
      "[500]\ttraining's multi_logloss: 1.07306\ttraining's macroF1: 0.507912\tvalid_1's multi_logloss: 1.06328\tvalid_1's macroF1: 0.419666\n",
      "[1000]\ttraining's multi_logloss: 1.00658\ttraining's macroF1: 0.543821\tvalid_1's multi_logloss: 1.05785\tvalid_1's macroF1: 0.425882\n",
      "[1500]\ttraining's multi_logloss: 0.962871\ttraining's macroF1: 0.562\tvalid_1's multi_logloss: 1.05783\tvalid_1's macroF1: 0.428578\n",
      "Early stopping, best iteration is:\n",
      "[1059]\ttraining's multi_logloss: 1.0007\ttraining's macroF1: 0.544546\tvalid_1's multi_logloss: 1.05438\tvalid_1's macroF1: 0.440423\n",
      "============================== 5 of 5 folds ==============================\n",
      "[LightGBM] [Warning] seed is set=17, random_state=0 will be ignored. Current value: seed=17\n",
      "[LightGBM] [Warning] bagging_freq is set=3, subsample_freq=0 will be ignored. Current value: bagging_freq=3\n",
      "Training until validation scores don't improve for 500 rounds\n",
      "[500]\ttraining's multi_logloss: 1.0541\ttraining's macroF1: 0.516458\tvalid_1's multi_logloss: 1.07597\tvalid_1's macroF1: 0.394508\n",
      "[1000]\ttraining's multi_logloss: 0.988346\ttraining's macroF1: 0.549686\tvalid_1's multi_logloss: 1.07264\tvalid_1's macroF1: 0.398282\n",
      "Early stopping, best iteration is:\n",
      "[822]\ttraining's multi_logloss: 1.00907\ttraining's macroF1: 0.538215\tvalid_1's multi_logloss: 1.06865\tvalid_1's macroF1: 0.389507\n",
      "######################################## 19 of 50 iterations ########################################\n",
      "============================== 1 of 5 folds ==============================\n",
      "[LightGBM] [Warning] seed is set=18, random_state=0 will be ignored. Current value: seed=18\n",
      "[LightGBM] [Warning] bagging_freq is set=3, subsample_freq=0 will be ignored. Current value: bagging_freq=3\n",
      "Training until validation scores don't improve for 500 rounds\n",
      "[500]\ttraining's multi_logloss: 0.696055\ttraining's macroF1: 0.733238\tvalid_1's multi_logloss: 1.03531\tvalid_1's macroF1: 0.421984\n",
      "[1000]\ttraining's multi_logloss: 0.536292\ttraining's macroF1: 0.801114\tvalid_1's multi_logloss: 1.03308\tvalid_1's macroF1: 0.41526\n",
      "Early stopping, best iteration is:\n",
      "[556]\ttraining's multi_logloss: 0.670671\ttraining's macroF1: 0.739893\tvalid_1's multi_logloss: 1.03343\tvalid_1's macroF1: 0.425156\n",
      "============================== 2 of 5 folds ==============================\n",
      "[LightGBM] [Warning] seed is set=18, random_state=0 will be ignored. Current value: seed=18\n",
      "[LightGBM] [Warning] bagging_freq is set=3, subsample_freq=0 will be ignored. Current value: bagging_freq=3\n"
     ]
    },
    {
     "name": "stdout",
     "output_type": "stream",
     "text": [
      "Training until validation scores don't improve for 500 rounds\n",
      "[500]\ttraining's multi_logloss: 0.693425\ttraining's macroF1: 0.734272\tvalid_1's multi_logloss: 1.00696\tvalid_1's macroF1: 0.411403\n",
      "Early stopping, best iteration is:\n",
      "[44]\ttraining's multi_logloss: 1.16451\ttraining's macroF1: 0.537335\tvalid_1's multi_logloss: 1.1642\tvalid_1's macroF1: 0.433982\n",
      "============================== 3 of 5 folds ==============================\n",
      "[LightGBM] [Warning] seed is set=18, random_state=0 will be ignored. Current value: seed=18\n",
      "[LightGBM] [Warning] bagging_freq is set=3, subsample_freq=0 will be ignored. Current value: bagging_freq=3\n",
      "Training until validation scores don't improve for 500 rounds\n",
      "[500]\ttraining's multi_logloss: 0.708391\ttraining's macroF1: 0.710208\tvalid_1's multi_logloss: 0.992939\tvalid_1's macroF1: 0.41531\n",
      "Early stopping, best iteration is:\n",
      "[307]\ttraining's multi_logloss: 0.817335\ttraining's macroF1: 0.66066\tvalid_1's multi_logloss: 1.0038\tvalid_1's macroF1: 0.433175\n",
      "============================== 4 of 5 folds ==============================\n",
      "[LightGBM] [Warning] seed is set=18, random_state=0 will be ignored. Current value: seed=18\n",
      "[LightGBM] [Warning] bagging_freq is set=3, subsample_freq=0 will be ignored. Current value: bagging_freq=3\n",
      "Training until validation scores don't improve for 500 rounds\n",
      "[500]\ttraining's multi_logloss: 0.69811\ttraining's macroF1: 0.724742\tvalid_1's multi_logloss: 1.03529\tvalid_1's macroF1: 0.41148\n",
      "Early stopping, best iteration is:\n",
      "[369]\ttraining's multi_logloss: 0.767498\ttraining's macroF1: 0.691394\tvalid_1's multi_logloss: 1.03799\tvalid_1's macroF1: 0.418752\n",
      "============================== 5 of 5 folds ==============================\n",
      "[LightGBM] [Warning] seed is set=18, random_state=0 will be ignored. Current value: seed=18\n",
      "[LightGBM] [Warning] bagging_freq is set=3, subsample_freq=0 will be ignored. Current value: bagging_freq=3\n",
      "Training until validation scores don't improve for 500 rounds\n",
      "[500]\ttraining's multi_logloss: 0.700426\ttraining's macroF1: 0.732348\tvalid_1's multi_logloss: 0.997168\tvalid_1's macroF1: 0.428798\n",
      "Early stopping, best iteration is:\n",
      "[328]\ttraining's multi_logloss: 0.796469\ttraining's macroF1: 0.682999\tvalid_1's multi_logloss: 1.00823\tvalid_1's macroF1: 0.447343\n",
      "######################################## 20 of 50 iterations ########################################\n",
      "============================== 1 of 5 folds ==============================\n",
      "[LightGBM] [Warning] seed is set=19, random_state=0 will be ignored. Current value: seed=19\n",
      "[LightGBM] [Warning] bagging_freq is set=3, subsample_freq=0 will be ignored. Current value: bagging_freq=3\n",
      "Training until validation scores don't improve for 500 rounds\n",
      "[500]\ttraining's multi_logloss: 1.26735\ttraining's macroF1: 0.4441\tvalid_1's multi_logloss: 1.23666\tvalid_1's macroF1: 0.358649\n",
      "Early stopping, best iteration is:\n",
      "[10]\ttraining's multi_logloss: 1.38285\ttraining's macroF1: 0.382477\tvalid_1's multi_logloss: 1.38145\tvalid_1's macroF1: 0.362946\n",
      "============================== 2 of 5 folds ==============================\n",
      "[LightGBM] [Warning] seed is set=19, random_state=0 will be ignored. Current value: seed=19\n",
      "[LightGBM] [Warning] bagging_freq is set=3, subsample_freq=0 will be ignored. Current value: bagging_freq=3\n",
      "Training until validation scores don't improve for 500 rounds\n",
      "[500]\ttraining's multi_logloss: 1.27308\ttraining's macroF1: 0.438541\tvalid_1's multi_logloss: 1.22045\tvalid_1's macroF1: 0.42835\n",
      "[1000]\ttraining's multi_logloss: 1.20766\ttraining's macroF1: 0.457516\tvalid_1's multi_logloss: 1.13666\tvalid_1's macroF1: 0.429618\n",
      "Early stopping, best iteration is:\n",
      "[574]\ttraining's multi_logloss: 1.26101\ttraining's macroF1: 0.442678\tvalid_1's multi_logloss: 1.20401\tvalid_1's macroF1: 0.436916\n",
      "============================== 3 of 5 folds ==============================\n",
      "[LightGBM] [Warning] seed is set=19, random_state=0 will be ignored. Current value: seed=19\n",
      "[LightGBM] [Warning] bagging_freq is set=3, subsample_freq=0 will be ignored. Current value: bagging_freq=3\n",
      "Training until validation scores don't improve for 500 rounds\n",
      "[500]\ttraining's multi_logloss: 1.26558\ttraining's macroF1: 0.436102\tvalid_1's multi_logloss: 1.22535\tvalid_1's macroF1: 0.387664\n",
      "[1000]\ttraining's multi_logloss: 1.19899\ttraining's macroF1: 0.466888\tvalid_1's multi_logloss: 1.14848\tvalid_1's macroF1: 0.403207\n",
      "[1500]\ttraining's multi_logloss: 1.15887\ttraining's macroF1: 0.472091\tvalid_1's multi_logloss: 1.1109\tvalid_1's macroF1: 0.402568\n",
      "Early stopping, best iteration is:\n",
      "[1175]\ttraining's multi_logloss: 1.18297\ttraining's macroF1: 0.467506\tvalid_1's multi_logloss: 1.13179\tvalid_1's macroF1: 0.408204\n",
      "============================== 4 of 5 folds ==============================\n",
      "[LightGBM] [Warning] seed is set=19, random_state=0 will be ignored. Current value: seed=19\n",
      "[LightGBM] [Warning] bagging_freq is set=3, subsample_freq=0 will be ignored. Current value: bagging_freq=3\n",
      "Training until validation scores don't improve for 500 rounds\n",
      "[500]\ttraining's multi_logloss: 1.26976\ttraining's macroF1: 0.448294\tvalid_1's multi_logloss: 1.2273\tvalid_1's macroF1: 0.402649\n",
      "[1000]\ttraining's multi_logloss: 1.20495\ttraining's macroF1: 0.461101\tvalid_1's multi_logloss: 1.1501\tvalid_1's macroF1: 0.401642\n",
      "Early stopping, best iteration is:\n",
      "[723]\ttraining's multi_logloss: 1.23607\ttraining's macroF1: 0.460232\tvalid_1's multi_logloss: 1.18492\tvalid_1's macroF1: 0.422333\n",
      "============================== 5 of 5 folds ==============================\n",
      "[LightGBM] [Warning] seed is set=19, random_state=0 will be ignored. Current value: seed=19\n",
      "[LightGBM] [Warning] bagging_freq is set=3, subsample_freq=0 will be ignored. Current value: bagging_freq=3\n",
      "Training until validation scores don't improve for 500 rounds\n",
      "[500]\ttraining's multi_logloss: 1.26588\ttraining's macroF1: 0.453654\tvalid_1's multi_logloss: 1.22632\tvalid_1's macroF1: 0.372735\n",
      "Early stopping, best iteration is:\n",
      "[490]\ttraining's multi_logloss: 1.26758\ttraining's macroF1: 0.452105\tvalid_1's multi_logloss: 1.2284\tvalid_1's macroF1: 0.376174\n",
      "######################################## 21 of 50 iterations ########################################\n",
      "============================== 1 of 5 folds ==============================\n",
      "[LightGBM] [Warning] seed is set=20, random_state=0 will be ignored. Current value: seed=20\n",
      "[LightGBM] [Warning] bagging_freq is set=1, subsample_freq=0 will be ignored. Current value: bagging_freq=1\n",
      "Training until validation scores don't improve for 500 rounds\n",
      "[500]\ttraining's multi_logloss: 1.38044\ttraining's macroF1: 0.375498\tvalid_1's multi_logloss: 1.37697\tvalid_1's macroF1: 0.369259\n",
      "Early stopping, best iteration is:\n",
      "[29]\ttraining's multi_logloss: 1.38595\ttraining's macroF1: 0.370961\tvalid_1's multi_logloss: 1.38575\tvalid_1's macroF1: 0.383713\n",
      "============================== 2 of 5 folds ==============================\n",
      "[LightGBM] [Warning] seed is set=20, random_state=0 will be ignored. Current value: seed=20\n",
      "[LightGBM] [Warning] bagging_freq is set=1, subsample_freq=0 will be ignored. Current value: bagging_freq=1\n",
      "Training until validation scores don't improve for 500 rounds\n",
      "[500]\ttraining's multi_logloss: 1.38039\ttraining's macroF1: 0.380562\tvalid_1's multi_logloss: 1.37605\tvalid_1's macroF1: 0.366888\n",
      "Early stopping, best iteration is:\n",
      "[10]\ttraining's multi_logloss: 1.38618\ttraining's macroF1: 0.384892\tvalid_1's multi_logloss: 1.38609\tvalid_1's macroF1: 0.385555\n",
      "============================== 3 of 5 folds ==============================\n",
      "[LightGBM] [Warning] seed is set=20, random_state=0 will be ignored. Current value: seed=20\n",
      "[LightGBM] [Warning] bagging_freq is set=1, subsample_freq=0 will be ignored. Current value: bagging_freq=1\n",
      "Training until validation scores don't improve for 500 rounds\n",
      "[500]\ttraining's multi_logloss: 1.38025\ttraining's macroF1: 0.391714\tvalid_1's multi_logloss: 1.37629\tvalid_1's macroF1: 0.353399\n",
      "Early stopping, best iteration is:\n",
      "[264]\ttraining's multi_logloss: 1.38306\ttraining's macroF1: 0.382448\tvalid_1's multi_logloss: 1.38102\tvalid_1's macroF1: 0.378404\n",
      "============================== 4 of 5 folds ==============================\n",
      "[LightGBM] [Warning] seed is set=20, random_state=0 will be ignored. Current value: seed=20\n",
      "[LightGBM] [Warning] bagging_freq is set=1, subsample_freq=0 will be ignored. Current value: bagging_freq=1\n"
     ]
    },
    {
     "name": "stdout",
     "output_type": "stream",
     "text": [
      "Training until validation scores don't improve for 500 rounds\n",
      "[500]\ttraining's multi_logloss: 1.38007\ttraining's macroF1: 0.391256\tvalid_1's multi_logloss: 1.37751\tvalid_1's macroF1: 0.339655\n",
      "Early stopping, best iteration is:\n",
      "[6]\ttraining's multi_logloss: 1.38622\ttraining's macroF1: 0.383694\tvalid_1's multi_logloss: 1.38618\tvalid_1's macroF1: 0.360292\n",
      "============================== 5 of 5 folds ==============================\n",
      "[LightGBM] [Warning] seed is set=20, random_state=0 will be ignored. Current value: seed=20\n",
      "[LightGBM] [Warning] bagging_freq is set=1, subsample_freq=0 will be ignored. Current value: bagging_freq=1\n",
      "Training until validation scores don't improve for 500 rounds\n",
      "[500]\ttraining's multi_logloss: 1.38033\ttraining's macroF1: 0.391\tvalid_1's multi_logloss: 1.37685\tvalid_1's macroF1: 0.35886\n",
      "Early stopping, best iteration is:\n",
      "[4]\ttraining's multi_logloss: 1.38624\ttraining's macroF1: 0.36268\tvalid_1's multi_logloss: 1.38622\tvalid_1's macroF1: 0.395127\n",
      "######################################## 22 of 50 iterations ########################################\n",
      "============================== 1 of 5 folds ==============================\n",
      "[LightGBM] [Warning] seed is set=21, random_state=0 will be ignored. Current value: seed=21\n",
      "[LightGBM] [Warning] bagging_freq is set=1, subsample_freq=0 will be ignored. Current value: bagging_freq=1\n",
      "Training until validation scores don't improve for 500 rounds\n",
      "[500]\ttraining's multi_logloss: 0.814526\ttraining's macroF1: 0.659807\tvalid_1's multi_logloss: 1.03869\tvalid_1's macroF1: 0.398336\n",
      "Early stopping, best iteration is:\n",
      "[133]\ttraining's multi_logloss: 1.05277\ttraining's macroF1: 0.541101\tvalid_1's multi_logloss: 1.07659\tvalid_1's macroF1: 0.417594\n",
      "============================== 2 of 5 folds ==============================\n",
      "[LightGBM] [Warning] seed is set=21, random_state=0 will be ignored. Current value: seed=21\n",
      "[LightGBM] [Warning] bagging_freq is set=1, subsample_freq=0 will be ignored. Current value: bagging_freq=1\n",
      "Training until validation scores don't improve for 500 rounds\n",
      "[500]\ttraining's multi_logloss: 0.833597\ttraining's macroF1: 0.656418\tvalid_1's multi_logloss: 1.00469\tvalid_1's macroF1: 0.440575\n",
      "Early stopping, best iteration is:\n",
      "[435]\ttraining's multi_logloss: 0.861027\ttraining's macroF1: 0.638843\tvalid_1's multi_logloss: 1.00649\tvalid_1's macroF1: 0.444749\n",
      "============================== 3 of 5 folds ==============================\n",
      "[LightGBM] [Warning] seed is set=21, random_state=0 will be ignored. Current value: seed=21\n",
      "[LightGBM] [Warning] bagging_freq is set=1, subsample_freq=0 will be ignored. Current value: bagging_freq=1\n",
      "Training until validation scores don't improve for 500 rounds\n",
      "[500]\ttraining's multi_logloss: 0.823205\ttraining's macroF1: 0.654701\tvalid_1's multi_logloss: 0.98809\tvalid_1's macroF1: 0.406945\n",
      "Early stopping, best iteration is:\n",
      "[50]\ttraining's multi_logloss: 1.19831\ttraining's macroF1: 0.499638\tvalid_1's multi_logloss: 1.16908\tvalid_1's macroF1: 0.422196\n",
      "============================== 4 of 5 folds ==============================\n",
      "[LightGBM] [Warning] seed is set=21, random_state=0 will be ignored. Current value: seed=21\n",
      "[LightGBM] [Warning] bagging_freq is set=1, subsample_freq=0 will be ignored. Current value: bagging_freq=1\n",
      "Training until validation scores don't improve for 500 rounds\n",
      "[500]\ttraining's multi_logloss: 0.831766\ttraining's macroF1: 0.662556\tvalid_1's multi_logloss: 1.01474\tvalid_1's macroF1: 0.40953\n",
      "[1000]\ttraining's multi_logloss: 0.686603\ttraining's macroF1: 0.734651\tvalid_1's multi_logloss: 0.999491\tvalid_1's macroF1: 0.413195\n",
      "Early stopping, best iteration is:\n",
      "[600]\ttraining's multi_logloss: 0.794437\ttraining's macroF1: 0.675696\tvalid_1's multi_logloss: 1.0102\tvalid_1's macroF1: 0.418896\n",
      "============================== 5 of 5 folds ==============================\n",
      "[LightGBM] [Warning] seed is set=21, random_state=0 will be ignored. Current value: seed=21\n",
      "[LightGBM] [Warning] bagging_freq is set=1, subsample_freq=0 will be ignored. Current value: bagging_freq=1\n",
      "Training until validation scores don't improve for 500 rounds\n",
      "[500]\ttraining's multi_logloss: 0.81735\ttraining's macroF1: 0.649644\tvalid_1's multi_logloss: 1.08357\tvalid_1's macroF1: 0.370618\n",
      "[1000]\ttraining's multi_logloss: 0.67354\ttraining's macroF1: 0.725882\tvalid_1's multi_logloss: 1.08641\tvalid_1's macroF1: 0.376594\n",
      "Early stopping, best iteration is:\n",
      "[538]\ttraining's multi_logloss: 0.802615\ttraining's macroF1: 0.656998\tvalid_1's multi_logloss: 1.08285\tvalid_1's macroF1: 0.374701\n",
      "######################################## 23 of 50 iterations ########################################\n",
      "============================== 1 of 5 folds ==============================\n",
      "[LightGBM] [Warning] seed is set=22, random_state=0 will be ignored. Current value: seed=22\n",
      "[LightGBM] [Warning] bagging_freq is set=3, subsample_freq=0 will be ignored. Current value: bagging_freq=3\n",
      "Training until validation scores don't improve for 500 rounds\n",
      "[500]\ttraining's multi_logloss: 0.768491\ttraining's macroF1: 0.682772\tvalid_1's multi_logloss: 1.0189\tvalid_1's macroF1: 0.403878\n",
      "Early stopping, best iteration is:\n",
      "[306]\ttraining's multi_logloss: 0.871856\ttraining's macroF1: 0.638526\tvalid_1's multi_logloss: 1.02377\tvalid_1's macroF1: 0.421978\n",
      "============================== 2 of 5 folds ==============================\n",
      "[LightGBM] [Warning] seed is set=22, random_state=0 will be ignored. Current value: seed=22\n",
      "[LightGBM] [Warning] bagging_freq is set=3, subsample_freq=0 will be ignored. Current value: bagging_freq=3\n",
      "Training until validation scores don't improve for 500 rounds\n",
      "[500]\ttraining's multi_logloss: 0.764685\ttraining's macroF1: 0.687416\tvalid_1's multi_logloss: 1.03116\tvalid_1's macroF1: 0.397756\n",
      "Early stopping, best iteration is:\n",
      "[171]\ttraining's multi_logloss: 0.978428\ttraining's macroF1: 0.586734\tvalid_1's multi_logloss: 1.05639\tvalid_1's macroF1: 0.421218\n",
      "============================== 3 of 5 folds ==============================\n",
      "[LightGBM] [Warning] seed is set=22, random_state=0 will be ignored. Current value: seed=22\n",
      "[LightGBM] [Warning] bagging_freq is set=3, subsample_freq=0 will be ignored. Current value: bagging_freq=3\n",
      "Training until validation scores don't improve for 500 rounds\n",
      "[500]\ttraining's multi_logloss: 0.765955\ttraining's macroF1: 0.687349\tvalid_1's multi_logloss: 0.989801\tvalid_1's macroF1: 0.402972\n",
      "Early stopping, best iteration is:\n",
      "[303]\ttraining's multi_logloss: 0.874254\ttraining's macroF1: 0.632084\tvalid_1's multi_logloss: 0.995939\tvalid_1's macroF1: 0.416264\n",
      "============================== 4 of 5 folds ==============================\n",
      "[LightGBM] [Warning] seed is set=22, random_state=0 will be ignored. Current value: seed=22\n",
      "[LightGBM] [Warning] bagging_freq is set=3, subsample_freq=0 will be ignored. Current value: bagging_freq=3\n",
      "Training until validation scores don't improve for 500 rounds\n",
      "[500]\ttraining's multi_logloss: 0.757896\ttraining's macroF1: 0.67832\tvalid_1's multi_logloss: 1.02759\tvalid_1's macroF1: 0.414131\n",
      "Early stopping, best iteration is:\n",
      "[446]\ttraining's multi_logloss: 0.781898\ttraining's macroF1: 0.668992\tvalid_1's multi_logloss: 1.03022\tvalid_1's macroF1: 0.425909\n",
      "============================== 5 of 5 folds ==============================\n",
      "[LightGBM] [Warning] seed is set=22, random_state=0 will be ignored. Current value: seed=22\n",
      "[LightGBM] [Warning] bagging_freq is set=3, subsample_freq=0 will be ignored. Current value: bagging_freq=3\n",
      "Training until validation scores don't improve for 500 rounds\n",
      "[500]\ttraining's multi_logloss: 0.770343\ttraining's macroF1: 0.68415\tvalid_1's multi_logloss: 1.04786\tvalid_1's macroF1: 0.429545\n",
      "Early stopping, best iteration is:\n",
      "[460]\ttraining's multi_logloss: 0.78807\ttraining's macroF1: 0.672935\tvalid_1's multi_logloss: 1.0507\tvalid_1's macroF1: 0.438554\n",
      "######################################## 24 of 50 iterations ########################################\n",
      "============================== 1 of 5 folds ==============================\n",
      "[LightGBM] [Warning] seed is set=23, random_state=0 will be ignored. Current value: seed=23\n",
      "[LightGBM] [Warning] bagging_freq is set=1, subsample_freq=0 will be ignored. Current value: bagging_freq=1\n",
      "Training until validation scores don't improve for 500 rounds\n"
     ]
    },
    {
     "name": "stdout",
     "output_type": "stream",
     "text": [
      "[500]\ttraining's multi_logloss: 0.697471\ttraining's macroF1: 0.732891\tvalid_1's multi_logloss: 0.992139\tvalid_1's macroF1: 0.412631\n",
      "[1000]\ttraining's multi_logloss: 0.52595\ttraining's macroF1: 0.80362\tvalid_1's multi_logloss: 0.974649\tvalid_1's macroF1: 0.435062\n",
      "[1500]\ttraining's multi_logloss: 0.436412\ttraining's macroF1: 0.838692\tvalid_1's multi_logloss: 0.972709\tvalid_1's macroF1: 0.425394\n",
      "Early stopping, best iteration is:\n",
      "[1024]\ttraining's multi_logloss: 0.520559\ttraining's macroF1: 0.807803\tvalid_1's multi_logloss: 0.973563\tvalid_1's macroF1: 0.435432\n",
      "============================== 2 of 5 folds ==============================\n",
      "[LightGBM] [Warning] seed is set=23, random_state=0 will be ignored. Current value: seed=23\n",
      "[LightGBM] [Warning] bagging_freq is set=1, subsample_freq=0 will be ignored. Current value: bagging_freq=1\n",
      "Training until validation scores don't improve for 500 rounds\n",
      "[500]\ttraining's multi_logloss: 0.684036\ttraining's macroF1: 0.748253\tvalid_1's multi_logloss: 0.963012\tvalid_1's macroF1: 0.427215\n",
      "Early stopping, best iteration is:\n",
      "[160]\ttraining's multi_logloss: 0.95922\ttraining's macroF1: 0.633127\tvalid_1's multi_logloss: 1.01589\tvalid_1's macroF1: 0.456115\n",
      "============================== 3 of 5 folds ==============================\n",
      "[LightGBM] [Warning] seed is set=23, random_state=0 will be ignored. Current value: seed=23\n",
      "[LightGBM] [Warning] bagging_freq is set=1, subsample_freq=0 will be ignored. Current value: bagging_freq=1\n",
      "Training until validation scores don't improve for 500 rounds\n",
      "[500]\ttraining's multi_logloss: 0.67929\ttraining's macroF1: 0.752089\tvalid_1's multi_logloss: 1.01804\tvalid_1's macroF1: 0.378414\n",
      "Early stopping, best iteration is:\n",
      "[13]\ttraining's multi_logloss: 1.31876\ttraining's macroF1: 0.542672\tvalid_1's multi_logloss: 1.31612\tvalid_1's macroF1: 0.405663\n",
      "============================== 4 of 5 folds ==============================\n",
      "[LightGBM] [Warning] seed is set=23, random_state=0 will be ignored. Current value: seed=23\n",
      "[LightGBM] [Warning] bagging_freq is set=1, subsample_freq=0 will be ignored. Current value: bagging_freq=1\n",
      "Training until validation scores don't improve for 500 rounds\n",
      "[500]\ttraining's multi_logloss: 0.69226\ttraining's macroF1: 0.74663\tvalid_1's multi_logloss: 1.03888\tvalid_1's macroF1: 0.397649\n",
      "[1000]\ttraining's multi_logloss: 0.518867\ttraining's macroF1: 0.814795\tvalid_1's multi_logloss: 1.03295\tvalid_1's macroF1: 0.406394\n",
      "Early stopping, best iteration is:\n",
      "[878]\ttraining's multi_logloss: 0.550024\ttraining's macroF1: 0.804159\tvalid_1's multi_logloss: 1.03165\tvalid_1's macroF1: 0.422445\n",
      "============================== 5 of 5 folds ==============================\n",
      "[LightGBM] [Warning] seed is set=23, random_state=0 will be ignored. Current value: seed=23\n",
      "[LightGBM] [Warning] bagging_freq is set=1, subsample_freq=0 will be ignored. Current value: bagging_freq=1\n",
      "Training until validation scores don't improve for 500 rounds\n",
      "[500]\ttraining's multi_logloss: 0.693553\ttraining's macroF1: 0.741597\tvalid_1's multi_logloss: 1.01353\tvalid_1's macroF1: 0.402799\n",
      "Early stopping, best iteration is:\n",
      "[58]\ttraining's multi_logloss: 1.16342\ttraining's macroF1: 0.571695\tvalid_1's multi_logloss: 1.17512\tvalid_1's macroF1: 0.415043\n",
      "######################################## 25 of 50 iterations ########################################\n",
      "============================== 1 of 5 folds ==============================\n",
      "[LightGBM] [Warning] seed is set=24, random_state=0 will be ignored. Current value: seed=24\n",
      "[LightGBM] [Warning] bagging_freq is set=1, subsample_freq=0 will be ignored. Current value: bagging_freq=1\n",
      "Training until validation scores don't improve for 500 rounds\n",
      "[500]\ttraining's multi_logloss: 0.689066\ttraining's macroF1: 0.738098\tvalid_1's multi_logloss: 1.06551\tvalid_1's macroF1: 0.386469\n",
      "Early stopping, best iteration is:\n",
      "[489]\ttraining's multi_logloss: 0.694376\ttraining's macroF1: 0.736226\tvalid_1's multi_logloss: 1.06474\tvalid_1's macroF1: 0.387237\n",
      "============================== 2 of 5 folds ==============================\n",
      "[LightGBM] [Warning] seed is set=24, random_state=0 will be ignored. Current value: seed=24\n",
      "[LightGBM] [Warning] bagging_freq is set=1, subsample_freq=0 will be ignored. Current value: bagging_freq=1\n",
      "Training until validation scores don't improve for 500 rounds\n",
      "[500]\ttraining's multi_logloss: 0.697559\ttraining's macroF1: 0.73083\tvalid_1's multi_logloss: 1.01006\tvalid_1's macroF1: 0.411253\n",
      "Early stopping, best iteration is:\n",
      "[266]\ttraining's multi_logloss: 0.847408\ttraining's macroF1: 0.667412\tvalid_1's multi_logloss: 1.02851\tvalid_1's macroF1: 0.437629\n",
      "============================== 3 of 5 folds ==============================\n",
      "[LightGBM] [Warning] seed is set=24, random_state=0 will be ignored. Current value: seed=24\n",
      "[LightGBM] [Warning] bagging_freq is set=1, subsample_freq=0 will be ignored. Current value: bagging_freq=1\n",
      "Training until validation scores don't improve for 500 rounds\n",
      "[500]\ttraining's multi_logloss: 0.699588\ttraining's macroF1: 0.742526\tvalid_1's multi_logloss: 0.999349\tvalid_1's macroF1: 0.39566\n",
      "Early stopping, best iteration is:\n",
      "[137]\ttraining's multi_logloss: 0.991461\ttraining's macroF1: 0.608216\tvalid_1's multi_logloss: 1.04921\tvalid_1's macroF1: 0.42213\n",
      "============================== 4 of 5 folds ==============================\n",
      "[LightGBM] [Warning] seed is set=24, random_state=0 will be ignored. Current value: seed=24\n",
      "[LightGBM] [Warning] bagging_freq is set=1, subsample_freq=0 will be ignored. Current value: bagging_freq=1\n",
      "Training until validation scores don't improve for 500 rounds\n",
      "[500]\ttraining's multi_logloss: 0.700754\ttraining's macroF1: 0.729005\tvalid_1's multi_logloss: 0.970275\tvalid_1's macroF1: 0.41812\n",
      "Early stopping, best iteration is:\n",
      "[96]\ttraining's multi_logloss: 1.06194\ttraining's macroF1: 0.581872\tvalid_1's multi_logloss: 1.06948\tvalid_1's macroF1: 0.431016\n",
      "============================== 5 of 5 folds ==============================\n",
      "[LightGBM] [Warning] seed is set=24, random_state=0 will be ignored. Current value: seed=24\n",
      "[LightGBM] [Warning] bagging_freq is set=1, subsample_freq=0 will be ignored. Current value: bagging_freq=1\n",
      "Training until validation scores don't improve for 500 rounds\n",
      "[500]\ttraining's multi_logloss: 0.701324\ttraining's macroF1: 0.739988\tvalid_1's multi_logloss: 1.01329\tvalid_1's macroF1: 0.422165\n",
      "Early stopping, best iteration is:\n",
      "[373]\ttraining's multi_logloss: 0.773298\ttraining's macroF1: 0.702014\tvalid_1's multi_logloss: 1.01929\tvalid_1's macroF1: 0.430022\n",
      "######################################## 26 of 50 iterations ########################################\n",
      "============================== 1 of 5 folds ==============================\n",
      "[LightGBM] [Warning] seed is set=25, random_state=0 will be ignored. Current value: seed=25\n",
      "[LightGBM] [Warning] bagging_freq is set=1, subsample_freq=0 will be ignored. Current value: bagging_freq=1\n",
      "Training until validation scores don't improve for 500 rounds\n",
      "[500]\ttraining's multi_logloss: 0.95256\ttraining's macroF1: 0.58025\tvalid_1's multi_logloss: 1.12385\tvalid_1's macroF1: 0.390109\n",
      "Early stopping, best iteration is:\n",
      "[235]\ttraining's multi_logloss: 1.05383\ttraining's macroF1: 0.518969\tvalid_1's multi_logloss: 1.13043\tvalid_1's macroF1: 0.395475\n",
      "============================== 2 of 5 folds ==============================\n",
      "[LightGBM] [Warning] seed is set=25, random_state=0 will be ignored. Current value: seed=25\n",
      "[LightGBM] [Warning] bagging_freq is set=1, subsample_freq=0 will be ignored. Current value: bagging_freq=1\n",
      "Training until validation scores don't improve for 500 rounds\n",
      "[500]\ttraining's multi_logloss: 0.96347\ttraining's macroF1: 0.562905\tvalid_1's multi_logloss: 1.02499\tvalid_1's macroF1: 0.39789\n",
      "Early stopping, best iteration is:\n",
      "[47]\ttraining's multi_logloss: 1.2467\ttraining's macroF1: 0.446423\tvalid_1's multi_logloss: 1.20056\tvalid_1's macroF1: 0.419463\n",
      "============================== 3 of 5 folds ==============================\n",
      "[LightGBM] [Warning] seed is set=25, random_state=0 will be ignored. Current value: seed=25\n",
      "[LightGBM] [Warning] bagging_freq is set=1, subsample_freq=0 will be ignored. Current value: bagging_freq=1\n",
      "Training until validation scores don't improve for 500 rounds\n",
      "[500]\ttraining's multi_logloss: 0.972083\ttraining's macroF1: 0.57249\tvalid_1's multi_logloss: 1.06105\tvalid_1's macroF1: 0.37708\n"
     ]
    },
    {
     "name": "stdout",
     "output_type": "stream",
     "text": [
      "Early stopping, best iteration is:\n",
      "[274]\ttraining's multi_logloss: 1.05186\ttraining's macroF1: 0.535925\tvalid_1's multi_logloss: 1.07724\tvalid_1's macroF1: 0.398416\n",
      "============================== 4 of 5 folds ==============================\n",
      "[LightGBM] [Warning] seed is set=25, random_state=0 will be ignored. Current value: seed=25\n",
      "[LightGBM] [Warning] bagging_freq is set=1, subsample_freq=0 will be ignored. Current value: bagging_freq=1\n",
      "Training until validation scores don't improve for 500 rounds\n",
      "[500]\ttraining's multi_logloss: 0.968006\ttraining's macroF1: 0.552225\tvalid_1's multi_logloss: 1.04213\tvalid_1's macroF1: 0.428046\n",
      "Early stopping, best iteration is:\n",
      "[329]\ttraining's multi_logloss: 1.02372\ttraining's macroF1: 0.528409\tvalid_1's multi_logloss: 1.05469\tvalid_1's macroF1: 0.43908\n",
      "============================== 5 of 5 folds ==============================\n",
      "[LightGBM] [Warning] seed is set=25, random_state=0 will be ignored. Current value: seed=25\n",
      "[LightGBM] [Warning] bagging_freq is set=1, subsample_freq=0 will be ignored. Current value: bagging_freq=1\n",
      "Training until validation scores don't improve for 500 rounds\n",
      "[500]\ttraining's multi_logloss: 0.95438\ttraining's macroF1: 0.556318\tvalid_1's multi_logloss: 1.06099\tvalid_1's macroF1: 0.379905\n",
      "Early stopping, best iteration is:\n",
      "[497]\ttraining's multi_logloss: 0.955218\ttraining's macroF1: 0.556208\tvalid_1's multi_logloss: 1.06122\tvalid_1's macroF1: 0.383842\n",
      "######################################## 27 of 50 iterations ########################################\n",
      "============================== 1 of 5 folds ==============================\n",
      "[LightGBM] [Warning] seed is set=26, random_state=0 will be ignored. Current value: seed=26\n",
      "[LightGBM] [Warning] bagging_freq is set=1, subsample_freq=0 will be ignored. Current value: bagging_freq=1\n",
      "Training until validation scores don't improve for 500 rounds\n",
      "[500]\ttraining's multi_logloss: 0.984365\ttraining's macroF1: 0.546108\tvalid_1's multi_logloss: 1.05772\tvalid_1's macroF1: 0.391054\n",
      "[1000]\ttraining's multi_logloss: 0.881086\ttraining's macroF1: 0.610786\tvalid_1's multi_logloss: 1.04708\tvalid_1's macroF1: 0.401082\n",
      "Early stopping, best iteration is:\n",
      "[735]\ttraining's multi_logloss: 0.929621\ttraining's macroF1: 0.574132\tvalid_1's multi_logloss: 1.05077\tvalid_1's macroF1: 0.409304\n",
      "============================== 2 of 5 folds ==============================\n",
      "[LightGBM] [Warning] seed is set=26, random_state=0 will be ignored. Current value: seed=26\n",
      "[LightGBM] [Warning] bagging_freq is set=1, subsample_freq=0 will be ignored. Current value: bagging_freq=1\n",
      "Training until validation scores don't improve for 500 rounds\n",
      "[500]\ttraining's multi_logloss: 0.985878\ttraining's macroF1: 0.552309\tvalid_1's multi_logloss: 1.07977\tvalid_1's macroF1: 0.393831\n",
      "Early stopping, best iteration is:\n",
      "[469]\ttraining's multi_logloss: 0.994618\ttraining's macroF1: 0.546582\tvalid_1's multi_logloss: 1.08123\tvalid_1's macroF1: 0.394093\n",
      "============================== 3 of 5 folds ==============================\n",
      "[LightGBM] [Warning] seed is set=26, random_state=0 will be ignored. Current value: seed=26\n",
      "[LightGBM] [Warning] bagging_freq is set=1, subsample_freq=0 will be ignored. Current value: bagging_freq=1\n",
      "Training until validation scores don't improve for 500 rounds\n",
      "[500]\ttraining's multi_logloss: 0.979268\ttraining's macroF1: 0.56548\tvalid_1's multi_logloss: 1.0631\tvalid_1's macroF1: 0.379148\n",
      "Early stopping, best iteration is:\n",
      "[285]\ttraining's multi_logloss: 1.05376\ttraining's macroF1: 0.52712\tvalid_1's multi_logloss: 1.08099\tvalid_1's macroF1: 0.400242\n",
      "============================== 4 of 5 folds ==============================\n",
      "[LightGBM] [Warning] seed is set=26, random_state=0 will be ignored. Current value: seed=26\n",
      "[LightGBM] [Warning] bagging_freq is set=1, subsample_freq=0 will be ignored. Current value: bagging_freq=1\n",
      "Training until validation scores don't improve for 500 rounds\n",
      "[500]\ttraining's multi_logloss: 0.991799\ttraining's macroF1: 0.557332\tvalid_1's multi_logloss: 1.041\tvalid_1's macroF1: 0.408765\n",
      "Early stopping, best iteration is:\n",
      "[470]\ttraining's multi_logloss: 1.00008\ttraining's macroF1: 0.552993\tvalid_1's multi_logloss: 1.0436\tvalid_1's macroF1: 0.416597\n",
      "============================== 5 of 5 folds ==============================\n",
      "[LightGBM] [Warning] seed is set=26, random_state=0 will be ignored. Current value: seed=26\n",
      "[LightGBM] [Warning] bagging_freq is set=1, subsample_freq=0 will be ignored. Current value: bagging_freq=1\n",
      "Training until validation scores don't improve for 500 rounds\n",
      "[500]\ttraining's multi_logloss: 0.980789\ttraining's macroF1: 0.567368\tvalid_1's multi_logloss: 1.07432\tvalid_1's macroF1: 0.402025\n",
      "[1000]\ttraining's multi_logloss: 0.877364\ttraining's macroF1: 0.619516\tvalid_1's multi_logloss: 1.07007\tvalid_1's macroF1: 0.401731\n",
      "[1500]\ttraining's multi_logloss: 0.807342\ttraining's macroF1: 0.649069\tvalid_1's multi_logloss: 1.07152\tvalid_1's macroF1: 0.406345\n",
      "Early stopping, best iteration is:\n",
      "[1121]\ttraining's multi_logloss: 0.858496\ttraining's macroF1: 0.626051\tvalid_1's multi_logloss: 1.07029\tvalid_1's macroF1: 0.417907\n",
      "######################################## 28 of 50 iterations ########################################\n",
      "============================== 1 of 5 folds ==============================\n",
      "[LightGBM] [Warning] seed is set=27, random_state=0 will be ignored. Current value: seed=27\n",
      "[LightGBM] [Warning] bagging_freq is set=4, subsample_freq=0 will be ignored. Current value: bagging_freq=4\n",
      "Training until validation scores don't improve for 500 rounds\n",
      "[500]\ttraining's multi_logloss: 1.0466\ttraining's macroF1: 0.519169\tvalid_1's multi_logloss: 1.05152\tvalid_1's macroF1: 0.438484\n",
      "[1000]\ttraining's multi_logloss: 0.966969\ttraining's macroF1: 0.557797\tvalid_1's multi_logloss: 1.04693\tvalid_1's macroF1: 0.440584\n",
      "Early stopping, best iteration is:\n",
      "[829]\ttraining's multi_logloss: 0.989973\ttraining's macroF1: 0.55087\tvalid_1's multi_logloss: 1.0433\tvalid_1's macroF1: 0.455493\n",
      "============================== 2 of 5 folds ==============================\n",
      "[LightGBM] [Warning] seed is set=27, random_state=0 will be ignored. Current value: seed=27\n",
      "[LightGBM] [Warning] bagging_freq is set=4, subsample_freq=0 will be ignored. Current value: bagging_freq=4\n",
      "Training until validation scores don't improve for 500 rounds\n",
      "[500]\ttraining's multi_logloss: 1.03129\ttraining's macroF1: 0.519492\tvalid_1's multi_logloss: 1.06952\tvalid_1's macroF1: 0.389123\n",
      "[1000]\ttraining's multi_logloss: 0.952494\ttraining's macroF1: 0.564131\tvalid_1's multi_logloss: 1.06323\tvalid_1's macroF1: 0.380394\n",
      "Early stopping, best iteration is:\n",
      "[631]\ttraining's multi_logloss: 1.00644\ttraining's macroF1: 0.539041\tvalid_1's multi_logloss: 1.0658\tvalid_1's macroF1: 0.400009\n",
      "============================== 3 of 5 folds ==============================\n",
      "[LightGBM] [Warning] seed is set=27, random_state=0 will be ignored. Current value: seed=27\n",
      "[LightGBM] [Warning] bagging_freq is set=4, subsample_freq=0 will be ignored. Current value: bagging_freq=4\n",
      "Training until validation scores don't improve for 500 rounds\n",
      "[500]\ttraining's multi_logloss: 1.02548\ttraining's macroF1: 0.522343\tvalid_1's multi_logloss: 1.1126\tvalid_1's macroF1: 0.383931\n",
      "[1000]\ttraining's multi_logloss: 0.951191\ttraining's macroF1: 0.548764\tvalid_1's multi_logloss: 1.1071\tvalid_1's macroF1: 0.390964\n",
      "Early stopping, best iteration is:\n",
      "[876]\ttraining's multi_logloss: 0.965986\ttraining's macroF1: 0.544549\tvalid_1's multi_logloss: 1.10677\tvalid_1's macroF1: 0.395955\n",
      "============================== 4 of 5 folds ==============================\n",
      "[LightGBM] [Warning] seed is set=27, random_state=0 will be ignored. Current value: seed=27\n",
      "[LightGBM] [Warning] bagging_freq is set=4, subsample_freq=0 will be ignored. Current value: bagging_freq=4\n",
      "Training until validation scores don't improve for 500 rounds\n",
      "[500]\ttraining's multi_logloss: 1.02469\ttraining's macroF1: 0.526225\tvalid_1's multi_logloss: 1.06922\tvalid_1's macroF1: 0.39829\n",
      "Early stopping, best iteration is:\n",
      "[212]\ttraining's multi_logloss: 1.10691\ttraining's macroF1: 0.494892\tvalid_1's multi_logloss: 1.08448\tvalid_1's macroF1: 0.410707\n",
      "============================== 5 of 5 folds ==============================\n",
      "[LightGBM] [Warning] seed is set=27, random_state=0 will be ignored. Current value: seed=27\n",
      "[LightGBM] [Warning] bagging_freq is set=4, subsample_freq=0 will be ignored. Current value: bagging_freq=4\n"
     ]
    },
    {
     "name": "stdout",
     "output_type": "stream",
     "text": [
      "Training until validation scores don't improve for 500 rounds\n",
      "[500]\ttraining's multi_logloss: 1.04164\ttraining's macroF1: 0.516604\tvalid_1's multi_logloss: 1.0449\tvalid_1's macroF1: 0.422032\n",
      "Early stopping, best iteration is:\n",
      "[418]\ttraining's multi_logloss: 1.05952\ttraining's macroF1: 0.51203\tvalid_1's multi_logloss: 1.0493\tvalid_1's macroF1: 0.44207\n",
      "######################################## 29 of 50 iterations ########################################\n",
      "============================== 1 of 5 folds ==============================\n",
      "[LightGBM] [Warning] seed is set=28, random_state=0 will be ignored. Current value: seed=28\n",
      "[LightGBM] [Warning] bagging_freq is set=3, subsample_freq=0 will be ignored. Current value: bagging_freq=3\n",
      "Training until validation scores don't improve for 500 rounds\n",
      "[500]\ttraining's multi_logloss: 1.05237\ttraining's macroF1: 0.52221\tvalid_1's multi_logloss: 1.05449\tvalid_1's macroF1: 0.410042\n",
      "Early stopping, best iteration is:\n",
      "[488]\ttraining's multi_logloss: 1.05487\ttraining's macroF1: 0.52104\tvalid_1's multi_logloss: 1.05424\tvalid_1's macroF1: 0.418593\n",
      "============================== 2 of 5 folds ==============================\n",
      "[LightGBM] [Warning] seed is set=28, random_state=0 will be ignored. Current value: seed=28\n",
      "[LightGBM] [Warning] bagging_freq is set=3, subsample_freq=0 will be ignored. Current value: bagging_freq=3\n",
      "Training until validation scores don't improve for 500 rounds\n",
      "[500]\ttraining's multi_logloss: 1.04255\ttraining's macroF1: 0.509928\tvalid_1's multi_logloss: 1.11569\tvalid_1's macroF1: 0.36485\n",
      "Early stopping, best iteration is:\n",
      "[290]\ttraining's multi_logloss: 1.09542\ttraining's macroF1: 0.489628\tvalid_1's multi_logloss: 1.11557\tvalid_1's macroF1: 0.378387\n",
      "============================== 3 of 5 folds ==============================\n",
      "[LightGBM] [Warning] seed is set=28, random_state=0 will be ignored. Current value: seed=28\n",
      "[LightGBM] [Warning] bagging_freq is set=3, subsample_freq=0 will be ignored. Current value: bagging_freq=3\n",
      "Training until validation scores don't improve for 500 rounds\n",
      "[500]\ttraining's multi_logloss: 1.05774\ttraining's macroF1: 0.527165\tvalid_1's multi_logloss: 1.02483\tvalid_1's macroF1: 0.422153\n",
      "Early stopping, best iteration is:\n",
      "[108]\ttraining's multi_logloss: 1.2045\ttraining's macroF1: 0.461791\tvalid_1's multi_logloss: 1.12357\tvalid_1's macroF1: 0.436609\n",
      "============================== 4 of 5 folds ==============================\n",
      "[LightGBM] [Warning] seed is set=28, random_state=0 will be ignored. Current value: seed=28\n",
      "[LightGBM] [Warning] bagging_freq is set=3, subsample_freq=0 will be ignored. Current value: bagging_freq=3\n",
      "Training until validation scores don't improve for 500 rounds\n",
      "[500]\ttraining's multi_logloss: 1.05783\ttraining's macroF1: 0.51005\tvalid_1's multi_logloss: 1.08739\tvalid_1's macroF1: 0.399938\n",
      "[1000]\ttraining's multi_logloss: 0.986724\ttraining's macroF1: 0.549476\tvalid_1's multi_logloss: 1.07542\tvalid_1's macroF1: 0.407302\n",
      "[1500]\ttraining's multi_logloss: 0.936118\ttraining's macroF1: 0.575351\tvalid_1's multi_logloss: 1.07161\tvalid_1's macroF1: 0.41455\n",
      "Early stopping, best iteration is:\n",
      "[1265]\ttraining's multi_logloss: 0.957994\ttraining's macroF1: 0.561439\tvalid_1's multi_logloss: 1.07282\tvalid_1's macroF1: 0.422137\n",
      "============================== 5 of 5 folds ==============================\n",
      "[LightGBM] [Warning] seed is set=28, random_state=0 will be ignored. Current value: seed=28\n",
      "[LightGBM] [Warning] bagging_freq is set=3, subsample_freq=0 will be ignored. Current value: bagging_freq=3\n",
      "Training until validation scores don't improve for 500 rounds\n",
      "[500]\ttraining's multi_logloss: 1.04075\ttraining's macroF1: 0.516821\tvalid_1's multi_logloss: 1.08513\tvalid_1's macroF1: 0.386295\n",
      "[1000]\ttraining's multi_logloss: 0.966515\ttraining's macroF1: 0.544525\tvalid_1's multi_logloss: 1.08016\tvalid_1's macroF1: 0.392915\n",
      "Early stopping, best iteration is:\n",
      "[555]\ttraining's multi_logloss: 1.03026\ttraining's macroF1: 0.516134\tvalid_1's multi_logloss: 1.08163\tvalid_1's macroF1: 0.404403\n",
      "######################################## 30 of 50 iterations ########################################\n",
      "============================== 1 of 5 folds ==============================\n",
      "[LightGBM] [Warning] seed is set=29, random_state=0 will be ignored. Current value: seed=29\n",
      "[LightGBM] [Warning] bagging_freq is set=1, subsample_freq=0 will be ignored. Current value: bagging_freq=1\n",
      "Training until validation scores don't improve for 500 rounds\n",
      "[500]\ttraining's multi_logloss: 1.00251\ttraining's macroF1: 0.554388\tvalid_1's multi_logloss: 1.04233\tvalid_1's macroF1: 0.412819\n",
      "Early stopping, best iteration is:\n",
      "[247]\ttraining's multi_logloss: 1.09874\ttraining's macroF1: 0.521022\tvalid_1's multi_logloss: 1.07489\tvalid_1's macroF1: 0.422274\n",
      "============================== 2 of 5 folds ==============================\n",
      "[LightGBM] [Warning] seed is set=29, random_state=0 will be ignored. Current value: seed=29\n",
      "[LightGBM] [Warning] bagging_freq is set=1, subsample_freq=0 will be ignored. Current value: bagging_freq=1\n",
      "Training until validation scores don't improve for 500 rounds\n",
      "[500]\ttraining's multi_logloss: 1.00991\ttraining's macroF1: 0.547818\tvalid_1's multi_logloss: 1.0472\tvalid_1's macroF1: 0.384056\n",
      "Early stopping, best iteration is:\n",
      "[313]\ttraining's multi_logloss: 1.07252\ttraining's macroF1: 0.521836\tvalid_1's multi_logloss: 1.06828\tvalid_1's macroF1: 0.397802\n",
      "============================== 3 of 5 folds ==============================\n",
      "[LightGBM] [Warning] seed is set=29, random_state=0 will be ignored. Current value: seed=29\n",
      "[LightGBM] [Warning] bagging_freq is set=1, subsample_freq=0 will be ignored. Current value: bagging_freq=1\n",
      "Training until validation scores don't improve for 500 rounds\n",
      "[500]\ttraining's multi_logloss: 1.01331\ttraining's macroF1: 0.548615\tvalid_1's multi_logloss: 1.04845\tvalid_1's macroF1: 0.418023\n",
      "[1000]\ttraining's multi_logloss: 0.910561\ttraining's macroF1: 0.598445\tvalid_1's multi_logloss: 1.03687\tvalid_1's macroF1: 0.424799\n",
      "Early stopping, best iteration is:\n",
      "[827]\ttraining's multi_logloss: 0.940083\ttraining's macroF1: 0.583611\tvalid_1's multi_logloss: 1.03946\tvalid_1's macroF1: 0.436335\n",
      "============================== 4 of 5 folds ==============================\n",
      "[LightGBM] [Warning] seed is set=29, random_state=0 will be ignored. Current value: seed=29\n",
      "[LightGBM] [Warning] bagging_freq is set=1, subsample_freq=0 will be ignored. Current value: bagging_freq=1\n",
      "Training until validation scores don't improve for 500 rounds\n",
      "[500]\ttraining's multi_logloss: 1.00147\ttraining's macroF1: 0.548207\tvalid_1's multi_logloss: 1.07757\tvalid_1's macroF1: 0.409559\n",
      "[1000]\ttraining's multi_logloss: 0.901365\ttraining's macroF1: 0.607907\tvalid_1's multi_logloss: 1.07093\tvalid_1's macroF1: 0.409981\n",
      "[1500]\ttraining's multi_logloss: 0.83368\ttraining's macroF1: 0.641087\tvalid_1's multi_logloss: 1.0683\tvalid_1's macroF1: 0.409162\n",
      "Early stopping, best iteration is:\n",
      "[1210]\ttraining's multi_logloss: 0.870577\ttraining's macroF1: 0.623979\tvalid_1's multi_logloss: 1.06941\tvalid_1's macroF1: 0.4188\n",
      "============================== 5 of 5 folds ==============================\n",
      "[LightGBM] [Warning] seed is set=29, random_state=0 will be ignored. Current value: seed=29\n",
      "[LightGBM] [Warning] bagging_freq is set=1, subsample_freq=0 will be ignored. Current value: bagging_freq=1\n",
      "Training until validation scores don't improve for 500 rounds\n",
      "[500]\ttraining's multi_logloss: 1.0046\ttraining's macroF1: 0.555176\tvalid_1's multi_logloss: 1.05214\tvalid_1's macroF1: 0.389079\n",
      "Early stopping, best iteration is:\n",
      "[1]\ttraining's multi_logloss: 1.3835\ttraining's macroF1: 0.404767\tvalid_1's multi_logloss: 1.3825\tvalid_1's macroF1: 0.409611\n",
      "######################################## 31 of 50 iterations ########################################\n",
      "============================== 1 of 5 folds ==============================\n",
      "[LightGBM] [Warning] seed is set=30, random_state=0 will be ignored. Current value: seed=30\n",
      "[LightGBM] [Warning] bagging_freq is set=1, subsample_freq=0 will be ignored. Current value: bagging_freq=1\n",
      "Training until validation scores don't improve for 500 rounds\n",
      "[500]\ttraining's multi_logloss: 1.07164\ttraining's macroF1: 0.506354\tvalid_1's multi_logloss: 1.06852\tvalid_1's macroF1: 0.41144\n"
     ]
    },
    {
     "name": "stdout",
     "output_type": "stream",
     "text": [
      "[1000]\ttraining's multi_logloss: 0.999244\ttraining's macroF1: 0.542664\tvalid_1's multi_logloss: 1.05191\tvalid_1's macroF1: 0.415853\n",
      "Early stopping, best iteration is:\n",
      "[901]\ttraining's multi_logloss: 1.01056\ttraining's macroF1: 0.538395\tvalid_1's multi_logloss: 1.05444\tvalid_1's macroF1: 0.42429\n",
      "============================== 2 of 5 folds ==============================\n",
      "[LightGBM] [Warning] seed is set=30, random_state=0 will be ignored. Current value: seed=30\n",
      "[LightGBM] [Warning] bagging_freq is set=1, subsample_freq=0 will be ignored. Current value: bagging_freq=1\n",
      "Training until validation scores don't improve for 500 rounds\n",
      "[500]\ttraining's multi_logloss: 1.07306\ttraining's macroF1: 0.500802\tvalid_1's multi_logloss: 1.0829\tvalid_1's macroF1: 0.383237\n",
      "[1000]\ttraining's multi_logloss: 0.998923\ttraining's macroF1: 0.539496\tvalid_1's multi_logloss: 1.06925\tvalid_1's macroF1: 0.406642\n",
      "[1500]\ttraining's multi_logloss: 0.952069\ttraining's macroF1: 0.569642\tvalid_1's multi_logloss: 1.06527\tvalid_1's macroF1: 0.404569\n",
      "Early stopping, best iteration is:\n",
      "[1077]\ttraining's multi_logloss: 0.990328\ttraining's macroF1: 0.547639\tvalid_1's multi_logloss: 1.06788\tvalid_1's macroF1: 0.41847\n",
      "============================== 3 of 5 folds ==============================\n",
      "[LightGBM] [Warning] seed is set=30, random_state=0 will be ignored. Current value: seed=30\n",
      "[LightGBM] [Warning] bagging_freq is set=1, subsample_freq=0 will be ignored. Current value: bagging_freq=1\n",
      "Training until validation scores don't improve for 500 rounds\n",
      "[500]\ttraining's multi_logloss: 1.05427\ttraining's macroF1: 0.516517\tvalid_1's multi_logloss: 1.11576\tvalid_1's macroF1: 0.385832\n",
      "Early stopping, best iteration is:\n",
      "[395]\ttraining's multi_logloss: 1.07884\ttraining's macroF1: 0.50356\tvalid_1's multi_logloss: 1.11557\tvalid_1's macroF1: 0.395529\n",
      "============================== 4 of 5 folds ==============================\n",
      "[LightGBM] [Warning] seed is set=30, random_state=0 will be ignored. Current value: seed=30\n",
      "[LightGBM] [Warning] bagging_freq is set=1, subsample_freq=0 will be ignored. Current value: bagging_freq=1\n",
      "Training until validation scores don't improve for 500 rounds\n",
      "[500]\ttraining's multi_logloss: 1.06421\ttraining's macroF1: 0.511935\tvalid_1's multi_logloss: 1.07186\tvalid_1's macroF1: 0.388172\n",
      "Early stopping, best iteration is:\n",
      "[141]\ttraining's multi_logloss: 1.19184\ttraining's macroF1: 0.454575\tvalid_1's multi_logloss: 1.14914\tvalid_1's macroF1: 0.405331\n",
      "============================== 5 of 5 folds ==============================\n",
      "[LightGBM] [Warning] seed is set=30, random_state=0 will be ignored. Current value: seed=30\n",
      "[LightGBM] [Warning] bagging_freq is set=1, subsample_freq=0 will be ignored. Current value: bagging_freq=1\n",
      "Training until validation scores don't improve for 500 rounds\n",
      "[500]\ttraining's multi_logloss: 1.06543\ttraining's macroF1: 0.505349\tvalid_1's multi_logloss: 1.08412\tvalid_1's macroF1: 0.380268\n",
      "Early stopping, best iteration is:\n",
      "[381]\ttraining's multi_logloss: 1.09163\ttraining's macroF1: 0.496998\tvalid_1's multi_logloss: 1.08895\tvalid_1's macroF1: 0.399202\n",
      "######################################## 32 of 50 iterations ########################################\n",
      "============================== 1 of 5 folds ==============================\n",
      "[LightGBM] [Warning] seed is set=31, random_state=0 will be ignored. Current value: seed=31\n",
      "[LightGBM] [Warning] bagging_freq is set=1, subsample_freq=0 will be ignored. Current value: bagging_freq=1\n",
      "Training until validation scores don't improve for 500 rounds\n",
      "[500]\ttraining's multi_logloss: 1.12214\ttraining's macroF1: 0.499793\tvalid_1's multi_logloss: 1.10808\tvalid_1's macroF1: 0.374388\n",
      "[1000]\ttraining's multi_logloss: 1.04909\ttraining's macroF1: 0.524018\tvalid_1's multi_logloss: 1.08299\tvalid_1's macroF1: 0.369276\n",
      "Early stopping, best iteration is:\n",
      "[629]\ttraining's multi_logloss: 1.09783\ttraining's macroF1: 0.509045\tvalid_1's multi_logloss: 1.09876\tvalid_1's macroF1: 0.388762\n",
      "============================== 2 of 5 folds ==============================\n",
      "[LightGBM] [Warning] seed is set=31, random_state=0 will be ignored. Current value: seed=31\n",
      "[LightGBM] [Warning] bagging_freq is set=1, subsample_freq=0 will be ignored. Current value: bagging_freq=1\n",
      "Training until validation scores don't improve for 500 rounds\n",
      "[500]\ttraining's multi_logloss: 1.12797\ttraining's macroF1: 0.48961\tvalid_1's multi_logloss: 1.08116\tvalid_1's macroF1: 0.41992\n",
      "[1000]\ttraining's multi_logloss: 1.05889\ttraining's macroF1: 0.516029\tvalid_1's multi_logloss: 1.047\tvalid_1's macroF1: 0.411622\n",
      "Early stopping, best iteration is:\n",
      "[583]\ttraining's multi_logloss: 1.11293\ttraining's macroF1: 0.497003\tvalid_1's multi_logloss: 1.07143\tvalid_1's macroF1: 0.428505\n",
      "============================== 3 of 5 folds ==============================\n",
      "[LightGBM] [Warning] seed is set=31, random_state=0 will be ignored. Current value: seed=31\n",
      "[LightGBM] [Warning] bagging_freq is set=1, subsample_freq=0 will be ignored. Current value: bagging_freq=1\n",
      "Training until validation scores don't improve for 500 rounds\n",
      "[500]\ttraining's multi_logloss: 1.11452\ttraining's macroF1: 0.4948\tvalid_1's multi_logloss: 1.10757\tvalid_1's macroF1: 0.42427\n",
      "[1000]\ttraining's multi_logloss: 1.04314\ttraining's macroF1: 0.511766\tvalid_1's multi_logloss: 1.08739\tvalid_1's macroF1: 0.421256\n",
      "Early stopping, best iteration is:\n",
      "[597]\ttraining's multi_logloss: 1.09572\ttraining's macroF1: 0.496824\tvalid_1's multi_logloss: 1.10091\tvalid_1's macroF1: 0.425622\n",
      "============================== 4 of 5 folds ==============================\n",
      "[LightGBM] [Warning] seed is set=31, random_state=0 will be ignored. Current value: seed=31\n",
      "[LightGBM] [Warning] bagging_freq is set=1, subsample_freq=0 will be ignored. Current value: bagging_freq=1\n",
      "Training until validation scores don't improve for 500 rounds\n",
      "[500]\ttraining's multi_logloss: 1.11936\ttraining's macroF1: 0.48782\tvalid_1's multi_logloss: 1.09501\tvalid_1's macroF1: 0.416119\n",
      "[1000]\ttraining's multi_logloss: 1.0453\ttraining's macroF1: 0.5226\tvalid_1's multi_logloss: 1.07939\tvalid_1's macroF1: 0.401483\n",
      "Early stopping, best iteration is:\n",
      "[507]\ttraining's multi_logloss: 1.11781\ttraining's macroF1: 0.485637\tvalid_1's multi_logloss: 1.09432\tvalid_1's macroF1: 0.417995\n",
      "============================== 5 of 5 folds ==============================\n",
      "[LightGBM] [Warning] seed is set=31, random_state=0 will be ignored. Current value: seed=31\n",
      "[LightGBM] [Warning] bagging_freq is set=1, subsample_freq=0 will be ignored. Current value: bagging_freq=1\n",
      "Training until validation scores don't improve for 500 rounds\n",
      "[500]\ttraining's multi_logloss: 1.12447\ttraining's macroF1: 0.480355\tvalid_1's multi_logloss: 1.11654\tvalid_1's macroF1: 0.401616\n",
      "[1000]\ttraining's multi_logloss: 1.05106\ttraining's macroF1: 0.512219\tvalid_1's multi_logloss: 1.09596\tvalid_1's macroF1: 0.401228\n",
      "Early stopping, best iteration is:\n",
      "[582]\ttraining's multi_logloss: 1.10851\ttraining's macroF1: 0.490684\tvalid_1's multi_logloss: 1.10902\tvalid_1's macroF1: 0.409013\n",
      "######################################## 33 of 50 iterations ########################################\n",
      "============================== 1 of 5 folds ==============================\n",
      "[LightGBM] [Warning] seed is set=32, random_state=0 will be ignored. Current value: seed=32\n",
      "[LightGBM] [Warning] bagging_freq is set=2, subsample_freq=0 will be ignored. Current value: bagging_freq=2\n",
      "Training until validation scores don't improve for 500 rounds\n",
      "[500]\ttraining's multi_logloss: 0.997378\ttraining's macroF1: 0.536828\tvalid_1's multi_logloss: 1.05434\tvalid_1's macroF1: 0.432325\n",
      "Early stopping, best iteration is:\n",
      "[404]\ttraining's multi_logloss: 1.02278\ttraining's macroF1: 0.522989\tvalid_1's multi_logloss: 1.05812\tvalid_1's macroF1: 0.442224\n",
      "============================== 2 of 5 folds ==============================\n",
      "[LightGBM] [Warning] seed is set=32, random_state=0 will be ignored. Current value: seed=32\n",
      "[LightGBM] [Warning] bagging_freq is set=2, subsample_freq=0 will be ignored. Current value: bagging_freq=2\n",
      "Training until validation scores don't improve for 500 rounds\n",
      "[500]\ttraining's multi_logloss: 0.978555\ttraining's macroF1: 0.555536\tvalid_1's multi_logloss: 1.05878\tvalid_1's macroF1: 0.363224\n"
     ]
    },
    {
     "name": "stdout",
     "output_type": "stream",
     "text": [
      "Early stopping, best iteration is:\n",
      "[277]\ttraining's multi_logloss: 1.04788\ttraining's macroF1: 0.524155\tvalid_1's multi_logloss: 1.0659\tvalid_1's macroF1: 0.387743\n",
      "============================== 3 of 5 folds ==============================\n",
      "[LightGBM] [Warning] seed is set=32, random_state=0 will be ignored. Current value: seed=32\n",
      "[LightGBM] [Warning] bagging_freq is set=2, subsample_freq=0 will be ignored. Current value: bagging_freq=2\n",
      "Training until validation scores don't improve for 500 rounds\n",
      "[500]\ttraining's multi_logloss: 0.983009\ttraining's macroF1: 0.553562\tvalid_1's multi_logloss: 1.08288\tvalid_1's macroF1: 0.393785\n",
      "Early stopping, best iteration is:\n",
      "[169]\ttraining's multi_logloss: 1.10649\ttraining's macroF1: 0.502785\tvalid_1's multi_logloss: 1.11176\tvalid_1's macroF1: 0.406387\n",
      "============================== 4 of 5 folds ==============================\n",
      "[LightGBM] [Warning] seed is set=32, random_state=0 will be ignored. Current value: seed=32\n",
      "[LightGBM] [Warning] bagging_freq is set=2, subsample_freq=0 will be ignored. Current value: bagging_freq=2\n",
      "Training until validation scores don't improve for 500 rounds\n",
      "[500]\ttraining's multi_logloss: 0.990353\ttraining's macroF1: 0.54594\tvalid_1's multi_logloss: 1.05625\tvalid_1's macroF1: 0.379899\n",
      "Early stopping, best iteration is:\n",
      "[179]\ttraining's multi_logloss: 1.10671\ttraining's macroF1: 0.497894\tvalid_1's multi_logloss: 1.08808\tvalid_1's macroF1: 0.403241\n",
      "============================== 5 of 5 folds ==============================\n",
      "[LightGBM] [Warning] seed is set=32, random_state=0 will be ignored. Current value: seed=32\n",
      "[LightGBM] [Warning] bagging_freq is set=2, subsample_freq=0 will be ignored. Current value: bagging_freq=2\n",
      "Training until validation scores don't improve for 500 rounds\n",
      "[500]\ttraining's multi_logloss: 0.990475\ttraining's macroF1: 0.556726\tvalid_1's multi_logloss: 1.0761\tvalid_1's macroF1: 0.406972\n",
      "Early stopping, best iteration is:\n",
      "[241]\ttraining's multi_logloss: 1.07415\ttraining's macroF1: 0.508565\tvalid_1's multi_logloss: 1.0942\tvalid_1's macroF1: 0.418879\n",
      "######################################## 34 of 50 iterations ########################################\n",
      "============================== 1 of 5 folds ==============================\n",
      "[LightGBM] [Warning] seed is set=33, random_state=0 will be ignored. Current value: seed=33\n",
      "[LightGBM] [Warning] bagging_freq is set=1, subsample_freq=0 will be ignored. Current value: bagging_freq=1\n",
      "Training until validation scores don't improve for 500 rounds\n",
      "[500]\ttraining's multi_logloss: 0.730153\ttraining's macroF1: 0.715849\tvalid_1's multi_logloss: 1.0774\tvalid_1's macroF1: 0.384002\n",
      "Early stopping, best iteration is:\n",
      "[213]\ttraining's multi_logloss: 0.928965\ttraining's macroF1: 0.632926\tvalid_1's multi_logloss: 1.09302\tvalid_1's macroF1: 0.387484\n",
      "============================== 2 of 5 folds ==============================\n",
      "[LightGBM] [Warning] seed is set=33, random_state=0 will be ignored. Current value: seed=33\n",
      "[LightGBM] [Warning] bagging_freq is set=1, subsample_freq=0 will be ignored. Current value: bagging_freq=1\n",
      "Training until validation scores don't improve for 500 rounds\n",
      "[500]\ttraining's multi_logloss: 0.748807\ttraining's macroF1: 0.725817\tvalid_1's multi_logloss: 0.972496\tvalid_1's macroF1: 0.438479\n",
      "[1000]\ttraining's multi_logloss: 0.572677\ttraining's macroF1: 0.796738\tvalid_1's multi_logloss: 0.95577\tvalid_1's macroF1: 0.444986\n",
      "Early stopping, best iteration is:\n",
      "[591]\ttraining's multi_logloss: 0.706425\ttraining's macroF1: 0.745377\tvalid_1's multi_logloss: 0.9683\tvalid_1's macroF1: 0.452117\n",
      "============================== 3 of 5 folds ==============================\n",
      "[LightGBM] [Warning] seed is set=33, random_state=0 will be ignored. Current value: seed=33\n",
      "[LightGBM] [Warning] bagging_freq is set=1, subsample_freq=0 will be ignored. Current value: bagging_freq=1\n",
      "Training until validation scores don't improve for 500 rounds\n",
      "[500]\ttraining's multi_logloss: 0.747618\ttraining's macroF1: 0.728683\tvalid_1's multi_logloss: 0.958599\tvalid_1's macroF1: 0.44083\n",
      "[1000]\ttraining's multi_logloss: 0.572008\ttraining's macroF1: 0.799597\tvalid_1's multi_logloss: 0.937855\tvalid_1's macroF1: 0.450895\n",
      "Early stopping, best iteration is:\n",
      "[969]\ttraining's multi_logloss: 0.579965\ttraining's macroF1: 0.796307\tvalid_1's multi_logloss: 0.93823\tvalid_1's macroF1: 0.455641\n",
      "============================== 4 of 5 folds ==============================\n",
      "[LightGBM] [Warning] seed is set=33, random_state=0 will be ignored. Current value: seed=33\n",
      "[LightGBM] [Warning] bagging_freq is set=1, subsample_freq=0 will be ignored. Current value: bagging_freq=1\n",
      "Training until validation scores don't improve for 500 rounds\n",
      "[500]\ttraining's multi_logloss: 0.744315\ttraining's macroF1: 0.71267\tvalid_1's multi_logloss: 1.0176\tvalid_1's macroF1: 0.400967\n",
      "Early stopping, best iteration is:\n",
      "[457]\ttraining's multi_logloss: 0.766527\ttraining's macroF1: 0.703022\tvalid_1's multi_logloss: 1.01978\tvalid_1's macroF1: 0.403542\n",
      "============================== 5 of 5 folds ==============================\n",
      "[LightGBM] [Warning] seed is set=33, random_state=0 will be ignored. Current value: seed=33\n",
      "[LightGBM] [Warning] bagging_freq is set=1, subsample_freq=0 will be ignored. Current value: bagging_freq=1\n",
      "Training until validation scores don't improve for 500 rounds\n",
      "[500]\ttraining's multi_logloss: 0.737818\ttraining's macroF1: 0.718557\tvalid_1's multi_logloss: 1.01421\tvalid_1's macroF1: 0.415738\n",
      "[1000]\ttraining's multi_logloss: 0.565272\ttraining's macroF1: 0.785947\tvalid_1's multi_logloss: 1.0013\tvalid_1's macroF1: 0.419139\n",
      "Early stopping, best iteration is:\n",
      "[724]\ttraining's multi_logloss: 0.645506\ttraining's macroF1: 0.757373\tvalid_1's multi_logloss: 1.00622\tvalid_1's macroF1: 0.42915\n",
      "######################################## 35 of 50 iterations ########################################\n",
      "============================== 1 of 5 folds ==============================\n",
      "[LightGBM] [Warning] seed is set=34, random_state=0 will be ignored. Current value: seed=34\n",
      "[LightGBM] [Warning] bagging_freq is set=4, subsample_freq=0 will be ignored. Current value: bagging_freq=4\n",
      "Training until validation scores don't improve for 500 rounds\n",
      "[500]\ttraining's multi_logloss: 1.07636\ttraining's macroF1: 0.506131\tvalid_1's multi_logloss: 1.06702\tvalid_1's macroF1: 0.39809\n",
      "Early stopping, best iteration is:\n",
      "[83]\ttraining's multi_logloss: 1.22854\ttraining's macroF1: 0.450976\tvalid_1's multi_logloss: 1.16385\tvalid_1's macroF1: 0.453998\n",
      "============================== 2 of 5 folds ==============================\n",
      "[LightGBM] [Warning] seed is set=34, random_state=0 will be ignored. Current value: seed=34\n",
      "[LightGBM] [Warning] bagging_freq is set=4, subsample_freq=0 will be ignored. Current value: bagging_freq=4\n",
      "Training until validation scores don't improve for 500 rounds\n",
      "[500]\ttraining's multi_logloss: 1.06111\ttraining's macroF1: 0.497591\tvalid_1's multi_logloss: 1.12622\tvalid_1's macroF1: 0.396482\n",
      "Early stopping, best iteration is:\n",
      "[88]\ttraining's multi_logloss: 1.21112\ttraining's macroF1: 0.444639\tvalid_1's multi_logloss: 1.18716\tvalid_1's macroF1: 0.423455\n",
      "============================== 3 of 5 folds ==============================\n",
      "[LightGBM] [Warning] seed is set=34, random_state=0 will be ignored. Current value: seed=34\n",
      "[LightGBM] [Warning] bagging_freq is set=4, subsample_freq=0 will be ignored. Current value: bagging_freq=4\n",
      "Training until validation scores don't improve for 500 rounds\n",
      "[500]\ttraining's multi_logloss: 1.06666\ttraining's macroF1: 0.512947\tvalid_1's multi_logloss: 1.06317\tvalid_1's macroF1: 0.381592\n",
      "[1000]\ttraining's multi_logloss: 1.00337\ttraining's macroF1: 0.547908\tvalid_1's multi_logloss: 1.06404\tvalid_1's macroF1: 0.393189\n",
      "[1500]\ttraining's multi_logloss: 0.961728\ttraining's macroF1: 0.564943\tvalid_1's multi_logloss: 1.06763\tvalid_1's macroF1: 0.395125\n",
      "Early stopping, best iteration is:\n",
      "[1024]\ttraining's multi_logloss: 1.00116\ttraining's macroF1: 0.548466\tvalid_1's multi_logloss: 1.06056\tvalid_1's macroF1: 0.402855\n",
      "============================== 4 of 5 folds ==============================\n",
      "[LightGBM] [Warning] seed is set=34, random_state=0 will be ignored. Current value: seed=34\n",
      "[LightGBM] [Warning] bagging_freq is set=4, subsample_freq=0 will be ignored. Current value: bagging_freq=4\n"
     ]
    },
    {
     "name": "stdout",
     "output_type": "stream",
     "text": [
      "Training until validation scores don't improve for 500 rounds\n",
      "[500]\ttraining's multi_logloss: 1.06607\ttraining's macroF1: 0.508253\tvalid_1's multi_logloss: 1.09351\tvalid_1's macroF1: 0.386036\n",
      "Early stopping, best iteration is:\n",
      "[332]\ttraining's multi_logloss: 1.09982\ttraining's macroF1: 0.485077\tvalid_1's multi_logloss: 1.09059\tvalid_1's macroF1: 0.387989\n",
      "============================== 5 of 5 folds ==============================\n",
      "[LightGBM] [Warning] seed is set=34, random_state=0 will be ignored. Current value: seed=34\n",
      "[LightGBM] [Warning] bagging_freq is set=4, subsample_freq=0 will be ignored. Current value: bagging_freq=4\n",
      "Training until validation scores don't improve for 500 rounds\n",
      "[500]\ttraining's multi_logloss: 1.07345\ttraining's macroF1: 0.501246\tvalid_1's multi_logloss: 1.06909\tvalid_1's macroF1: 0.415767\n",
      "Early stopping, best iteration is:\n",
      "[431]\ttraining's multi_logloss: 1.08596\ttraining's macroF1: 0.497779\tvalid_1's multi_logloss: 1.06606\tvalid_1's macroF1: 0.433521\n",
      "######################################## 36 of 50 iterations ########################################\n",
      "============================== 1 of 5 folds ==============================\n",
      "[LightGBM] [Warning] seed is set=35, random_state=0 will be ignored. Current value: seed=35\n",
      "[LightGBM] [Warning] bagging_freq is set=2, subsample_freq=0 will be ignored. Current value: bagging_freq=2\n",
      "Training until validation scores don't improve for 500 rounds\n",
      "[500]\ttraining's multi_logloss: 1.16381\ttraining's macroF1: 0.462526\tvalid_1's multi_logloss: 1.11315\tvalid_1's macroF1: 0.417336\n",
      "Early stopping, best iteration is:\n",
      "[476]\ttraining's multi_logloss: 1.16798\ttraining's macroF1: 0.46319\tvalid_1's multi_logloss: 1.11698\tvalid_1's macroF1: 0.425649\n",
      "============================== 2 of 5 folds ==============================\n",
      "[LightGBM] [Warning] seed is set=35, random_state=0 will be ignored. Current value: seed=35\n",
      "[LightGBM] [Warning] bagging_freq is set=2, subsample_freq=0 will be ignored. Current value: bagging_freq=2\n",
      "Training until validation scores don't improve for 500 rounds\n",
      "[500]\ttraining's multi_logloss: 1.163\ttraining's macroF1: 0.483934\tvalid_1's multi_logloss: 1.11787\tvalid_1's macroF1: 0.402172\n",
      "[1000]\ttraining's multi_logloss: 1.1021\ttraining's macroF1: 0.496796\tvalid_1's multi_logloss: 1.08853\tvalid_1's macroF1: 0.403501\n",
      "Early stopping, best iteration is:\n",
      "[617]\ttraining's multi_logloss: 1.14383\ttraining's macroF1: 0.484507\tvalid_1's multi_logloss: 1.10502\tvalid_1's macroF1: 0.408538\n",
      "============================== 3 of 5 folds ==============================\n",
      "[LightGBM] [Warning] seed is set=35, random_state=0 will be ignored. Current value: seed=35\n",
      "[LightGBM] [Warning] bagging_freq is set=2, subsample_freq=0 will be ignored. Current value: bagging_freq=2\n",
      "Training until validation scores don't improve for 500 rounds\n"
     ]
    },
    {
     "ename": "KeyboardInterrupt",
     "evalue": "",
     "output_type": "error",
     "traceback": [
      "\u001b[1;31m---------------------------------------------------------------------------\u001b[0m",
      "\u001b[1;31mKeyboardInterrupt\u001b[0m                         Traceback (most recent call last)",
      "\u001b[1;32m<ipython-input-97-e74312862ccd>\u001b[0m in \u001b[0;36m<module>\u001b[1;34m\u001b[0m\n\u001b[0;32m     14\u001b[0m               \u001b[1;34m'min_child_weight'\u001b[0m\u001b[1;33m:\u001b[0m \u001b[0mnp\u001b[0m\u001b[1;33m.\u001b[0m\u001b[0mrandom\u001b[0m\u001b[1;33m.\u001b[0m\u001b[0mrandint\u001b[0m\u001b[1;33m(\u001b[0m\u001b[1;36m100\u001b[0m\u001b[1;33m)\u001b[0m \u001b[1;33m+\u001b[0m \u001b[1;36m20\u001b[0m\u001b[1;33m\u001b[0m\u001b[1;33m\u001b[0m\u001b[0m\n\u001b[0;32m     15\u001b[0m              }\n\u001b[1;32m---> 16\u001b[1;33m     \u001b[0mtemp_shap_df\u001b[0m \u001b[1;33m=\u001b[0m \u001b[0mextract_good_features_using_shap_LGB\u001b[0m\u001b[1;33m(\u001b[0m\u001b[0mparams\u001b[0m\u001b[1;33m,\u001b[0m \u001b[0mSEED\u001b[0m\u001b[1;33m)\u001b[0m\u001b[1;33m\u001b[0m\u001b[1;33m\u001b[0m\u001b[0m\n\u001b[0m\u001b[0;32m     17\u001b[0m     \u001b[0mtotal_shap_df\u001b[0m \u001b[1;33m=\u001b[0m \u001b[0mpd\u001b[0m\u001b[1;33m.\u001b[0m\u001b[0mconcat\u001b[0m\u001b[1;33m(\u001b[0m\u001b[1;33m[\u001b[0m\u001b[0mtotal_shap_df\u001b[0m\u001b[1;33m,\u001b[0m \u001b[0mtemp_shap_df\u001b[0m\u001b[1;33m]\u001b[0m\u001b[1;33m)\u001b[0m\u001b[1;33m\u001b[0m\u001b[1;33m\u001b[0m\u001b[0m\n",
      "\u001b[1;32m<ipython-input-96-7cc7802ecb6b>\u001b[0m in \u001b[0;36mextract_good_features_using_shap_LGB\u001b[1;34m(params, SEED)\u001b[0m\n\u001b[0;32m     30\u001b[0m         \u001b[0mX_train\u001b[0m\u001b[1;33m,\u001b[0m \u001b[0mX_val\u001b[0m \u001b[1;33m=\u001b[0m \u001b[0mtrain\u001b[0m\u001b[1;33m.\u001b[0m\u001b[0miloc\u001b[0m\u001b[1;33m[\u001b[0m\u001b[0mtrain_idx\u001b[0m\u001b[1;33m]\u001b[0m\u001b[1;33m,\u001b[0m \u001b[0mtrain\u001b[0m\u001b[1;33m.\u001b[0m\u001b[0miloc\u001b[0m\u001b[1;33m[\u001b[0m\u001b[0mval_idx\u001b[0m\u001b[1;33m]\u001b[0m\u001b[1;33m\u001b[0m\u001b[1;33m\u001b[0m\u001b[0m\n\u001b[0;32m     31\u001b[0m         \u001b[0my_train\u001b[0m\u001b[1;33m,\u001b[0m \u001b[0my_val\u001b[0m \u001b[1;33m=\u001b[0m \u001b[0my\u001b[0m\u001b[1;33m.\u001b[0m\u001b[0miloc\u001b[0m\u001b[1;33m[\u001b[0m\u001b[0mtrain_idx\u001b[0m\u001b[1;33m]\u001b[0m\u001b[1;33m,\u001b[0m \u001b[0my\u001b[0m\u001b[1;33m.\u001b[0m\u001b[0miloc\u001b[0m\u001b[1;33m[\u001b[0m\u001b[0mval_idx\u001b[0m\u001b[1;33m]\u001b[0m\u001b[1;33m\u001b[0m\u001b[1;33m\u001b[0m\u001b[0m\n\u001b[1;32m---> 32\u001b[1;33m         clf.fit(X_train, y_train, eval_set = [(X_train, y_train), (X_val, y_val)], eval_metric = evaluate_macroF1_lgb,\n\u001b[0m\u001b[0;32m     33\u001b[0m                categorical_feature = categorical_feats, early_stopping_rounds = 500, verbose = 500)\n\u001b[0;32m     34\u001b[0m \u001b[1;33m\u001b[0m\u001b[0m\n",
      "\u001b[1;32m~\\anaconda3\\lib\\site-packages\\lightgbm\\sklearn.py\u001b[0m in \u001b[0;36mfit\u001b[1;34m(self, X, y, sample_weight, init_score, eval_set, eval_names, eval_sample_weight, eval_class_weight, eval_init_score, eval_metric, early_stopping_rounds, verbose, feature_name, categorical_feature, callbacks, init_model)\u001b[0m\n\u001b[0;32m    888\u001b[0m                     \u001b[0mvalid_sets\u001b[0m\u001b[1;33m[\u001b[0m\u001b[0mi\u001b[0m\u001b[1;33m]\u001b[0m \u001b[1;33m=\u001b[0m \u001b[1;33m(\u001b[0m\u001b[0mvalid_x\u001b[0m\u001b[1;33m,\u001b[0m \u001b[0mself\u001b[0m\u001b[1;33m.\u001b[0m\u001b[0m_le\u001b[0m\u001b[1;33m.\u001b[0m\u001b[0mtransform\u001b[0m\u001b[1;33m(\u001b[0m\u001b[0mvalid_y\u001b[0m\u001b[1;33m)\u001b[0m\u001b[1;33m)\u001b[0m\u001b[1;33m\u001b[0m\u001b[1;33m\u001b[0m\u001b[0m\n\u001b[0;32m    889\u001b[0m \u001b[1;33m\u001b[0m\u001b[0m\n\u001b[1;32m--> 890\u001b[1;33m         super().fit(X, _y, sample_weight=sample_weight, init_score=init_score, eval_set=valid_sets,\n\u001b[0m\u001b[0;32m    891\u001b[0m                     \u001b[0meval_names\u001b[0m\u001b[1;33m=\u001b[0m\u001b[0meval_names\u001b[0m\u001b[1;33m,\u001b[0m \u001b[0meval_sample_weight\u001b[0m\u001b[1;33m=\u001b[0m\u001b[0meval_sample_weight\u001b[0m\u001b[1;33m,\u001b[0m\u001b[1;33m\u001b[0m\u001b[1;33m\u001b[0m\u001b[0m\n\u001b[0;32m    892\u001b[0m                     \u001b[0meval_class_weight\u001b[0m\u001b[1;33m=\u001b[0m\u001b[0meval_class_weight\u001b[0m\u001b[1;33m,\u001b[0m \u001b[0meval_init_score\u001b[0m\u001b[1;33m=\u001b[0m\u001b[0meval_init_score\u001b[0m\u001b[1;33m,\u001b[0m\u001b[1;33m\u001b[0m\u001b[1;33m\u001b[0m\u001b[0m\n",
      "\u001b[1;32m~\\anaconda3\\lib\\site-packages\\lightgbm\\sklearn.py\u001b[0m in \u001b[0;36mfit\u001b[1;34m(self, X, y, sample_weight, init_score, group, eval_set, eval_names, eval_sample_weight, eval_class_weight, eval_init_score, eval_group, eval_metric, early_stopping_rounds, verbose, feature_name, categorical_feature, callbacks, init_model)\u001b[0m\n\u001b[0;32m    681\u001b[0m             \u001b[0minit_model\u001b[0m \u001b[1;33m=\u001b[0m \u001b[0minit_model\u001b[0m\u001b[1;33m.\u001b[0m\u001b[0mbooster_\u001b[0m\u001b[1;33m\u001b[0m\u001b[1;33m\u001b[0m\u001b[0m\n\u001b[0;32m    682\u001b[0m \u001b[1;33m\u001b[0m\u001b[0m\n\u001b[1;32m--> 683\u001b[1;33m         self._Booster = train(params, train_set,\n\u001b[0m\u001b[0;32m    684\u001b[0m                               \u001b[0mself\u001b[0m\u001b[1;33m.\u001b[0m\u001b[0mn_estimators\u001b[0m\u001b[1;33m,\u001b[0m \u001b[0mvalid_sets\u001b[0m\u001b[1;33m=\u001b[0m\u001b[0mvalid_sets\u001b[0m\u001b[1;33m,\u001b[0m \u001b[0mvalid_names\u001b[0m\u001b[1;33m=\u001b[0m\u001b[0meval_names\u001b[0m\u001b[1;33m,\u001b[0m\u001b[1;33m\u001b[0m\u001b[1;33m\u001b[0m\u001b[0m\n\u001b[0;32m    685\u001b[0m                               \u001b[0mearly_stopping_rounds\u001b[0m\u001b[1;33m=\u001b[0m\u001b[0mearly_stopping_rounds\u001b[0m\u001b[1;33m,\u001b[0m\u001b[1;33m\u001b[0m\u001b[1;33m\u001b[0m\u001b[0m\n",
      "\u001b[1;32m~\\anaconda3\\lib\\site-packages\\lightgbm\\engine.py\u001b[0m in \u001b[0;36mtrain\u001b[1;34m(params, train_set, num_boost_round, valid_sets, valid_names, fobj, feval, init_model, feature_name, categorical_feature, early_stopping_rounds, evals_result, verbose_eval, learning_rates, keep_training_booster, callbacks)\u001b[0m\n\u001b[0;32m    247\u001b[0m                                     evaluation_result_list=None))\n\u001b[0;32m    248\u001b[0m \u001b[1;33m\u001b[0m\u001b[0m\n\u001b[1;32m--> 249\u001b[1;33m         \u001b[0mbooster\u001b[0m\u001b[1;33m.\u001b[0m\u001b[0mupdate\u001b[0m\u001b[1;33m(\u001b[0m\u001b[0mfobj\u001b[0m\u001b[1;33m=\u001b[0m\u001b[0mfobj\u001b[0m\u001b[1;33m)\u001b[0m\u001b[1;33m\u001b[0m\u001b[1;33m\u001b[0m\u001b[0m\n\u001b[0m\u001b[0;32m    250\u001b[0m \u001b[1;33m\u001b[0m\u001b[0m\n\u001b[0;32m    251\u001b[0m         \u001b[0mevaluation_result_list\u001b[0m \u001b[1;33m=\u001b[0m \u001b[1;33m[\u001b[0m\u001b[1;33m]\u001b[0m\u001b[1;33m\u001b[0m\u001b[1;33m\u001b[0m\u001b[0m\n",
      "\u001b[1;32m~\\anaconda3\\lib\\site-packages\\lightgbm\\basic.py\u001b[0m in \u001b[0;36mupdate\u001b[1;34m(self, train_set, fobj)\u001b[0m\n\u001b[0;32m   2641\u001b[0m             \u001b[1;32mif\u001b[0m \u001b[0mself\u001b[0m\u001b[1;33m.\u001b[0m\u001b[0m__set_objective_to_none\u001b[0m\u001b[1;33m:\u001b[0m\u001b[1;33m\u001b[0m\u001b[1;33m\u001b[0m\u001b[0m\n\u001b[0;32m   2642\u001b[0m                 \u001b[1;32mraise\u001b[0m \u001b[0mLightGBMError\u001b[0m\u001b[1;33m(\u001b[0m\u001b[1;34m'Cannot update due to null objective function.'\u001b[0m\u001b[1;33m)\u001b[0m\u001b[1;33m\u001b[0m\u001b[1;33m\u001b[0m\u001b[0m\n\u001b[1;32m-> 2643\u001b[1;33m             _safe_call(_LIB.LGBM_BoosterUpdateOneIter(\n\u001b[0m\u001b[0;32m   2644\u001b[0m                 \u001b[0mself\u001b[0m\u001b[1;33m.\u001b[0m\u001b[0mhandle\u001b[0m\u001b[1;33m,\u001b[0m\u001b[1;33m\u001b[0m\u001b[1;33m\u001b[0m\u001b[0m\n\u001b[0;32m   2645\u001b[0m                 ctypes.byref(is_finished)))\n",
      "\u001b[1;31mKeyboardInterrupt\u001b[0m: "
     ]
    }
   ],
   "source": [
    "total_shap_df = pd.DataFrame()\n",
    "NUM_ITERATIONS = 30\n",
    "for SEED in range(NUM_ITERATIONS):\n",
    "    print('#'*40, '{} of {} iterations'.format(SEED+1, NUM_ITERATIONS), '#' * 40)\n",
    "    params = {'max_depth': np.random.choice([5, 6, 7, 8, 10, 12, -1]),\n",
    "             'learning_rate': np.random.rand() * 0.02,\n",
    "              'colsample_bytree': np.random.rand() * (1 - 0.5) + 0.5,\n",
    "              'subsample': np.random.rand() * (1 - 0.5) + 0.5,\n",
    "              'min_split_gain': np.random.rand() * 0.2,\n",
    "              'num_leaves': np.random.choice([32, 48, 64]),\n",
    "              'reg_alpha': np.random.rand() * 2,\n",
    "              'reg_lambda': np.random.rand() *2,\n",
    "              'bagging_freq': np.random.randint(4) +1,\n",
    "              'min_child_weight': np.random.randint(100) + 20\n",
    "             }\n",
    "    temp_shap_df = extract_good_features_using_shap_LGB(params, SEED)\n",
    "    total_shap_df = pd.concat([total_shap_df, temp_shap_df])"
   ]
  },
  {
   "cell_type": "code",
   "execution_count": 116,
   "metadata": {},
   "outputs": [],
   "source": [
    "shap_sorted_df = total_shap_df.groupby('feature').mean().sort_values('shap_values', ascending = False).reset_index()\n",
    "feat_imp_sorted_df = total_shap_df.groupby('feature').mean().sort_values('feat_imp', ascending = False).reset_index()\n",
    "\n",
    "feats_top_shap = shap_sorted_df['feature'][:500]\n",
    "feats_top_feat_imp = shap_sorted_df['feature'][:500]\n",
    "\n",
    "top_features = pd.Series(feats_top_shap.tolist() + feats_top_feat_imp.tolist())\n",
    "top_features = top_features.unique()"
   ]
  },
  {
   "cell_type": "markdown",
   "metadata": {},
   "source": [
    "# 5. Model development\n",
    " + shap value 기반으로 선택된 feature들에 대해 모델 학습 + 파라미터 튜닝 진행"
   ]
  },
  {
   "cell_type": "code",
   "execution_count": 117,
   "metadata": {},
   "outputs": [
    {
     "name": "stdout",
     "output_type": "stream",
     "text": [
      "(2973, 500)\n",
      "(23856, 500)\n"
     ]
    }
   ],
   "source": [
    "new_train = train[top_features].copy()\n",
    "new_test = test[top_features].copy()\n",
    "\n",
    "print(new_train.shape)\n",
    "print(new_test.shape)"
   ]
  },
  {
   "cell_type": "code",
   "execution_count": 118,
   "metadata": {},
   "outputs": [],
   "source": [
    "new_categorical_feats = [col for col in top_features if col in categorical_feats]"
   ]
  },
  {
   "cell_type": "markdown",
   "metadata": {},
   "source": [
    "## Randomized Search\n",
    " + Optimal parameter search with randomized search method"
   ]
  },
  {
   "cell_type": "code",
   "execution_count": null,
   "metadata": {
    "scrolled": false
   },
   "outputs": [],
   "source": [
    "optimized_param = None\n",
    "lowest_cv = 1000\n",
    "total_iteration = 10\n",
    "\n",
    "for i in range(total_iteration):\n",
    "    print('-'*20, 'For {} of {} iterations'.format(i+1, total_iteration), '-'*20)\n",
    "    learning_rate = np.random.rand()*0.02\n",
    "    n_folds = 3\n",
    "    num_classes = 4\n",
    "    \n",
    "    params = {}\n",
    "    params['objective'] = 'multiclass'\n",
    "    params['metric'] = 'multi_logloss'\n",
    "    params['num_class'] = num_classes\n",
    "    params['class_weight'] = 'balanced'\n",
    "    params['num_leaves'] = np.random.randint(24, 48)\n",
    "    params['max_depth'] = np.random.randint(5, 8)\n",
    "    params['min_child_weight'] = np.random.randint(5, 50)\n",
    "    params['min_split_gain'] = np.random.rand() * 0.09\n",
    "    params['colsample_bytree'] = np.random.rand() * (0.9 - 0.1) + 0.1\n",
    "    params['subsample'] = np.random.rand() * (1 - 0.8) + 0.8\n",
    "    params['bagging_freq'] = np.random.randint(1, 5)\n",
    "    params['bagging_seed'] = np.random.randint(1, 5)\n",
    "    params['reg_alpha'] = np.random.rand() * 2\n",
    "    params['reg_lambda'] = np.random.rand() * 2\n",
    "    params['learning_rate'] = np.random.rand() * 0.02\n",
    "    params['force_col_wise'] = True,\n",
    "    params['seed']  =1989\n",
    "    \n",
    "    d_train = lgb.Dataset(data = new_train, label = y.values-1, categorical_feature = new_categorical_feats, free_raw_data = False)\n",
    "    cv_results = lgb.cv(params = params, train_set = d_train, num_boost_round = 10000, categorical_feature = new_categorical_feats,\n",
    "                       nfold = n_folds, stratified = True, early_stopping_rounds = 10, verbose_eval = 1000, shuffle = True)\n",
    "    \n",
    "    min_cv_results = min(cv_results['multi_logloss-mean'])\n",
    "    \n",
    "    if min_cv_results < lowest_cv:\n",
    "        lowest_cv = min_cv_results\n",
    "        optimized_param = params"
   ]
  },
  {
   "cell_type": "code",
   "execution_count": 123,
   "metadata": {},
   "outputs": [
    {
     "data": {
      "text/plain": [
       "{'objective': 'multiclass',\n",
       " 'metric': 'multi_logloss',\n",
       " 'num_class': 4,\n",
       " 'class_weight': 'balanced',\n",
       " 'num_leaves': 37,\n",
       " 'max_depth': 6,\n",
       " 'min_child_weight': 22,\n",
       " 'min_split_gain': 0.042718548756839725,\n",
       " 'colsample_bytree': 0.35320780491024584,\n",
       " 'subsample': 0.95189457680524,\n",
       " 'bagging_freq': 4,\n",
       " 'bagging_seed': 3,\n",
       " 'reg_alpha': 1.2424868330616559,\n",
       " 'reg_lambda': 1.1523627921268806,\n",
       " 'learning_rate': 0.004241558020942351,\n",
       " 'force_col_wise': (True,),\n",
       " 'seed': 1989}"
      ]
     },
     "execution_count": 123,
     "metadata": {},
     "output_type": "execute_result"
    }
   ],
   "source": [
    "optimized_param"
   ]
  },
  {
   "cell_type": "markdown",
   "metadata": {},
   "source": [
    " + StratifiedKFold 진행하여 각 폴드마다 test set에 대한 예측 "
   ]
  },
  {
   "cell_type": "code",
   "execution_count": 124,
   "metadata": {},
   "outputs": [],
   "source": [
    "def LGB_OOF(params, categorical_feats, N_FOLDs, SEED=1989):\n",
    "    clf = lgb.LGBMClassifier(objective='multiclass',\n",
    "                             random_state=1989,\n",
    "                             max_depth=params['max_depth'], \n",
    "                             learning_rate=params['learning_rate'],  \n",
    "                             silent=True, \n",
    "                             metric='multi_logloss',\n",
    "                             n_jobs=-1, n_estimators=10000, \n",
    "                             class_weight='balanced',\n",
    "                             colsample_bytree = params['colsample_bytree'], \n",
    "                             min_split_gain= params['min_split_gain'], \n",
    "                             bagging_freq = params['bagging_freq'],\n",
    "                             min_child_weight=params['min_child_weight'],\n",
    "                             num_leaves = params['num_leaves'], \n",
    "                             subsample = params['subsample'],\n",
    "                             reg_alpha= params['reg_alpha'],\n",
    "                             reg_lambda= params['reg_lambda'],\n",
    "                             num_class=len(np.unique(y)),\n",
    "                             bagging_seed=SEED,\n",
    "                             seed=SEED,\n",
    "                            )\n",
    "\n",
    "    kfold = 5\n",
    "    kf = StratifiedKFold(n_splits = kfold, shuffle = True)\n",
    "    feat_importance_df  = pd.DataFrame()\n",
    "    predicts_result = []\n",
    "\n",
    "    for i, (train_index, test_index) in enumerate(kf.split(new_train, y)):\n",
    "        print('='*30, '{} of {} folds'.format(i+1, kfold), '='*30)\n",
    "        start = time.time()\n",
    "        X_train, X_val = new_train.iloc[train_index], new_train.iloc[test_index]\n",
    "        y_train, y_val = y.iloc[train_index], y.iloc[test_index]\n",
    "        clf.fit(X_train, y_train, eval_set = [(X_train, y_train), (X_val, y_val)], \n",
    "                eval_metric = evaluate_macroF1_lgb,categorical_feature = new_categorical_feats,\n",
    "                early_stopping_rounds = 500, verbose = 500)\n",
    "        shap_values = shap.TreeExplainer(clf.booster_).shap_values(X_train)\n",
    "        fold_importance_df  = pd.DataFrame()\n",
    "        fold_importance_df['feature'] = X_train.columns\n",
    "        fold_importance_df['shap_values'] = abs(np.array(shap_values)[:, :].mean(1).mean(0))\n",
    "        fold_importance_df['feat_imp'] = clf.feature_importances_\n",
    "        feat_importance_df = pd.concat([feat_importance_df, fold_importance_df])\n",
    "        \n",
    "        # 각 fold마다 prediction 한 값 저장\n",
    "        predicts_result.append(clf.predict(new_test))\n",
    "        #print_execution_time(start)\n",
    "    return predicts_result, feat_importance_df"
   ]
  },
  {
   "cell_type": "code",
   "execution_count": 125,
   "metadata": {},
   "outputs": [
    {
     "name": "stdout",
     "output_type": "stream",
     "text": [
      "============================== 1 of 5 folds ==============================\n",
      "[LightGBM] [Warning] seed is set=0, random_state=1989 will be ignored. Current value: seed=0\n",
      "[LightGBM] [Warning] bagging_freq is set=4, subsample_freq=0 will be ignored. Current value: bagging_freq=4\n",
      "Training until validation scores don't improve for 500 rounds\n",
      "[500]\ttraining's multi_logloss: 0.913203\ttraining's macroF1: 0.660606\tvalid_1's multi_logloss: 1.05297\tvalid_1's macroF1: 0.388217\n",
      "Early stopping, best iteration is:\n",
      "[380]\ttraining's multi_logloss: 0.975038\ttraining's macroF1: 0.64271\tvalid_1's multi_logloss: 1.07613\tvalid_1's macroF1: 0.403319\n",
      "============================== 2 of 5 folds ==============================\n",
      "[LightGBM] [Warning] seed is set=0, random_state=1989 will be ignored. Current value: seed=0\n",
      "[LightGBM] [Warning] bagging_freq is set=4, subsample_freq=0 will be ignored. Current value: bagging_freq=4\n",
      "Training until validation scores don't improve for 500 rounds\n",
      "[500]\ttraining's multi_logloss: 0.923641\ttraining's macroF1: 0.65731\tvalid_1's multi_logloss: 1.06354\tvalid_1's macroF1: 0.429379\n",
      "Early stopping, best iteration is:\n",
      "[289]\ttraining's multi_logloss: 1.04278\ttraining's macroF1: 0.614829\tvalid_1's multi_logloss: 1.11954\tvalid_1's macroF1: 0.439551\n",
      "============================== 3 of 5 folds ==============================\n",
      "[LightGBM] [Warning] seed is set=0, random_state=1989 will be ignored. Current value: seed=0\n",
      "[LightGBM] [Warning] bagging_freq is set=4, subsample_freq=0 will be ignored. Current value: bagging_freq=4\n",
      "Training until validation scores don't improve for 500 rounds\n",
      "[500]\ttraining's multi_logloss: 0.934852\ttraining's macroF1: 0.654455\tvalid_1's multi_logloss: 1.00184\tvalid_1's macroF1: 0.467985\n",
      "Early stopping, best iteration is:\n",
      "[434]\ttraining's multi_logloss: 0.966839\ttraining's macroF1: 0.645365\tvalid_1's multi_logloss: 1.01455\tvalid_1's macroF1: 0.47317\n",
      "============================== 4 of 5 folds ==============================\n",
      "[LightGBM] [Warning] seed is set=0, random_state=1989 will be ignored. Current value: seed=0\n",
      "[LightGBM] [Warning] bagging_freq is set=4, subsample_freq=0 will be ignored. Current value: bagging_freq=4\n",
      "Training until validation scores don't improve for 500 rounds\n",
      "[500]\ttraining's multi_logloss: 0.917171\ttraining's macroF1: 0.675243\tvalid_1's multi_logloss: 1.04242\tvalid_1's macroF1: 0.419336\n",
      "[1000]\ttraining's multi_logloss: 0.751187\ttraining's macroF1: 0.736346\tvalid_1's multi_logloss: 1.01573\tvalid_1's macroF1: 0.418664\n",
      "[1500]\ttraining's multi_logloss: 0.643562\ttraining's macroF1: 0.773468\tvalid_1's multi_logloss: 1.00601\tvalid_1's macroF1: 0.438123\n",
      "[2000]\ttraining's multi_logloss: 0.565737\ttraining's macroF1: 0.803973\tvalid_1's multi_logloss: 1.0001\tvalid_1's macroF1: 0.440949\n",
      "Early stopping, best iteration is:\n",
      "[1867]\ttraining's multi_logloss: 0.584419\ttraining's macroF1: 0.7975\tvalid_1's multi_logloss: 1.00107\tvalid_1's macroF1: 0.447153\n",
      "============================== 5 of 5 folds ==============================\n",
      "[LightGBM] [Warning] seed is set=0, random_state=1989 will be ignored. Current value: seed=0\n",
      "[LightGBM] [Warning] bagging_freq is set=4, subsample_freq=0 will be ignored. Current value: bagging_freq=4\n",
      "Training until validation scores don't improve for 500 rounds\n",
      "[500]\ttraining's multi_logloss: 0.920112\ttraining's macroF1: 0.660036\tvalid_1's multi_logloss: 1.0543\tvalid_1's macroF1: 0.403445\n",
      "[1000]\ttraining's multi_logloss: 0.753662\ttraining's macroF1: 0.715806\tvalid_1's multi_logloss: 1.01945\tvalid_1's macroF1: 0.415349\n",
      "[1500]\ttraining's multi_logloss: 0.645152\ttraining's macroF1: 0.766008\tvalid_1's multi_logloss: 1.00724\tvalid_1's macroF1: 0.411518\n",
      "Early stopping, best iteration is:\n",
      "[1071]\ttraining's multi_logloss: 0.735805\ttraining's macroF1: 0.722061\tvalid_1's multi_logloss: 1.01758\tvalid_1's macroF1: 0.418914\n"
     ]
    }
   ],
   "source": [
    "predicts_result, feat_importance_df = LGB_OOF(optimized_param, new_categorical_feats, 5, SEED = 0)"
   ]
  },
  {
   "cell_type": "code",
   "execution_count": 126,
   "metadata": {},
   "outputs": [
    {
     "data": {
      "text/plain": [
       "[array([4, 4, 4, ..., 2, 2, 2], dtype=int64),\n",
       " array([4, 4, 4, ..., 2, 2, 2], dtype=int64),\n",
       " array([4, 4, 4, ..., 2, 2, 2], dtype=int64),\n",
       " array([4, 4, 4, ..., 2, 2, 2], dtype=int64),\n",
       " array([4, 4, 4, ..., 2, 2, 2], dtype=int64)]"
      ]
     },
     "execution_count": 126,
     "metadata": {},
     "output_type": "execute_result"
    }
   ],
   "source": [
    "predicts_result"
   ]
  }
 ],
 "metadata": {
  "kernelspec": {
   "display_name": "Python 3",
   "language": "python",
   "name": "python3"
  },
  "language_info": {
   "codemirror_mode": {
    "name": "ipython",
    "version": 3
   },
   "file_extension": ".py",
   "mimetype": "text/x-python",
   "name": "python",
   "nbconvert_exporter": "python",
   "pygments_lexer": "ipython3",
   "version": "3.8.5"
  }
 },
 "nbformat": 4,
 "nbformat_minor": 4
}
