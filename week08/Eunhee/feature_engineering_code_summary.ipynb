{
 "cells": [
  {
   "cell_type": "markdown",
   "id": "35f9f2b0",
   "metadata": {},
   "source": [
    "# Import Modules"
   ]
  },
  {
   "cell_type": "code",
   "execution_count": 2,
   "id": "8dd0b282",
   "metadata": {
    "ExecuteTime": {
     "end_time": "2022-01-08T06:18:48.297458Z",
     "start_time": "2022-01-08T06:18:47.395127Z"
    }
   },
   "outputs": [],
   "source": [
    "import pandas as pd\n",
    "import numpy as np\n",
    "\n",
    "import matplotlib.pyplot as plt\n",
    "import seaborn as sns\n",
    "\n",
    "import os\n",
    "\n",
    "from sklearn.preprocessing import LabelEncoder\n",
    "from sklearn.preprocessing import PolynomialFeatures\n",
    "from sklearn.preprocessing import MinMaxScaler\n",
    "from sklearn.impute import SimpleImputer\n",
    "\n",
    "from sklearn.linear_model import LogisticRegression\n",
    "from sklearn.ensemble import RandomForestClassifier\n",
    "from sklearn.model_selection import train_test_split\n",
    "from sklearn.metrics import accuracy_score\n",
    "\n",
    "from bayes_opt import BayesianOptimization  ## pip install bayesian-optimization 필요\n",
    "\n",
    "import warnings\n",
    "warnings.filterwarnings('ignore')"
   ]
  },
  {
   "cell_type": "markdown",
   "id": "ece9ba7e",
   "metadata": {},
   "source": [
    "# Read Data"
   ]
  },
  {
   "cell_type": "code",
   "execution_count": 182,
   "id": "3d71fe1a",
   "metadata": {
    "ExecuteTime": {
     "end_time": "2022-01-08T10:19:28.448519Z",
     "start_time": "2022-01-08T10:19:26.554340Z"
    }
   },
   "outputs": [],
   "source": [
    "raw_train = pd.read_csv('../Eunhee/input/application_train.csv')\n",
    "raw_test = pd.read_csv('../Eunhee/input/application_test.csv')"
   ]
  },
  {
   "cell_type": "markdown",
   "id": "d21826f2",
   "metadata": {},
   "source": [
    "# Feature Engineering Code Summary"
   ]
  },
  {
   "cell_type": "code",
   "execution_count": 19,
   "id": "f7d5f03c",
   "metadata": {
    "ExecuteTime": {
     "end_time": "2022-01-08T06:46:25.941054Z",
     "start_time": "2022-01-08T06:46:25.676550Z"
    }
   },
   "outputs": [
    {
     "data": {
      "image/png": "[encoded data removed]",
      "text/plain": [
       "<Figure size 432x288 with 1 Axes>"
      ]
     },
     "metadata": {
      "needs_background": "light"
     },
     "output_type": "display_data"
    }
   ],
   "source": [
    "# Original code from https://github.com/Deep-dive-into-Kaggle-and-ML/Kaggle/blob/main/week08/Hyewon/Modeling.ipynb\n",
    "ax = train_poly.select_dtypes('object').nunique().plot.bar(color = '#009999', edgecolor = 'k')\n",
    "\n",
    "for s in [\"top\",\"right\",\"left\"]:\n",
    "    ax.spines[s].set_visible(False)\n",
    "ax.grid(axis='y', linestyle='-', alpha=0.4)\n",
    "plt.title('Categorical variables', fontweight= 'bold', fontsize = 15, pad = 20)\n",
    "plt.show()"
   ]
  },
  {
   "cell_type": "code",
   "execution_count": 183,
   "id": "f66ae6ea",
   "metadata": {
    "ExecuteTime": {
     "end_time": "2022-01-08T10:19:28.873891Z",
     "start_time": "2022-01-08T10:19:28.865884Z"
    },
    "code_folding": []
   },
   "outputs": [],
   "source": [
    "def polynomial_features_generator(raw, poly_features, n):\n",
    "    '''\n",
    "    Input data raw에 대해 n승의 polynomial feature들을 생성한다.\n",
    "    '''\n",
    "    raw_with_poly_features = raw[poly_features]\n",
    "    imputer = SimpleImputer(strategy='median')\n",
    "    poly_transformer = PolynomialFeatures(degree=n)\n",
    "    \n",
    "    \n",
    "    if 'TARGET' in raw: # Train data\n",
    "        raw_train = raw.copy()\n",
    "        train_poly_features = raw_with_poly_features\n",
    "        train_poly_features = imputer.fit_transform(train_poly_features)\n",
    "        poly_transformer.fit(train_poly_features)\n",
    "        train_poly_features = poly_transformer.transform(train_poly_features)\n",
    "        train_poly_features = pd.DataFrame(train_poly_features, columns=poly_transformer.get_feature_names(poly_features))\n",
    "        train_poly = raw_train.merge(train_poly_features)\n",
    "        print('Shape of generated polynomial features on training data :', train_poly_features.shape)\n",
    "        return train_poly\n",
    "\n",
    "    \n",
    "    else: # Test data\n",
    "        raw_test = raw.copy()\n",
    "        test_poly_features = imputer.fit_transform(raw_with_poly_features)\n",
    "        poly_transformer.fit(test_poly_features)\n",
    "        test_poly_features = poly_transformer.transform(test_poly_features)\n",
    "        test_poly_features = pd.DataFrame(test_poly_features, columns=poly_transformer.get_feature_names(poly_features))\n",
    "        test_poly = raw_test.merge(test_poly_features)\n",
    "        print('Shape of generated polynomial features on testing data :', test_poly_features.shape)\n",
    "        return test_poly"
   ]
  },
  {
   "cell_type": "code",
   "execution_count": 289,
   "id": "657539dc",
   "metadata": {
    "ExecuteTime": {
     "end_time": "2022-01-08T11:09:03.978323Z",
     "start_time": "2022-01-08T11:09:02.758213Z"
    }
   },
   "outputs": [
    {
     "name": "stdout",
     "output_type": "stream",
     "text": [
      "Shape of generated polynomial features on training data : (307511, 35)\n",
      "Shape of generated polynomial features on testing data : (48744, 35)\n"
     ]
    }
   ],
   "source": [
    "poly_features = ['EXT_SOURCE_1', 'EXT_SOURCE_2', 'EXT_SOURCE_3', 'DAYS_BIRTH']\n",
    "poly_train = polynomial_features_generator(raw_train, poly_features, 3)\n",
    "poly_test = polynomial_features_generator(raw_test, poly_features, 3)"
   ]
  },
  {
   "cell_type": "code",
   "execution_count": 262,
   "id": "cd30fa03",
   "metadata": {
    "ExecuteTime": {
     "end_time": "2022-01-08T10:56:45.401749Z",
     "start_time": "2022-01-08T10:56:45.392741Z"
    },
    "code_folding": []
   },
   "outputs": [],
   "source": [
    "def label_encoder(raw, threshold):\n",
    "    '''\n",
    "    전체 변수 중 특정 threshold 이상의 범주 개수를 가지고 있는 변수에 대해 label encode를 수행한다.\n",
    "    '''\n",
    "    label_encode = pd.DataFrame()\n",
    "    le = LabelEncoder()\n",
    "    threshold_tf = raw.select_dtypes('object').nunique() > threshold\n",
    "    label_encode_columns = [threshold_tf.index[i] for (i, name) in enumerate(threshold_tf) if name==True]\n",
    "    for col in label_encode_columns:\n",
    "        le_result = pd.DataFrame(le.fit_transform(raw[col]))\n",
    "        label_encode = pd.concat([label_encode, le_result], axis=1)\n",
    "    label_encode.columns = label_encode_columns\n",
    "    return label_encode"
   ]
  },
  {
   "cell_type": "code",
   "execution_count": 294,
   "id": "1af061dd",
   "metadata": {
    "ExecuteTime": {
     "end_time": "2022-01-08T11:10:21.629410Z",
     "start_time": "2022-01-08T11:10:20.933777Z"
    }
   },
   "outputs": [],
   "source": [
    "label_encode_train = label_encoder(raw_train, 2)\n",
    "label_encode_test = label_encoder(raw_test, 2)"
   ]
  },
  {
   "cell_type": "code",
   "execution_count": 287,
   "id": "afe469a8",
   "metadata": {
    "ExecuteTime": {
     "end_time": "2022-01-08T11:06:18.827862Z",
     "start_time": "2022-01-08T11:06:18.814850Z"
    }
   },
   "outputs": [],
   "source": [
    "def one_hot_encoder(raw, threshold):\n",
    "    one_hot_encode = pd.DataFrame()\n",
    "    threshold_tf = raw.select_dtypes('object').nunique() == threshold\n",
    "    one_hot_encode_columns = [threshold_tf.index[i] for (i, name) in enumerate(threshold_tf) if name==True]\n",
    "    for col in one_hot_encode_columns:\n",
    "        oh_result = pd.get_dummies(raw[col])\n",
    "        one_hot_encode = pd.concat([one_hot_encode, oh_result], axis=1)\n",
    "    return one_hot_encode"
   ]
  },
  {
   "cell_type": "code",
   "execution_count": 295,
   "id": "e8475c6c",
   "metadata": {
    "ExecuteTime": {
     "end_time": "2022-01-08T11:10:53.660530Z",
     "start_time": "2022-01-08T11:10:53.382286Z"
    }
   },
   "outputs": [],
   "source": [
    "one_hot_encode_train = one_hot_encoder(raw_train, 2)\n",
    "one_hot_encode_test = one_hot_encoder(raw_test, 2)"
   ]
  },
  {
   "cell_type": "code",
   "execution_count": null,
   "id": "5dfcd6ce",
   "metadata": {},
   "outputs": [],
   "source": [
    "raw_train.select_dtypes('object').nunique()==2"
   ]
  },
  {
   "cell_type": "code",
   "execution_count": 304,
   "id": "a08c7298",
   "metadata": {
    "ExecuteTime": {
     "end_time": "2022-01-08T11:15:20.896220Z",
     "start_time": "2022-01-08T11:15:20.877203Z"
    }
   },
   "outputs": [
    {
     "data": {
      "text/html": [
       "<div>\n",
       "<style scoped>\n",
       "    .dataframe tbody tr th:only-of-type {\n",
       "        vertical-align: middle;\n",
       "    }\n",
       "\n",
       "    .dataframe tbody tr th {\n",
       "        vertical-align: top;\n",
       "    }\n",
       "\n",
       "    .dataframe thead th {\n",
       "        text-align: right;\n",
       "    }\n",
       "</style>\n",
       "<table border=\"1\" class=\"dataframe\">\n",
       "  <thead>\n",
       "    <tr style=\"text-align: right;\">\n",
       "      <th></th>\n",
       "      <th>NAME_CONTRACT_TYPE_CASH_LOANS</th>\n",
       "      <th>NAME_CONTRACT_TYPE_REVOLVING_LOANS</th>\n",
       "      <th>FLAG_OWN_CAR_N</th>\n",
       "      <th>FLAG_OWN_CAR_Y</th>\n",
       "      <th>FLAG_OWN_REALITY_N</th>\n",
       "      <th>FLAG_OWN_REALITY_Y</th>\n",
       "      <th>EMERGENCYSTATE_MODE_N</th>\n",
       "      <th>EMERGENCYSTATE_MODE_Y</th>\n",
       "    </tr>\n",
       "  </thead>\n",
       "  <tbody>\n",
       "    <tr>\n",
       "      <th>0</th>\n",
       "      <td>1</td>\n",
       "      <td>0</td>\n",
       "      <td>1</td>\n",
       "      <td>0</td>\n",
       "      <td>0</td>\n",
       "      <td>1</td>\n",
       "      <td>1</td>\n",
       "      <td>0</td>\n",
       "    </tr>\n",
       "    <tr>\n",
       "      <th>1</th>\n",
       "      <td>1</td>\n",
       "      <td>0</td>\n",
       "      <td>1</td>\n",
       "      <td>0</td>\n",
       "      <td>1</td>\n",
       "      <td>0</td>\n",
       "      <td>1</td>\n",
       "      <td>0</td>\n",
       "    </tr>\n",
       "    <tr>\n",
       "      <th>2</th>\n",
       "      <td>0</td>\n",
       "      <td>1</td>\n",
       "      <td>0</td>\n",
       "      <td>1</td>\n",
       "      <td>0</td>\n",
       "      <td>1</td>\n",
       "      <td>0</td>\n",
       "      <td>0</td>\n",
       "    </tr>\n",
       "    <tr>\n",
       "      <th>3</th>\n",
       "      <td>1</td>\n",
       "      <td>0</td>\n",
       "      <td>1</td>\n",
       "      <td>0</td>\n",
       "      <td>0</td>\n",
       "      <td>1</td>\n",
       "      <td>0</td>\n",
       "      <td>0</td>\n",
       "    </tr>\n",
       "    <tr>\n",
       "      <th>4</th>\n",
       "      <td>1</td>\n",
       "      <td>0</td>\n",
       "      <td>1</td>\n",
       "      <td>0</td>\n",
       "      <td>0</td>\n",
       "      <td>1</td>\n",
       "      <td>0</td>\n",
       "      <td>0</td>\n",
       "    </tr>\n",
       "    <tr>\n",
       "      <th>...</th>\n",
       "      <td>...</td>\n",
       "      <td>...</td>\n",
       "      <td>...</td>\n",
       "      <td>...</td>\n",
       "      <td>...</td>\n",
       "      <td>...</td>\n",
       "      <td>...</td>\n",
       "      <td>...</td>\n",
       "    </tr>\n",
       "    <tr>\n",
       "      <th>307506</th>\n",
       "      <td>1</td>\n",
       "      <td>0</td>\n",
       "      <td>1</td>\n",
       "      <td>0</td>\n",
       "      <td>1</td>\n",
       "      <td>0</td>\n",
       "      <td>1</td>\n",
       "      <td>0</td>\n",
       "    </tr>\n",
       "    <tr>\n",
       "      <th>307507</th>\n",
       "      <td>1</td>\n",
       "      <td>0</td>\n",
       "      <td>1</td>\n",
       "      <td>0</td>\n",
       "      <td>0</td>\n",
       "      <td>1</td>\n",
       "      <td>1</td>\n",
       "      <td>0</td>\n",
       "    </tr>\n",
       "    <tr>\n",
       "      <th>307508</th>\n",
       "      <td>1</td>\n",
       "      <td>0</td>\n",
       "      <td>1</td>\n",
       "      <td>0</td>\n",
       "      <td>0</td>\n",
       "      <td>1</td>\n",
       "      <td>1</td>\n",
       "      <td>0</td>\n",
       "    </tr>\n",
       "    <tr>\n",
       "      <th>307509</th>\n",
       "      <td>1</td>\n",
       "      <td>0</td>\n",
       "      <td>1</td>\n",
       "      <td>0</td>\n",
       "      <td>0</td>\n",
       "      <td>1</td>\n",
       "      <td>1</td>\n",
       "      <td>0</td>\n",
       "    </tr>\n",
       "    <tr>\n",
       "      <th>307510</th>\n",
       "      <td>1</td>\n",
       "      <td>0</td>\n",
       "      <td>1</td>\n",
       "      <td>0</td>\n",
       "      <td>1</td>\n",
       "      <td>0</td>\n",
       "      <td>1</td>\n",
       "      <td>0</td>\n",
       "    </tr>\n",
       "  </tbody>\n",
       "</table>\n",
       "<p>307511 rows × 8 columns</p>\n",
       "</div>"
      ],
      "text/plain": [
       "        NAME_CONTRACT_TYPE_CASH_LOANS  NAME_CONTRACT_TYPE_REVOLVING_LOANS  \\\n",
       "0                                   1                                   0   \n",
       "1                                   1                                   0   \n",
       "2                                   0                                   1   \n",
       "3                                   1                                   0   \n",
       "4                                   1                                   0   \n",
       "...                               ...                                 ...   \n",
       "307506                              1                                   0   \n",
       "307507                              1                                   0   \n",
       "307508                              1                                   0   \n",
       "307509                              1                                   0   \n",
       "307510                              1                                   0   \n",
       "\n",
       "        FLAG_OWN_CAR_N  FLAG_OWN_CAR_Y  FLAG_OWN_REALITY_N  \\\n",
       "0                    1               0                   0   \n",
       "1                    1               0                   1   \n",
       "2                    0               1                   0   \n",
       "3                    1               0                   0   \n",
       "4                    1               0                   0   \n",
       "...                ...             ...                 ...   \n",
       "307506               1               0                   1   \n",
       "307507               1               0                   0   \n",
       "307508               1               0                   0   \n",
       "307509               1               0                   0   \n",
       "307510               1               0                   1   \n",
       "\n",
       "        FLAG_OWN_REALITY_Y  EMERGENCYSTATE_MODE_N  EMERGENCYSTATE_MODE_Y  \n",
       "0                        1                      1                      0  \n",
       "1                        0                      1                      0  \n",
       "2                        1                      0                      0  \n",
       "3                        1                      0                      0  \n",
       "4                        1                      0                      0  \n",
       "...                    ...                    ...                    ...  \n",
       "307506                   0                      1                      0  \n",
       "307507                   1                      1                      0  \n",
       "307508                   1                      1                      0  \n",
       "307509                   1                      1                      0  \n",
       "307510                   0                      1                      0  \n",
       "\n",
       "[307511 rows x 8 columns]"
      ]
     },
     "execution_count": 304,
     "metadata": {},
     "output_type": "execute_result"
    }
   ],
   "source": [
    "one_hot_encode_train.columns = ['NAME_CONTRACT_TYPE_CASH_LOANS', 'NAME_CONTRACT_TYPE_REVOLVING_LOANS',\n",
    "                                'FLAG_OWN_CAR_N', 'FLAG_OWN_CAR_Y',\n",
    "                               'FLAG_OWN_REALITY_N', 'FLAG_OWN_REALITY_Y',\n",
    "                               'EMERGENCYSTATE_MODE_N', 'EMERGENCYSTATE_MODE_Y']\n",
    "one_hot_encode_train"
   ]
  },
  {
   "cell_type": "code",
   "execution_count": 308,
   "id": "9f75485b",
   "metadata": {
    "ExecuteTime": {
     "end_time": "2022-01-08T11:16:20.903749Z",
     "start_time": "2022-01-08T11:16:20.860715Z"
    }
   },
   "outputs": [
    {
     "data": {
      "text/plain": [
       "NAME_CONTRACT_TYPE             True\n",
       "CODE_GENDER                    True\n",
       "FLAG_OWN_CAR                   True\n",
       "FLAG_OWN_REALTY                True\n",
       "NAME_TYPE_SUITE               False\n",
       "NAME_INCOME_TYPE              False\n",
       "NAME_EDUCATION_TYPE           False\n",
       "NAME_FAMILY_STATUS            False\n",
       "NAME_HOUSING_TYPE             False\n",
       "OCCUPATION_TYPE               False\n",
       "WEEKDAY_APPR_PROCESS_START    False\n",
       "ORGANIZATION_TYPE             False\n",
       "FONDKAPREMONT_MODE            False\n",
       "HOUSETYPE_MODE                False\n",
       "WALLSMATERIAL_MODE            False\n",
       "EMERGENCYSTATE_MODE            True\n",
       "dtype: bool"
      ]
     },
     "execution_count": 308,
     "metadata": {},
     "output_type": "execute_result"
    }
   ],
   "source": [
    "raw_test.select_dtypes('object').nunique()==2"
   ]
  },
  {
   "cell_type": "code",
   "execution_count": 309,
   "id": "e33aef07",
   "metadata": {
    "ExecuteTime": {
     "end_time": "2022-01-08T11:18:09.465654Z",
     "start_time": "2022-01-08T11:18:09.457647Z"
    },
    "scrolled": true
   },
   "outputs": [
    {
     "data": {
      "text/html": [
       "<div>\n",
       "<style scoped>\n",
       "    .dataframe tbody tr th:only-of-type {\n",
       "        vertical-align: middle;\n",
       "    }\n",
       "\n",
       "    .dataframe tbody tr th {\n",
       "        vertical-align: top;\n",
       "    }\n",
       "\n",
       "    .dataframe thead th {\n",
       "        text-align: right;\n",
       "    }\n",
       "</style>\n",
       "<table border=\"1\" class=\"dataframe\">\n",
       "  <thead>\n",
       "    <tr style=\"text-align: right;\">\n",
       "      <th></th>\n",
       "      <th>NAME_CONTRACT_TYPE_CASH_LOANS</th>\n",
       "      <th>NAME_CONTRACT_TYPE_REVOLVING_LOANS</th>\n",
       "      <th>CODE_GENDER_F</th>\n",
       "      <th>CODE_GENDER_M</th>\n",
       "      <th>FLAG_OWN_CAR_N</th>\n",
       "      <th>FLAG_OWN_CAR_Y</th>\n",
       "      <th>FLAG_OWN_REALITY_N</th>\n",
       "      <th>FLAG_OWN_REALITY_Y</th>\n",
       "      <th>EMERGENCYSTATE_MODE_N</th>\n",
       "      <th>EMERGENCYSTATE_MODE_Y</th>\n",
       "    </tr>\n",
       "  </thead>\n",
       "  <tbody>\n",
       "    <tr>\n",
       "      <th>0</th>\n",
       "      <td>1</td>\n",
       "      <td>0</td>\n",
       "      <td>1</td>\n",
       "      <td>0</td>\n",
       "      <td>1</td>\n",
       "      <td>0</td>\n",
       "      <td>0</td>\n",
       "      <td>1</td>\n",
       "      <td>1</td>\n",
       "      <td>0</td>\n",
       "    </tr>\n",
       "    <tr>\n",
       "      <th>1</th>\n",
       "      <td>1</td>\n",
       "      <td>0</td>\n",
       "      <td>0</td>\n",
       "      <td>1</td>\n",
       "      <td>1</td>\n",
       "      <td>0</td>\n",
       "      <td>0</td>\n",
       "      <td>1</td>\n",
       "      <td>0</td>\n",
       "      <td>0</td>\n",
       "    </tr>\n",
       "    <tr>\n",
       "      <th>2</th>\n",
       "      <td>1</td>\n",
       "      <td>0</td>\n",
       "      <td>0</td>\n",
       "      <td>1</td>\n",
       "      <td>0</td>\n",
       "      <td>1</td>\n",
       "      <td>0</td>\n",
       "      <td>1</td>\n",
       "      <td>0</td>\n",
       "      <td>0</td>\n",
       "    </tr>\n",
       "    <tr>\n",
       "      <th>3</th>\n",
       "      <td>1</td>\n",
       "      <td>0</td>\n",
       "      <td>1</td>\n",
       "      <td>0</td>\n",
       "      <td>1</td>\n",
       "      <td>0</td>\n",
       "      <td>0</td>\n",
       "      <td>1</td>\n",
       "      <td>1</td>\n",
       "      <td>0</td>\n",
       "    </tr>\n",
       "    <tr>\n",
       "      <th>4</th>\n",
       "      <td>1</td>\n",
       "      <td>0</td>\n",
       "      <td>0</td>\n",
       "      <td>1</td>\n",
       "      <td>0</td>\n",
       "      <td>1</td>\n",
       "      <td>1</td>\n",
       "      <td>0</td>\n",
       "      <td>0</td>\n",
       "      <td>0</td>\n",
       "    </tr>\n",
       "    <tr>\n",
       "      <th>...</th>\n",
       "      <td>...</td>\n",
       "      <td>...</td>\n",
       "      <td>...</td>\n",
       "      <td>...</td>\n",
       "      <td>...</td>\n",
       "      <td>...</td>\n",
       "      <td>...</td>\n",
       "      <td>...</td>\n",
       "      <td>...</td>\n",
       "      <td>...</td>\n",
       "    </tr>\n",
       "    <tr>\n",
       "      <th>48739</th>\n",
       "      <td>1</td>\n",
       "      <td>0</td>\n",
       "      <td>1</td>\n",
       "      <td>0</td>\n",
       "      <td>1</td>\n",
       "      <td>0</td>\n",
       "      <td>0</td>\n",
       "      <td>1</td>\n",
       "      <td>0</td>\n",
       "      <td>0</td>\n",
       "    </tr>\n",
       "    <tr>\n",
       "      <th>48740</th>\n",
       "      <td>1</td>\n",
       "      <td>0</td>\n",
       "      <td>1</td>\n",
       "      <td>0</td>\n",
       "      <td>1</td>\n",
       "      <td>0</td>\n",
       "      <td>1</td>\n",
       "      <td>0</td>\n",
       "      <td>0</td>\n",
       "      <td>0</td>\n",
       "    </tr>\n",
       "    <tr>\n",
       "      <th>48741</th>\n",
       "      <td>1</td>\n",
       "      <td>0</td>\n",
       "      <td>1</td>\n",
       "      <td>0</td>\n",
       "      <td>0</td>\n",
       "      <td>1</td>\n",
       "      <td>0</td>\n",
       "      <td>1</td>\n",
       "      <td>1</td>\n",
       "      <td>0</td>\n",
       "    </tr>\n",
       "    <tr>\n",
       "      <th>48742</th>\n",
       "      <td>1</td>\n",
       "      <td>0</td>\n",
       "      <td>0</td>\n",
       "      <td>1</td>\n",
       "      <td>1</td>\n",
       "      <td>0</td>\n",
       "      <td>1</td>\n",
       "      <td>0</td>\n",
       "      <td>1</td>\n",
       "      <td>0</td>\n",
       "    </tr>\n",
       "    <tr>\n",
       "      <th>48743</th>\n",
       "      <td>1</td>\n",
       "      <td>0</td>\n",
       "      <td>1</td>\n",
       "      <td>0</td>\n",
       "      <td>0</td>\n",
       "      <td>1</td>\n",
       "      <td>1</td>\n",
       "      <td>0</td>\n",
       "      <td>0</td>\n",
       "      <td>0</td>\n",
       "    </tr>\n",
       "  </tbody>\n",
       "</table>\n",
       "<p>48744 rows × 10 columns</p>\n",
       "</div>"
      ],
      "text/plain": [
       "       NAME_CONTRACT_TYPE_CASH_LOANS  NAME_CONTRACT_TYPE_REVOLVING_LOANS  \\\n",
       "0                                  1                                   0   \n",
       "1                                  1                                   0   \n",
       "2                                  1                                   0   \n",
       "3                                  1                                   0   \n",
       "4                                  1                                   0   \n",
       "...                              ...                                 ...   \n",
       "48739                              1                                   0   \n",
       "48740                              1                                   0   \n",
       "48741                              1                                   0   \n",
       "48742                              1                                   0   \n",
       "48743                              1                                   0   \n",
       "\n",
       "       CODE_GENDER_F  CODE_GENDER_M  FLAG_OWN_CAR_N  FLAG_OWN_CAR_Y  \\\n",
       "0                  1              0               1               0   \n",
       "1                  0              1               1               0   \n",
       "2                  0              1               0               1   \n",
       "3                  1              0               1               0   \n",
       "4                  0              1               0               1   \n",
       "...              ...            ...             ...             ...   \n",
       "48739              1              0               1               0   \n",
       "48740              1              0               1               0   \n",
       "48741              1              0               0               1   \n",
       "48742              0              1               1               0   \n",
       "48743              1              0               0               1   \n",
       "\n",
       "       FLAG_OWN_REALITY_N  FLAG_OWN_REALITY_Y  EMERGENCYSTATE_MODE_N  \\\n",
       "0                       0                   1                      1   \n",
       "1                       0                   1                      0   \n",
       "2                       0                   1                      0   \n",
       "3                       0                   1                      1   \n",
       "4                       1                   0                      0   \n",
       "...                   ...                 ...                    ...   \n",
       "48739                   0                   1                      0   \n",
       "48740                   1                   0                      0   \n",
       "48741                   0                   1                      1   \n",
       "48742                   1                   0                      1   \n",
       "48743                   1                   0                      0   \n",
       "\n",
       "       EMERGENCYSTATE_MODE_Y  \n",
       "0                          0  \n",
       "1                          0  \n",
       "2                          0  \n",
       "3                          0  \n",
       "4                          0  \n",
       "...                      ...  \n",
       "48739                      0  \n",
       "48740                      0  \n",
       "48741                      0  \n",
       "48742                      0  \n",
       "48743                      0  \n",
       "\n",
       "[48744 rows x 10 columns]"
      ]
     },
     "execution_count": 309,
     "metadata": {},
     "output_type": "execute_result"
    }
   ],
   "source": [
    "one_hot_encode_test.columns = ['NAME_CONTRACT_TYPE_CASH_LOANS', 'NAME_CONTRACT_TYPE_REVOLVING_LOANS',\n",
    "                              'CODE_GENDER_F', 'CODE_GENDER_M',\n",
    "                              'FLAG_OWN_CAR_N', 'FLAG_OWN_CAR_Y',\n",
    "                              'FLAG_OWN_REALITY_N', 'FLAG_OWN_REALITY_Y',\n",
    "                              'EMERGENCYSTATE_MODE_N', 'EMERGENCYSTATE_MODE_Y']\n",
    "one_hot_encode_test"
   ]
  },
  {
   "cell_type": "code",
   "execution_count": 310,
   "id": "2b8f567a",
   "metadata": {
    "ExecuteTime": {
     "end_time": "2022-01-08T11:20:11.538196Z",
     "start_time": "2022-01-08T11:20:10.460984Z"
    }
   },
   "outputs": [],
   "source": [
    "train = pd.concat([poly_train, label_encode_train, one_hot_encode_train], axis=1)"
   ]
  },
  {
   "cell_type": "code",
   "execution_count": 312,
   "id": "047d4c7b",
   "metadata": {
    "ExecuteTime": {
     "end_time": "2022-01-08T11:20:58.588522Z",
     "start_time": "2022-01-08T11:20:58.396424Z"
    }
   },
   "outputs": [],
   "source": [
    "test = pd.concat([poly_test, label_encode_test, one_hot_encode_test], axis=1)"
   ]
  }
 ],
 "metadata": {
  "hide_input": false,
  "kernelspec": {
   "display_name": "Python 3 (ipykernel)",
   "language": "python",
   "name": "python3"
  },
  "language_info": {
   "codemirror_mode": {
    "name": "ipython",
    "version": 3
   },
   "file_extension": ".py",
   "mimetype": "text/x-python",
   "name": "python",
   "nbconvert_exporter": "python",
   "pygments_lexer": "ipython3",
   "version": "3.9.7"
  },
  "toc": {
   "base_numbering": 1,
   "nav_menu": {},
   "number_sections": true,
   "sideBar": true,
   "skip_h1_title": false,
   "title_cell": "Table of Contents",
   "title_sidebar": "Contents",
   "toc_cell": false,
   "toc_position": {},
   "toc_section_display": true,
   "toc_window_display": false
  },
  "varInspector": {
   "cols": {
    "lenName": 16,
    "lenType": 16,
    "lenVar": 40
   },
   "kernels_config": {
    "python": {
     "delete_cmd_postfix": "",
     "delete_cmd_prefix": "del ",
     "library": "var_list.py",
     "varRefreshCmd": "print(var_dic_list())"
    },
    "r": {
     "delete_cmd_postfix": ") ",
     "delete_cmd_prefix": "rm(",
     "library": "var_list.r",
     "varRefreshCmd": "cat(var_dic_list()) "
    }
   },
   "types_to_exclude": [
    "module",
    "function",
    "builtin_function_or_method",
    "instance",
    "_Feature"
   ],
   "window_display": false
  }
 },
 "nbformat": 4,
 "nbformat_minor": 5
}
