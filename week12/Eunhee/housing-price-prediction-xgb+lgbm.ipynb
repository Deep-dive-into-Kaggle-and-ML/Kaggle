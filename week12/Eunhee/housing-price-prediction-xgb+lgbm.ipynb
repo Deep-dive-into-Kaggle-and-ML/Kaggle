{
 "cells": [
  {
   "cell_type": "code",
   "execution_count": 1,
   "metadata": {
    "collapsed": true
   },
   "outputs": [
    {
     "name": "stderr",
     "output_type": "stream",
     "text": [
      "C:\\Users\\USER\\anaconda3\\envs\\dacon-housing-price\\lib\\site-packages\\xgboost\\compat.py:36: FutureWarning: pandas.Int64Index is deprecated and will be removed from pandas in a future version. Use pandas.Index with the appropriate dtype instead.\n",
      "  from pandas import MultiIndex, Int64Index\n"
     ]
    }
   ],
   "source": [
    "import os\n",
    "import pandas as pd\n",
    "import numpy as np\n",
    "import seaborn as sns\n",
    "import matplotlib.pyplot as plt\n",
    "import optuna\n",
    "from optuna import Trial, visualization\n",
    "from optuna.samplers import TPESampler\n",
    "from sklearn.model_selection import train_test_split\n",
    "from sklearn.ensemble import RandomForestRegressor\n",
    "from sklearn.metrics import mean_squared_error\n",
    "import xgboost as xgb\n",
    "from xgboost import XGBRegressor\n",
    "from lightgbm import LGBMRegressor\n",
    "from sklearn.preprocessing import LabelEncoder\n",
    "from sklearn.preprocessing import PolynomialFeatures\n",
    "import warnings\n",
    "warnings.filterwarnings('ignore')"
   ]
  },
  {
   "cell_type": "code",
   "execution_count": 2,
   "outputs": [
    {
     "name": "stdout",
     "output_type": "stream",
     "text": [
      "sample_submission.csv\n",
      "test.csv\n",
      "train.csv\n"
     ]
    }
   ],
   "source": [
    "path = './input'\n",
    "dirs = os.listdir(path)\n",
    "for file in dirs:\n",
    "    print(file)"
   ],
   "metadata": {
    "collapsed": false,
    "pycharm": {
     "name": "#%%\n"
    }
   }
  },
  {
   "cell_type": "code",
   "execution_count": 3,
   "outputs": [],
   "source": [
    "# Import Files\n",
    "train = pd.read_csv('./input/train.csv')\n",
    "test = pd.read_csv('./input/test.csv')"
   ],
   "metadata": {
    "collapsed": false,
    "pycharm": {
     "name": "#%%\n"
    }
   }
  },
  {
   "cell_type": "markdown",
   "source": [
    "# Data Cleaning"
   ],
   "metadata": {
    "collapsed": false,
    "pycharm": {
     "name": "#%% md\n"
    }
   }
  },
  {
   "cell_type": "code",
   "execution_count": 4,
   "outputs": [
    {
     "data": {
      "text/plain": "   id  Overall Qual  Gr Liv Area Exter Qual  Garage Cars  Garage Area  \\\n0   1            10         2392         Ex            3          968   \n1   2             7         1352         Gd            2          466   \n2   3             5          900         TA            1          288   \n3   4             5         1174         TA            2          576   \n4   5             7         1958         Gd            3          936   \n\n  Kitchen Qual  Total Bsmt SF  1st Flr SF Bsmt Qual  Full Bath  Year Built  \\\n0           Ex           2392        2392        Ex          2        2003   \n1           Gd           1352        1352        Ex          2        2006   \n2           TA            864         900        TA          1        1967   \n3           Gd            680         680        TA          1        1900   \n4           Gd           1026        1026        Gd          2        2005   \n\n   Year Remod/Add  Garage Yr Blt  target  \n0            2003           2003  386250  \n1            2007           2006  194000  \n2            1967           1967  123000  \n3            2006           2000  135000  \n4            2005           2005  250000  ",
      "text/html": "<div>\n<style scoped>\n    .dataframe tbody tr th:only-of-type {\n        vertical-align: middle;\n    }\n\n    .dataframe tbody tr th {\n        vertical-align: top;\n    }\n\n    .dataframe thead th {\n        text-align: right;\n    }\n</style>\n<table border=\"1\" class=\"dataframe\">\n  <thead>\n    <tr style=\"text-align: right;\">\n      <th></th>\n      <th>id</th>\n      <th>Overall Qual</th>\n      <th>Gr Liv Area</th>\n      <th>Exter Qual</th>\n      <th>Garage Cars</th>\n      <th>Garage Area</th>\n      <th>Kitchen Qual</th>\n      <th>Total Bsmt SF</th>\n      <th>1st Flr SF</th>\n      <th>Bsmt Qual</th>\n      <th>Full Bath</th>\n      <th>Year Built</th>\n      <th>Year Remod/Add</th>\n      <th>Garage Yr Blt</th>\n      <th>target</th>\n    </tr>\n  </thead>\n  <tbody>\n    <tr>\n      <th>0</th>\n      <td>1</td>\n      <td>10</td>\n      <td>2392</td>\n      <td>Ex</td>\n      <td>3</td>\n      <td>968</td>\n      <td>Ex</td>\n      <td>2392</td>\n      <td>2392</td>\n      <td>Ex</td>\n      <td>2</td>\n      <td>2003</td>\n      <td>2003</td>\n      <td>2003</td>\n      <td>386250</td>\n    </tr>\n    <tr>\n      <th>1</th>\n      <td>2</td>\n      <td>7</td>\n      <td>1352</td>\n      <td>Gd</td>\n      <td>2</td>\n      <td>466</td>\n      <td>Gd</td>\n      <td>1352</td>\n      <td>1352</td>\n      <td>Ex</td>\n      <td>2</td>\n      <td>2006</td>\n      <td>2007</td>\n      <td>2006</td>\n      <td>194000</td>\n    </tr>\n    <tr>\n      <th>2</th>\n      <td>3</td>\n      <td>5</td>\n      <td>900</td>\n      <td>TA</td>\n      <td>1</td>\n      <td>288</td>\n      <td>TA</td>\n      <td>864</td>\n      <td>900</td>\n      <td>TA</td>\n      <td>1</td>\n      <td>1967</td>\n      <td>1967</td>\n      <td>1967</td>\n      <td>123000</td>\n    </tr>\n    <tr>\n      <th>3</th>\n      <td>4</td>\n      <td>5</td>\n      <td>1174</td>\n      <td>TA</td>\n      <td>2</td>\n      <td>576</td>\n      <td>Gd</td>\n      <td>680</td>\n      <td>680</td>\n      <td>TA</td>\n      <td>1</td>\n      <td>1900</td>\n      <td>2006</td>\n      <td>2000</td>\n      <td>135000</td>\n    </tr>\n    <tr>\n      <th>4</th>\n      <td>5</td>\n      <td>7</td>\n      <td>1958</td>\n      <td>Gd</td>\n      <td>3</td>\n      <td>936</td>\n      <td>Gd</td>\n      <td>1026</td>\n      <td>1026</td>\n      <td>Gd</td>\n      <td>2</td>\n      <td>2005</td>\n      <td>2005</td>\n      <td>2005</td>\n      <td>250000</td>\n    </tr>\n  </tbody>\n</table>\n</div>"
     },
     "execution_count": 4,
     "metadata": {},
     "output_type": "execute_result"
    }
   ],
   "source": [
    "train.head()"
   ],
   "metadata": {
    "collapsed": false,
    "pycharm": {
     "name": "#%%\n"
    }
   }
  },
  {
   "cell_type": "code",
   "execution_count": 5,
   "outputs": [
    {
     "name": "stdout",
     "output_type": "stream",
     "text": [
      "<class 'pandas.core.frame.DataFrame'>\n",
      "RangeIndex: 1350 entries, 0 to 1349\n",
      "Data columns (total 14 columns):\n",
      " #   Column          Non-Null Count  Dtype \n",
      "---  ------          --------------  ----- \n",
      " 0   Overall Qual    1350 non-null   int64 \n",
      " 1   Gr Liv Area     1350 non-null   int64 \n",
      " 2   Exter Qual      1350 non-null   object\n",
      " 3   Garage Cars     1350 non-null   int64 \n",
      " 4   Garage Area     1350 non-null   int64 \n",
      " 5   Kitchen Qual    1350 non-null   object\n",
      " 6   Total Bsmt SF   1350 non-null   int64 \n",
      " 7   1st Flr SF      1350 non-null   int64 \n",
      " 8   Bsmt Qual       1350 non-null   object\n",
      " 9   Full Bath       1350 non-null   int64 \n",
      " 10  Year Built      1350 non-null   int64 \n",
      " 11  Year Remod/Add  1350 non-null   int64 \n",
      " 12  Garage Yr Blt   1350 non-null   int64 \n",
      " 13  target          1350 non-null   int64 \n",
      "dtypes: int64(11), object(3)\n",
      "memory usage: 147.8+ KB\n"
     ]
    }
   ],
   "source": [
    "train = train.drop(['id'], axis=1)\n",
    "train.info()"
   ],
   "metadata": {
    "collapsed": false,
    "pycharm": {
     "name": "#%%\n"
    }
   }
  },
  {
   "cell_type": "markdown",
   "source": [
    "- `id` : 데이터 고유 id\n",
    "- `OverallQual` : 전반적 재료와 마감 품질\n",
    "- `YearBuilt` : 완공 연도\n",
    "- `YearRemodAdd` : 리모델링 연도\n",
    "- `ExterQual` : 외관 재료 품질\n",
    "- `BsmtQual` : 지하실 높이\n",
    "- `TotalBsmtSF` : 지하실 면적\n",
    "- `1stFlrSF` : 1층 면적\n",
    "- `GrLivArea` : 지상층 생활 면적\n",
    "- `FullBath` : 지상층 화장실 개수\n",
    "- `KitchenQual` : 부억 품질\n",
    "- `GarageYrBlt` : 차고 완공 연도\n",
    "- `GarageCars`: 차고 자리 개수\n",
    "- `GarageArea`: 차고 면적\n",
    "- `target` : 집값(달러 단위)"
   ],
   "metadata": {
    "collapsed": false,
    "pycharm": {
     "name": "#%% md\n"
    }
   }
  },
  {
   "cell_type": "code",
   "execution_count": 6,
   "outputs": [
    {
     "data": {
      "text/plain": "Overall Qual      0\nGr Liv Area       0\nExter Qual        0\nGarage Cars       0\nGarage Area       0\nKitchen Qual      0\nTotal Bsmt SF     0\n1st Flr SF        0\nBsmt Qual         0\nFull Bath         0\nYear Built        0\nYear Remod/Add    0\nGarage Yr Blt     0\ntarget            0\ndtype: int64"
     },
     "execution_count": 6,
     "metadata": {},
     "output_type": "execute_result"
    }
   ],
   "source": [
    "train.isnull().sum()"
   ],
   "metadata": {
    "collapsed": false,
    "pycharm": {
     "name": "#%%\n"
    }
   }
  },
  {
   "cell_type": "code",
   "execution_count": 7,
   "outputs": [
    {
     "data": {
      "text/plain": "id                0\nOverall Qual      0\nGr Liv Area       0\nExter Qual        0\nGarage Cars       0\nGarage Area       0\nKitchen Qual      0\nTotal Bsmt SF     0\n1st Flr SF        0\nBsmt Qual         0\nFull Bath         0\nYear Built        0\nYear Remod/Add    0\nGarage Yr Blt     0\ndtype: int64"
     },
     "execution_count": 7,
     "metadata": {},
     "output_type": "execute_result"
    }
   ],
   "source": [
    "test.isnull().sum()"
   ],
   "metadata": {
    "collapsed": false,
    "pycharm": {
     "name": "#%%\n"
    }
   }
  },
  {
   "cell_type": "markdown",
   "source": [
    "train data 와 test data 모두에 결측치가 존재하지 않는다."
   ],
   "metadata": {
    "collapsed": false,
    "pycharm": {
     "name": "#%% md\n"
    }
   }
  },
  {
   "cell_type": "code",
   "execution_count": 8,
   "outputs": [],
   "source": [
    "continuous_features = list(train.columns[train.dtypes=='int64'])\n",
    "categorical_features = list(train.columns[train.dtypes=='object'])"
   ],
   "metadata": {
    "collapsed": false,
    "pycharm": {
     "name": "#%%\n"
    }
   }
  },
  {
   "cell_type": "code",
   "execution_count": 9,
   "outputs": [
    {
     "data": {
      "text/plain": "<Figure size 1152x864 with 11 Axes>",
      "image/png": "[encoded data removed]"
     },
     "metadata": {
      "needs_background": "light"
     },
     "output_type": "display_data"
    }
   ],
   "source": [
    "## Distribution of other continuous variables\n",
    "plt.figure(figsize=(16,12))\n",
    "\n",
    "for i, col in enumerate(continuous_features):\n",
    "    ax = plt.subplot(6,2,i+1)\n",
    "    sns.kdeplot(train[col])\n",
    "    ax.grid(axis='y', linestyle='-', alpha=0.4)\n",
    "    plt.tight_layout()"
   ],
   "metadata": {
    "collapsed": false,
    "pycharm": {
     "name": "#%%\n"
    }
   }
  },
  {
   "cell_type": "markdown",
   "source": [
    "면적과 관련된 지표들은 일관되게 좌측으로 치우쳐 있다.\n",
    "- `TotalBsmtSF`(지하실 면적) : 좌측으로 치우쳐 있음\n",
    "- `1stFlrSF`(1층 면적) : 좌측으로 치우쳐 있음\n",
    "- `GrLivArea`(지상층 생활 면적) : 좌측으로 치우쳐 있음\n",
    "- `GarageArea`(차고 면적) : 좌측으로 치우쳐 있음"
   ],
   "metadata": {
    "collapsed": false,
    "pycharm": {
     "name": "#%% md\n"
    }
   }
  },
  {
   "cell_type": "code",
   "execution_count": 10,
   "outputs": [
    {
     "data": {
      "text/plain": "<Figure size 576x432 with 1 Axes>",
      "image/png": "[encoded data removed]"
     },
     "metadata": {
      "needs_background": "light"
     },
     "output_type": "display_data"
    }
   ],
   "source": [
    "## Distribution of target variable\n",
    "plt.figure(figsize=(8,6))\n",
    "sns.kdeplot(train['target'])\n",
    "plt.title('Target Distribution', fontsize=15)\n",
    "plt.xlabel('Target($)', fontsize=12)\n",
    "plt.ylabel('Density', fontsize=12)\n",
    "plt.grid(axis='y', linestyle='-', alpha=0.4)"
   ],
   "metadata": {
    "collapsed": false,
    "pycharm": {
     "name": "#%%\n"
    }
   }
  },
  {
   "cell_type": "markdown",
   "source": [
    "target 변수가 좌측으로 치우쳐져 있으므로 log scale 로 변환한 다음 분석을 진행한다."
   ],
   "metadata": {
    "collapsed": false,
    "pycharm": {
     "name": "#%% md\n"
    }
   }
  },
  {
   "cell_type": "code",
   "execution_count": 11,
   "outputs": [
    {
     "data": {
      "text/plain": "<Figure size 576x432 with 1 Axes>",
      "image/png": "[encoded data removed]"
     },
     "metadata": {
      "needs_background": "light"
     },
     "output_type": "display_data"
    }
   ],
   "source": [
    "plt.figure(figsize=(8,6))\n",
    "sns.kdeplot(np.log1p(train['target']))\n",
    "plt.title('Target Distribution', fontsize=15)\n",
    "plt.xlabel('Target($), log transformation', fontsize=12)\n",
    "plt.ylabel('Density', fontsize=12)\n",
    "plt.grid(axis='y', linestyle='-', alpha=0.4)"
   ],
   "metadata": {
    "collapsed": false,
    "pycharm": {
     "name": "#%%\n"
    }
   }
  },
  {
   "cell_type": "code",
   "execution_count": 12,
   "outputs": [],
   "source": [
    "train['target'] = np.log1p(train['target'])"
   ],
   "metadata": {
    "collapsed": false,
    "pycharm": {
     "name": "#%%\n"
    }
   }
  },
  {
   "cell_type": "code",
   "execution_count": 13,
   "outputs": [
    {
     "name": "stdout",
     "output_type": "stream",
     "text": [
      "Number of unique categories of Exter Qual : 4\n",
      "Number of unique categories of Kitchen Qual : 4\n",
      "Number of unique categories of Bsmt Qual : 5\n"
     ]
    }
   ],
   "source": [
    "## Number of unique categories of categorical variables\n",
    "for col in categorical_features:\n",
    "    print('Number of unique categories of %s : %s'%(col, train[col].value_counts().nunique()))"
   ],
   "metadata": {
    "collapsed": false,
    "pycharm": {
     "name": "#%%\n"
    }
   }
  },
  {
   "cell_type": "code",
   "execution_count": 14,
   "outputs": [
    {
     "data": {
      "text/plain": "<Figure size 432x288 with 3 Axes>",
      "image/png": "[encoded data removed]"
     },
     "metadata": {
      "needs_background": "light"
     },
     "output_type": "display_data"
    }
   ],
   "source": [
    "for i, col in enumerate(categorical_features):\n",
    "    ax = plt.subplot(3, 1, i+1)\n",
    "    plt.bar(list(train[col].value_counts().index), list(train[col].value_counts().values))\n",
    "    plt.title('Distribution of %s'%col)\n",
    "    plt.tight_layout()"
   ],
   "metadata": {
    "collapsed": false,
    "pycharm": {
     "name": "#%%\n"
    }
   }
  },
  {
   "cell_type": "markdown",
   "source": [
    "- `TA` : Typical/Average\n",
    "- `Gd` : Good\n",
    "- `Ex` : Excellent\n",
    "- `Fa` : Fair\n",
    "- `Po` : Poor\n",
    "\n",
    "Quality 를 나타내는 지표들은 보통~좋음 수준에 몰려있는 특징이 있다."
   ],
   "metadata": {
    "collapsed": false,
    "pycharm": {
     "name": "#%% md\n"
    }
   }
  },
  {
   "cell_type": "markdown",
   "source": [
    "Quality 를 나타내는 지표들은 애초에 ordinal 한 특성을 가지고 있는 qualitative variable 이므로 one-hot encoding 대신에 label encoding 을 해 주어도 된다."
   ],
   "metadata": {
    "collapsed": false,
    "pycharm": {
     "name": "#%% md\n"
    }
   }
  },
  {
   "cell_type": "code",
   "execution_count": 15,
   "outputs": [],
   "source": [
    "def label_encoder(data):\n",
    "    le = LabelEncoder()\n",
    "    le_count = 0\n",
    "    for column in data:\n",
    "        if data[column].dtype == 'object':\n",
    "            le.fit(data[column])\n",
    "            data[column] = le.transform(data[column])\n",
    "            le_count += 1\n",
    "    print('%d columns were label encoded'%le_count)\n",
    "    return data"
   ],
   "metadata": {
    "collapsed": false,
    "pycharm": {
     "name": "#%%\n"
    }
   }
  },
  {
   "cell_type": "code",
   "execution_count": 16,
   "outputs": [
    {
     "name": "stdout",
     "output_type": "stream",
     "text": [
      "3 columns were label encoded\n"
     ]
    },
    {
     "data": {
      "text/plain": "      Overall Qual  Gr Liv Area  Exter Qual  Garage Cars  Garage Area  \\\n0               10         2392           0            3          968   \n1                7         1352           2            2          466   \n2                5          900           3            1          288   \n3                5         1174           3            2          576   \n4                7         1958           2            3          936   \n...            ...          ...         ...          ...          ...   \n1345             6         1756           2            2          422   \n1346             9         2748           2            3          850   \n1347             5         1214           3            1          318   \n1348             5          894           3            2          440   \n1349             5          907           3            1          343   \n\n      Kitchen Qual  Total Bsmt SF  1st Flr SF  Bsmt Qual  Full Bath  \\\n0                0           2392        2392          0          2   \n1                2           1352        1352          0          2   \n2                3            864         900          4          1   \n3                2            680         680          4          1   \n4                2           1026        1026          2          2   \n...            ...            ...         ...        ...        ...   \n1345             3            872         888          0          2   \n1346             0           1850        1850          0          2   \n1347             3           1214        1214          4          2   \n1348             3            864         894          2          1   \n1349             3            907         907          2          1   \n\n      Year Built  Year Remod/Add  Garage Yr Blt     target  \n0           2003            2003           2003  12.864243  \n1           2006            2007           2006  12.175619  \n2           1967            1967           1967  11.719948  \n3           1900            2006           2000  11.813037  \n4           2005            2005           2005  12.429220  \n...          ...             ...            ...        ...  \n1345        1996            1997           1996  12.225880  \n1346        2006            2006           2006  12.873905  \n1347        1967            1967           1967  11.870607  \n1348        1974            1974           1974  11.782960  \n1349        1978            1978           1978  11.849405  \n\n[1350 rows x 14 columns]",
      "text/html": "<div>\n<style scoped>\n    .dataframe tbody tr th:only-of-type {\n        vertical-align: middle;\n    }\n\n    .dataframe tbody tr th {\n        vertical-align: top;\n    }\n\n    .dataframe thead th {\n        text-align: right;\n    }\n</style>\n<table border=\"1\" class=\"dataframe\">\n  <thead>\n    <tr style=\"text-align: right;\">\n      <th></th>\n      <th>Overall Qual</th>\n      <th>Gr Liv Area</th>\n      <th>Exter Qual</th>\n      <th>Garage Cars</th>\n      <th>Garage Area</th>\n      <th>Kitchen Qual</th>\n      <th>Total Bsmt SF</th>\n      <th>1st Flr SF</th>\n      <th>Bsmt Qual</th>\n      <th>Full Bath</th>\n      <th>Year Built</th>\n      <th>Year Remod/Add</th>\n      <th>Garage Yr Blt</th>\n      <th>target</th>\n    </tr>\n  </thead>\n  <tbody>\n    <tr>\n      <th>0</th>\n      <td>10</td>\n      <td>2392</td>\n      <td>0</td>\n      <td>3</td>\n      <td>968</td>\n      <td>0</td>\n      <td>2392</td>\n      <td>2392</td>\n      <td>0</td>\n      <td>2</td>\n      <td>2003</td>\n      <td>2003</td>\n      <td>2003</td>\n      <td>12.864243</td>\n    </tr>\n    <tr>\n      <th>1</th>\n      <td>7</td>\n      <td>1352</td>\n      <td>2</td>\n      <td>2</td>\n      <td>466</td>\n      <td>2</td>\n      <td>1352</td>\n      <td>1352</td>\n      <td>0</td>\n      <td>2</td>\n      <td>2006</td>\n      <td>2007</td>\n      <td>2006</td>\n      <td>12.175619</td>\n    </tr>\n    <tr>\n      <th>2</th>\n      <td>5</td>\n      <td>900</td>\n      <td>3</td>\n      <td>1</td>\n      <td>288</td>\n      <td>3</td>\n      <td>864</td>\n      <td>900</td>\n      <td>4</td>\n      <td>1</td>\n      <td>1967</td>\n      <td>1967</td>\n      <td>1967</td>\n      <td>11.719948</td>\n    </tr>\n    <tr>\n      <th>3</th>\n      <td>5</td>\n      <td>1174</td>\n      <td>3</td>\n      <td>2</td>\n      <td>576</td>\n      <td>2</td>\n      <td>680</td>\n      <td>680</td>\n      <td>4</td>\n      <td>1</td>\n      <td>1900</td>\n      <td>2006</td>\n      <td>2000</td>\n      <td>11.813037</td>\n    </tr>\n    <tr>\n      <th>4</th>\n      <td>7</td>\n      <td>1958</td>\n      <td>2</td>\n      <td>3</td>\n      <td>936</td>\n      <td>2</td>\n      <td>1026</td>\n      <td>1026</td>\n      <td>2</td>\n      <td>2</td>\n      <td>2005</td>\n      <td>2005</td>\n      <td>2005</td>\n      <td>12.429220</td>\n    </tr>\n    <tr>\n      <th>...</th>\n      <td>...</td>\n      <td>...</td>\n      <td>...</td>\n      <td>...</td>\n      <td>...</td>\n      <td>...</td>\n      <td>...</td>\n      <td>...</td>\n      <td>...</td>\n      <td>...</td>\n      <td>...</td>\n      <td>...</td>\n      <td>...</td>\n      <td>...</td>\n    </tr>\n    <tr>\n      <th>1345</th>\n      <td>6</td>\n      <td>1756</td>\n      <td>2</td>\n      <td>2</td>\n      <td>422</td>\n      <td>3</td>\n      <td>872</td>\n      <td>888</td>\n      <td>0</td>\n      <td>2</td>\n      <td>1996</td>\n      <td>1997</td>\n      <td>1996</td>\n      <td>12.225880</td>\n    </tr>\n    <tr>\n      <th>1346</th>\n      <td>9</td>\n      <td>2748</td>\n      <td>2</td>\n      <td>3</td>\n      <td>850</td>\n      <td>0</td>\n      <td>1850</td>\n      <td>1850</td>\n      <td>0</td>\n      <td>2</td>\n      <td>2006</td>\n      <td>2006</td>\n      <td>2006</td>\n      <td>12.873905</td>\n    </tr>\n    <tr>\n      <th>1347</th>\n      <td>5</td>\n      <td>1214</td>\n      <td>3</td>\n      <td>1</td>\n      <td>318</td>\n      <td>3</td>\n      <td>1214</td>\n      <td>1214</td>\n      <td>4</td>\n      <td>2</td>\n      <td>1967</td>\n      <td>1967</td>\n      <td>1967</td>\n      <td>11.870607</td>\n    </tr>\n    <tr>\n      <th>1348</th>\n      <td>5</td>\n      <td>894</td>\n      <td>3</td>\n      <td>2</td>\n      <td>440</td>\n      <td>3</td>\n      <td>864</td>\n      <td>894</td>\n      <td>2</td>\n      <td>1</td>\n      <td>1974</td>\n      <td>1974</td>\n      <td>1974</td>\n      <td>11.782960</td>\n    </tr>\n    <tr>\n      <th>1349</th>\n      <td>5</td>\n      <td>907</td>\n      <td>3</td>\n      <td>1</td>\n      <td>343</td>\n      <td>3</td>\n      <td>907</td>\n      <td>907</td>\n      <td>2</td>\n      <td>1</td>\n      <td>1978</td>\n      <td>1978</td>\n      <td>1978</td>\n      <td>11.849405</td>\n    </tr>\n  </tbody>\n</table>\n<p>1350 rows × 14 columns</p>\n</div>"
     },
     "execution_count": 16,
     "metadata": {},
     "output_type": "execute_result"
    }
   ],
   "source": [
    "label_encoder(train)"
   ],
   "metadata": {
    "collapsed": false,
    "pycharm": {
     "name": "#%%\n"
    }
   }
  },
  {
   "cell_type": "code",
   "execution_count": 17,
   "outputs": [
    {
     "name": "stdout",
     "output_type": "stream",
     "text": [
      "<class 'pandas.core.frame.DataFrame'>\n",
      "RangeIndex: 1350 entries, 0 to 1349\n",
      "Data columns (total 14 columns):\n",
      " #   Column          Non-Null Count  Dtype  \n",
      "---  ------          --------------  -----  \n",
      " 0   Overall Qual    1350 non-null   int64  \n",
      " 1   Gr Liv Area     1350 non-null   int64  \n",
      " 2   Exter Qual      1350 non-null   int32  \n",
      " 3   Garage Cars     1350 non-null   int64  \n",
      " 4   Garage Area     1350 non-null   int64  \n",
      " 5   Kitchen Qual    1350 non-null   int32  \n",
      " 6   Total Bsmt SF   1350 non-null   int64  \n",
      " 7   1st Flr SF      1350 non-null   int64  \n",
      " 8   Bsmt Qual       1350 non-null   int32  \n",
      " 9   Full Bath       1350 non-null   int64  \n",
      " 10  Year Built      1350 non-null   int64  \n",
      " 11  Year Remod/Add  1350 non-null   int64  \n",
      " 12  Garage Yr Blt   1350 non-null   int64  \n",
      " 13  target          1350 non-null   float64\n",
      "dtypes: float64(1), int32(3), int64(10)\n",
      "memory usage: 132.0 KB\n"
     ]
    }
   ],
   "source": [
    "train.info()"
   ],
   "metadata": {
    "collapsed": false,
    "pycharm": {
     "name": "#%%\n"
    }
   }
  },
  {
   "cell_type": "code",
   "execution_count": 18,
   "outputs": [],
   "source": [
    "def corr_heatmap(data):\n",
    "    correlations = data[data.columns].corr()\n",
    "    cmap = sns.diverging_palette(50, 10, as_cmap=True)\n",
    "    plt.subplots(figsize=(10, 10))\n",
    "    sns.heatmap(correlations, cmap=cmap, vmax=1.0, center=0, fmt='.2f',\n",
    "                square=True, linewidth=.5, annot=True, cbar_kws={'shrink': .75})\n",
    "    plt.show()"
   ],
   "metadata": {
    "collapsed": false,
    "pycharm": {
     "name": "#%%\n"
    }
   }
  },
  {
   "cell_type": "code",
   "execution_count": 19,
   "outputs": [
    {
     "data": {
      "text/plain": "<Figure size 720x720 with 2 Axes>",
      "image/png": "[encoded data removed]"
     },
     "metadata": {
      "needs_background": "light"
     },
     "output_type": "display_data"
    }
   ],
   "source": [
    "corr_heatmap(train)"
   ],
   "metadata": {
    "collapsed": false,
    "pycharm": {
     "name": "#%%\n"
    }
   }
  },
  {
   "cell_type": "markdown",
   "source": [
    "`Target`이 가장 높은 상관을 보이는 변수는 `Overall Qual`로, 상관계수는 0.81이다."
   ],
   "metadata": {
    "collapsed": false,
    "pycharm": {
     "name": "#%% md\n"
    }
   }
  },
  {
   "cell_type": "markdown",
   "source": [
    "# Feature Engineering"
   ],
   "metadata": {
    "collapsed": false,
    "pycharm": {
     "name": "#%% md\n"
    }
   }
  },
  {
   "cell_type": "markdown",
   "source": [
    "## Polynomial features?"
   ],
   "metadata": {
    "collapsed": false,
    "pycharm": {
     "name": "#%% md\n"
    }
   }
  },
  {
   "cell_type": "code",
   "execution_count": 20,
   "outputs": [
    {
     "name": "stdout",
     "output_type": "stream",
     "text": [
      "Features shape : (1350, 5)\n"
     ]
    },
    {
     "data": {
      "text/plain": "PolynomialFeatures()"
     },
     "execution_count": 20,
     "metadata": {},
     "output_type": "execute_result"
    }
   ],
   "source": [
    "poly_cols = ['Overall Qual', 'Gr Liv Area', 'Total Bsmt SF', '1st Flr SF', 'Garage Area']\n",
    "poly_features = train[poly_cols]\n",
    "poly_target = train['target']\n",
    "print('Features shape :', poly_features.shape)\n",
    "poly_transformer = PolynomialFeatures(degree=2)\n",
    "poly_transformer.fit(poly_features)"
   ],
   "metadata": {
    "collapsed": false,
    "pycharm": {
     "name": "#%%\n"
    }
   }
  },
  {
   "cell_type": "code",
   "execution_count": 21,
   "outputs": [
    {
     "name": "stdout",
     "output_type": "stream",
     "text": [
      "Polynomial Features shape : (1350, 21)\n"
     ]
    }
   ],
   "source": [
    "poly_features = poly_transformer.transform(poly_features)\n",
    "print('Polynomial Features shape :', poly_features.shape)"
   ],
   "metadata": {
    "collapsed": false,
    "pycharm": {
     "name": "#%%\n"
    }
   }
  },
  {
   "cell_type": "code",
   "execution_count": 22,
   "outputs": [
    {
     "data": {
      "text/plain": "['1',\n 'Overall Qual',\n 'Gr Liv Area',\n 'Total Bsmt SF',\n '1st Flr SF',\n 'Garage Area',\n 'Overall Qual^2',\n 'Overall Qual Gr Liv Area',\n 'Overall Qual Total Bsmt SF',\n 'Overall Qual 1st Flr SF',\n 'Overall Qual Garage Area',\n 'Gr Liv Area^2',\n 'Gr Liv Area Total Bsmt SF',\n 'Gr Liv Area 1st Flr SF',\n 'Gr Liv Area Garage Area',\n 'Total Bsmt SF^2',\n 'Total Bsmt SF 1st Flr SF',\n 'Total Bsmt SF Garage Area',\n '1st Flr SF^2',\n '1st Flr SF Garage Area',\n 'Garage Area^2']"
     },
     "execution_count": 22,
     "metadata": {},
     "output_type": "execute_result"
    }
   ],
   "source": [
    "poly_transformer.get_feature_names(input_features=poly_cols)"
   ],
   "metadata": {
    "collapsed": false,
    "pycharm": {
     "name": "#%%\n"
    }
   }
  },
  {
   "cell_type": "code",
   "execution_count": 23,
   "outputs": [],
   "source": [
    "poly_features = pd.DataFrame(poly_features,\n",
    "                             columns=poly_transformer.get_feature_names(poly_cols))\n",
    "poly_features['target'] = poly_target"
   ],
   "metadata": {
    "collapsed": false,
    "pycharm": {
     "name": "#%%\n"
    }
   }
  },
  {
   "cell_type": "code",
   "execution_count": 24,
   "outputs": [
    {
     "data": {
      "text/plain": "target                        1.000000\nOverall Qual Gr Liv Area      0.848770\nOverall Qual                  0.824001\nOverall Qual^2                0.821173\nOverall Qual 1st Flr SF       0.805987\nOverall Qual Total Bsmt SF    0.795861\nGr Liv Area Total Bsmt SF     0.783295\nOverall Qual Garage Area      0.782917\nGr Liv Area Garage Area       0.757610\nGr Liv Area 1st Flr SF        0.748049\nGr Liv Area                   0.732123\nTotal Bsmt SF Garage Area     0.705800\n1st Flr SF Garage Area        0.703213\nGr Liv Area^2                 0.691501\nTotal Bsmt SF 1st Flr SF      0.650060\nTotal Bsmt SF                 0.643634\nTotal Bsmt SF^2               0.640633\n1st Flr SF                    0.635290\n1st Flr SF^2                  0.619998\nGarage Area                   0.602254\nGarage Area^2                 0.546227\n1                                  NaN\nName: target, dtype: float64"
     },
     "execution_count": 24,
     "metadata": {},
     "output_type": "execute_result"
    }
   ],
   "source": [
    "poly_features.corr()['target'].sort_values(ascending=False)"
   ],
   "metadata": {
    "collapsed": false,
    "pycharm": {
     "name": "#%%\n"
    }
   }
  },
  {
   "cell_type": "code",
   "execution_count": 25,
   "outputs": [
    {
     "data": {
      "text/plain": "1                                  NaN\nOverall Qual                  0.824001\nGr Liv Area                   0.732123\nTotal Bsmt SF                 0.643634\n1st Flr SF                    0.635290\nGarage Area                   0.602254\nOverall Qual^2                0.821173\nOverall Qual Gr Liv Area      0.848770\nOverall Qual Total Bsmt SF    0.795861\nOverall Qual 1st Flr SF       0.805987\nOverall Qual Garage Area      0.782917\nGr Liv Area^2                 0.691501\nGr Liv Area Total Bsmt SF     0.783295\nGr Liv Area 1st Flr SF        0.748049\nGr Liv Area Garage Area       0.757610\nTotal Bsmt SF^2               0.640633\nTotal Bsmt SF 1st Flr SF      0.650060\nTotal Bsmt SF Garage Area     0.705800\n1st Flr SF^2                  0.619998\n1st Flr SF Garage Area        0.703213\nGarage Area^2                 0.546227\ntarget                        1.000000\nName: target, dtype: float64"
     },
     "execution_count": 25,
     "metadata": {},
     "output_type": "execute_result"
    }
   ],
   "source": [
    "poly_features.corr()['target']"
   ],
   "metadata": {
    "collapsed": false,
    "pycharm": {
     "name": "#%%\n"
    }
   }
  },
  {
   "cell_type": "code",
   "execution_count": 26,
   "outputs": [
    {
     "data": {
      "text/plain": "Index(['1', 'Overall Qual', 'Gr Liv Area', 'Total Bsmt SF', '1st Flr SF',\n       'Garage Area', 'Overall Qual^2', 'Overall Qual Gr Liv Area',\n       'Overall Qual Total Bsmt SF', 'Overall Qual 1st Flr SF',\n       'Overall Qual Garage Area', 'Gr Liv Area^2',\n       'Gr Liv Area Total Bsmt SF', 'Gr Liv Area 1st Flr SF',\n       'Gr Liv Area Garage Area', 'Total Bsmt SF^2',\n       'Total Bsmt SF 1st Flr SF', 'Total Bsmt SF Garage Area', '1st Flr SF^2',\n       '1st Flr SF Garage Area', 'Garage Area^2', 'target'],\n      dtype='object')"
     },
     "execution_count": 26,
     "metadata": {},
     "output_type": "execute_result"
    }
   ],
   "source": [
    "poly_features.corr()['target'].index"
   ],
   "metadata": {
    "collapsed": false,
    "pycharm": {
     "name": "#%%\n"
    }
   }
  },
  {
   "cell_type": "code",
   "execution_count": 27,
   "outputs": [
    {
     "data": {
      "text/plain": "['1',\n 'Overall Qual',\n 'Gr Liv Area',\n 'Total Bsmt SF',\n '1st Flr SF',\n 'Garage Area',\n 'Overall Qual^2',\n 'Overall Qual Gr Liv Area',\n 'Overall Qual Total Bsmt SF',\n 'Overall Qual 1st Flr SF',\n 'Overall Qual Garage Area',\n 'Gr Liv Area^2',\n 'Gr Liv Area Total Bsmt SF',\n 'Gr Liv Area 1st Flr SF',\n 'Gr Liv Area Garage Area',\n 'Total Bsmt SF^2',\n 'Total Bsmt SF 1st Flr SF',\n 'Total Bsmt SF Garage Area',\n '1st Flr SF^2',\n '1st Flr SF Garage Area',\n 'Garage Area^2',\n 'target']"
     },
     "execution_count": 27,
     "metadata": {},
     "output_type": "execute_result"
    }
   ],
   "source": [
    "list(poly_features.corr()['target'].index)"
   ],
   "metadata": {
    "collapsed": false,
    "pycharm": {
     "name": "#%%\n"
    }
   }
  },
  {
   "cell_type": "code",
   "execution_count": 28,
   "outputs": [],
   "source": [
    "train_poly = poly_features[['Overall Qual', 'Gr Liv Area', 'Total Bsmt SF',\n",
    "                            '1st Flr SF','Garage Area', 'Overall Qual^2',\n",
    "                            'Overall Qual Gr Liv Area','Overall Qual Total Bsmt SF',\n",
    "                            'Overall Qual 1st Flr SF', 'Overall Qual Garage Area',\n",
    "                            'Gr Liv Area^2', 'Gr Liv Area Total Bsmt SF',\n",
    "                            'Gr Liv Area 1st Flr SF', 'Gr Liv Area Garage Area',\n",
    "                            'Total Bsmt SF^2', 'Total Bsmt SF 1st Flr SF',\n",
    "                            'Total Bsmt SF Garage Area', '1st Flr SF^2',\n",
    "                            '1st Flr SF Garage Area', 'Garage Area^2', 'target']]"
   ],
   "metadata": {
    "collapsed": false,
    "pycharm": {
     "name": "#%%\n"
    }
   }
  },
  {
   "cell_type": "code",
   "execution_count": 29,
   "outputs": [],
   "source": [
    "train_all = train.merge(train_poly, on='target', how='left')"
   ],
   "metadata": {
    "collapsed": false,
    "pycharm": {
     "name": "#%%\n"
    }
   }
  },
  {
   "cell_type": "code",
   "execution_count": 30,
   "outputs": [
    {
     "data": {
      "text/plain": "(5970, 34)"
     },
     "execution_count": 30,
     "metadata": {},
     "output_type": "execute_result"
    }
   ],
   "source": [
    "train_all.shape"
   ],
   "metadata": {
    "collapsed": false,
    "pycharm": {
     "name": "#%%\n"
    }
   }
  },
  {
   "cell_type": "markdown",
   "source": [
    "# Model"
   ],
   "metadata": {
    "collapsed": false,
    "pycharm": {
     "name": "#%% md\n"
    }
   }
  },
  {
   "cell_type": "code",
   "execution_count": 31,
   "outputs": [],
   "source": [
    "X = train_all.drop('target', axis=1)\n",
    "y = train_all['target']"
   ],
   "metadata": {
    "collapsed": false,
    "pycharm": {
     "name": "#%%\n"
    }
   }
  },
  {
   "cell_type": "markdown",
   "source": [
    "## XGBoostRegressor"
   ],
   "metadata": {
    "collapsed": false,
    "pycharm": {
     "name": "#%% md\n"
    }
   }
  },
  {
   "cell_type": "code",
   "execution_count": 32,
   "outputs": [],
   "source": [
    "def objectiveXGB(trial: Trial, X, y):\n",
    "\n",
    "    params = {\n",
    "        'n_estimators' : trial.suggest_int('n_estimators', 500, 4000),\n",
    "        'max_depth' : trial.suggest_int('max_depth', 8, 16),\n",
    "        'min_child_weight' : trial.suggest_int('min_child_weight', 1, 300),\n",
    "        'gamma' : trial.suggest_int('gamma', 1, 3),\n",
    "        'learning_rate' : 0.01,\n",
    "        'colsample_bytree' : trial.suggest_discrete_uniform('colsample_bytree', 0.5, 1, 0.1),\n",
    "        'nthread' : -1,\n",
    "        'tree_method' : 'gpu_hist',\n",
    "        'predictor' : 'gpu_predictor',\n",
    "        'lambda' : trial.suggest_loguniform('lambda', 1e-3, 10.0),\n",
    "        'alpha' : trial.suggest_loguniform('aplha', 1e-3, 10.0),\n",
    "        'subsample' : trial.suggest_categorical('subsample', [0.6, 0.7, 0.8, 1.0]),\n",
    "        'random_state' : 42\n",
    "    }\n",
    "\n",
    "    X_train, X_test, y_train, y_test = train_test_split(X, y, test_size=0.2)\n",
    "\n",
    "    y_train = np.array(y_train).reshape(-1, 1)\n",
    "    y_test = np.array(y_test).reshape(-1, 1)\n",
    "\n",
    "    model = xgb.XGBRegressor(**params)\n",
    "    xgb_model = model.fit(X_train, y_train, verbose=False, eval_set=[(X_test, y_test)])\n",
    "    score = mean_squared_error(xgb_model.predict(X_test), y_test, squared=False)\n",
    "\n",
    "    return score"
   ],
   "metadata": {
    "collapsed": false,
    "pycharm": {
     "name": "#%%\n"
    }
   }
  },
  {
   "cell_type": "code",
   "execution_count": 33,
   "outputs": [
    {
     "name": "stderr",
     "output_type": "stream",
     "text": [
      "\u001B[32m[I 2022-01-29 18:16:09,770]\u001B[0m A new study created in memory with name: no-name-fe87b0b8-71cf-44ef-84af-e044c68096ef\u001B[0m\n",
      "\u001B[32m[I 2022-01-29 18:16:18,323]\u001B[0m Trial 0 finished with value: 0.1104403352053414 and parameters: {'n_estimators': 3851, 'max_depth': 16, 'min_child_weight': 11, 'gamma': 2, 'colsample_bytree': 0.9, 'lambda': 0.0035702544866957633, 'aplha': 0.003570924574052772, 'subsample': 0.6}. Best is trial 0 with value: 0.1104403352053414.\u001B[0m\n",
      "\u001B[32m[I 2022-01-29 18:16:25,504]\u001B[0m Trial 1 finished with value: 0.11194069098022237 and parameters: {'n_estimators': 3053, 'max_depth': 12, 'min_child_weight': 69, 'gamma': 3, 'colsample_bytree': 0.6, 'lambda': 0.0011142261439587417, 'aplha': 0.04617651281961141, 'subsample': 0.8}. Best is trial 0 with value: 0.1104403352053414.\u001B[0m\n",
      "\u001B[32m[I 2022-01-29 18:16:27,351]\u001B[0m Trial 2 finished with value: 0.11787484488010957 and parameters: {'n_estimators': 881, 'max_depth': 8, 'min_child_weight': 219, 'gamma': 3, 'colsample_bytree': 0.9, 'lambda': 0.02079181739600767, 'aplha': 0.009710739362433751, 'subsample': 0.7}. Best is trial 0 with value: 0.1104403352053414.\u001B[0m\n",
      "\u001B[32m[I 2022-01-29 18:16:29,937]\u001B[0m Trial 3 finished with value: 0.12608739380144424 and parameters: {'n_estimators': 1191, 'max_depth': 15, 'min_child_weight': 105, 'gamma': 1, 'colsample_bytree': 0.5, 'lambda': 0.3442685823549934, 'aplha': 0.03910726278376263, 'subsample': 0.8}. Best is trial 0 with value: 0.1104403352053414.\u001B[0m\n",
      "\u001B[32m[I 2022-01-29 18:16:32,578]\u001B[0m Trial 4 finished with value: 0.11939060244807288 and parameters: {'n_estimators': 993, 'max_depth': 14, 'min_child_weight': 120, 'gamma': 3, 'colsample_bytree': 0.6, 'lambda': 0.002350144133493348, 'aplha': 3.402077939529279, 'subsample': 1.0}. Best is trial 0 with value: 0.1104403352053414.\u001B[0m\n",
      "\u001B[32m[I 2022-01-29 18:16:40,740]\u001B[0m Trial 5 finished with value: 0.11006288340622952 and parameters: {'n_estimators': 3423, 'max_depth': 16, 'min_child_weight': 1, 'gamma': 2, 'colsample_bytree': 0.5, 'lambda': 0.0028099613699442147, 'aplha': 0.013161871737300067, 'subsample': 0.7}. Best is trial 5 with value: 0.11006288340622952.\u001B[0m\n",
      "\u001B[32m[I 2022-01-29 18:16:44,402]\u001B[0m Trial 6 finished with value: 0.11475695185988972 and parameters: {'n_estimators': 1586, 'max_depth': 16, 'min_child_weight': 276, 'gamma': 2, 'colsample_bytree': 0.8, 'lambda': 0.0034305144217474793, 'aplha': 1.05714963329415, 'subsample': 1.0}. Best is trial 5 with value: 0.11006288340622952.\u001B[0m\n",
      "\u001B[32m[I 2022-01-29 18:16:46,195]\u001B[0m Trial 7 finished with value: 0.11490033818984284 and parameters: {'n_estimators': 746, 'max_depth': 16, 'min_child_weight': 116, 'gamma': 3, 'colsample_bytree': 0.8, 'lambda': 0.2537760619797782, 'aplha': 0.14730519115132948, 'subsample': 0.8}. Best is trial 5 with value: 0.11006288340622952.\u001B[0m\n",
      "\u001B[32m[I 2022-01-29 18:16:49,818]\u001B[0m Trial 8 finished with value: 0.12255327837402523 and parameters: {'n_estimators': 1595, 'max_depth': 9, 'min_child_weight': 230, 'gamma': 3, 'colsample_bytree': 0.6, 'lambda': 0.22414139743186237, 'aplha': 0.03486552572532629, 'subsample': 1.0}. Best is trial 5 with value: 0.11006288340622952.\u001B[0m\n",
      "\u001B[32m[I 2022-01-29 18:16:58,213]\u001B[0m Trial 9 finished with value: 0.13877074777040405 and parameters: {'n_estimators': 3381, 'max_depth': 12, 'min_child_weight': 288, 'gamma': 2, 'colsample_bytree': 0.6, 'lambda': 2.56558312437872, 'aplha': 0.4001093722833829, 'subsample': 0.8}. Best is trial 5 with value: 0.11006288340622952.\u001B[0m\n",
      "\u001B[32m[I 2022-01-29 18:17:03,230]\u001B[0m Trial 10 finished with value: 0.09673397262978066 and parameters: {'n_estimators': 2623, 'max_depth': 10, 'min_child_weight': 58, 'gamma': 1, 'colsample_bytree': 1.0, 'lambda': 0.01668391418732973, 'aplha': 0.001699168154265597, 'subsample': 0.7}. Best is trial 10 with value: 0.09673397262978066.\u001B[0m\n",
      "\u001B[32m[I 2022-01-29 18:17:08,252]\u001B[0m Trial 11 finished with value: 0.09793789202373059 and parameters: {'n_estimators': 2510, 'max_depth': 10, 'min_child_weight': 5, 'gamma': 1, 'colsample_bytree': 1.0, 'lambda': 0.02429148395494379, 'aplha': 0.0011367007132698195, 'subsample': 0.7}. Best is trial 10 with value: 0.09673397262978066.\u001B[0m\n",
      "\u001B[32m[I 2022-01-29 18:17:13,174]\u001B[0m Trial 12 finished with value: 0.11066510038817559 and parameters: {'n_estimators': 2440, 'max_depth': 10, 'min_child_weight': 51, 'gamma': 1, 'colsample_bytree': 1.0, 'lambda': 0.028015165292003614, 'aplha': 0.001111158136061866, 'subsample': 0.7}. Best is trial 10 with value: 0.09673397262978066.\u001B[0m\n",
      "\u001B[32m[I 2022-01-29 18:17:17,813]\u001B[0m Trial 13 finished with value: 0.11886278571781626 and parameters: {'n_estimators': 2556, 'max_depth': 10, 'min_child_weight': 45, 'gamma': 1, 'colsample_bytree': 1.0, 'lambda': 0.03206160302325112, 'aplha': 0.0013576804213757403, 'subsample': 0.7}. Best is trial 10 with value: 0.09673397262978066.\u001B[0m\n",
      "\u001B[32m[I 2022-01-29 18:17:22,352]\u001B[0m Trial 14 finished with value: 0.10884515487815596 and parameters: {'n_estimators': 2056, 'max_depth': 11, 'min_child_weight': 167, 'gamma': 1, 'colsample_bytree': 0.9, 'lambda': 0.011994571066525102, 'aplha': 0.004293462906782776, 'subsample': 0.7}. Best is trial 10 with value: 0.09673397262978066.\u001B[0m\n",
      "\u001B[32m[I 2022-01-29 18:17:29,119]\u001B[0m Trial 15 finished with value: 0.10497200113630098 and parameters: {'n_estimators': 3027, 'max_depth': 8, 'min_child_weight': 71, 'gamma': 1, 'colsample_bytree': 1.0, 'lambda': 0.08845252910710638, 'aplha': 0.0033875710707235414, 'subsample': 0.6}. Best is trial 10 with value: 0.09673397262978066.\u001B[0m\n",
      "\u001B[32m[I 2022-01-29 18:17:33,868]\u001B[0m Trial 16 finished with value: 0.10070000388651526 and parameters: {'n_estimators': 2000, 'max_depth': 10, 'min_child_weight': 22, 'gamma': 1, 'colsample_bytree': 0.9, 'lambda': 0.9909607769985642, 'aplha': 0.0010893575919778897, 'subsample': 0.7}. Best is trial 10 with value: 0.09673397262978066.\u001B[0m\n",
      "\u001B[32m[I 2022-01-29 18:17:39,424]\u001B[0m Trial 17 finished with value: 0.10318247259679908 and parameters: {'n_estimators': 2784, 'max_depth': 13, 'min_child_weight': 159, 'gamma': 1, 'colsample_bytree': 1.0, 'lambda': 0.00949567644038213, 'aplha': 0.010779740379313152, 'subsample': 0.7}. Best is trial 10 with value: 0.09673397262978066.\u001B[0m\n",
      "\u001B[32m[I 2022-01-29 18:17:44,891]\u001B[0m Trial 18 finished with value: 0.1251315580338083 and parameters: {'n_estimators': 2253, 'max_depth': 11, 'min_child_weight': 84, 'gamma': 2, 'colsample_bytree': 0.7, 'lambda': 9.302823075913034, 'aplha': 8.495574798345698, 'subsample': 0.7}. Best is trial 10 with value: 0.09673397262978066.\u001B[0m\n",
      "\u001B[32m[I 2022-01-29 18:17:48,945]\u001B[0m Trial 19 finished with value: 0.12296602920303239 and parameters: {'n_estimators': 1753, 'max_depth': 9, 'min_child_weight': 33, 'gamma': 1, 'colsample_bytree': 0.8, 'lambda': 0.06799221059438045, 'aplha': 0.12933978482044278, 'subsample': 0.6}. Best is trial 10 with value: 0.09673397262978066.\u001B[0m\n",
      "\u001B[32m[I 2022-01-29 18:17:54,695]\u001B[0m Trial 20 finished with value: 0.12006740976474206 and parameters: {'n_estimators': 2699, 'max_depth': 11, 'min_child_weight': 133, 'gamma': 1, 'colsample_bytree': 1.0, 'lambda': 0.0071738673019529605, 'aplha': 0.0037921343969340915, 'subsample': 0.7}. Best is trial 10 with value: 0.09673397262978066.\u001B[0m\n",
      "\u001B[32m[I 2022-01-29 18:17:59,212]\u001B[0m Trial 21 finished with value: 0.10664512646931434 and parameters: {'n_estimators': 2030, 'max_depth': 10, 'min_child_weight': 26, 'gamma': 1, 'colsample_bytree': 0.9, 'lambda': 0.6586271210564203, 'aplha': 0.0010497214046877922, 'subsample': 0.7}. Best is trial 10 with value: 0.09673397262978066.\u001B[0m\n",
      "\u001B[32m[I 2022-01-29 18:18:03,640]\u001B[0m Trial 22 finished with value: 0.11157606681007756 and parameters: {'n_estimators': 1953, 'max_depth': 9, 'min_child_weight': 3, 'gamma': 1, 'colsample_bytree': 0.9, 'lambda': 0.993869774744633, 'aplha': 0.0020903292436110325, 'subsample': 0.7}. Best is trial 10 with value: 0.09673397262978066.\u001B[0m\n",
      "\u001B[32m[I 2022-01-29 18:18:09,084]\u001B[0m Trial 23 finished with value: 0.10309485353997148 and parameters: {'n_estimators': 2390, 'max_depth': 10, 'min_child_weight': 52, 'gamma': 1, 'colsample_bytree': 1.0, 'lambda': 0.04658289796949625, 'aplha': 0.006643930006781395, 'subsample': 0.7}. Best is trial 10 with value: 0.09673397262978066.\u001B[0m\n",
      "\u001B[32m[I 2022-01-29 18:18:11,653]\u001B[0m Trial 24 finished with value: 0.11577606769836182 and parameters: {'n_estimators': 1425, 'max_depth': 11, 'min_child_weight': 91, 'gamma': 2, 'colsample_bytree': 0.9, 'lambda': 0.13195082464596597, 'aplha': 0.020192624546908396, 'subsample': 0.7}. Best is trial 10 with value: 0.09673397262978066.\u001B[0m\n",
      "\u001B[32m[I 2022-01-29 18:18:17,898]\u001B[0m Trial 25 finished with value: 0.11773257932612562 and parameters: {'n_estimators': 2967, 'max_depth': 13, 'min_child_weight': 22, 'gamma': 1, 'colsample_bytree': 1.0, 'lambda': 2.322460603884158, 'aplha': 0.0020331215609519734, 'subsample': 0.7}. Best is trial 10 with value: 0.09673397262978066.\u001B[0m\n",
      "\u001B[32m[I 2022-01-29 18:18:23,568]\u001B[0m Trial 26 finished with value: 0.12471514965851198 and parameters: {'n_estimators': 3279, 'max_depth': 9, 'min_child_weight': 63, 'gamma': 1, 'colsample_bytree': 0.8, 'lambda': 0.02197566289155875, 'aplha': 0.002018813586000232, 'subsample': 0.7}. Best is trial 10 with value: 0.09673397262978066.\u001B[0m\n",
      "\u001B[32m[I 2022-01-29 18:18:24,831]\u001B[0m Trial 27 finished with value: 0.13871655796337332 and parameters: {'n_estimators': 532, 'max_depth': 8, 'min_child_weight': 34, 'gamma': 2, 'colsample_bytree': 0.9, 'lambda': 6.414963845514875, 'aplha': 0.006469077444156831, 'subsample': 1.0}. Best is trial 10 with value: 0.09673397262978066.\u001B[0m\n",
      "\u001B[32m[I 2022-01-29 18:18:29,819]\u001B[0m Trial 28 finished with value: 0.12949742044111792 and parameters: {'n_estimators': 2205, 'max_depth': 10, 'min_child_weight': 200, 'gamma': 1, 'colsample_bytree': 1.0, 'lambda': 0.12292668689341205, 'aplha': 0.0010677940102412577, 'subsample': 0.6}. Best is trial 10 with value: 0.09673397262978066.\u001B[0m\n",
      "\u001B[32m[I 2022-01-29 18:18:38,569]\u001B[0m Trial 29 finished with value: 0.10839911872444007 and parameters: {'n_estimators': 3681, 'max_depth': 12, 'min_child_weight': 15, 'gamma': 2, 'colsample_bytree': 0.9, 'lambda': 0.012777569239887843, 'aplha': 0.003058247423459693, 'subsample': 0.6}. Best is trial 10 with value: 0.09673397262978066.\u001B[0m\n",
      "\u001B[32m[I 2022-01-29 18:18:44,702]\u001B[0m Trial 30 finished with value: 0.11050740955819423 and parameters: {'n_estimators': 2617, 'max_depth': 13, 'min_child_weight': 91, 'gamma': 1, 'colsample_bytree': 0.7, 'lambda': 0.7043511911382645, 'aplha': 0.26812645676975744, 'subsample': 0.7}. Best is trial 10 with value: 0.09673397262978066.\u001B[0m\n",
      "\u001B[32m[I 2022-01-29 18:18:49,602]\u001B[0m Trial 31 finished with value: 0.10233532328888092 and parameters: {'n_estimators': 2342, 'max_depth': 10, 'min_child_weight': 51, 'gamma': 1, 'colsample_bytree': 1.0, 'lambda': 0.050695916051605575, 'aplha': 0.006224651033047977, 'subsample': 0.7}. Best is trial 10 with value: 0.09673397262978066.\u001B[0m\n",
      "\u001B[32m[I 2022-01-29 18:18:53,063]\u001B[0m Trial 32 finished with value: 0.10423814597193676 and parameters: {'n_estimators': 1861, 'max_depth': 11, 'min_child_weight': 40, 'gamma': 1, 'colsample_bytree': 1.0, 'lambda': 0.04301345400432431, 'aplha': 0.0020593754252193177, 'subsample': 0.7}. Best is trial 10 with value: 0.09673397262978066.\u001B[0m\n",
      "\u001B[32m[I 2022-01-29 18:18:57,952]\u001B[0m Trial 33 finished with value: 0.1035447788915686 and parameters: {'n_estimators': 2293, 'max_depth': 9, 'min_child_weight': 68, 'gamma': 1, 'colsample_bytree': 0.9, 'lambda': 0.005743448839749355, 'aplha': 0.005821362304294491, 'subsample': 0.7}. Best is trial 10 with value: 0.09673397262978066.\u001B[0m\n",
      "\u001B[32m[I 2022-01-29 18:19:04,170]\u001B[0m Trial 34 finished with value: 0.10893665811711281 and parameters: {'n_estimators': 2827, 'max_depth': 10, 'min_child_weight': 13, 'gamma': 1, 'colsample_bytree': 1.0, 'lambda': 0.018788785734100522, 'aplha': 0.01988571683231909, 'subsample': 0.8}. Best is trial 10 with value: 0.09673397262978066.\u001B[0m\n",
      "\u001B[32m[I 2022-01-29 18:19:11,238]\u001B[0m Trial 35 finished with value: 0.11048208499832428 and parameters: {'n_estimators': 3174, 'max_depth': 12, 'min_child_weight': 77, 'gamma': 1, 'colsample_bytree': 0.9, 'lambda': 0.05296504266079578, 'aplha': 0.0020181853728457647, 'subsample': 0.7}. Best is trial 10 with value: 0.09673397262978066.\u001B[0m\n",
      "\u001B[32m[I 2022-01-29 18:19:16,563]\u001B[0m Trial 36 finished with value: 0.10768999275550648 and parameters: {'n_estimators': 2510, 'max_depth': 8, 'min_child_weight': 54, 'gamma': 1, 'colsample_bytree': 1.0, 'lambda': 0.0015426492449519802, 'aplha': 0.06775056097931474, 'subsample': 0.7}. Best is trial 10 with value: 0.09673397262978066.\u001B[0m\n",
      "\u001B[32m[I 2022-01-29 18:19:25,416]\u001B[0m Trial 37 finished with value: 0.1330361569901355 and parameters: {'n_estimators': 3918, 'max_depth': 11, 'min_child_weight': 104, 'gamma': 2, 'colsample_bytree': 1.0, 'lambda': 0.17886064233936924, 'aplha': 0.009000373177787286, 'subsample': 0.7}. Best is trial 10 with value: 0.09673397262978066.\u001B[0m\n",
      "\u001B[32m[I 2022-01-29 18:19:27,854]\u001B[0m Trial 38 finished with value: 0.11192263133256286 and parameters: {'n_estimators': 1259, 'max_depth': 9, 'min_child_weight': 139, 'gamma': 1, 'colsample_bytree': 0.9, 'lambda': 0.016258092241652592, 'aplha': 0.003072046390444019, 'subsample': 1.0}. Best is trial 10 with value: 0.09673397262978066.\u001B[0m\n",
      "\u001B[32m[I 2022-01-29 18:19:32,701]\u001B[0m Trial 39 finished with value: 0.1059914949284072 and parameters: {'n_estimators': 2151, 'max_depth': 10, 'min_child_weight': 1, 'gamma': 2, 'colsample_bytree': 0.9, 'lambda': 0.005345482623225062, 'aplha': 0.016184089087548852, 'subsample': 0.8}. Best is trial 10 with value: 0.09673397262978066.\u001B[0m\n",
      "\u001B[32m[I 2022-01-29 18:19:36,230]\u001B[0m Trial 40 finished with value: 0.10040347137375615 and parameters: {'n_estimators': 1631, 'max_depth': 14, 'min_child_weight': 26, 'gamma': 1, 'colsample_bytree': 0.8, 'lambda': 0.07237645613183187, 'aplha': 0.001528786104497712, 'subsample': 0.7}. Best is trial 10 with value: 0.09673397262978066.\u001B[0m\n",
      "\u001B[32m[I 2022-01-29 18:19:39,928]\u001B[0m Trial 41 finished with value: 0.12592071017530346 and parameters: {'n_estimators': 1602, 'max_depth': 15, 'min_child_weight': 25, 'gamma': 1, 'colsample_bytree': 0.8, 'lambda': 0.07792651368166821, 'aplha': 0.0016345857838743559, 'subsample': 0.7}. Best is trial 10 with value: 0.09673397262978066.\u001B[0m\n",
      "\u001B[32m[I 2022-01-29 18:19:44,005]\u001B[0m Trial 42 finished with value: 0.11088536972632508 and parameters: {'n_estimators': 1733, 'max_depth': 12, 'min_child_weight': 39, 'gamma': 1, 'colsample_bytree': 0.7, 'lambda': 0.35852270323743857, 'aplha': 0.005263614799818316, 'subsample': 0.7}. Best is trial 10 with value: 0.09673397262978066.\u001B[0m\n",
      "\u001B[32m[I 2022-01-29 18:19:46,447]\u001B[0m Trial 43 finished with value: 0.10921798161461978 and parameters: {'n_estimators': 1127, 'max_depth': 14, 'min_child_weight': 14, 'gamma': 1, 'colsample_bytree': 0.8, 'lambda': 0.030827955920801575, 'aplha': 0.0028705608050834065, 'subsample': 0.7}. Best is trial 10 with value: 0.09673397262978066.\u001B[0m\n",
      "\u001B[32m[I 2022-01-29 18:19:49,357]\u001B[0m Trial 44 finished with value: 0.1189107611195265 and parameters: {'n_estimators': 1373, 'max_depth': 14, 'min_child_weight': 61, 'gamma': 3, 'colsample_bytree': 0.8, 'lambda': 0.44793949451729476, 'aplha': 0.0014424941491870966, 'subsample': 0.7}. Best is trial 10 with value: 0.09673397262978066.\u001B[0m\n",
      "\u001B[32m[I 2022-01-29 18:19:54,577]\u001B[0m Trial 45 finished with value: 0.10783426336790426 and parameters: {'n_estimators': 2390, 'max_depth': 15, 'min_child_weight': 253, 'gamma': 1, 'colsample_bytree': 1.0, 'lambda': 0.15297381607167382, 'aplha': 0.0010657597422715295, 'subsample': 1.0}. Best is trial 10 with value: 0.09673397262978066.\u001B[0m\n",
      "\u001B[32m[I 2022-01-29 18:20:01,256]\u001B[0m Trial 46 finished with value: 0.10716657335635649 and parameters: {'n_estimators': 2867, 'max_depth': 10, 'min_child_weight': 46, 'gamma': 1, 'colsample_bytree': 0.9, 'lambda': 0.036153987876851916, 'aplha': 1.0321533345822411, 'subsample': 0.8}. Best is trial 10 with value: 0.09673397262978066.\u001B[0m\n",
      "\u001B[32m[I 2022-01-29 18:20:05,556]\u001B[0m Trial 47 finished with value: 0.12436851850987526 and parameters: {'n_estimators': 1901, 'max_depth': 9, 'min_child_weight': 108, 'gamma': 1, 'colsample_bytree': 1.0, 'lambda': 1.6024616311818058, 'aplha': 0.030853616874976814, 'subsample': 0.7}. Best is trial 10 with value: 0.09673397262978066.\u001B[0m\n",
      "\u001B[32m[I 2022-01-29 18:20:10,322]\u001B[0m Trial 48 finished with value: 0.1272779581386938 and parameters: {'n_estimators': 2100, 'max_depth': 11, 'min_child_weight': 176, 'gamma': 1, 'colsample_bytree': 0.7, 'lambda': 0.06916902597563868, 'aplha': 0.00970616133846954, 'subsample': 0.7}. Best is trial 10 with value: 0.09673397262978066.\u001B[0m\n",
      "\u001B[32m[I 2022-01-29 18:20:16,290]\u001B[0m Trial 49 finished with value: 0.12149700880673914 and parameters: {'n_estimators': 2619, 'max_depth': 13, 'min_child_weight': 25, 'gamma': 2, 'colsample_bytree': 1.0, 'lambda': 0.23663399407471894, 'aplha': 0.004518913128713884, 'subsample': 0.6}. Best is trial 10 with value: 0.09673397262978066.\u001B[0m\n",
      "\u001B[32m[I 2022-01-29 18:20:19,922]\u001B[0m Trial 50 finished with value: 0.11021243515437051 and parameters: {'n_estimators': 1772, 'max_depth': 10, 'min_child_weight': 1, 'gamma': 1, 'colsample_bytree': 0.5, 'lambda': 0.009890990871866488, 'aplha': 0.0026391779874521174, 'subsample': 0.7}. Best is trial 10 with value: 0.09673397262978066.\u001B[0m\n",
      "\u001B[32m[I 2022-01-29 18:20:24,694]\u001B[0m Trial 51 finished with value: 0.10387989112162806 and parameters: {'n_estimators': 2439, 'max_depth': 10, 'min_child_weight': 53, 'gamma': 1, 'colsample_bytree': 1.0, 'lambda': 0.0514753687454599, 'aplha': 0.007663021214654824, 'subsample': 0.7}. Best is trial 10 with value: 0.09673397262978066.\u001B[0m\n",
      "\u001B[32m[I 2022-01-29 18:20:29,889]\u001B[0m Trial 52 finished with value: 0.09719814467830422 and parameters: {'n_estimators': 2381, 'max_depth': 10, 'min_child_weight': 35, 'gamma': 1, 'colsample_bytree': 1.0, 'lambda': 0.021985609364056413, 'aplha': 0.0013033599479688844, 'subsample': 0.7}. Best is trial 10 with value: 0.09673397262978066.\u001B[0m\n",
      "\u001B[32m[I 2022-01-29 18:20:34,035]\u001B[0m Trial 53 finished with value: 0.10708585717176156 and parameters: {'n_estimators': 2303, 'max_depth': 11, 'min_child_weight': 32, 'gamma': 1, 'colsample_bytree': 1.0, 'lambda': 0.02831575894696149, 'aplha': 0.0014675211168572527, 'subsample': 0.7}. Best is trial 10 with value: 0.09673397262978066.\u001B[0m\n",
      "\u001B[32m[I 2022-01-29 18:20:38,274]\u001B[0m Trial 54 finished with value: 0.10316275388521147 and parameters: {'n_estimators': 1980, 'max_depth': 9, 'min_child_weight': 14, 'gamma': 1, 'colsample_bytree': 0.9, 'lambda': 0.021419405679526517, 'aplha': 0.0014307986785638362, 'subsample': 0.7}. Best is trial 10 with value: 0.09673397262978066.\u001B[0m\n",
      "\u001B[32m[I 2022-01-29 18:20:44,352]\u001B[0m Trial 55 finished with value: 0.1027976502000092 and parameters: {'n_estimators': 2730, 'max_depth': 12, 'min_child_weight': 43, 'gamma': 1, 'colsample_bytree': 1.0, 'lambda': 0.09826382552613054, 'aplha': 0.004129552998707208, 'subsample': 0.7}. Best is trial 10 with value: 0.09673397262978066.\u001B[0m\n",
      "\u001B[32m[I 2022-01-29 18:20:50,830]\u001B[0m Trial 56 finished with value: 0.1206151718303525 and parameters: {'n_estimators': 2947, 'max_depth': 10, 'min_child_weight': 78, 'gamma': 1, 'colsample_bytree': 1.0, 'lambda': 0.007866891381555611, 'aplha': 0.0010803341257192667, 'subsample': 0.7}. Best is trial 10 with value: 0.09673397262978066.\u001B[0m\n",
      "\u001B[32m[I 2022-01-29 18:20:56,320]\u001B[0m Trial 57 finished with value: 0.12940899017637816 and parameters: {'n_estimators': 2584, 'max_depth': 16, 'min_child_weight': 25, 'gamma': 3, 'colsample_bytree': 0.9, 'lambda': 0.004016323564463342, 'aplha': 0.002409006133803855, 'subsample': 1.0}. Best is trial 10 with value: 0.09673397262978066.\u001B[0m\n",
      "\u001B[32m[I 2022-01-29 18:20:59,479]\u001B[0m Trial 58 finished with value: 0.11984541468353489 and parameters: {'n_estimators': 1623, 'max_depth': 11, 'min_child_weight': 61, 'gamma': 1, 'colsample_bytree': 1.0, 'lambda': 0.013109379787381317, 'aplha': 0.0017093202832031227, 'subsample': 0.7}. Best is trial 10 with value: 0.09673397262978066.\u001B[0m\n",
      "\u001B[32m[I 2022-01-29 18:21:04,561]\u001B[0m Trial 59 finished with value: 0.10482775905643325 and parameters: {'n_estimators': 2144, 'max_depth': 9, 'min_child_weight': 8, 'gamma': 1, 'colsample_bytree': 0.8, 'lambda': 4.085020633815319, 'aplha': 0.003237233135971871, 'subsample': 0.8}. Best is trial 10 with value: 0.09673397262978066.\u001B[0m\n",
      "\u001B[32m[I 2022-01-29 18:21:10,122]\u001B[0m Trial 60 finished with value: 0.1013817159102929 and parameters: {'n_estimators': 2365, 'max_depth': 8, 'min_child_weight': 33, 'gamma': 1, 'colsample_bytree': 0.6, 'lambda': 0.06320078621432489, 'aplha': 0.00140882014977067, 'subsample': 0.7}. Best is trial 10 with value: 0.09673397262978066.\u001B[0m\n",
      "\u001B[32m[I 2022-01-29 18:21:15,536]\u001B[0m Trial 61 finished with value: 0.10532633061976134 and parameters: {'n_estimators': 2334, 'max_depth': 8, 'min_child_weight': 35, 'gamma': 1, 'colsample_bytree': 0.6, 'lambda': 0.05505505769193066, 'aplha': 0.0013173299253951326, 'subsample': 0.7}. Best is trial 10 with value: 0.09673397262978066.\u001B[0m\n",
      "\u001B[32m[I 2022-01-29 18:21:21,216]\u001B[0m Trial 62 finished with value: 0.11303594573469186 and parameters: {'n_estimators': 2460, 'max_depth': 8, 'min_child_weight': 20, 'gamma': 1, 'colsample_bytree': 0.5, 'lambda': 0.10335770211856579, 'aplha': 0.0017612937563996989, 'subsample': 0.7}. Best is trial 10 with value: 0.09673397262978066.\u001B[0m\n",
      "\u001B[32m[I 2022-01-29 18:21:27,380]\u001B[0m Trial 63 finished with value: 0.09997657854442016 and parameters: {'n_estimators': 2691, 'max_depth': 9, 'min_child_weight': 50, 'gamma': 1, 'colsample_bytree': 0.7, 'lambda': 0.02295241007695888, 'aplha': 0.0025062443129472266, 'subsample': 0.7}. Best is trial 10 with value: 0.09673397262978066.\u001B[0m\n",
      "\u001B[32m[I 2022-01-29 18:21:34,572]\u001B[0m Trial 64 finished with value: 0.10522472055780811 and parameters: {'n_estimators': 3118, 'max_depth': 8, 'min_child_weight': 30, 'gamma': 1, 'colsample_bytree': 0.7, 'lambda': 0.024141061754509988, 'aplha': 0.001012713997407272, 'subsample': 0.7}. Best is trial 10 with value: 0.09673397262978066.\u001B[0m\n",
      "\u001B[32m[I 2022-01-29 18:21:40,929]\u001B[0m Trial 65 finished with value: 0.11366947403094056 and parameters: {'n_estimators': 2690, 'max_depth': 9, 'min_child_weight': 44, 'gamma': 1, 'colsample_bytree': 0.7, 'lambda': 0.015044361556962494, 'aplha': 0.0024449554549091485, 'subsample': 0.6}. Best is trial 10 with value: 0.09673397262978066.\u001B[0m\n",
      "\u001B[32m[I 2022-01-29 18:21:45,765]\u001B[0m Trial 66 finished with value: 0.09986517547486114 and parameters: {'n_estimators': 2037, 'max_depth': 8, 'min_child_weight': 87, 'gamma': 1, 'colsample_bytree': 0.6, 'lambda': 0.03659039278478809, 'aplha': 0.004075561641526073, 'subsample': 0.7}. Best is trial 10 with value: 0.09673397262978066.\u001B[0m\n",
      "\u001B[32m[I 2022-01-29 18:21:49,172]\u001B[0m Trial 67 finished with value: 0.10636436637917004 and parameters: {'n_estimators': 1491, 'max_depth': 9, 'min_child_weight': 70, 'gamma': 1, 'colsample_bytree': 0.6, 'lambda': 0.010161903891686487, 'aplha': 0.0037766746258496176, 'subsample': 0.7}. Best is trial 10 with value: 0.09673397262978066.\u001B[0m\n",
      "\u001B[32m[I 2022-01-29 18:21:54,281]\u001B[0m Trial 68 finished with value: 0.10168724414929346 and parameters: {'n_estimators': 2032, 'max_depth': 9, 'min_child_weight': 94, 'gamma': 1, 'colsample_bytree': 0.6, 'lambda': 0.039519437537341974, 'aplha': 4.183401012056408, 'subsample': 0.7}. Best is trial 10 with value: 0.09673397262978066.\u001B[0m\n",
      "\u001B[32m[I 2022-01-29 18:21:58,485]\u001B[0m Trial 69 finished with value: 0.1082259149270676 and parameters: {'n_estimators': 1826, 'max_depth': 10, 'min_child_weight': 80, 'gamma': 2, 'colsample_bytree': 0.8, 'lambda': 0.0175443111903374, 'aplha': 0.01301599099174655, 'subsample': 0.7}. Best is trial 10 with value: 0.09673397262978066.\u001B[0m\n",
      "\u001B[32m[I 2022-01-29 18:22:03,318]\u001B[0m Trial 70 finished with value: 0.10504503517814108 and parameters: {'n_estimators': 2220, 'max_depth': 8, 'min_child_weight': 57, 'gamma': 1, 'colsample_bytree': 0.7, 'lambda': 0.02615480461822208, 'aplha': 0.004804107235049618, 'subsample': 0.7}. Best is trial 10 with value: 0.09673397262978066.\u001B[0m\n",
      "\u001B[32m[I 2022-01-29 18:22:09,280]\u001B[0m Trial 71 finished with value: 0.11077714024787112 and parameters: {'n_estimators': 2602, 'max_depth': 8, 'min_child_weight': 18, 'gamma': 1, 'colsample_bytree': 0.6, 'lambda': 0.06940323941002786, 'aplha': 0.0013532791674469872, 'subsample': 0.7}. Best is trial 10 with value: 0.09673397262978066.\u001B[0m\n",
      "\u001B[32m[I 2022-01-29 18:22:15,781]\u001B[0m Trial 72 finished with value: 0.10587540163536349 and parameters: {'n_estimators': 2893, 'max_depth': 8, 'min_child_weight': 9, 'gamma': 1, 'colsample_bytree': 0.6, 'lambda': 0.0366379998098715, 'aplha': 0.0022917228234158346, 'subsample': 0.7}. Best is trial 10 with value: 0.09673397262978066.\u001B[0m\n",
      "\u001B[32m[I 2022-01-29 18:22:22,208]\u001B[0m Trial 73 finished with value: 0.09784596359844683 and parameters: {'n_estimators': 2755, 'max_depth': 9, 'min_child_weight': 37, 'gamma': 1, 'colsample_bytree': 0.5, 'lambda': 0.17863991697514361, 'aplha': 0.0017185679359999016, 'subsample': 0.7}. Best is trial 10 with value: 0.09673397262978066.\u001B[0m\n",
      "\u001B[32m[I 2022-01-29 18:22:28,802]\u001B[0m Trial 74 finished with value: 0.10453515277612874 and parameters: {'n_estimators': 2543, 'max_depth': 9, 'min_child_weight': 47, 'gamma': 1, 'colsample_bytree': 0.5, 'lambda': 1.1473147725481434, 'aplha': 0.0018625599130722567, 'subsample': 0.7}. Best is trial 10 with value: 0.09673397262978066.\u001B[0m\n",
      "\u001B[32m[I 2022-01-29 18:22:35,087]\u001B[0m Trial 75 finished with value: 0.10740929532411371 and parameters: {'n_estimators': 2749, 'max_depth': 10, 'min_child_weight': 67, 'gamma': 1, 'colsample_bytree': 0.5, 'lambda': 0.020255731995024423, 'aplha': 0.0032381152892716333, 'subsample': 0.7}. Best is trial 10 with value: 0.09673397262978066.\u001B[0m\n",
      "\u001B[32m[I 2022-01-29 18:22:42,102]\u001B[0m Trial 76 finished with value: 0.10726498411066976 and parameters: {'n_estimators': 3045, 'max_depth': 9, 'min_child_weight': 129, 'gamma': 1, 'colsample_bytree': 0.5, 'lambda': 0.5368168235832584, 'aplha': 0.0025313099242710857, 'subsample': 1.0}. Best is trial 10 with value: 0.09673397262978066.\u001B[0m\n",
      "\u001B[32m[I 2022-01-29 18:22:47,365]\u001B[0m Trial 77 finished with value: 0.10624999301526057 and parameters: {'n_estimators': 2199, 'max_depth': 11, 'min_child_weight': 41, 'gamma': 1, 'colsample_bytree': 0.9, 'lambda': 0.014656131039980032, 'aplha': 0.2281877556185952, 'subsample': 0.7}. Best is trial 10 with value: 0.09673397262978066.\u001B[0m\n",
      "\u001B[32m[I 2022-01-29 18:22:55,106]\u001B[0m Trial 78 finished with value: 0.10582180710420104 and parameters: {'n_estimators': 3264, 'max_depth': 10, 'min_child_weight': 87, 'gamma': 1, 'colsample_bytree': 0.7, 'lambda': 0.3189427702879836, 'aplha': 0.0012694990673326528, 'subsample': 0.7}. Best is trial 10 with value: 0.09673397262978066.\u001B[0m\n",
      "\u001B[32m[I 2022-01-29 18:23:01,583]\u001B[0m Trial 79 finished with value: 0.12802560888172426 and parameters: {'n_estimators': 2699, 'max_depth': 9, 'min_child_weight': 21, 'gamma': 1, 'colsample_bytree': 0.6, 'lambda': 0.031183670937649753, 'aplha': 0.0017921174705435817, 'subsample': 0.6}. Best is trial 10 with value: 0.09673397262978066.\u001B[0m\n",
      "\u001B[32m[I 2022-01-29 18:23:05,308]\u001B[0m Trial 80 finished with value: 0.10619065556140463 and parameters: {'n_estimators': 1714, 'max_depth': 10, 'min_child_weight': 97, 'gamma': 1, 'colsample_bytree': 0.8, 'lambda': 0.007152818696263849, 'aplha': 0.0010288776711238105, 'subsample': 0.7}. Best is trial 10 with value: 0.09673397262978066.\u001B[0m\n",
      "\u001B[32m[I 2022-01-29 18:23:11,144]\u001B[0m Trial 81 finished with value: 0.12248567249929232 and parameters: {'n_estimators': 2485, 'max_depth': 8, 'min_child_weight': 35, 'gamma': 1, 'colsample_bytree': 0.6, 'lambda': 0.16482118233806237, 'aplha': 0.0016392587042507035, 'subsample': 0.7}. Best is trial 10 with value: 0.09673397262978066.\u001B[0m\n",
      "\u001B[32m[I 2022-01-29 18:23:16,804]\u001B[0m Trial 82 finished with value: 0.10637367488007786 and parameters: {'n_estimators': 2398, 'max_depth': 8, 'min_child_weight': 29, 'gamma': 1, 'colsample_bytree': 0.5, 'lambda': 0.11373854733773522, 'aplha': 0.0012638073438399557, 'subsample': 0.7}. Best is trial 10 with value: 0.09673397262978066.\u001B[0m\n",
      "\u001B[32m[I 2022-01-29 18:23:22,066]\u001B[0m Trial 83 finished with value: 0.11282519153377643 and parameters: {'n_estimators': 2260, 'max_depth': 9, 'min_child_weight': 8, 'gamma': 1, 'colsample_bytree': 0.7, 'lambda': 0.08453643052860245, 'aplha': 0.7511263077265561, 'subsample': 0.7}. Best is trial 10 with value: 0.09673397262978066.\u001B[0m\n",
      "\u001B[32m[I 2022-01-29 18:23:26,916]\u001B[0m Trial 84 finished with value: 0.09959191113105739 and parameters: {'n_estimators': 2095, 'max_depth': 8, 'min_child_weight': 58, 'gamma': 1, 'colsample_bytree': 0.6, 'lambda': 0.0457045262238783, 'aplha': 0.002221820125997557, 'subsample': 0.8}. Best is trial 10 with value: 0.09673397262978066.\u001B[0m\n",
      "\u001B[32m[I 2022-01-29 18:23:31,457]\u001B[0m Trial 85 finished with value: 0.10755734060565571 and parameters: {'n_estimators': 1972, 'max_depth': 15, 'min_child_weight': 57, 'gamma': 1, 'colsample_bytree': 0.5, 'lambda': 0.038119040272114435, 'aplha': 0.003657778992268776, 'subsample': 0.8}. Best is trial 10 with value: 0.09673397262978066.\u001B[0m\n",
      "\u001B[32m[I 2022-01-29 18:23:36,253]\u001B[0m Trial 86 finished with value: 0.12426305795528124 and parameters: {'n_estimators': 2084, 'max_depth': 9, 'min_child_weight': 72, 'gamma': 1, 'colsample_bytree': 0.6, 'lambda': 0.04562327556888456, 'aplha': 0.0022934974032995134, 'subsample': 0.8}. Best is trial 10 with value: 0.09673397262978066.\u001B[0m\n",
      "\u001B[32m[I 2022-01-29 18:23:40,186]\u001B[0m Trial 87 finished with value: 0.1018917993474956 and parameters: {'n_estimators': 1935, 'max_depth': 10, 'min_child_weight': 51, 'gamma': 1, 'colsample_bytree': 1.0, 'lambda': 0.02300582691254913, 'aplha': 0.002909933631070107, 'subsample': 0.8}. Best is trial 10 with value: 0.09673397262978066.\u001B[0m\n",
      "\u001B[32m[I 2022-01-29 18:23:44,313]\u001B[0m Trial 88 finished with value: 0.11240697269875584 and parameters: {'n_estimators': 1833, 'max_depth': 14, 'min_child_weight': 63, 'gamma': 1, 'colsample_bytree': 0.9, 'lambda': 0.20193242881746903, 'aplha': 0.001926490832734363, 'subsample': 0.8}. Best is trial 10 with value: 0.09673397262978066.\u001B[0m\n",
      "\u001B[32m[I 2022-01-29 18:23:50,672]\u001B[0m Trial 89 finished with value: 0.10838783771954796 and parameters: {'n_estimators': 2818, 'max_depth': 11, 'min_child_weight': 39, 'gamma': 1, 'colsample_bytree': 0.8, 'lambda': 0.010638901768502596, 'aplha': 0.063802864187222, 'subsample': 0.8}. Best is trial 10 with value: 0.09673397262978066.\u001B[0m\n",
      "\u001B[32m[I 2022-01-29 18:23:54,292]\u001B[0m Trial 90 finished with value: 0.10463413915730435 and parameters: {'n_estimators': 1675, 'max_depth': 10, 'min_child_weight': 7, 'gamma': 1, 'colsample_bytree': 1.0, 'lambda': 3.002328418401628, 'aplha': 0.0054859309520323574, 'subsample': 1.0}. Best is trial 10 with value: 0.09673397262978066.\u001B[0m\n",
      "\u001B[32m[I 2022-01-29 18:23:59,573]\u001B[0m Trial 91 finished with value: 0.1016626439661397 and parameters: {'n_estimators': 2350, 'max_depth': 8, 'min_child_weight': 29, 'gamma': 1, 'colsample_bytree': 0.6, 'lambda': 0.0575232933126539, 'aplha': 0.0015443776505521503, 'subsample': 0.7}. Best is trial 10 with value: 0.09673397262978066.\u001B[0m\n",
      "\u001B[32m[I 2022-01-29 18:24:05,823]\u001B[0m Trial 92 finished with value: 0.11955381203323427 and parameters: {'n_estimators': 2636, 'max_depth': 8, 'min_child_weight': 18, 'gamma': 1, 'colsample_bytree': 0.6, 'lambda': 0.06755126183960011, 'aplha': 0.001209347415470851, 'subsample': 0.7}. Best is trial 10 with value: 0.09673397262978066.\u001B[0m\n",
      "\u001B[32m[I 2022-01-29 18:24:11,468]\u001B[0m Trial 93 finished with value: 0.10343535368308088 and parameters: {'n_estimators': 2451, 'max_depth': 8, 'min_child_weight': 47, 'gamma': 1, 'colsample_bytree': 0.7, 'lambda': 0.029926451732319864, 'aplha': 0.0023071108382142066, 'subsample': 0.7}. Best is trial 10 with value: 0.09673397262978066.\u001B[0m\n",
      "\u001B[32m[I 2022-01-29 18:24:16,661]\u001B[0m Trial 94 finished with value: 0.11746411626968961 and parameters: {'n_estimators': 2162, 'max_depth': 8, 'min_child_weight': 39, 'gamma': 1, 'colsample_bytree': 0.6, 'lambda': 0.14459611491845553, 'aplha': 0.0015292877955293415, 'subsample': 0.7}. Best is trial 10 with value: 0.09673397262978066.\u001B[0m\n",
      "\u001B[32m[I 2022-01-29 18:24:22,636]\u001B[0m Trial 95 finished with value: 0.10317271968787294 and parameters: {'n_estimators': 2542, 'max_depth': 9, 'min_child_weight': 180, 'gamma': 1, 'colsample_bytree': 0.5, 'lambda': 0.017566418216451815, 'aplha': 0.0027333201440615656, 'subsample': 0.7}. Best is trial 10 with value: 0.09673397262978066.\u001B[0m\n",
      "\u001B[32m[I 2022-01-29 18:24:29,539]\u001B[0m Trial 96 finished with value: 0.10620105669574205 and parameters: {'n_estimators': 2964, 'max_depth': 9, 'min_child_weight': 33, 'gamma': 1, 'colsample_bytree': 0.6, 'lambda': 0.04355264536055196, 'aplha': 0.004328155432415636, 'subsample': 0.7}. Best is trial 10 with value: 0.09673397262978066.\u001B[0m\n",
      "\u001B[32m[I 2022-01-29 18:24:31,865]\u001B[0m Trial 97 finished with value: 0.10780518493822432 and parameters: {'n_estimators': 1006, 'max_depth': 8, 'min_child_weight': 149, 'gamma': 1, 'colsample_bytree': 0.7, 'lambda': 0.08659376294859743, 'aplha': 0.0020453184016388523, 'subsample': 0.7}. Best is trial 10 with value: 0.09673397262978066.\u001B[0m\n",
      "\u001B[32m[I 2022-01-29 18:24:36,903]\u001B[0m Trial 98 finished with value: 0.1199548914940346 and parameters: {'n_estimators': 2264, 'max_depth': 10, 'min_child_weight': 24, 'gamma': 1, 'colsample_bytree': 1.0, 'lambda': 0.06237690851771199, 'aplha': 0.007414096629400113, 'subsample': 0.6}. Best is trial 10 with value: 0.09673397262978066.\u001B[0m\n",
      "\u001B[32m[I 2022-01-29 18:24:41,593]\u001B[0m Trial 99 finished with value: 0.10920982390734621 and parameters: {'n_estimators': 2043, 'max_depth': 13, 'min_child_weight': 50, 'gamma': 1, 'colsample_bytree': 0.6, 'lambda': 0.026438010569883135, 'aplha': 0.0010042838719603305, 'subsample': 0.8}. Best is trial 10 with value: 0.09673397262978066.\u001B[0m\n"
     ]
    },
    {
     "name": "stdout",
     "output_type": "stream",
     "text": [
      "Best trial: score [0.09673397262978066],\n",
      "params {'n_estimators': 2623, 'max_depth': 10, 'min_child_weight': 58, 'gamma': 1, 'colsample_bytree': 1.0, 'lambda': 0.01668391418732973, 'aplha': 0.001699168154265597, 'subsample': 0.7}\n"
     ]
    }
   ],
   "source": [
    "study = optuna.create_study(direction='minimize', sampler=TPESampler())\n",
    "study.optimize(lambda trial : objectiveXGB(trial, X, y), n_trials=100)\n",
    "print('Best trial: score {},\\nparams {}'.format(study.best_trial.values, study.best_trial.params))"
   ],
   "metadata": {
    "collapsed": false,
    "pycharm": {
     "name": "#%%\n"
    }
   }
  },
  {
   "cell_type": "code",
   "execution_count": 34,
   "outputs": [
    {
     "name": "stdout",
     "output_type": "stream",
     "text": [
      "Best Trial: score 0.09673397262978066,\n",
      "params {'n_estimators': 2623, 'max_depth': 10, 'min_child_weight': 58, 'gamma': 1, 'colsample_bytree': 1.0, 'lambda': 0.01668391418732973, 'aplha': 0.001699168154265597, 'subsample': 0.7}\n"
     ]
    }
   ],
   "source": [
    "xgb_trial = study.best_trial\n",
    "xgb_trial_params = xgb_trial.params\n",
    "print('Best Trial: score {},\\nparams {}'.format(xgb_trial.value, xgb_trial_params))"
   ],
   "metadata": {
    "collapsed": false,
    "pycharm": {
     "name": "#%%\n"
    }
   }
  },
  {
   "cell_type": "markdown",
   "source": [
    "## LGBMRegressor"
   ],
   "metadata": {
    "collapsed": false,
    "pycharm": {
     "name": "#%% md\n"
    }
   }
  },
  {
   "cell_type": "code",
   "execution_count": 35,
   "outputs": [],
   "source": [
    "def objectiveLGBMRegressor(trial: Trial, X, y):\n",
    "\n",
    "    params = {\n",
    "        'n_estimators' : trial.suggest_int('n_estimators', 500, 4000),\n",
    "        'max_depth' : trial.suggest_int('max_depth', 8, 16),\n",
    "        'min_child_weight' : trial.suggest_int('min_child_weight', 1, 300),\n",
    "        'learning_rate' : 0.01,\n",
    "        'colsample_bytree' : trial.suggest_discrete_uniform('colsample_bytree', 0.5, 1, 0.1),\n",
    "        'lambda' : trial.suggest_loguniform('lambda', 1e-3, 10.0),\n",
    "        'alpha' : trial.suggest_loguniform('aplha', 1e-3, 10.0),\n",
    "        'subsample' : trial.suggest_categorical('subsample', [0.6, 0.7, 0.8, 1.0]),\n",
    "        'random_state' : 42\n",
    "    }\n",
    "\n",
    "    X_train, X_test, y_train, y_test = train_test_split(X, y, test_size=0.2)\n",
    "\n",
    "    y_train = np.array(y_train).reshape(-1, 1)\n",
    "    y_test = np.array(y_test).reshape(-1, 1)\n",
    "\n",
    "    model = LGBMRegressor(**params)\n",
    "    lgbm_model = model.fit(X_train, y_train, verbose=False, eval_set=[(X_test, y_test)])\n",
    "    score = mean_squared_error(lgbm_model.predict(X_test), y_test, squared=False)\n",
    "\n",
    "    return score"
   ],
   "metadata": {
    "collapsed": false,
    "pycharm": {
     "name": "#%%\n"
    }
   }
  },
  {
   "cell_type": "code",
   "execution_count": 36,
   "outputs": [
    {
     "name": "stderr",
     "output_type": "stream",
     "text": [
      "\u001B[32m[I 2022-01-29 18:24:41,631]\u001B[0m A new study created in memory with name: no-name-5d2ce8a9-01a0-4338-88e4-87ada0b543b7\u001B[0m\n"
     ]
    },
    {
     "name": "stdout",
     "output_type": "stream",
     "text": [
      "[LightGBM] [Warning] lambda_l2 is set with reg_lambda=0.0, will be overridden by lambda=0.0013074823245140725. Current value: lambda_l2=0.0013074823245140725\n"
     ]
    },
    {
     "name": "stderr",
     "output_type": "stream",
     "text": [
      "\u001B[32m[I 2022-01-29 18:24:42,471]\u001B[0m Trial 0 finished with value: 0.08489902144363967 and parameters: {'n_estimators': 1686, 'max_depth': 11, 'min_child_weight': 180, 'colsample_bytree': 0.7, 'lambda': 0.0013074823245140725, 'aplha': 1.2073443215020232, 'subsample': 0.7}. Best is trial 0 with value: 0.08489902144363967.\u001B[0m\n"
     ]
    },
    {
     "name": "stdout",
     "output_type": "stream",
     "text": [
      "[LightGBM] [Warning] lambda_l2 is set with reg_lambda=0.0, will be overridden by lambda=0.0538423928924027. Current value: lambda_l2=0.0538423928924027\n"
     ]
    },
    {
     "name": "stderr",
     "output_type": "stream",
     "text": [
      "\u001B[32m[I 2022-01-29 18:24:43,156]\u001B[0m Trial 1 finished with value: 0.09974202708992563 and parameters: {'n_estimators': 1667, 'max_depth': 10, 'min_child_weight': 283, 'colsample_bytree': 0.7, 'lambda': 0.0538423928924027, 'aplha': 0.017877597895227592, 'subsample': 0.7}. Best is trial 0 with value: 0.08489902144363967.\u001B[0m\n"
     ]
    },
    {
     "name": "stdout",
     "output_type": "stream",
     "text": [
      "[LightGBM] [Warning] lambda_l2 is set with reg_lambda=0.0, will be overridden by lambda=0.18085539841695228. Current value: lambda_l2=0.18085539841695228\n"
     ]
    },
    {
     "name": "stderr",
     "output_type": "stream",
     "text": [
      "\u001B[32m[I 2022-01-29 18:24:43,812]\u001B[0m Trial 2 finished with value: 0.07888444303110874 and parameters: {'n_estimators': 937, 'max_depth': 13, 'min_child_weight': 106, 'colsample_bytree': 0.9, 'lambda': 0.18085539841695228, 'aplha': 0.002522342985050428, 'subsample': 0.7}. Best is trial 2 with value: 0.07888444303110874.\u001B[0m\n"
     ]
    },
    {
     "name": "stdout",
     "output_type": "stream",
     "text": [
      "[LightGBM] [Warning] lambda_l2 is set with reg_lambda=0.0, will be overridden by lambda=0.003790068036452742. Current value: lambda_l2=0.003790068036452742\n"
     ]
    },
    {
     "name": "stderr",
     "output_type": "stream",
     "text": [
      "\u001B[32m[I 2022-01-29 18:24:44,961]\u001B[0m Trial 3 finished with value: 0.06639039592745186 and parameters: {'n_estimators': 2023, 'max_depth': 11, 'min_child_weight': 12, 'colsample_bytree': 0.6, 'lambda': 0.003790068036452742, 'aplha': 0.016152976327952297, 'subsample': 0.8}. Best is trial 3 with value: 0.06639039592745186.\u001B[0m\n"
     ]
    },
    {
     "name": "stdout",
     "output_type": "stream",
     "text": [
      "[LightGBM] [Warning] lambda_l2 is set with reg_lambda=0.0, will be overridden by lambda=0.006440520504610903. Current value: lambda_l2=0.006440520504610903\n"
     ]
    },
    {
     "name": "stderr",
     "output_type": "stream",
     "text": [
      "\u001B[32m[I 2022-01-29 18:24:45,636]\u001B[0m Trial 4 finished with value: 0.09326709403639882 and parameters: {'n_estimators': 1064, 'max_depth': 13, 'min_child_weight': 10, 'colsample_bytree': 0.6, 'lambda': 0.006440520504610903, 'aplha': 0.705658179648431, 'subsample': 0.7}. Best is trial 3 with value: 0.06639039592745186.\u001B[0m\n"
     ]
    },
    {
     "name": "stdout",
     "output_type": "stream",
     "text": [
      "[LightGBM] [Warning] lambda_l2 is set with reg_lambda=0.0, will be overridden by lambda=0.005381849530781925. Current value: lambda_l2=0.005381849530781925\n"
     ]
    },
    {
     "name": "stderr",
     "output_type": "stream",
     "text": [
      "\u001B[32m[I 2022-01-29 18:24:47,379]\u001B[0m Trial 5 finished with value: 0.07446462133912785 and parameters: {'n_estimators': 3721, 'max_depth': 11, 'min_child_weight': 223, 'colsample_bytree': 0.9, 'lambda': 0.005381849530781925, 'aplha': 0.25979717051082646, 'subsample': 0.7}. Best is trial 3 with value: 0.06639039592745186.\u001B[0m\n"
     ]
    },
    {
     "name": "stdout",
     "output_type": "stream",
     "text": [
      "[LightGBM] [Warning] lambda_l2 is set with reg_lambda=0.0, will be overridden by lambda=0.0014273582233607042. Current value: lambda_l2=0.0014273582233607042\n"
     ]
    },
    {
     "name": "stderr",
     "output_type": "stream",
     "text": [
      "\u001B[32m[I 2022-01-29 18:24:47,927]\u001B[0m Trial 6 finished with value: 0.07740289532513149 and parameters: {'n_estimators': 1211, 'max_depth': 9, 'min_child_weight': 181, 'colsample_bytree': 0.8, 'lambda': 0.0014273582233607042, 'aplha': 0.2610717371584995, 'subsample': 0.7}. Best is trial 3 with value: 0.06639039592745186.\u001B[0m\n"
     ]
    },
    {
     "name": "stdout",
     "output_type": "stream",
     "text": [
      "[LightGBM] [Warning] lambda_l2 is set with reg_lambda=0.0, will be overridden by lambda=2.5177806858706546. Current value: lambda_l2=2.5177806858706546\n"
     ]
    },
    {
     "name": "stderr",
     "output_type": "stream",
     "text": [
      "\u001B[32m[I 2022-01-29 18:24:49,410]\u001B[0m Trial 7 finished with value: 0.08307523563030711 and parameters: {'n_estimators': 3959, 'max_depth': 8, 'min_child_weight': 174, 'colsample_bytree': 0.5, 'lambda': 2.5177806858706546, 'aplha': 0.547890139457756, 'subsample': 1.0}. Best is trial 3 with value: 0.06639039592745186.\u001B[0m\n"
     ]
    },
    {
     "name": "stdout",
     "output_type": "stream",
     "text": [
      "[LightGBM] [Warning] lambda_l2 is set with reg_lambda=0.0, will be overridden by lambda=0.0037567890256364205. Current value: lambda_l2=0.0037567890256364205\n"
     ]
    },
    {
     "name": "stderr",
     "output_type": "stream",
     "text": [
      "\u001B[32m[I 2022-01-29 18:24:51,080]\u001B[0m Trial 8 finished with value: 0.06697953480358833 and parameters: {'n_estimators': 3879, 'max_depth': 8, 'min_child_weight': 53, 'colsample_bytree': 0.7, 'lambda': 0.0037567890256364205, 'aplha': 0.34522436607552587, 'subsample': 1.0}. Best is trial 3 with value: 0.06639039592745186.\u001B[0m\n"
     ]
    },
    {
     "name": "stdout",
     "output_type": "stream",
     "text": [
      "[LightGBM] [Warning] lambda_l2 is set with reg_lambda=0.0, will be overridden by lambda=0.026891949773125253. Current value: lambda_l2=0.026891949773125253\n"
     ]
    },
    {
     "name": "stderr",
     "output_type": "stream",
     "text": [
      "\u001B[32m[I 2022-01-29 18:24:51,838]\u001B[0m Trial 9 finished with value: 0.06559494285791106 and parameters: {'n_estimators': 1283, 'max_depth': 12, 'min_child_weight': 23, 'colsample_bytree': 0.5, 'lambda': 0.026891949773125253, 'aplha': 0.003263906612810072, 'subsample': 0.8}. Best is trial 9 with value: 0.06559494285791106.\u001B[0m\n"
     ]
    },
    {
     "name": "stdout",
     "output_type": "stream",
     "text": [
      "[LightGBM] [Warning] lambda_l2 is set with reg_lambda=0.0, will be overridden by lambda=0.09511324148407771. Current value: lambda_l2=0.09511324148407771\n"
     ]
    },
    {
     "name": "stderr",
     "output_type": "stream",
     "text": [
      "\u001B[32m[I 2022-01-29 18:24:53,494]\u001B[0m Trial 10 finished with value: 0.07383718673668682 and parameters: {'n_estimators': 2686, 'max_depth': 16, 'min_child_weight': 98, 'colsample_bytree': 0.5, 'lambda': 0.09511324148407771, 'aplha': 5.796327095250901, 'subsample': 0.6}. Best is trial 9 with value: 0.06559494285791106.\u001B[0m\n"
     ]
    },
    {
     "name": "stdout",
     "output_type": "stream",
     "text": [
      "[LightGBM] [Warning] lambda_l2 is set with reg_lambda=0.0, will be overridden by lambda=0.022914411188296627. Current value: lambda_l2=0.022914411188296627\n"
     ]
    },
    {
     "name": "stderr",
     "output_type": "stream",
     "text": [
      "\u001B[32m[I 2022-01-29 18:24:54,996]\u001B[0m Trial 11 finished with value: 0.06665804170053853 and parameters: {'n_estimators': 2546, 'max_depth': 14, 'min_child_weight': 1, 'colsample_bytree': 0.5, 'lambda': 0.022914411188296627, 'aplha': 0.01474498082319911, 'subsample': 0.8}. Best is trial 9 with value: 0.06559494285791106.\u001B[0m\n"
     ]
    },
    {
     "name": "stdout",
     "output_type": "stream",
     "text": [
      "[LightGBM] [Warning] lambda_l2 is set with reg_lambda=0.0, will be overridden by lambda=0.5196857532474851. Current value: lambda_l2=0.5196857532474851\n"
     ]
    },
    {
     "name": "stderr",
     "output_type": "stream",
     "text": [
      "\u001B[32m[I 2022-01-29 18:24:55,376]\u001B[0m Trial 12 finished with value: 0.0799467720059648 and parameters: {'n_estimators': 502, 'max_depth': 12, 'min_child_weight': 60, 'colsample_bytree': 0.6, 'lambda': 0.5196857532474851, 'aplha': 0.0011352392132798345, 'subsample': 0.8}. Best is trial 9 with value: 0.06559494285791106.\u001B[0m\n"
     ]
    },
    {
     "name": "stdout",
     "output_type": "stream",
     "text": [
      "[LightGBM] [Warning] lambda_l2 is set with reg_lambda=0.0, will be overridden by lambda=0.023999328236479378. Current value: lambda_l2=0.023999328236479378\n"
     ]
    },
    {
     "name": "stderr",
     "output_type": "stream",
     "text": [
      "\u001B[32m[I 2022-01-29 18:24:56,642]\u001B[0m Trial 13 finished with value: 0.0733338177138451 and parameters: {'n_estimators': 2053, 'max_depth': 14, 'min_child_weight': 51, 'colsample_bytree': 0.6, 'lambda': 0.023999328236479378, 'aplha': 0.015959809167308308, 'subsample': 0.8}. Best is trial 9 with value: 0.06559494285791106.\u001B[0m\n"
     ]
    },
    {
     "name": "stdout",
     "output_type": "stream",
     "text": [
      "[LightGBM] [Warning] lambda_l2 is set with reg_lambda=0.0, will be overridden by lambda=0.01867217443569657. Current value: lambda_l2=0.01867217443569657\n"
     ]
    },
    {
     "name": "stderr",
     "output_type": "stream",
     "text": [
      "\u001B[32m[I 2022-01-29 18:24:58,368]\u001B[0m Trial 14 finished with value: 0.08949227699899676 and parameters: {'n_estimators': 3153, 'max_depth': 11, 'min_child_weight': 113, 'colsample_bytree': 1.0, 'lambda': 0.01867217443569657, 'aplha': 0.005585676050478881, 'subsample': 0.8}. Best is trial 9 with value: 0.06559494285791106.\u001B[0m\n"
     ]
    },
    {
     "name": "stdout",
     "output_type": "stream",
     "text": [
      "[LightGBM] [Warning] lambda_l2 is set with reg_lambda=0.0, will be overridden by lambda=0.3547003969866159. Current value: lambda_l2=0.3547003969866159\n"
     ]
    },
    {
     "name": "stderr",
     "output_type": "stream",
     "text": [
      "\u001B[32m[I 2022-01-29 18:24:59,744]\u001B[0m Trial 15 finished with value: 0.0683293919458057 and parameters: {'n_estimators': 2141, 'max_depth': 16, 'min_child_weight': 42, 'colsample_bytree': 0.6, 'lambda': 0.3547003969866159, 'aplha': 0.0392885569424986, 'subsample': 0.8}. Best is trial 9 with value: 0.06559494285791106.\u001B[0m\n"
     ]
    },
    {
     "name": "stdout",
     "output_type": "stream",
     "text": [
      "[LightGBM] [Warning] lambda_l2 is set with reg_lambda=0.0, will be overridden by lambda=0.009694867469706419. Current value: lambda_l2=0.009694867469706419\n"
     ]
    },
    {
     "name": "stderr",
     "output_type": "stream",
     "text": [
      "\u001B[32m[I 2022-01-29 18:25:00,557]\u001B[0m Trial 16 finished with value: 0.09748461507060395 and parameters: {'n_estimators': 1527, 'max_depth': 10, 'min_child_weight': 86, 'colsample_bytree': 0.5, 'lambda': 0.009694867469706419, 'aplha': 0.07337243540473798, 'subsample': 0.6}. Best is trial 9 with value: 0.06559494285791106.\u001B[0m\n"
     ]
    },
    {
     "name": "stdout",
     "output_type": "stream",
     "text": [
      "[LightGBM] [Warning] lambda_l2 is set with reg_lambda=0.0, will be overridden by lambda=2.9883326988241565. Current value: lambda_l2=2.9883326988241565\n"
     ]
    },
    {
     "name": "stderr",
     "output_type": "stream",
     "text": [
      "\u001B[32m[I 2022-01-29 18:25:00,955]\u001B[0m Trial 17 finished with value: 0.08428387944286443 and parameters: {'n_estimators': 621, 'max_depth': 12, 'min_child_weight': 134, 'colsample_bytree': 0.6, 'lambda': 2.9883326988241565, 'aplha': 0.003836794923610677, 'subsample': 0.8}. Best is trial 9 with value: 0.06559494285791106.\u001B[0m\n"
     ]
    },
    {
     "name": "stdout",
     "output_type": "stream",
     "text": [
      "[LightGBM] [Warning] lambda_l2 is set with reg_lambda=0.0, will be overridden by lambda=9.192265054043993. Current value: lambda_l2=9.192265054043993\n"
     ]
    },
    {
     "name": "stderr",
     "output_type": "stream",
     "text": [
      "\u001B[32m[I 2022-01-29 18:25:02,856]\u001B[0m Trial 18 finished with value: 0.06461563319309946 and parameters: {'n_estimators': 2869, 'max_depth': 14, 'min_child_weight': 23, 'colsample_bytree': 0.8, 'lambda': 9.192265054043993, 'aplha': 0.0010295316108561092, 'subsample': 0.8}. Best is trial 18 with value: 0.06461563319309946.\u001B[0m\n"
     ]
    },
    {
     "name": "stdout",
     "output_type": "stream",
     "text": [
      "[LightGBM] [Warning] lambda_l2 is set with reg_lambda=0.0, will be overridden by lambda=0.9046693436878405. Current value: lambda_l2=0.9046693436878405\n"
     ]
    },
    {
     "name": "stderr",
     "output_type": "stream",
     "text": [
      "\u001B[32m[I 2022-01-29 18:25:04,428]\u001B[0m Trial 19 finished with value: 0.07761844602824565 and parameters: {'n_estimators': 3233, 'max_depth': 15, 'min_child_weight': 240, 'colsample_bytree': 0.9, 'lambda': 0.9046693436878405, 'aplha': 0.0010109410261025153, 'subsample': 0.8}. Best is trial 18 with value: 0.06461563319309946.\u001B[0m\n"
     ]
    },
    {
     "name": "stdout",
     "output_type": "stream",
     "text": [
      "[LightGBM] [Warning] lambda_l2 is set with reg_lambda=0.0, will be overridden by lambda=5.297949738007397. Current value: lambda_l2=5.297949738007397\n"
     ]
    },
    {
     "name": "stderr",
     "output_type": "stream",
     "text": [
      "\u001B[32m[I 2022-01-29 18:25:06,123]\u001B[0m Trial 20 finished with value: 0.07102197447916857 and parameters: {'n_estimators': 2622, 'max_depth': 14, 'min_child_weight': 72, 'colsample_bytree': 0.8, 'lambda': 5.297949738007397, 'aplha': 0.005624167369379787, 'subsample': 0.6}. Best is trial 18 with value: 0.06461563319309946.\u001B[0m\n"
     ]
    },
    {
     "name": "stdout",
     "output_type": "stream",
     "text": [
      "[LightGBM] [Warning] lambda_l2 is set with reg_lambda=0.0, will be overridden by lambda=9.848070055541701. Current value: lambda_l2=9.848070055541701\n"
     ]
    },
    {
     "name": "stderr",
     "output_type": "stream",
     "text": [
      "\u001B[32m[I 2022-01-29 18:25:08,102]\u001B[0m Trial 21 finished with value: 0.062160430134584235 and parameters: {'n_estimators': 3076, 'max_depth': 13, 'min_child_weight': 22, 'colsample_bytree': 0.8, 'lambda': 9.848070055541701, 'aplha': 0.0019697293705218774, 'subsample': 0.8}. Best is trial 21 with value: 0.062160430134584235.\u001B[0m\n"
     ]
    },
    {
     "name": "stdout",
     "output_type": "stream",
     "text": [
      "[LightGBM] [Warning] lambda_l2 is set with reg_lambda=0.0, will be overridden by lambda=8.897185129601045. Current value: lambda_l2=8.897185129601045\n"
     ]
    },
    {
     "name": "stderr",
     "output_type": "stream",
     "text": [
      "\u001B[32m[I 2022-01-29 18:25:10,129]\u001B[0m Trial 22 finished with value: 0.06714721634161537 and parameters: {'n_estimators': 3142, 'max_depth': 13, 'min_child_weight': 34, 'colsample_bytree': 0.8, 'lambda': 8.897185129601045, 'aplha': 0.00199054174108782, 'subsample': 0.8}. Best is trial 21 with value: 0.062160430134584235.\u001B[0m\n"
     ]
    },
    {
     "name": "stdout",
     "output_type": "stream",
     "text": [
      "[LightGBM] [Warning] lambda_l2 is set with reg_lambda=0.0, will be overridden by lambda=1.2722000540059653. Current value: lambda_l2=1.2722000540059653\n"
     ]
    },
    {
     "name": "stderr",
     "output_type": "stream",
     "text": [
      "\u001B[32m[I 2022-01-29 18:25:12,259]\u001B[0m Trial 23 finished with value: 0.06527440673142107 and parameters: {'n_estimators': 3449, 'max_depth': 13, 'min_child_weight': 31, 'colsample_bytree': 0.8, 'lambda': 1.2722000540059653, 'aplha': 0.006622564500929293, 'subsample': 0.8}. Best is trial 21 with value: 0.062160430134584235.\u001B[0m\n"
     ]
    },
    {
     "name": "stdout",
     "output_type": "stream",
     "text": [
      "[LightGBM] [Warning] lambda_l2 is set with reg_lambda=0.0, will be overridden by lambda=2.5891508278615745. Current value: lambda_l2=2.5891508278615745\n"
     ]
    },
    {
     "name": "stderr",
     "output_type": "stream",
     "text": [
      "\u001B[32m[I 2022-01-29 18:25:14,433]\u001B[0m Trial 24 finished with value: 0.06419943885968767 and parameters: {'n_estimators': 3457, 'max_depth': 15, 'min_child_weight': 82, 'colsample_bytree': 0.8, 'lambda': 2.5891508278615745, 'aplha': 0.007852802297964175, 'subsample': 1.0}. Best is trial 21 with value: 0.062160430134584235.\u001B[0m\n"
     ]
    },
    {
     "name": "stdout",
     "output_type": "stream",
     "text": [
      "[LightGBM] [Warning] lambda_l2 is set with reg_lambda=0.0, will be overridden by lambda=9.868620526367996. Current value: lambda_l2=9.868620526367996\n"
     ]
    },
    {
     "name": "stderr",
     "output_type": "stream",
     "text": [
      "\u001B[32m[I 2022-01-29 18:25:16,511]\u001B[0m Trial 25 finished with value: 0.07119648598856072 and parameters: {'n_estimators': 2970, 'max_depth': 15, 'min_child_weight': 77, 'colsample_bytree': 1.0, 'lambda': 9.868620526367996, 'aplha': 0.0016594320652691308, 'subsample': 1.0}. Best is trial 21 with value: 0.062160430134584235.\u001B[0m\n"
     ]
    },
    {
     "name": "stdout",
     "output_type": "stream",
     "text": [
      "[LightGBM] [Warning] lambda_l2 is set with reg_lambda=0.0, will be overridden by lambda=4.043275352679576. Current value: lambda_l2=4.043275352679576\n"
     ]
    },
    {
     "name": "stderr",
     "output_type": "stream",
     "text": [
      "\u001B[32m[I 2022-01-29 18:25:18,763]\u001B[0m Trial 26 finished with value: 0.07703461156306403 and parameters: {'n_estimators': 3472, 'max_depth': 15, 'min_child_weight': 132, 'colsample_bytree': 0.9, 'lambda': 4.043275352679576, 'aplha': 0.008986543965694238, 'subsample': 1.0}. Best is trial 21 with value: 0.062160430134584235.\u001B[0m\n"
     ]
    },
    {
     "name": "stdout",
     "output_type": "stream",
     "text": [
      "[LightGBM] [Warning] lambda_l2 is set with reg_lambda=0.0, will be overridden by lambda=2.1043438635142504. Current value: lambda_l2=2.1043438635142504\n"
     ]
    },
    {
     "name": "stderr",
     "output_type": "stream",
     "text": [
      "\u001B[32m[I 2022-01-29 18:25:20,572]\u001B[0m Trial 27 finished with value: 0.07385818656155507 and parameters: {'n_estimators': 2890, 'max_depth': 14, 'min_child_weight': 65, 'colsample_bytree': 0.8, 'lambda': 2.1043438635142504, 'aplha': 0.0728235538670246, 'subsample': 1.0}. Best is trial 21 with value: 0.062160430134584235.\u001B[0m\n"
     ]
    },
    {
     "name": "stdout",
     "output_type": "stream",
     "text": [
      "[LightGBM] [Warning] lambda_l2 is set with reg_lambda=0.0, will be overridden by lambda=5.470696366473171. Current value: lambda_l2=5.470696366473171\n"
     ]
    },
    {
     "name": "stderr",
     "output_type": "stream",
     "text": [
      "\u001B[32m[I 2022-01-29 18:25:22,806]\u001B[0m Trial 28 finished with value: 0.06732055093720411 and parameters: {'n_estimators': 3561, 'max_depth': 15, 'min_child_weight': 34, 'colsample_bytree': 0.7, 'lambda': 5.470696366473171, 'aplha': 0.02966607842472129, 'subsample': 1.0}. Best is trial 21 with value: 0.062160430134584235.\u001B[0m\n"
     ]
    },
    {
     "name": "stdout",
     "output_type": "stream",
     "text": [
      "[LightGBM] [Warning] lambda_l2 is set with reg_lambda=0.0, will be overridden by lambda=1.2029343433795698. Current value: lambda_l2=1.2029343433795698\n"
     ]
    },
    {
     "name": "stderr",
     "output_type": "stream",
     "text": [
      "\u001B[32m[I 2022-01-29 18:25:24,349]\u001B[0m Trial 29 finished with value: 0.06162182414744128 and parameters: {'n_estimators': 2436, 'max_depth': 16, 'min_child_weight': 2, 'colsample_bytree': 0.7, 'lambda': 1.2029343433795698, 'aplha': 6.632324911467629, 'subsample': 1.0}. Best is trial 29 with value: 0.06162182414744128.\u001B[0m\n"
     ]
    },
    {
     "name": "stdout",
     "output_type": "stream",
     "text": [
      "[LightGBM] [Warning] lambda_l2 is set with reg_lambda=0.0, will be overridden by lambda=1.2293706092809529. Current value: lambda_l2=1.2293706092809529\n"
     ]
    },
    {
     "name": "stderr",
     "output_type": "stream",
     "text": [
      "\u001B[32m[I 2022-01-29 18:25:25,759]\u001B[0m Trial 30 finished with value: 0.09242226459344499 and parameters: {'n_estimators': 2393, 'max_depth': 16, 'min_child_weight': 163, 'colsample_bytree': 0.7, 'lambda': 1.2293706092809529, 'aplha': 3.0756500367474815, 'subsample': 1.0}. Best is trial 29 with value: 0.06162182414744128.\u001B[0m\n"
     ]
    },
    {
     "name": "stdout",
     "output_type": "stream",
     "text": [
      "[LightGBM] [Warning] lambda_l2 is set with reg_lambda=0.0, will be overridden by lambda=6.446594727632599. Current value: lambda_l2=6.446594727632599\n"
     ]
    },
    {
     "name": "stderr",
     "output_type": "stream",
     "text": [
      "\u001B[32m[I 2022-01-29 18:25:27,649]\u001B[0m Trial 31 finished with value: 0.06417607022582339 and parameters: {'n_estimators': 2769, 'max_depth': 16, 'min_child_weight': 5, 'colsample_bytree': 0.8, 'lambda': 6.446594727632599, 'aplha': 1.1909288996643859, 'subsample': 1.0}. Best is trial 29 with value: 0.06162182414744128.\u001B[0m\n"
     ]
    },
    {
     "name": "stdout",
     "output_type": "stream",
     "text": [
      "[LightGBM] [Warning] lambda_l2 is set with reg_lambda=0.0, will be overridden by lambda=1.8124108324855168. Current value: lambda_l2=1.8124108324855168\n"
     ]
    },
    {
     "name": "stderr",
     "output_type": "stream",
     "text": [
      "\u001B[32m[I 2022-01-29 18:25:29,173]\u001B[0m Trial 32 finished with value: 0.08204066961489684 and parameters: {'n_estimators': 2362, 'max_depth': 16, 'min_child_weight': 8, 'colsample_bytree': 0.7, 'lambda': 1.8124108324855168, 'aplha': 1.7615871031112025, 'subsample': 1.0}. Best is trial 29 with value: 0.06162182414744128.\u001B[0m\n"
     ]
    },
    {
     "name": "stdout",
     "output_type": "stream",
     "text": [
      "[LightGBM] [Warning] lambda_l2 is set with reg_lambda=0.0, will be overridden by lambda=0.5415040689342476. Current value: lambda_l2=0.5415040689342476\n"
     ]
    },
    {
     "name": "stderr",
     "output_type": "stream",
     "text": [
      "\u001B[32m[I 2022-01-29 18:25:30,457]\u001B[0m Trial 33 finished with value: 0.068774874600707 and parameters: {'n_estimators': 1844, 'max_depth': 15, 'min_child_weight': 5, 'colsample_bytree': 0.7, 'lambda': 0.5415040689342476, 'aplha': 4.192142154988638, 'subsample': 1.0}. Best is trial 29 with value: 0.06162182414744128.\u001B[0m\n"
     ]
    },
    {
     "name": "stdout",
     "output_type": "stream",
     "text": [
      "[LightGBM] [Warning] lambda_l2 is set with reg_lambda=0.0, will be overridden by lambda=0.22151031640477759. Current value: lambda_l2=0.22151031640477759\n"
     ]
    },
    {
     "name": "stderr",
     "output_type": "stream",
     "text": [
      "\u001B[32m[I 2022-01-29 18:25:31,911]\u001B[0m Trial 34 finished with value: 0.07676923288316372 and parameters: {'n_estimators': 3268, 'max_depth': 16, 'min_child_weight': 291, 'colsample_bytree': 0.9, 'lambda': 0.22151031640477759, 'aplha': 1.780649515283272, 'subsample': 1.0}. Best is trial 29 with value: 0.06162182414744128.\u001B[0m\n"
     ]
    },
    {
     "name": "stdout",
     "output_type": "stream",
     "text": [
      "[LightGBM] [Warning] lambda_l2 is set with reg_lambda=0.0, will be overridden by lambda=3.7654787521067297. Current value: lambda_l2=3.7654787521067297\n"
     ]
    },
    {
     "name": "stderr",
     "output_type": "stream",
     "text": [
      "\u001B[32m[I 2022-01-29 18:25:33,772]\u001B[0m Trial 35 finished with value: 0.0795536137182543 and parameters: {'n_estimators': 2825, 'max_depth': 15, 'min_child_weight': 47, 'colsample_bytree': 0.8, 'lambda': 3.7654787521067297, 'aplha': 7.065780379854164, 'subsample': 1.0}. Best is trial 29 with value: 0.06162182414744128.\u001B[0m\n"
     ]
    },
    {
     "name": "stdout",
     "output_type": "stream",
     "text": [
      "[LightGBM] [Warning] lambda_l2 is set with reg_lambda=0.0, will be overridden by lambda=1.0824061210144524. Current value: lambda_l2=1.0824061210144524\n"
     ]
    },
    {
     "name": "stderr",
     "output_type": "stream",
     "text": [
      "\u001B[32m[I 2022-01-29 18:25:36,227]\u001B[0m Trial 36 finished with value: 0.08342733269156032 and parameters: {'n_estimators': 3691, 'max_depth': 16, 'min_child_weight': 89, 'colsample_bytree': 0.9, 'lambda': 1.0824061210144524, 'aplha': 9.986454773031172, 'subsample': 1.0}. Best is trial 29 with value: 0.06162182414744128.\u001B[0m\n"
     ]
    },
    {
     "name": "stdout",
     "output_type": "stream",
     "text": [
      "[LightGBM] [Warning] lambda_l2 is set with reg_lambda=0.0, will be overridden by lambda=5.90695177747382. Current value: lambda_l2=5.90695177747382\n"
     ]
    },
    {
     "name": "stderr",
     "output_type": "stream",
     "text": [
      "\u001B[32m[I 2022-01-29 18:25:38,212]\u001B[0m Trial 37 finished with value: 0.06377932948940035 and parameters: {'n_estimators': 3047, 'max_depth': 15, 'min_child_weight': 25, 'colsample_bytree': 0.7, 'lambda': 5.90695177747382, 'aplha': 0.14713783599650582, 'subsample': 0.7}. Best is trial 29 with value: 0.06162182414744128.\u001B[0m\n"
     ]
    },
    {
     "name": "stdout",
     "output_type": "stream",
     "text": [
      "[LightGBM] [Warning] lambda_l2 is set with reg_lambda=0.0, will be overridden by lambda=6.211700629526126. Current value: lambda_l2=6.211700629526126\n"
     ]
    },
    {
     "name": "stderr",
     "output_type": "stream",
     "text": [
      "\u001B[32m[I 2022-01-29 18:25:39,818]\u001B[0m Trial 38 finished with value: 0.06094832779463631 and parameters: {'n_estimators': 2470, 'max_depth': 16, 'min_child_weight': 17, 'colsample_bytree': 0.7, 'lambda': 6.211700629526126, 'aplha': 0.18027196186105365, 'subsample': 0.7}. Best is trial 38 with value: 0.06094832779463631.\u001B[0m\n"
     ]
    },
    {
     "name": "stdout",
     "output_type": "stream",
     "text": [
      "[LightGBM] [Warning] lambda_l2 is set with reg_lambda=0.0, will be overridden by lambda=5.379905354413642. Current value: lambda_l2=5.379905354413642\n"
     ]
    },
    {
     "name": "stderr",
     "output_type": "stream",
     "text": [
      "\u001B[32m[I 2022-01-29 18:25:41,307]\u001B[0m Trial 39 finished with value: 0.06842417529317764 and parameters: {'n_estimators': 2443, 'max_depth': 13, 'min_child_weight': 19, 'colsample_bytree': 0.7, 'lambda': 5.379905354413642, 'aplha': 0.1497879587489883, 'subsample': 0.7}. Best is trial 38 with value: 0.06094832779463631.\u001B[0m\n"
     ]
    },
    {
     "name": "stdout",
     "output_type": "stream",
     "text": [
      "[LightGBM] [Warning] lambda_l2 is set with reg_lambda=0.0, will be overridden by lambda=1.6573061071738953. Current value: lambda_l2=1.6573061071738953\n"
     ]
    },
    {
     "name": "stderr",
     "output_type": "stream",
     "text": [
      "\u001B[32m[I 2022-01-29 18:25:42,161]\u001B[0m Trial 40 finished with value: 0.08451190839130057 and parameters: {'n_estimators': 1801, 'max_depth': 14, 'min_child_weight': 231, 'colsample_bytree': 0.7, 'lambda': 1.6573061071738953, 'aplha': 0.16377799319745268, 'subsample': 0.7}. Best is trial 38 with value: 0.06094832779463631.\u001B[0m\n"
     ]
    },
    {
     "name": "stdout",
     "output_type": "stream",
     "text": [
      "[LightGBM] [Warning] lambda_l2 is set with reg_lambda=0.0, will be overridden by lambda=6.391658088252558. Current value: lambda_l2=6.391658088252558\n"
     ]
    },
    {
     "name": "stderr",
     "output_type": "stream",
     "text": [
      "\u001B[32m[I 2022-01-29 18:25:43,942]\u001B[0m Trial 41 finished with value: 0.07050603981752235 and parameters: {'n_estimators': 2732, 'max_depth': 16, 'min_child_weight': 18, 'colsample_bytree': 0.7, 'lambda': 6.391658088252558, 'aplha': 0.6867416260922652, 'subsample': 0.7}. Best is trial 38 with value: 0.06094832779463631.\u001B[0m\n"
     ]
    },
    {
     "name": "stdout",
     "output_type": "stream",
     "text": [
      "[LightGBM] [Warning] lambda_l2 is set with reg_lambda=0.0, will be overridden by lambda=3.2916175091680877. Current value: lambda_l2=3.2916175091680877\n"
     ]
    },
    {
     "name": "stderr",
     "output_type": "stream",
     "text": [
      "\u001B[32m[I 2022-01-29 18:25:45,403]\u001B[0m Trial 42 finished with value: 0.08371910132680982 and parameters: {'n_estimators': 2217, 'max_depth': 16, 'min_child_weight': 4, 'colsample_bytree': 0.7, 'lambda': 3.2916175091680877, 'aplha': 1.0571383563670051, 'subsample': 0.7}. Best is trial 38 with value: 0.06094832779463631.\u001B[0m\n"
     ]
    },
    {
     "name": "stdout",
     "output_type": "stream",
     "text": [
      "[LightGBM] [Warning] lambda_l2 is set with reg_lambda=0.0, will be overridden by lambda=6.730664576086423. Current value: lambda_l2=6.730664576086423\n"
     ]
    },
    {
     "name": "stderr",
     "output_type": "stream",
     "text": [
      "\u001B[32m[I 2022-01-29 18:25:47,468]\u001B[0m Trial 43 finished with value: 0.07102467456469194 and parameters: {'n_estimators': 3086, 'max_depth': 15, 'min_child_weight': 39, 'colsample_bytree': 0.8, 'lambda': 6.730664576086423, 'aplha': 2.539732519937033, 'subsample': 0.7}. Best is trial 38 with value: 0.06094832779463631.\u001B[0m\n"
     ]
    },
    {
     "name": "stdout",
     "output_type": "stream",
     "text": [
      "[LightGBM] [Warning] lambda_l2 is set with reg_lambda=0.0, will be overridden by lambda=4.489303439215373. Current value: lambda_l2=4.489303439215373\n"
     ]
    },
    {
     "name": "stderr",
     "output_type": "stream",
     "text": [
      "\u001B[32m[I 2022-01-29 18:25:48,792]\u001B[0m Trial 44 finished with value: 0.07650477818035949 and parameters: {'n_estimators': 2509, 'max_depth': 16, 'min_child_weight': 204, 'colsample_bytree': 0.7, 'lambda': 4.489303439215373, 'aplha': 0.2959117558712585, 'subsample': 0.7}. Best is trial 38 with value: 0.06094832779463631.\u001B[0m\n"
     ]
    },
    {
     "name": "stdout",
     "output_type": "stream",
     "text": [
      "[LightGBM] [Warning] lambda_l2 is set with reg_lambda=0.0, will be overridden by lambda=0.7074857496372826. Current value: lambda_l2=0.7074857496372826\n"
     ]
    },
    {
     "name": "stderr",
     "output_type": "stream",
     "text": [
      "\u001B[32m[I 2022-01-29 18:25:50,254]\u001B[0m Trial 45 finished with value: 0.07485467707335029 and parameters: {'n_estimators': 2287, 'max_depth': 16, 'min_child_weight': 23, 'colsample_bytree': 0.6, 'lambda': 0.7074857496372826, 'aplha': 0.3864555306676991, 'subsample': 0.7}. Best is trial 38 with value: 0.06094832779463631.\u001B[0m\n"
     ]
    },
    {
     "name": "stdout",
     "output_type": "stream",
     "text": [
      "[LightGBM] [Warning] lambda_l2 is set with reg_lambda=0.0, will be overridden by lambda=9.951225137760831. Current value: lambda_l2=9.951225137760831\n"
     ]
    },
    {
     "name": "stderr",
     "output_type": "stream",
     "text": [
      "\u001B[32m[I 2022-01-29 18:25:52,133]\u001B[0m Trial 46 finished with value: 0.07400342748729279 and parameters: {'n_estimators': 3009, 'max_depth': 15, 'min_child_weight': 63, 'colsample_bytree': 0.7, 'lambda': 9.951225137760831, 'aplha': 0.16619377867404245, 'subsample': 0.7}. Best is trial 38 with value: 0.06094832779463631.\u001B[0m\n"
     ]
    },
    {
     "name": "stdout",
     "output_type": "stream",
     "text": [
      "[LightGBM] [Warning] lambda_l2 is set with reg_lambda=0.0, will be overridden by lambda=0.08390617047151605. Current value: lambda_l2=0.08390617047151605\n"
     ]
    },
    {
     "name": "stderr",
     "output_type": "stream",
     "text": [
      "\u001B[32m[I 2022-01-29 18:25:53,832]\u001B[0m Trial 47 finished with value: 0.06668001962190993 and parameters: {'n_estimators': 2699, 'max_depth': 16, 'min_child_weight': 1, 'colsample_bytree': 0.6, 'lambda': 0.08390617047151605, 'aplha': 0.9739382112201624, 'subsample': 0.6}. Best is trial 38 with value: 0.06094832779463631.\u001B[0m\n"
     ]
    },
    {
     "name": "stdout",
     "output_type": "stream",
     "text": [
      "[LightGBM] [Warning] lambda_l2 is set with reg_lambda=0.0, will be overridden by lambda=2.2251209991082255. Current value: lambda_l2=2.2251209991082255\n"
     ]
    },
    {
     "name": "stderr",
     "output_type": "stream",
     "text": [
      "\u001B[32m[I 2022-01-29 18:25:55,577]\u001B[0m Trial 48 finished with value: 0.07317233411359106 and parameters: {'n_estimators': 3315, 'max_depth': 10, 'min_child_weight': 55, 'colsample_bytree': 0.8, 'lambda': 2.2251209991082255, 'aplha': 0.03659274308653385, 'subsample': 0.7}. Best is trial 38 with value: 0.06094832779463631.\u001B[0m\n"
     ]
    },
    {
     "name": "stdout",
     "output_type": "stream",
     "text": [
      "[LightGBM] [Warning] lambda_l2 is set with reg_lambda=0.0, will be overridden by lambda=0.20546798078713607. Current value: lambda_l2=0.20546798078713607\n"
     ]
    },
    {
     "name": "stderr",
     "output_type": "stream",
     "text": [
      "\u001B[32m[I 2022-01-29 18:25:56,807]\u001B[0m Trial 49 finished with value: 0.0770867812029346 and parameters: {'n_estimators': 1941, 'max_depth': 12, 'min_child_weight': 17, 'colsample_bytree': 0.9, 'lambda': 0.20546798078713607, 'aplha': 0.5122888426983992, 'subsample': 0.7}. Best is trial 38 with value: 0.06094832779463631.\u001B[0m\n"
     ]
    },
    {
     "name": "stdout",
     "output_type": "stream",
     "text": [
      "[LightGBM] [Warning] lambda_l2 is set with reg_lambda=0.0, will be overridden by lambda=0.0014304047895160258. Current value: lambda_l2=0.0014304047895160258\n"
     ]
    },
    {
     "name": "stderr",
     "output_type": "stream",
     "text": [
      "\u001B[32m[I 2022-01-29 18:25:57,962]\u001B[0m Trial 50 finished with value: 0.10817195222651887 and parameters: {'n_estimators': 2523, 'max_depth': 14, 'min_child_weight': 270, 'colsample_bytree': 0.8, 'lambda': 0.0014304047895160258, 'aplha': 0.09184991161599247, 'subsample': 0.6}. Best is trial 38 with value: 0.06094832779463631.\u001B[0m\n"
     ]
    },
    {
     "name": "stdout",
     "output_type": "stream",
     "text": [
      "[LightGBM] [Warning] lambda_l2 is set with reg_lambda=0.0, will be overridden by lambda=2.5889114267749997. Current value: lambda_l2=2.5889114267749997\n"
     ]
    },
    {
     "name": "stderr",
     "output_type": "stream",
     "text": [
      "\u001B[32m[I 2022-01-29 18:26:00,427]\u001B[0m Trial 51 finished with value: 0.07293966181483498 and parameters: {'n_estimators': 3823, 'max_depth': 15, 'min_child_weight': 28, 'colsample_bytree': 0.8, 'lambda': 2.5889114267749997, 'aplha': 0.0030354249328758227, 'subsample': 1.0}. Best is trial 38 with value: 0.06094832779463631.\u001B[0m\n"
     ]
    },
    {
     "name": "stdout",
     "output_type": "stream",
     "text": [
      "[LightGBM] [Warning] lambda_l2 is set with reg_lambda=0.0, will be overridden by lambda=6.82211508371955. Current value: lambda_l2=6.82211508371955\n"
     ]
    },
    {
     "name": "stderr",
     "output_type": "stream",
     "text": [
      "\u001B[32m[I 2022-01-29 18:26:02,611]\u001B[0m Trial 52 finished with value: 0.06658803330532247 and parameters: {'n_estimators': 3393, 'max_depth': 15, 'min_child_weight': 43, 'colsample_bytree': 0.7, 'lambda': 6.82211508371955, 'aplha': 0.05342387438384027, 'subsample': 1.0}. Best is trial 38 with value: 0.06094832779463631.\u001B[0m\n"
     ]
    },
    {
     "name": "stdout",
     "output_type": "stream",
     "text": [
      "[LightGBM] [Warning] lambda_l2 is set with reg_lambda=0.0, will be overridden by lambda=3.3506963253802855. Current value: lambda_l2=3.3506963253802855\n"
     ]
    },
    {
     "name": "stderr",
     "output_type": "stream",
     "text": [
      "\u001B[32m[I 2022-01-29 18:26:04,238]\u001B[0m Trial 53 finished with value: 0.06984659815713527 and parameters: {'n_estimators': 3604, 'max_depth': 9, 'min_child_weight': 121, 'colsample_bytree': 0.8, 'lambda': 3.3506963253802855, 'aplha': 0.012881838151127185, 'subsample': 1.0}. Best is trial 38 with value: 0.06094832779463631.\u001B[0m\n"
     ]
    },
    {
     "name": "stdout",
     "output_type": "stream",
     "text": [
      "[LightGBM] [Warning] lambda_l2 is set with reg_lambda=0.0, will be overridden by lambda=7.176167449883969. Current value: lambda_l2=7.176167449883969\n"
     ]
    },
    {
     "name": "stderr",
     "output_type": "stream",
     "text": [
      "\u001B[32m[I 2022-01-29 18:26:06,087]\u001B[0m Trial 54 finished with value: 0.06589150616670375 and parameters: {'n_estimators': 2788, 'max_depth': 16, 'min_child_weight': 15, 'colsample_bytree': 0.8, 'lambda': 7.176167449883969, 'aplha': 0.21096370609508006, 'subsample': 1.0}. Best is trial 38 with value: 0.06094832779463631.\u001B[0m\n"
     ]
    },
    {
     "name": "stdout",
     "output_type": "stream",
     "text": [
      "[LightGBM] [Warning] lambda_l2 is set with reg_lambda=0.0, will be overridden by lambda=1.5410082504200429. Current value: lambda_l2=1.5410082504200429\n"
     ]
    },
    {
     "name": "stderr",
     "output_type": "stream",
     "text": [
      "\u001B[32m[I 2022-01-29 18:26:08,034]\u001B[0m Trial 55 finished with value: 0.08656739362815845 and parameters: {'n_estimators': 3003, 'max_depth': 15, 'min_child_weight': 49, 'colsample_bytree': 0.7, 'lambda': 1.5410082504200429, 'aplha': 0.12774502946533858, 'subsample': 0.7}. Best is trial 38 with value: 0.06094832779463631.\u001B[0m\n"
     ]
    },
    {
     "name": "stdout",
     "output_type": "stream",
     "text": [
      "[LightGBM] [Warning] lambda_l2 is set with reg_lambda=0.0, will be overridden by lambda=4.851466169835757. Current value: lambda_l2=4.851466169835757\n"
     ]
    },
    {
     "name": "stderr",
     "output_type": "stream",
     "text": [
      "\u001B[32m[I 2022-01-29 18:26:09,737]\u001B[0m Trial 56 finished with value: 0.06382920882624213 and parameters: {'n_estimators': 2567, 'max_depth': 14, 'min_child_weight': 31, 'colsample_bytree': 0.8, 'lambda': 4.851466169835757, 'aplha': 1.6313732074888938, 'subsample': 1.0}. Best is trial 38 with value: 0.06094832779463631.\u001B[0m\n"
     ]
    },
    {
     "name": "stdout",
     "output_type": "stream",
     "text": [
      "[LightGBM] [Warning] lambda_l2 is set with reg_lambda=0.0, will be overridden by lambda=4.2587971236427125. Current value: lambda_l2=4.2587971236427125\n"
     ]
    },
    {
     "name": "stderr",
     "output_type": "stream",
     "text": [
      "\u001B[32m[I 2022-01-29 18:26:11,502]\u001B[0m Trial 57 finished with value: 0.07165018513650075 and parameters: {'n_estimators': 2617, 'max_depth': 14, 'min_child_weight': 31, 'colsample_bytree': 0.9, 'lambda': 4.2587971236427125, 'aplha': 1.911229773550921, 'subsample': 0.8}. Best is trial 38 with value: 0.06094832779463631.\u001B[0m\n"
     ]
    },
    {
     "name": "stdout",
     "output_type": "stream",
     "text": [
      "[LightGBM] [Warning] lambda_l2 is set with reg_lambda=0.0, will be overridden by lambda=0.35586061495971255. Current value: lambda_l2=0.35586061495971255\n"
     ]
    },
    {
     "name": "stderr",
     "output_type": "stream",
     "text": [
      "\u001B[32m[I 2022-01-29 18:26:12,819]\u001B[0m Trial 58 finished with value: 0.0629917092934215 and parameters: {'n_estimators': 2192, 'max_depth': 13, 'min_child_weight': 11, 'colsample_bytree': 0.6, 'lambda': 0.35586061495971255, 'aplha': 4.648316025189146, 'subsample': 0.6}. Best is trial 38 with value: 0.06094832779463631.\u001B[0m\n"
     ]
    },
    {
     "name": "stdout",
     "output_type": "stream",
     "text": [
      "[LightGBM] [Warning] lambda_l2 is set with reg_lambda=0.0, will be overridden by lambda=0.31876678423909877. Current value: lambda_l2=0.31876678423909877\n"
     ]
    },
    {
     "name": "stderr",
     "output_type": "stream",
     "text": [
      "\u001B[32m[I 2022-01-29 18:26:14,093]\u001B[0m Trial 59 finished with value: 0.0750420921698503 and parameters: {'n_estimators': 2101, 'max_depth': 13, 'min_child_weight': 69, 'colsample_bytree': 0.6, 'lambda': 0.31876678423909877, 'aplha': 3.895170417842419, 'subsample': 0.6}. Best is trial 38 with value: 0.06094832779463631.\u001B[0m\n"
     ]
    },
    {
     "name": "stdout",
     "output_type": "stream",
     "text": [
      "[LightGBM] [Warning] lambda_l2 is set with reg_lambda=0.0, will be overridden by lambda=0.05053840181095263. Current value: lambda_l2=0.05053840181095263\n"
     ]
    },
    {
     "name": "stderr",
     "output_type": "stream",
     "text": [
      "\u001B[32m[I 2022-01-29 18:26:15,491]\u001B[0m Trial 60 finished with value: 0.07088113998427217 and parameters: {'n_estimators': 2295, 'max_depth': 13, 'min_child_weight': 40, 'colsample_bytree': 0.6, 'lambda': 0.05053840181095263, 'aplha': 6.096467821470138, 'subsample': 0.6}. Best is trial 38 with value: 0.06094832779463631.\u001B[0m\n"
     ]
    },
    {
     "name": "stdout",
     "output_type": "stream",
     "text": [
      "[LightGBM] [Warning] lambda_l2 is set with reg_lambda=0.0, will be overridden by lambda=0.8127249282881508. Current value: lambda_l2=0.8127249282881508\n"
     ]
    },
    {
     "name": "stderr",
     "output_type": "stream",
     "text": [
      "\u001B[32m[I 2022-01-29 18:26:16,477]\u001B[0m Trial 61 finished with value: 0.07310503921214402 and parameters: {'n_estimators': 1519, 'max_depth': 12, 'min_child_weight': 11, 'colsample_bytree': 0.6, 'lambda': 0.8127249282881508, 'aplha': 1.2749349573310729, 'subsample': 0.6}. Best is trial 38 with value: 0.06094832779463631.\u001B[0m\n"
     ]
    },
    {
     "name": "stdout",
     "output_type": "stream",
     "text": [
      "[LightGBM] [Warning] lambda_l2 is set with reg_lambda=0.0, will be overridden by lambda=0.1315687916972628. Current value: lambda_l2=0.1315687916972628\n"
     ]
    },
    {
     "name": "stderr",
     "output_type": "stream",
     "text": [
      "\u001B[32m[I 2022-01-29 18:26:17,775]\u001B[0m Trial 62 finished with value: 0.08153501026275312 and parameters: {'n_estimators': 2170, 'max_depth': 13, 'min_child_weight': 26, 'colsample_bytree': 0.5, 'lambda': 0.1315687916972628, 'aplha': 4.394791612012278, 'subsample': 0.6}. Best is trial 38 with value: 0.06094832779463631.\u001B[0m\n"
     ]
    },
    {
     "name": "stdout",
     "output_type": "stream",
     "text": [
      "[LightGBM] [Warning] lambda_l2 is set with reg_lambda=0.0, will be overridden by lambda=0.3436215517930379. Current value: lambda_l2=0.3436215517930379\n"
     ]
    },
    {
     "name": "stderr",
     "output_type": "stream",
     "text": [
      "\u001B[32m[I 2022-01-29 18:26:19,390]\u001B[0m Trial 63 finished with value: 0.0671913943632131 and parameters: {'n_estimators': 2517, 'max_depth': 14, 'min_child_weight': 11, 'colsample_bytree': 0.8, 'lambda': 0.3436215517930379, 'aplha': 7.634382472775605, 'subsample': 0.8}. Best is trial 38 with value: 0.06094832779463631.\u001B[0m\n"
     ]
    },
    {
     "name": "stdout",
     "output_type": "stream",
     "text": [
      "[LightGBM] [Warning] lambda_l2 is set with reg_lambda=0.0, will be overridden by lambda=7.318067480979794. Current value: lambda_l2=7.318067480979794\n"
     ]
    },
    {
     "name": "stderr",
     "output_type": "stream",
     "text": [
      "\u001B[32m[I 2022-01-29 18:26:21,168]\u001B[0m Trial 64 finished with value: 0.06171259520026719 and parameters: {'n_estimators': 2885, 'max_depth': 12, 'min_child_weight': 1, 'colsample_bytree': 0.7, 'lambda': 7.318067480979794, 'aplha': 2.6554298184559197, 'subsample': 1.0}. Best is trial 38 with value: 0.06094832779463631.\u001B[0m\n"
     ]
    },
    {
     "name": "stdout",
     "output_type": "stream",
     "text": [
      "[LightGBM] [Warning] lambda_l2 is set with reg_lambda=0.0, will be overridden by lambda=0.5113033914720986. Current value: lambda_l2=0.5113033914720986\n"
     ]
    },
    {
     "name": "stderr",
     "output_type": "stream",
     "text": [
      "\u001B[32m[I 2022-01-29 18:26:22,639]\u001B[0m Trial 65 finished with value: 0.0704584538890001 and parameters: {'n_estimators': 2603, 'max_depth': 11, 'min_child_weight': 53, 'colsample_bytree': 0.7, 'lambda': 0.5113033914720986, 'aplha': 2.6212193998716278, 'subsample': 0.6}. Best is trial 38 with value: 0.06094832779463631.\u001B[0m\n"
     ]
    },
    {
     "name": "stdout",
     "output_type": "stream",
     "text": [
      "[LightGBM] [Warning] lambda_l2 is set with reg_lambda=0.0, will be overridden by lambda=2.9025790170976786. Current value: lambda_l2=2.9025790170976786\n"
     ]
    },
    {
     "name": "stderr",
     "output_type": "stream",
     "text": [
      "\u001B[32m[I 2022-01-29 18:26:23,916]\u001B[0m Trial 66 finished with value: 0.07145977528247291 and parameters: {'n_estimators': 2020, 'max_depth': 12, 'min_child_weight': 1, 'colsample_bytree': 0.7, 'lambda': 2.9025790170976786, 'aplha': 5.180867889679873, 'subsample': 0.8}. Best is trial 38 with value: 0.06094832779463631.\u001B[0m\n"
     ]
    },
    {
     "name": "stdout",
     "output_type": "stream",
     "text": [
      "[LightGBM] [Warning] lambda_l2 is set with reg_lambda=0.0, will be overridden by lambda=4.86936913926023. Current value: lambda_l2=4.86936913926023\n"
     ]
    },
    {
     "name": "stderr",
     "output_type": "stream",
     "text": [
      "\u001B[32m[I 2022-01-29 18:26:25,676]\u001B[0m Trial 67 finished with value: 0.09050086131953852 and parameters: {'n_estimators': 2955, 'max_depth': 12, 'min_child_weight': 30, 'colsample_bytree': 0.6, 'lambda': 4.86936913926023, 'aplha': 3.3060700470222844, 'subsample': 1.0}. Best is trial 38 with value: 0.06094832779463631.\u001B[0m\n"
     ]
    },
    {
     "name": "stdout",
     "output_type": "stream",
     "text": [
      "[LightGBM] [Warning] lambda_l2 is set with reg_lambda=0.0, will be overridden by lambda=8.120267878149512. Current value: lambda_l2=8.120267878149512\n"
     ]
    },
    {
     "name": "stderr",
     "output_type": "stream",
     "text": [
      "\u001B[32m[I 2022-01-29 18:26:27,622]\u001B[0m Trial 68 finished with value: 0.06642107798241949 and parameters: {'n_estimators': 3149, 'max_depth': 13, 'min_child_weight': 15, 'colsample_bytree': 0.7, 'lambda': 8.120267878149512, 'aplha': 9.24486158939496, 'subsample': 1.0}. Best is trial 38 with value: 0.06094832779463631.\u001B[0m\n"
     ]
    },
    {
     "name": "stdout",
     "output_type": "stream",
     "text": [
      "[LightGBM] [Warning] lambda_l2 is set with reg_lambda=0.0, will be overridden by lambda=1.434647135737807. Current value: lambda_l2=1.434647135737807\n"
     ]
    },
    {
     "name": "stderr",
     "output_type": "stream",
     "text": [
      "\u001B[32m[I 2022-01-29 18:26:28,944]\u001B[0m Trial 69 finished with value: 0.07543085012516662 and parameters: {'n_estimators': 2411, 'max_depth': 13, 'min_child_weight': 101, 'colsample_bytree': 0.6, 'lambda': 1.434647135737807, 'aplha': 0.46515017675332376, 'subsample': 0.7}. Best is trial 38 with value: 0.06094832779463631.\u001B[0m\n"
     ]
    },
    {
     "name": "stdout",
     "output_type": "stream",
     "text": [
      "[LightGBM] [Warning] lambda_l2 is set with reg_lambda=0.0, will be overridden by lambda=2.086897212144684. Current value: lambda_l2=2.086897212144684\n"
     ]
    },
    {
     "name": "stderr",
     "output_type": "stream",
     "text": [
      "\u001B[32m[I 2022-01-29 18:26:30,838]\u001B[0m Trial 70 finished with value: 0.08703672348380848 and parameters: {'n_estimators': 2906, 'max_depth': 14, 'min_child_weight': 37, 'colsample_bytree': 0.7, 'lambda': 2.086897212144684, 'aplha': 0.7148409037347778, 'subsample': 0.8}. Best is trial 38 with value: 0.06094832779463631.\u001B[0m\n"
     ]
    },
    {
     "name": "stdout",
     "output_type": "stream",
     "text": [
      "[LightGBM] [Warning] lambda_l2 is set with reg_lambda=0.0, will be overridden by lambda=5.7032440507537565. Current value: lambda_l2=5.7032440507537565\n"
     ]
    },
    {
     "name": "stderr",
     "output_type": "stream",
     "text": [
      "\u001B[32m[I 2022-01-29 18:26:32,562]\u001B[0m Trial 71 finished with value: 0.08123498313805155 and parameters: {'n_estimators': 2775, 'max_depth': 12, 'min_child_weight': 22, 'colsample_bytree': 0.8, 'lambda': 5.7032440507537565, 'aplha': 1.4333574268747016, 'subsample': 1.0}. Best is trial 38 with value: 0.06094832779463631.\u001B[0m\n"
     ]
    },
    {
     "name": "stdout",
     "output_type": "stream",
     "text": [
      "[LightGBM] [Warning] lambda_l2 is set with reg_lambda=0.0, will be overridden by lambda=8.428228386449657. Current value: lambda_l2=8.428228386449657\n"
     ]
    },
    {
     "name": "stderr",
     "output_type": "stream",
     "text": [
      "\u001B[32m[I 2022-01-29 18:26:34,294]\u001B[0m Trial 72 finished with value: 0.06757428788674387 and parameters: {'n_estimators': 2662, 'max_depth': 16, 'min_child_weight': 9, 'colsample_bytree': 0.8, 'lambda': 8.428228386449657, 'aplha': 0.023921220845800888, 'subsample': 1.0}. Best is trial 38 with value: 0.06094832779463631.\u001B[0m\n"
     ]
    },
    {
     "name": "stdout",
     "output_type": "stream",
     "text": [
      "[LightGBM] [Warning] lambda_l2 is set with reg_lambda=0.0, will be overridden by lambda=4.152457266110854. Current value: lambda_l2=4.152457266110854\n"
     ]
    },
    {
     "name": "stderr",
     "output_type": "stream",
     "text": [
      "\u001B[32m[I 2022-01-29 18:26:36,192]\u001B[0m Trial 73 finished with value: 0.08048993976004404 and parameters: {'n_estimators': 3086, 'max_depth': 13, 'min_child_weight': 12, 'colsample_bytree': 0.7, 'lambda': 4.152457266110854, 'aplha': 2.284691671565724, 'subsample': 1.0}. Best is trial 38 with value: 0.06094832779463631.\u001B[0m\n"
     ]
    },
    {
     "name": "stdout",
     "output_type": "stream",
     "text": [
      "[LightGBM] [Warning] lambda_l2 is set with reg_lambda=0.0, will be overridden by lambda=6.652642963783548. Current value: lambda_l2=6.652642963783548\n"
     ]
    },
    {
     "name": "stderr",
     "output_type": "stream",
     "text": [
      "\u001B[32m[I 2022-01-29 18:26:37,768]\u001B[0m Trial 74 finished with value: 0.08838018303090774 and parameters: {'n_estimators': 2337, 'max_depth': 15, 'min_child_weight': 2, 'colsample_bytree': 0.8, 'lambda': 6.652642963783548, 'aplha': 4.914131468392606, 'subsample': 1.0}. Best is trial 38 with value: 0.06094832779463631.\u001B[0m\n"
     ]
    },
    {
     "name": "stdout",
     "output_type": "stream",
     "text": [
      "[LightGBM] [Warning] lambda_l2 is set with reg_lambda=0.0, will be overridden by lambda=3.7250998917730813. Current value: lambda_l2=3.7250998917730813\n"
     ]
    },
    {
     "name": "stderr",
     "output_type": "stream",
     "text": [
      "\u001B[32m[I 2022-01-29 18:26:39,642]\u001B[0m Trial 75 finished with value: 0.08268453636145502 and parameters: {'n_estimators': 2872, 'max_depth': 16, 'min_child_weight': 23, 'colsample_bytree': 0.7, 'lambda': 3.7250998917730813, 'aplha': 0.8538956752954955, 'subsample': 1.0}. Best is trial 38 with value: 0.06094832779463631.\u001B[0m\n"
     ]
    },
    {
     "name": "stdout",
     "output_type": "stream",
     "text": [
      "[LightGBM] [Warning] lambda_l2 is set with reg_lambda=0.0, will be overridden by lambda=5.421593511416395. Current value: lambda_l2=5.421593511416395\n"
     ]
    },
    {
     "name": "stderr",
     "output_type": "stream",
     "text": [
      "\u001B[32m[I 2022-01-29 18:26:41,425]\u001B[0m Trial 76 finished with value: 0.07548980376294365 and parameters: {'n_estimators': 3235, 'max_depth': 11, 'min_child_weight': 38, 'colsample_bytree': 0.8, 'lambda': 5.421593511416395, 'aplha': 3.314334155766144, 'subsample': 1.0}. Best is trial 38 with value: 0.06094832779463631.\u001B[0m\n"
     ]
    },
    {
     "name": "stdout",
     "output_type": "stream",
     "text": [
      "[LightGBM] [Warning] lambda_l2 is set with reg_lambda=0.0, will be overridden by lambda=2.9471754317848955. Current value: lambda_l2=2.9471754317848955\n"
     ]
    },
    {
     "name": "stderr",
     "output_type": "stream",
     "text": [
      "\u001B[32m[I 2022-01-29 18:26:43,126]\u001B[0m Trial 77 finished with value: 0.06384632879563519 and parameters: {'n_estimators': 2719, 'max_depth': 14, 'min_child_weight': 59, 'colsample_bytree': 0.7, 'lambda': 2.9471754317848955, 'aplha': 1.3706625487363426, 'subsample': 0.7}. Best is trial 38 with value: 0.06094832779463631.\u001B[0m\n"
     ]
    },
    {
     "name": "stdout",
     "output_type": "stream",
     "text": [
      "[LightGBM] [Warning] lambda_l2 is set with reg_lambda=0.0, will be overridden by lambda=2.7007684567317347. Current value: lambda_l2=2.7007684567317347\n"
     ]
    },
    {
     "name": "stderr",
     "output_type": "stream",
     "text": [
      "\u001B[32m[I 2022-01-29 18:26:44,697]\u001B[0m Trial 78 finished with value: 0.060984436303586305 and parameters: {'n_estimators': 2472, 'max_depth': 14, 'min_child_weight': 58, 'colsample_bytree': 0.7, 'lambda': 2.7007684567317347, 'aplha': 1.6201447454731883, 'subsample': 0.7}. Best is trial 38 with value: 0.06094832779463631.\u001B[0m\n"
     ]
    },
    {
     "name": "stdout",
     "output_type": "stream",
     "text": [
      "[LightGBM] [Warning] lambda_l2 is set with reg_lambda=0.0, will be overridden by lambda=0.659972363640959. Current value: lambda_l2=0.659972363640959\n"
     ]
    },
    {
     "name": "stderr",
     "output_type": "stream",
     "text": [
      "\u001B[32m[I 2022-01-29 18:26:46,267]\u001B[0m Trial 79 finished with value: 0.08528735971942922 and parameters: {'n_estimators': 2448, 'max_depth': 14, 'min_child_weight': 48, 'colsample_bytree': 0.6, 'lambda': 0.659972363640959, 'aplha': 6.632273911566975, 'subsample': 0.7}. Best is trial 38 with value: 0.06094832779463631.\u001B[0m\n"
     ]
    },
    {
     "name": "stdout",
     "output_type": "stream",
     "text": [
      "[LightGBM] [Warning] lambda_l2 is set with reg_lambda=0.0, will be overridden by lambda=1.9046740130550064. Current value: lambda_l2=1.9046740130550064\n"
     ]
    },
    {
     "name": "stderr",
     "output_type": "stream",
     "text": [
      "\u001B[32m[I 2022-01-29 18:26:47,513]\u001B[0m Trial 80 finished with value: 0.07828066098565704 and parameters: {'n_estimators': 2229, 'max_depth': 13, 'min_child_weight': 149, 'colsample_bytree': 0.7, 'lambda': 1.9046740130550064, 'aplha': 0.2223852854104869, 'subsample': 0.7}. Best is trial 38 with value: 0.06094832779463631.\u001B[0m\n"
     ]
    },
    {
     "name": "stdout",
     "output_type": "stream",
     "text": [
      "[LightGBM] [Warning] lambda_l2 is set with reg_lambda=0.0, will be overridden by lambda=1.0451706470425381. Current value: lambda_l2=1.0451706470425381\n"
     ]
    },
    {
     "name": "stderr",
     "output_type": "stream",
     "text": [
      "\u001B[32m[I 2022-01-29 18:26:49,218]\u001B[0m Trial 81 finished with value: 0.06584330789340079 and parameters: {'n_estimators': 2563, 'max_depth': 14, 'min_child_weight': 57, 'colsample_bytree': 0.7, 'lambda': 1.0451706470425381, 'aplha': 1.5559265509195976, 'subsample': 0.7}. Best is trial 38 with value: 0.06094832779463631.\u001B[0m\n"
     ]
    },
    {
     "name": "stdout",
     "output_type": "stream",
     "text": [
      "[LightGBM] [Warning] lambda_l2 is set with reg_lambda=0.0, will be overridden by lambda=2.7820207280733973. Current value: lambda_l2=2.7820207280733973\n"
     ]
    },
    {
     "name": "stderr",
     "output_type": "stream",
     "text": [
      "\u001B[32m[I 2022-01-29 18:26:51,027]\u001B[0m Trial 82 finished with value: 0.07395222678712317 and parameters: {'n_estimators': 2690, 'max_depth': 14, 'min_child_weight': 72, 'colsample_bytree': 0.7, 'lambda': 2.7820207280733973, 'aplha': 2.3662228770133122, 'subsample': 0.7}. Best is trial 38 with value: 0.06094832779463631.\u001B[0m\n"
     ]
    },
    {
     "name": "stdout",
     "output_type": "stream",
     "text": [
      "[LightGBM] [Warning] lambda_l2 is set with reg_lambda=0.0, will be overridden by lambda=3.408466368555084. Current value: lambda_l2=3.408466368555084\n"
     ]
    },
    {
     "name": "stderr",
     "output_type": "stream",
     "text": [
      "\u001B[32m[I 2022-01-29 18:26:52,752]\u001B[0m Trial 83 finished with value: 0.06370003072428482 and parameters: {'n_estimators': 2420, 'max_depth': 14, 'min_child_weight': 28, 'colsample_bytree': 0.7, 'lambda': 3.408466368555084, 'aplha': 3.6794344144818987, 'subsample': 0.7}. Best is trial 38 with value: 0.06094832779463631.\u001B[0m\n"
     ]
    },
    {
     "name": "stdout",
     "output_type": "stream",
     "text": [
      "[LightGBM] [Warning] lambda_l2 is set with reg_lambda=0.0, will be overridden by lambda=9.897950489351972. Current value: lambda_l2=9.897950489351972\n"
     ]
    },
    {
     "name": "stderr",
     "output_type": "stream",
     "text": [
      "\u001B[32m[I 2022-01-29 18:26:54,046]\u001B[0m Trial 84 finished with value: 0.07301883165020678 and parameters: {'n_estimators': 1946, 'max_depth': 13, 'min_child_weight': 22, 'colsample_bytree': 0.7, 'lambda': 9.897950489351972, 'aplha': 2.0211000294235957, 'subsample': 0.7}. Best is trial 38 with value: 0.06094832779463631.\u001B[0m\n"
     ]
    },
    {
     "name": "stdout",
     "output_type": "stream",
     "text": [
      "[LightGBM] [Warning] lambda_l2 is set with reg_lambda=0.0, will be overridden by lambda=4.44706066832819. Current value: lambda_l2=4.44706066832819\n"
     ]
    },
    {
     "name": "stderr",
     "output_type": "stream",
     "text": [
      "\u001B[32m[I 2022-01-29 18:26:55,676]\u001B[0m Trial 85 finished with value: 0.06159553971985518 and parameters: {'n_estimators': 2447, 'max_depth': 15, 'min_child_weight': 30, 'colsample_bytree': 0.7, 'lambda': 4.44706066832819, 'aplha': 3.0919985826454353, 'subsample': 0.7}. Best is trial 38 with value: 0.06094832779463631.\u001B[0m\n"
     ]
    },
    {
     "name": "stdout",
     "output_type": "stream",
     "text": [
      "[LightGBM] [Warning] lambda_l2 is set with reg_lambda=0.0, will be overridden by lambda=2.311528469162457. Current value: lambda_l2=2.311528469162457\n"
     ]
    },
    {
     "name": "stderr",
     "output_type": "stream",
     "text": [
      "\u001B[32m[I 2022-01-29 18:26:57,246]\u001B[0m Trial 86 finished with value: 0.0707058723172593 and parameters: {'n_estimators': 2433, 'max_depth': 15, 'min_child_weight': 45, 'colsample_bytree': 0.7, 'lambda': 2.311528469162457, 'aplha': 3.7460158167682813, 'subsample': 0.7}. Best is trial 38 with value: 0.06094832779463631.\u001B[0m\n"
     ]
    },
    {
     "name": "stdout",
     "output_type": "stream",
     "text": [
      "[LightGBM] [Warning] lambda_l2 is set with reg_lambda=0.0, will be overridden by lambda=7.852761701713132. Current value: lambda_l2=7.852761701713132\n"
     ]
    },
    {
     "name": "stderr",
     "output_type": "stream",
     "text": [
      "\u001B[32m[I 2022-01-29 18:26:58,422]\u001B[0m Trial 87 finished with value: 0.081149458429235 and parameters: {'n_estimators': 2146, 'max_depth': 15, 'min_child_weight': 192, 'colsample_bytree': 0.7, 'lambda': 7.852761701713132, 'aplha': 3.0580578541275827, 'subsample': 0.7}. Best is trial 38 with value: 0.06094832779463631.\u001B[0m\n"
     ]
    },
    {
     "name": "stdout",
     "output_type": "stream",
     "text": [
      "[LightGBM] [Warning] lambda_l2 is set with reg_lambda=0.0, will be overridden by lambda=5.742130419204214. Current value: lambda_l2=5.742130419204214\n"
     ]
    },
    {
     "name": "stderr",
     "output_type": "stream",
     "text": [
      "\u001B[32m[I 2022-01-29 18:26:59,832]\u001B[0m Trial 88 finished with value: 0.06805436685682749 and parameters: {'n_estimators': 2285, 'max_depth': 12, 'min_child_weight': 17, 'colsample_bytree': 0.6, 'lambda': 5.742130419204214, 'aplha': 0.0764501189068538, 'subsample': 0.7}. Best is trial 38 with value: 0.06094832779463631.\u001B[0m\n"
     ]
    },
    {
     "name": "stdout",
     "output_type": "stream",
     "text": [
      "[LightGBM] [Warning] lambda_l2 is set with reg_lambda=0.0, will be overridden by lambda=3.6202700577892712. Current value: lambda_l2=3.6202700577892712\n"
     ]
    },
    {
     "name": "stderr",
     "output_type": "stream",
     "text": [
      "\u001B[32m[I 2022-01-29 18:27:01,381]\u001B[0m Trial 89 finished with value: 0.0682070882664111 and parameters: {'n_estimators': 2358, 'max_depth': 15, 'min_child_weight': 35, 'colsample_bytree': 0.7, 'lambda': 3.6202700577892712, 'aplha': 0.05352667036255213, 'subsample': 0.7}. Best is trial 38 with value: 0.06094832779463631.\u001B[0m\n"
     ]
    },
    {
     "name": "stdout",
     "output_type": "stream",
     "text": [
      "[LightGBM] [Warning] lambda_l2 is set with reg_lambda=0.0, will be overridden by lambda=4.479403999211414. Current value: lambda_l2=4.479403999211414\n"
     ]
    },
    {
     "name": "stderr",
     "output_type": "stream",
     "text": [
      "\u001B[32m[I 2022-01-29 18:27:02,776]\u001B[0m Trial 90 finished with value: 0.06992940153819736 and parameters: {'n_estimators': 2054, 'max_depth': 16, 'min_child_weight': 26, 'colsample_bytree': 0.7, 'lambda': 4.479403999211414, 'aplha': 8.693222943735247, 'subsample': 0.7}. Best is trial 38 with value: 0.06094832779463631.\u001B[0m\n"
     ]
    },
    {
     "name": "stdout",
     "output_type": "stream",
     "text": [
      "[LightGBM] [Warning] lambda_l2 is set with reg_lambda=0.0, will be overridden by lambda=3.4092366480375085. Current value: lambda_l2=3.4092366480375085\n"
     ]
    },
    {
     "name": "stderr",
     "output_type": "stream",
     "text": [
      "\u001B[32m[I 2022-01-29 18:27:04,385]\u001B[0m Trial 91 finished with value: 0.0858807745846009 and parameters: {'n_estimators': 2481, 'max_depth': 14, 'min_child_weight': 32, 'colsample_bytree': 0.7, 'lambda': 3.4092366480375085, 'aplha': 4.686542929720003, 'subsample': 0.7}. Best is trial 38 with value: 0.06094832779463631.\u001B[0m\n"
     ]
    },
    {
     "name": "stdout",
     "output_type": "stream",
     "text": [
      "[LightGBM] [Warning] lambda_l2 is set with reg_lambda=0.0, will be overridden by lambda=4.7212773296929385. Current value: lambda_l2=4.7212773296929385\n"
     ]
    },
    {
     "name": "stderr",
     "output_type": "stream",
     "text": [
      "\u001B[32m[I 2022-01-29 18:27:06,059]\u001B[0m Trial 92 finished with value: 0.07257110683169785 and parameters: {'n_estimators': 2586, 'max_depth': 14, 'min_child_weight': 8, 'colsample_bytree': 0.7, 'lambda': 4.7212773296929385, 'aplha': 0.11886189513820616, 'subsample': 0.7}. Best is trial 38 with value: 0.06094832779463631.\u001B[0m\n"
     ]
    },
    {
     "name": "stdout",
     "output_type": "stream",
     "text": [
      "[LightGBM] [Warning] lambda_l2 is set with reg_lambda=0.0, will be overridden by lambda=6.847698917917596. Current value: lambda_l2=6.847698917917596\n"
     ]
    },
    {
     "name": "stderr",
     "output_type": "stream",
     "text": [
      "\u001B[32m[I 2022-01-29 18:27:07,899]\u001B[0m Trial 93 finished with value: 0.06955738108125319 and parameters: {'n_estimators': 2832, 'max_depth': 15, 'min_child_weight': 17, 'colsample_bytree': 0.7, 'lambda': 6.847698917917596, 'aplha': 5.794971830256886, 'subsample': 0.8}. Best is trial 38 with value: 0.06094832779463631.\u001B[0m\n"
     ]
    },
    {
     "name": "stdout",
     "output_type": "stream",
     "text": [
      "[LightGBM] [Warning] lambda_l2 is set with reg_lambda=0.0, will be overridden by lambda=2.4394441257841994. Current value: lambda_l2=2.4394441257841994\n"
     ]
    },
    {
     "name": "stderr",
     "output_type": "stream",
     "text": [
      "\u001B[32m[I 2022-01-29 18:27:09,379]\u001B[0m Trial 94 finished with value: 0.09099960790940738 and parameters: {'n_estimators': 2217, 'max_depth': 14, 'min_child_weight': 28, 'colsample_bytree': 0.8, 'lambda': 2.4394441257841994, 'aplha': 2.8928621699065826, 'subsample': 0.6}. Best is trial 38 with value: 0.06094832779463631.\u001B[0m\n"
     ]
    },
    {
     "name": "stdout",
     "output_type": "stream",
     "text": [
      "[LightGBM] [Warning] lambda_l2 is set with reg_lambda=0.0, will be overridden by lambda=1.8194713428005733. Current value: lambda_l2=1.8194713428005733\n"
     ]
    },
    {
     "name": "stderr",
     "output_type": "stream",
     "text": [
      "\u001B[32m[I 2022-01-29 18:27:10,001]\u001B[0m Trial 95 finished with value: 0.08975749505451162 and parameters: {'n_estimators': 871, 'max_depth': 13, 'min_child_weight': 45, 'colsample_bytree': 0.7, 'lambda': 1.8194713428005733, 'aplha': 1.8104442640868637, 'subsample': 0.7}. Best is trial 38 with value: 0.06094832779463631.\u001B[0m\n"
     ]
    },
    {
     "name": "stdout",
     "output_type": "stream",
     "text": [
      "[LightGBM] [Warning] lambda_l2 is set with reg_lambda=0.0, will be overridden by lambda=8.5187781227156. Current value: lambda_l2=8.5187781227156\n"
     ]
    },
    {
     "name": "stderr",
     "output_type": "stream",
     "text": [
      "\u001B[32m[I 2022-01-29 18:27:11,891]\u001B[0m Trial 96 finished with value: 0.06488657739019747 and parameters: {'n_estimators': 3098, 'max_depth': 15, 'min_child_weight': 9, 'colsample_bytree': 0.5, 'lambda': 8.5187781227156, 'aplha': 7.821664660086986, 'subsample': 0.7}. Best is trial 38 with value: 0.06094832779463631.\u001B[0m\n"
     ]
    },
    {
     "name": "stdout",
     "output_type": "stream",
     "text": [
      "[LightGBM] [Warning] lambda_l2 is set with reg_lambda=0.0, will be overridden by lambda=1.2639965129298452. Current value: lambda_l2=1.2639965129298452\n"
     ]
    },
    {
     "name": "stderr",
     "output_type": "stream",
     "text": [
      "\u001B[32m[I 2022-01-29 18:27:13,433]\u001B[0m Trial 97 finished with value: 0.06990930214076067 and parameters: {'n_estimators': 2374, 'max_depth': 13, 'min_child_weight': 36, 'colsample_bytree': 0.8, 'lambda': 1.2639965129298452, 'aplha': 0.0015705713315771795, 'subsample': 0.8}. Best is trial 38 with value: 0.06094832779463631.\u001B[0m\n"
     ]
    },
    {
     "name": "stdout",
     "output_type": "stream",
     "text": [
      "[LightGBM] [Warning] lambda_l2 is set with reg_lambda=0.0, will be overridden by lambda=0.2534364760012897. Current value: lambda_l2=0.2534364760012897\n"
     ]
    },
    {
     "name": "stderr",
     "output_type": "stream",
     "text": [
      "\u001B[32m[I 2022-01-29 18:27:14,935]\u001B[0m Trial 98 finished with value: 0.06488501937450333 and parameters: {'n_estimators': 2515, 'max_depth': 11, 'min_child_weight': 19, 'colsample_bytree': 0.7, 'lambda': 0.2534364760012897, 'aplha': 3.7907602339793596, 'subsample': 0.6}. Best is trial 38 with value: 0.06094832779463631.\u001B[0m\n"
     ]
    },
    {
     "name": "stdout",
     "output_type": "stream",
     "text": [
      "[LightGBM] [Warning] lambda_l2 is set with reg_lambda=0.0, will be overridden by lambda=6.021550357144982. Current value: lambda_l2=6.021550357144982\n"
     ]
    },
    {
     "name": "stderr",
     "output_type": "stream",
     "text": [
      "\u001B[32m[I 2022-01-29 18:27:16,611]\u001B[0m Trial 99 finished with value: 0.06618241651852311 and parameters: {'n_estimators': 2652, 'max_depth': 14, 'min_child_weight': 2, 'colsample_bytree': 0.6, 'lambda': 6.021550357144982, 'aplha': 0.9806383635957384, 'subsample': 0.7}. Best is trial 38 with value: 0.06094832779463631.\u001B[0m\n"
     ]
    },
    {
     "name": "stdout",
     "output_type": "stream",
     "text": [
      "Best trial: score [0.06094832779463631],\n",
      "params {'n_estimators': 2470, 'max_depth': 16, 'min_child_weight': 17, 'colsample_bytree': 0.7, 'lambda': 6.211700629526126, 'aplha': 0.18027196186105365, 'subsample': 0.7}\n"
     ]
    }
   ],
   "source": [
    "study = optuna.create_study(direction='minimize', sampler=TPESampler())\n",
    "study.optimize(lambda trial : objectiveLGBMRegressor(trial, X, y), n_trials=100)\n",
    "print('Best trial: score {},\\nparams {}'.format(study.best_trial.values, study.best_trial.params))"
   ],
   "metadata": {
    "collapsed": false,
    "pycharm": {
     "name": "#%%\n"
    }
   }
  },
  {
   "cell_type": "code",
   "execution_count": 37,
   "outputs": [
    {
     "name": "stdout",
     "output_type": "stream",
     "text": [
      "Best Trial: score 0.06094832779463631,\n",
      "params {'n_estimators': 2470, 'max_depth': 16, 'min_child_weight': 17, 'colsample_bytree': 0.7, 'lambda': 6.211700629526126, 'aplha': 0.18027196186105365, 'subsample': 0.7}\n"
     ]
    }
   ],
   "source": [
    "lgbm_trial = study.best_trial\n",
    "lgbm_trial_params = lgbm_trial.params\n",
    "print('Best Trial: score {},\\nparams {}'.format(lgbm_trial.value, lgbm_trial_params))"
   ],
   "metadata": {
    "collapsed": false,
    "pycharm": {
     "name": "#%%\n"
    }
   }
  },
  {
   "cell_type": "markdown",
   "source": [
    "# Test"
   ],
   "metadata": {
    "collapsed": false,
    "pycharm": {
     "name": "#%% md\n"
    }
   }
  },
  {
   "cell_type": "code",
   "execution_count": 38,
   "outputs": [],
   "source": [
    "test = test.drop(['id'], axis=1)"
   ],
   "metadata": {
    "collapsed": false,
    "pycharm": {
     "name": "#%%\n"
    }
   }
  },
  {
   "cell_type": "code",
   "execution_count": 39,
   "outputs": [
    {
     "name": "stdout",
     "output_type": "stream",
     "text": [
      "3 columns were label encoded\n"
     ]
    },
    {
     "data": {
      "text/plain": "      Overall Qual  Gr Liv Area  Exter Qual  Garage Cars  Garage Area  \\\n0                9         1800           2            2          702   \n1                6         1082           3            1          240   \n2                6         1573           2            2          440   \n3                6         2443           2            3          744   \n4                5         1040           3            2          686   \n...            ...          ...         ...          ...          ...   \n1345             8         1932           0            3          774   \n1346             5          912           3            1          288   \n1347             4          861           3            2          288   \n1348             5         1430           3            2          624   \n1349             5         2337           3            2          560   \n\n      Kitchen Qual  Total Bsmt SF  1st Flr SF  Bsmt Qual  Full Bath  \\\n0                0           1800        1800          0          2   \n1                4           1082        1082          4          1   \n2                2            756         769          2          2   \n3                2           1158        1158          2          2   \n4                4           1040        1040          4          1   \n...            ...            ...         ...        ...        ...   \n1345             0           1932        1932          0          2   \n1346             4            912         912          4          1   \n1347             4            861         861          1          1   \n1348             2           1430        1430          0          2   \n1349             4            662        1422          4          2   \n\n      Year Built  Year Remod/Add  Garage Yr Blt  \n0           2007            2007           2007  \n1           1948            1950           1948  \n2           2000            2000           2000  \n3           2004            2004           2004  \n4           1968            1968           1991  \n...          ...             ...            ...  \n1345        2008            2008           2008  \n1346        1964            1964           1964  \n1347        1920            1950           1920  \n1348        2004            2005           2004  \n1349        1900            1950           1945  \n\n[1350 rows x 13 columns]",
      "text/html": "<div>\n<style scoped>\n    .dataframe tbody tr th:only-of-type {\n        vertical-align: middle;\n    }\n\n    .dataframe tbody tr th {\n        vertical-align: top;\n    }\n\n    .dataframe thead th {\n        text-align: right;\n    }\n</style>\n<table border=\"1\" class=\"dataframe\">\n  <thead>\n    <tr style=\"text-align: right;\">\n      <th></th>\n      <th>Overall Qual</th>\n      <th>Gr Liv Area</th>\n      <th>Exter Qual</th>\n      <th>Garage Cars</th>\n      <th>Garage Area</th>\n      <th>Kitchen Qual</th>\n      <th>Total Bsmt SF</th>\n      <th>1st Flr SF</th>\n      <th>Bsmt Qual</th>\n      <th>Full Bath</th>\n      <th>Year Built</th>\n      <th>Year Remod/Add</th>\n      <th>Garage Yr Blt</th>\n    </tr>\n  </thead>\n  <tbody>\n    <tr>\n      <th>0</th>\n      <td>9</td>\n      <td>1800</td>\n      <td>2</td>\n      <td>2</td>\n      <td>702</td>\n      <td>0</td>\n      <td>1800</td>\n      <td>1800</td>\n      <td>0</td>\n      <td>2</td>\n      <td>2007</td>\n      <td>2007</td>\n      <td>2007</td>\n    </tr>\n    <tr>\n      <th>1</th>\n      <td>6</td>\n      <td>1082</td>\n      <td>3</td>\n      <td>1</td>\n      <td>240</td>\n      <td>4</td>\n      <td>1082</td>\n      <td>1082</td>\n      <td>4</td>\n      <td>1</td>\n      <td>1948</td>\n      <td>1950</td>\n      <td>1948</td>\n    </tr>\n    <tr>\n      <th>2</th>\n      <td>6</td>\n      <td>1573</td>\n      <td>2</td>\n      <td>2</td>\n      <td>440</td>\n      <td>2</td>\n      <td>756</td>\n      <td>769</td>\n      <td>2</td>\n      <td>2</td>\n      <td>2000</td>\n      <td>2000</td>\n      <td>2000</td>\n    </tr>\n    <tr>\n      <th>3</th>\n      <td>6</td>\n      <td>2443</td>\n      <td>2</td>\n      <td>3</td>\n      <td>744</td>\n      <td>2</td>\n      <td>1158</td>\n      <td>1158</td>\n      <td>2</td>\n      <td>2</td>\n      <td>2004</td>\n      <td>2004</td>\n      <td>2004</td>\n    </tr>\n    <tr>\n      <th>4</th>\n      <td>5</td>\n      <td>1040</td>\n      <td>3</td>\n      <td>2</td>\n      <td>686</td>\n      <td>4</td>\n      <td>1040</td>\n      <td>1040</td>\n      <td>4</td>\n      <td>1</td>\n      <td>1968</td>\n      <td>1968</td>\n      <td>1991</td>\n    </tr>\n    <tr>\n      <th>...</th>\n      <td>...</td>\n      <td>...</td>\n      <td>...</td>\n      <td>...</td>\n      <td>...</td>\n      <td>...</td>\n      <td>...</td>\n      <td>...</td>\n      <td>...</td>\n      <td>...</td>\n      <td>...</td>\n      <td>...</td>\n      <td>...</td>\n    </tr>\n    <tr>\n      <th>1345</th>\n      <td>8</td>\n      <td>1932</td>\n      <td>0</td>\n      <td>3</td>\n      <td>774</td>\n      <td>0</td>\n      <td>1932</td>\n      <td>1932</td>\n      <td>0</td>\n      <td>2</td>\n      <td>2008</td>\n      <td>2008</td>\n      <td>2008</td>\n    </tr>\n    <tr>\n      <th>1346</th>\n      <td>5</td>\n      <td>912</td>\n      <td>3</td>\n      <td>1</td>\n      <td>288</td>\n      <td>4</td>\n      <td>912</td>\n      <td>912</td>\n      <td>4</td>\n      <td>1</td>\n      <td>1964</td>\n      <td>1964</td>\n      <td>1964</td>\n    </tr>\n    <tr>\n      <th>1347</th>\n      <td>4</td>\n      <td>861</td>\n      <td>3</td>\n      <td>2</td>\n      <td>288</td>\n      <td>4</td>\n      <td>861</td>\n      <td>861</td>\n      <td>1</td>\n      <td>1</td>\n      <td>1920</td>\n      <td>1950</td>\n      <td>1920</td>\n    </tr>\n    <tr>\n      <th>1348</th>\n      <td>5</td>\n      <td>1430</td>\n      <td>3</td>\n      <td>2</td>\n      <td>624</td>\n      <td>2</td>\n      <td>1430</td>\n      <td>1430</td>\n      <td>0</td>\n      <td>2</td>\n      <td>2004</td>\n      <td>2005</td>\n      <td>2004</td>\n    </tr>\n    <tr>\n      <th>1349</th>\n      <td>5</td>\n      <td>2337</td>\n      <td>3</td>\n      <td>2</td>\n      <td>560</td>\n      <td>4</td>\n      <td>662</td>\n      <td>1422</td>\n      <td>4</td>\n      <td>2</td>\n      <td>1900</td>\n      <td>1950</td>\n      <td>1945</td>\n    </tr>\n  </tbody>\n</table>\n<p>1350 rows × 13 columns</p>\n</div>"
     },
     "execution_count": 39,
     "metadata": {},
     "output_type": "execute_result"
    }
   ],
   "source": [
    "test_le = test.copy()\n",
    "label_encoder(test_le)"
   ],
   "metadata": {
    "collapsed": false,
    "pycharm": {
     "name": "#%%\n"
    }
   }
  },
  {
   "cell_type": "code",
   "execution_count": 40,
   "outputs": [
    {
     "name": "stdout",
     "output_type": "stream",
     "text": [
      "<class 'pandas.core.frame.DataFrame'>\n",
      "RangeIndex: 1350 entries, 0 to 1349\n",
      "Data columns (total 13 columns):\n",
      " #   Column          Non-Null Count  Dtype\n",
      "---  ------          --------------  -----\n",
      " 0   Overall Qual    1350 non-null   int64\n",
      " 1   Gr Liv Area     1350 non-null   int64\n",
      " 2   Exter Qual      1350 non-null   int32\n",
      " 3   Garage Cars     1350 non-null   int64\n",
      " 4   Garage Area     1350 non-null   int64\n",
      " 5   Kitchen Qual    1350 non-null   int32\n",
      " 6   Total Bsmt SF   1350 non-null   int64\n",
      " 7   1st Flr SF      1350 non-null   int64\n",
      " 8   Bsmt Qual       1350 non-null   int32\n",
      " 9   Full Bath       1350 non-null   int64\n",
      " 10  Year Built      1350 non-null   int64\n",
      " 11  Year Remod/Add  1350 non-null   int64\n",
      " 12  Garage Yr Blt   1350 non-null   int64\n",
      "dtypes: int32(3), int64(10)\n",
      "memory usage: 121.4 KB\n"
     ]
    }
   ],
   "source": [
    "test_le.info()"
   ],
   "metadata": {
    "collapsed": false,
    "pycharm": {
     "name": "#%%\n"
    }
   }
  },
  {
   "cell_type": "code",
   "execution_count": 41,
   "outputs": [
    {
     "name": "stdout",
     "output_type": "stream",
     "text": [
      "Features shape : (1350, 5)\n"
     ]
    },
    {
     "data": {
      "text/plain": "PolynomialFeatures()"
     },
     "execution_count": 41,
     "metadata": {},
     "output_type": "execute_result"
    }
   ],
   "source": [
    "poly_cols = ['Overall Qual', 'Gr Liv Area', 'Total Bsmt SF', '1st Flr SF', 'Garage Area']\n",
    "poly_features = test[poly_cols]\n",
    "print('Features shape :', poly_features.shape)\n",
    "poly_transformer = PolynomialFeatures(degree=2)\n",
    "poly_transformer.fit(poly_features)"
   ],
   "metadata": {
    "collapsed": false,
    "pycharm": {
     "name": "#%%\n"
    }
   }
  },
  {
   "cell_type": "code",
   "execution_count": 42,
   "outputs": [
    {
     "name": "stdout",
     "output_type": "stream",
     "text": [
      "Polynomial Features shape : (1350, 21)\n"
     ]
    }
   ],
   "source": [
    "poly_features = poly_transformer.transform(poly_features)\n",
    "print('Polynomial Features shape :', poly_features.shape)"
   ],
   "metadata": {
    "collapsed": false,
    "pycharm": {
     "name": "#%%\n"
    }
   }
  },
  {
   "cell_type": "code",
   "execution_count": 43,
   "outputs": [],
   "source": [
    "poly_features = pd.DataFrame(poly_features,\n",
    "                             columns=poly_transformer.get_feature_names(poly_cols))\n",
    "test_poly = poly_features[['Overall Qual', 'Gr Liv Area', 'Total Bsmt SF',\n",
    "                            '1st Flr SF','Garage Area', 'Overall Qual^2',\n",
    "                            'Overall Qual Gr Liv Area','Overall Qual Total Bsmt SF',\n",
    "                            'Overall Qual 1st Flr SF', 'Overall Qual Garage Area',\n",
    "                            'Gr Liv Area^2', 'Gr Liv Area Total Bsmt SF',\n",
    "                            'Gr Liv Area 1st Flr SF', 'Gr Liv Area Garage Area',\n",
    "                            'Total Bsmt SF^2', 'Total Bsmt SF 1st Flr SF',\n",
    "                            'Total Bsmt SF Garage Area', '1st Flr SF^2',\n",
    "                            '1st Flr SF Garage Area', 'Garage Area^2']]"
   ],
   "metadata": {
    "collapsed": false,
    "pycharm": {
     "name": "#%%\n"
    }
   }
  },
  {
   "cell_type": "code",
   "execution_count": 44,
   "outputs": [],
   "source": [
    "test_all = pd.concat([test_le, test_poly], axis=1)"
   ],
   "metadata": {
    "collapsed": false,
    "pycharm": {
     "name": "#%%\n"
    }
   }
  },
  {
   "cell_type": "code",
   "execution_count": 45,
   "outputs": [
    {
     "data": {
      "text/plain": "(1350, 33)"
     },
     "execution_count": 45,
     "metadata": {},
     "output_type": "execute_result"
    }
   ],
   "source": [
    "test_all.shape"
   ],
   "metadata": {
    "collapsed": false,
    "pycharm": {
     "name": "#%%\n"
    }
   }
  },
  {
   "cell_type": "markdown",
   "source": [
    "# Prediction\n",
    "## XGBRegressor"
   ],
   "metadata": {
    "collapsed": false,
    "pycharm": {
     "name": "#%% md\n"
    }
   }
  },
  {
   "cell_type": "code",
   "execution_count": 46,
   "outputs": [
    {
     "name": "stdout",
     "output_type": "stream",
     "text": [
      "[18:27:16] WARNING: C:/Users/Administrator/workspace/xgboost-win64_release_1.5.1/src/learner.cc:576: \n",
      "Parameters: { \"aplha\" } might not be used.\n",
      "\n",
      "  This could be a false alarm, with some parameters getting used by language bindings but\n",
      "  then being mistakenly passed down to XGBoost core, or some parameter actually being used\n",
      "  but getting flagged wrongly here. Please open an issue if you find any such cases.\n",
      "\n",
      "\n"
     ]
    }
   ],
   "source": [
    "xgb_model = XGBRegressor(**xgb_trial_params)\n",
    "xgb_model.fit(X, y)\n",
    "xgb_model_pred = xgb_model.predict(test_all)"
   ],
   "metadata": {
    "collapsed": false,
    "pycharm": {
     "name": "#%%\n"
    }
   }
  },
  {
   "cell_type": "markdown",
   "source": [
    "## LGBMRegressor"
   ],
   "metadata": {
    "collapsed": false,
    "pycharm": {
     "name": "#%% md\n"
    }
   }
  },
  {
   "cell_type": "code",
   "execution_count": 47,
   "outputs": [
    {
     "name": "stdout",
     "output_type": "stream",
     "text": [
      "[LightGBM] [Warning] lambda_l2 is set with reg_lambda=0.0, will be overridden by lambda=6.211700629526126. Current value: lambda_l2=6.211700629526126\n",
      "[LightGBM] [Warning] Unknown parameter: aplha\n"
     ]
    }
   ],
   "source": [
    "lgbm_model = LGBMRegressor(**lgbm_trial_params)\n",
    "lgbm_model.fit(X, y)\n",
    "lgbm_model_pred = lgbm_model.predict(test_all)"
   ],
   "metadata": {
    "collapsed": false,
    "pycharm": {
     "name": "#%%\n"
    }
   }
  },
  {
   "cell_type": "markdown",
   "source": [
    "## Ensemble"
   ],
   "metadata": {
    "collapsed": false,
    "pycharm": {
     "name": "#%% md\n"
    }
   }
  },
  {
   "cell_type": "code",
   "execution_count": 48,
   "outputs": [],
   "source": [
    "ensemble_pred = np.expm1((xgb_model_pred + lgbm_model_pred) / 2)"
   ],
   "metadata": {
    "collapsed": false,
    "pycharm": {
     "name": "#%%\n"
    }
   }
  },
  {
   "cell_type": "code",
   "execution_count": 49,
   "outputs": [
    {
     "data": {
      "text/plain": "   id  target\n0   1       0\n1   2       0\n2   3       0\n3   4       0\n4   5       0",
      "text/html": "<div>\n<style scoped>\n    .dataframe tbody tr th:only-of-type {\n        vertical-align: middle;\n    }\n\n    .dataframe tbody tr th {\n        vertical-align: top;\n    }\n\n    .dataframe thead th {\n        text-align: right;\n    }\n</style>\n<table border=\"1\" class=\"dataframe\">\n  <thead>\n    <tr style=\"text-align: right;\">\n      <th></th>\n      <th>id</th>\n      <th>target</th>\n    </tr>\n  </thead>\n  <tbody>\n    <tr>\n      <th>0</th>\n      <td>1</td>\n      <td>0</td>\n    </tr>\n    <tr>\n      <th>1</th>\n      <td>2</td>\n      <td>0</td>\n    </tr>\n    <tr>\n      <th>2</th>\n      <td>3</td>\n      <td>0</td>\n    </tr>\n    <tr>\n      <th>3</th>\n      <td>4</td>\n      <td>0</td>\n    </tr>\n    <tr>\n      <th>4</th>\n      <td>5</td>\n      <td>0</td>\n    </tr>\n  </tbody>\n</table>\n</div>"
     },
     "execution_count": 49,
     "metadata": {},
     "output_type": "execute_result"
    }
   ],
   "source": [
    "submission = pd.read_csv('./input/sample_submission.csv')\n",
    "submission.head()"
   ],
   "metadata": {
    "collapsed": false,
    "pycharm": {
     "name": "#%%\n"
    }
   }
  },
  {
   "cell_type": "code",
   "execution_count": 50,
   "outputs": [],
   "source": [
    "submission['target'] = ensemble_pred"
   ],
   "metadata": {
    "collapsed": false,
    "pycharm": {
     "name": "#%%\n"
    }
   }
  },
  {
   "cell_type": "code",
   "execution_count": 51,
   "outputs": [
    {
     "data": {
      "text/plain": "        id         target\n0        1  339874.703341\n1        2  126999.507142\n2        3  177169.655554\n3        4  239097.539320\n4        5  129409.804785\n...    ...            ...\n1345  1346  306647.273785\n1346  1347  126898.066362\n1347  1348   93395.888286\n1348  1349  188424.667349\n1349  1350  155505.785751\n\n[1350 rows x 2 columns]",
      "text/html": "<div>\n<style scoped>\n    .dataframe tbody tr th:only-of-type {\n        vertical-align: middle;\n    }\n\n    .dataframe tbody tr th {\n        vertical-align: top;\n    }\n\n    .dataframe thead th {\n        text-align: right;\n    }\n</style>\n<table border=\"1\" class=\"dataframe\">\n  <thead>\n    <tr style=\"text-align: right;\">\n      <th></th>\n      <th>id</th>\n      <th>target</th>\n    </tr>\n  </thead>\n  <tbody>\n    <tr>\n      <th>0</th>\n      <td>1</td>\n      <td>339874.703341</td>\n    </tr>\n    <tr>\n      <th>1</th>\n      <td>2</td>\n      <td>126999.507142</td>\n    </tr>\n    <tr>\n      <th>2</th>\n      <td>3</td>\n      <td>177169.655554</td>\n    </tr>\n    <tr>\n      <th>3</th>\n      <td>4</td>\n      <td>239097.539320</td>\n    </tr>\n    <tr>\n      <th>4</th>\n      <td>5</td>\n      <td>129409.804785</td>\n    </tr>\n    <tr>\n      <th>...</th>\n      <td>...</td>\n      <td>...</td>\n    </tr>\n    <tr>\n      <th>1345</th>\n      <td>1346</td>\n      <td>306647.273785</td>\n    </tr>\n    <tr>\n      <th>1346</th>\n      <td>1347</td>\n      <td>126898.066362</td>\n    </tr>\n    <tr>\n      <th>1347</th>\n      <td>1348</td>\n      <td>93395.888286</td>\n    </tr>\n    <tr>\n      <th>1348</th>\n      <td>1349</td>\n      <td>188424.667349</td>\n    </tr>\n    <tr>\n      <th>1349</th>\n      <td>1350</td>\n      <td>155505.785751</td>\n    </tr>\n  </tbody>\n</table>\n<p>1350 rows × 2 columns</p>\n</div>"
     },
     "execution_count": 51,
     "metadata": {},
     "output_type": "execute_result"
    }
   ],
   "source": [
    "submission"
   ],
   "metadata": {
    "collapsed": false,
    "pycharm": {
     "name": "#%%\n"
    }
   }
  },
  {
   "cell_type": "code",
   "execution_count": 52,
   "outputs": [
    {
     "data": {
      "text/plain": "(1350, 2)"
     },
     "execution_count": 52,
     "metadata": {},
     "output_type": "execute_result"
    }
   ],
   "source": [
    "submission.shape"
   ],
   "metadata": {
    "collapsed": false,
    "pycharm": {
     "name": "#%%\n"
    }
   }
  },
  {
   "cell_type": "code",
   "execution_count": 53,
   "outputs": [],
   "source": [
    "submission.to_csv('submission.csv', index=False)"
   ],
   "metadata": {
    "collapsed": false,
    "pycharm": {
     "name": "#%%\n"
    }
   }
  }
 ],
 "metadata": {
  "kernelspec": {
   "display_name": "Python 3",
   "language": "python",
   "name": "python3"
  },
  "language_info": {
   "codemirror_mode": {
    "name": "ipython",
    "version": 2
   },
   "file_extension": ".py",
   "mimetype": "text/x-python",
   "name": "python",
   "nbconvert_exporter": "python",
   "pygments_lexer": "ipython2",
   "version": "2.7.6"
  }
 },
 "nbformat": 4,
 "nbformat_minor": 0
}